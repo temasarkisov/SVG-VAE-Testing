{
  "nbformat": 4,
  "nbformat_minor": 0,
  "metadata": {
    "colab": {
      "name": "sampling-from-svg-vae-aparrish",
      "provenance": [],
      "collapsed_sections": [],
      "toc_visible": true
    },
    "kernelspec": {
      "name": "python3",
      "display_name": "Python 3"
    }
  },
  "cells": [
    {
      "cell_type": "markdown",
      "metadata": {
        "id": "9XsrXQ5hD6mQ"
      },
      "source": [
        "# Sampling from SVG VAE\n",
        "\n",
        "This is a quick notebook I ([Allison Parrish](http://www.decontextualize.com/) made in order to sample glyphs from [SVG VAE](https://magenta.tensorflow.org/svg-vae), a generative model for scalable vector graphics programmed and trained by [Rapha Gontijo Lopes](https://raphagl.com/). ([Read the paper](https://arxiv.org/abs/1904.02632).)\n",
        "\n",
        "The code is largely based on [the example notebook](https://github.com/magenta/magenta-demos/blob/master/colab-notebooks/vae_svg_decoding.ipynb) included in the Magenta repository, with a few tweaks I made in order to make the code and content compatible with the tutorials in a class I'm teaching at [NYU ITP]() called [Material of Language](https://github.com/aparrish/material-of-language/).\n",
        "\n",
        "In this notebook, I'm only demonstrating the model's ability to generate \"fonts\" (i.e., sets of glyphs), and to generate interpolations between different fonts. My goal was to make it possible for someone without a lot of knowledge about programming or machine learning to step through the notebook, play around with the code a bit, and produce something interesting.\n",
        "\n",
        "This is a Google Colab notebook. I don't usually like using Google Colab, but I also don't want to have to help all of my students install all of the finicky dependencies on their own computers. So here we are.\n",
        "\n",
        "> Note for my students: Colab notebooks don't run on your own computer—they run on a computer that Google provides to you for free for a few hours. If the notebook is inactive for a while, the system deletes the machine—and your work. The notebook file itself is saved to Google Drive, but any files that you save will be deleted when the machine is recycled. Also note that you'll need to *redownload data and re-install packages* whenever you open the notebook (if the machine has timed out since the last time you used it). \n",
        "\n",
        "For a quick explanation of how the model works and its architecture, I recommend reading [the clear and concise blog post](https://magenta.tensorflow.org/svg-vae) that the authors wrote about the model for Magenta."
      ]
    },
    {
      "cell_type": "markdown",
      "metadata": {
        "id": "JBvIrN0dYfN3"
      },
      "source": [
        "## Download the model and associated data\n",
        "\n",
        "Before we get started programming, we need to download the pre-trained model. The authors made this available online; run the cell below to download it:"
      ]
    },
    {
      "cell_type": "code",
      "metadata": {
        "id": "uB_UeVCSxOXc",
        "colab": {
          "base_uri": "https://localhost:8080/",
          "height": 69
        },
        "outputId": "ccfe1e94-ce8c-4e72-b09d-09db89253022"
      },
      "source": [
        "!curl -L -O https://storage.googleapis.com/magentadata/models/svg_vae/svg_vae.tar.gz"
      ],
      "execution_count": null,
      "outputs": [
        {
          "output_type": "stream",
          "text": [
            "  % Total    % Received % Xferd  Average Speed   Time    Time     Time  Current\n",
            "                                 Dload  Upload   Total   Spent    Left  Speed\n",
            "100  776M  100  776M    0     0  90.6M      0  0:00:08  0:00:08 --:--:-- 95.1M\n"
          ],
          "name": "stdout"
        }
      ]
    },
    {
      "cell_type": "markdown",
      "metadata": {
        "id": "ngEAlpotIHw2"
      },
      "source": [
        "The models are stored in a gzipped tar file—uncompress it by running the cell below:"
      ]
    },
    {
      "cell_type": "code",
      "metadata": {
        "id": "7KCole4nxWbx",
        "colab": {
          "base_uri": "https://localhost:8080/",
          "height": 451
        },
        "outputId": "3caa9418-ac17-4ea6-83ad-5e116ef4c071"
      },
      "source": [
        "!tar xvfz svg_vae.tar.gz"
      ],
      "execution_count": null,
      "outputs": [
        {
          "output_type": "stream",
          "text": [
            "usr/local/google/home/iraphael/dev/svg_vae/\n",
            "usr/local/google/home/iraphael/dev/svg_vae/svg_decoder_internal/\n",
            "usr/local/google/home/iraphael/dev/svg_vae/svg_decoder_internal/model.ckpt-300000.data-00000-of-00002\n",
            "usr/local/google/home/iraphael/dev/svg_vae/svg_decoder_internal/checkpoint\n",
            "usr/local/google/home/iraphael/dev/svg_vae/svg_decoder_internal/model.ckpt-300000.data-00001-of-00002\n",
            "usr/local/google/home/iraphael/dev/svg_vae/svg_decoder_internal/model.ckpt-300000.meta\n",
            "usr/local/google/home/iraphael/dev/svg_vae/svg_decoder_internal/model.ckpt-300000.index\n",
            "usr/local/google/home/iraphael/dev/svg_vae/image_vae_internal/\n",
            "usr/local/google/home/iraphael/dev/svg_vae/image_vae_internal/model.ckpt-100000.meta\n",
            "usr/local/google/home/iraphael/dev/svg_vae/image_vae_internal/model.ckpt-100000.data-00000-of-00002\n",
            "usr/local/google/home/iraphael/dev/svg_vae/image_vae_internal/model.ckpt-100000.data-00001-of-00002\n",
            "usr/local/google/home/iraphael/dev/svg_vae/image_vae_internal/checkpoint\n",
            "usr/local/google/home/iraphael/dev/svg_vae/image_vae_internal/model.ckpt-100000.index\n",
            "usr/local/google/home/iraphael/dev/svg_vae/image_vae_external/\n",
            "usr/local/google/home/iraphael/dev/svg_vae/image_vae_external/model.ckpt-100000.meta\n",
            "usr/local/google/home/iraphael/dev/svg_vae/image_vae_external/model.ckpt-100000.data-00000-of-00002\n",
            "usr/local/google/home/iraphael/dev/svg_vae/image_vae_external/model.ckpt-100000.data-00001-of-00002\n",
            "usr/local/google/home/iraphael/dev/svg_vae/image_vae_external/checkpoint\n",
            "usr/local/google/home/iraphael/dev/svg_vae/image_vae_external/model.ckpt-100000.index\n",
            "usr/local/google/home/iraphael/dev/svg_vae/svg_decoder_external/\n",
            "usr/local/google/home/iraphael/dev/svg_vae/svg_decoder_external/model.ckpt-300000.data-00000-of-00002\n",
            "usr/local/google/home/iraphael/dev/svg_vae/svg_decoder_external/checkpoint\n",
            "usr/local/google/home/iraphael/dev/svg_vae/svg_decoder_external/model.ckpt-300000.data-00001-of-00002\n",
            "usr/local/google/home/iraphael/dev/svg_vae/svg_decoder_external/model.ckpt-300000.meta\n",
            "usr/local/google/home/iraphael/dev/svg_vae/svg_decoder_external/model.ckpt-300000.index\n"
          ],
          "name": "stdout"
        }
      ]
    },
    {
      "cell_type": "markdown",
      "metadata": {
        "id": "oCfJUJhiIRT-"
      },
      "source": [
        "You'll also need the following two files, which are used to \"un-normalize\" the SVG paths that come out of the model. (Thanks to Rapha for giving me access to these files!)"
      ]
    },
    {
      "cell_type": "code",
      "metadata": {
        "id": "SCnlHRR0YFQv",
        "colab": {
          "base_uri": "https://localhost:8080/",
          "height": 86
        },
        "outputId": "01c1f066-828b-472b-ec3c-c069aaeaef4d"
      },
      "source": [
        "!curl -L -O https://github.com/aparrish/material-of-language/raw/master/svg_vae_data/mean.npz"
      ],
      "execution_count": null,
      "outputs": [
        {
          "output_type": "stream",
          "text": [
            "  % Total    % Received % Xferd  Average Speed   Time    Time     Time  Current\n",
            "                                 Dload  Upload   Total   Spent    Left  Speed\n",
            "\r  0     0    0     0    0     0      0      0 --:--:-- --:--:-- --:--:--     0\r100   158  100   158    0     0    793      0 --:--:-- --:--:-- --:--:--   793\n",
            "\r  0     0    0     0    0     0      0      0 --:--:-- --:--:-- --:--:--     0\r100   160  100   160    0     0    375      0 --:--:-- --:--:-- --:--:--  7619\n"
          ],
          "name": "stdout"
        }
      ]
    },
    {
      "cell_type": "code",
      "metadata": {
        "id": "Wsbmyz67YK0I",
        "colab": {
          "base_uri": "https://localhost:8080/",
          "height": 86
        },
        "outputId": "ab0ad796-e485-4bfd-eb24-29bd57cc5d60"
      },
      "source": [
        "!curl -L -O https://github.com/aparrish/material-of-language/raw/master/svg_vae_data/stdev.npz"
      ],
      "execution_count": null,
      "outputs": [
        {
          "output_type": "stream",
          "text": [
            "  % Total    % Received % Xferd  Average Speed   Time    Time     Time  Current\n",
            "                                 Dload  Upload   Total   Spent    Left  Speed\n",
            "\r  0     0    0     0    0     0      0      0 --:--:-- --:--:-- --:--:--     0\r100   159  100   159    0     0    836      0 --:--:-- --:--:-- --:--:--   836\n",
            "\r100   160  100   160    0     0    418      0 --:--:-- --:--:-- --:--:--   418\n"
          ],
          "name": "stdout"
        }
      ]
    },
    {
      "cell_type": "markdown",
      "metadata": {
        "id": "-6Rp2YJ1X81t"
      },
      "source": [
        "## Dependencies\n",
        "\n",
        "We need the `tensor2tensor` library and the `magenta` library. Hopefully both of these will install without trouble in Colab:"
      ]
    },
    {
      "cell_type": "code",
      "metadata": {
        "id": "QZ5ft3dDwKkF",
        "colab": {
          "base_uri": "https://localhost:8080/",
          "height": 1000
        },
        "outputId": "761ee388-38b3-4dfe-819c-bcab6216efd1"
      },
      "source": [
        "!pip install tensor2tensor==1.14.1"
      ],
      "execution_count": null,
      "outputs": [
        {
          "output_type": "stream",
          "text": [
            "Collecting tensor2tensor==1.14.1\n",
            "\u001b[?25l  Downloading https://files.pythonhosted.org/packages/20/eb/7159c5a12880c496893a5bf7242c23fdb4eed47ade683d111f2f2d4009b4/tensor2tensor-1.14.1-py2.py3-none-any.whl (1.6MB)\n",
            "\u001b[K     |████████████████████████████████| 1.6MB 4.9MB/s \n",
            "\u001b[?25hRequirement already satisfied: gin-config in /usr/local/lib/python3.6/dist-packages (from tensor2tensor==1.14.1) (0.3.0)\n",
            "Requirement already satisfied: scipy in /usr/local/lib/python3.6/dist-packages (from tensor2tensor==1.14.1) (1.4.1)\n",
            "Requirement already satisfied: gym in /usr/local/lib/python3.6/dist-packages (from tensor2tensor==1.14.1) (0.17.2)\n",
            "Requirement already satisfied: google-api-python-client in /usr/local/lib/python3.6/dist-packages (from tensor2tensor==1.14.1) (1.7.12)\n",
            "Requirement already satisfied: six in /usr/local/lib/python3.6/dist-packages (from tensor2tensor==1.14.1) (1.15.0)\n",
            "Requirement already satisfied: tensorflow-datasets in /usr/local/lib/python3.6/dist-packages (from tensor2tensor==1.14.1) (2.1.0)\n",
            "Requirement already satisfied: Pillow in /usr/local/lib/python3.6/dist-packages (from tensor2tensor==1.14.1) (7.0.0)\n",
            "Requirement already satisfied: dopamine-rl in /usr/local/lib/python3.6/dist-packages (from tensor2tensor==1.14.1) (1.0.5)\n",
            "Requirement already satisfied: numpy in /usr/local/lib/python3.6/dist-packages (from tensor2tensor==1.14.1) (1.18.5)\n",
            "Requirement already satisfied: future in /usr/local/lib/python3.6/dist-packages (from tensor2tensor==1.14.1) (0.16.0)\n",
            "Requirement already satisfied: requests in /usr/local/lib/python3.6/dist-packages (from tensor2tensor==1.14.1) (2.23.0)\n",
            "Requirement already satisfied: sympy in /usr/local/lib/python3.6/dist-packages (from tensor2tensor==1.14.1) (1.1.1)\n",
            "Requirement already satisfied: tqdm in /usr/local/lib/python3.6/dist-packages (from tensor2tensor==1.14.1) (4.41.1)\n",
            "Collecting mesh-tensorflow\n",
            "\u001b[?25l  Downloading https://files.pythonhosted.org/packages/52/6b/d01247d9a9b49389599a28e17782ec1d3d45413cedbfe8e90aad46835329/mesh_tensorflow-0.1.16-py3-none-any.whl (305kB)\n",
            "\u001b[K     |████████████████████████████████| 307kB 30.8MB/s \n",
            "\u001b[?25hCollecting gevent\n",
            "\u001b[?25l  Downloading https://files.pythonhosted.org/packages/05/18/3932900a42d7010cc63529fc5cb7a5a20fb61878d1721d0d4387567d5973/gevent-20.6.2-cp36-cp36m-manylinux2010_x86_64.whl (5.3MB)\n",
            "\u001b[K     |████████████████████████████████| 5.3MB 30.0MB/s \n",
            "\u001b[?25hRequirement already satisfied: h5py in /usr/local/lib/python3.6/dist-packages (from tensor2tensor==1.14.1) (2.10.0)\n",
            "Collecting pypng\n",
            "\u001b[?25l  Downloading https://files.pythonhosted.org/packages/bc/fb/f719f1ac965e2101aa6ea6f54ef8b40f8fbb033f6ad07c017663467f5147/pypng-0.0.20.tar.gz (649kB)\n",
            "\u001b[K     |████████████████████████████████| 655kB 46.7MB/s \n",
            "\u001b[?25hCollecting kfac\n",
            "\u001b[?25l  Downloading https://files.pythonhosted.org/packages/01/f0/4a7758f854a15b37d322827123ce58619d0f4270dd94f2dd30328f397339/kfac-0.2.0-py2.py3-none-any.whl (178kB)\n",
            "\u001b[K     |████████████████████████████████| 184kB 43.7MB/s \n",
            "\u001b[?25hRequirement already satisfied: opencv-python in /usr/local/lib/python3.6/dist-packages (from tensor2tensor==1.14.1) (4.1.2.30)\n",
            "Collecting gunicorn\n",
            "\u001b[?25l  Downloading https://files.pythonhosted.org/packages/69/ca/926f7cd3a2014b16870086b2d0fdc84a9e49473c68a8dff8b57f7c156f43/gunicorn-20.0.4-py2.py3-none-any.whl (77kB)\n",
            "\u001b[K     |████████████████████████████████| 81kB 8.8MB/s \n",
            "\u001b[?25hRequirement already satisfied: oauth2client in /usr/local/lib/python3.6/dist-packages (from tensor2tensor==1.14.1) (4.1.3)\n",
            "Requirement already satisfied: flask in /usr/local/lib/python3.6/dist-packages (from tensor2tensor==1.14.1) (1.1.2)\n",
            "Collecting bz2file\n",
            "  Downloading https://files.pythonhosted.org/packages/61/39/122222b5e85cd41c391b68a99ee296584b2a2d1d233e7ee32b4532384f2d/bz2file-0.98.tar.gz\n",
            "Collecting tensorflow-gan\n",
            "\u001b[?25l  Downloading https://files.pythonhosted.org/packages/0c/2e/62922111d7d50e1900e3030764743ea7735540ce103b3ab30fd5cd2d8a2b/tensorflow_gan-2.0.0-py2.py3-none-any.whl (365kB)\n",
            "\u001b[K     |████████████████████████████████| 368kB 36.5MB/s \n",
            "\u001b[?25hCollecting tensorflow-probability==0.7.0\n",
            "\u001b[?25l  Downloading https://files.pythonhosted.org/packages/3e/3a/c10b6c22320531c774402ac7186d1b673374e2a9d12502cbc8d811e4601c/tensorflow_probability-0.7.0-py2.py3-none-any.whl (981kB)\n",
            "\u001b[K     |████████████████████████████████| 983kB 45.2MB/s \n",
            "\u001b[?25hRequirement already satisfied: pyglet<=1.5.0,>=1.4.0 in /usr/local/lib/python3.6/dist-packages (from gym->tensor2tensor==1.14.1) (1.5.0)\n",
            "Requirement already satisfied: cloudpickle<1.4.0,>=1.2.0 in /usr/local/lib/python3.6/dist-packages (from gym->tensor2tensor==1.14.1) (1.3.0)\n",
            "Requirement already satisfied: httplib2<1dev,>=0.17.0 in /usr/local/lib/python3.6/dist-packages (from google-api-python-client->tensor2tensor==1.14.1) (0.17.4)\n",
            "Requirement already satisfied: uritemplate<4dev,>=3.0.0 in /usr/local/lib/python3.6/dist-packages (from google-api-python-client->tensor2tensor==1.14.1) (3.0.1)\n",
            "Requirement already satisfied: google-auth-httplib2>=0.0.3 in /usr/local/lib/python3.6/dist-packages (from google-api-python-client->tensor2tensor==1.14.1) (0.0.4)\n",
            "Requirement already satisfied: google-auth>=1.4.1 in /usr/local/lib/python3.6/dist-packages (from google-api-python-client->tensor2tensor==1.14.1) (1.17.2)\n",
            "Requirement already satisfied: dill in /usr/local/lib/python3.6/dist-packages (from tensorflow-datasets->tensor2tensor==1.14.1) (0.3.2)\n",
            "Requirement already satisfied: promise in /usr/local/lib/python3.6/dist-packages (from tensorflow-datasets->tensor2tensor==1.14.1) (2.3)\n",
            "Requirement already satisfied: absl-py in /usr/local/lib/python3.6/dist-packages (from tensorflow-datasets->tensor2tensor==1.14.1) (0.9.0)\n",
            "Requirement already satisfied: protobuf>=3.6.1 in /usr/local/lib/python3.6/dist-packages (from tensorflow-datasets->tensor2tensor==1.14.1) (3.12.4)\n",
            "Requirement already satisfied: termcolor in /usr/local/lib/python3.6/dist-packages (from tensorflow-datasets->tensor2tensor==1.14.1) (1.1.0)\n",
            "Requirement already satisfied: tensorflow-metadata in /usr/local/lib/python3.6/dist-packages (from tensorflow-datasets->tensor2tensor==1.14.1) (0.22.2)\n",
            "Requirement already satisfied: attrs>=18.1.0 in /usr/local/lib/python3.6/dist-packages (from tensorflow-datasets->tensor2tensor==1.14.1) (19.3.0)\n",
            "Requirement already satisfied: wrapt in /usr/local/lib/python3.6/dist-packages (from tensorflow-datasets->tensor2tensor==1.14.1) (1.12.1)\n",
            "Requirement already satisfied: urllib3!=1.25.0,!=1.25.1,<1.26,>=1.21.1 in /usr/local/lib/python3.6/dist-packages (from requests->tensor2tensor==1.14.1) (1.24.3)\n",
            "Requirement already satisfied: idna<3,>=2.5 in /usr/local/lib/python3.6/dist-packages (from requests->tensor2tensor==1.14.1) (2.10)\n",
            "Requirement already satisfied: certifi>=2017.4.17 in /usr/local/lib/python3.6/dist-packages (from requests->tensor2tensor==1.14.1) (2020.6.20)\n",
            "Requirement already satisfied: chardet<4,>=3.0.2 in /usr/local/lib/python3.6/dist-packages (from requests->tensor2tensor==1.14.1) (3.0.4)\n",
            "Requirement already satisfied: mpmath>=0.19 in /usr/local/lib/python3.6/dist-packages (from sympy->tensor2tensor==1.14.1) (1.1.0)\n",
            "Collecting greenlet>=0.4.16; platform_python_implementation == \"CPython\"\n",
            "\u001b[?25l  Downloading https://files.pythonhosted.org/packages/7e/a4/0d8685c98986326534b0753a8b92b3082bc9df42b348bc50d6c69839c9f9/greenlet-0.4.16-cp36-cp36m-manylinux1_x86_64.whl (44kB)\n",
            "\u001b[K     |████████████████████████████████| 51kB 6.1MB/s \n",
            "\u001b[?25hRequirement already satisfied: setuptools in /usr/local/lib/python3.6/dist-packages (from gevent->tensor2tensor==1.14.1) (49.2.0)\n",
            "Collecting zope.event\n",
            "  Downloading https://files.pythonhosted.org/packages/c5/96/361edb421a077a4c208b4a5c212737d78ae03ce67fbbcd01621c49f332d1/zope.event-4.4-py2.py3-none-any.whl\n",
            "Collecting zope.interface\n",
            "\u001b[?25l  Downloading https://files.pythonhosted.org/packages/57/33/565274c28a11af60b7cfc0519d46bde4125fcd7d32ebc0a81b480d0e8da6/zope.interface-5.1.0-cp36-cp36m-manylinux2010_x86_64.whl (234kB)\n",
            "\u001b[K     |████████████████████████████████| 235kB 43.9MB/s \n",
            "\u001b[?25hRequirement already satisfied: pyasn1>=0.1.7 in /usr/local/lib/python3.6/dist-packages (from oauth2client->tensor2tensor==1.14.1) (0.4.8)\n",
            "Requirement already satisfied: pyasn1-modules>=0.0.5 in /usr/local/lib/python3.6/dist-packages (from oauth2client->tensor2tensor==1.14.1) (0.2.8)\n",
            "Requirement already satisfied: rsa>=3.1.4 in /usr/local/lib/python3.6/dist-packages (from oauth2client->tensor2tensor==1.14.1) (4.6)\n",
            "Requirement already satisfied: Werkzeug>=0.15 in /usr/local/lib/python3.6/dist-packages (from flask->tensor2tensor==1.14.1) (1.0.1)\n",
            "Requirement already satisfied: itsdangerous>=0.24 in /usr/local/lib/python3.6/dist-packages (from flask->tensor2tensor==1.14.1) (1.1.0)\n",
            "Requirement already satisfied: Jinja2>=2.10.1 in /usr/local/lib/python3.6/dist-packages (from flask->tensor2tensor==1.14.1) (2.11.2)\n",
            "Requirement already satisfied: click>=5.1 in /usr/local/lib/python3.6/dist-packages (from flask->tensor2tensor==1.14.1) (7.1.2)\n",
            "Requirement already satisfied: tensorflow-hub>=0.2 in /usr/local/lib/python3.6/dist-packages (from tensorflow-gan->tensor2tensor==1.14.1) (0.8.0)\n",
            "Requirement already satisfied: decorator in /usr/local/lib/python3.6/dist-packages (from tensorflow-probability==0.7.0->tensor2tensor==1.14.1) (4.4.2)\n",
            "Requirement already satisfied: cachetools<5.0,>=2.0.0 in /usr/local/lib/python3.6/dist-packages (from google-auth>=1.4.1->google-api-python-client->tensor2tensor==1.14.1) (4.1.1)\n",
            "Requirement already satisfied: googleapis-common-protos in /usr/local/lib/python3.6/dist-packages (from tensorflow-metadata->tensorflow-datasets->tensor2tensor==1.14.1) (1.52.0)\n",
            "Requirement already satisfied: MarkupSafe>=0.23 in /usr/local/lib/python3.6/dist-packages (from Jinja2>=2.10.1->flask->tensor2tensor==1.14.1) (1.1.1)\n",
            "Building wheels for collected packages: pypng, bz2file\n",
            "  Building wheel for pypng (setup.py) ... \u001b[?25l\u001b[?25hdone\n",
            "  Created wheel for pypng: filename=pypng-0.0.20-cp36-none-any.whl size=67161 sha256=4e2ae25c1772a61a9a5879eafdb396d9c5f4c8cc2c00bcb24a218482684c1538\n",
            "  Stored in directory: /root/.cache/pip/wheels/41/6b/ef/0493b536b6d4722c2ae9486691b1d49b922b9877922beeabb3\n",
            "  Building wheel for bz2file (setup.py) ... \u001b[?25l\u001b[?25hdone\n",
            "  Created wheel for bz2file: filename=bz2file-0.98-cp36-none-any.whl size=6884 sha256=01daa803c687228f12ffdbaf70ac9cd3f108763cb1d46f47b12e9a47d28b6fb5\n",
            "  Stored in directory: /root/.cache/pip/wheels/81/75/d6/e1317bf09bf1af5a30befc2a007869fa6e1f516b8f7c591cb9\n",
            "Successfully built pypng bz2file\n",
            "Installing collected packages: mesh-tensorflow, greenlet, zope.event, zope.interface, gevent, pypng, tensorflow-probability, kfac, gunicorn, bz2file, tensorflow-gan, tensor2tensor\n",
            "  Found existing installation: tensorflow-probability 0.11.0\n",
            "    Uninstalling tensorflow-probability-0.11.0:\n",
            "      Successfully uninstalled tensorflow-probability-0.11.0\n",
            "Successfully installed bz2file-0.98 gevent-20.6.2 greenlet-0.4.16 gunicorn-20.0.4 kfac-0.2.0 mesh-tensorflow-0.1.16 pypng-0.0.20 tensor2tensor-1.14.1 tensorflow-gan-2.0.0 tensorflow-probability-0.7.0 zope.event-4.4 zope.interface-5.1.0\n"
          ],
          "name": "stdout"
        }
      ]
    },
    {
      "cell_type": "code",
      "metadata": {
        "id": "FpG0_LVuwSJ3",
        "colab": {
          "base_uri": "https://localhost:8080/",
          "height": 1000
        },
        "outputId": "9726e9ac-94ad-439b-809c-b431f01623a2"
      },
      "source": [
        "!pip install magenta==1.3.2"
      ],
      "execution_count": null,
      "outputs": [
        {
          "output_type": "stream",
          "text": [
            "Collecting magenta==1.3.2\n",
            "\u001b[?25l  Downloading https://files.pythonhosted.org/packages/d0/f3/69bb12d970ea53740b285b82c7a96b8ca290c93648e1fa679ff9f4db2e2c/magenta-1.3.2-py3-none-any.whl (1.6MB)\n",
            "\u001b[K     |████████████████████████████████| 1.6MB 4.1MB/s \n",
            "\u001b[?25hCollecting sk-video\n",
            "\u001b[?25l  Downloading https://files.pythonhosted.org/packages/dd/3f/ce848b8b2062ad1ccf1449094a740c775f6c761339f411e44f1e090f23a7/sk_video-1.1.10-py2.py3-none-any.whl (2.3MB)\n",
            "\u001b[K     |████████████████████████████████| 2.3MB 31.4MB/s \n",
            "\u001b[?25hRequirement already satisfied: IPython in /usr/local/lib/python3.6/dist-packages (from magenta==1.3.2) (5.5.0)\n",
            "Collecting apache-beam[gcp]>=2.14.0\n",
            "\u001b[?25l  Downloading https://files.pythonhosted.org/packages/56/f1/7fcfbff3d3eed7895f10b358844b6e8ed21b230666aabd09d842cd725363/apache_beam-2.23.0-cp36-cp36m-manylinux2010_x86_64.whl (8.3MB)\n",
            "\u001b[K     |████████████████████████████████| 8.3MB 35.5MB/s \n",
            "\u001b[?25hRequirement already satisfied: librosa>=0.6.2 in /usr/local/lib/python3.6/dist-packages (from magenta==1.3.2) (0.6.3)\n",
            "Requirement already satisfied: absl-py in /usr/local/lib/python3.6/dist-packages (from magenta==1.3.2) (0.9.0)\n",
            "Requirement already satisfied: scikit-image in /usr/local/lib/python3.6/dist-packages (from magenta==1.3.2) (0.16.2)\n",
            "Requirement already satisfied: pandas>=0.18.1 in /usr/local/lib/python3.6/dist-packages (from magenta==1.3.2) (1.0.5)\n",
            "Requirement already satisfied: Pillow>=3.4.2 in /usr/local/lib/python3.6/dist-packages (from magenta==1.3.2) (7.0.0)\n",
            "Collecting tensorflow<2.0.0,>=1.15.0\n",
            "\u001b[?25l  Downloading https://files.pythonhosted.org/packages/02/36/9a02e27f0ec248b676a380ffe910c1858e3af3027c0d4d513dd0b56a5613/tensorflow-1.15.3-cp36-cp36m-manylinux2010_x86_64.whl (110.5MB)\n",
            "\u001b[K     |████████████████████████████████| 110.5MB 50kB/s \n",
            "\u001b[?25hCollecting pretty-midi>=0.2.6\n",
            "\u001b[?25l  Downloading https://files.pythonhosted.org/packages/bc/8e/63c6e39a7a64623a9cd6aec530070c70827f6f8f40deec938f323d7b1e15/pretty_midi-0.2.9.tar.gz (5.6MB)\n",
            "\u001b[K     |████████████████████████████████| 5.6MB 10.1MB/s \n",
            "\u001b[?25hRequirement already satisfied: bokeh>=0.12.0 in /usr/local/lib/python3.6/dist-packages (from magenta==1.3.2) (2.1.1)\n",
            "Requirement already satisfied: tensorflow-probability==0.7.0 in /usr/local/lib/python3.6/dist-packages (from magenta==1.3.2) (0.7.0)\n",
            "Requirement already satisfied: imageio in /usr/local/lib/python3.6/dist-packages (from magenta==1.3.2) (2.4.1)\n",
            "Requirement already satisfied: tensorflow-datasets>=1.0.2 in /usr/local/lib/python3.6/dist-packages (from magenta==1.3.2) (2.1.0)\n",
            "Collecting gast==0.2.2\n",
            "  Downloading https://files.pythonhosted.org/packages/4e/35/11749bf99b2d4e3cceb4d55ca22590b0d7c2c62b9de38ac4a4a7f4687421/gast-0.2.2.tar.gz\n",
            "Requirement already satisfied: protobuf>=3.6.1 in /usr/local/lib/python3.6/dist-packages (from magenta==1.3.2) (3.12.4)\n",
            "Collecting sox>=1.3.7\n",
            "  Downloading https://files.pythonhosted.org/packages/bd/63/a535899ba1b45ad48ebd580c4226aef724ce6870cbecc572152ea286a108/sox-1.4.0-py2.py3-none-any.whl\n",
            "Collecting pygtrie>=2.3\n",
            "  Downloading https://files.pythonhosted.org/packages/06/c5/6e47f12de6c9974f1efddbb7f7f99894f8634dd1a1e212f77c18709c57d5/pygtrie-2.3.3.tar.gz\n",
            "Collecting python-rtmidi<1.2,>=1.1\n",
            "\u001b[?25l  Downloading https://files.pythonhosted.org/packages/2c/78/16f6d12abfccb6b1d330b1e1c6228536fa8d8ef6c14d560aba20176f044c/python-rtmidi-1.1.2.tar.gz (204kB)\n",
            "\u001b[K     |████████████████████████████████| 204kB 44.5MB/s \n",
            "\u001b[?25hCollecting mir-eval>=0.4\n",
            "\u001b[?25l  Downloading https://files.pythonhosted.org/packages/0a/fe/be4f7a59ed71938e21e89f23afe93eea0d39eb3e77f83754a12028cf1a68/mir_eval-0.6.tar.gz (87kB)\n",
            "\u001b[K     |████████████████████████████████| 92kB 9.3MB/s \n",
            "\u001b[?25hRequirement already satisfied: wheel in /usr/local/lib/python3.6/dist-packages (from magenta==1.3.2) (0.34.2)\n",
            "Collecting avro-python3!=1.9.2\n",
            "  Downloading https://files.pythonhosted.org/packages/b2/5a/819537be46d65a01f8b8c6046ed05603fb9ef88c663b8cca840263788d58/avro-python3-1.10.0.tar.gz\n",
            "Collecting gym<0.16.0\n",
            "\u001b[?25l  Downloading https://files.pythonhosted.org/packages/e0/01/8771e8f914a627022296dab694092a11a7d417b6c8364f0a44a8debca734/gym-0.15.7.tar.gz (1.6MB)\n",
            "\u001b[K     |████████████████████████████████| 1.6MB 40.0MB/s \n",
            "\u001b[?25hRequirement already satisfied: attrs in /usr/local/lib/python3.6/dist-packages (from magenta==1.3.2) (19.3.0)\n",
            "Collecting mido==1.2.6\n",
            "\u001b[?25l  Downloading https://files.pythonhosted.org/packages/10/51/447066f537e05996a4579829b93390a4d85b0e3da90c5fbc34c1e70a37d5/mido-1.2.6-py2.py3-none-any.whl (69kB)\n",
            "\u001b[K     |████████████████████████████████| 71kB 8.3MB/s \n",
            "\u001b[?25hCollecting backports.tempfile\n",
            "  Downloading https://files.pythonhosted.org/packages/b4/5c/077f910632476281428fe254807952eb47ca78e720d059a46178c541e669/backports.tempfile-1.0-py2.py3-none-any.whl\n",
            "Requirement already satisfied: numpy>=1.14.6 in /usr/local/lib/python3.6/dist-packages (from magenta==1.3.2) (1.18.5)\n",
            "Requirement already satisfied: joblib>=0.12 in /usr/local/lib/python3.6/dist-packages (from magenta==1.3.2) (0.16.0)\n",
            "Requirement already satisfied: tensor2tensor>=1.13.4 in /usr/local/lib/python3.6/dist-packages (from magenta==1.3.2) (1.14.1)\n",
            "Requirement already satisfied: matplotlib>=1.5.3 in /usr/local/lib/python3.6/dist-packages (from magenta==1.3.2) (3.2.2)\n",
            "Requirement already satisfied: six>=1.12.0 in /usr/local/lib/python3.6/dist-packages (from magenta==1.3.2) (1.15.0)\n",
            "Requirement already satisfied: intervaltree>=2.1.0 in /usr/local/lib/python3.6/dist-packages (from magenta==1.3.2) (2.1.0)\n",
            "Requirement already satisfied: scipy>=0.18.1 in /usr/local/lib/python3.6/dist-packages (from magenta==1.3.2) (1.4.1)\n",
            "Collecting dm-sonnet<1.36.0\n",
            "\u001b[?25l  Downloading https://files.pythonhosted.org/packages/49/8f/3178e49a9b463610a85b37f5206ae5ba5a49d00eb0c7135af652fd4bc22b/dm_sonnet-1.35-py3-none-any.whl (652kB)\n",
            "\u001b[K     |████████████████████████████████| 655kB 36.6MB/s \n",
            "\u001b[?25hRequirement already satisfied: decorator in /usr/local/lib/python3.6/dist-packages (from IPython->magenta==1.3.2) (4.4.2)\n",
            "Requirement already satisfied: simplegeneric>0.8 in /usr/local/lib/python3.6/dist-packages (from IPython->magenta==1.3.2) (0.8.1)\n",
            "Requirement already satisfied: prompt-toolkit<2.0.0,>=1.0.4 in /usr/local/lib/python3.6/dist-packages (from IPython->magenta==1.3.2) (1.0.18)\n",
            "Requirement already satisfied: setuptools>=18.5 in /usr/local/lib/python3.6/dist-packages (from IPython->magenta==1.3.2) (49.2.0)\n",
            "Requirement already satisfied: pickleshare in /usr/local/lib/python3.6/dist-packages (from IPython->magenta==1.3.2) (0.7.5)\n",
            "Requirement already satisfied: pygments in /usr/local/lib/python3.6/dist-packages (from IPython->magenta==1.3.2) (2.1.3)\n",
            "Requirement already satisfied: traitlets>=4.2 in /usr/local/lib/python3.6/dist-packages (from IPython->magenta==1.3.2) (4.3.3)\n",
            "Requirement already satisfied: pexpect; sys_platform != \"win32\" in /usr/local/lib/python3.6/dist-packages (from IPython->magenta==1.3.2) (4.8.0)\n",
            "Collecting fastavro<0.24,>=0.21.4\n",
            "\u001b[?25l  Downloading https://files.pythonhosted.org/packages/98/8e/1d62398df5569a805d956bd96df1b2c06f973e8d3f1f7489adf9c58b2824/fastavro-0.23.6-cp36-cp36m-manylinux2010_x86_64.whl (1.4MB)\n",
            "\u001b[K     |████████████████████████████████| 1.4MB 33.5MB/s \n",
            "\u001b[?25hRequirement already satisfied: httplib2<0.18.0,>=0.8 in /usr/local/lib/python3.6/dist-packages (from apache-beam[gcp]>=2.14.0->magenta==1.3.2) (0.17.4)\n",
            "Requirement already satisfied: python-dateutil<3,>=2.8.0 in /usr/local/lib/python3.6/dist-packages (from apache-beam[gcp]>=2.14.0->magenta==1.3.2) (2.8.1)\n",
            "Requirement already satisfied: pydot<2,>=1.2.0 in /usr/local/lib/python3.6/dist-packages (from apache-beam[gcp]>=2.14.0->magenta==1.3.2) (1.3.0)\n",
            "Collecting oauth2client<4,>=2.0.1\n",
            "\u001b[?25l  Downloading https://files.pythonhosted.org/packages/c0/7b/bc893e35d6ca46a72faa4b9eaac25c687ce60e1fbe978993fe2de1b0ff0d/oauth2client-3.0.0.tar.gz (77kB)\n",
            "\u001b[K     |████████████████████████████████| 81kB 8.4MB/s \n",
            "\u001b[?25hRequirement already satisfied: typing-extensions<3.8.0,>=3.7.0 in /usr/local/lib/python3.6/dist-packages (from apache-beam[gcp]>=2.14.0->magenta==1.3.2) (3.7.4.2)\n",
            "Collecting mock<3.0.0,>=1.0.1\n",
            "\u001b[?25l  Downloading https://files.pythonhosted.org/packages/e6/35/f187bdf23be87092bd0f1200d43d23076cee4d0dec109f195173fd3ebc79/mock-2.0.0-py2.py3-none-any.whl (56kB)\n",
            "\u001b[K     |████████████████████████████████| 61kB 7.5MB/s \n",
            "\u001b[?25hRequirement already satisfied: crcmod<2.0,>=1.7 in /usr/local/lib/python3.6/dist-packages (from apache-beam[gcp]>=2.14.0->magenta==1.3.2) (1.7)\n",
            "Requirement already satisfied: grpcio<2,>=1.29.0 in /usr/local/lib/python3.6/dist-packages (from apache-beam[gcp]>=2.14.0->magenta==1.3.2) (1.30.0)\n",
            "Collecting future<1.0.0,>=0.18.2\n",
            "\u001b[?25l  Downloading https://files.pythonhosted.org/packages/45/0b/38b06fd9b92dc2b68d58b75f900e97884c45bedd2ff83203d933cf5851c9/future-0.18.2.tar.gz (829kB)\n",
            "\u001b[K     |████████████████████████████████| 829kB 32.4MB/s \n",
            "\u001b[?25hRequirement already satisfied: pymongo<4.0.0,>=3.8.0 in /usr/local/lib/python3.6/dist-packages (from apache-beam[gcp]>=2.14.0->magenta==1.3.2) (3.11.0)\n",
            "Collecting pyarrow<0.18.0,>=0.15.1; python_version >= \"3.0\" or platform_system != \"Windows\"\n",
            "\u001b[?25l  Downloading https://files.pythonhosted.org/packages/ba/3f/6cac1714fff444664603f92cb9fbe91c7ae25375880158b9e9691c4584c8/pyarrow-0.17.1-cp36-cp36m-manylinux2014_x86_64.whl (63.8MB)\n",
            "\u001b[K     |████████████████████████████████| 63.8MB 67kB/s \n",
            "\u001b[?25hRequirement already satisfied: pytz>=2018.3 in /usr/local/lib/python3.6/dist-packages (from apache-beam[gcp]>=2.14.0->magenta==1.3.2) (2018.9)\n",
            "Collecting hdfs<3.0.0,>=2.1.0\n",
            "\u001b[?25l  Downloading https://files.pythonhosted.org/packages/82/39/2c0879b1bcfd1f6ad078eb210d09dbce21072386a3997074ee91e60ddc5a/hdfs-2.5.8.tar.gz (41kB)\n",
            "\u001b[K     |████████████████████████████████| 51kB 6.0MB/s \n",
            "\u001b[?25hCollecting dill<0.3.2,>=0.3.1.1\n",
            "\u001b[?25l  Downloading https://files.pythonhosted.org/packages/c7/11/345f3173809cea7f1a193bfbf02403fff250a3360e0e118a1630985e547d/dill-0.3.1.1.tar.gz (151kB)\n",
            "\u001b[K     |████████████████████████████████| 153kB 40.4MB/s \n",
            "\u001b[?25hCollecting grpcio-gcp<1,>=0.2.2; extra == \"gcp\"\n",
            "  Downloading https://files.pythonhosted.org/packages/ba/83/1f1095815be0de19102df41e250ebbd7dae97d7d14e22c18da07ed5ed9d4/grpcio_gcp-0.2.2-py2.py3-none-any.whl\n",
            "Collecting google-cloud-spanner<1.14.0,>=1.13.0; extra == \"gcp\"\n",
            "\u001b[?25l  Downloading https://files.pythonhosted.org/packages/9e/39/c5e470bf59ce15716490bea1945e2c03b4f08f2153285f19dc6f9337b9e9/google_cloud_spanner-1.13.0-py2.py3-none-any.whl (212kB)\n",
            "\u001b[K     |████████████████████████████████| 215kB 44.1MB/s \n",
            "\u001b[?25hCollecting google-cloud-datastore<1.8.0,>=1.7.1; extra == \"gcp\"\n",
            "\u001b[?25l  Downloading https://files.pythonhosted.org/packages/d0/aa/29cbcf8cf7d08ce2d55b9dce858f7c632b434cb6451bed17cb4275804217/google_cloud_datastore-1.7.4-py2.py3-none-any.whl (82kB)\n",
            "\u001b[K     |████████████████████████████████| 92kB 10.1MB/s \n",
            "\u001b[?25hCollecting google-cloud-videointelligence<1.14.0,>=1.8.0; extra == \"gcp\"\n",
            "\u001b[?25l  Downloading https://files.pythonhosted.org/packages/bb/bd/9945e21aace32bc45a17b65944b5cd20efb7370985d8984425831a47ca22/google_cloud_videointelligence-1.13.0-py2.py3-none-any.whl (177kB)\n",
            "\u001b[K     |████████████████████████████████| 184kB 38.5MB/s \n",
            "\u001b[?25hCollecting google-cloud-vision<0.43.0,>=0.38.0; extra == \"gcp\"\n",
            "\u001b[?25l  Downloading https://files.pythonhosted.org/packages/eb/23/6d5a728333ce568fb484d0d7edd0b7c04b16cf6325af31d957eb51ed077d/google_cloud_vision-0.42.0-py2.py3-none-any.whl (435kB)\n",
            "\u001b[K     |████████████████████████████████| 440kB 46.3MB/s \n",
            "\u001b[?25hCollecting google-cloud-bigtable<1.1.0,>=0.31.1; extra == \"gcp\"\n",
            "\u001b[?25l  Downloading https://files.pythonhosted.org/packages/95/af/0ef7d097a1d5ad0c843867600e86de915e8ab8864740f49a4636cfb51af6/google_cloud_bigtable-1.0.0-py2.py3-none-any.whl (232kB)\n",
            "\u001b[K     |████████████████████████████████| 235kB 42.6MB/s \n",
            "\u001b[?25hCollecting google-cloud-dlp<=0.13.0,>=0.12.0; extra == \"gcp\"\n",
            "\u001b[?25l  Downloading https://files.pythonhosted.org/packages/24/65/c74f730d5c08affdb056250e601f77c54c0f7c13dfd1c865e02f98b4e7b4/google_cloud_dlp-0.13.0-py2.py3-none-any.whl (151kB)\n",
            "\u001b[K     |████████████████████████████████| 153kB 45.5MB/s \n",
            "\u001b[?25hRequirement already satisfied: google-cloud-bigquery<=1.24.0,>=1.6.0; extra == \"gcp\" in /usr/local/lib/python3.6/dist-packages (from apache-beam[gcp]>=2.14.0->magenta==1.3.2) (1.21.0)\n",
            "Collecting cachetools<4,>=3.1.0; extra == \"gcp\"\n",
            "  Downloading https://files.pythonhosted.org/packages/2f/a6/30b0a0bef12283e83e58c1d6e7b5aabc7acfc4110df81a4471655d33e704/cachetools-3.1.1-py2.py3-none-any.whl\n",
            "Requirement already satisfied: google-cloud-core<2,>=0.28.1; extra == \"gcp\" in /usr/local/lib/python3.6/dist-packages (from apache-beam[gcp]>=2.14.0->magenta==1.3.2) (1.0.3)\n",
            "Collecting google-apitools<0.5.32,>=0.5.31; extra == \"gcp\"\n",
            "\u001b[?25l  Downloading https://files.pythonhosted.org/packages/19/da/aefc4cf4c168b5d875344cd9dddc77e3a2d11986b630251af5ce47dd2843/google-apitools-0.5.31.tar.gz (173kB)\n",
            "\u001b[K     |████████████████████████████████| 174kB 47.0MB/s \n",
            "\u001b[?25hCollecting google-cloud-pubsub<1.1.0,>=0.39.0; extra == \"gcp\"\n",
            "\u001b[?25l  Downloading https://files.pythonhosted.org/packages/d3/91/07a82945a7396ea34debafd476724bb5fc267c292790fdf2138c693f95c5/google_cloud_pubsub-1.0.2-py2.py3-none-any.whl (118kB)\n",
            "\u001b[K     |████████████████████████████████| 122kB 33.0MB/s \n",
            "\u001b[?25hCollecting google-cloud-language<2,>=1.3.0; extra == \"gcp\"\n",
            "\u001b[?25l  Downloading https://files.pythonhosted.org/packages/ba/b8/965a97ba60287910d342623da1da615254bded3e0965728cf7fc6339b7c8/google_cloud_language-1.3.0-py2.py3-none-any.whl (83kB)\n",
            "\u001b[K     |████████████████████████████████| 92kB 9.9MB/s \n",
            "\u001b[?25hRequirement already satisfied: resampy>=0.2.0 in /usr/local/lib/python3.6/dist-packages (from librosa>=0.6.2->magenta==1.3.2) (0.2.2)\n",
            "Requirement already satisfied: numba>=0.38.0 in /usr/local/lib/python3.6/dist-packages (from librosa>=0.6.2->magenta==1.3.2) (0.48.0)\n",
            "Requirement already satisfied: audioread>=2.0.0 in /usr/local/lib/python3.6/dist-packages (from librosa>=0.6.2->magenta==1.3.2) (2.1.8)\n",
            "Requirement already satisfied: scikit-learn!=0.19.0,>=0.14.0 in /usr/local/lib/python3.6/dist-packages (from librosa>=0.6.2->magenta==1.3.2) (0.22.2.post1)\n",
            "Requirement already satisfied: networkx>=2.0 in /usr/local/lib/python3.6/dist-packages (from scikit-image->magenta==1.3.2) (2.4)\n",
            "Requirement already satisfied: PyWavelets>=0.4.0 in /usr/local/lib/python3.6/dist-packages (from scikit-image->magenta==1.3.2) (1.1.1)\n",
            "Requirement already satisfied: google-pasta>=0.1.6 in /usr/local/lib/python3.6/dist-packages (from tensorflow<2.0.0,>=1.15.0->magenta==1.3.2) (0.2.0)\n",
            "Requirement already satisfied: wrapt>=1.11.1 in /usr/local/lib/python3.6/dist-packages (from tensorflow<2.0.0,>=1.15.0->magenta==1.3.2) (1.12.1)\n",
            "Requirement already satisfied: astor>=0.6.0 in /usr/local/lib/python3.6/dist-packages (from tensorflow<2.0.0,>=1.15.0->magenta==1.3.2) (0.8.1)\n",
            "Requirement already satisfied: keras-preprocessing>=1.0.5 in /usr/local/lib/python3.6/dist-packages (from tensorflow<2.0.0,>=1.15.0->magenta==1.3.2) (1.1.2)\n",
            "Collecting tensorflow-estimator==1.15.1\n",
            "\u001b[?25l  Downloading https://files.pythonhosted.org/packages/de/62/2ee9cd74c9fa2fa450877847ba560b260f5d0fb70ee0595203082dafcc9d/tensorflow_estimator-1.15.1-py2.py3-none-any.whl (503kB)\n",
            "\u001b[K     |████████████████████████████████| 512kB 43.8MB/s \n",
            "\u001b[?25hRequirement already satisfied: opt-einsum>=2.3.2 in /usr/local/lib/python3.6/dist-packages (from tensorflow<2.0.0,>=1.15.0->magenta==1.3.2) (3.3.0)\n",
            "Collecting keras-applications>=1.0.8\n",
            "\u001b[?25l  Downloading https://files.pythonhosted.org/packages/71/e3/19762fdfc62877ae9102edf6342d71b28fbfd9dea3d2f96a882ce099b03f/Keras_Applications-1.0.8-py3-none-any.whl (50kB)\n",
            "\u001b[K     |████████████████████████████████| 51kB 5.7MB/s \n",
            "\u001b[?25hRequirement already satisfied: termcolor>=1.1.0 in /usr/local/lib/python3.6/dist-packages (from tensorflow<2.0.0,>=1.15.0->magenta==1.3.2) (1.1.0)\n",
            "Collecting tensorboard<1.16.0,>=1.15.0\n",
            "\u001b[?25l  Downloading https://files.pythonhosted.org/packages/1e/e9/d3d747a97f7188f48aa5eda486907f3b345cd409f0a0850468ba867db246/tensorboard-1.15.0-py3-none-any.whl (3.8MB)\n",
            "\u001b[K     |████████████████████████████████| 3.8MB 36.6MB/s \n",
            "\u001b[?25hRequirement already satisfied: PyYAML>=3.10 in /usr/local/lib/python3.6/dist-packages (from bokeh>=0.12.0->magenta==1.3.2) (3.13)\n",
            "Requirement already satisfied: tornado>=5.1 in /usr/local/lib/python3.6/dist-packages (from bokeh>=0.12.0->magenta==1.3.2) (5.1.1)\n",
            "Requirement already satisfied: packaging>=16.8 in /usr/local/lib/python3.6/dist-packages (from bokeh>=0.12.0->magenta==1.3.2) (20.4)\n",
            "Requirement already satisfied: Jinja2>=2.7 in /usr/local/lib/python3.6/dist-packages (from bokeh>=0.12.0->magenta==1.3.2) (2.11.2)\n",
            "Requirement already satisfied: cloudpickle>=0.6.1 in /usr/local/lib/python3.6/dist-packages (from tensorflow-probability==0.7.0->magenta==1.3.2) (1.3.0)\n",
            "Requirement already satisfied: promise in /usr/local/lib/python3.6/dist-packages (from tensorflow-datasets>=1.0.2->magenta==1.3.2) (2.3)\n",
            "Requirement already satisfied: requests>=2.19.0 in /usr/local/lib/python3.6/dist-packages (from tensorflow-datasets>=1.0.2->magenta==1.3.2) (2.23.0)\n",
            "Requirement already satisfied: tensorflow-metadata in /usr/local/lib/python3.6/dist-packages (from tensorflow-datasets>=1.0.2->magenta==1.3.2) (0.22.2)\n",
            "Requirement already satisfied: tqdm in /usr/local/lib/python3.6/dist-packages (from tensorflow-datasets>=1.0.2->magenta==1.3.2) (4.41.1)\n",
            "Requirement already satisfied: pyglet<=1.5.0,>=1.4.0 in /usr/local/lib/python3.6/dist-packages (from gym<0.16.0->magenta==1.3.2) (1.5.0)\n",
            "Collecting backports.weakref\n",
            "  Downloading https://files.pythonhosted.org/packages/88/ec/f598b633c3d5ffe267aaada57d961c94fdfa183c5c3ebda2b6d151943db6/backports.weakref-1.0.post1-py2.py3-none-any.whl\n",
            "Requirement already satisfied: sympy in /usr/local/lib/python3.6/dist-packages (from tensor2tensor>=1.13.4->magenta==1.3.2) (1.1.1)\n",
            "Requirement already satisfied: mesh-tensorflow in /usr/local/lib/python3.6/dist-packages (from tensor2tensor>=1.13.4->magenta==1.3.2) (0.1.16)\n",
            "Requirement already satisfied: bz2file in /usr/local/lib/python3.6/dist-packages (from tensor2tensor>=1.13.4->magenta==1.3.2) (0.98)\n",
            "Requirement already satisfied: kfac in /usr/local/lib/python3.6/dist-packages (from tensor2tensor>=1.13.4->magenta==1.3.2) (0.2.0)\n",
            "Requirement already satisfied: opencv-python in /usr/local/lib/python3.6/dist-packages (from tensor2tensor>=1.13.4->magenta==1.3.2) (4.1.2.30)\n",
            "Requirement already satisfied: dopamine-rl in /usr/local/lib/python3.6/dist-packages (from tensor2tensor>=1.13.4->magenta==1.3.2) (1.0.5)\n",
            "Requirement already satisfied: pypng in /usr/local/lib/python3.6/dist-packages (from tensor2tensor>=1.13.4->magenta==1.3.2) (0.0.20)\n",
            "Requirement already satisfied: flask in /usr/local/lib/python3.6/dist-packages (from tensor2tensor>=1.13.4->magenta==1.3.2) (1.1.2)\n",
            "Requirement already satisfied: google-api-python-client in /usr/local/lib/python3.6/dist-packages (from tensor2tensor>=1.13.4->magenta==1.3.2) (1.7.12)\n",
            "Requirement already satisfied: gevent in /usr/local/lib/python3.6/dist-packages (from tensor2tensor>=1.13.4->magenta==1.3.2) (20.6.2)\n",
            "Requirement already satisfied: tensorflow-gan in /usr/local/lib/python3.6/dist-packages (from tensor2tensor>=1.13.4->magenta==1.3.2) (2.0.0)\n",
            "Requirement already satisfied: h5py in /usr/local/lib/python3.6/dist-packages (from tensor2tensor>=1.13.4->magenta==1.3.2) (2.10.0)\n",
            "Requirement already satisfied: gunicorn in /usr/local/lib/python3.6/dist-packages (from tensor2tensor>=1.13.4->magenta==1.3.2) (20.0.4)\n",
            "Requirement already satisfied: gin-config in /usr/local/lib/python3.6/dist-packages (from tensor2tensor>=1.13.4->magenta==1.3.2) (0.3.0)\n",
            "Requirement already satisfied: kiwisolver>=1.0.1 in /usr/local/lib/python3.6/dist-packages (from matplotlib>=1.5.3->magenta==1.3.2) (1.2.0)\n",
            "Requirement already satisfied: cycler>=0.10 in /usr/local/lib/python3.6/dist-packages (from matplotlib>=1.5.3->magenta==1.3.2) (0.10.0)\n",
            "Requirement already satisfied: pyparsing!=2.0.4,!=2.1.2,!=2.1.6,>=2.0.1 in /usr/local/lib/python3.6/dist-packages (from matplotlib>=1.5.3->magenta==1.3.2) (2.4.7)\n",
            "Requirement already satisfied: sortedcontainers in /usr/local/lib/python3.6/dist-packages (from intervaltree>=2.1.0->magenta==1.3.2) (2.2.2)\n",
            "Collecting semantic-version\n",
            "  Downloading https://files.pythonhosted.org/packages/a5/15/00ef3b7888a10363b7c402350eda3acf395ff05bebae312d1296e528516a/semantic_version-2.8.5-py2.py3-none-any.whl\n",
            "Requirement already satisfied: contextlib2 in /usr/local/lib/python3.6/dist-packages (from dm-sonnet<1.36.0->magenta==1.3.2) (0.5.5)\n",
            "Requirement already satisfied: wcwidth in /usr/local/lib/python3.6/dist-packages (from prompt-toolkit<2.0.0,>=1.0.4->IPython->magenta==1.3.2) (0.2.5)\n",
            "Requirement already satisfied: ipython-genutils in /usr/local/lib/python3.6/dist-packages (from traitlets>=4.2->IPython->magenta==1.3.2) (0.2.0)\n",
            "Requirement already satisfied: ptyprocess>=0.5 in /usr/local/lib/python3.6/dist-packages (from pexpect; sys_platform != \"win32\"->IPython->magenta==1.3.2) (0.6.0)\n",
            "Requirement already satisfied: pyasn1>=0.1.7 in /usr/local/lib/python3.6/dist-packages (from oauth2client<4,>=2.0.1->apache-beam[gcp]>=2.14.0->magenta==1.3.2) (0.4.8)\n",
            "Requirement already satisfied: pyasn1-modules>=0.0.5 in /usr/local/lib/python3.6/dist-packages (from oauth2client<4,>=2.0.1->apache-beam[gcp]>=2.14.0->magenta==1.3.2) (0.2.8)\n",
            "Requirement already satisfied: rsa>=3.1.4 in /usr/local/lib/python3.6/dist-packages (from oauth2client<4,>=2.0.1->apache-beam[gcp]>=2.14.0->magenta==1.3.2) (4.6)\n",
            "Collecting pbr>=0.11\n",
            "\u001b[?25l  Downloading https://files.pythonhosted.org/packages/96/ba/aa953a11ec014b23df057ecdbc922fdb40ca8463466b1193f3367d2711a6/pbr-5.4.5-py2.py3-none-any.whl (110kB)\n",
            "\u001b[K     |████████████████████████████████| 112kB 50.1MB/s \n",
            "\u001b[?25hRequirement already satisfied: docopt in /usr/local/lib/python3.6/dist-packages (from hdfs<3.0.0,>=2.1.0->apache-beam[gcp]>=2.14.0->magenta==1.3.2) (0.6.2)\n",
            "Requirement already satisfied: google-api-core[grpc,grpcgcp]<2.0.0dev,>=1.14.0 in /usr/local/lib/python3.6/dist-packages (from google-cloud-spanner<1.14.0,>=1.13.0; extra == \"gcp\"->apache-beam[gcp]>=2.14.0->magenta==1.3.2) (1.16.0)\n",
            "Collecting grpc-google-iam-v1<0.13dev,>=0.12.3\n",
            "  Downloading https://files.pythonhosted.org/packages/65/19/2060c8faa325fddc09aa67af98ffcb6813f39a0ad805679fa64815362b3a/grpc-google-iam-v1-0.12.3.tar.gz\n",
            "Requirement already satisfied: google-resumable-media!=0.4.0,<0.5.0dev,>=0.3.1 in /usr/local/lib/python3.6/dist-packages (from google-cloud-bigquery<=1.24.0,>=1.6.0; extra == \"gcp\"->apache-beam[gcp]>=2.14.0->magenta==1.3.2) (0.4.1)\n",
            "Collecting fasteners>=0.14\n",
            "  Downloading https://files.pythonhosted.org/packages/18/bd/55eb2d6397b9c0e263af9d091ebdb756b15756029b3cededf6461481bc63/fasteners-0.15-py2.py3-none-any.whl\n",
            "Requirement already satisfied: llvmlite<0.32.0,>=0.31.0dev0 in /usr/local/lib/python3.6/dist-packages (from numba>=0.38.0->librosa>=0.6.2->magenta==1.3.2) (0.31.0)\n",
            "Requirement already satisfied: werkzeug>=0.11.15 in /usr/local/lib/python3.6/dist-packages (from tensorboard<1.16.0,>=1.15.0->tensorflow<2.0.0,>=1.15.0->magenta==1.3.2) (1.0.1)\n",
            "Requirement already satisfied: markdown>=2.6.8 in /usr/local/lib/python3.6/dist-packages (from tensorboard<1.16.0,>=1.15.0->tensorflow<2.0.0,>=1.15.0->magenta==1.3.2) (3.2.2)\n",
            "Requirement already satisfied: MarkupSafe>=0.23 in /usr/local/lib/python3.6/dist-packages (from Jinja2>=2.7->bokeh>=0.12.0->magenta==1.3.2) (1.1.1)\n",
            "Requirement already satisfied: urllib3!=1.25.0,!=1.25.1,<1.26,>=1.21.1 in /usr/local/lib/python3.6/dist-packages (from requests>=2.19.0->tensorflow-datasets>=1.0.2->magenta==1.3.2) (1.24.3)\n",
            "Requirement already satisfied: chardet<4,>=3.0.2 in /usr/local/lib/python3.6/dist-packages (from requests>=2.19.0->tensorflow-datasets>=1.0.2->magenta==1.3.2) (3.0.4)\n",
            "Requirement already satisfied: certifi>=2017.4.17 in /usr/local/lib/python3.6/dist-packages (from requests>=2.19.0->tensorflow-datasets>=1.0.2->magenta==1.3.2) (2020.6.20)\n",
            "Requirement already satisfied: idna<3,>=2.5 in /usr/local/lib/python3.6/dist-packages (from requests>=2.19.0->tensorflow-datasets>=1.0.2->magenta==1.3.2) (2.10)\n",
            "Requirement already satisfied: googleapis-common-protos in /usr/local/lib/python3.6/dist-packages (from tensorflow-metadata->tensorflow-datasets>=1.0.2->magenta==1.3.2) (1.52.0)\n",
            "Requirement already satisfied: mpmath>=0.19 in /usr/local/lib/python3.6/dist-packages (from sympy->tensor2tensor>=1.13.4->magenta==1.3.2) (1.1.0)\n",
            "Requirement already satisfied: itsdangerous>=0.24 in /usr/local/lib/python3.6/dist-packages (from flask->tensor2tensor>=1.13.4->magenta==1.3.2) (1.1.0)\n",
            "Requirement already satisfied: click>=5.1 in /usr/local/lib/python3.6/dist-packages (from flask->tensor2tensor>=1.13.4->magenta==1.3.2) (7.1.2)\n",
            "Requirement already satisfied: google-auth>=1.4.1 in /usr/local/lib/python3.6/dist-packages (from google-api-python-client->tensor2tensor>=1.13.4->magenta==1.3.2) (1.17.2)\n",
            "Requirement already satisfied: google-auth-httplib2>=0.0.3 in /usr/local/lib/python3.6/dist-packages (from google-api-python-client->tensor2tensor>=1.13.4->magenta==1.3.2) (0.0.4)\n",
            "Requirement already satisfied: uritemplate<4dev,>=3.0.0 in /usr/local/lib/python3.6/dist-packages (from google-api-python-client->tensor2tensor>=1.13.4->magenta==1.3.2) (3.0.1)\n",
            "Requirement already satisfied: greenlet>=0.4.16; platform_python_implementation == \"CPython\" in /usr/local/lib/python3.6/dist-packages (from gevent->tensor2tensor>=1.13.4->magenta==1.3.2) (0.4.16)\n",
            "Requirement already satisfied: zope.interface in /usr/local/lib/python3.6/dist-packages (from gevent->tensor2tensor>=1.13.4->magenta==1.3.2) (5.1.0)\n",
            "Requirement already satisfied: zope.event in /usr/local/lib/python3.6/dist-packages (from gevent->tensor2tensor>=1.13.4->magenta==1.3.2) (4.4)\n",
            "Requirement already satisfied: tensorflow-hub>=0.2 in /usr/local/lib/python3.6/dist-packages (from tensorflow-gan->tensor2tensor>=1.13.4->magenta==1.3.2) (0.8.0)\n",
            "Collecting monotonic>=0.1\n",
            "  Downloading https://files.pythonhosted.org/packages/ac/aa/063eca6a416f397bd99552c534c6d11d57f58f2e94c14780f3bbf818c4cf/monotonic-1.5-py2.py3-none-any.whl\n",
            "Requirement already satisfied: importlib-metadata; python_version < \"3.8\" in /usr/local/lib/python3.6/dist-packages (from markdown>=2.6.8->tensorboard<1.16.0,>=1.15.0->tensorflow<2.0.0,>=1.15.0->magenta==1.3.2) (1.7.0)\n",
            "Requirement already satisfied: zipp>=0.5 in /usr/local/lib/python3.6/dist-packages (from importlib-metadata; python_version < \"3.8\"->markdown>=2.6.8->tensorboard<1.16.0,>=1.15.0->tensorflow<2.0.0,>=1.15.0->magenta==1.3.2) (3.1.0)\n",
            "Building wheels for collected packages: pretty-midi, gast, pygtrie, python-rtmidi, mir-eval, avro-python3, gym, oauth2client, future, hdfs, dill, google-apitools, grpc-google-iam-v1\n",
            "  Building wheel for pretty-midi (setup.py) ... \u001b[?25l\u001b[?25hdone\n",
            "  Created wheel for pretty-midi: filename=pretty_midi-0.2.9-cp36-none-any.whl size=5591953 sha256=24f654603972a8b7eec44569b63afe89642ce89ac3423e46413013b3e4a73216\n",
            "  Stored in directory: /root/.cache/pip/wheels/4c/a1/c6/b5697841db1112c6e5866d75a6b6bf1bef73b874782556ba66\n",
            "  Building wheel for gast (setup.py) ... \u001b[?25l\u001b[?25hdone\n",
            "  Created wheel for gast: filename=gast-0.2.2-cp36-none-any.whl size=7540 sha256=d6e6a6250e565f4847f53db29610b4257c05ee60c9102767b64449dccdd8017d\n",
            "  Stored in directory: /root/.cache/pip/wheels/5c/2e/7e/a1d4d4fcebe6c381f378ce7743a3ced3699feb89bcfbdadadd\n",
            "  Building wheel for pygtrie (setup.py) ... \u001b[?25l\u001b[?25hdone\n",
            "  Created wheel for pygtrie: filename=pygtrie-2.3.3-cp36-none-any.whl size=19108 sha256=7ff741a197d11ddfe8b6fa758d747ea2d9befdf4e8a39b2eeea2b25d329299b5\n",
            "  Stored in directory: /root/.cache/pip/wheels/82/d7/11/247da78ea064e39795bd9248c24c8870a14620c09a8e2dab33\n",
            "  Building wheel for python-rtmidi (setup.py) ... \u001b[?25l\u001b[?25hdone\n",
            "  Created wheel for python-rtmidi: filename=python_rtmidi-1.1.2-cp36-cp36m-linux_x86_64.whl size=389846 sha256=5b61162402a280817f016d9badd3c4c251aaea22bb53fa32fdda688bfa79526e\n",
            "  Stored in directory: /root/.cache/pip/wheels/b4/9d/55/0554f02fbc777976865e0ea603028a0f87854b7df385ffa366\n",
            "  Building wheel for mir-eval (setup.py) ... \u001b[?25l\u001b[?25hdone\n",
            "  Created wheel for mir-eval: filename=mir_eval-0.6-cp36-none-any.whl size=96515 sha256=c1206ddc8f6f46c3fbd53eb2fca8fd026cf388e363b1843bd8b3bde8ad1b5e56\n",
            "  Stored in directory: /root/.cache/pip/wheels/49/ce/30/730fa72addf275e49d90683b01b3613048b4be3bf7ff8eb6ec\n",
            "  Building wheel for avro-python3 (setup.py) ... \u001b[?25l\u001b[?25hdone\n",
            "  Created wheel for avro-python3: filename=avro_python3-1.10.0-cp36-none-any.whl size=43735 sha256=3ad7c2862ac27e51a5de238e8315b02481fb79f4bcb0d6616c6d3afb305d208c\n",
            "  Stored in directory: /root/.cache/pip/wheels/3f/15/cd/fe4ec8b88c130393464703ee8111e2cddebdc40e1b59ea85e9\n",
            "  Building wheel for gym (setup.py) ... \u001b[?25l\u001b[?25hdone\n",
            "  Created wheel for gym: filename=gym-0.15.7-cp36-none-any.whl size=1648840 sha256=247144dcc9b0ef3a1b8e74628015319b9127926bbe77dabd41e0d97044adad96\n",
            "  Stored in directory: /root/.cache/pip/wheels/35/60/6a/f9c27ae133abaf5a5687ed2fa8ed19627d7fac5d843a27572b\n",
            "  Building wheel for oauth2client (setup.py) ... \u001b[?25l\u001b[?25hdone\n",
            "  Created wheel for oauth2client: filename=oauth2client-3.0.0-cp36-none-any.whl size=106382 sha256=7215cf391e7e24d3eab2c285db4f8a3d3ccfd50f4d868fcc293ee7bcc0624fce\n",
            "  Stored in directory: /root/.cache/pip/wheels/48/f7/87/b932f09c6335dbcf45d916937105a372ab14f353a9ca431d7d\n",
            "  Building wheel for future (setup.py) ... \u001b[?25l\u001b[?25hdone\n",
            "  Created wheel for future: filename=future-0.18.2-cp36-none-any.whl size=491057 sha256=d7d00f90d6ecc5f5c744ff041418f1ae7201c3a4c030449ef24a410bc7063446\n",
            "  Stored in directory: /root/.cache/pip/wheels/8b/99/a0/81daf51dcd359a9377b110a8a886b3895921802d2fc1b2397e\n",
            "  Building wheel for hdfs (setup.py) ... \u001b[?25l\u001b[?25hdone\n",
            "  Created wheel for hdfs: filename=hdfs-2.5.8-cp36-none-any.whl size=33213 sha256=b1e017b662b3dbcd9a8db10771e8158247f7e7050385fe1ed3e23ebed4942641\n",
            "  Stored in directory: /root/.cache/pip/wheels/fe/a7/05/23e3699975fc20f8a30e00ac1e515ab8c61168e982abe4ce70\n",
            "  Building wheel for dill (setup.py) ... \u001b[?25l\u001b[?25hdone\n",
            "  Created wheel for dill: filename=dill-0.3.1.1-cp36-none-any.whl size=78532 sha256=ef6201c7652b1fed6eebef3aad62754e1e22cdcaee2049f0118dcb6bba5d2538\n",
            "  Stored in directory: /root/.cache/pip/wheels/59/b1/91/f02e76c732915c4015ab4010f3015469866c1eb9b14058d8e7\n",
            "  Building wheel for google-apitools (setup.py) ... \u001b[?25l\u001b[?25hdone\n",
            "  Created wheel for google-apitools: filename=google_apitools-0.5.31-cp36-none-any.whl size=131043 sha256=d9070958f208f588c561eb22808df2ce7db10465e41caded0b783533d9b497d2\n",
            "  Stored in directory: /root/.cache/pip/wheels/3b/43/31/09a9dad88d3aec6fed2d63bd35dfc532fca372e2edec5af5bf\n",
            "  Building wheel for grpc-google-iam-v1 (setup.py) ... \u001b[?25l\u001b[?25hdone\n",
            "  Created wheel for grpc-google-iam-v1: filename=grpc_google_iam_v1-0.12.3-cp36-none-any.whl size=18500 sha256=8b227c18442e0d10695282d16396a8bd9e3040c56bc7dc54a3b651de01971308\n",
            "  Stored in directory: /root/.cache/pip/wheels/de/3a/83/77a1e18e1a8757186df834b86ce6800120ac9c79cd8ca4091b\n",
            "Successfully built pretty-midi gast pygtrie python-rtmidi mir-eval avro-python3 gym oauth2client future hdfs dill google-apitools grpc-google-iam-v1\n",
            "\u001b[31mERROR: pydrive 1.3.1 has requirement oauth2client>=4.0.0, but you'll have oauth2client 3.0.0 which is incompatible.\u001b[0m\n",
            "\u001b[31mERROR: multiprocess 0.70.10 has requirement dill>=0.3.2, but you'll have dill 0.3.1.1 which is incompatible.\u001b[0m\n",
            "\u001b[31mERROR: gym 0.15.7 has requirement cloudpickle~=1.2.0, but you'll have cloudpickle 1.3.0 which is incompatible.\u001b[0m\n",
            "\u001b[31mERROR: apache-beam 2.23.0 has requirement avro-python3!=1.9.2,<1.10.0,>=1.8.1; python_version >= \"3.0\", but you'll have avro-python3 1.10.0 which is incompatible.\u001b[0m\n",
            "Installing collected packages: sk-video, fastavro, oauth2client, pbr, mock, future, avro-python3, pyarrow, hdfs, dill, grpcio-gcp, grpc-google-iam-v1, google-cloud-spanner, google-cloud-datastore, google-cloud-videointelligence, google-cloud-vision, google-cloud-bigtable, google-cloud-dlp, cachetools, monotonic, fasteners, google-apitools, google-cloud-pubsub, google-cloud-language, apache-beam, gast, tensorflow-estimator, keras-applications, tensorboard, tensorflow, mido, pretty-midi, sox, pygtrie, python-rtmidi, mir-eval, gym, backports.weakref, backports.tempfile, semantic-version, dm-sonnet, magenta\n",
            "  Found existing installation: oauth2client 4.1.3\n",
            "    Uninstalling oauth2client-4.1.3:\n",
            "      Successfully uninstalled oauth2client-4.1.3\n",
            "  Found existing installation: future 0.16.0\n",
            "    Uninstalling future-0.16.0:\n",
            "      Successfully uninstalled future-0.16.0\n",
            "  Found existing installation: pyarrow 0.14.1\n",
            "    Uninstalling pyarrow-0.14.1:\n",
            "      Successfully uninstalled pyarrow-0.14.1\n",
            "  Found existing installation: dill 0.3.2\n",
            "    Uninstalling dill-0.3.2:\n",
            "      Successfully uninstalled dill-0.3.2\n",
            "  Found existing installation: google-cloud-datastore 1.8.0\n",
            "    Uninstalling google-cloud-datastore-1.8.0:\n",
            "      Successfully uninstalled google-cloud-datastore-1.8.0\n",
            "  Found existing installation: cachetools 4.1.1\n",
            "    Uninstalling cachetools-4.1.1:\n",
            "      Successfully uninstalled cachetools-4.1.1\n",
            "  Found existing installation: google-cloud-language 1.2.0\n",
            "    Uninstalling google-cloud-language-1.2.0:\n",
            "      Successfully uninstalled google-cloud-language-1.2.0\n",
            "  Found existing installation: gast 0.3.3\n",
            "    Uninstalling gast-0.3.3:\n",
            "      Successfully uninstalled gast-0.3.3\n",
            "  Found existing installation: tensorflow-estimator 2.3.0\n",
            "    Uninstalling tensorflow-estimator-2.3.0:\n",
            "      Successfully uninstalled tensorflow-estimator-2.3.0\n",
            "  Found existing installation: tensorboard 2.3.0\n",
            "    Uninstalling tensorboard-2.3.0:\n",
            "      Successfully uninstalled tensorboard-2.3.0\n",
            "  Found existing installation: tensorflow 2.3.0\n",
            "    Uninstalling tensorflow-2.3.0:\n",
            "      Successfully uninstalled tensorflow-2.3.0\n",
            "  Found existing installation: gym 0.17.2\n",
            "    Uninstalling gym-0.17.2:\n",
            "      Successfully uninstalled gym-0.17.2\n",
            "Successfully installed apache-beam-2.23.0 avro-python3-1.10.0 backports.tempfile-1.0 backports.weakref-1.0.post1 cachetools-3.1.1 dill-0.3.1.1 dm-sonnet-1.35 fastavro-0.23.6 fasteners-0.15 future-0.18.2 gast-0.2.2 google-apitools-0.5.31 google-cloud-bigtable-1.0.0 google-cloud-datastore-1.7.4 google-cloud-dlp-0.13.0 google-cloud-language-1.3.0 google-cloud-pubsub-1.0.2 google-cloud-spanner-1.13.0 google-cloud-videointelligence-1.13.0 google-cloud-vision-0.42.0 grpc-google-iam-v1-0.12.3 grpcio-gcp-0.2.2 gym-0.15.7 hdfs-2.5.8 keras-applications-1.0.8 magenta-1.3.2 mido-1.2.6 mir-eval-0.6 mock-2.0.0 monotonic-1.5 oauth2client-3.0.0 pbr-5.4.5 pretty-midi-0.2.9 pyarrow-0.17.1 pygtrie-2.3.3 python-rtmidi-1.1.2 semantic-version-2.8.5 sk-video-1.1.10 sox-1.4.0 tensorboard-1.15.0 tensorflow-1.15.3 tensorflow-estimator-1.15.1\n"
          ],
          "name": "stdout"
        },
        {
          "output_type": "display_data",
          "data": {
            "application/vnd.colab-display-data+json": {
              "pip_warning": {
                "packages": [
                  "cachetools",
                  "google",
                  "pyarrow"
                ]
              }
            }
          },
          "metadata": {
            "tags": []
          }
        }
      ]
    },
    {
      "cell_type": "markdown",
      "metadata": {
        "id": "yS0qj97rmCM3"
      },
      "source": [
        "We also need Flat and Bezmerizing so we can draw the SVG commands that come out of the model. (There are other ways to do this, of course, but I like having the flexibility of Flat and Bezmerizing.)"
      ]
    },
    {
      "cell_type": "code",
      "metadata": {
        "id": "Shb6qWACbopw",
        "colab": {
          "base_uri": "https://localhost:8080/",
          "height": 191
        },
        "outputId": "67dd0ea7-2405-42d9-da27-78f92f7539b2"
      },
      "source": [
        "!pip install flat"
      ],
      "execution_count": null,
      "outputs": [
        {
          "output_type": "stream",
          "text": [
            "Collecting flat\n",
            "\u001b[?25l  Downloading https://files.pythonhosted.org/packages/02/a1/3e04798324dbf8d681d0f6e06dc6aa6022883644cf1baf20fab6a66e7d6b/Flat-0.3.1.tar.gz (46kB)\n",
            "\r\u001b[K     |███████                         | 10kB 15.2MB/s eta 0:00:01\r\u001b[K     |██████████████                  | 20kB 3.0MB/s eta 0:00:01\r\u001b[K     |█████████████████████           | 30kB 4.1MB/s eta 0:00:01\r\u001b[K     |████████████████████████████    | 40kB 4.4MB/s eta 0:00:01\r\u001b[K     |████████████████████████████████| 51kB 2.5MB/s \n",
            "\u001b[?25hBuilding wheels for collected packages: flat\n",
            "  Building wheel for flat (setup.py) ... \u001b[?25l\u001b[?25hdone\n",
            "  Created wheel for flat: filename=Flat-0.3.1-cp36-none-any.whl size=54586 sha256=c1a90745423a9ab561a99fa8c54e2a67da39fabff3192809fa26b7506bdaf528\n",
            "  Stored in directory: /root/.cache/pip/wheels/55/2e/c5/1842eeb06871d1e2cbf96ef75b88daccd6e487ca3f50d7ba3b\n",
            "Successfully built flat\n",
            "Installing collected packages: flat\n",
            "Successfully installed flat-0.3.1\n"
          ],
          "name": "stdout"
        }
      ]
    },
    {
      "cell_type": "code",
      "metadata": {
        "id": "JncyA2KBbp4V",
        "colab": {
          "base_uri": "https://localhost:8080/",
          "height": 263
        },
        "outputId": "e5c23980-d1c8-4247-dc29-1820e18fa041"
      },
      "source": [
        "!pip install https://github.com/aparrish/bezmerizing/archive/master.zip"
      ],
      "execution_count": null,
      "outputs": [
        {
          "output_type": "stream",
          "text": [
            "Collecting https://github.com/aparrish/bezmerizing/archive/master.zip\n",
            "\u001b[?25l  Downloading https://github.com/aparrish/bezmerizing/archive/master.zip\n",
            "\u001b[K     - 256kB 849kB/s\n",
            "\u001b[?25hRequirement already satisfied: flat>=0.0.3 in /usr/local/lib/python3.6/dist-packages (from bezmerizing==0.1.0) (0.3.1)\n",
            "Requirement already satisfied: scipy>=1.1.0 in /usr/local/lib/python3.6/dist-packages (from bezmerizing==0.1.0) (1.4.1)\n",
            "Requirement already satisfied: numpy>=1.13.3 in /usr/local/lib/python3.6/dist-packages (from scipy>=1.1.0->bezmerizing==0.1.0) (1.18.5)\n",
            "Building wheels for collected packages: bezmerizing\n",
            "  Building wheel for bezmerizing (setup.py) ... \u001b[?25l\u001b[?25hdone\n",
            "  Created wheel for bezmerizing: filename=bezmerizing-0.1.0-cp36-none-any.whl size=15816 sha256=e2036a4fd2d546644c9b212cee31e5eeceac31f5fb69ece55fca90cbec5e4a4a\n",
            "  Stored in directory: /tmp/pip-ephem-wheel-cache-5ga5bt8m/wheels/93/43/9b/8acebe44e4ac5fc93427a03a09bd7cd8110979c5701c77c7f8\n",
            "Successfully built bezmerizing\n",
            "Installing collected packages: bezmerizing\n",
            "Successfully installed bezmerizing-0.1.0\n"
          ],
          "name": "stdout"
        }
      ]
    },
    {
      "cell_type": "markdown",
      "metadata": {
        "id": "vClTHs9Ob0Ww"
      },
      "source": [
        "## Code preliminaries\n",
        "\n",
        "The following cell makes available various libraries that the rest of the code needs to function, including the Flat and Bezmerizing libraries that we'll use to draw the paths generated by the model."
      ]
    },
    {
      "cell_type": "code",
      "metadata": {
        "id": "-FWeKpn8VuDl",
        "colab": {
          "base_uri": "https://localhost:8080/",
          "height": 315
        },
        "outputId": "1022c43e-c38f-4b71-ccd2-e9f4dfe5cba6"
      },
      "source": [
        "from __future__ import print_function\n",
        "\n",
        "import copy\n",
        "import logging\n",
        "import numpy as np\n",
        "import re\n",
        "import tensorflow as tf\n",
        "import warnings\n",
        "\n",
        "from tensor2tensor.utils import registry\n",
        "from magenta.models import svg_vae\n",
        "from magenta.models.svg_vae import svg_utils\n",
        "from tensor2tensor.layers import common_layers\n",
        "from tensor2tensor.utils import trainer_lib\n",
        "\n",
        "# for drawing the paths\n",
        "from flat import document, shape, rgb, svg\n",
        "from bezmerizing import Path\n",
        "\n",
        "tfe = tf.contrib.eager\n",
        "Modes = tf.estimator.ModeKeys\n",
        "\n",
        "tf.enable_eager_execution()\n",
        "tf.get_logger().setLevel('WARN')\n",
        "\n",
        "logging.getLogger(\"mlperf_compliance\").setLevel(logging.ERROR)\n",
        "warnings.simplefilter(\"ignore\")\n",
        "\n",
        "from IPython.display import SVG, display\n",
        "def show(page):\n",
        "    display(SVG(page.svg()))"
      ],
      "execution_count": null,
      "outputs": [
        {
          "output_type": "stream",
          "text": [
            "WARNING:tensorflow:\n",
            "The TensorFlow contrib module will not be included in TensorFlow 2.0.\n",
            "For more information, please see:\n",
            "  * https://github.com/tensorflow/community/blob/master/rfcs/20180907-contrib-sunset.md\n",
            "  * https://github.com/tensorflow/addons\n",
            "  * https://github.com/tensorflow/io (for I/O related ops)\n",
            "If you depend on functionality not listed there, please file an issue.\n",
            "\n",
            "WARNING:tensorflow:From /usr/local/lib/python3.6/dist-packages/tensor2tensor/utils/adafactor.py:27: The name tf.train.Optimizer is deprecated. Please use tf.compat.v1.train.Optimizer instead.\n",
            "\n",
            "WARNING:tensorflow:From /usr/local/lib/python3.6/dist-packages/tensor2tensor/utils/multistep_optimizer.py:32: The name tf.train.AdamOptimizer is deprecated. Please use tf.compat.v1.train.AdamOptimizer instead.\n",
            "\n",
            "WARNING:tensorflow:From /usr/local/lib/python3.6/dist-packages/tensor2tensor/utils/metrics_hook.py:28: The name tf.train.SessionRunHook is deprecated. Please use tf.estimator.SessionRunHook instead.\n",
            "\n",
            "WARNING:tensorflow:From /usr/local/lib/python3.6/dist-packages/tensor2tensor/utils/trainer_lib.py:111: The name tf.OptimizerOptions is deprecated. Please use tf.compat.v1.OptimizerOptions instead.\n",
            "\n"
          ],
          "name": "stdout"
        }
      ]
    },
    {
      "cell_type": "markdown",
      "metadata": {
        "id": "Eg5WuZmcIuLE"
      },
      "source": [
        "This function loads and returns the pre-trained model from disk:"
      ]
    },
    {
      "cell_type": "code",
      "metadata": {
        "id": "fnEUUElhSJc8"
      },
      "source": [
        "def initialize_model_svg(problem_name, hparam_set, hparams, model_name,\n",
        "                     ckpt_dir, split=Modes.TRAIN):\n",
        "  \"\"\"Returns an initialized model, dataset iterator and hparams.\"\"\"\n",
        "  tf.reset_default_graph()\n",
        "  \n",
        "  # create hparams and get glyphazzn problem definition\n",
        "  hparams = trainer_lib.create_hparams(hparam_set, hparams,\n",
        "                                       problem_name=problem_name)\n",
        "  problem = registry.problem(problem_name)\n",
        "  \n",
        "  # get model definition\n",
        "  ModelClass = registry.model(model_name)\n",
        "  model = ModelClass(hparams, mode=Modes.PREDICT,\n",
        "                     problem_hparams=hparams.problem_hparams)\n",
        "  \n",
        "  # the model apparently needs to be \"fed\" a sample before you can\n",
        "  # initialize it from the checkpoint. as far as I can tell, it\n",
        "  # doesn't matter what's in this sample—it can be completely made up.\n",
        "  # I'm not sure if I got these dimensions right, not sure if it matters?\n",
        "  features = {}\n",
        "  features['bottleneck'] = tf.random_normal([64, 32])\n",
        "  features['targets_cls'] = [[11]*64]\n",
        "  features['inputs'] = tf.zeros([64, 51, 1, hparams.problem.feature_dim])\n",
        "  features['targets_psr'] = tf.zeros([64, 1, 64*64, 1])\n",
        "  features['targets'] = tf.zeros([64, 51, 1, hparams.problem.feature_dim])\n",
        "  output, extra_losses = model(features)\n",
        "  model.initialize_from_ckpt(ckpt_dir)  # initializes ops\n",
        "  \n",
        "  return model, hparams"
      ],
      "execution_count": null,
      "outputs": []
    },
    {
      "cell_type": "markdown",
      "metadata": {
        "id": "F0oP7ZOII6XP"
      },
      "source": [
        "... and this function loads and returns the numpy arrays that we need in order to un-normalize the paths:"
      ]
    },
    {
      "cell_type": "code",
      "metadata": {
        "id": "if-m_z1OFa3K"
      },
      "source": [
        "def get_means_stdevs():\n",
        "  with tf.gfile.Open('mean.npz', 'rb') as f:\n",
        "    mean_npz = np.load(f)\n",
        "  with tf.gfile.Open('stdev.npz', 'rb') as f:\n",
        "    stdev_npz = np.load(f)\n",
        "  return mean_npz, stdev_npz"
      ],
      "execution_count": null,
      "outputs": []
    },
    {
      "cell_type": "markdown",
      "metadata": {
        "id": "93Shi6q00bHv"
      },
      "source": [
        "## Generating glyphs from the model\n",
        "\n",
        "Okay, with all that out of the way, we can actually get around to generating stuff with the model. First, load the model like so:"
      ]
    },
    {
      "cell_type": "code",
      "metadata": {
        "id": "y_oJVwBjZ9n-",
        "colab": {
          "base_uri": "https://localhost:8080/",
          "height": 819
        },
        "outputId": "25907e03-bec7-449c-c39d-bd1b3e81ef35"
      },
      "source": [
        "svg_model, svg_hparams = initialize_model_svg(\n",
        "    problem_name='glyph_azzn_problem',\n",
        "    hparam_set='svg_decoder',\n",
        "    hparams=(\n",
        "        \"vae_ckpt_dir=usr/local/google/home/iraphael/dev/svg_vae/image_vae_external/,\"\n",
        "        \"vae_hparam_set=image_vae,mix_temperature=0.0001,gauss_temperature=0.0001\"\n",
        "    ),\n",
        "    model_name='svg_decoder',\n",
        "    ckpt_dir='usr/local/google/home/iraphael/dev/svg_vae/svg_decoder_external/')"
      ],
      "execution_count": null,
      "outputs": [
        {
          "output_type": "stream",
          "text": [
            "WARNING:tensorflow:From /usr/local/lib/python3.6/dist-packages/tensor2tensor/utils/hparams_lib.py:54: The name tf.logging.info is deprecated. Please use tf.compat.v1.logging.info instead.\n",
            "\n",
            "WARNING:tensorflow:From /usr/local/lib/python3.6/dist-packages/tensor2tensor/layers/common_layers.py:94: The name tf.get_default_graph is deprecated. Please use tf.compat.v1.get_default_graph instead.\n",
            "\n",
            "WARNING:tensorflow:From /usr/local/lib/python3.6/dist-packages/tensor2tensor/utils/t2t_model.py:244: The name tf.summary.text is deprecated. Please use tf.compat.v1.summary.text instead.\n",
            "\n",
            "WARNING:tensorflow:From /usr/local/lib/python3.6/dist-packages/tensor2tensor/utils/t2t_model.py:2306: The name tf.get_variable_scope is deprecated. Please use tf.compat.v1.get_variable_scope instead.\n",
            "\n",
            "WARNING:tensorflow:From /usr/local/lib/python3.6/dist-packages/tensor2tensor/utils/expert_utils.py:220: The name tf.variable_scope is deprecated. Please use tf.compat.v1.variable_scope instead.\n",
            "\n",
            "WARNING:tensorflow:From /usr/local/lib/python3.6/dist-packages/tensor2tensor/utils/t2t_model.py:1368: to_int32 (from tensorflow.python.ops.math_ops) is deprecated and will be removed in a future version.\n",
            "Instructions for updating:\n",
            "Use `tf.cast` instead.\n",
            "WARNING:tensorflow:From /usr/local/lib/python3.6/dist-packages/magenta/models/svg_vae/image_vae.py:175: flatten (from tensorflow.python.layers.core) is deprecated and will be removed in a future version.\n",
            "Instructions for updating:\n",
            "Use keras.layers.flatten instead.\n",
            "WARNING:tensorflow:From /usr/local/lib/python3.6/dist-packages/tensorflow_core/python/layers/core.py:332: Layer.apply (from tensorflow.python.keras.engine.base_layer) is deprecated and will be removed in a future version.\n",
            "Instructions for updating:\n",
            "Please use `layer.__call__` method instead.\n",
            "WARNING:tensorflow:From /usr/local/lib/python3.6/dist-packages/magenta/models/svg_vae/image_vae.py:176: dense (from tensorflow.python.layers.core) is deprecated and will be removed in a future version.\n",
            "Instructions for updating:\n",
            "Use keras.layers.Dense instead.\n",
            "WARNING:tensorflow:From /usr/local/lib/python3.6/dist-packages/tensor2tensor/utils/t2t_model.py:2339: The name tf.train.init_from_checkpoint is deprecated. Please use tf.compat.v1.train.init_from_checkpoint instead.\n",
            "\n",
            "WARNING:tensorflow:From /usr/local/lib/python3.6/dist-packages/magenta/models/svg_vae/svg_decoder.py:282: to_float (from tensorflow.python.ops.math_ops) is deprecated and will be removed in a future version.\n",
            "Instructions for updating:\n",
            "Use `tf.cast` instead.\n",
            "WARNING:tensorflow:From /usr/local/lib/python3.6/dist-packages/magenta/models/svg_vae/svg_decoder.py:139: MultiRNNCell.__init__ (from tensorflow.python.ops.rnn_cell_impl) is deprecated and will be removed in a future version.\n",
            "Instructions for updating:\n",
            "This class is equivalent as tf.keras.layers.StackedRNNCells, and will be replaced by that in Tensorflow 2.0.\n",
            "WARNING:tensorflow:From /usr/local/lib/python3.6/dist-packages/magenta/models/svg_vae/svg_decoder_loss.py:155: Categorical.__init__ (from tensorflow.python.ops.distributions.categorical) is deprecated and will be removed after 2019-01-01.\n",
            "Instructions for updating:\n",
            "The TensorFlow Distributions library has moved to TensorFlow Probability (https://github.com/tensorflow/probability). You should update all references to use `tfp.distributions` instead of `tf.distributions`.\n",
            "WARNING:tensorflow:From /usr/local/lib/python3.6/dist-packages/tensorflow_core/python/ops/distributions/categorical.py:242: Distribution.__init__ (from tensorflow.python.ops.distributions.distribution) is deprecated and will be removed after 2019-01-01.\n",
            "Instructions for updating:\n",
            "The TensorFlow Distributions library has moved to TensorFlow Probability (https://github.com/tensorflow/probability). You should update all references to use `tfp.distributions` instead of `tf.distributions`.\n",
            "WARNING:tensorflow:From /usr/local/lib/python3.6/dist-packages/tensorflow_core/python/ops/distributions/categorical.py:278: multinomial (from tensorflow.python.ops.random_ops) is deprecated and will be removed in a future version.\n",
            "Instructions for updating:\n",
            "Use `tf.random.categorical` instead.\n",
            "WARNING:tensorflow:From /usr/local/lib/python3.6/dist-packages/tensorflow_core/python/ops/math_ops.py:2509: where (from tensorflow.python.ops.array_ops) is deprecated and will be removed in a future version.\n",
            "Instructions for updating:\n",
            "Use tf.where in 2.0, which has the same broadcast rule as np.where\n",
            "WARNING:tensorflow:From /usr/local/lib/python3.6/dist-packages/magenta/models/svg_vae/svg_decoder.py:206: dynamic_rnn (from tensorflow.python.ops.rnn) is deprecated and will be removed in a future version.\n",
            "Instructions for updating:\n",
            "Please use `keras.layers.RNN(cell)`, which is equivalent to this API\n"
          ],
          "name": "stdout"
        }
      ]
    },
    {
      "cell_type": "markdown",
      "metadata": {
        "id": "attgHZkqmb5d"
      },
      "source": [
        "We want to use the model to generate SVG paths for letterforms. To do this, you call the model's `.infer()` method, with a vector as a parameter. The model \"decompresses\" this vector into a sequence of SVG commands. Because this is a generative model, you can pass in arbitrary numbers for this vector—even random numbers (using a normal distribution). SVG paths generated from similar vectors will have similar characteristics."
      ]
    },
    {
      "cell_type": "markdown",
      "metadata": {
        "id": "ZTbO6d0zTmcO"
      },
      "source": [
        "The function in the cell below calls the model's `.infer()` method with the specified vector. (This vector should have 32 dimensions, which is the size of the model's latent variable. It'll work best with a number that is sampled from a normal distribution.) It generates one vector for every letter in the model's vocabulary (0-9, A-Z, a-z)."
      ]
    },
    {
      "cell_type": "code",
      "metadata": {
        "id": "7VrPRJSOfTfr"
      },
      "source": [
        "def infer_alphabet(z):\n",
        "    batch_size = 62 # total number of classes\n",
        "    # dimensions of pretrained model's latent space (I just happen to know this)\n",
        "    zdim = 32\n",
        "    # using the same z value for each letter in the alphabet\n",
        "    bottleneck = tf.tile([z.astype(np.float32)], [batch_size, 1])\n",
        "    # the .infer() method requires an \"example\" sample from the dataset.\n",
        "    # here I just create a dummy record. the only important values are\n",
        "    # `bottleneck` (the value for the latent space) and `targets_cls` (the\n",
        "    # classes that we want to generate)\n",
        "    features = {}\n",
        "    features['bottleneck'] = bottleneck\n",
        "    features['targets_cls'] = [i for i in range(batch_size)]\n",
        "    features['inputs'] = tf.zeros([batch_size, 51, 1,\n",
        "                                   svg_hparams.problem.feature_dim])\n",
        "    features['targets'] = tf.zeros([batch_size, 51, 1,\n",
        "                                    svg_hparams.problem.feature_dim])\n",
        "    features['targets_psr'] = tf.zeros([batch_size, 1, 64*64, 1])\n",
        "    out = svg_model.infer(features, decode_length=0)\n",
        "    return out['outputs']"
      ],
      "execution_count": null,
      "outputs": []
    },
    {
      "cell_type": "markdown",
      "metadata": {
        "id": "Hy86BcU3nesx"
      },
      "source": [
        "Run the function like so. (The `np.random.randn()` function generates a random vector with the specified number of dimensions following a normal distribution.)"
      ]
    },
    {
      "cell_type": "code",
      "metadata": {
        "id": "W_1JwY8eg61a"
      },
      "source": [
        "alphabet = infer_alphabet(np.random.randn(32))"
      ],
      "execution_count": null,
      "outputs": []
    },
    {
      "cell_type": "markdown",
      "metadata": {
        "id": "XdTIEjQqn1Hi"
      },
      "source": [
        "The resulting value is a big old weird tensor that isn't very valuable to us on its own. (\"Tensor\" btw is essentially a fancy word for \"a list with other lists in it, and those lists might have other lists in them to, and so forth.\") But each row contains an encoded version of an SVG command. There's one row for each letter in the model's vocabulary."
      ]
    },
    {
      "cell_type": "code",
      "metadata": {
        "id": "H4LP77V5ntwR",
        "colab": {
          "base_uri": "https://localhost:8080/",
          "height": 1000
        },
        "outputId": "7c7b07ff-e6fd-4d09-fe57-d0cfe9ecb179"
      },
      "source": [
        "alphabet"
      ],
      "execution_count": null,
      "outputs": [
        {
          "output_type": "execute_result",
          "data": {
            "text/plain": [
              "<tf.Tensor: id=38537, shape=(62, 51, 1, 10), dtype=float32, numpy=\n",
              "array([[[[ 0.00000000e+00,  1.00000000e+00,  0.00000000e+00, ...,\n",
              "          -9.37601388e-01,  3.10494566e+00,  1.49910021e+00]],\n",
              "\n",
              "        [[ 0.00000000e+00,  0.00000000e+00,  0.00000000e+00, ...,\n",
              "          -2.16766559e-02,  3.38506624e-02,  1.61985800e-01]],\n",
              "\n",
              "        [[ 0.00000000e+00,  0.00000000e+00,  0.00000000e+00, ...,\n",
              "           7.33388364e-02,  3.83214235e-01,  1.48813695e-01]],\n",
              "\n",
              "        ...,\n",
              "\n",
              "        [[ 0.00000000e+00,  0.00000000e+00,  0.00000000e+00, ...,\n",
              "          -7.41805509e-02, -1.42593428e-01, -1.54692113e-01]],\n",
              "\n",
              "        [[ 0.00000000e+00,  0.00000000e+00,  0.00000000e+00, ...,\n",
              "          -1.53501377e-01, -6.26851022e-02, -1.61252558e-01]],\n",
              "\n",
              "        [[ 0.00000000e+00,  0.00000000e+00,  0.00000000e+00, ...,\n",
              "          -9.77352411e-02, -1.32421162e-02, -1.21311516e-01]]],\n",
              "\n",
              "\n",
              "       [[[ 0.00000000e+00,  1.00000000e+00,  0.00000000e+00, ...,\n",
              "          -5.05234420e-01,  3.05760145e+00,  1.52515888e+00]],\n",
              "\n",
              "        [[ 0.00000000e+00,  0.00000000e+00,  0.00000000e+00, ...,\n",
              "           4.60122861e-02,  7.55538195e-02,  2.50901021e-02]],\n",
              "\n",
              "        [[ 0.00000000e+00,  0.00000000e+00,  0.00000000e+00, ...,\n",
              "           3.22409093e-01, -5.99606223e-02,  1.60231665e-01]],\n",
              "\n",
              "        ...,\n",
              "\n",
              "        [[ 1.00000000e+00,  0.00000000e+00,  0.00000000e+00, ...,\n",
              "           1.83704734e+00, -8.89311194e-01, -6.52213693e-01]],\n",
              "\n",
              "        [[ 0.00000000e+00,  0.00000000e+00,  0.00000000e+00, ...,\n",
              "           1.83320391e+00, -7.63228893e-01,  1.95376515e+00]],\n",
              "\n",
              "        [[ 0.00000000e+00,  0.00000000e+00,  0.00000000e+00, ...,\n",
              "           1.90476823e+00, -7.18002915e-01,  1.95431018e+00]]],\n",
              "\n",
              "\n",
              "       [[[ 0.00000000e+00,  1.00000000e+00,  0.00000000e+00, ...,\n",
              "          -1.44684672e-01,  3.07548714e+00,  1.55855846e+00]],\n",
              "\n",
              "        [[ 0.00000000e+00,  0.00000000e+00,  0.00000000e+00, ...,\n",
              "          -1.46373389e-02,  6.88034296e-01,  1.07784748e-01]],\n",
              "\n",
              "        [[ 0.00000000e+00,  0.00000000e+00,  0.00000000e+00, ...,\n",
              "           6.85476720e-01,  3.77247989e-01,  5.66143513e-01]],\n",
              "\n",
              "        ...,\n",
              "\n",
              "        [[ 0.00000000e+00,  0.00000000e+00,  0.00000000e+00, ...,\n",
              "           1.91415358e+00, -7.36278474e-01,  1.90639377e+00]],\n",
              "\n",
              "        [[ 0.00000000e+00,  0.00000000e+00,  1.00000000e+00, ...,\n",
              "           2.04486632e+00, -6.71169400e-01,  1.78108680e+00]],\n",
              "\n",
              "        [[ 0.00000000e+00,  0.00000000e+00,  1.00000000e+00, ...,\n",
              "           1.51692486e+00, -5.36021113e-01, -6.97085261e-02]]],\n",
              "\n",
              "\n",
              "       ...,\n",
              "\n",
              "\n",
              "       [[[ 0.00000000e+00,  1.00000000e+00,  0.00000000e+00, ...,\n",
              "           1.95426917e+00,  2.10936141e+00,  2.66000152e+00]],\n",
              "\n",
              "        [[ 0.00000000e+00,  0.00000000e+00,  0.00000000e+00, ...,\n",
              "           6.62703253e-03,  1.29256779e-02, -3.07098869e-03]],\n",
              "\n",
              "        [[ 0.00000000e+00,  0.00000000e+00,  0.00000000e+00, ...,\n",
              "           1.22670019e+00,  1.95675343e-01,  6.54585958e-01]],\n",
              "\n",
              "        ...,\n",
              "\n",
              "        [[ 0.00000000e+00,  0.00000000e+00,  0.00000000e+00, ...,\n",
              "           2.61845541e+00, -7.01656044e-01,  1.94478452e+00]],\n",
              "\n",
              "        [[ 0.00000000e+00,  0.00000000e+00,  1.00000000e+00, ...,\n",
              "           1.94111300e+00,  1.01248696e-01, -1.55897718e-02]],\n",
              "\n",
              "        [[ 0.00000000e+00,  0.00000000e+00,  0.00000000e+00, ...,\n",
              "          -2.84778327e-01, -1.48055255e-01, -1.27845764e+00]]],\n",
              "\n",
              "\n",
              "       [[[ 0.00000000e+00,  1.00000000e+00,  0.00000000e+00, ...,\n",
              "          -2.65304655e-01,  2.24935889e+00,  2.73738599e+00]],\n",
              "\n",
              "        [[ 0.00000000e+00,  0.00000000e+00,  0.00000000e+00, ...,\n",
              "           2.83682067e-02,  1.07845813e-02,  1.65128894e-02]],\n",
              "\n",
              "        [[ 0.00000000e+00,  0.00000000e+00,  0.00000000e+00, ...,\n",
              "           2.95344025e-01, -8.66623074e-02,  1.02903277e-01]],\n",
              "\n",
              "        ...,\n",
              "\n",
              "        [[ 0.00000000e+00,  0.00000000e+00,  0.00000000e+00, ...,\n",
              "          -1.18592286e+00, -1.41048849e-01, -8.54610726e-02]],\n",
              "\n",
              "        [[ 0.00000000e+00,  0.00000000e+00,  0.00000000e+00, ...,\n",
              "          -5.87085307e-01, -2.18656123e-01, -2.09410727e-01]],\n",
              "\n",
              "        [[ 0.00000000e+00,  0.00000000e+00,  0.00000000e+00, ...,\n",
              "          -1.28002191e+00, -1.36821955e-01, -7.72861421e-01]]],\n",
              "\n",
              "\n",
              "       [[[ 0.00000000e+00,  1.00000000e+00,  0.00000000e+00, ...,\n",
              "           1.12621211e-01,  2.11934566e+00,  2.66212082e+00]],\n",
              "\n",
              "        [[ 0.00000000e+00,  0.00000000e+00,  0.00000000e+00, ...,\n",
              "          -6.87882258e-03,  2.92107761e-01,  1.17351813e-03]],\n",
              "\n",
              "        [[ 0.00000000e+00,  0.00000000e+00,  0.00000000e+00, ...,\n",
              "           4.12517011e-01,  2.79566884e-01,  6.98866174e-02]],\n",
              "\n",
              "        ...,\n",
              "\n",
              "        [[ 0.00000000e+00,  0.00000000e+00,  0.00000000e+00, ...,\n",
              "          -1.25789002e-01, -1.54059947e-01, -1.34483486e-01]],\n",
              "\n",
              "        [[ 0.00000000e+00,  0.00000000e+00,  0.00000000e+00, ...,\n",
              "          -1.44575283e-01, -1.29736826e-01, -1.46981508e-01]],\n",
              "\n",
              "        [[ 0.00000000e+00,  0.00000000e+00,  0.00000000e+00, ...,\n",
              "          -8.62441733e-02, -1.37847692e-01, -1.29339561e-01]]]],\n",
              "      dtype=float32)>"
            ]
          },
          "metadata": {
            "tags": []
          },
          "execution_count": 9
        }
      ]
    },
    {
      "cell_type": "markdown",
      "metadata": {
        "id": "VUfX2iqjoBpQ"
      },
      "source": [
        "To display the character generated by the model, we need to convert that encoded value to an actual SVG command. Even more useful to us would be a Bezmerizing `Path` object, which we can use to draw the glyph to the screen using Flat.\n",
        "\n",
        "The function below takes the tensor returned from `infer_alphabet()` and returns a list of `Path` objects for each row in the tensor. (This function makes use of various functions that are distributed with the source code of the model in its `svg_utils` module.)"
      ]
    },
    {
      "cell_type": "code",
      "metadata": {
        "id": "Uoc86NFgpedA"
      },
      "source": [
        "def tensor_to_paths(out):\n",
        "    mean_npz, stdev_npz = get_means_stdevs()\n",
        "    all_paths = []\n",
        "    for i in range(out.shape[0]):\n",
        "        tensor = tf.expand_dims(out[i], 0)\n",
        "        # \"unnormalize\" the tensor (using values calculated from the\n",
        "        # pre-processed data set)\n",
        "        tensor = (tensor * stdev_npz) + mean_npz\n",
        "        vector = tf.squeeze(svg_utils.make_simple_cmds_long(tensor), [0, 2])\n",
        "        path_parts = []\n",
        "        # convert each row in this vector to an SVG command\n",
        "        for vec in vector:\n",
        "            cmd = svg_utils.vector_to_cmd(vec, categorical=True,\n",
        "                                          return_floats=True)\n",
        "            # if this is the end of the string, break out of the loop\n",
        "            is_eos = np.argmax(vec[:20]) == 0\n",
        "            if is_eos:\n",
        "                break\n",
        "            if len(cmd) > 0:\n",
        "                cmd_formatted = cmd[0] + ' ' + ' '.join(\n",
        "                    [f'{c:.5f}' for c in cmd[1:]])\n",
        "                path_parts.append(cmd_formatted)\n",
        "        path_str = ' '.join(path_parts)\n",
        "        path = Path(svg.parsepath(path_str.encode('utf8')))\n",
        "        all_paths.append(path)\n",
        "    return all_paths"
      ],
      "execution_count": null,
      "outputs": []
    },
    {
      "cell_type": "markdown",
      "metadata": {
        "id": "Jc_ZIkHvqJgz"
      },
      "source": [
        "Finally, the `generate_alphabet()` function combines these two, returning the paths for an alphabet generated from a single vector:"
      ]
    },
    {
      "cell_type": "code",
      "metadata": {
        "id": "09K_EKwSqQ00"
      },
      "source": [
        "def generate_alphabet(z):\n",
        "    return tensor_to_paths(infer_alphabet(z))"
      ],
      "execution_count": null,
      "outputs": []
    },
    {
      "cell_type": "markdown",
      "metadata": {
        "id": "Z_f6DTW8rBWI"
      },
      "source": [
        "So now we can easily generate an entire alphabet of paths:"
      ]
    },
    {
      "cell_type": "code",
      "metadata": {
        "id": "-WX2t9dUp_-2"
      },
      "source": [
        "alphabet_paths = generate_alphabet(np.random.randn(32))"
      ],
      "execution_count": null,
      "outputs": []
    },
    {
      "cell_type": "markdown",
      "metadata": {
        "id": "0GYAu9egrGHw"
      },
      "source": [
        "Take a look at one of the paths:"
      ]
    },
    {
      "cell_type": "code",
      "metadata": {
        "id": "NdnS70CMrQF_",
        "colab": {
          "base_uri": "https://localhost:8080/",
          "height": 54
        },
        "outputId": "8afd429d-43b6-4bed-e5a8-a7300e9e035a"
      },
      "source": [
        "alphabet_paths[10]"
      ],
      "execution_count": null,
      "outputs": [
        {
          "output_type": "execute_result",
          "data": {
            "text/plain": [
              "Path([moveto(x=14.3238, y=10.5709), lineto(x=15.6100, y=10.5924), lineto(x=16.3921, y=23.0784), lineto(x=18.0033, y=23.0733), lineto(x=17.9627, y=23.5642), lineto(x=13.0283, y=23.5530), lineto(x=13.1349, y=23.0757), lineto(x=14.7853, y=23.0535), lineto(x=14.2406, y=19.1435), lineto(x=8.5528, y=19.1443), lineto(x=5.8543, y=22.5063), lineto(x=7.4960, y=23.3516), lineto(x=7.3342, y=23.7764), lineto(x=2.8617, y=23.7359), lineto(x=2.9566, y=23.3116), lineto(x=4.7223, y=23.0344), curveto(x1=6.1885, y1=20.0370, x2=9.8902, y2=16.9675, x=10.1654, y=11.4301), lineto(x=12.3208, y=11.0556), moveto(x=11.4555, y=12.4222), lineto(x=6.9433, y=19.5442), lineto(x=13.3487, y=19.5442), lineto(x=11.6169, y=12.8175)])"
            ]
          },
          "metadata": {
            "tags": []
          },
          "execution_count": 13
        }
      ]
    },
    {
      "cell_type": "markdown",
      "metadata": {
        "id": "n_84obhfrXHR"
      },
      "source": [
        "The `generate_alphabet()` function returns a list of paths. In this list, the index for a particular character corresponds to that character's position in the sequence of values 0-9, A-Z, a-z. The function below takes a character and returns its position in this sequence (if applicable):\n"
      ]
    },
    {
      "cell_type": "code",
      "metadata": {
        "id": "Nu8lQMglrk1y"
      },
      "source": [
        "def c2i(ch):\n",
        "    lookup = '0123456789ABCDEFGHIJKLMNOPQRSTUVWXYZabcdefghijklmnopqrstuvwxyz'\n",
        "    return lookup.index(ch)"
      ],
      "execution_count": null,
      "outputs": []
    },
    {
      "cell_type": "markdown",
      "metadata": {
        "id": "qYY-ityWKna9"
      },
      "source": [
        "For example, the index of the capital letter `P`:"
      ]
    },
    {
      "cell_type": "code",
      "metadata": {
        "id": "OC41skr7rvu6",
        "colab": {
          "base_uri": "https://localhost:8080/",
          "height": 34
        },
        "outputId": "6672dd39-f820-4f67-8661-24335936e348"
      },
      "source": [
        "c2i('P')"
      ],
      "execution_count": null,
      "outputs": [
        {
          "output_type": "execute_result",
          "data": {
            "text/plain": [
              "25"
            ]
          },
          "metadata": {
            "tags": []
          },
          "execution_count": 15
        }
      ]
    },
    {
      "cell_type": "markdown",
      "metadata": {
        "id": "17MstQa-r5U-"
      },
      "source": [
        "The following cell puts all of this together, and draws the glyph in this generated alphabet for the letter `P`."
      ]
    },
    {
      "cell_type": "code",
      "metadata": {
        "id": "v_ojuMfsY2NL",
        "colab": {
          "base_uri": "https://localhost:8080/",
          "height": 325
        },
        "outputId": "7a354bc4-937e-4e71-c1ed-af4eeb3476a5"
      },
      "source": [
        "glyph = alphabet_paths[c2i('P')]\n",
        "page = document(80, 80, 'mm').addpage()\n",
        "pen = shape().stroke(rgb(40, 40, 40)).fill(rgb(128, 128, 128))\n",
        "page.place(pen.path(glyph.scale(4)))\n",
        "show(page)"
      ],
      "execution_count": null,
      "outputs": [
        {
          "output_type": "display_data",
          "data": {
            "text/plain": [
              "<IPython.core.display.SVG object>"
            ],
            "image/svg+xml": "<svg height=\"226.7717pt\" version=\"1.1\" width=\"226.7717pt\" xmlns=\"http://www.w3.org/2000/svg\" xmlns:xlink=\"http://www.w3.org/1999/xlink\">\n<title>Untitled</title>\n<path d=\"M103.5082,121.867 L157.4663,122.1271 C178.242,122.0835,174.0707,122.1358,184.8881,127.7644 C197.1718,133.5398,195.3611,133.5087,196.1851,149.0562 C195.6234,166.6238,196.3794,163.7206,183.4714,178.6679 C171.5102,192.4772,171.1525,192.138,153.8089,198.5949 C137.7091,204.1227,138.9873,204.4147,118.4004,203.9965 L101.4358,203.6298 L89.0617,255.8773 L80.3759,262.5183 L75.4283,261.8137 L76.1617,259.1836 L78.9013,141.7513 L79.0858,138.6663 L78.6243,137.0086 L78.7504,135.5057 L78.8017,133.698 L78.8546,132.9909 L79.1854,132.6653 M79.0924,137.3562 L70.079,198.6752 L89.4365,199.0719 C108.504,197.202,103.5609,197.5748,116.1099,196.0832 C127.3317,194.583,127.2889,194.5391,136.4844,191.7547 C145.5115,188.9452,145.475,188.9131,152.1376,183.6559 C158.8458,178.533,158.8038,178.5216,162.2815,171.4168 C167.8931,164.3644,166.9446,164.35,165.4862,150.2563 C163.4113,138.6361,164.4276,138.6646,153.5876,138.4493 C143.9237,138.3731,143.6793,138.3063,129.5663,138.1993 C115.5583,138.056,115.2149,137.9942,102.7094,137.9191 C90.6685,137.826,90.4057,137.792,82.0854,137.7419\" fill=\"rgb(128,128,128)\" stroke=\"rgb(40,40,40)\" stroke-miterlimit=\"10\"/>\n</svg>"
          },
          "metadata": {
            "tags": []
          }
        }
      ]
    },
    {
      "cell_type": "markdown",
      "metadata": {
        "id": "j9jXu13rtWk7"
      },
      "source": [
        "The following example draws all 62 glyphs in the alphabet in a grid, so you can preview the results. (Each time you run the cell, it will generate a new alphabet.)"
      ]
    },
    {
      "cell_type": "code",
      "metadata": {
        "id": "w6Go6H2XtdBh",
        "colab": {
          "base_uri": "https://localhost:8080/",
          "height": 400
        },
        "outputId": "5b08661f-e17e-4d4d-d070-0b6b84d454e6"
      },
      "source": [
        "alphabet_paths = generate_alphabet(np.random.randn(32))\n",
        "width = 100\n",
        "height = 100\n",
        "page = document(width, height, 'mm').addpage()\n",
        "pen = shape().nostroke().fill(rgb(40, 40, 40))\n",
        "grid_size = 8\n",
        "cell_size = width / grid_size\n",
        "for i in range(grid_size):\n",
        "    for j in range(grid_size):\n",
        "        x = i * cell_size\n",
        "        y = j * cell_size\n",
        "        idx = (j * grid_size) + (i % grid_size)\n",
        "        if idx < len(alphabet_paths):\n",
        "            this_glyph = alphabet_paths[idx]\n",
        "            page.place(pen.path(this_glyph.scale(0.6).translate(x, y)))\n",
        "show(page)"
      ],
      "execution_count": null,
      "outputs": [
        {
          "output_type": "display_data",
          "data": {
            "text/plain": [
              "<IPython.core.display.SVG object>"
            ],
            "image/svg+xml": "<svg height=\"283.4646pt\" version=\"1.1\" width=\"283.4646pt\" xmlns=\"http://www.w3.org/2000/svg\" xmlns:xlink=\"http://www.w3.org/1999/xlink\">\n<title>Untitled</title>\n<path d=\"M24.2335,13.6827 C28.6673,13.6861,28.0264,13.6848,31.8963,15.423 L29.3303,18.0514 C27.5353,18.613,27.3661,20.4014,22.5151,19.2759 C19.3421,20.3641,19.023,22.3361,17.8878,28.9995 C17.0028,32.0568,17.0163,32.2346,17.2127,35.544 C18.1175,37.5324,18.5528,37.3517,20.9949,37.7497 C23.2802,37.2771,24.5311,36.1058,25.4392,36.6008 C26.5595,36.6715,26.1822,36.6214,26.2908,37.9923 C25.8475,39.1468,23.4013,39.4501,20.7002,39.525 C16.9515,39.6098,14.2942,37.3235,13.2232,36.7676 C11.1576,35.6811,10.9494,31.017,11.6713,32.0012 C11.9571,29.9312,12.1952,27.6479,13.1845,30.3807 C13.3902,29.5847,13.1003,28.4323,13.9683,30.3481 C14.3855,29.9057,14.6422,29.17,16.0807,30.78 C16.6805,29.9733,16.9424,29.1368,17.9231,30.6467 C18.6615,31.1294,19.1179,28.8454,18.7826,30.5498 C18.5831,31.6223,19.2928,30.5067,18.3191,31.7957 C17.914,32.7721,18.5822,32.9094,17.3178,32.8041 C16.4688,32.7167,16.7709,31.7564,15.9859,32.2573 C15.2536,32.7919,15.1412,31.5667,14.7656,31.9915 C14.138,32.3163,13.9165,32.0397,13.9391,31.1912 C13.8528,30.3454,14.6849,24.3802,14.3885,27.368 C14.1873,27.1571,14.4165,24.0208,13.9758,25.7509 C13.7903,25.728,14.3915,25.1563,13.7502,24.5712 C13.4161,23.9056,14.2205,19.8671,13.2353,21.4199 C13.0039,21.314,13.6725,18.6884,12.7546,19.7888 C12.5525,19.6871,13.2865,18.9684,12.313,18.1205 C12.4016,17.3391,14.1541,14.2286,12.3002,15.1353 C12.2164,14.0173,13.3613,13.1178,12.1094,13.1886 C11.9076,12.2943,13.3009,11.543,11.8305,11.3836 C11.8072,10.2842,13.6447,9.6363,12.1822,9.5074 C12.0837,8.6666,14.0453,8.3676,12.418,8.1196 C12.4569,7.315,14.7679,7.1287,13.0602,7.0534 C12.7834,6.5717,14.4445,6.719,13.1969,6.3387 C13.102,6.0559,15.1213,5.664,13.6586,5.8633 C13.2263,5.831,14.1504,6.1076,13.2766,5.5411 C13.2073,5.1574,15.1687,4.9102,13.8758,5.3626 C13.5391,5.4229,14.4866,5.6642,13.5996,5.177 C13.5339,4.7721,15.4346,4.6473,14.1632,5.2906 C13.8198,5.4088,14.8407,5.735,13.8856,5.1981 C13.8532,4.9819,15.8699,4.6433,14.4698,5.4495 C14.1743,5.5438,15.1277,5.8813,14.2293,5.232 C14.233,5.0088,16.0957,4.6184,14.8045,5.4091 C14.5884,5.3973,15.5545,5.5936,14.5697,5.0686 C14.7733,4.8031,16.6583,4.3864,15.4434,5.1393 C15.3973,5.2444,16.4983,5.2092,15.4741,4.6708 C15.9368,4.4539,16.7419,4.0714,17.3959,4.8187 C18.3168,4.7882,18.9298,4.1632,19.5192,4.5332 C20.446,4.044,21.0325,4.1154,20.8745,3.4376\" fill=\"rgb(40,40,40)\"/>\n<path d=\"M24.0033,47.6984 C27.4031,47.7014,27.4872,47.7001,29.8952,48.7354 C32.9095,50.0417,32.9017,50.0372,32.6073,52.6585 C32.0158,55.6092,32.1228,55.3002,30.0266,57.7969 C28.0569,59.9741,27.9876,60.0171,25.2828,61.1366 C27.8082,62.5132,27.9934,62.6694,28.7257,64.4158 C29.2542,66.1035,29.3638,66.1038,29.022,67.724 C28.3788,70.7268,28.4623,70.3848,25.6665,72.5333 C22.8628,74.5915,22.802,74.5638,18.9523,74.6005 C15.293,74.6004,15.3042,74.5957,12.9144,73.1809 C10.5089,71.5938,10.4238,71.5833,10.4026,68.7248 C10.2185,66.2007,10.3815,66.3067,12.0563,64.3286 C13.8287,62.3983,13.8192,62.3927,16.5479,61.3792 C14.1957,60.4612,14.819,60.3849,13.8663,59.1185 C13.0313,57.7966,12.9746,57.7856,13.1166,56.0958 C13.2089,53.4325,13.3746,53.4304,15.7857,51.2305 C18.4085,49.0195,18.3878,48.9983,22.0947,49.0184 M21.9188,50.0381 C19.3031,50.0391,19.4015,50.0322,17.4731,51.5395 C15.5942,52.9782,15.5317,52.9738,15.295,55.3216 C14.9769,57.1435,15.139,57.2212,16.7688,58.9032 C18.4104,60.5535,18.4046,60.5477,20.9668,60.6424 C23.5133,60.5931,23.7654,60.6028,25.358,59.0664 C27.0369,57.6029,27.0302,57.5932,27.2706,55.4761 C27.6599,53.2901,27.5655,53.2807,25.9712,51.7869 C24.4264,50.3226,24.3572,50.313,21.6635,50.312 M18.9391,62.2462 C15.9863,62.2478,16.0761,62.2407,13.8692,63.9741 C11.7008,65.6855,11.6354,65.6798,11.2407,68.441 C10.7757,70.5842,10.9444,70.6532,12.5769,72.5112 C14.3219,74.3396,14.3197,74.324,17.2886,74.3404 C20.2584,74.3408,20.4021,74.3351,22.5348,72.4487 C24.7242,70.6479,24.7126,70.6371,25.0083,67.9692 C25.4706,65.4709,25.3399,65.482,23.4136,63.7039 C21.6275,61.9608,21.546,61.9535,18.5353,61.9552\" fill=\"rgb(40,40,40)\"/>\n<path d=\"M25.6489,82.5567 C29.3866,82.5599,29.8064,82.5586,34.4462,83.324 L33.5771,87.4573 L32.0685,87.4482 L31.5242,85.1244 C31.1338,81.597,30.8681,81.4286,24.9397,81.504 C18.9476,81.5441,19.6551,82.5309,15.456,88.5516 C12.0399,93.5871,12.1087,93.7648,11.5322,99.8374 C11.0962,104.8857,11.2554,101.9494,11.3576,105.0078 C11.5166,109.7086,11.6787,109.3626,18.1549,109.3178 C22.6674,109.3073,21.9615,109.2994,25.5801,106.6709 L27.4708,99.0473 C27.0926,97.4774,25.4602,97.8047,23.119,97.5813 L23.2979,96.5752 C25.4306,96.7192,29.3627,96.8089,34.539,96.6839 L34.3386,97.7209 L33.3957,98.5051 L32.648,100.7892 L32.0793,103.3678 L31.7642,103.9505 L31.8752,104.3651 L31.9575,104.7987 L32.0163,105.2184 L32.064,105.632 L32.1476,106.0066 L32.2585,106.3823 L32.3622,106.7374 L32.4749,107.0785 L32.6046,107.4421 L32.7443,107.8066 L32.8776,110.429 L32.4745,113.4113 L31.9487,115.5938 L31.1645,117.3011 L30.4324,118.5354 L30.0652,119.3886 L29.5713,120.1998 L29.5328,120.9284 L29.2176,121.6492 L29.2135,122.2932 L29.1605,122.8374 L29.322,123.3827 L29.5466,123.736 L29.8446,124.2098 L29.9945,124.8648 L30.3029,125.1272 L30.6733,125.5398 L30.994,126.2033 L31.4576,126.6615 L32.106,126.947 L32.7381,127.2679\" fill=\"rgb(40,40,40)\"/>\n<path d=\"M24.3925,118.429 C31.3259,118.4327,34.8723,118.4313,33.7753,120.0701 L26.2767,136.8701 C24.1672,141.7775,20.1373,144.273,14.8273,143.9443 C8.7024,143.3991,5.045,138.9516,6.3874,134.6762 C8.0964,126.6656,13.2806,121.8943,20.0094,120.6421 M21.1544,121.8772 C14.6375,123.1409,11.7328,128.4948,10.3341,135.6456 C9.2492,141.8454,10.7414,145.5635,15.4166,146.198 C20.7033,146.8952,25.6759,141.4108,27.4924,134.4328 C29.8124,128.0552,29.278,122.8282,23.4845,122.3278\" fill=\"rgb(40,40,40)\"/>\n<path d=\"M6.1898,154.2838 L13.066,154.3069 L12.6781,155.2595 C10.6515,155.258,11.199,155.437,9.818,155.8038 C8.7704,156.2229,8.7374,156.2163,8.5695,157.3563 L7.2831,175.6761 L18.2938,157.9359 C18.064,156.9079,17.906,156.6741,16.1536,157.0576 C15.5885,157.2334,15.9684,157.2271,15.5018,156.8964 C15.1005,156.5878,15.0684,156.5782,15.1268,156.2224 L15.6902,155.7112 L25.7559,155.7126 L25.6674,156.2126 C24.4292,156.3868,24.1809,156.4961,23.7353,156.5627 C22.2889,156.8445,22.7556,156.837,22.1481,157.3943 C21.5944,157.8724,21.6372,157.8877,21.5797,158.8426 L20.2572,178.2003 L32.4114,160.2004 C33.6758,159.0614,33.3483,158.9962,33.5942,158.4949 C33.9726,157.886,33.9201,157.8373,33.6733,157.5308 C33.24,157.1815,33.4047,157.1791,32.255,157.033 C31.1915,156.9157,31.305,156.9331,30.9709,156.6578 L31.1572,156.1901 L39.4576,156.1903 L39.3842,156.5953 C38.35,156.8425,38.1747,156.9406,37.6676,157.8295 C37.1772,158.1984,37.1472,158.2257,26.662,159.6286 L13.9123,184.5057 L12.3559,184.5072 L11.6174,162.4296 L1.0038,183.8032 L-0.2124,183.8053 L-0.5066,160.3478 C-0.6162,159.2185,-0.497,159.0648,-1.1106,158.5392 C-1.6361,158.0369,-1.675,158.0286,-3.0666,157.8517 L-3.1345,157.5219\" fill=\"rgb(40,40,40)\"/>\n<path d=\"M23.6995,196.4658 C26.3838,196.4686,26.4456,196.4674,29.5424,197.4441 L28.9571,200.5055 L17.7772,200.4841 C16.7216,202.5123,16.5184,203.7218,15.1326,207.0901 C15.453,209.662,15.6835,209.0671,21.1475,209.7483 C24.2833,209.9222,24.7802,209.9428,26.3644,209.4986 C27.5313,208.9382,27.6511,208.9788,28.0778,208.9124 L28.3216,210.374 C24.6719,211.561,26.2688,211.1982,20.2847,211.7942 C15.9864,212.0294,16.6002,212.007,14.751,211.4681 C11.8088,210.4102,12.1302,210.3523,11.6849,207.0827 C11.2841,203.8133,11.4976,203.8239,13.3711,198.4632 C15.8394,194.4098,15.8118,194.3738,22.1438,194.4635 M22.1821,195.8834 C18.451,195.8835,19.0846,195.8712,15.8528,198.3772 C14.7286,200.4604,14.5379,200.1332,14.6384,201.4216 L22.017,201.4224 C26.7847,200.0918,27.6269,200.6114,27.2254,199.4454 C26.8394,197.1052,26.6058,197.2581,23.07,196.7067\" fill=\"rgb(40,40,40)\"/>\n<path d=\"M16.8191,232.0044 C18.7574,232.0075,19.021,232.0063,19.898,232.9965 C21.4053,232.0638,21.0143,231.7752,20.9433,235.6761 C22.4461,232.0988,23.0302,231.9635,24.4574,231.5945 C25.9118,231.1596,26.1022,231.1498,27.9094,231.2294 C30.5999,231.3011,30.286,231.2935,31.4456,232.5054 C32.5181,233.6939,32.4565,233.6925,32.4221,235.9807 C32.2921,237.0953,32.4121,237.145,32.1395,238.2211 L29.6534,249.1539 L31.5374,250.4001 L31.2409,251.8213 L24.1368,251.8221 L24.519,250.4695 L26.9793,249.8257 L29.2894,239.8157 C29.5902,238.0476,29.7911,237.8406,29.7796,236.9442 C29.7633,234.1538,29.7123,234.496,27.2819,234.9454 C25.7851,235.2688,25.9467,235.4779,24.4977,236.3051 C23.147,237.1453,23.1073,237.1457,22.1124,238.4521 L19.6179,250.043 L21.3559,251.4931 L21.1151,252.291 L14.1137,252.2734 L14.3406,251.5055 L17.0287,250.5898 L19.5234,239.216 C19.7298,237.5248,19.9284,237.3671,19.5535,236.6718 C19.2287,235.5868,19.192,235.5553,17.5831,235.4161 C16.0077,235.2862,15.9017,235.3179,14.8612,236.068 C13.7919,236.8161,13.7503,236.8149,12.955,238.4021 L9.719,249.2574 L9.1444,251.4511 L11.4777,252.3477 L11.3625,253.1867 L2.8465,253.1851 L3.0239,252.5432 L5.8768,251.5297 L9.3273,236.3246 L9.4695,233.8076 L7.1176,233.3148 L7.2094,232.7232 L13.1472,231.369 L12.9365,233.2145 C13.7608,232.3304,14.0063,232.3498,14.793,232.5347 C15.7347,232.0276,15.087,231.5967,16.719,231.8055\" fill=\"rgb(40,40,40)\"/>\n<path d=\"M33.011,267.5716 L28.0424,284.8442 L25.9443,284.8289 L27.0252,279.5315 C25.3524,282.3605,22.2844,283.2362,18.2158,283.2039 C14.4559,283.2041,12.0367,280.8662,12.2384,277.0256 L15.3343,264.3859 L17.7382,264.3882 L15.0727,277.3303 C14.4425,280.5219,15.3066,283.0948,18.304,282.8027 C22.4841,282.4342,26.3445,278.5019,26.5136,274.1107 L28.7907,264.438 L31.1968,264.4381\" fill=\"rgb(40,40,40)\"/>\n<path d=\"M63.8619,13.1921 L57.8723,37.8013 L51.7692,37.7719 L57.3379,15.0173 L53.7269,15.0189 L54.2889,12.5941 L63.7751,12.5963\" fill=\"rgb(40,40,40)\"/>\n<path d=\"M58.9586,48.8047 C62.9398,48.8081,63.0097,48.8066,67.31,50.3781 L63.4802,52.1082 L56.0978,67.1339 C53.8801,72.4159,54.468,70.3935,49.1401,73.642 C45.8504,74.7853,46.0774,75.0116,43.2322,74.8759 C41.6719,74.665,41.5241,74.6187,40.7557,73.9298 C40.5222,73.2223,39.989,73.2116,40.1163,72.3408 C40.1492,71.3556,40.2964,71.3388,41.1662,70.7762 C42.0498,70.2299,42.0548,70.2251,43.0103,70.3026 C43.8991,70.3925,44.0337,70.3856,44.4977,71.0858 C44.7972,71.7694,44.939,71.7641,44.8471,72.5198 C44.7791,73.0757,44.7614,73.133,44.3538,73.4739 C44.4341,73.7505,44.5633,73.9325,43.8681,73.9251 C43.6359,73.9249,43.6545,73.9195,43.2815,73.7528 C43.4192,73.9077,43.5088,73.637,42.9242,73.6082 C42.425,73.6067,42.3556,73.6018,41.999,74.0067 C41.9163,74.3071,42.0018,74.3679,42.0091,74.7131 C41.8832,75.6095,42.0091,75.4075,42.7395,75.9521 C43.5364,76.4826,43.7098,76.4215,45.3744,76.4111 C49.6354,76.4114,48.8442,76.4052,52.4909,73.3233 C55.5796,70.5844,55.7479,70.7003,57.9488,66.3022 C58.2447,62.6017,60.1072,62.8641,60.9382,57.6736 C58.0012,59.2089,57.3742,60.0316,54.5921,60.0458 C51.0734,60.0058,51.595,59.8322,49.6818,58.7926 C47.2996,57.4218,47.4195,57.3995,47.0759,55.3364 C46.7325,52.9394,46.9562,52.9403,48.7795,51.3896 C50.9429,49.6596,51.1073,49.627,54.8707,49.7837 M54.8956,50.6445 C51.8366,50.6451,52.392,50.6474,50.3384,52.7839 C48.3206,54.8466,48.274,54.8738,48.2525,57.6036 C48.1171,59.7108,48.2339,59.4901,49.7555,60.8877 C51.3212,62.1761,51.3203,62.169,53.7143,62.2142 C56.8926,62.2408,56.5299,62.2338,58.8696,60.9299 C61.0901,59.5933,61.222,59.5768,61.8795,57.3611 C62.8041,54.7762,62.5753,55.1491,61.0292,52.777 C59.4297,50.4646,59.3801,50.4929,55.9192,50.6834\" fill=\"rgb(40,40,40)\"/>\n<path d=\"M44.3953,82.925 L54.823,82.971 L54.7063,83.8653 L50.8253,84.3257 C49.6415,86.7988,49.3426,85.8707,48.2534,92.7956 L58.1805,95.4629 C60.0711,91.1188,60.515,89.8792,62.1658,86.8349 L59.1184,85.8049 L59.2508,85.2284 L70.709,85.2766 L70.5704,85.709 L66.932,86.1974 C65.3718,91.2771,65.1455,89.8181,65.0059,104.7191 C64.9085,107.2375,64.9287,107.7965,67.1491,108.7709 L68.9832,109.0665 L68.8658,109.5902 L57.8332,109.5054 L57.946,108.9842 L61.5112,108.3803 C63.502,106.1715,63.8647,106.8359,64.3865,104.5436 C65.3821,101.0255,65.634,99.7837,65.8249,94.9417 L51.0697,94.944 C49.7731,99.5265,48.1938,101.88,47.8416,104.4168 C47.4177,106.155,47.7812,106.8429,50.744,108.1674 L52.6436,108.4414 L52.4829,108.9636 L40.352,108.9035 L40.4331,108.4488 L43.6123,107.709 C45.3719,104.7593,47.7046,102.0758,47.5005,103.251 C48.2177,98.1221,49.5775,95.5192,49.8963,87.7944 C50.189,85.2052,48.4581,83.3238,46.5786,82.8893 L45.2652,82.5471 L45.4183,82.1317 L45.9777,81.7683\" fill=\"rgb(40,40,40)\"/>\n<path d=\"M47.3744,118.3586 L59.5445,118.3929 C63.4853,118.3855,62.8065,118.3933,64.8006,119.4499 C67.2122,120.73,67.2935,120.5827,67.0499,123.5702 C66.5672,127.2704,66.7777,126.8713,63.5151,129.577 C60.4785,132.0097,60.4035,132.05,55.0168,132.4353 C53.1113,132.5742,52.9904,132.5802,50.8783,132.5852 C49.2121,132.5855,49.5664,132.5807,47.6593,132.5827 L45.2162,141.5658 C44.7031,142.8261,44.7445,143.0069,44.7746,143.3593 C44.6568,144.368,44.773,144.5758,45.585,144.7015 C46.0228,144.81,46.2022,144.8047,48.427,144.8023 L48.207,145.675 L36.4004,145.6764 L36.6489,144.7647 C38.7947,144.7658,38.5004,144.7588,39.748,144.451 C41.0414,144.0096,41.2094,144.0347,41.67,142.8782 C41.8745,142.4893,42.0139,142.5338,47.0098,122.9562 C47.1712,122.3431,47.3418,122.3275,47.2917,121.4835 C47.0812,120.4839,47.2374,120.2264,44.4678,120.2987 L44.2738,119.7238 M54.9884,120.8415 C52.6857,120.8413,52.1154,120.8362,51.4202,121.1901 C50.5529,121.5396,50.58,121.5705,50.0189,123.4143 L47.516,132.3846 C48.4297,132.7244,48.8364,132.8806,50.8086,132.7054 C55.2477,132.3871,54.1511,132.3782,57.5495,131.2537 C61.0513,129.7769,61.2482,129.7608,62.1402,127.4442 C62.6334,125.6995,62.8016,125.6264,62.4062,124.4259 C61.5334,121.4692,61.9909,121.7174,55.7995,121.3712\" fill=\"rgb(40,40,40)\"/>\n<path d=\"M44.5655,153.7891 L55.8803,153.8385 L55.7388,154.7881 L51.9683,155.1713 C51.6577,157.7694,51.6266,159.478,53.7071,162.9794 C55.807,163.3515,58.4272,163.0463,58.2639,165.7306 C60.2749,162.1171,63.6277,160.1789,66.4891,158.1055 C67.3695,157.3734,66.3097,156.9158,64.5079,155.8556 L61.1061,155.3626 L61.3623,154.4976 L72.6119,154.5792 L72.3802,155.45 L67.6607,158.0511 C64.8388,161.8023,60.6507,164.8416,59.0263,166.3207 C59.5067,170.3698,62.47,173.5487,64.1624,176.3498 C66.0627,178.3536,67.9278,179.983,68.7805,180.3912 L70.5562,180.7784 L70.3444,181.5387 L58.7075,181.4577 L58.9148,180.6669 L62.527,180.2494 C63.6377,179.2462,63.6198,177.8905,63.7916,176.0251 C63.8434,173.2959,61.7717,169.8564,59.1068,168.6781 C56.2619,171.0705,52.4333,173.6358,52.0944,175.4342 C51.1306,177.4388,51.4768,178.8671,53.3106,179.6391 L55.7576,179.9911 L55.5431,180.7682 L43.4389,180.7703 L43.6363,180.0722 L47.6287,179.3737 C50.3742,177.434,55.1763,174.8066,54.3715,175.0435 C56.6609,171.6719,61.423,169.3957,61.7542,165.9916 C61.6809,163.0187,57.9697,158.2174,54.211,156.7736 C52.7234,156.3203,51.2921,156.0654,50.0455,155.9956 L50.1824,155.3108\" fill=\"rgb(40,40,40)\"/>\n<path d=\"M63.9885,188.686 L65.7534,190.8923 L63.7564,192.2074 L62.1502,192.2053 C60.7832,192.2066,60.4434,192.2025,59.6448,193.9183 L58.5599,196.2947 L62.4056,196.2974 L61.7464,199.1806 L57.9193,199.1817 L53.4601,216.4892 L48.469,216.491 L51.7772,198.9847 L49.9607,198.6916 L49.4706,197.6534 L50.6172,194.2564 L50.8578,193.5383 L50.8981,191.461 L51.2711,188.8442 L51.7171,187.7715 L51.8145,186.747 L52.0695,185.696 L52.2293,184.7617 L52.3755,184.0037 L52.4588,183.3973 L52.5291,182.8904 L52.5934,182.4487 L52.62,182.043 L52.6381,181.682 L52.1822,181.3779 L52.4221,181.0263 L52.1443,180.7061 L52.3268,180.4272 L52.0981,180.1434 L52.3246,179.9051 L52.1443,179.6792 L52.3496,179.4964 L52.3458,179.2817 L52.3836,179.1191 L52.3521,178.9295 L52.4225,178.7037 L52.4542,178.4336 L52.5514,178.154 L52.7228,177.8767 L52.9097,177.6153 L52.8856,177.7187 L52.5954,177.3841 L52.756,177.0531 L52.8729,177.0941 L52.6772,176.8016 L52.8481,176.495 L53.1588,176.5267\" fill=\"rgb(40,40,40)\"/>\n<path d=\"M60.0638,231.9178 C62.5823,231.9211,62.6589,231.9198,63.9407,233.0494 C65.3058,234.1303,65.2741,234.202,65.2366,236.5482 C65.2408,237.6564,65.2523,237.7489,65.0932,238.8914 C64.9419,240.019,64.9185,240.0151,64.6397,241.3718 L63.342,248.9527 L66.2498,248.9565 L65.9789,250.0013 L58.4321,250.004 L58.7499,248.8845 L62.155,248.8267 L63.9446,239.2508 C64.1172,237.4847,64.3026,237.3618,64.2469,236.5677 C64.2035,235.7683,64.1795,235.7614,63.7915,235.0667 C62.9714,234.3622,63.4064,233.3376,61.8736,232.9546 C60.5489,232.5203,60.4965,232.5113,58.443,232.5512 C56.0636,232.5864,56.2785,232.5793,54.4748,233.2772 C52.7611,233.9533,52.7089,233.9483,51.3956,235.2261 L49.1115,247.7755 L51.9595,248.525 L51.7077,249.5782 L42.8341,249.5788 L43.0709,248.6406 L46.6211,248.0169 L49.7075,231.4583 L46.5783,230.4755 L46.7942,229.591 L53.8887,229.3361 L53.442,231.925 C54.9042,230.3954,55.2659,230.5297,56.6597,230.0857 C58.2907,229.6543,58.2927,229.6469,60.221,229.6821\" fill=\"rgb(40,40,40)\"/>\n<path d=\"M46.2849,267.548 L51.7658,267.5854 L51.2938,268.4084 C49.6578,268.7266,50.1533,268.5687,49.0313,268.8472 C48.7897,269.13,48.1476,269.1217,48.3938,281.4959 C49.179,281.97,48.5711,281.0372,49.0073,284.3895 C50.9519,279.8448,51.4587,278.1456,59.1425,273.0304 C61.8715,271.1307,62.3019,270.9683,62.7776,269.0039 C62.6649,268.4283,62.4617,268.3848,60.6223,268.3939 L60.8017,267.6345 L69.1684,267.636 L68.9526,268.5284 C67.0233,268.5277,66.6616,268.71,66.0645,270.1978 L55.0941,289.4697 L52.3824,289.4716 C51.3661,283.7157,51.1475,280.8618,48.3904,273.8338 C47.7506,272.1512,47.6906,271.9494,45.5731,271.6203 L45.7458,270.7852\" fill=\"rgb(40,40,40)\"/>\n<path d=\"M94.3922,13.7229 C97.2367,13.7259,97.2572,13.7245,99.1462,14.7869 C101.6227,16.0614,101.2261,15.9443,101.3771,18.6127 C101.4043,19.2998,101.4214,19.3131,100.9463,24.174 C100.3398,27.977,100.3273,27.4484,98.2747,30.2995 C96.3074,32.7859,96.2546,32.8007,93.482,34.5001 C90.8105,36.1202,90.7524,36.1298,87.383,37.0682 C84.062,37.9375,84.0988,37.9925,81.8479,38.623 L93.1084,38.6236 C95.4427,38.6223,94.7907,38.6173,97.1347,38.3467 C99.4522,38.09,99.4405,38.0811,101.2638,37.7487 L100.8432,39.6856 L82.6414,39.7062 L82.9714,38.5129 C85.3932,36.4188,85.8971,37.2518,88.4993,35.5927 C91.1223,34.157,91.1119,34.1458,93.5077,32.4777 C95.9031,30.8554,95.8936,30.8455,97.8579,28.9594 C99.8602,27.1219,99.8501,27.1148,101.1607,25.0204 C102.4989,22.9822,102.4903,22.9768,102.9923,20.9619 C103.5073,18.9605,103.4966,18.9565,103.1707,17.3201 C102.8667,15.784,102.8283,15.638,101.0977,15.0793 C99.4449,14.4807,99.3773,14.4714,96.7929,14.5381 C94.1515,14.5943,94.0982,14.5894,92.2164,15.3124 C90.2951,16.0475,90.2363,16.0367,89.0017,17.4381 L88.1939,16.6634 C89.9489,15.0601,90.2374,14.9847,91.7589,14.3418 C93.5269,13.6875,93.5206,13.6856,95.5957,13.6336 C96.1118,13.5997,97.0712,13.5932,98.5404,13.5623\" fill=\"rgb(40,40,40)\"/>\n<path d=\"M95.2046,46.5904 L98.6956,46.6256 L102.0201,70.7358 C102.2959,72.1445,102.4655,72.4783,103.1093,72.4711 L105.4602,72.4755 L105.2047,73.5577 L93.4821,73.5596 L93.7527,72.532 L96.0161,72.5337 C97.3621,72.5329,97.8744,72.0952,98.3395,71.0227 C98.4173,70.3804,98.6814,69.7402,98.6762,69.2858 L97.6239,62.6205 L85.8228,62.6213 L80.9553,68.7604 C79.6803,70.5776,79.8459,71.5079,79.3775,72.386 C79.0373,72.9601,79.2734,73.5892,81.1688,73.2893 L82.501,73.7325 L81.9873,74.6543 L73.008,74.6566 L73.2015,73.759 L74.888,73.6587 C76.4705,73.4969,77.3373,72.8894,78.7078,71.3085 C81.647,70.0048,89.1447,57.9097,89.4684,49.8589 C89.6429,49.098,90.0687,48.7714,89.915,49.2547 L87.482,49.1041 L87.869,48.2623 C89.0645,48.0815,89.9664,47.9331,91.3745,47.7785 M91.8955,50.7675 L84.3631,63.7326 L95.241,63.7341 L92.6498,51.283\" fill=\"rgb(40,40,40)\"/>\n<path d=\"M98.9971,82.7157 L92.5648,110.2894 L85.6688,110.2659 L92.4415,82.8344 L98.7397,82.8351\" fill=\"rgb(40,40,40)\"/>\n<path d=\"M95.1467,118.2832 C101.9127,118.2868,105.3782,118.2853,104.3917,120.0745 L97.4875,137.2535 C96.1684,141.3265,95.3714,143.8978,93.902,144.0212 C93.7425,145.5015,95.3033,146.2256,96.8487,146.6746 C98.3962,147.0762,99.6989,147.1523,100.3374,146.9151 L100.5459,147.4244 C98.8478,147.6842,96.0787,147.6344,93.462,147.3321 C90.9748,147.0572,89.9984,145.1099,90.0273,144.6061 C89.577,143.4175,88.5238,142.366,87.5133,140.5716 C84.2544,140.2136,80.5118,138.4921,79.1752,139.1619 C77.1947,139.5756,77.1082,134.692,77.8806,137.5378 C78.2285,137.1322,78.6953,135.4277,79.9223,138.2757 C80.0835,139.062,79.5266,138.2278,80.1845,140.0405 C80.3278,141.8398,80.5428,141.8107,81.8256,142.5919 C82.751,143.2344,83.2463,142.0491,84.0802,142.7625 C84.3769,143.1056,83.3384,143.2848,82.1743,143.1345 C79.9492,142.8346,78.8099,141.6465,79.3453,140.2768 C80.1376,137.8327,82.3414,131.5284,82.8578,125.0846 C83.8541,120.0173,85.8502,116.1321,89.0344,115.7721 C90.7837,115.5551,92.4671,115.4005,93.0278,115.4782 M94.2537,116.8771 C91.1078,117.5375,88.8176,120.2161,87.4941,120.4759 C85.1888,123.5194,83.7711,127.6168,84.4909,128.1913 C84.4645,131.9695,84.1327,134.8535,83.9147,137.8761 C83.5579,140.4441,85.5445,141.9767,88.4573,141.6461 C91.9815,141.4135,95.8358,138.1242,95.671,137.7613 C96.8518,136.2903,99.5248,130.6994,99.5205,124.9739 C99.3539,121.3533,97.5872,117.8298,94.7264,118.0385\" fill=\"rgb(40,40,40)\"/>\n<path d=\"M80.5705,153.9627 L91.2491,154.0068 L91.0362,154.9704 C88.7589,154.969,89.427,155.3268,87.8754,155.4214 C87.6717,158.1509,87.7464,159.9031,89.551,164.5886 C91.2954,165.5745,90.8137,165.287,91.5822,168.7611 C94.0513,164.1269,98.148,161.5179,102.2999,158.7896 C103.5823,157.8956,104.1882,156.5903,104.5741,155.7092 C103.7737,155.5163,102.1783,155.4271,100.6898,155.3592 L100.878,154.5706 C102.7439,154.7091,103.906,154.7182,106.9415,154.6545 C108.4134,154.6444,109.254,154.5547,111.2279,154.5251 L111.0014,155.279 C108.7207,155.5209,107.7202,156.0055,107.121,157.9726 L98.2246,169.7017 C96.3109,173.8962,93.6029,176.3695,92.9151,176.4729 C92.0678,179.156,91.3665,180.7879,90.9193,182.0896 C91.6303,182.2885,94.1042,182.3414,95.2883,182.3138 L95.0942,183.1514 C92.5042,183.1196,90.5411,183.0552,88.5998,183.0477 C86.5328,183.0474,84.0589,183.1351,82.2601,183.1829 L82.4668,182.3782 C84.4478,182.3782,85.561,182.2006,86.6954,182.0766 C87.5719,179.0012,88.8586,176.2958,89.0874,173.1597 C88.7651,168.9791,86.725,165.9534,85.5487,161.404 C84.7079,159.2014,84.136,158.078,81.7519,157.5121 L81.8437,156.8291\" fill=\"rgb(40,40,40)\"/>\n<path d=\"M93.1214,196.1737 C96.0869,196.1769,96.5126,196.1757,98.6122,196.99 C99.2932,197.2335,99.1438,197.1995,101.4329,196.4456 C101.7489,196.1021,101.7275,195.9685,102.6094,196.1848 C102.7247,196.4362,102.6173,196.9159,100.1183,196.958 C98.71,199.3968,98.4387,202.3182,98.0267,213.1703 C97.0049,220.5284,97.2884,218.6389,95.7072,222.6512 C93.7888,226.2946,93.4075,226.7762,89.0514,227.7311 C86.1028,228.1488,83.3566,228.218,83.7005,228.0224 C83.8452,227.7302,83.6599,227.1711,83.3338,226.38 C83.182,225.5987,83.9828,225.1639,84.5971,224.9591 C85.6018,225.2465,87.2663,225.7363,89.1865,225.8803 C92.5367,226.1406,95.5319,222.5845,95.352,217.8558 C94.9544,216.0428,93.5536,214.4046,91.3197,215.3203 C88.8344,216.3839,85.9212,216.695,84.29,216.8286 C81.15,217.1182,79.1558,213.8608,80.2437,208.971 C81.5044,204.2718,85.1445,199.8428,89.587,199.1121 M91.8304,200.4524 C87.646,201.1263,85.3842,204.275,84.3638,209.3032 C83.5811,213.9128,85.0734,216.8276,88.9127,217.5513 C91.7992,218.0462,95.0635,214.9078,95.3891,213.7839 C96.2701,208.7738,96.6971,205.0163,96.9662,202.754 C96.7862,201.0995,94.3181,200.122,92.1364,200.4376\" fill=\"rgb(40,40,40)\"/>\n<path d=\"M94.202,231.6922 C97.5244,231.6953,97.5169,231.6941,99.4605,233.1315 C101.5569,234.7364,101.5124,234.7279,101.5477,237.7661 C101.5595,239.738,101.5689,238.83,100.6988,239.9533 C99.9238,240.9921,99.8843,240.9961,98.5533,241.7558 C97.2535,242.5725,97.2041,242.5724,95.5141,244.807 C93.7091,246.8933,93.6733,246.7932,92.0687,248.7762 C90.609,250.0855,90.3157,250.2123,89.0044,250.2528 C87.7886,250.2786,87.7525,250.2711,86.863,250.2594 C84.3453,250.2596,84.0015,250.2545,82.1772,248.6334 C80.3779,247.0249,80.2901,247.0207,80.2941,244.3392 C80.1464,243.4559,80.2985,242.1894,81.2124,240.2553 C82.1328,238.0996,82.1251,238.0889,83.6871,236.255 C85.3037,234.4372,85.2938,234.4275,87.4691,233.2567 C89.6917,232.1071,89.6729,232.1003,92.2817,232.1146 M92.1382,233.2503 C89.6145,233.2506,90.0366,233.244,88.279,234.3123 C86.6301,235.3356,86.569,235.3329,85.3644,237.0277 C84.1945,238.6715,84.1446,238.6705,83.456,240.7375 C82.7923,242.7758,82.7545,242.7691,82.7555,244.8951 C82.6375,246.9673,82.7494,246.8191,83.4014,248.4592 C84.0677,250.0178,84.0642,250.0192,85.2194,250.964 C86.3762,251.9071,86.3734,251.9005,87.9456,252.0884 C89.4722,252.2624,89.4814,252.2599,90.867,252.1568 C92.2923,252.0397,92.3012,252.0314,93.4813,251.6161 C94.6974,251.1813,94.6961,251.1794,95.6309,250.3044 C96.5916,249.427,96.5871,249.4212,97.2891,248.0984 C98.0095,246.7825,98.0031,246.7762,98.4876,245.1502 C98.9846,243.5641,98.9757,243.5625,99.1886,241.9052 C99.4156,240.2617,99.407,240.2569,99.3476,238.8317 C99.286,237.4441,99.2555,237.4338,98.5346,236.4512 C97.8789,235.4435,97.8237,235.4402,96.6471,234.9033 C95.5173,234.3654,95.4601,234.3577,93.927,234.3568\" fill=\"rgb(40,40,40)\"/>\n<path d=\"M77.9663,267.4124 L80.759,267.4607 L80.518,281.7964 L90.1276,267.7825 L93.0972,267.7825 L93.0161,282.4348 L100.1078,268.2862 L103.5346,268.0819 L95.0607,287.7829 L92.3653,287.785 L90.8069,272.6241 L82.5158,288.5891 L80.2973,288.5918 L77.9937,270.2958 L79.3489,269.9897\" fill=\"rgb(40,40,40)\"/>\n<path d=\"M129.7609,13.365 C133.0235,13.368,133.1118,13.3666,135.4899,14.3605 C138.6114,15.6578,138.5871,15.4944,138.3002,18.272 C137.7173,21.3303,137.8284,21.027,135.3668,23.4962 C133.1385,25.5621,133.0684,25.6265,130.0251,26.5177 C133.0342,27.3212,133.4108,27.4605,134.5906,29.0533 C135.7662,30.5778,135.7355,30.6365,135.6276,32.6574 C135.3155,36.0002,135.4572,35.6828,132.5304,38.0831 C129.5588,40.4426,129.487,40.3846,125.1662,40.4293 C121.4249,40.4342,121.8987,40.4302,119.5439,39.7532 C117.2937,39.0546,117.2238,39.0436,116.0698,37.4192 L117.0474,36.167 C118.2262,38.3084,118.4196,37.8506,119.6862,38.4616 C121.0626,38.9993,121.0618,38.9939,122.9697,38.9942 C126.0274,38.9941,126.2995,38.9886,128.8697,37.6789 C131.514,36.3114,131.4981,36.2993,132.5508,33.9826 C133.7376,31.7722,133.502,31.7688,132.1368,30.5916 C130.7547,29.384,130.692,29.3718,126.9454,29.3288 L124.6134,29.3188 L124.836,27.7173 L127.7609,27.7177 C131.2263,27.7179,130.5946,27.7127,133.0235,26.0891 C135.3123,24.5799,135.3041,24.5721,135.8747,22.1209 C136.6061,20.0382,136.3966,20.0003,134.8484,18.5395 C133.3428,17.0889,133.2746,17.0793,130.3679,17.0793 C127.833,17.0794,128.2247,17.0742,126.5108,17.8287 C124.8756,18.5875,124.822,18.5791,123.6989,20.1085 L122.3265,19.6829 C123.8073,17.6638,124.0753,17.5626,125.372,16.1805 C126.9178,14.805,126.9169,14.7926,128.8674,14.8096\" fill=\"rgb(40,40,40)\"/>\n<path d=\"M117.8539,47.5003 L129.6183,47.5371 C133.8519,47.5288,133.1615,47.5377,135.3328,48.6005 C137.9217,49.9038,137.9722,49.7715,137.7458,52.8216 C137.315,55.8211,137.4856,55.5975,134.9258,57.8523 C132.6494,59.822,132.5817,59.8836,129.371,60.5602 C132.5616,61.227,132.993,61.3723,134.3996,62.9618 C135.8446,64.4946,135.8639,64.5529,135.7865,66.893 C135.5312,70.3708,135.6685,70.0499,132.7297,72.4668 C129.761,74.7552,129.6939,74.7088,125.1539,74.7272 L108.9484,74.7281 L109.1693,73.8678 C111.0558,73.8674,111.3974,73.8624,112.0025,73.6181 C112.6841,73.3642,113.058,73.3551,113.0555,72.0187 L117.3801,50.8536 C117.477,49.5916,117.631,49.5619,117.1036,49.2528 C116.6531,48.9335,116.6174,48.9288,114.8343,48.9383 L115.0216,48.0374 M126.009,49.2734 C123.9805,49.2736,123.4904,49.2682,122.851,49.5602 C122.1084,49.876,122.0698,49.8673,121.6872,51.4803 L119.3298,60.2437 L123.366,60.2449 C126.8145,60.2444,127.1886,60.2376,130.0447,59.0183 C133.2196,57.6728,133.3428,57.6565,133.5412,54.7069 C133.6361,52.2656,133.8136,52.2224,131.6213,50.9537 C129.7067,49.7697,129.6328,49.7559,126.0289,49.7755 M122.6908,61.5628 L119.1429,61.5668 L116.3109,71.9073 C115.9148,72.8686,116.0963,73.0005,116.4513,73.2204 C116.8325,73.4564,116.8372,73.4507,119.1456,73.4717 L125.5839,73.4932 C129.0816,73.4924,129.379,73.4884,131.7405,71.7552 C134.1216,70.0804,134.1047,70.0666,134.2515,67.1884 C134.3378,64.0257,134.5266,64.0105,131.7319,62.6324 C129.3623,61.3989,129.2932,61.3809,124.6945,61.4069\" fill=\"rgb(40,40,40)\"/>\n<path d=\"M129.0587,82.7789 L138.7538,82.821 L138.5628,83.7188 C136.4828,83.7182,135.936,84.1378,135.6272,84.2232 C134.4604,84.6297,134.7973,84.8729,134.0846,85.7688 C133.0974,86.7748,133.2432,87.515,132.618,103.2728 C131.8977,108.396,128.1771,112.5956,123.7304,111.7915 C120.6474,111.4617,118.0913,109.0545,117.3063,106.1632 C117.2101,105.1618,118.8059,103.3762,119.0903,104.4358 C119.7176,105.9053,120.2149,107.7672,121.7334,107.6716 C123.3837,107.5688,125.2445,106.1183,125.4173,105.4909 C126.3087,100.2717,128.2094,95.5615,128.5697,86.8249 C128.6737,85.6473,128.2536,85.0746,126.2993,84.7602 L126.4143,84.0622\" fill=\"rgb(40,40,40)\"/>\n<path d=\"M117.5639,118.3418 L129.4117,118.3778 C133.6302,118.369,132.9382,118.3768,135.1432,119.4197 C137.7346,120.7155,137.7867,120.5739,137.5499,123.6404 C137.0975,126.8451,137.1563,126.5866,134.5132,129.0056 C132.1015,131.1452,132.0282,131.1915,128.6137,131.9647 L132.7203,140.9211 C134.0233,143.0238,133.5981,142.709,134.7896,143.6489 C135.8954,144.4927,136.0227,144.4884,138.0583,144.5168 L137.869,145.3852 L129.4568,145.3864 L129.5233,144.6998 C131.0252,144.6988,131.3678,144.6948,131.7169,143.5674 C131.8097,142.5891,131.9896,142.5742,131.4655,141.0471 L127.6856,132.8619 L121.1044,132.8628 L118.6449,141.1769 C118.143,142.4696,118.2114,142.5865,118.2794,143.0736 C118.2549,144.2244,118.3919,144.0011,119.3357,144.4691 C119.9828,144.8442,120.1496,144.8453,122.122,144.9474 L121.9541,145.79 L109.9672,145.7919 L110.1609,145.0591 C112.3736,144.8728,112.7435,144.8939,113.809,144.0267 C114.7464,143.214,114.9755,143.2011,115.5144,140.932 L120.0414,124.0976 C120.3928,122.4174,120.5558,122.352,120.4226,121.696 C120.0468,120.6932,120.1844,120.6586,118.7293,120.4768 C118.0028,120.4191,118.068,120.4203,117.1643,120.3612 L117.3482,119.6312 M128.3553,120.7887 C126.1723,120.7884,126.7308,120.783,125.0077,121.1933 C123.4908,121.636,123.6304,121.6287,123.1654,122.526 L120.1767,132.295 C122.3181,131.6455,122.8202,132.1346,125.2568,131.0046 C128.5865,129.6789,128.7992,129.6518,129.7772,128.0019 C131.3379,126.2934,131.039,126.2187,131.0051,124.0649 C130.7768,121.2856,130.9502,121.401,127.2985,121.2767\" fill=\"rgb(40,40,40)\"/>\n<path d=\"M120.5635,154.1083 L140.9336,154.1528 L140.527,155.3797 L116.599,179.3893 L132.8823,179.389 L134.9178,179.1864 L134.6452,180.8533 L112.356,180.8544 L112.5119,179.8057 L138.5102,156.0629 L122.7235,156.0627 L122.95,154.8617\" fill=\"rgb(40,40,40)\"/>\n<path d=\"M117.8256,189.9592 L123.6122,189.9956 L121.3459,200.1611 C123.4792,197.549,124.1548,197.587,129.9556,197.1942 C133.1973,197.0339,134.9157,198.3892,134.6642,199.4462 L131.1994,211.195 C130.7994,212.2549,130.8511,212.7821,131.1069,214.0717 C131.476,215.2625,132.6341,215.5921,134.589,215.5773 L134.346,216.5853 L123.9211,216.5875 L124.1816,215.6625 C126.418,215.663,127.8216,215.4097,128.0822,214.09 L130.6988,202.5479 C130.883,200.1761,130.6486,198.2828,127.3084,198.1695 C124.136,197.9415,121.1934,200.9825,120.0004,202.1746 L116.4479,212.7293 C115.9353,214.2748,116.1202,215.0871,118.2798,215.346 L119.7884,215.9065 L119.3456,216.5523 L109.3061,216.5534 L109.4727,215.9236 C111.5507,215.6783,113.0922,215.1628,113.4151,213.4148 L118.7014,193.8533 C119.1343,192.3496,118.5174,191.6783,116.2286,191.5354 L116.3947,190.8905\" fill=\"rgb(40,40,40)\"/>\n<path d=\"M130.6806,231.8998 C133.6635,231.9029,133.6198,231.9018,135.2045,233.2481 C136.8788,234.607,136.8399,234.6292,136.8453,237.332 C136.8439,238.9634,136.8611,239.1457,136.1247,244.6227 C135.4642,249.0417,135.2287,249.2616,134.0953,251.0587 C132.2682,253.4504,132.36,253.5437,128.6663,253.7106 C126.2779,253.802,126.6404,253.7998,124.6799,253.7801 C121.9371,253.7797,122.4587,253.775,120.9188,253.3897 C119.4625,252.9873,119.4071,252.9776,118.3742,251.8196 L116.4863,260.4862 L118.6025,260.4872 L118.6571,261.1703 L112.4975,261.238 L112.6507,260.5884 L114.8125,260.4413 L119.9159,236.3043 L118.3233,235.689 L118.4461,235.0661 L124.8857,234.904 L124.4699,236.7205 C125.9035,235.0779,126.2318,235.2298,129.955,235.0309 M129.1945,236.4641 C126.5032,236.4643,126.9325,236.4581,124.9324,237.5424 C123.0947,238.5837,123.0421,238.5814,121.8469,240.5989 L119.5614,251.3666 C120.1167,253.2496,120.4011,252.9404,121.8109,253.311 C123.1549,253.6574,123.1615,253.6517,124.7934,253.6236 C127.747,253.6223,127.3539,253.6159,129.5171,251.9764 C131.614,250.4286,131.6096,250.4146,132.5912,247.6496 C133.6045,244.9417,133.4609,244.9732,133.6539,242.4423 C133.8356,240.2588,133.8415,240.2423,133.7434,239.2566 C133.653,238.2912,133.6271,238.2762,133.0518,237.2082 C132.1678,236.1939,132.0985,235.6471,129.2617,235.6639\" fill=\"rgb(40,40,40)\"/>\n<path d=\"M117.1252,267.3052 L126.2879,267.3487 L126.0449,268.2921 L122.9867,268.6124 L125.397,274.828 L130.6377,269.0116 L127.6146,268.6551 L127.8768,267.7385 L136.9828,267.7697 L136.7469,268.6923 L133.4981,269.1354 L126.1953,276.2016 L130.6977,284.9247 L133.7934,287.2323 L135.0313,287.8146 L127.3037,287.9388 L127.4799,287.3522 L130.1581,286.9983 L125.4148,279.4895 L119.0053,286.1617 L122.3616,287.1741 L122.1578,287.9177 L112.8327,287.8786 L113.0089,287.275 L116.7963,286.7552 L124.1273,278.054 L119.9243,269.6989 L116.8865,269.2979 L117.0655,268.69\" fill=\"rgb(40,40,40)\"/>\n<path d=\"M170.4842,12.2383 L172.2431,12.2693 L168.8912,28.1551 L173.3682,28.1476 L173.0543,29.7486 L168.5642,29.7501 C167.9412,33.1002,167.7755,34.3247,166.9285,36.022 C166.4855,37.0155,166.3815,37.4224,169.5659,38.1064 L171.3598,38.4578 L171.1217,39.1204 C168.8503,38.9997,167.2937,39.0159,159.8308,39.0051 L159.4481,38.5993 L162.7038,38.2564 C164.4527,37.3592,165.9573,36.3195,165.7683,35.6147 C165.8873,34.7827,165.8713,31.4144,166.5325,29.9262 L153.1433,29.9263 L152.9198,29.159 L152.5865,28.7427 L153.0817,28.2639 L153.3124,25.4698 L170.8126,22.5428 L168.876,20.897 L160.3298,23.7015 L158.1687,26.9017 L158.6738,26.8917 L173.6628,24.7664 L178.5895,21.1623 L182.0301,8.3074 L176.3019,6.4852\" fill=\"rgb(40,40,40)\"/>\n<path d=\"M167.8933,47.1006 C171.5458,47.1038,171.9506,47.1025,176.423,47.8498 L175.6604,51.284 C174.108,49.4747,173.9153,49.7033,173.5896,51.2696 L172.872,48.4624 C171.8221,47.1297,171.4645,46.8333,166.0661,47.4136 C160.9129,47.9987,161.4492,48.4411,157.9194,50.3819 C154.653,52.5497,154.5521,52.6106,152.8057,58.588 C151.3571,62.8584,151.4736,62.9615,151.6031,66.404 C151.6553,70.2371,151.7759,69.8936,153.8808,71.575 C155.9455,73.07,156.0595,73.1266,160.3102,73.0598 C164.6362,73.0422,164.1584,73.0338,167.2001,71.003 C169.4556,70.27,169.6584,69.5236,169.1071,68.7274 L169.928,68.7044 C169.422,71.2322,169.2667,70.6973,168.6499,72.1489 C166.763,74.1512,166.2517,74.3575,159.8876,74.402 C154.2897,74.4232,155.1235,74.4643,152.2949,71.6185 C149.8196,69.0052,149.7557,68.9872,150.5822,63.9382 C151.2728,58.7171,151.4225,58.6698,154.5473,53.5185 C158.4022,48.1379,158.5812,48.1225,164.2216,47.785\" fill=\"rgb(40,40,40)\"/>\n<path d=\"M151.3114,82.8079 L162.146,82.8503 L162.006,83.7516 L157.9807,84.1897 C156.7988,86.8932,156.5109,85.8706,155.1157,93.8926 C156.4089,93.5366,156.9204,93.6741,164.9599,95.8301 C168.1595,90.8901,168.9149,89.698,171.3878,87.1266 C172.8929,85.8426,173.0673,85.7252,173.5624,85.4502 C174.0956,85.0637,174.0389,85.0317,171.701,84.8409 L169.9403,84.7628 L170.1798,83.9155 L181.2804,83.9943 L181.0585,84.9023 C178.4762,84.901,177.912,85.1812,177.2895,85.3957 C174.9201,85.9591,174.4392,86.1341,168.2421,89.8125 C163.8566,92.6715,163.7927,93.0969,160.3224,96.8398 C162.439,101.4993,163.0419,103.3945,166.0155,107.0876 C169.3749,111.3123,169.6357,111.7323,173.8127,112.0397 L173.6716,113.0589 C170.6425,112.8787,169.8832,112.8684,162.8712,112.8725 L163.0112,111.9874 C165.363,111.8927,165.9644,111.8688,166.7352,111.6835 C166.8242,108.0745,164.4919,105.9589,162.8772,101.3991 C160.9267,98.9566,158.9938,96.8906,158.8868,95.5453 L154.6183,105.3624 C153.9718,106.9938,153.8708,107.7576,153.6063,110.024 C153.7651,110.7894,154.2606,111.6915,157.6208,111.743 L157.3791,112.7016 C154.6662,112.5668,152.8887,112.588,145.7893,112.5788 L145.9758,111.7237 C148.2489,111.5734,149.1988,111.3874,150.3615,110.4676 C151.8815,109.5246,152.9138,105.6287,154.7154,102.3557 C157.0975,97.4636,158.6072,91.6995,159.2252,90.2217 C159.5547,89.2474,159.3884,88.7277,156.7756,87.4095 L153.706,86.9058 L153.9473,86.0624\" fill=\"rgb(40,40,40)\"/>\n<path d=\"M166.3652,118.0889 C169.8873,118.092,170.2737,118.0908,175.1408,118.7652 L174.2858,122.5982 C172.8299,120.6511,172.6333,121.0292,172.3029,122.1058 L171.4477,119.2001 C169.9087,117.881,169.4159,118.1169,164.1134,118.6149 C160.3442,119.2348,160.4238,119.558,158.2117,120.759 C155.8348,122.1438,155.8409,122.1768,155.4425,124.4107 C155.1017,125.8321,155.2359,125.9521,156.4249,127.6072 C157.6031,129.1422,157.7317,129.1626,160.9319,130.2995 C164.6421,131.535,164.6343,131.4493,166.3635,132.1974 C169.7154,133.5244,169.0483,133.6481,170.0692,136.5859 C170.479,137.6822,170.5487,137.6993,170.0618,139.7698 C169.333,142.923,169.3624,142.5889,166.4397,144.4204 C163.5941,146.0861,163.5403,146.0364,158.7,146.0898 C154.4102,146.1104,155.0592,146.1085,152.0268,145.5123 C149.5621,144.881,149.0761,144.8694,147.6561,143.8667 C148.1461,141.7636,148.197,142.385,148.7632,138.9438 L149.6226,138.9383 C150.2021,141.5726,150.4702,142.6746,151.2882,142.0863 C152.0762,144.258,152.1161,144.952,156.7037,144.5494 C160.1696,144.2746,159.9588,144.3025,162.1302,142.6965 C164.3843,141.1433,164.3719,141.1384,164.7778,138.6259 C165.3881,136.4722,165.1637,136.6402,163.6143,134.9614 C162.2067,133.454,162.147,133.4346,159.0084,132.2795 C155.2638,131.0311,155.0089,130.7277,153.5177,130.0542 C151.0004,128.8161,151.3424,128.7747,151.0937,127.2128 C150.733,126.436,150.9208,126.4777,152.5969,124.1405 C154.9906,121.7255,154.6223,121.6302,156.7555,120.5785 C159.2486,119.4948,159.3891,119.4879,162.7339,119.4705\" fill=\"rgb(40,40,40)\"/>\n<path d=\"M164.3675,161.0991 C167.1787,161.1022,167.3722,161.1009,169.086,162.014 C171.1959,163.115,170.9893,162.9976,171.1563,165.348 L169.6607,175.448 C169.4334,176.2912,169.5458,176.4345,169.5704,176.6146 C169.4578,177.4838,169.5727,177.2968,170.075,177.8047 C170.6436,178.2619,170.6423,178.2579,171.5924,178.2687 C172.4464,178.2684,172.217,178.2633,172.5721,178.1787 L173.1808,178.9462 C172.3554,179.3673,172.1768,179.4352,171.4262,179.8135 C170.6615,180.1936,170.6228,180.1889,169.8516,180.2479 C168.7006,180.2889,168.6101,180.2829,168.3007,179.1581 C168.0298,178.1599,167.9884,178.1455,168.097,176.8356 C166.7845,178.5456,166.5815,178.6706,161.9714,178.8805 C158.8623,179.0049,158.8869,179.0018,157.2339,178.2699 C155.4931,177.4655,155.4396,177.4511,155.0196,175.1706 C154.9314,174.4239,154.9186,174.4644,154.958,172.7322 C154.8688,169.7704,155.0369,169.9741,157.7,168.1655 C160.355,166.4729,160.567,166.4684,165.5761,166.4092 C168.3272,166.4072,167.974,166.3992,170.1811,166.4442 L171.4614,164.3149 C171.7,162.0227,171.7326,162.6827,171.1309,161.774 C170.1442,160.5777,170.3042,160.5586,167.6762,160.4867 C165.1332,160.4641,165.4285,160.4597,163.3734,161.0354 C161.3699,161.6081,161.3208,161.6043,160.1614,162.8533 L159.3284,162.9861 L160.5322,160.5055 C161.9423,159.6135,162.1513,159.5049,163.6275,159.3281 C165.1596,159.126,165.1502,159.1171,166.6873,159.1727 M170.6055,167.4349 C167.9762,167.4719,167.5088,167.3752,163.2209,167.7661 C159.4445,168.1342,159.5793,168.1239,158.211,169.4517 C156.9836,170.7414,157.0293,170.6734,157.0149,172.6345 C156.8958,174.3404,157.0125,174.183,158.0701,175.3616 C159.1944,176.4723,159.197,176.4661,161.2444,176.4988 C164.0727,176.5179,163.8104,176.5113,166.256,175.5149 C168.6265,174.5369,168.6218,174.5228,170.0293,172.6248 L171.0605,167.93\" fill=\"rgb(40,40,40)\"/>\n<path d=\"M165.4177,190.5605 C166.3186,190.5627,166.3523,190.5607,167.5694,191.1328 C168.9136,191.7611,168.9523,191.7094,168.6666,192.545 C168.4065,193.1731,168.2681,193.2586,167.1619,193.5156 C166.0322,193.7786,165.9895,193.772,165.147,193.7201 C163.7794,193.6527,163.6919,193.6451,163.4684,193.1424 C163.2427,192.5856,163.2135,192.5685,163.7005,191.989 C164.2204,191.3977,164.2201,191.3859,164.985,191.1846 C165.7903,190.994,165.7677,190.9852,166.2679,191.0227 M164.6239,197.763 C165.7461,197.7619,165.4047,197.7559,166.8269,198.0278 C168.1541,198.3031,168.1549,198.2964,168.5837,198.986 C168.4561,199.4891,168.3268,199.6549,165.8557,213.1739 C165.1732,214.057,165.6435,214.1878,164.5497,215.0954 C163.5844,215.94,163.5491,215.9386,162.4743,216.0398 C161.2262,216.1168,161.1164,216.1105,160.7886,215.5826 C160.4473,215.0615,160.4105,215.0578,160.7297,214.0707 C161.4656,208.5236,161.5952,210.5036,163.724,199.9865 C164.1808,199.0015,164.0362,198.9841,165.2482,198.891\" fill=\"rgb(40,40,40)\"/>\n<path d=\"M163.9129,231.6833 C166.5309,231.6866,166.8697,231.6853,168.6909,232.6456 C169.3477,233.6541,169.2295,233.6087,170.9855,235.317 L172.6888,232.5681 L174.2061,232.3106 C173.5714,233.306,173.4283,233.6758,173.5305,233.1387 C173.3261,232.75,173.6688,232.7381,173.6723,232.8192 C173.2679,233.0992,173.0985,233.5022,173.0269,233.3504 C171.9894,235.5044,171.7352,233.3394,171.9075,235.775 L167.7933,257.2457 C167.5839,258.4355,167.6816,258.7345,167.7283,259.067 C167.8931,259.6238,167.9581,259.9897,169.5318,260.1517 C170.3804,260.2644,170.6247,260.3017,170.6961,260.6084 C170.6336,260.911,170.3231,261.012,169.9535,261.0987 C168.7987,261.1361,168.187,261.1178,163.5725,261.0652 C162.8682,260.9731,162.7188,260.793,162.7617,260.6838 C162.6646,260.4757,162.9446,260.4058,163.3682,260.3203 C164.4356,260.1194,164.9105,259.7427,165.4638,258.7041 C165.6487,257.9451,165.978,257.2508,166.2047,256.4767 L168.3278,247.8292 C167.1563,250.2361,164.365,251.2281,161.2213,251.1583 C157.0051,250.9252,154.4615,247.5141,154.0204,243.2294 C153.5489,237.8948,157.8066,233.1317,163.8498,232.3392 M165.138,233.6719 C160.5336,233.8226,158.1558,238.4279,158.516,242.9062 C158.6721,246.8016,161.2129,249.3799,164.224,249.701 C167.9311,250.1183,171.1074,246.2246,171.4557,241.0339 C172.0087,237.083,169.7557,233.6058,165.9397,233.1641\" fill=\"rgb(40,40,40)\"/>\n<path d=\"M152.8358,267.57 L158.331,267.6085 L157.7954,268.4015 C156.2524,268.7878,156.6887,268.6018,155.7314,268.8923 C154.9629,269.1704,154.9337,269.163,154.9696,269.8628 C154.8598,270.4609,154.9634,270.5906,155.3019,270.8721 L158.9903,282.144 L166.7014,271.7631 C168.3167,270.4562,167.9097,270.3701,168.4548,269.7252 C168.8666,269.0945,168.9729,269.085,168.8806,268.5511 C168.6466,267.9769,168.7883,267.9732,167.9549,267.7526 C167.1763,267.5384,167.1348,267.5297,166.085,267.5479 L166.2985,266.7608 L174.4538,266.7625 L174.2193,267.6374 C172.6204,267.6361,172.3648,267.8189,171.8117,268.1424 C171.2712,268.524,171.2377,268.516,170.5886,269.9521 L158.7587,291.1469 C156.9862,293.9256,157.4945,293.4973,155.5883,295.4378 C153.8924,297.1889,153.8431,297.1864,151.7648,298.0461 C149.7343,298.9118,149.6893,298.9124,147.6812,298.8837 C145.9542,298.8785,145.9072,298.8737,145.0747,298.3582 C144.2504,297.8498,144.2118,297.8389,144.1891,296.8468 C144.0272,295.9362,144.2037,295.92,144.8465,295.211 C145.5201,294.5243,145.5187,294.521,146.5476,294.507 C147.3328,294.5066,147.4747,294.5012,148.0193,295.0527 C148.6101,295.6022,148.6091,295.5978,148.6594,296.4264 C148.5993,296.9713,148.7102,296.9758,148.6752,297.4942 C148.6401,298.0102,148.6238,298.0056,149.5715,298.1971 C150.9639,298.3529,150.6384,298.3481,152.3868,297.8259 C154.1127,297.2991,154.1147,297.2951,155.6457,295.9819 C157.25,294.6823,157.2438,294.6739,158.4602,292.8429 C159.6879,291.0575,159.6769,291.0435,160.3024,289.1474 L156.7589,272.197 C156.3726,271.1504,156.5495,271.1444,155.7788,270.863 C155.1028,270.5795,155.0617,270.5756,153.8279,270.5764 L154.0584,269.7351\" fill=\"rgb(40,40,40)\"/>\n<path d=\"M193.1885,13.138 L209.7134,13.1744 L209.1495,15.0112 L195.8119,15.0097 L193.1778,23.5201 C195.4143,23.0058,196.0576,22.8816,198.4575,23.168 C202.8857,23.6159,205.8903,25.4458,205.4551,30.2151 C204.7865,35.3754,199.0076,38.972,191.7818,39.0258 C188.4121,39.0264,185.1631,37.7793,184.2532,37.0596 L184.857,36.0872 L186.955,36.783 C188.0864,37.5299,191.4043,37.5387,195.0929,38.0664 C200.2164,38.3534,203.9357,35.0424,203.6018,31.1128 C203.1328,27.3425,199.1734,25.3374,193.8719,25.0938 C191.3141,25.0164,189.2462,25.2946,188.4443,25.4576 L188.4492,12.37\" fill=\"rgb(40,40,40)\"/>\n<path d=\"M187.9207,47.7422 L199.0244,47.7794 C203.8362,47.777,202.9815,47.779,205.5492,49.3374 C208.2778,51.157,208.0798,51.0444,208.2086,54.9794 C208.241,56.0245,208.275,56.0559,207.7639,59.7141 C206.9283,65.1466,206.9471,64.5276,206.2989,68.1889 C205.3877,71.751,205.4396,72.0055,204.4408,73.7195 C202.9587,75.7533,202.9809,75.9049,199.3749,76.1676 C197.6421,76.2523,197.5045,76.2493,194.4692,76.2557 L181.2461,76.2553 L181.4568,75.4685 L184.0295,75.4719 C185.2117,75.4732,184.8233,75.4683,185.1929,74.9982 C185.4905,74.5381,185.4898,74.5341,185.7535,72.9754 L189.8158,53.4941 C189.9822,52.0152,190.1431,51.9478,190.0851,51.5137 C189.8175,50.8141,189.9662,50.7904,189.1024,50.7141 L187.8057,50.6493 L187.9881,49.7356 M199.036,50.9925 L194.2365,50.9957 C193.1851,50.9966,193.4911,50.9914,193.0583,51.2789 C192.7077,51.5554,192.677,51.5487,192.4369,52.616 L187.2558,72.4073 C186.8942,73.3126,187.0376,73.4503,187.2167,73.6535 C187.4001,73.8662,187.5069,73.8649,188.9937,74.0551 L191.9666,74.1659 C195.9429,74.166,195.1821,74.1596,198.016,73.7805 C200.5497,73.4265,200.5423,73.4212,202.3281,71.9736 C204.615,70.5892,204.2369,70.5799,205.2777,67.766 C206.2553,65.1178,206.2336,65.1042,206.6898,60.9139 C207.341,57.0114,207.208,57.0424,206.5475,55.3393 C205.92,53.5473,205.8667,53.5342,204.1554,52.6719 C202.4926,51.8495,202.4269,51.8392,199.58,51.8451\" fill=\"rgb(40,40,40)\"/>\n<path d=\"M190.3793,82.7503 L199.851,82.7857 L199.7168,83.7061 L196.3008,83.6968 C194.9247,83.6979,195.418,83.6936,190.8524,106.3099 L197.3395,106.3106 C201.5529,106.2986,200.554,105.9752,204.148,104.4134 C207.2447,102.9126,207.4863,102.9027,209.5837,99.9835 L210.2617,100.3195 L205.561,108.1695 L184.8159,108.1707 L185.028,107.3224 L188.3303,107.1341 C189.8617,99.3983,190.1894,103.2454,194.2642,83.568 L190.9723,83.2876 L191.152,82.4881\" fill=\"rgb(40,40,40)\"/>\n<path d=\"M192.0566,118.7298 L212.8543,118.7685 L212.2806,120.979 L203.0334,120.9725 L197.0117,144.7656 L192.1205,146.4233 L197.9322,123.129 L189.3989,123.0753 L189.701,122.0022\" fill=\"rgb(40,40,40)\"/>\n<path d=\"M189.398,154.6002 L195.1263,154.6344 L195.0353,162.3273 C196.9979,160.3796,197.6923,160.3523,202.556,160.2767 C206.6811,160.2678,208.7785,162.5515,208.306,165.4236 L204.6861,174.8302 C204.9401,177.339,203.0206,179.0478,199.3406,179.4163 C195.8273,179.7615,191.8042,179.0304,189.9997,178.1696 L188.0052,180.206 L185.1136,180.2067 L188.5175,179.002 L191.639,157.579 C191.824,156.1172,190.3338,154.742,189.0418,155.0552 L189.1774,153.9419 M200.647,160.9548 C196.6574,160.9542,193.9957,163.3552,193.1878,164.6667 L190.626,174.4051 C189.9068,177.2372,191.5925,178.8464,195.5394,178.5418 C199.4811,178.2374,202.5328,175.6933,202.7843,172.1666 L203.5409,165.0544 C204.1246,162.5849,202.2914,161.276,199.6931,160.5163\" fill=\"rgb(40,40,40)\"/>\n<path d=\"M201.3838,190.6038 L203.9954,190.9768 L203.677,194.2708 L199.0233,194.2639 L198.9675,191.7164 L200.98,191.1877 M199.636,198.2666 L202.171,198.5886 L198.4002,218.9365 C197.2079,223.7383,195.2708,225.4561,195.8242,224.5036 C195.8145,224.2455,194.8843,224.66,196.3651,224.7821 L196.5841,225.3152 L196.6947,226.3488 L195.7253,227.6484 L195.491,228.4821 L194.8368,229.3327 L194.9251,229.5584 L194.9867,229.7939 L195.305,229.9502 L195.491,230.1185 L195.9843,230.2622 L196.4653,230.4429 L197.026,230.6089 L195.7045,231.0017 L196.1245,231.1209 L196.3825,231.5041 L197.2853,231.4898 L197.194,231.9932 L198.1573,231.9317 L197.7196,232.6651 L198.6391,232.5992 L198.0861,233.4159 L198.9596,233.4104 L198.5186,234.2238 L199.2937,234.3045 L199.1929,234.9537 L199.8773,235.0955 L200.1399,235.61 L200.8028,235.7847 L201.0106,236.2934 L201.6599,236.4413 L201.8006,236.9678 L202.5246,237.1111 L202.6268,237.7135 L203.3894,237.8452 L203.411,238.4877 L204.1947,238.641 L204.2451,239.2457 L204.9726,239.4065 L205.1258,239.8701 L205.7713,240.0672\" fill=\"rgb(40,40,40)\"/>\n<path d=\"M203.5951,231.9706 C205.1812,231.9736,205.3537,231.9723,205.5359,232.4736 C205.6733,232.732,205.7233,233.088,205.3668,233.6783 C205.0432,234.1892,205.0087,234.3528,204.5535,234.6062 C204.1383,234.862,204.0641,234.8826,203.3586,234.8839 C202.4484,234.8839,202.2628,234.7996,202.0465,234.565 C201.6483,234.226,201.7027,233.9999,201.404,233.6628 C201.1524,233.2809,200.832,233.1029,200.0851,233.0375 C198.8427,233.0049,198.8187,233.098,197.6567,233.3806 C196.6618,233.6542,195.9392,234.0588,195.2706,234.7028 C194.6497,235.3215,194.266,236.0187,193.6287,237.086 C193.0727,238.0948,192.713,238.9114,192.2112,240.0788 C191.7529,241.2136,191.4148,242.2258,189.4899,249.9446 L186.8472,249.9443 L191.5205,232.137 L193.7877,232.1403 L192.5254,234.507 C192.6486,234.0729,192.6372,233.8183,192.0221,234.1634 C191.5324,234.4124,191.2082,234.6259,190.7645,234.9906 C190.3753,235.3031,190.0913,235.4435,189.8225,235.7668 C189.591,236.0309,189.4179,236.1806,189.3258,236.404 C189.2409,236.5916,190.0496,235.0731,189.0977,235.5823 C189.0181,235.7326,188.294,235.7948,188.2941,235.824 C188.3865,235.8527,189.4301,234.2688,188.3325,235.5012 C188.2597,235.8066,189.5175,234.6056,187.8038,234.6528 C188.0461,234.0492,189.7657,233.6919,189.6272,233.5186 C189.9575,233.2586,191.7894,233.0804,189.7708,233.0089 C189.4222,232.9082,189.4469,232.7773,189.3669,232.4587 C189.1556,232.1355,189.4967,231.9794,190.089,231.9697 C191.141,231.9697,191.6542,232.069,192.7573,232.105 C193.8394,232.1547,194.5503,232.1689,195.3905,232.0994 C196.2624,232.0254,196.7834,231.9464,197.3331,231.806 C197.8944,231.6825,198.2452,231.6211,198.6168,231.6374 C198.8975,231.6437,199.2197,231.8977,199.4165,232.0482 C199.611,232.2203,199.7254,232.4362,199.8347,232.7016 C200.1603,232.6467,200.0638,232.5753,200.1493,232.6659 C200.5161,232.7499,200.3915,232.5185,200.6016,232.7706 C201.0163,232.9587,201.3138,232.575,201.1175,233.0962 C201.0245,233.2648,201.6511,233.1972,200.8145,233.596 C200.5699,233.7908,200.3883,233.8352,199.973,233.9939 C199.6253,234.1495,199.6424,234.1724,199.373,234.2816 C199.1586,234.3901,199.1276,234.4526,198.996,234.4932 C198.8916,234.5454,198.7969,234.5842,198.7357,234.5568 C198.6527,234.5488,198.7197,234.4176,198.6249,234.2813 C198.5498,234.1535,198.5696,233.968,198.5663,233.8446 C198.3751,233.7139,198.616,233.4789,198.7897,233.3475 C198.9653,233.2154,199.2586,233.0467,199.7315,232.8967 C200.1987,232.7442,200.6901,232.5736,201.4763,232.3805 C202.2672,232.1954,202.926,232.0348,203.9173,231.8927 C204.8777,231.7678,205.2916,231.6992,205.9825,231.7097\" fill=\"rgb(40,40,40)\"/>\n<path d=\"M191.9794,267.3719 L208.3155,267.41 L207.9687,268.6168 L189.9712,285.0786 L203.0129,285.0773 L202.6705,286.7419 L182.8015,286.7432 L183.1459,285.2882 L204.2894,267.8829 L190.6194,267.8421 L191.0342,266.3264\" fill=\"rgb(40,40,40)\"/>\n<path d=\"M239.3683,12.1119 C242.1135,12.1149,242.3253,12.1135,245.8979,12.8849 L245.2158,15.2626 C243.3873,13.6953,243.0625,13.8817,242.3821,13.7163 C240.2815,13.3707,241.1874,13.3077,238.6154,13.5747 C234.7878,13.8299,235.5499,13.8188,232.6682,15.5865 C229.8293,17.3699,229.9574,17.2779,227.9925,20.5741 C226.3876,23.4643,226.475,23.5053,225.9122,25.7832 C227.4574,24.0198,227.7944,23.8287,232.688,23.5441 C235.4628,23.3812,235.6927,23.4267,237.6067,23.4777 C239.5738,23.5691,239.5788,23.5636,240.7965,24.8473 C242.0742,26.1338,242.0706,26.1396,242.0786,28.7072 C241.9702,32.2264,242.0908,31.8659,240.2146,34.7577 C238.4648,37.4721,238.4146,37.4279,235.4936,38.844 C232.8049,40.1785,232.7499,40.1743,229.522,40.1576 C225.9852,40.1577,226.5066,40.1522,224.5091,38.0655 C222.5994,36.0417,222.5225,36.0256,222.5312,32.4386 C222.3741,28.8195,222.5377,28.8309,223.9976,26.2713 C225.4688,23.4231,225.4615,23.4095,227.99,21.2285 C230.4865,18.9323,230.4814,18.9204,233.5152,17.6228 C236.4571,16.3387,236.4423,16.3238,239.4671,16.3427 M235.3171,27.8423 C232.4885,27.8432,233.0079,27.8367,230.9448,28.9498 C229.0555,29.9879,228.9988,29.9829,227.7051,31.9147 C226.4548,33.8037,226.4088,33.8075,226.1318,36.2284 C225.8573,37.1218,226.007,37.1392,226.2092,39.1591 C226.4418,40.9966,226.5323,41.004,227.9183,42.1888 C229.3431,43.3722,229.3416,43.363,231.7476,43.3642 C234.1974,43.3642,234.4403,43.3587,236.5114,42.2036 C238.5856,41.0863,238.577,41.0799,239.891,39.0615 C241.2301,37.0671,241.2236,37.0496,241.6394,34.603 C242.1716,32.2445,242.0538,32.2833,241.0966,31.223 C240.1521,30.0569,240.0964,30.0459,237.966,29.9185 C236.7564,29.8494,236.7379,29.8478,235.4401,29.8333\" fill=\"rgb(40,40,40)\"/>\n<path d=\"M225.5756,47.5481 L247.1545,47.5947 L246.3974,51.209 L244.5496,51.2094 L243.9757,49.6861 C243.7972,48.5188,244.0432,48.7463,243.0059,48.595 C242.1014,48.4381,242.0596,48.432,239.5912,48.466 L230.2361,48.4683 L227.6634,58.2352 L237.2151,58.2377 C238.4404,58.2366,238.1308,58.2328,238.3913,58.0156 C238.6436,57.794,238.6414,57.7862,239.0682,56.792 L240.1011,56.7904 L238.5659,62.5922 L237.6185,62.5938 C237.7825,61.8262,237.7627,61.6405,237.6147,61.6335 C237.2714,61.6286,237.4791,61.624,236.5541,61.4863 L233.919,61.391 L226.3197,61.3922 L224.1848,69.5459 C223.699,70.6095,223.7288,70.8045,223.7224,71.2168 C223.6041,72.0906,223.7402,71.9188,224.2893,72.0692 C224.8505,72.2177,225.011,72.2159,226.9232,72.2802 L231.6256,72.3414 C234.8868,72.3412,234.1934,72.3359,236.6851,71.9249 C238.9253,71.5173,238.9215,71.502,240.9318,70.2664 L241.5121,70.7953 L236.9859,74.7184 L218.5394,74.7198 L218.7174,73.9753 C220.4703,73.7041,220.1001,73.6906,221.3985,73.4135 C222.5587,73.142,222.5649,73.1308,223.2355,72.166 C223.6204,71.2487,223.8742,71.0549,224.7502,69.1239 L229.0371,54.3087 C230.1059,51.9275,229.791,51.8321,229.9808,51.1867 C230.1716,50.4993,230.1734,50.4912,230.1589,50.0462 C230.0003,49.3869,230.1416,49.3691,229.3901,49.1687 C228.693,48.9639,228.6484,48.9556,226.8022,48.9407 L226.9638,48.1681\" fill=\"rgb(40,40,40)\"/>\n<path d=\"M219.8425,83.1383 L227.5513,83.1852 L229.9281,102.9668 L243.2667,84.4584 L249.5392,84.458 L249.3254,85.2595 C247.0423,85.4194,246.04,85.8561,245.6636,87.9669 L241.3764,106.7172 C240.9792,108.056,241.0541,109.6487,241.0342,110.1068 C240.8994,111.2538,241.8355,111.691,243.931,111.7433 L243.7266,112.4861 L233.5967,112.3769 L233.7712,111.7075 C236.1817,111.512,237.6915,111.0411,237.8505,109.2861 C238.5838,108.3278,238.9321,97.562,241.4357,89.3456 L229.7646,112.6816 L228.5294,112.6859 C227.5774,105.8861,225.9741,100.4207,225.1158,90.2665 L220.6104,109.3517 C220.2661,111.5659,220.5486,112.557,223.0344,113.0802 L224.9655,113.4852 L224.7978,114.1823 L216.073,114.1085 L216.2096,113.4973 C218.3425,112.9269,220.2399,112.4812,220.1448,110.543 C220.9077,103.0123,223.5976,97.6971,223.6653,90.6318 C223.4707,88.8872,222.8897,88.2626,220.6016,88.2227 L220.7285,87.5979\" fill=\"rgb(40,40,40)\"/>\n<path d=\"M221.3475,118.4903 L230.0385,118.5381 L229.9782,119.3468 L226.5019,119.7307 C225.383,120.8944,225.1645,121.4798,225.0269,124.1317 L222.7798,136.5308 C222.2936,138.7106,222.3047,139.8693,222.3235,142.0491 C222.1765,144.9158,223.9044,146.9834,228.0099,147.0157 C232.3166,147.016,235.9115,144.0652,235.7303,138.6369 L237.3848,125.614 C237.504,124.0668,237.867,122.9793,238.1314,122.157 C238.2586,121.4411,238.1754,121.0594,236.0554,120.9054 L234.4679,120.4323 L234.6562,119.7241 L244.6281,119.8169 L244.4345,120.5093 L241.3093,121.1914 C240.0933,122.2672,239.5793,123.5347,239.4622,125.8996 L237.6979,137.1605 C236.657,141.3484,235.9626,145.3192,228.6171,145.2614 C223.617,145.2615,219.7947,143.089,219.4949,138.1456 C219.2461,136.3478,219.7252,134.666,220.2289,132.8677 L222.4955,121.7912 C222.2951,120.0232,222.103,119.9228,220.224,118.8003 L220.2745,118.2702\" fill=\"rgb(40,40,40)\"/>\n<path d=\"M237.0747,160.7864 C239.6719,160.7893,239.9588,160.788,243.4591,161.4558 L242.7674,164.1451 C240.8911,162.5058,240.6132,162.7101,236.8953,163.4874 C233.7862,164.3734,233.7274,164.4372,231.8138,167.6112 C229.9447,170.4444,230.0483,170.5071,229.5473,174.0031 C229.4179,174.8605,229.37,174.8644,229.43,176.168 C229.4211,179.451,229.5438,179.026,234.0285,179.2661 C237.1871,179.3381,236.6271,179.3432,239.5424,178.6017 C241.1117,177.8877,242.2112,177.8775,243.2533,178.4942 L242.3024,180.2025 C238.5286,181.1208,239.7115,180.8371,234.231,180.984 C229.8471,181.0313,230.3757,181.0378,228.4572,180.1359 C226.0167,178.8278,226.1839,178.7971,226.1651,176.0068 C225.9856,174.9016,226.1291,174.941,226.4658,172.2808 C227.3668,167.5935,227.2778,168.0354,229.6571,164.2592 C232.7269,160.0962,232.906,160.0749,237.9233,160.2851\" fill=\"rgb(40,40,40)\"/>\n<path d=\"M224.3083,189.7884 L230.8757,189.8281 L230.3694,190.5988 L228.8975,190.5841 C227.9876,192.6745,227.6868,191.7102,227.6107,194.0006 L225.5935,203.8023 L235.8323,196.6016 C237.2123,195.8746,237.8179,194.6603,237.8877,195.1096 C238.0593,195.28,237.3885,195.3433,236.1275,195.4194 L235.5668,195.1836 L243.1348,195.0014 L243.1043,195.3143 L242.8234,195.4689 L242.7168,195.6104 L242.8263,195.767 L242.9228,195.9454 L243.0512,196.1473 L243.2859,196.3451 L243.5754,196.5108 L244.0029,196.6043 L244.4928,196.6135 L245.022,196.6038 L245.5284,196.5791 L246.0101,197.2047 L246.084,198.2615 L246.1282,199.3633 L245.9775,200.5719 L245.7297,201.8815 L245.4494,203.1979 L245.2377,204.3992 L245.0692,205.448 L245.0123,206.3482 L244.97,207.2037 L244.944,207.9209 L244.908,208.451 L244.9994,208.9372 L245.0499,209.5672 L245.1717,210.0789 L245.0825,210.5695 L245.1327,211.242 L245.1487,211.8665 L245.1373,212.486 L245.1901,213.1532 L245.2787,213.9597 L245.3714,214.8112 L245.5539,215.6184 L245.7275,216.5484 L245.9661,217.3216 L246.0898,218.2792 L246.2341,219.0893 L246.3827,219.8031\" fill=\"rgb(40,40,40)\"/>\n<path d=\"M235.7161,231.5843 C237.4098,231.587,238.9896,231.5858,242.9318,232.1542 L242.1808,234.6964 C240.2921,233.8377,237.5156,232.609,234.7222,233.0019 C231.8753,233.3721,229.8913,235.3634,229.7792,236.7998 C229.4833,238.8602,231.7584,239.7413,237.7117,240.406 C241.3044,241.4193,242.9715,242.8277,242.5446,245.801 C241.5995,249.6086,237.0735,251.8332,231.6292,251.8157 C228.2188,251.8159,225.2584,250.8405,224.1608,250.1512 L224.717,246.9736 C225.7586,248.5501,228.2016,249.5005,230.8418,249.0542 C234.2024,248.7189,237.0081,247.2395,237.2474,245.0666 C238.028,242.7736,234.5763,241.4495,231.3972,241.222 C227.6311,240.6913,225.251,239.2165,225.8216,237.0927 C226.7038,233.7207,230.6057,232.1466,235.024,232.0303\" fill=\"rgb(40,40,40)\"/>\n<path d=\"M263.113,13.3304 L281.6505,13.3695 L281.1078,14.7593 L264.2028,39.7849 L259.3672,39.7867 L278.0191,17.1755 L264.4185,17.1762 L265.0473,13.5526\" fill=\"rgb(40,40,40)\"/>\n<path d=\"M261.1417,47.5407 L283.3946,47.5864 L282.5508,51.8305 L281.0883,51.8285 L280.5791,50.2801 C280.4833,48.9867,280.6824,49.2872,279.8155,49.1173 C279.0447,48.9446,279.0036,48.9375,276.4997,48.9674 L266.9457,48.9651 L264.418,58.7815 L270.4465,58.784 C272.817,58.7832,272.3077,58.7785,273.9903,58.4144 C275.5171,58.0367,275.5185,58.0221,276.554,56.9116 L277.4359,56.9098 L275.5654,62.9273 L274.7846,62.8247 C274.8219,61.2382,274.8978,61.8333,274.4725,61.9328 C274.1278,61.8481,274.1046,62.0604,272.6863,61.8817 C271.3046,61.6921,271.2579,61.6879,269.137,61.7244 L263.3718,61.7561 L261.4186,68.9436 C260.7793,70.6177,260.7941,70.8458,260.7979,71.5789 C260.6837,72.7421,260.8174,72.5413,261.3514,73.3015 C261.9112,73.9788,262.1057,73.9913,263.7476,74.336 L263.589,74.964 L253.4002,74.9663 L253.5478,74.4255 C255.2966,74.0814,255.6746,74.0561,256.6167,72.9378 C257.4636,71.9187,257.7645,71.1887,258.2927,69.1518 L261.8815,54.4874 C262.0055,53.0785,262.3375,52.3361,262.3062,51.6812 C262.0827,50.7543,261.7692,49.9622,261.1972,50.0394 L259.838,50.0074 L259.9726,49.4759\" fill=\"rgb(40,40,40)\"/>\n<path d=\"M256.2207,83.0925 L265.3512,83.1364 L271.4416,103.2821 L276.3553,87.6007 C276.6353,86.4587,276.8682,86.2941,276.7133,85.8672 C276.574,85.1648,276.556,85.1209,275.1096,85.0004 L273.6418,84.9231 L273.8029,83.9602 L283.0809,83.962 L282.8207,84.9694 L280.2328,85.3098 C279.0657,85.7,279.5191,85.7989,278.6359,86.4683 C277.9454,87.1489,277.9095,87.1408,277.2825,88.6452 L270.3649,110.6586 L268.6783,110.6602 L258.2215,88.3257 L253.6222,105.9949 C253.1403,107.2,253.3205,107.3906,253.1726,107.737 C253.0643,108.1299,253.0512,108.1279,252.9878,108.623 C252.9743,109.4676,252.9517,109.2825,253.3262,109.7253 C253.6972,110.0882,253.7017,110.0862,254.6134,110.3142 L256.4652,110.5557 L256.3755,111.4052 L246.6425,111.406 L246.8762,110.5536 L248.4867,110.3737 C249.9525,110.1769,250.2972,110.1449,251.1688,109.2179 C252.0189,108.3197,252.0205,108.2981,252.6635,106.1299 L257.5879,88.6429 C257.8903,87.674,257.9194,87.5916,257.7786,87.3019 C257.6505,87.0188,257.6243,87.0002,256.5847,86.7094 L254.3222,86.3241 L254.5143,85.5144\" fill=\"rgb(40,40,40)\"/>\n<path d=\"M256.7844,118.6859 L265.4472,118.7111 L265.2382,119.6716 L261.9193,120.0763 C261.0518,123.1619,260.8339,121.4134,260.8559,139.3658 C260.8663,139.4955,265.3108,138.0904,261.2413,142.6595 C262.9877,138.1228,267.8801,135.1615,272.3532,125.9007 C274.4868,122.1437,274.7887,119.6271,274.2348,119.4309 C273.3641,119.26,271.8294,119.2044,270.2721,119.0904 L270.4811,118.1377 L279.2853,118.189 L279.4888,118.6168 C278.115,118.6168,276.8973,118.8713,276.4377,120.2448 C274.4497,125.3506,269.4029,130.2534,266.6196,141.4995 C265.5125,142.8701,264.4154,143.5965,263.7163,144.3342 C262.2812,144.6841,260.6151,144.7555,261.3228,144.6151 C261.6067,138.4375,261.5385,132.6375,260.2929,121.055 C259.8242,119.5977,258.3272,119.0155,257.039,118.9383 L257.1792,118.0823\" fill=\"rgb(40,40,40)\"/>\n<path d=\"M282.1028,152.9417 L275.1881,176.144 C274.9825,176.7387,274.8639,177.285,274.9178,177.2592 C275.251,177.2565,275.5209,177.7218,276.8299,177.4778 L278.0349,177.619 L273.4631,178.9811 L272.8843,175.3799 C271.0371,177.53,268.0468,178.5775,264.894,178.724 C260.9664,178.8703,258.1756,175.1769,258.7791,170.6632 C259.7958,164.8696,264.7216,160.2446,271.2607,159.9904 C274.3785,159.7786,276.7127,160.3751,277.0969,162.4261 L278.9235,154.1544 C278.964,153.2615,279.1355,152.8492,275.9831,152.796 L276.1248,152.0851 L283.3255,151.8869 M272.4758,161.6735 C267.5305,161.6743,264.3625,166.1979,264.1053,171.7489 C263.6099,176.2285,265.7375,178.8357,269.4085,179.344 C273.0582,179.6985,276.7723,175.4515,277.123,170.2391 C277.6765,166.129,275.8013,162.5378,272.4372,162.4193\" fill=\"rgb(40,40,40)\"/>\n<path d=\"M275.7045,188.9309 L268.9767,214.9798 L271.3302,214.9416 L270.9296,215.7323 L262.4399,215.7339 L267.9187,215.1168 L273.5101,190.9072 L269.977,190.1233 L270.2111,189.4598 L278.7554,189.2645\" fill=\"rgb(40,40,40)\"/>\n<path d=\"M274.2793,227.8647 L272.4971,233.2636 L276.1327,233.237 L275.6915,235.4373 L272.1194,235.4386 L269.0543,246.7523 C268.5919,247.7146,268.6246,247.9162,268.6341,249.061 C268.5096,249.9652,268.7024,250.2816,270.058,250.3106 C271.1167,250.3105,271.6359,250.0881,272.4204,249.5189 L272.7242,250.9943 C270.9621,252.224,268.529,253.4168,266.5979,253.1093 C264.5007,252.6742,263.2119,251.3785,263.4667,248.755 C263.5589,247.3488,264.0429,246.1415,266.0786,237.0602 L263.52,237.0623 L263.9398,235.5731 L265.7532,234.6466 L266.9904,230.3579 L271.0269,227.9502 L275.0914,226.7838\" fill=\"rgb(40,40,40)\"/>\n</svg>"
          },
          "metadata": {
            "tags": []
          }
        }
      ]
    },
    {
      "cell_type": "markdown",
      "metadata": {
        "id": "9LrnM4thtJrA"
      },
      "source": [
        "## Typesetting with SVG-VAE glyphs\n",
        "\n",
        "Now we can draw single glyphs to the screen, which is fantastic! If we want to actually typeset some text, it's a bit more tricky. The model doesn't tell us each character's advance, so we'll have to guess! The characters are also generated in the middle of their canvas, so we need to correct for the fact that some narrow characters (like, say, `i`) will need to have their path data shifted over in order to get rid of empty space on the left hand side of the character.\n",
        "\n",
        "For simplicity's sake in this section, I'm going to focus on setting *single lines* of text.\n",
        "\n",
        "First, an example string:"
      ]
    },
    {
      "cell_type": "code",
      "metadata": {
        "id": "5MBlP4EiwAPa"
      },
      "source": [
        "s = \"456 Quartzy Foxes\""
      ],
      "execution_count": null,
      "outputs": []
    },
    {
      "cell_type": "markdown",
      "metadata": {
        "id": "XvGPCUVzwGEE"
      },
      "source": [
        "And then we'll generate an alphabet:"
      ]
    },
    {
      "cell_type": "code",
      "metadata": {
        "id": "K0X4IUicwJYu"
      },
      "source": [
        "alpha = generate_alphabet(np.random.randn(32))"
      ],
      "execution_count": null,
      "outputs": []
    },
    {
      "cell_type": "markdown",
      "metadata": {
        "id": "EzUcdyz9wc1P"
      },
      "source": [
        "The function below calculates the minimum and maximum x-coordinates of every command in the path. This gives us both the amount we need to shift the glyph in order to eliminate empty space to the left of the glyph, and how far we need to advance the cursor after drawing the glyph:"
      ]
    },
    {
      "cell_type": "code",
      "metadata": {
        "id": "2AFbyuc4woiv"
      },
      "source": [
        "def x_extent(path):\n",
        "    all_x = [getattr(cmd, 'x', 0) for cmd in path.commands]\n",
        "    return min(all_x), max(all_x)"
      ],
      "execution_count": null,
      "outputs": []
    },
    {
      "cell_type": "markdown",
      "metadata": {
        "id": "vRmnoXidw6Ip"
      },
      "source": [
        "If this works, we should be able to draw a rectangle around a character. Let's try it out:"
      ]
    },
    {
      "cell_type": "code",
      "metadata": {
        "id": "JrVQx3Hdw0LY",
        "colab": {
          "base_uri": "https://localhost:8080/",
          "height": 143
        },
        "outputId": "0c9b10b9-a777-4612-f5aa-fc45bc67fd98"
      },
      "source": [
        "ch = 'j'\n",
        "min_x, max_x = x_extent(alpha[c2i(ch)])\n",
        "page = document(32, 32, 'mm').addpage()\n",
        "rect_pen = shape().stroke(rgb(0, 255, 0)).nofill()\n",
        "letter_pen = shape().nostroke().fill(rgb(40, 40, 40))\n",
        "page.place(rect_pen.rectangle(min_x, 0, max_x - min_x, 32))\n",
        "page.place(letter_pen.path(alpha[c2i(ch)]))\n",
        "show(page)"
      ],
      "execution_count": null,
      "outputs": [
        {
          "output_type": "display_data",
          "data": {
            "text/plain": [
              "<IPython.core.display.SVG object>"
            ],
            "image/svg+xml": "<svg height=\"90.7087pt\" version=\"1.1\" width=\"90.7087pt\" xmlns=\"http://www.w3.org/2000/svg\" xmlns:xlink=\"http://www.w3.org/1999/xlink\">\n<title>Untitled</title>\n<rect fill=\"none\" height=\"90.7087\" stroke=\"rgb(0,255,0)\" stroke-miterlimit=\"10\" width=\"26.5859\" x=\"19.7056\" y=\"0\"/>\n<path d=\"M46.2915,15.3789 C48.0804,15.3826,48.3104,15.3805,46.229,20.6407 C45.0083,23.4431,44.6862,24.0682,42.1232,24.4739 C39.5502,24.4088,39.8516,24.143,39.3624,21.241 C39.1583,18.4118,39.2012,18.2446,43.6734,17.4527 C44.6665,17.315,44.787,17.316,45.1041,17.3278 M42.6017,31.3391 C43.9849,31.336,43.811,31.3281,43.9721,32.2121 C43.9013,33.0379,44.1175,32.9905,39.267,65.7257 C37.633,75.4504,37.5864,74.6906,34.1925,80.0433 C29.9081,86.3507,29.9811,86.4356,23.4673,86.3366 C20.3795,86.3344,20.1321,86.3262,19.7056,83.834 C19.298,82.1694,19.6358,82.169,20.5423,81.1922 C21.5517,80.2767,21.556,80.2651,22.7253,80.3008 C24.3092,80.3276,23.9678,80.539,25.5202,81.6972 C26.7078,82.6916,26.8416,82.8602,27.8061,82.8428 C29.8255,82.8436,29.4452,82.8353,31.0749,78.993 C31.8135,76.1301,32.1191,75.9816,33.181,72.0224 L39.4966,41.6972 C40.0833,40.0234,39.8872,39.1741,39.5232,39.5339 C38.7736,39.7453,38.5038,39.7685,35.7449,40.1082 C34.3509,40.2453,34.2868,40.3025,34.5287,39.3502 C35.423,38.3303,34.9358,37.3755,38.2477,35.9634 C41.6467,34.4021,41.9184,34.3414,44.6379,34.0636\" fill=\"rgb(40,40,40)\"/>\n</svg>"
          },
          "metadata": {
            "tags": []
          }
        }
      ]
    },
    {
      "cell_type": "markdown",
      "metadata": {
        "id": "UeLXVSWUwM1e"
      },
      "source": [
        "Working from the example code in the [manipulating font data notebook](https://github.com/aparrish/material-of-language/blob/master/manipulating-font-data.ipynb), we now have everything we need to typeset a single line of text. I've commented the source code below:"
      ]
    },
    {
      "cell_type": "code",
      "metadata": {
        "id": "DXrSwdHNy2Wh",
        "colab": {
          "base_uri": "https://localhost:8080/",
          "height": 211
        },
        "outputId": "66721c61-ad90-4a45-ff69-359bbb363fcd"
      },
      "source": [
        "page = document(300, 50, 'mm').addpage()\n",
        "pen = shape().nostroke().fill(rgb(40, 40, 40))\n",
        "cx = 0 # current \"cursor\" position\n",
        "kern = 1 # to modify spacing between characters\n",
        "for ch in s:\n",
        "    # if it's a space, just advance\n",
        "    if ch == ' ':\n",
        "        advance = 5 # maybe?\n",
        "    # otherwise...\n",
        "    else:\n",
        "        glyph_path = alpha[c2i(ch)] # get path for this character\n",
        "        min_x, max_x = x_extent(glyph_path) # find min/max x values\n",
        "        advance = max_x - min_x # amount to move forward\n",
        "        # shift glyph to the left to eliminate empty space, then\n",
        "        # add the current cursor value\n",
        "        glyph_path = glyph_path.translate(-min_x + cx, 0)\n",
        "        page.place(pen.path(glyph_path))\n",
        "    cx += advance + kern\n",
        "show(page)"
      ],
      "execution_count": null,
      "outputs": [
        {
          "output_type": "display_data",
          "data": {
            "text/plain": [
              "<IPython.core.display.SVG object>"
            ],
            "image/svg+xml": "<svg height=\"141.7323pt\" version=\"1.1\" width=\"850.3937pt\" xmlns=\"http://www.w3.org/2000/svg\" xmlns:xlink=\"http://www.w3.org/1999/xlink\">\n<title>Untitled</title>\n<path d=\"M25.781,15.4687 L31.0048,15.5042 L23.7767,46.1509 L29.7079,46.1412 L28.6906,50.5936 L23.0073,50.5966 L20.3124,60.5685 C19.6919,61.6859,19.6787,63.2615,19.6178,64.1919 C19.3912,65.1027,20.4231,66.1704,22.5096,66.4682 L22.3577,67.6156 L7.8119,67.6182 L8.1866,66.5102 C10.9452,66.0127,12.1053,65.2375,13.2105,62.9825 C13.5888,61.4524,14.3302,59.8829,15.0368,57.864 L17.0813,51.6598 L0,51.6638 L0.5669,49.1881 L15.6624,16.2403 L20.7029,15.0305 M17.168,21.0364 L1.7934,45.8357 L15.8584,45.8384 L20.9108,22.3022 L19.3854,22.2599\" fill=\"rgb(40,40,40)\"/>\n<path d=\"M47.7167,15.8081 L72.4845,15.8794 L70.9351,20.808 L52.711,20.8045 L49.2354,35.044 C51.9435,34.4628,52.7448,34.2179,56.7781,34.788 C62.7832,35.5347,66.9635,41.3131,66.3695,46.8607 C65.0686,56.1605,56.0873,63.7536,44.4847,63.8923 C39.4881,63.9077,35.2465,62.8437,33.8395,59.7555 L37.0337,55.6937 C38.8067,58.4208,41.5442,59.5505,47.0293,59.4372 C54.1326,59.4356,59.1373,54.3681,59.3757,47.3995 C59.6156,41.4218,55.4996,37.5161,49.3424,36.5871 C45.7373,36.3646,42.3465,36.9093,41.1483,38.2951 L42.8581,14.0054\" fill=\"rgb(40,40,40)\"/>\n<path d=\"M91.733,15.3896 L105.1231,15.4258 L103.8382,22.1817 L89.0182,22.1767 C85.8138,22.1755,85.1078,22.1653,84.6872,26.2024 L82.1106,39.6368 C84.5921,36.556,85.108,36.7028,89.6634,36.3213 L96.791,36.2626 C102.2257,36.261,101.2109,36.2532,103.6387,41.7075 C104.2823,44.4221,104.4252,44.4616,104.1573,47.4138 L101.8318,57.941 C100.4128,64.3331,100.4283,63.7707,89.8972,67.0916 C87.1957,67.8798,87.1876,67.7225,84.3051,67.5972 C75.3563,67.1354,75.0647,67.0359,75.3191,63.1165 C75.1827,62.2522,75.4481,62.2356,75.9879,59.9159 L81.945,30.7366 C83.929,23.6308,83.4626,22.2205,93.1846,20.3462 M95.6741,44.843 L87.8942,44.8484 C84.9299,44.8482,85.7007,44.8402,84.3528,48.3466 L81.7767,59.6521 C81.037,63.8128,81.3977,63.1804,85.6217,63.3503 C88.7953,63.5498,89.2897,63.5615,90.9258,63.3866 C95.3038,62.8853,95.8119,62.8539,96.7588,58.9847 L99.1829,49.7815 C100.2999,45.4458,99.9035,45.7521,95.8082,46.1982\" fill=\"rgb(40,40,40)\"/>\n<path d=\"M145.2991,15.3109 L166.078,15.3604 L168.303,17.2208 L158.1549,57.3594 C157.1264,62.2555,156.7809,61.1863,153.5681,62.9833 C154.1286,64.0901,154.4387,64.321,156.9435,64.4553 L159.3541,64.5553 L158.887,67.9738 L147.8023,67.9805 L142.3128,64.7182 C136.2128,65.6054,135.0718,65.4192,131.5979,65.256 C125.9859,64.8875,126.77,64.8024,125.1192,62.6775 C123.9941,61.5363,123.9258,61.5247,124.9656,57.9871 L133.5127,21.5558 C134.8755,17.1356,134.5362,16.4353,141.9055,15.3669 M154.9148,20.0079 L142.6324,20.0135 C139.7373,20.0136,140.4781,20.004,139.1244,21.2768 C138.0143,22.4121,137.9609,22.3988,137.4707,24.7889 L130.3967,55.2196 C129.7571,58.1946,130.0031,57.6458,131.0893,59.4225 C132.1932,60.9373,132.1998,60.9368,134.5051,60.9543 L140.5286,60.9666 C142.6838,60.9668,143.1556,60.959,144.5976,59.3352 C146.1361,57.7549,146.1242,57.7624,146.4831,55.1322 L151.6801,24.8079 C152.0748,22.9415,152.125,22.8233,151.579,22.2099 C151.0707,21.5698,150.9706,21.5297,149.5353,21.4939\" fill=\"rgb(40,40,40)\"/>\n<path d=\"M173.788,26.5097 L180.336,26.5446 L173.5033,54.5581 C172.8273,56.1895,172.9207,56.6967,173.0319,56.8053 C173.0248,57.554,174.6967,57.9578,174.6891,58.6428 C174.9631,59.4137,175.5035,59.8514,175.4533,59.6835 L178.6035,61.1639 C179.9951,61.4777,179.5755,61.4832,183.0821,61.1557 C185.6111,60.8281,185.5895,60.2732,188.2967,56.6349 L195.523,25.2206 L202.5457,25.224 L192.9554,66.2423 C191.6249,67.8745,190.8873,68.5626,186.0994,69.2089 C182.4476,69.5199,180.7386,69.582,180.3313,69.3892 C177.1935,68.9083,173.5965,68.586,176.6193,65.9851 C176.7092,65.1882,175.3591,64.808,174.725,64.8063 C172.6337,64.8067,171.157,59.0988,171.5772,62.9818 C171.6659,63.7063,171.8103,63.9005,171.4941,63.2195 C170.7126,62.3483,170.6794,61.2922,171.1377,60.9337 L179.2526,26.8752\" fill=\"rgb(40,40,40)\"/>\n<path d=\"M223.0078,26.6886 L238.4071,26.7092 L231.5095,61.771 L223.7697,61.7592 L224.3645,57.5221 C222.489,60.1257,221.9367,59.5983,218.4965,60.7979 C215.3654,61.7766,215.2796,61.7795,212.2268,61.7681 C208.4153,61.7689,209.1389,61.7602,207.2214,60.4936 C205.4935,59.208,205.4046,59.1797,205.3803,56.009 C205.1373,55.0786,205.372,55.1225,205.5376,52.6368 C205.7743,50.1686,206.0086,50.1551,206.2178,48.1408 C207.1979,40.8946,206.9228,42.0274,209.4902,39.5127 C212.1001,37.2974,212.0876,37.2774,216.3102,37.2532 C219.8574,37.2538,218.9052,37.2437,222.55,37.7185 C225.7838,38.1917,225.7866,38.1901,227.8841,38.6273 L229.7045,29.5335 L218.3482,29.5363 L216.0326,29.2136 L217.2996,23.9335 M225.5573,42.3332 C222.073,42.3338,222.9789,42.325,220.4262,43.2123 C218.0737,44.1047,217.9761,44.0946,216.5631,46.1823 C215.3875,47.8416,215.4557,48.0018,214.9658,50.8285 C214.5639,53.5009,214.5252,52.0864,214.6128,54.7147 C215.0284,56.367,214.7383,56.656,216.9888,56.7037 C219.6226,56.7737,219.3656,56.7619,221.9753,55.5452 C224.5234,54.3322,224.5261,54.3143,226.1624,51.9274 C227.8551,49.5696,227.6909,49.5414,228.2935,46.9107 C228.8052,45.9409,228.8218,45.9356,228.7566,43.7205 C228.1466,42.1614,227.9816,42.4833,224.8455,42.6173\" fill=\"rgb(40,40,40)\"/>\n<path d=\"M272.7533,26.0038 C274.1172,26.0092,274.2678,26.007,275.0439,30.5689 L268.5651,32.7705 C267.66,28.7067,267.6144,29.3758,263.1361,29.39 C258.6787,29.391,257.655,29.3839,254.9401,34.3133 C253.221,37.9392,253.2768,38.0038,249.9841,57.8182 C249.3791,62.2968,249.198,60.9467,248.3321,62.7856 C246.9552,64.5085,247.0148,64.6057,244.2479,64.6434 C242.0834,64.6429,241.7757,64.6335,241.2417,64.6486 C241.1456,64.6485,241.1884,64.6443,243.4807,41.5183 C245.1057,35.1165,244.7337,34.6396,245.1652,27.1186 L252.0075,27.1192 C251.8427,29.5345,251.8089,30.2402,251.5853,31.1767 C253.3631,27.9292,253.8916,28.2504,256.1611,27.5047 C259.6855,26.701,259.0325,26.6861,262.4226,26.9823 C265.1403,26.9645,265.495,27.1618,267.2338,27.1756 C268.9977,27.1838,268.547,27.177,270.2801,26.5677\" fill=\"rgb(40,40,40)\"/>\n<path d=\"M282.2864,19.6464 L305.6455,19.6913 L303.9742,25.7677 L294.0475,25.7573 L286.2748,64.4936 L279.2875,66.6467 L287.3728,28.3193 L277.8785,28.2492 L279.0835,22.8662\" fill=\"rgb(40,40,40)\"/>\n<path d=\"M322.259,25.9943 L346.2535,26.0632 L345.0498,30.9698 L320.8826,58.6438 L337.5058,58.6423 L336.0675,64.936 L308.4801,64.9399 L309.6713,60.7048 L336.4019,30.7013 L319.8505,30.6687 L320.7846,25.3394\" fill=\"rgb(40,40,40)\"/>\n<path d=\"M349.0881,26.334 L362.7736,26.4036 L361.9797,28.2384 C359.1492,28.2377,359.8688,28.8317,357.9371,28.9877 C357.7366,29.413,357.7978,37.0874,360.8708,49.9214 C363.724,46.6086,369.5217,43.8706,374.1475,29.5606 C372.9928,29.3189,371.4088,29.1586,369.8329,28.9629 L370.3028,27.1599 C373.0444,27.3651,374.7948,27.3893,379.2457,27.2976 C382.6173,27.2725,383.58,27.1004,386.8222,26.9074 L386.4393,28.4486 C384.3582,30.7197,383.3478,29.7196,383.0285,29.3167 C379.5134,36.0276,372.6192,42.1508,368.6406,62.5154 C365.55,71.7644,360.0962,77.0939,353.6779,74.901 C350.8432,74.3064,349.9693,72.0582,349.8941,69.7722 C349.934,68.4869,352.6673,67.0371,353.4608,66.713 C354.511,66.9176,355.3191,69.4367,355.9639,69.3683 C357.6685,69.112,360.8684,66.4735,363.123,66.7631 C364.9662,60.7685,366.79,55.4418,368.5291,45.423 C367.0952,37.2461,362.1027,32.2885,359.4021,24.5106 C358.0973,24.3312,356.2189,24.1903,355.2178,24.1345 L355.7075,22.4038 L356.9349,21.48\" fill=\"rgb(40,40,40)\"/>\n<path d=\"M416.1412,14.9569 L449.7567,15.0383 L448.0162,22.1312 C444.7256,21.0367,443.3703,20.5941,428.4867,22.1272 L424.4539,37.1676 L437.1038,37.1624 L436.685,40.2961 C433.0377,40.3098,427.0825,40.149,421.539,40.1109 L417.0556,61.6883 C416.8621,63.772,417.2283,64.7232,419.8255,65.9276 L406.6648,66.559 C409.103,65.0969,410.1892,63.595,410.6777,60.6925 L417.0289,21.9215 C417.5061,19.0477,416.677,17.4768,413.4272,16.9202\" fill=\"rgb(40,40,40)\"/>\n<path d=\"M470.03,25.8642 L486.3624,25.8954 L486.459,27.5014 L479.4619,55.504 C478.042,59.044,477.3747,59.7174,475.8229,61.0247 C473.8637,62.4568,473.4096,62.7824,469.8892,62.7965 L457.6848,62.7994 C454.6314,62.7998,453.4989,62.1937,452.5913,60.3215 C451.8666,58.8175,452.0524,56.8655,453.2532,54.7411 L460.641,28.0495 C461.3021,26.2934,462.4448,25.1433,462.8069,25.5157 M471.1496,26.6409 L464.9935,26.6428 L458.5205,61.4111 C458.4289,63.1673,458.9624,63.9404,461.8141,64.5064 L467.5089,64.6565 L472.6869,61.3575 L480.0466,30.4512 C480.1604,28.6485,479.2361,27.5097,475.4187,27.3123\" fill=\"rgb(40,40,40)\"/>\n<path d=\"M498.0011,26.0778 L511.7074,26.1394 L510.7833,28.8162 C508.0898,28.8115,508.709,29.4441,506.9091,29.4946 L509.5605,39.9253 L515.983,30.3632 C515.168,30.0326,514.3253,29.8255,512.3432,29.6751 L512.8004,27.871 L527.0422,27.936 L526.6519,29.3748 C524.3088,29.8269,523.1606,30.4763,522.4368,32.7561 L513.1827,46.6714 L520.0723,63.4836 C521.0838,65.6154,522.2943,66.3923,523.9037,67.0365 L523.4738,68.2296 L509.2392,68.0645 L509.5091,67.0664 C511.4668,66.5846,512.4985,66.0389,513.4002,64.6896 L510.1916,52.1537 L500.497,63.4023 C499.8567,64.856,500.3997,65.5721,503.1399,66.0105 L502.6915,67.1463 L489.2937,67.1523 L489.5546,66.2425 C492.1269,65.4468,496.0701,63.6282,495.9025,62.4998 L510.6032,44.8864 L504.4528,29.0338 C503.5376,27.77,502.5841,27.1694,500.1651,26.9776 L500.3916,26.018 L501.4526,25.2702\" fill=\"rgb(40,40,40)\"/>\n<path d=\"M542.9826,26.4414 L567.2141,26.4927 L565.8868,33.0081 L548.7058,33.0055 L545.9025,44.5608 L561.4821,44.5631 L560.167,50.7835 L542.7781,50.6473 L539.7301,62.9035 L558.5331,62.3732 L557.073,68.5422 L529.8769,68.4628 L538.807,27.3479\" fill=\"rgb(40,40,40)\"/>\n<path d=\"M584.7368,25.6877 L602.7266,25.7185 L601.4292,31.1691 L585.8928,31.1704 L583.0821,39.8861 L595.2807,43.2182 L597.8999,50.2705 L592.8935,62.6076 L579.6404,66.6181 L570.0487,65.5307 L572.4243,58.5274 L579.6229,59.0819 L586.357,58.1637 L590.3565,53.9081 L591.2402,47.1969 L582.7705,40.1625 L579.943,31.0355 L584.7411,24.4445\" fill=\"rgb(40,40,40)\"/>\n</svg>"
          },
          "metadata": {
            "tags": []
          }
        }
      ]
    },
    {
      "cell_type": "markdown",
      "metadata": {
        "id": "tZvrgPN91gac"
      },
      "source": [
        "For some of the code below, it'll be helpful to typeset text into a larger `Path` object, instead of placing it on the page directly. (This will make it easier to move the typeset text around on the page.) The following function has largely the same logic as the code above, but returns a composite `Path` with all of the characters in the given string at their correct positions:"
      ]
    },
    {
      "cell_type": "code",
      "metadata": {
        "id": "4e-TGfba12oE"
      },
      "source": [
        "from itertools import chain\n",
        "def combine_path(alpha, s, kern=0):\n",
        "    text_paths = []\n",
        "    cx = 0\n",
        "    for ch in s:\n",
        "        if ch == ' ':\n",
        "            advance = 5\n",
        "        else:\n",
        "            glyph_path = alpha[c2i(ch)]\n",
        "            min_x, max_x = x_extent(glyph_path)\n",
        "            advance = max_x - min_x\n",
        "            glyph_path = glyph_path.translate(-min_x + cx, 0)\n",
        "            text_paths.append(glyph_path)\n",
        "        cx += advance + kern\n",
        "    combined = Path(list(chain(*text_paths)))\n",
        "    return combined"
      ],
      "execution_count": null,
      "outputs": []
    },
    {
      "cell_type": "markdown",
      "metadata": {
        "id": "rplWzh3X2Ydf"
      },
      "source": [
        "A quick demo to make sure it works. (Rotated so that you can see that rotation affects the entire string, not individual characters.)"
      ]
    },
    {
      "cell_type": "code",
      "metadata": {
        "id": "jl3vASZ92aG6",
        "colab": {
          "base_uri": "https://localhost:8080/",
          "height": 211
        },
        "outputId": "ed40d477-caaf-44a5-a71d-26e08a866597"
      },
      "source": [
        "string_path = combine_path(alpha, s)\n",
        "page = document(300, 50, 'mm').addpage()\n",
        "pen = shape().nostroke().fill(rgb(40, 40, 40))\n",
        "page.place(pen.path(string_path.rotate(-np.pi / 12)))\n",
        "show(page)"
      ],
      "execution_count": null,
      "outputs": [
        {
          "output_type": "display_data",
          "data": {
            "text/plain": [
              "<IPython.core.display.SVG object>"
            ],
            "image/svg+xml": "<svg height=\"141.7323pt\" version=\"1.1\" width=\"850.3937pt\" xmlns=\"http://www.w3.org/2000/svg\" xmlns:xlink=\"http://www.w3.org/1999/xlink\">\n<title>Untitled</title>\n<path d=\"M20.8989,21.6142 L25.9356,23.0005 L11.0218,50.7322 L16.7534,52.258 L14.6184,56.2953 L9.128,54.8273 L3.944,63.7619 C3.0554,64.6806,2.6349,66.1992,2.3353,67.082 C1.8807,67.9032,2.6011,69.2015,4.5394,70.0293 L4.0956,71.0983 L-9.9551,67.336 L-9.3065,66.3627 C-6.5131,66.5962,-5.1919,66.1476,-3.5407,64.2555 C-2.7793,62.8755,-1.6569,61.5514,-0.4519,59.7842 L3.1287,54.3205 L-13.3716,49.9034 L-12.1832,47.6588 L10.9254,19.7406 L16.1073,19.8766 M11.1384,24.7631 L-10.1309,44.7381 L3.4542,48.381 L14.4261,26.9544 L12.9636,26.5187 M39.2613,26.8857 L63.1667,33.3651 L60.3944,37.7246 L42.7923,33.0046 L35.7497,45.8593 C38.5159,45.9988,39.3533,45.9697,43.1016,47.5643 C48.7088,49.8397,51.2511,56.5031,49.2415,61.708 C45.578,70.3542,34.9375,75.3641,23.6943,72.4951 C18.864,71.2167,15.0423,69.0912,14.4825,65.744 L18.6192,62.6474 C19.6259,65.7404,21.9778,67.5401,27.3052,68.8504 C34.167,70.6873,40.3127,67.0877,42.3466,60.4183 C44.1255,54.7064,41.1605,49.8684,35.4536,47.3775 C32.029,46.2295,28.6127,45.878,27.0967,46.9065 L35.0348,23.8871 M79.148,37.1402 L92.0725,40.6407 L89.0829,46.8339 L74.7691,42.9934 C71.6742,42.1628,70.9949,41.9702,69.5437,45.7609 L63.5779,58.0707 C66.7721,55.7371,67.2325,56.0125,71.7314,56.823 L78.6313,58.611 C83.8813,60.016,82.9031,59.7459,83.8365,65.6427 C83.7556,68.4313,83.8834,68.5066,82.8605,71.2888 L77.8896,80.8554 C74.8645,86.6625,75.0252,86.1232,63.9933,86.6053 C61.1799,86.6674,61.2128,86.5135,58.4609,85.6463 C49.9366,82.8841,49.6807,82.7125,50.9408,78.9926 C51.0327,78.1224,51.2934,78.1751,52.4152,76.0741 L65.7215,49.4309 C69.477,43.0807,69.3915,41.5978,79.2673,42.3035 M75.3318,66.61 L67.8155,64.6016 C64.9523,63.8342,65.6989,64.0259,63.4894,67.064 L58.075,77.3175 C56.2837,81.1451,56.7957,80.6275,60.8318,81.8849 C63.8457,82.899,64.3202,83.0382,65.9458,83.2927 C70.3044,83.9417,70.8033,84.0428,72.7194,80.5506 L77.4429,72.2884 C79.6439,68.3895,79.1818,68.5827,75.1105,67.9537 M125.4332,49.4608 L145.4912,54.8865 L147.1589,57.2594 L126.968,93.4038 C124.7073,97.8669,124.6503,96.7446,121.0819,97.6489 C121.3368,98.8631,121.5766,99.1664,123.9613,99.9444 L126.2639,100.6649 L124.928,103.846 L114.2191,100.9835 L109.7611,96.4116 C103.6393,95.6898,102.5854,95.2146,99.2721,94.1579 C93.9467,92.3494,94.7261,92.4701,93.6815,89.9904 C92.8901,88.5969,92.8272,88.568,94.7471,85.4201 L112.4321,52.4422 C114.8925,48.5254,114.746,47.7611,122.1407,48.6365 M133.5056,56.4865 L121.6402,53.3129 C118.8438,52.5637,119.5618,52.7461,117.9248,53.6252 C116.5587,54.4345,116.5105,54.4078,115.4185,56.5896 L100.7094,84.1526 C99.3216,86.8606,99.7013,86.3942,100.2906,88.3915 C100.9649,90.1404,100.9714,90.1416,103.1936,90.7552 L109.0087,92.326 C111.0904,92.884,111.5481,92.9986,113.3613,91.8034 C115.2563,90.6751,115.2429,90.6793,116.2703,88.2316 L129.1387,60.2857 C130.0031,58.585,130.0821,58.4838,129.7135,57.75 C129.3882,57.0002,129.3019,56.9355,127.9247,56.5294 M147.3148,66.9177 L153.6307,68.6462 L139.7804,93.9367 C138.7051,95.3376,138.6641,95.8517,138.7434,95.9853 C138.5427,96.7067,140.0531,97.5295,139.8686,98.1892 C139.9337,99.0047,140.3424,99.5674,140.3373,99.3922 L142.9971,101.6375 C144.26,102.3007,143.8533,102.1975,147.3252,102.7887 C149.8528,103.1268,149.9755,102.5853,153.5322,99.7716 L168.6429,71.298 L175.4254,73.1188 L155.5455,110.2573 C153.838,111.4896,152.9474,111.9634,148.1554,111.3484 C144.5475,110.7036,142.8806,110.3213,142.5371,110.0297 C139.6307,108.7531,136.2397,107.5108,139.8327,105.7808 C140.1258,105.0344,138.92,104.3177,138.308,104.1519 C136.2878,103.611,136.3388,97.7154,135.7397,101.5749 C135.6378,102.2976,135.7271,102.5226,135.5979,101.783 C135.0685,100.7392,135.3098,99.7105,135.8452,99.4829 L152.4986,68.6851 M192.0732,79.0959 L206.9424,83.1014 L191.2051,115.1833 L183.7321,113.1687 L185.4033,109.2299 C182.9179,111.2594,182.5209,110.6071,178.8874,110.8753 C175.6097,111.0103,175.5261,110.9909,172.5803,110.1898 C168.8984,109.2041,169.5996,109.383,168.0753,107.6632 C166.739,105.9742,166.6605,105.9239,167.4576,102.8549 C167.4637,101.8933,167.679,101.9965,168.4823,99.6383 C169.3497,97.3155,169.5796,97.3631,170.303,95.4716 C173.1252,88.726,172.5663,89.7489,175.697,87.9844 C178.7914,86.5201,178.7844,86.4976,182.8694,87.5671 C186.2956,88.4857,185.3785,88.2296,188.7761,89.6315 C191.7773,90.9256,191.7805,90.9247,193.6934,91.8899 L197.8053,83.5771 L186.8352,80.6406 L184.6821,79.7296 L187.2725,74.9573 M190.4866,94.8673 C187.1209,93.966,187.9982,94.1921,185.3028,94.3884 C182.7996,94.6415,182.7079,94.6066,180.8027,96.2573 C179.2377,97.5559,179.2621,97.7282,178.0573,100.3319 C176.9774,102.8092,177.3062,101.4328,176.7104,103.9942 C176.6843,105.6978,176.3293,105.9019,178.4907,106.5304 C181.0167,107.2798,180.7715,107.2019,183.6071,106.702 C186.3824,106.1899,186.3897,106.1732,188.5879,104.2912 C190.8332,102.4519,190.6819,102.3821,191.9449,99.997 C192.6901,99.1927,192.7075,99.1919,193.2179,97.0354 C193.0322,95.3715,192.7895,95.6397,189.7256,94.9574 M237.5628,90.5759 C238.8788,90.9341,239.0249,90.9709,238.5938,95.5782 L231.7659,96.028 C231.9434,91.8685,231.7262,92.5029,227.3969,91.3576 C223.091,90.2049,222.1041,89.933,218.2059,93.9919 C215.6069,97.0493,215.6441,97.1261,207.3352,115.4131 C205.5917,119.5825,205.7662,118.2315,204.4539,119.7837 C202.6779,121.0915,202.7104,121.2008,200.028,120.5211 C197.9374,119.9604,197.6426,119.8718,197.1229,119.7481 C197.0301,119.7231,197.0726,119.7301,205.2721,97.9854 C208.4987,92.2224,208.2628,91.6654,210.6262,84.5123 L217.2352,86.2838 C216.4509,88.5742,216.2356,89.2471,215.7772,90.0938 C218.335,87.4171,218.7623,87.8642,221.1475,87.7312 C224.7598,87.8671,224.1329,87.6837,227.3309,88.8472 C229.9605,89.5335,230.2521,89.8158,231.928,90.2792 C233.6297,90.7437,233.1962,90.6204,235.0279,90.4805 M245.6784,86.1688 L268.2299,92.258 L265.0429,97.6947 L255.4571,95.1155 L237.9236,130.5201 L230.6172,130.7914 L248.3468,95.8626 L239.1941,93.3376 L241.7513,88.4499 M279.908,101.9124 L303.067,108.1892 L300.6344,112.617 L270.1281,133.0932 L286.1853,137.3941 L283.1671,143.1011 L256.5187,135.9647 L258.7655,132.1822 L292.3507,110.1194 L276.3717,105.8041 L278.6533,100.8982 M302.9969,108.4508 L316.1981,112.0601 L314.9563,113.6269 C312.2225,112.8936,312.7638,113.6536,310.8576,113.3043 C310.5538,113.6632,308.6266,121.0919,308.2732,134.284 C311.8866,131.8225,318.1954,130.6784,326.3673,118.0532 C325.3145,117.5209,323.826,116.9562,322.3544,116.3592 L323.275,114.7393 C325.87,115.647,327.5545,116.1235,331.8775,117.1868 C335.1407,118.0352,336.1151,118.1182,339.2969,118.7709 L338.5281,120.1605 C335.9301,121.8155,335.2129,120.588,335.0089,120.1162 C329.8766,125.6886,321.6325,129.8189,312.5188,148.4598 C307.1396,156.5938,300.4922,160.3301,294.8602,156.5508 C292.276,155.2427,292.0138,152.845,292.5328,150.6174 C292.904,149.3863,295.9194,148.6933,296.7697,148.5856 C297.7313,149.055,297.8598,151.6975,298.5003,151.7983 C300.2131,151.9919,303.9869,150.2715,306.0897,151.1347 C309.4216,145.8214,312.562,141.1483,316.8348,131.921 C317.5662,123.6516,314.0269,117.5707,313.4314,109.3589 C312.2175,108.8479,310.4395,108.2257,309.487,107.9127 L310.408,106.3677 L311.8326,105.793 M365.2337,113.3486 L397.6827,122.1275 L394.1657,128.5283 C391.2705,126.6194,390.076,125.8411,375.3027,123.4699 L367.5146,136.9539 L379.7349,140.223 L378.5192,143.1415 C374.9927,142.2108,369.282,140.5141,363.9373,139.0425 L354.022,158.7243 C353.2958,160.6869,353.4033,161.7005,355.6002,163.536 L342.7246,160.7397 C345.4582,159.9585,346.896,158.7889,348.1191,156.1118 L364.2886,120.3057 C365.4933,117.6532,365.0991,115.9214,362.1041,114.5426 M411.7253,137.098 L427.493,141.3553 L427.1707,142.9316 L413.1644,168.1691 C410.8767,171.2209,410.0578,171.6987,408.2205,172.5598 C405.9574,173.436,405.4345,173.633,402.0305,172.7355 L390.2412,169.5795 C387.2917,168.7897,386.3546,167.9111,385.9626,165.8677 C385.6518,164.2275,386.3365,162.3901,388.0462,160.6488 L402.0905,136.7788 C403.1837,135.2537,404.585,134.4385,404.8385,134.8919 M412.6057,138.1381 L406.6588,136.5465 L391.4077,168.4548 C390.8647,170.1275,391.1799,171.0123,393.7879,172.2971 L399.2499,173.9161 L405.1052,172.0696 L420.2133,144.1212 C420.7898,142.4094,420.1917,141.0702,416.5555,139.8915 M435.9499,143.8102 L449.1732,147.4171 L447.5878,149.7635 C444.9873,149.0618,445.4216,149.8331,443.67,149.4161 L443.5314,160.1776 L452.2099,152.6036 C451.5083,152.0734,450.7479,151.6552,448.8722,150.9968 L449.7808,149.3725 L463.5205,153.1214 L462.7711,154.4102 C460.3909,154.2404,459.1137,154.5706,457.8245,156.5854 L445.2842,167.6313 L447.5877,185.6538 C448.0129,187.9748,448.9812,189.0386,450.369,190.0773 L449.645,191.1185 L435.9381,187.2748 L436.4571,186.3806 C438.4728,186.4218,439.6106,186.1619,440.8308,185.0919 L440.976,172.1526 L428.7005,180.5089 C427.7058,181.7473,428.0448,182.5795,430.5783,183.7122 L429.8512,184.6932 L416.9083,181.2314 L417.3958,180.4201 C420.0864,180.3174,424.366,179.5813,424.4961,178.4479 L443.2546,165.2395 L441.4167,148.3352 C440.8598,146.8776,440.0942,146.0507,437.8072,145.2393 L438.2744,144.3711 L439.4928,143.9233 M476.5665,155.0697 L499.9591,161.3909 L496.9907,167.3408 L480.3958,162.8915 L474.6973,173.3275 L489.7454,177.362 L486.8652,183.03 L470.104,178.398 L463.9878,189.4477 L482.2873,193.802 L479.2804,199.3829 L453.0314,192.2673 L472.2986,154.8646 M514.355,164.4149 L531.7238,169.1007 L529.0599,174.0297 L514.0526,170.0099 L509.0819,177.7012 L520.0024,184.077 L520.7071,191.5669 L512.6782,202.1879 L498.8387,202.6315 L489.8553,199.0987 L493.9625,192.9489 L500.7723,195.3476 L507.5146,196.2036 L512.4792,193.1282 L515.0698,186.8744 L508.7093,177.8875 L508.3405,168.3397 L514.6809,163.2151\" fill=\"rgb(40,40,40)\"/>\n</svg>"
          },
          "metadata": {
            "tags": []
          }
        }
      ]
    },
    {
      "cell_type": "markdown",
      "metadata": {
        "id": "lfuHyvcK5QaU"
      },
      "source": [
        "## Interpolating between alphabets\n",
        "\n",
        "Generative models have an interesting property, which is that outputs generated from similar latent variables produce similar outputs. With the SVG-VAE, this property makes it possible to generate two different alphabets and then *interpolate* between them by generating alphabets from points along the line that connects the original two values.\n",
        "\n",
        "It might be easier to reason about how interpolation works if we start with single values, instead of vectors. For example, the following bit of code uses numpy's `linspace()` function to generate a list of values that starts at `0` and goes to `100`, with seven stops along the way:"
      ]
    },
    {
      "cell_type": "code",
      "metadata": {
        "id": "rvXhLoitAb51",
        "colab": {
          "base_uri": "https://localhost:8080/",
          "height": 52
        },
        "outputId": "dddaf4c1-37de-44ef-b1c7-7eb9ca67cb52"
      },
      "source": [
        "np.linspace(0, 100, 7)"
      ],
      "execution_count": null,
      "outputs": [
        {
          "output_type": "execute_result",
          "data": {
            "text/plain": [
              "array([  0.        ,  16.66666667,  33.33333333,  50.        ,\n",
              "        66.66666667,  83.33333333, 100.        ])"
            ]
          },
          "metadata": {
            "tags": []
          },
          "execution_count": 47
        }
      ]
    },
    {
      "cell_type": "markdown",
      "metadata": {
        "id": "JtVbiwPOA1Z0"
      },
      "source": [
        "The function will also generate values along the line that connects two 2D points:"
      ]
    },
    {
      "cell_type": "code",
      "metadata": {
        "id": "mMn8kQpIA4HT",
        "colab": {
          "base_uri": "https://localhost:8080/",
          "height": 243
        },
        "outputId": "87abef98-967c-4ca0-9a14-8cbd08c3128a"
      },
      "source": [
        "np.linspace([0, 10], [30, 80], 13)"
      ],
      "execution_count": null,
      "outputs": [
        {
          "output_type": "execute_result",
          "data": {
            "text/plain": [
              "array([[ 0.        , 10.        ],\n",
              "       [ 2.5       , 15.83333333],\n",
              "       [ 5.        , 21.66666667],\n",
              "       [ 7.5       , 27.5       ],\n",
              "       [10.        , 33.33333333],\n",
              "       [12.5       , 39.16666667],\n",
              "       [15.        , 45.        ],\n",
              "       [17.5       , 50.83333333],\n",
              "       [20.        , 56.66666667],\n",
              "       [22.5       , 62.5       ],\n",
              "       [25.        , 68.33333333],\n",
              "       [27.5       , 74.16666667],\n",
              "       [30.        , 80.        ]])"
            ]
          },
          "metadata": {
            "tags": []
          },
          "execution_count": 48
        }
      ]
    },
    {
      "cell_type": "markdown",
      "metadata": {
        "id": "oMeabydcBLTf"
      },
      "source": [
        "You can use the same function to generate points along the line that connects vectors with a larger number of dimensions. In the cell below, I generate two random vectors, and then use `linspace()` to calculate values between them:"
      ]
    },
    {
      "cell_type": "code",
      "metadata": {
        "id": "9XjrrLdd5v26"
      },
      "source": [
        "start = np.random.randn(32)\n",
        "stop = np.random.randn(32)\n",
        "latents = np.linspace(start, stop, 8)"
      ],
      "execution_count": null,
      "outputs": []
    },
    {
      "cell_type": "markdown",
      "metadata": {
        "id": "KIoF5i6IBfyU"
      },
      "source": [
        "The code in the cell below generates alphabets from each of these values. It takes a while to run! You'll notice that—while the first and last samples are very different—each line is similar in the style to the one that follows it. Seen together, it seems as though the first sample is \"smoothly transitioning\" to the final sample."
      ]
    },
    {
      "cell_type": "code",
      "metadata": {
        "id": "NLWxm1uU6WYT",
        "colab": {
          "base_uri": "https://localhost:8080/",
          "height": 644
        },
        "outputId": "a8a161c5-b00e-4f05-cb83-5b321ace83b3"
      },
      "source": [
        "page = document(240, 160, 'mm').addpage()\n",
        "pen = shape().nostroke().fill(rgb(40, 40, 40))\n",
        "cy = 0\n",
        "for i, vec in enumerate(latents):\n",
        "    print(i, end=\" \") # print progress, since this takes a while\n",
        "    alpha = generate_alphabet(vec)\n",
        "    string_path = combine_path(alpha, \"abcdefghijklmnopqrstuvwxyz\", kern=2)\n",
        "    page.place(pen.path(string_path.scale(0.8).translate(0, cy)))\n",
        "    cy += 19 # just eyeballed this value, adjust to taste\n",
        "show(page)"
      ],
      "execution_count": null,
      "outputs": [
        {
          "output_type": "stream",
          "text": [
            "0 1 2 3 4 5 6 7 "
          ],
          "name": "stdout"
        },
        {
          "output_type": "display_data",
          "data": {
            "text/plain": [
              "<IPython.core.display.SVG object>"
            ],
            "image/svg+xml": "<svg height=\"453.5433pt\" version=\"1.1\" width=\"680.315pt\" xmlns=\"http://www.w3.org/2000/svg\" xmlns:xlink=\"http://www.w3.org/1999/xlink\">\n<title>Untitled</title>\n<path d=\"M13.3721,29.2767 C16.4817,29.281,19.0262,29.2792,22.8176,30.8482 C23.8356,31.2837,27.1422,32.9436,26.3177,37.0495 L26.2656,48.4884 C26.5455,50.0456,26.8014,50.5014,24.7252,50.977 C23.0422,51.2546,22.0254,50.9946,21.9058,50.9446 C20.6725,50.6659,20.4331,49.8045,20.8256,48.4706 C19.5285,49.8719,16.1247,50.0051,12.5208,50.1898 C6.116,50.4859,0.7462,47.5018,0,41.5316 C-0.735,35.9946,4.5447,32.0073,12.1357,31.0469 M16.2039,33.8015 C10.8045,34.0811,7.2678,36.4729,7.1116,39.3113 C6.5833,43.2616,9.0788,46.2771,16.4123,46.672 C21.2168,47.0413,25.3493,44.6029,25.4884,40.8331 C25.5693,36.9512,21.5061,34.0178,16.6182,33.8112 M34.1054,24.2705 L43.8409,24.3236 C50.4069,24.3164,49.1895,24.3245,53.6437,25.7925 C58.9234,27.7034,59.1632,27.3285,59.4621,31.8044 C59.535,35.1107,59.6795,34.7849,57.0016,37.3978 C59.1831,38.1842,59.3907,38.1866,60.8573,41.9009 C61.9978,44.7559,62.0807,44.7392,61.8761,46.6694 C61.2708,50.4944,61.3186,50.0194,57.7104,52.6205 C54.3656,54.9033,54.1716,54.9467,48.6016,55.0675 L30.8632,55.091 L30.8531,23.4988 M43.7703,26.8771 L35.3403,26.8804 L35.3264,36.2594 L43.0611,36.262 C47.5608,36.2619,46.5563,36.2551,50.0963,35.3738 C53.9281,34.2425,54.1031,34.2082,54.6664,31.965 C55.0925,29.7351,55.0112,29.2003,52.5155,28.2094 C49.9455,27.1963,50.1036,27.1887,44.9531,27.2441 M45.2127,39.6175 L35.7933,39.6229 L34.7074,50.5772 L43.3925,50.5812 C48.9134,50.5815,47.7399,50.5738,52.0858,49.6497 C56.6768,48.406,56.835,48.3768,57.3142,45.7565 C57.4243,43.1114,57.6417,43.3263,54.5805,41.3061 C51.6664,39.3334,51.3792,39.3349,45.6233,39.2662 M83.0439,28.9169 C87.3859,28.921,87.8885,28.9192,91.5788,29.9487 C95.8105,30.2902,96.0877,30.2623,96.3653,32.9181 C96.4101,33.8021,96.3919,33.9111,91.478,34.1985 C88.533,33.0614,88.4769,33.6756,86.9368,34.0805 C86.1821,31.4554,86.0942,32.2283,84.4694,32.0031 C83.1099,31.8054,83.0624,31.8698,80.4389,31.8733 C76.0333,31.874,76.8579,31.8669,72.762,32.9996 C68.1316,34.5714,68.2151,34.3117,67.7435,37.2434 C67.8357,37.8489,67.621,37.868,71.4131,41.262 C75.4584,44.3975,75.6043,44.4007,80.99,45.395 C85.3699,46.083,85.4459,46.0937,89.0645,46.0152 C92.5857,45.9685,92.8081,45.9503,94.6387,45.3509 C95.5932,46.1619,95.637,45.6775,95.9501,46.8151 C96.2428,47.7858,96.2251,47.7926,91.0121,48.3242 C87.4522,48.7777,86.9309,48.7721,83.1294,48.7916 C77.2608,48.7913,77.1287,48.7846,73.0272,47.2181 C67.0932,45.2707,67.4025,45.2493,66.5209,40.6865 C66.5106,39.7018,66.3836,39.7802,66.4115,35.3801 C66.2332,31.3445,66.4428,31.576,71.2486,29.5542 C75.6724,27.8863,75.7885,27.8987,82.527,27.8444 M101.3508,26.2085 L119.5868,26.264 C125.2129,26.2608,124.0348,26.2666,127.4514,28.2528 C131.1534,30.6638,130.7772,30.4225,131.0161,35.3796 C131.0495,40.5772,131.1495,40.06,130.9738,44.0809 C130.7549,49.2956,130.7427,48.8848,127.946,51.5055 C125.1367,53.9528,125.1164,53.9769,119.3137,53.9368 L100.9072,53.9389 L100.9008,24.5057 M115.9728,28.0826 L105.08,28.086 L105.0634,48.1712 L113.9251,48.1742 C118.9347,48.1722,117.9963,48.1609,121.5425,46.9776 C125.0046,45.8108,125.1626,45.7954,126.1492,42.7689 C126.6943,40.3017,126.9703,40.3447,126.8477,37.2139 C126.5094,33.6765,126.742,33.6301,124.6742,31.5296 C122.585,29.128,122.5007,29.0838,117.1979,29.0482 M148.6104,28.9367 C153.7959,28.9406,154.0768,28.9391,158.0944,30.6305 C163.4135,32.8765,163.5552,32.5254,163.3079,37.031 L138.3008,37.1062 C138.492,41.4256,138.9014,42.5255,138.9285,42.8929 C140.0512,47.071,139.6374,46.4915,143.9176,47.9172 C147.0037,48.7466,147.1368,48.7569,151.5959,48.8389 C156.6163,48.903,156.2653,48.8945,159.5761,48.8633 C163.224,48.8637,162.7777,48.8551,165.3002,48.3028 L165.9009,50.4739 C162.8268,51.431,161.8632,51.5914,160.1732,51.7844 C158.1786,52.3111,157.0848,52.312,152.4416,52.2935 C146.014,52.2932,145.848,52.2864,141.6455,50.402 C135.8882,47.8093,136.1591,47.8554,135.643,42.7541 C135.2692,41.4658,135.5291,41.5516,135.5515,37.8437 C135.3648,33.2304,135.5772,33.3921,139.9674,31.1153 C143.8345,29.1671,143.991,29.1433,150.8193,29.1173 M150.6686,31.8049 C146.2902,31.8056,147.1538,31.7972,143.191,33.2221 C140.4388,34.4136,140.4285,34.4238,139.8069,36.0343 L161.5242,36.039 C160.96,32.5213,160.6356,33.1801,159.0822,32.0583 C156.6005,30.6986,156.8071,30.6523,151.3298,30.5304 M180.1096,24.4428 C182.3341,24.4471,184.0715,24.4451,191.5503,25.3259 L191.461,29.9331 C189.0701,29.2732,185.5801,28.8901,182.9439,29.3691 C180.9091,29.9142,179.8312,33.467,179.7753,34.2424 C180.7425,34.6947,185.1315,36.4419,185.9276,36.5552 C187.2992,37.6214,187.5173,38.0943,189.034,38.3601 C189.3038,39.6937,188.2049,40.3953,186.9699,40.2978 C184.8422,40.13,182.53,39.8773,182.9074,40.1413 C183.0571,42.9216,183.1248,45.7465,182.9735,51.1428 C181.8603,53.9448,178.2314,57.0102,174.3134,56.049 C171.9278,55.1515,170.9165,48.8751,171.3944,49.8399 C171.9811,48.1856,172.3773,45.9308,173.6662,47.6916 C174.4631,48.1121,174.4789,45.6863,174.601,47.0987 C175.0425,47.852,174.7198,46.4745,174.2994,47.5865 C173.9413,48.3487,174.7592,48.8086,174.0742,49.0702 C173.8047,49.5072,174.918,49.3638,173.4677,48.9019 C172.8819,48.3871,173.512,46.2269,172.6126,47.1605 C172.1323,48.1864,172.0767,48.5886,172.1512,49.1507 C172.6696,50.4651,174.7693,50.6528,175.3195,50.1843 C176.255,49.4239,176.4884,47.3691,176.8351,45.6522 C177.1251,44.01,176.0058,40.1766,176.7236,40.4385 C176.6193,39.9328,175.3458,39.3859,174.3813,40.1099 C173.346,40.6378,172.7198,40.0948,172.8657,39.5009 C173.4114,38.6696,174.6147,37.6388,175.4342,37.0012 C175.8564,36.3429,175.5019,35.3957,176.4488,34.7213 C176.3867,33.9833,175.7429,31.5431,174.7428,32.5234 C173.6267,33.127,172.7187,32.7185,172.9848,33.325 C172.9677,33.8051,172.3291,33.6636,171.9172,33.7046 C170.6108,33.808,170.1427,33.0716,170.4364,31.65 C171.0326,30.122,173.8192,27.1905,177.4712,27.6059 M211.9926,29.0809 C215.1714,29.0852,217.7001,29.0835,217.8196,30.517 L219.8803,28.6992 L225.8388,28.6834 L223.5224,51.1447 C222.5629,57.2091,216.503,62.8396,208.5826,61.8259 C203.427,61.4248,198.7525,58.3152,197.2653,56.3636 L199.6884,53.5766 C201.5802,56.4895,205.6021,57.5638,210.4612,57.3212 C216.0237,56.8668,219.9902,52.757,220.0125,48.5817 L219.9853,44.2405 C217.4966,47.3573,213.1483,48.6789,207.7996,49.1168 C200.9385,49.4834,195.8654,44.4409,196.0858,38.0362 C196.6561,31.572,203.0661,27.1301,211.295,26.7154 M213.0062,29.5997 C206.2406,29.6211,202.2488,34.0481,203.2729,37.4403 C204.3616,41.7433,209.3116,44.0812,214.3419,43.9419 C219.8509,43.682,223.9598,40.0178,224.5216,35.9341 C225.1691,31.589,219.8471,28.9076,214.1393,29.0155 M232.0448,25.0398 L236.383,25.752 L235.948,35.314 L253.2795,35.3159 L253.2684,24.8485 L258.692,24.6875 L259.4693,52.6721 L254.7155,52.7267 L254.6813,39.9798 L235.8349,39.9393 L234.9078,52.0369 L230.3742,52.0363 L231.3494,28.775 M273.1791,27.4198 C274.8853,27.4244,275.0795,27.4226,280.4647,28.3813 C281.9597,28.6152,282.0779,28.5932,284.2842,29.886 C284.0799,32.8817,283.7862,31.5627,281.7061,34.7332 C279.6189,37.3658,279.7402,37.3051,278.6011,39.4902 C277.893,41.8156,278.0296,42.1727,277.1536,44.8506 C276.3501,47.7567,276.3076,47.8108,275.8037,49.7493 C275.0129,50.403,274.9492,50.2845,274.0789,50.6133 C273.2114,50.9187,273.1671,50.9102,272.2257,50.932 C270.9425,50.9321,271.3353,50.9254,270.4385,50.6059 C269.6768,50.2954,269.6261,50.2903,269.0585,49.7582 C268.4545,46.934,268.3556,47.7306,268.2771,45.7524 C268.1843,43.9293,268.1318,43.9219,268.1763,42.066 C267.999,40.2123,268.1841,40.1174,268.4138,36.923 C268.6815,33.7155,268.6733,33.7056,268.7203,31.7825 C268.4254,30.5124,268.2323,30.8968,267.0756,30.2421 C265.922,29.686,265.8591,29.6728,264.94,29.2593 C264.8308,28.2859,264.8759,28.4909,264.2368,27.7945 C264.8182,27.1481,264.9923,27.0237,264.0047,26.7513 C264.6161,26.2707,264.7811,26.215,266.5716,26.1867 C268.4682,26.1669,268.2791,26.156,269.6708,26.132 M298.3994,27.3918 L306.8249,28.3108 L307.085,50.3733 L297.0876,56.6426 L288.8196,53.3645 L292.4652,48.1544 L297.3446,50.9214 L300.0579,34.6125 L293.5716,32.6443 L295.372,27.7237 M314.2019,24.7849 L318.6874,24.8569 L318.518,35.4128 L335.1124,26.301 L343.0155,26.2982 L330.1388,36.2182 C333.5215,39.9189,334.577,42.2152,340.4253,50.1121 L339.7936,54.1983 C336.6844,49.5887,332.0928,46.3761,328.659,41.4615 L316.3873,45.2513 L316.3679,55.7562 L311.6205,55.8298 C311.8706,48.2878,311.9374,42.7989,311.7048,32.9046 M353.0374,25.6009 C354.6212,25.6055,354.8267,25.6036,359.7357,26.6877 C363.9021,27.0329,362.7755,27.5999,364.9051,28.7198 C364.8798,32.2276,364.5769,30.783,363.166,34.5128 C361.7856,37.9948,361.7199,38.0418,361.2112,40.5167 C360.9173,44.2135,360.7324,43.574,360.8095,46.2897 C360.9106,49.0591,360.9589,48.934,361.7403,51.2212 C361.2632,52.1592,361.2378,52.0628,358.7038,52.3202 C356.2836,52.5356,356.2196,52.5327,354.7112,52.5184 C352.7897,52.5181,353.2811,52.5113,352.0224,52.1501 C350.8851,51.8026,350.831,51.7945,349.7026,50.8325 C348.7891,47.3716,348.6935,48.4629,348.1923,45.9478 C347.6996,43.6219,347.6265,43.61,347.5509,41.1546 C347.4033,36.6504,347.5357,37.6636,347.6553,35.8363 C347.7936,34.0819,347.9031,34.0699,348.4707,31.7557 C348.592,31.1909,348.4835,30.0015,349.1743,29.639 C349.836,29.1402,349.8351,29.1276,350.913,29.0697 M384.6898,29.6531 C387.3978,29.6573,389.2601,29.6557,391.579,31.2717 C394.3231,29.4667,396.1777,28.3289,398.1042,28.7102 C402.3327,29.3126,406.2562,32.466,405.6051,37.0051 L405.5584,49.3589 L401.2041,49.36 L401.8498,38.4597 C402.3264,34.9376,399.6699,32.5196,396.0704,32.0083 C392.5645,31.6912,390.2183,34.941,390.0104,36.4566 C389.6608,37.7106,389.7375,44.5045,389.8495,49.3999 L385.3487,49.5597 C385.4707,44.053,385.6454,40.3076,385.6027,36.6674 C385.2042,33.2674,384.233,31.3532,380.5517,31.1538 C376.7035,30.9032,374.3022,34.4448,374.1672,36.2926 C373.7191,41.4638,373.7962,45.245,374.0793,48.9055 L369.4405,49.0801 C369.628,42.4385,369.7946,37.3564,369.8921,30.4314 L374.4762,29.8507 L374.4,34.1189 C376.0791,31.7284,379.4449,30.3585,382.3488,29.7576 M425.1566,29.3596 C430.0509,29.3638,430.2209,29.3621,433.1462,31.2681 C436.5834,33.5331,436.2332,33.3813,436.4155,37.9868 L436.3874,50.1637 L431.6359,50.1641 L431.6308,38.8743 C431.3839,35.8152,431.6015,35.7241,429.6689,33.4934 C427.7427,31.4172,427.647,31.4001,424.1546,31.3488 C420.166,31.3477,420.564,31.34,417.9789,33.7797 C415.4833,36.1892,415.4002,36.1193,415.0096,40.186 L414.9829,50.8112 L410.1513,50.8117 L410.1405,29.9126 L414.5597,29.9133 L414.5448,34.3438 C416.4751,31.1342,417.1001,31.2742,419.3195,30.1329 C421.7898,29.0712,421.7828,29.0614,425.6547,29.0672 M457.5873,28.7713 C464.878,28.7754,463.9658,28.7738,468.4006,31.2138 C473.6383,34.2218,473.6574,34.1998,473.3672,39.5893 C473.1458,44.6169,472.9905,44.899,467.7972,48.1587 C463.1342,51.0651,463.0121,51.0511,456.7926,51.126 C450.3658,51.1343,450.3402,51.1285,446.0138,48.4694 C441.2981,45.4242,441.1814,45.4101,440.9509,40.2501 C440.6102,34.9326,440.9053,35.1139,445.0081,31.6662 C449.4482,28.4337,449.4232,28.4137,456.1516,28.3934 M456.0529,31.1562 C451.5279,31.1572,451.6476,31.1482,448.5574,33.5621 C445.5552,36.0547,445.4701,36.0698,445.4252,40.0532 C445.2227,43.9343,445.3932,44.0442,448.829,46.7005 C452.0832,49.2582,452.0741,49.2891,456.7712,49.3292 C461.3953,49.3292,461.6476,49.3211,464.896,46.7146 C468.1836,44.1684,468.1594,44.1672,468.174,40.171 C467.9681,36.2202,468.179,36.3054,464.5733,33.7511 C461.3388,31.2407,461.2185,31.2257,456.3836,31.2395 M495.7098,28.9985 C500.9824,29.0024,501.0206,29.0007,504.2154,31.3739 C507.7596,34.1188,507.6984,33.9974,507.8845,39.0368 C507.9131,43.6221,507.9614,43.9447,504.0164,47.1746 C500.1893,50.4083,500.0791,50.3478,494.2964,50.4346 C489.6986,50.4488,490.2087,50.4437,487.0936,49.4812 C484.1323,48.4839,484.0373,48.4644,481.9992,46.2882 L481.9856,59.7898 L477.9154,59.79 L477.9026,28.6132 L482.7595,28.6133 L482.6949,32.6149 C485.0649,29.9878,485.6638,30.0762,487.5906,28.7928 C489.9508,27.5947,490.4604,27.5762,494.4388,27.5808 M492.8303,30.8781 C488.5242,30.879,489.2701,30.8703,486.4061,32.466 C483.6805,34.0287,483.6027,34.0224,482.5321,37.0647 C482.0913,37.9744,482.1421,37.9979,482.9712,41.4749 C483.8925,44.6485,483.9974,45.0097,487.3718,46.3835 C490.3244,47.5758,490.4142,47.6183,494.3291,47.5281 C498.4124,47.4593,498.6682,47.4386,500.5887,45.414 C502.6697,43.4011,502.7812,43.3871,502.6197,39.8363 C502.2439,36.072,502.4738,36.1296,499.7039,33.8614 C497.0385,31.6792,496.9408,31.6588,492.6844,31.6749 M525.3093,29.1983 C528.6468,29.2027,531.5465,29.2009,535.491,31.0075 C536.2803,31.3513,538.7946,32.61,535.7714,29.5887 C535.358,29.0552,535.2808,28.6658,535.1118,28.8846 C535.4583,29.3033,535.745,29.4764,538.2602,29.5759 C539.46,29.7907,539.9486,29.8488,539.7124,30.1202 C538.9401,30.7858,538.4563,40.644,538.6974,35.9834 C538.651,38.8003,538.6191,43.1542,538.556,59.878 C538.7297,60.7398,539.4499,64.1985,540.068,63.0625 C540.8609,62.8269,541.2048,62.8604,541.3699,63.7206 C541.2503,64.3209,540.7683,64.5828,539.996,64.4806 C537.2184,64.171,533.4589,64.1244,532.1071,64.2343 C531.0516,64.2605,530.8975,64.0264,531.0812,63.6521 C531.6097,63.1586,532.2144,63.0084,533.1519,62.9361 C534.0236,62.7884,534.0032,61.9979,534.1361,60.4695 C534.0615,55.2541,534.2979,51.6803,534.1717,48.6625 C532.556,50.2382,528.5339,51.0125,524.6671,51.7904 C518.7495,53.0076,512.8752,48.4666,512.4199,41.2021 C511.7399,34.6169,517.7076,29.6537,525.1165,28.6307 M527.8025,30.9474 C521.1586,31.0981,517.71,35.8882,518.5999,40.7283 C519.0475,46.0562,523.8855,49.3844,529.3805,49.483 C534.0909,49.4829,538.2964,46.4729,538.3503,41.8345 C538.1389,35.1185,535.3731,32.1584,530.5269,32.3444 M547.3995,29.0837 L567.6697,29.1356 C571.1762,29.1334,570.3053,29.1371,572.319,30.2787 C574.2473,31.4653,574.2383,31.4561,574.3832,34.3043 C574.2917,36.7944,574.4505,36.424,571.1565,38.4714 C568.2978,40.2496,568.228,40.2578,564.8013,40.7061 L572.3319,51.3057 L566.4362,51.3076 L559.127,41.3478 L550.9319,41.3501 L550.9195,51.7583 L545.9218,51.76 L545.9053,30.7455 M561.1786,34.3402 L550.4659,34.3427 L550.4517,41.0044 L562.2307,41.0068 C565.374,41.007,564.668,41.0003,566.7762,40.0764 C568.7171,39.1381,568.7113,39.125,568.8652,37.2117 C568.7583,35.5738,568.9688,35.5031,567.1424,34.4585 C565.4437,33.4395,565.3684,33.4298,562.6942,33.4509 M595.8467,28.6808 C598.5622,28.6849,600.9381,28.6833,601.1741,29.5785 C601.3091,30.1028,602.205,30.5363,600.4678,31.8403 C599.0317,32.2958,597.3541,30.8939,596.6591,31.4111 C594.3585,31.8977,592.5334,33.5164,592.0658,34.2766 C591.5226,35.3391,595.8664,35.918,600.6124,37.5728 C606.1624,39.1638,609.257,41.4078,609.3121,45.6152 C609.3316,50.1111,603.2761,52.671,595.4547,52.9387 C589.5031,53.263,583.4229,51.6286,581.1762,50.1923 C580.2277,49.6083,581.3779,48.3577,581.1038,47.4839 C581.4011,46.6722,584.2717,46.3476,588.157,46.5024 C591.7998,47.1005,595.1601,48.0805,595.6149,47.8834 C598.0612,47.324,599.3511,45.9642,598.8475,44.092 C597.8785,42.0141,592.1572,40.7316,586.538,40.0137 C581.2961,39.2339,578.5385,37.8678,578.9186,34.2107 C579.8972,30.7369,585.0548,28.9848,591.2501,29.3987 M619.1497,28.0466 L637.0213,28.0915 L636.8612,34.3077 L630.1649,34.2978 L630.1518,50.4824 L620.9568,51.9458 L621.7939,34.3446 L613.8475,34.4056 L614.7425,27.6641 M646.2745,29.8682 L648.0755,30.5983 L648.0528,43.7483 C648.4424,46.6954,648.1686,45.9851,649.2685,48.093 C650.279,49.9574,650.2849,49.9533,651.9999,50.8837 C653.7784,51.8022,653.785,51.799,656.1639,51.8853 C658.4982,51.9647,658.5164,51.9598,660.4204,51.9146 C662.3865,51.8721,662.3994,51.8636,663.8276,51.7002 C665.2761,51.5322,665.27,51.5126,666.3306,51.1915 C667.3973,50.8587,667.4945,50.8542,668.1814,50.3619 C668.9164,49.8697,668.908,49.8674,669.2612,49.2724 L669.6757,33.8235 L672.2145,33.3396 L672.717,50.1776 C672.6801,51.8107,672.7956,52.1417,672.4232,53.2817 C672.0933,54.3886,672.0502,54.383,671.3388,55.2425 C670.6481,56.0794,670.6069,56.0698,669.5598,56.7012 C668.5177,57.3196,668.4661,57.3122,667.1234,57.7143 C665.2179,58.3045,664.8971,58.1034,663.3738,58.2513 C661.8092,58.3898,661.7463,58.3822,660.1238,58.411 C658.5007,58.4273,658.4525,58.4187,655.7858,58.1929 C653.0783,57.9673,653.0007,57.9528,650.462,57.4384 C647.9739,56.9118,647.8923,56.8951,645.9754,55.7699 C644.062,54.658,643.9741,54.6569,642.9106,52.8612 C641.9902,52.0146,642.4822,52.052,641.9391,49.5481 C641.5057,46.9667,641.4392,46.9564,641.5568,44.0979 L642.0253,35.1245 L644.8108,34.6474 M682.3317,29.4595 L688.8716,29.5172 L696.5396,43.9366 L704.3274,29.4994 L711.2265,29.4999 L697.4051,52.6818 L690.2769,52.6827 L677.2524,30.457 M720.7764,29.2665 L726.2574,29.3145 L731.8546,43.8446 L737.902,29.374 L742.9224,29.3735 L749.1314,45.63 L756.2353,30.8009 L761.7148,30.8002 L749.7249,53.7114 L744.8278,53.7144 L737.8687,38.5173 L730.5248,53.911 L725.9359,53.9158 L715.7619,32.711 L720.6472,32.304 M770.0129,29.0734 L778.0232,29.1212 L784.4456,37.2756 L792.3569,29.1748 L800.3027,29.1755 L788.4548,39.4272 L801.5376,51.6679 L793.3701,51.6713 L783.6358,42.9825 L774.4327,51.3539 L766.2502,51.3555 L780.7998,40.1063 L768.3479,28.9503 M806.7168,29.5816 L813.1501,29.6357 L819.6867,44.4994 L826.7341,29.3949 L834.6885,29.3947 L819.7481,59.2757 C817.0705,63.9292,813.6503,66.1002,809.4241,64.7437 C807.4329,63.9395,806.6924,63.2767,806.073,60.6857 L809.8759,58.5892 C810.8846,60.7099,812.2389,61.6132,815.8476,61.7077 C819.5326,61.7358,823.0408,57.1856,823.109,51.8823 L810.511,30.217 M839.2239,29.024 L865.8136,29.079 L866.4623,30.2461 L847.6262,48.4327 L866.2777,48.4308 L867.8332,49.966 L841.3332,52.0233 L839.758,51.0284 L862.5113,32.9163 L842.7776,32.8272 L840.2056,29.8083 L842.916,29.1034\" fill=\"rgb(40,40,40)\"/>\n<path d=\"M13.8294,82.4251 C16.8739,82.4293,19.4374,82.4276,23.1146,84.1776 C24.1216,85.8661,27.2181,86.79,26.2378,90.9186 L26.192,102.2034 C26.4847,103.696,26.7269,104.168,24.4942,104.5998 C22.8388,104.8462,21.8809,104.4257,21.9361,103.0493 L21.9327,101.028 C20.0929,102.9474,16.5072,103.3122,12.6605,103.6279 C6.3462,104.0259,0.9449,100.3384,0,94.1299 C-0.9784,88.1715,4.9658,84.0426,12.5871,83.0613 M15.8505,85.7934 C8.9764,86.0055,5.3357,89.5488,6.1771,93.2322 C7.167,97.663,11.4162,100.1985,17.2485,100.3 C22.0748,100.467,26.0023,97.6914,26.243,93.6876 C26.4489,89.3583,22.1145,85.9224,16.8755,86.1459 M37.2503,76.9825 L43.6875,77.0358 C47.8765,77.0352,52.4181,77.0342,51.9353,83.4419 C55.0887,84.8597,57.6532,86.1398,57.5992,90.1795 C57.6339,94.8144,56.0399,98.0731,52.0757,99.1834 C51.6904,99.9438,51.0036,101.8286,49.0285,102.7745 C46.567,103.6927,44.3741,104.6614,39.8272,104.0006 L30.7811,103.9804 L30.7784,77.0219 M40.7135,78.5488 L34.6288,78.5522 L34.6176,92.4584 C36.4616,92.6431,40.4629,92.1437,40.1302,92.8188 C40.6727,93.477,42.808,93.7455,44.9335,94.394 C48.5842,95.0668,51.9654,92.5034,51.409,91.9066 C51.285,89.8775,49.1269,86.7932,45.3337,85.319 C42.8297,84.3837,40.4504,83.9053,39.0945,83.8163 M38.7796,93.2633 L36.4905,103.3771 C37.1435,105.7086,41.6402,106.6946,47.0767,106.5851 C51.6757,106.2776,55.5322,103.6961,55.5169,100.5192 C55.281,97.0034,50.1033,94.6345,43.9392,94.2845 C41.5227,94.0909,39.9673,93.9552,38.3577,93.8384 M72.2261,82.0832 C76.4286,82.0872,76.9003,82.0854,80.4082,83.1812 C81.4683,83.5295,84.5417,83.4981,84.4897,86.1861 C84.4741,87.4079,84.4679,87.6485,82.7312,87.9509 C80.9722,88.1402,78.238,87.9079,79.845,87.259 C79.6407,85.7357,77.7803,84.9965,75.0554,85.2482 C70.0233,85.7463,65.8623,86.776,64.2194,89.3126 C62.551,91.4178,62.4072,93.2552,63.7846,96.5666 C65.8064,100.2041,69.383,101.3239,74.6438,101.438 C78.9089,101.4555,83.023,100.379,83.1596,99.0761 C83.8973,98.2551,84.2,97.6457,85.5449,98.0779 C86.9393,98.6615,87.1911,99.625,87.0024,100.9574 C86.0348,103.4977,81.6536,104.571,77.2838,104.7649 C69.8626,105.2408,63.1152,102.1318,62.1346,95.7418 C60.7958,89.907,66.5483,85.4689,74.132,84.1138 M93.5568,78.9706 L105.6589,79.0249 C112.7382,79.0265,111.3764,79.0271,115.8789,81.4608 C120.7287,84.456,121.0075,84.598,120.5998,90.2834 C119.9005,96.4684,119.9066,96.0648,114.9268,100.4722 C109.9387,104.8113,109.846,104.8639,102.3244,104.9816 L91.542,104.9975 L91.5379,75.3081 M102.1521,78.3437 L95.6833,78.3464 L95.6666,100.7327 L101.1223,100.734 C106.7099,100.7336,107.1558,100.727,111.6458,97.692 C116.2985,94.4599,116.4124,94.4352,116.1318,88.9449 C115.6852,84.0463,115.9314,84.1509,111.1837,81.0708 C107.3158,78.3777,107.1988,78.3628,101.4019,78.4204 M137.9172,82.0983 C142.9402,82.102,143.1627,82.1006,146.9341,83.9383 C151.9068,86.2858,152.0346,85.9562,151.8204,90.4699 L126.7469,90.5313 C126.9264,94.9896,127.3112,96.1692,127.3744,96.5897 C128.4941,100.8734,128.0815,100.2869,132.2479,101.8324 C135.3329,102.8202,135.4483,102.8345,139.7476,102.8933 C144.6136,102.9372,144.1721,102.9294,147.459,101.9163 C150.8455,100.8852,151.1924,100.8751,152.6229,98.6467 L153.9418,100.2458 C151.4522,103.2523,150.8892,102.7898,148.262,104.4356 C144.4815,106.4797,144.5363,106.5397,139.7855,106.5868 C133.8966,106.5879,133.7981,106.5828,130.0238,104.1521 C125.1231,101.1311,125.4501,101.3843,125.1352,95.9836 C124.8232,90.8035,125.0864,90.9252,129.3828,87.0397 C133.8012,83.3539,133.8841,83.3341,140.1296,83.342 M139.9617,85.4913 C136.2228,85.492,136.3052,85.4835,133.5099,87.5081 C130.7739,89.4616,130.7027,89.4768,130.3609,92.524 L151.1521,92.5252 C150.716,89.6898,151.1254,88.8336,148.6387,87.5069 C146.2017,85.9106,146.0852,85.9033,141.2269,86.0223 M172.4511,76.8902 C174.4655,76.8944,175.8782,76.8925,182.1665,77.8022 L182.1292,82.545 C179.9898,81.8539,177.005,81.5409,174.658,81.9057 C172.6256,82.3665,171.5882,85.9361,171.5298,86.718 C172.4444,87.1605,176.677,88.8637,177.4782,89.1008 C178.4889,90.4754,178.2929,91.1998,179.9116,91.6837 C179.914,93.0298,178.6166,93.749,177.3671,93.7661 C175.3515,93.7672,173.495,94.123,174.0189,93.3483 C174.1348,94.0903,173.9488,95.1346,173.6018,93.9993 C173.0242,95.4316,172.3026,96.5615,171.6384,95.7833 C171.2541,98.306,170.7755,99.8111,171.0855,103.8997 C170.3501,105.1826,167.3053,105.7577,164.5197,106.2784 C163.8535,102.4532,163.1944,98.1386,163.1993,90.1917 C162.6165,86.5253,161.5155,83.9407,161.1658,84.827 C160.6632,83.9247,160.9889,83.245,159.9409,83.6401 C159.6231,81.8974,160.6646,80.9537,158.9388,81.2512 C159.138,79.4124,161.6455,78.4288,158.4772,78.5708 C158.9468,77.2141,162.0622,76.6015,158.7621,76.289 C159.4381,75.0433,163.0787,74.6591,159.7374,74.9831 C159.8007,74.2919,162.3495,74.1555,159.8351,73.6569 C160.5865,73.1844,164.1678,72.658,161.0227,72.7282 C161.1038,72.3798,163.3696,72.5922,161.2829,72.1721 C161.6387,71.8587,164.4876,71.3261,162.0085,71.3124 C161.3168,71.3117,162.5125,71.593,161.2342,71.4251 C160.6753,71.1611,160.7227,70.67,160.7015,70.3674 C161.1666,70.035,162.3197,69.8082,168.0743,69.8917 M202.9024,82.2291 C206.0071,82.2335,208.5075,82.2318,208.5737,83.7738 L208.6273,82.1135 L214.7739,82.1052 L214.7625,106.4541 C214.5335,112.3958,208.5481,118.1872,200.8294,117.0197 C195.5095,116.527,190.3627,113.1233,189.0164,111.1516 L192.0142,108.4917 C193.6849,111.6689,196.1392,112.8983,202.2816,112.7454 C208.0136,112.3398,211.7886,108.2821,211.7258,103.7164 L211.6889,97.8615 C209.191,101.2959,204.6898,102.6915,199.1027,103.1607 C191.9738,103.5807,186.5645,98.2576,186.702,91.2472 C186.5114,84.5882,192.8258,80.0136,201.1023,79.5218 M202.859,82.3211 C195.8665,82.2214,192.0157,87.1287,193.189,90.7477 C194.5521,95.4338,199.5193,98.0379,204.8029,97.998 C210.5972,97.9135,214.918,94.3152,215.4004,89.7871 C215.7424,85.0101,210.2189,81.792,204.1702,81.9289 M222.0288,77.6421 C222.7108,77.6466,223.2188,77.6448,223.6929,78.3258 C224.208,78.9299,224.2587,79.613,224.2346,80.5213 L224.1887,87.4387 L238.6422,87.4375 L243.1684,81.1911 C243.2905,80.3356,243.774,79.7427,244.2083,79.3388 C244.6809,78.9079,245.1672,78.6996,245.9347,78.6986 C246.5845,78.6989,247.2936,79.0981,247.4009,79.507 C247.5276,79.9449,247.5572,80.5265,247.512,81.2025 L247.4926,104.9843 C247.3334,105.7373,247.1906,106.1933,246.8817,107.297 C246.5817,108.1769,246.1399,108.8337,245.5666,109.213 C245.0348,109.5531,244.6238,109.5565,243.9494,109.5881 C243.0902,109.5895,242.8619,109.3445,242.3612,108.8594 C241.9313,108.3854,241.7845,107.72,241.6931,106.9941 C241.6237,106.2712,241.6974,105.5906,241.5661,104.6299 L241.5735,93.7356 L225.3979,93.7397 L225.3877,105.1175 C225.2592,105.8641,225.3407,106.3263,224.8119,106.7045 C224.3729,107.0976,223.8749,107.1634,223.1762,107.2756 C222.52,107.3459,222.0235,107.1765,221.4213,106.9271 C220.8852,106.655,220.6007,106.2134,220.3769,105.5989 C219.9504,104.9131,220.0255,104.2686,219.9358,84.5669 C219.7142,83.7574,219.9876,83.2754,220.0765,82.7767 C220.1423,82.2703,220.3625,81.8568,220.7813,81.5352 C221.1652,81.1988,221.6088,81.0305,222.2714,81.0751 M262.797,80.323 C264.4232,80.3275,264.6,80.3257,269.3354,81.3169 C270.6562,81.5673,270.7256,81.5418,272.9298,82.9337 C272.5038,86.0136,272.2412,84.6951,270.1082,87.8158 C268.0487,90.8042,268.1365,90.2,267.0292,92.6505 C266.5183,95.1096,266.6734,95.1008,265.8118,97.7395 C265.0156,100.5306,264.979,100.3972,264.3823,102.4398 C263.7912,102.9828,263.7904,102.8304,262.832,103.1902 C261.8798,103.5356,261.8366,103.5275,260.8061,103.5408 C259.4743,103.5407,259.8532,103.5341,258.9714,103.1749 C258.2318,102.8338,258.183,102.8281,257.7177,102.239 C257.3494,99.0547,257.293,100.0295,257.4776,97.7741 C257.6929,95.7005,257.6859,95.6896,258.0077,93.6561 C258.342,91.6603,258.3341,91.6481,258.593,89.7973 C258.8602,87.9526,258.8441,87.9485,258.8574,86.3905 C258.4596,85.3822,258.2915,85.5338,256.715,85.1427 C255.1769,84.7752,255.11,84.7647,253.737,84.3981 C252.4261,84.0182,252.3741,84.0038,252.1796,83.4015 C251.9691,82.7808,251.9303,82.7759,252.0474,81.9836 C252.6517,80.9202,252.7524,81.0694,254.3833,80.7627 C256.1425,80.4376,256.1425,80.4291,258.198,80.4567 M286.7189,80.4034 L294.4279,81.3224 L294.6144,103.69 L285.0172,110.1509 L277.4652,106.7051 L281.1796,101.4987 L285.7174,104.0581 L287.8553,86.5708 L282.6151,84.8721 L284.6831,81.0803 M300.9571,77.4319 L304.7737,78.1248 L304.6055,88.8377 L319.6454,79.878 L326.6674,80.2185 L314.4633,89.7353 L329.8623,104.1196 L324.9263,106.9302 L308.8645,93.4123 L303.0883,105.0971 L299.6783,107.1786 L299.1498,85.5769 L301.8289,82.596 M335.0916,78.056 L344.8151,78.1047 L344.6531,104.0989 L334.3977,104.0916 L336.1753,77.2256 M364.0225,82.7816 C368.0253,82.7858,368.4418,82.7842,370.7255,84.4796 C373.5478,82.7178,373.9527,82.1297,376.2724,82.7637 C380.0448,83.2876,379.3321,83.142,381.8758,84.8483 C384.1929,86.4169,384.1876,86.4169,385.3892,89.32 C386.5058,91.9668,386.3252,91.9915,386.38,95.2399 C386.4133,98.2634,386.4621,98.347,386.3725,100.3819 C386.3031,102.4047,386.2815,102.4194,386.2846,103.8021 L383.0048,105.1078 C383.0139,103.4756,383.0346,103.2637,383.0608,101.1855 C383.0537,99.0661,383.075,99.0527,383.0563,97.4413 C383.0439,95.8268,383.0073,95.8243,382.7912,94.285 C382.5975,92.7575,382.5555,92.7436,382.0027,91.5185 C380.8951,90.3028,380.7643,88.8743,379.574,88.0164 C378.4216,87.007,378.3468,86.996,376.5298,86.9409 C374.493,86.9179,374.2134,86.9063,373.0004,87.7397 C371.7591,88.5703,371.7026,88.5618,371.1774,90.2298 C370.6687,91.8908,370.629,91.8902,370.7676,94.8652 C370.9128,97.9971,370.9137,97.8126,370.9524,101.0667 C371.0117,104.3247,371.0216,104.3951,370.9985,106.4062 L367.1748,106.3942 C367.3053,104.1381,367.2561,103.7562,367.3765,101.0886 C367.5089,98.5098,367.5016,98.5098,367.463,96.0377 C367.4294,93.6503,367.3777,93.6364,366.9107,91.6289 C366.472,89.6787,366.4023,89.6695,365.3835,88.4178 C364.4025,87.1771,364.3319,87.1726,362.7813,86.6997 C361.2667,86.2352,361.2023,86.2279,359.4131,86.3067 C357.6259,86.4178,357.5779,86.4103,356.1671,87.3499 C354.7933,88.2726,354.7416,88.2612,354.1017,89.9457 C353.8757,91.948,354.0056,92.3916,353.9419,94.9232 C353.8683,97.5148,353.837,97.5104,353.8522,100.305 C353.8694,102.9724,353.8622,102.9833,353.8877,105.5773 C353.9421,107.8901,353.9393,107.9062,354,109.3288 L349.8097,109.3258 C349.8507,106.8474,349.8593,106.2748,349.95,102.9696 C350.0416,99.6411,350.0328,99.6397,349.9902,96.3347 C349.9583,93.1069,349.9027,93.1026,349.7509,90.2289 C349.6119,87.3787,349.542,87.3704,349.3505,85.1592 L353.3371,84.884 C353.5823,86.5085,353.639,86.1664,353.5322,87.9198 C353.4432,89.491,353.4065,89.4927,353.2459,90.4657 C354.3222,88.638,354.5678,88.0686,355.6635,87.238 C356.911,86.346,356.907,86.3351,358.5152,86.0188 C360.1479,85.6777,360.1489,85.6641,361.8982,85.7309 M405.1937,82.4499 C410.1317,82.4539,410.272,82.4522,413.1273,84.4983 C416.1999,86.8646,416.1466,86.7394,416.268,91.4065 L416.2402,104.0871 L411.8977,104.0876 L411.8907,92.4278 C411.6535,89.2499,411.8665,89.1637,409.9397,86.8874 C408.0228,84.7684,407.9274,84.7557,404.4334,84.7012 C400.4578,84.7003,400.8225,84.6924,398.2973,87.1967 C395.8134,89.6092,395.7379,89.6059,395.3755,93.8351 L395.3537,104.764 L390.9265,104.7646 L390.9154,82.9668 L394.8593,82.9675 L394.8354,87.4358 C396.7712,84.2695,397.3221,84.4386,399.339,83.1403 C401.7073,81.8783,401.6969,81.8613,405.7193,81.8835 M436.2174,81.9018 C443.1587,81.9059,442.4355,81.9044,446.676,84.5394 C451.5476,87.7063,451.0318,87.6655,451.3372,93.1262 C451.366,98.1409,451.4335,98.4037,446.6703,101.6667 C442.2348,104.7519,442.1168,104.7275,435.8799,104.8207 C429.5869,104.8291,429.5725,104.8224,425.4386,101.9658 C421.0195,98.8235,420.8908,98.8208,420.8035,93.6233 C420.5378,88.2706,420.8025,88.4458,424.8656,85.1547 C429.1086,82.0668,429.0762,82.0526,435.3524,82.0436 M435.2632,84.6322 C430.7973,84.6331,430.9248,84.6241,427.9275,87.1212 C425.0183,89.6716,424.9337,89.689,424.9115,93.7404 C424.7471,97.7896,424.9175,97.8686,428.2906,100.5439 C431.4696,103.1404,431.4622,103.173,435.9886,103.198 C440.4785,103.1983,440.6814,103.1902,443.792,100.5856 C446.9606,98.0328,446.9348,98.034,446.9366,94.0015 C446.7211,90.0113,446.9352,90.1049,443.4356,87.4012 C440.2735,84.7507,440.1484,84.7384,435.4601,84.7597 M473.1696,82.0879 C478.423,82.0919,478.415,82.0902,481.5395,84.6386 C484.9265,87.4862,484.8724,87.3799,484.9976,92.4868 C485.019,97.2659,485.0439,97.5728,481.1577,100.9677 C477.376,104.333,477.2701,104.2744,471.486,104.3561 C466.9616,104.3643,467.4441,104.3582,464.4905,103.2806 C461.6958,102.1879,461.6081,102.1733,459.7841,99.7753 L459.7694,113.8041 L455.8835,113.8044 L455.8726,81.7277 L460.2941,81.728 L460.2405,85.8363 C462.4854,83.0814,463.1034,83.1701,464.9415,81.9306 C467.2181,80.7506,467.722,80.7323,471.5934,80.7362 M470.0951,83.9588 C466.4737,83.9596,466.4777,83.9511,463.6622,85.6776 C460.8808,87.3621,460.8015,87.3569,459.7541,90.5661 C459.4206,91.4726,459.4152,91.5032,461.7748,95.1745 C464.2042,98.7162,464.4977,98.7897,469.3953,99.9384 C472.9294,100.626,472.8781,100.6337,474.3668,99.6059 C476.1974,98.5508,476.4398,98.5311,477.0135,95.4622 C477.689,92.0386,477.6013,92.3768,475.9697,89.3903 C474.2373,86.0226,474.1606,86.0472,469.847,85.813 M505.4506,82.3247 C508.7146,82.329,511.6152,82.3273,515.41,84.3223 C516.2063,84.7383,516.7476,86.3372,515.7065,82.8893 C515.4617,82.0129,515.4665,81.3318,515.4706,81.8092 C516.0545,82.3626,516.4139,90.0085,518.2121,86.4823 C519.0013,86.1552,519.0958,92.7831,519.1357,86.2406 C519.048,87.0951,518.956,91.2081,518.7424,86.5373 C518.204,85.6596,517.0612,90.086,517.8472,85.4932 C518.1021,85.3374,517.1389,88.6064,516.6395,84.4919 C516.1442,83.5504,516.1865,82.412,516.2628,83.4233 C516.659,84.6189,516.5295,93.7408,515.9497,90.6588 C515.0329,90.1331,514.4215,95.2089,515.0391,92.2727 C515.3827,91.5598,514.7563,93.485,515.2849,91.5328 C515.5344,90.5992,514.6818,91.9247,515.3598,90.2619 C515.6596,89.2487,515.2604,88.9303,515.9801,89.1615 C516.7557,89.5268,516.7986,90.4535,516.3957,90.4506 C515.7472,90.4488,515.5474,90.4747,515.5595,91.6677 C515.3519,92.8426,515.5806,100.4609,515.5393,97.531 C515.2416,98.5931,514.9993,101.2353,515.4964,99.4737 C515.6701,98.8738,516.0081,100.3509,515.9658,99.2663 C515.6392,98.6263,514.9663,100.3516,515.724,98.6709 C515.8851,97.7496,516.2608,97.4296,516.5689,97.5472 C516.8188,97.8479,517.1776,98.4833,516.9953,98.6015 C516.5852,99.1098,516.1829,99.321,516.0478,99.4464 C515.6151,99.9936,515.2851,100.2677,515.4852,102.744 C515.4898,105.1748,515.7008,112.477,515.5281,110.8654 C514.9298,112.8481,514.6096,114.4678,515.2042,113.0764 C515.4032,112.4277,515.7761,112.5186,515.891,111.8275 C515.8362,111.0983,516.1,112.02,516.1399,111.3128 C515.9989,110.661,516.2378,110.7129,516.1923,110.2958 C515.8745,109.7561,516.1698,109.645,515.8721,109.8042 C515.3385,110.1267,514.6576,110.2634,514.6702,111.8438 C514.5104,113.0296,513.9804,117.9258,514.6282,116.1848 C514.8549,115.6664,515.2112,115.3402,515.1644,115.1191 C514.8149,114.7796,515.1148,114.7793,514.6211,115.5007 C513.983,116.494,513.7919,117.0181,512.7034,118.4265 C511.5363,119.7037,511.1036,120.6832,509.9256,120.1285 C508.1576,119.5417,508.6485,117.62,508.5311,114.9169 C508.219,112.8059,508.6014,111.4211,508.7668,110.9475 C508.3749,110.6135,505.3818,111.5156,501.9817,111.989 C495.6732,112.6836,489.9108,109.2262,489.533,101.0056 C488.7659,93.0765,493.9819,87.5686,501.8664,86.6748 M504.8172,89.0418 C498.3493,88.9566,495.4235,93.9078,496.1041,100.1076 C496.4566,106.926,500.8087,110.7016,505.2746,110.7339 C509.5291,110.777,513.1155,106.5538,513.3302,100.7391 C513.3237,95.25,510.8024,89.7209,506.3851,89.6341 M524.9625,82.2777 L543.4129,82.3289 C547.0867,82.327,546.2079,82.3306,548.2655,83.5101 C550.2188,84.7369,550.2101,84.7264,550.3458,87.6763 C550.2482,90.286,550.4075,89.9327,547.1261,92.0465 C544.2321,93.9483,544.1549,93.9634,540.6916,94.4234 L548.5384,105.1237 L543.2512,105.1266 L535.7648,94.897 L528.4648,94.8995 L528.4528,105.574 L523.6711,105.5751 L523.6896,84.3926 M537.1308,87.8114 L527.6634,87.8139 L526.8984,94.8851 L534.2746,94.8862 C537.9936,94.8862,537.2009,94.8791,540.0399,94.1724 C543.098,93.4101,543.2472,93.3921,543.3789,91.4365 C543.2779,89.7202,543.4951,89.6388,541.4719,88.5231 C539.6178,87.4773,539.5415,87.4642,536.685,87.489 M570.1173,81.8223 C572.7692,81.8263,575.0137,81.8247,575.2798,82.7508 C575.4061,83.2861,575.9962,83.7719,574.4865,85.0182 C573.1944,85.4407,571.6575,83.9637,571.2229,84.5428 C569.1021,85.0265,567.3122,86.667,566.6306,87.3942 C565.8231,88.5192,569.5973,89.1869,573.913,90.9941 C579.2442,92.6733,582.4046,94.805,582.6346,98.816 C583.0824,103.2514,577.377,105.7798,569.9814,106.2294 C564.5032,106.6784,558.5972,104.7485,556.4692,103.2667 C555.5453,102.6431,556.687,101.4002,556.4017,100.6626 C556.6437,99.8904,559.3134,99.5675,563.0105,99.7757 C566.3363,100.3978,569.4088,101.5185,569.834,101.3425 C572.3209,100.8406,573.8778,99.4821,573.6428,97.5699 C573.0227,95.4178,567.4124,93.9148,562.1498,93.5133 C557.2355,92.9359,554.3745,90.7285,554.8812,87.5985 C555.8764,84.2657,560.7016,82.3927,566.2926,82.6955 M602.8116,80.9102 L602.7863,87.3745 L607.4191,87.3471 L606.2991,92.6662 L602.0997,92.666 L601.8091,102.7632 C602.1458,104.72,602.3503,104.3583,604.6055,105.3339 L607.9328,106.2776 L602.8054,109.002 C599.9406,109.0012,596.6825,107.9257,595.1352,107.4994 C592.7087,106.6151,591.4787,105.7494,591.1045,102.8451 L590.9666,92.801 L587.17,92.8018 L588.4984,89.1477 L590.7091,83.2449 L602.2316,82.9384 M614.2561,83.0471 L615.8474,83.7925 L615.8235,97.2879 C616.1766,100.4097,615.9409,99.6924,617.0881,101.9552 C618.1529,103.9627,618.1576,103.9621,619.9847,104.9465 C621.864,105.9176,621.8701,105.9136,624.3425,105.9614 C626.6989,106.0035,626.7242,105.9977,628.3641,105.9402 C630.0352,105.8625,630.0378,105.8547,631.3883,105.6474 C632.7441,105.4345,632.7435,105.4266,633.8413,105.0019 C634.9465,104.5718,634.9445,104.566,635.7133,103.8668 C636.4934,103.15,636.4845,103.1471,636.8156,102.2133 C637.1334,101.2691,637.1938,101.2624,637.1878,98.1752 L637.0449,86.8349 L639.7297,86.3003 L639.7472,100.9565 C639.5522,103.8129,639.7139,103.2814,638.8905,105.9788 C638.1514,108.3363,638.103,108.3205,636.5898,110.2724 C635.0874,112.1357,635.0193,112.125,632.6508,113.2443 C630.2827,114.347,630.1995,114.3364,627.0421,114.3382 C624.3872,114.3387,624.3877,114.3316,622.1121,113.7194 C619.8735,113.1138,619.7817,113.1018,617.9344,111.8593 C616.1184,110.6174,616.0285,110.609,614.818,108.6785 C613.6399,106.7698,613.5604,106.7601,613.24,104.2262 L612.4682,89.8849 L615.3353,89.3131 M647.0773,82.6387 L652.7024,82.7007 L658.963,96.879 L665.8603,82.4043 L672.9754,82.4027 L661.558,104.8305 L655.0175,104.83 L644.2826,84.32 M682.318,82.4448 L687.2992,82.4961 L692.8582,97.672 L698.5592,82.4926 L703.2952,82.4935 L709.674,99.4135 L716.3206,83.7012 L721.4615,83.7007 L710.0878,108.0361 L705.6517,108.0388 L698.4229,91.7602 L691.402,107.8607 L687.3583,107.8648 L677.5108,85.5817 L681.8342,85.1868 M729.902,82.2661 L736.8206,82.3111 L743.8793,90.513 L752.075,81.9773 L758.8899,81.9773 L746.5795,92.8302 L759.7286,105.5174 L752.7385,105.5201 L742.6271,96.2611 L733.1429,105.1361 L725.9969,105.1376 L740.2925,93.5443 L728.0385,82.1325 M764.8859,82.7703 L770.2532,82.8339 L776.0991,97.7809 L783.0114,82.5606 L790.494,82.5596 L777.5955,111.7402 C775.6613,117.1326,772.4662,119.9571,767.8393,118.5606 C765.7218,117.9128,764.8237,116.2202,764.264,114.2504 L768.0834,112.1567 C769.0934,114.175,770.3835,115.1192,773.519,115.2267 C776.8495,115.2627,779.9089,110.8356,780.0755,105.8715 L767.8009,83.4626 M798.6028,82.2675 L824.6999,82.324 L825.3431,83.462 L805.7612,102.3459 L824.1698,102.3445 L826.0081,103.2616 L823.8436,106.0088 L795.3941,105.8903 L795.0294,104.5151 L818.7572,85.7032 L801.0443,85.691 L797.5879,86.0619 L797.1662,82.3926 L798.9023,81.744\" fill=\"rgb(40,40,40)\"/>\n<path d=\"M11.887,135.4924 C14.8507,135.4966,17.4057,135.4948,20.9352,137.3686 C21.9195,139.1902,24.7459,140.2749,23.7177,144.315 L23.6772,155.7731 C24.0124,157.3586,24.3358,157.8503,23.0329,158.1962 C21.6219,158.4623,20.7606,158.1269,20.8335,158.0039 C20.5566,157.5452,19.2932,155.1088,20.5935,154.2147 C18.9475,155.634,15.4557,155.9962,12.3139,156.0947 C6.3534,156.5193,1.034,153.4994,0,147.5745 C-0.9153,142.1061,3.9345,137.9504,10.834,136.7808 M13.9807,139.1195 C8.0261,139.6862,4.6873,142.9681,5.0351,147.0914 C5.7086,151.4541,9.4789,154.0572,15.4492,154.3297 C20.2343,154.6058,24.1684,151.8003,24.3664,147.7226 C24.6693,143.4493,20.51,139.9232,15.5041,139.6103 M32.577,129.3174 L34.113,130.0102 L34.0786,139.131 C36.3453,136.6633,37.0463,136.7426,40.1613,136.5575 C46.5023,136.4659,52.4091,140.3002,50.5396,136.4961 C51.3016,136.9691,53.4409,139.2602,53.8283,139.7673 C55.9017,143.8194,56.5408,147.6836,56.8034,149.3174 C57.0985,154.0032,52.7345,157.8612,46.7472,158.0126 C42.5177,158.3511,37.217,156.2166,34.8498,155.4144 L33.8186,157.3383 L33.3764,158.7587 L29.4815,158.7583 L28.9019,130.9534 L29.4334,128.7379 L30.7684,128.6346 L30.6656,129.5296 L30.198,130.6702 L30.1279,129.164 L32.0085,128.1375 M44.8857,139.1658 C38.7668,139.571,36.0608,141.9056,34.5954,146.4673 C33.872,150.8111,34.6376,152.7783,35.122,152.4503 C37.2336,153.9912,41.8744,154.4497,46.9262,154.496 C51.3176,154.7745,54.679,151.8292,54.1206,147.3525 C53.4543,143.6186,49.8568,140.6616,45.1843,140.2045 M77.4328,135.2002 C81.554,135.2042,81.9999,135.2025,85.3051,136.3687 C86.2906,136.7126,86.1124,136.6853,88.7984,140.1668 L84.8213,141.8113 C83.2085,138.6551,82.9997,139.2897,81.8167,138.5219 C79.8179,137.1882,80.0218,137.1368,76.0594,136.9537 C72.4205,136.9185,72.4332,136.9132,70.0322,138.2132 C67.5158,139.9181,67.0779,139.518,66.0938,142.5677 C65.3058,144.0177,65.6792,143.9996,65.4264,146.6058 C65.2392,147.6169,65.2201,147.6386,65.3845,150.3533 C65.5288,154.236,65.7273,153.6814,68.4944,155.9704 C71.4048,158.1313,71.498,158.1949,76.2583,158.1155 C80.5485,158.1004,80.0577,158.0888,83.1727,156.8283 C85.9149,155.6691,86.0846,155.6805,87.9123,153.569 L89.6996,155.2934 C87.3378,157.9262,86.7125,158.2096,84.2987,159.1893 C81.5975,160.5273,81.0996,160.5819,76.5095,160.2462 C71.7219,159.6656,71.6036,159.6828,68.0844,157.9864 C64.4927,156.1848,64.1494,156.1576,62.5539,152.9095 C61.2311,150.874,61.3841,150.925,61.3388,147.7395 C61.0906,144.0347,61.3176,144.0712,64.6328,141.4081 C68.2203,138.4308,68.5276,138.3205,70.4586,138.0516 C73.3378,137.5184,73.1429,137.5182,76.8891,137.5286 M95.7074,131.4359 L106.3796,131.4874 C114.054,131.4818,112.6466,131.4867,117.5955,133.7585 C123.1056,136.7084,123.5455,136.9035,123.2318,142.9769 C122.6782,149.8944,122.9319,149.3941,117.2622,154.1513 C111.7635,158.693,111.6785,158.7359,103.4592,158.7586 L94.2423,158.7588 L94.235,127.0157 M103.8353,129.9823 L98.5266,129.9855 L98.5104,153.2222 L102.9216,153.2241 C108.7705,153.2238,109.2358,153.2172,113.851,149.9007 C118.5834,146.4836,118.6972,146.4775,118.3309,140.6804 C117.7857,135.7378,118.0499,135.8508,113.0202,132.507 C108.9448,129.6481,108.8202,129.6282,102.837,129.682 M139.7583,135.2047 C144.6214,135.2085,144.8226,135.207,148.4135,137.2148 C152.9793,139.6908,153.1139,139.3964,152.9712,143.9746 L127.9709,144.0059 C128.1782,148.805,128.5552,150.0146,128.6365,150.2636 C129.9701,154.5106,129.5158,153.9316,133.7227,155.3831 C136.8,156.2796,136.888,156.2873,140.8957,156.3587 C145.4711,156.4178,145.1181,156.4093,148.0618,155.381 C151.1649,154.3253,151.4637,154.3127,152.9088,151.9358 L154.3276,153.4288 C151.9889,156.6287,151.5029,156.158,148.7644,157.9191 C145.7123,159.9457,145.6393,160.0028,140.7098,159.6171 C135.7235,159.026,135.7387,159.0588,132.2473,156.4786 C128.6081,153.3519,128.3015,153.6513,127.7672,148.8121 C127.3028,144.3146,127.5951,144.4385,130.157,140.1718 C133.5063,135.8408,133.5963,135.768,135.2292,135.3938 C137.8927,134.6104,137.5607,134.581,141.0609,134.6742 M140.7649,136.9229 C136.8868,136.9233,137.6457,136.9243,134.8789,138.1972 C132.2511,139.4907,132.1349,139.4802,131.1824,142.1567 L151.4491,142.1603 C150.8638,138.2395,150.5644,138.9045,148.822,137.5874 C146.2813,136.0489,146.5052,136.0229,141.6603,136.2616 M160.8298,129.0379 C162.7135,129.0421,163.8541,129.0401,169.0548,129.9966 L169.1912,134.9675 C167.2373,134.3376,164.4427,134.1567,162.3461,134.1647 C160.2586,134.602,159.0417,137.7194,159.0183,138.5177 C159.569,139.2289,162.6535,141.8472,163.1547,141.5864 C164.4053,141.7489,166.0311,141.2908,166.5258,141.6087 C166.8108,143.3901,165.8609,145.0506,165.1666,145.2731 C163.7536,145.5427,161.8103,145.4718,161.9598,145.289 C161.9778,146.9473,161.7513,148.8153,162.0123,148.0836 C162.3322,149.5856,162.2848,150.7937,161.8833,150.0575 C161.3838,151.9487,160.7019,153.4697,160.9971,152.8132 C161.3118,153.9704,160.9997,154.6349,161.8208,154.3345 C162.2437,155.3597,161.6908,156.1799,162.2918,155.9308 C162.5731,156.9732,161.3844,157.8792,162.5105,157.7129 C162.7558,158.4478,161.3652,159.1206,162.5438,159.2089 C162.4204,159.4793,160.1629,160.0499,162.0297,160.6866 C161.5216,160.983,158.8516,161.4158,161.1737,161.8116 C160.8851,162.0304,158.6582,162.1666,160.5073,162.3098 C160.3547,162.3299,158.4296,162.3624,159.8498,162.0445 C159.8399,161.7246,158.4437,160.1862,159.7499,160.8704 C159.9319,161.0463,158.5667,160.7907,159.4323,160.4503 C159.6587,159.9347,158.8488,159.2049,159.5371,158.7507 C159.5945,158.1908,158.901,157.5149,159.639,157.0556 C159.7077,156.5327,159.1071,155.7604,159.8081,155.3432 C159.8364,154.7964,159.2629,153.9966,159.9614,153.5272 C159.9652,153.0222,159.409,152.2368,160.1355,151.8482 C160.1107,151.3417,159.5906,150.5188,160.3439,150.1686 C160.3025,149.6597,159.7631,148.857,160.5663,148.4816 C160.502,147.9944,159.8814,147.2129,160.7731,146.793 C160.6853,146.2933,160.0386,145.5205,159.7919,145.1112 C159.1396,144.5162,158.6792,143.6351,158.863,143.3245 C158.77,142.8812,158.456,142.1397,159.0567,141.828 C159.0751,141.3931,158.7148,140.6956,159.4927,140.2969 C159.4407,139.8223,159.0151,139.0191,159.9493,138.65 C159.8537,138.1649,159.3484,137.379,160.5092,136.9765 C160.5467,136.4748,160.1524,135.7428,160.294,135.3163 C160.3109,134.6429,160.4621,133.5402,161.4446,133.3459 C162.1697,132.9559,162.5744,132.4212,163.1948,132.5294 C164.0112,132.5921,163.8847,131.8652,164.2786,131.6829 C164.7984,131.1096,165.1305,130.6631,165.407,130.4602 C165.8214,130.0122,165.7577,129.7858,165.9435,129.8093 M179.8136,135.3248 C182.8297,135.3292,185.2991,135.3274,185.3092,136.9861 C185.2082,137.8956,184.5511,138.5721,183.7132,138.641 C181.9575,138.6708,182.1445,137.9319,180.86,137.8407 C177.2406,137.5962,172.7387,137.6155,175.1465,140.2017 C176.3646,143.8839,178.3514,147.5713,180.2595,153.5358 C182.3277,157.6804,184.2909,158.8755,186.2035,159.8514 C188.2764,160.8226,189.3708,157.828,190.0236,158.2773 C190.9399,157.1772,190.6053,156.1864,190.6987,158.3943 C191.0334,159.2148,189.9502,159.0806,190.0417,161.1475 C189.9934,163.255,190.5533,163.9451,190.3,164.9325 C189.5945,166.0829,187.31,166.9508,187.3996,166.3909 C187.3705,165.6715,187.849,164.9112,189.1277,162.4665 C189.9305,160.1031,190.5138,158.6634,190.3353,155.3595 C189.8563,152.719,186.7513,150.2819,188.4547,149.8921 C188.8474,149.4055,187.4809,148.5198,189.3923,148.8728 C191.0436,149.182,191.5012,150.1736,191.5331,150.4381 C192.2411,151.3882,191.9471,155.0102,191.3576,154.1785 C189.8244,153.5118,186.9327,152.7044,189.076,152.124 C190.1471,151.7107,190.0682,150.4682,190.6915,151.0864 C191.1187,151.7808,191.4946,152.3768,190.8682,154.2347 C189.9794,156.3152,186.8559,160.0271,187.2364,159.4148 C187.8157,159.0041,188.0861,158.3255,188.018,156.3602 C187.6555,154.5699,184.5787,154.049,186.3454,153.5569 C187.0556,153.2151,186.4434,152.2398,187.9119,153.0446 C189.1488,153.8441,189.4362,154.6831,189.2142,155.4828 C188.629,156.7321,185.5872,157.4546,186.2458,158.3741 C186.5361,159.2563,187.2862,159.5754,188.3365,159.3106 C189.7676,158.8965,189.9542,158.2115,190.1109,156.2121 C190.0705,154.3462,187.4098,153.3129,188.6554,151.6646 C188.6856,150.4274,186.9344,149.778,184.3545,149.6986 C180.2521,149.4958,177.1221,150.6715,177.5427,150.9699 C178.0202,151.616,178.5839,152.0437,179.1656,152.1825 C180.4927,152.5067,181.4319,152.5417,181.1386,152.5771 C180.4306,152.7765,179.9638,152.7016,179.6621,152.5294 C178.6293,152.1281,178.3757,151.7897,178.6858,151.3787 C179.0295,150.8633,179.7195,150.5708,179.988,150.4968 C180.5841,150.2242,180.1894,150.0815,180.3114,150.0497 C180.7579,149.7696,180.4535,149.6016,180.2661,148.8779 C179.7617,147.9698,178.0086,147.5121,178.3872,146.4601 C178.4396,145.4913,178.7725,144.9849,178.7798,144.8841 C178.5024,144.3975,176.5632,144.1011,177.4399,143.3374 C177.5651,142.5539,177.4111,142.1113,176.6005,142.1424 C174.6824,142.1642,172.5799,143.0015,173.7266,145.6263 C174.4279,147.7764,176.84,151.1492,177.3786,151.1539 C177.9393,151.1532,180.411,151.8626,178.7856,151.2711 C177.6614,150.7973,176.2704,151.5832,176.3117,151.2979 C176.0703,150.8664,176.7006,150.633,176.8228,150.532 C177.0634,150.2783,177.7716,150.5561,178.5303,150.4492 C180.2809,150.2639,180.1797,150.2113,180.916,150.9255 C181.424,151.6446,181.8094,153.1636,181.542,154.8225 M196.3815,129.8497 C197.037,129.8543,197.4393,129.8524,197.8121,130.465 C198.2011,130.9996,198.2365,131.2231,198.2193,131.9145 L198.1756,140.0383 C199.7202,139.2501,200.5641,138.3686,210.8549,137.1661 C215.1413,136.5165,217.1041,136.083,220.0359,136.5254 C221.6264,136.9136,222.1281,137.2853,222.8202,140.4643 C223.0814,142.7719,223.3452,144.394,222.9861,146.3185 C222.6784,148.2058,222.8398,153.5156,222.1678,153.0326 C221.3528,154.8446,220.8532,155.5701,220.6862,154.5463 C220.2163,153.7496,220.3382,151.5363,220.6591,151.4401 C221.3605,149.2697,221.6799,147.5109,221.8781,144.1999 C221.8179,142.0073,222.0392,140.676,221.003,138.28 C219.4858,136.4108,215.8542,135.6582,216.3681,135.4305 C215.0455,134.9686,211.3721,135.8951,207.5742,136.1719 C203.2137,136.5962,200.1625,137.6775,199.9888,139.5564 C199.7167,140.5321,199.6029,146.5036,199.9744,153.2351 C199.9214,154.1735,199.7293,154.7263,198.9987,155.8239 C198.2406,156.5382,197.873,156.8554,197.0641,156.7471 C196.1644,156.544,195.9216,155.5461,196.0685,154.0508 C196.211,152.415,196.1817,142.0744,196.0808,133.4233 C195.9844,132.1377,196.1589,130.5271,196.3675,129.804 C196.609,128.9129,197.1556,128.5733,197.9495,128.5765 M232.5812,132.9014 C234.1332,132.9058,234.2929,132.9041,238.549,133.8843 C239.6969,134.1452,239.7692,134.1237,238.3353,139.9205 C237.2176,144.0576,237.2828,144.4603,236.5416,149.0223 C235.8709,154.1503,235.8297,154.1741,235.7639,157.0064 C235.4386,158.6643,235.3254,158.893,235.0886,159.6955 C234.8436,160.7223,234.8179,160.5395,233.539,161.1186 C232.2794,161.4777,232.2299,161.6044,230.9148,161.4159 C229.5891,161.2201,229.5343,161.2116,228.595,160.2096 C227.6845,159.2227,227.6286,159.2095,227.5215,157.69 C227.4096,156.177,227.3628,156.1688,227.6606,153.6981 C227.9671,151.2032,227.962,151.1959,228.3721,148.9792 C228.7687,146.739,228.7602,146.7374,228.9873,144.6509 C229.2249,142.5843,229.2192,142.5769,229.2135,140.9857 C229.1883,139.3969,229.1421,139.3871,228.8821,138.2657 C228.6297,137.1457,228.5828,137.1342,228.3008,136.5422 C228.0213,135.9433,227.9796,135.9334,227.8515,135.5572 C227.7187,135.162,227.6893,135.1546,227.9192,134.8437 C228.1363,134.5005,228.1394,134.4917,228.6505,134.305 C229.1534,134.1002,229.1519,134.0948,229.8644,134.0274 C230.5793,133.9466,230.5705,133.9436,231.3273,133.9647 M252.9109,132.9254 L260.0548,133.819 L260.1285,139.6805 L259.0448,143.0745 L258.6498,147.2286 L258.7512,151.7173 L258.8075,155.9623 L258.3727,160.0746 L257.0307,163.5554 L255.8407,166.3504 L250.6671,168.4779 L245.0659,167.5648 L243.0845,164.7142 L243.21,161.5217 L245.2501,158.6702 L247.3244,158.7121 L247.7001,160.3618 L247.5247,162.0874 L247.6907,163.7736 L248.3421,164.7026 L248.9996,164.8846 L249.4935,163.0251 L249.5082,159.8645 L249.424,157.3112 L249.413,155.1355 L249.2917,151.9669 L249.2468,149.3578 L249.075,146.1322 L249.0122,142.8214 L248.7331,140.3914 L248.9436,137.7768 M268.3494,129.6926 C269.0347,129.6972,269.5363,129.6954,270.0592,130.3282 C270.6382,130.8857,270.7036,131.1289,270.7008,131.8898 L270.6723,142.7264 L284.0732,133.8393 C285.4019,133.2341,285.3387,132.7839,286.0306,132.6258 C286.5586,132.367,287.1963,132.3112,287.9722,132.2403 C288.5543,132.1958,289.2651,132.2242,289.8955,132.379 C290.5505,132.5615,290.9906,132.8529,291.1792,133.3449 C291.1674,133.7745,291.307,134.2564,290.906,134.6883 C290.5618,135.1448,290.0135,135.5634,289.4555,135.9128 L278.2647,144.238 L292.9945,157.4045 C293.316,157.8422,293.729,158.1669,293.8461,158.5782 C293.9428,158.9921,293.8747,159.4599,293.6544,159.7884 C293.4153,160.1438,292.9911,160.3799,292.5494,160.5401 C292.1057,160.7017,291.7166,160.7147,291.2342,160.6828 C290.4746,160.6657,290.282,160.4521,289.523,160.1897 C288.8715,159.9333,288.3082,159.5895,287.7484,159.1883 L271.8887,147.0367 L269.9307,158.4117 C269.6524,158.9635,269.661,159.3343,269.046,159.6791 C268.5454,160.0358,268.0104,160.0874,267.3748,160.1823 C266.7593,160.2388,266.3232,160.05,265.7658,159.7887 C265.2716,159.522,265.0491,159.0675,264.8704,158.4591 L264.664,134.189 C264.4478,133.5638,264.8371,133.1314,265.2643,132.7329 C265.6924,132.3465,266.2314,132.1495,266.7049,132.162 M299.5839,128.8419 L308.265,128.8884 L308.1015,157.1186 L298.3816,157.1114 L300.2069,127.4364 M327.0147,135.8354 C330.9436,135.8396,331.3178,135.838,333.5235,137.5883 C336.2205,135.9069,336.5244,135.3472,338.8415,135.932 C342.5259,136.4508,341.8377,136.295,344.3905,137.9785 C346.7023,139.5038,346.7003,139.5015,347.9549,141.8118 C349.1857,144.1326,349.1723,144.0834,349.2008,147.1239 L349.1883,159.6377 L345.4963,159.6372 L345.4863,147.301 C345.2706,144.6502,345.477,144.5696,344.1646,142.393 C343.0188,140.3691,342.9374,140.3594,340.8489,139.3514 C338.7956,138.3646,338.7182,138.3533,336.3501,138.4267 C334.0357,138.5052,333.9892,138.4939,332.4889,139.7749 C331.0123,141.0402,330.9724,141.0329,331.5119,143.2894 C331.692,143.9991,331.6601,144.0273,332.9809,157.6823 L329.4549,157.6842 L328.9293,144.3015 C328.6661,141.3116,328.8011,141.2531,327.2567,139.1622 C325.8463,137.2413,325.7626,137.2304,323.3442,136.8999 C320.9751,136.6143,320.9205,136.6063,319.2566,137.6781 C317.5905,138.7172,317.5313,138.7127,316.7866,140.8975 C316.0473,143.086,316.0063,143.0676,316.2323,145.9161 L316.8958,158.1351 L313.4973,158.1332 L312.8005,137.27 L316.4737,136.7333 L316.418,140.942 C317.925,138.2083,318.2815,138.3103,319.6887,137.7446 C321.2987,137.1821,321.298,137.1755,323.3185,137.2571 M367.5917,135.4752 C372.5677,135.4793,372.6323,135.4775,375.4836,137.6564 C378.4814,140.1016,378.4274,139.9754,378.5086,144.6942 L378.4801,158.0585 L374.4356,158.0588 L374.427,145.7353 C374.1945,142.4651,374.4053,142.3568,372.4163,140.0319 C370.4458,137.8381,370.3519,137.8189,366.7992,137.7696 C362.7743,137.7697,363.1552,137.7621,360.6319,140.4067 C358.2212,143.0278,358.1484,142.9511,357.8844,147.4232 L357.8667,158.6365 L353.7471,158.6368 L353.7362,136.4352 L357.2909,136.4359 L357.2757,141.0928 C359.1599,137.7514,359.6995,137.9295,361.568,136.5503 C363.781,135.2414,363.7786,135.2233,367.9602,135.2367 M397.9749,134.9571 C403.8316,134.9613,404.0011,134.9597,408.0544,137.7428 C412.7809,141.0997,412.391,141.053,412.5965,146.5573 C412.6161,151.8197,412.6524,152.0616,407.8955,155.4657 C403.559,158.64,403.4452,158.6215,397.4099,158.695 C391.3425,158.6946,391.4155,158.6884,387.4183,155.5965 C383.2172,152.2838,383.067,152.2802,383.044,146.9893 C382.8018,141.5685,383.0504,141.7303,387.079,138.3462 C391.1903,135.149,391.1582,135.1363,397.0584,135.1437 M396.9763,137.6359 C392.5632,137.6367,392.7233,137.6279,389.8262,140.3294 C387.0248,143.0141,386.9327,143.0554,386.9334,147.2319 C386.7631,151.4004,386.9167,151.4123,390.0831,154.1548 C393.1419,156.8613,393.1407,156.8644,397.5127,156.8944 C401.8935,156.8949,402.0789,156.8865,405.0935,154.1764 C408.1612,151.5255,408.1418,151.5272,408.1486,147.4093 C407.9497,143.3791,408.1534,143.4688,404.8889,140.5421 C401.8266,137.6607,401.6957,137.6516,397.1331,137.6784 M433.7761,135.1124 C439.0022,135.1163,438.9666,135.1147,442.0082,137.8385 C445.2539,140.8067,445.2007,140.7166,445.2936,145.9184 C445.3111,150.8484,445.3315,151.1287,441.5815,154.66 C437.8862,158.2233,437.7784,158.1583,432.0367,158.2496 C427.5477,158.2636,427.9765,158.2573,425.1235,157.0575 C422.4333,155.8426,422.3408,155.8257,420.9992,153.1996 L420.9847,167.744 L417.1498,167.7442 L417.1319,134.7148 L421.2887,134.7151 L421.2093,138.9319 C423.3832,136.0718,423.9927,136.1615,425.8452,134.8687 C428.1465,133.6704,428.5558,133.6511,432.2719,133.6613 M430.8852,136.8618 C427.2034,136.8626,427.2085,136.854,424.4309,138.7555 C421.6811,140.6472,421.5982,140.6442,420.7974,144.1636 C420.487,145.0984,420.5161,145.1358,420.7361,149.1777 C420.9788,153.1523,421.1532,153.3793,423.8113,154.9788 C426.3271,156.4966,426.5067,156.5362,430.645,156.4447 C434.8362,156.3989,435.1107,156.3813,437.2611,154.1209 C439.5958,151.8461,439.5833,151.8347,439.6647,147.8821 C439.4979,143.6765,439.725,143.6877,437.2992,141.1567 C434.8706,138.5911,434.7702,138.572,430.503,138.5371 M463.4983,135.3994 C466.6879,135.4038,469.5417,135.402,473.2408,137.5657 C474.0383,138.0544,474.5681,139.8695,473.5662,136.1105 C473.2612,135.1584,473.2658,134.438,473.2973,134.9256 L475.6992,162.4481 C475.7149,164.4927,476.209,168.5717,475.3395,166.8432 C473.9573,166.1047,472.2854,163.295,470.9926,164.196 C469.6131,164.6963,468.7088,164.4343,468.9515,165.1834 C469.4532,165.7954,470.2534,166.0881,469.905,165.4922 C469.4098,164.6692,469.4399,160.3162,469.8208,156.165 C468.4663,157.4747,464.9008,158.1537,461.3725,158.967 C455.5633,160.2677,450.0534,155.6041,449.829,148.3889 C449.2372,141.6172,454.9155,136.3236,462.5377,135.4747 M464.6836,138.0598 C458.1541,138.3161,455.142,143.0024,456.3368,147.1532 C457.1037,152.2678,461.9875,155.2941,467.2273,155.3082 C471.6604,155.5586,475.5244,152.365,475.8027,147.8742 C476.0798,143.2849,472.0418,138.5442,466.5863,138.6129 M481.3004,135.4025 L498.2006,135.4533 C502.0092,135.4514,501.1308,135.455,503.2439,136.6838 C505.2726,137.95,505.2677,137.9413,505.4071,141.0307 C505.3113,143.7866,505.4688,143.3836,502.1174,145.5953 C499.1407,147.6001,499.0671,147.6124,495.5763,148.0776 L503.6703,158.9894 L498.8727,158.9925 L491.0988,148.363 L484.6926,148.3652 L484.6802,159.4518 L480.3455,159.4529 L480.3381,136.4606 M493.3413,139.8338 L484.9637,139.8364 L484.1238,147.47 L490.4211,147.471 C494.4632,147.4707,493.6647,147.4636,496.5904,146.658 C499.7339,145.7946,499.8644,145.7782,499.9097,143.5629 C499.7307,141.6715,499.9136,141.6212,497.8713,140.5535 C496.0644,139.5775,495.9819,139.5697,493.15,139.5933 M524.1052,134.9006 C526.6667,134.9047,528.8456,134.9031,529.0662,135.8655 C529.1851,136.4175,529.655,136.9038,528.257,138.0876 C527.0006,138.2464,525.6439,136.9424,525.2689,137.5573 C523.2318,138.0522,521.4882,139.7795,520.888,140.6337 C520.1738,141.842,524.1782,142.5581,528.3903,144.6183 C533.6048,146.4795,536.6324,148.8563,536.6834,153.1711 C536.6399,157.7645,530.8979,160.4671,523.7019,160.7941 C518.3134,161.1074,512.9623,159.1197,511.0761,157.5946 C510.1839,156.9193,511.4656,155.6317,511.2314,154.9279 C511.4272,154.2055,513.7745,153.8826,517.0685,154.1173 C520.0931,154.8064,523.0375,156.1869,523.4803,156.0602 C526.0844,155.5593,528.0187,154.0538,527.8723,151.999 C527.4015,149.7093,521.9824,148.0839,516.8064,147.5684 C511.9961,146.9193,509.2065,144.5385,509.9425,141.3635 C510.9376,137.9642,515.4601,136.0463,520.8411,136.2994 M556.8304,133.3909 L556.8022,140.2927 L561.8131,140.2634 L561.5386,145.5563 L556.6154,145.5479 L556.1478,156.1254 C556.3896,158.0227,556.5668,157.6182,559.0696,158.5701 C560.3691,159.0442,561.4875,159.2318,562.4496,159.4011 L558.2285,162.6281 C555.7955,162.7033,555.0708,162.6987,551.1051,161.7959 C547.1287,160.7699,546.6192,160.2906,545.1378,159.2279 C544.7447,155.7691,544.7583,153.5624,545.6202,148.3508 L542.6682,146.8864 L541.2189,144.7717 L543.0411,137.7725 L548.9281,136.4309 L553.3089,135.2358 L557.2096,134.758 M568.5057,136.1535 L569.8995,136.8849 L569.8762,150.8039 C570.2234,154.1248,569.997,153.4034,571.2014,155.8284 C572.3065,157.9452,572.3109,157.9414,574.2317,158.9707 C576.1976,159.9854,576.2009,159.9825,578.7178,160.0063 C582.0527,160.0065,581.4886,159.999,584.2119,159.2248 C586.8229,158.4049,586.8063,158.3994,588.5824,156.8177 C590.3927,155.2088,590.3784,155.1986,590.8291,152.9673 L591.094,139.8066 L593.3565,139.1744 L593.3071,155.4089 C593.0767,158.1265,593.2824,158.6959,592.3498,160.2732 C591.5081,161.8367,591.4605,161.8284,589.9117,162.9899 C588.365,164.1419,588.2964,164.1345,586.1117,164.8095 C583.9252,165.4692,583.85,165.4625,581.2345,165.4819 C578.3764,165.4825,578.391,165.4754,576.0013,164.8214 C573.6312,164.1565,573.5469,164.1441,571.6675,162.8099 C569.8122,161.4785,569.7199,161.47,568.563,159.4553 C567.4391,157.4461,567.3624,157.4384,567.272,154.8558 L566.985,141.1451 L569.5781,140.6484 M606.7349,135.7347 L616.2416,151.941 L623.4363,135.359 L628.9727,135.3503 L616.7086,159.7238 L610.2904,159.7221 L597.892,136.3232 L603.3027,135.6244 M638.5294,135.5672 L643.0585,135.6219 L648.4324,151.4243 L653.8631,135.4228 L658.3923,135.4243 L664.6632,153.0959 L671.1244,136.6402 L676.0695,136.6394 L665.2239,161.8163 L660.9807,161.8189 L653.7963,144.811 L646.9523,161.6009 L643.1227,161.6045 L633.5081,138.5955 L637.5149,138.1735 M684.3015,135.3712 L690.2134,135.4145 L696.9884,143.6452 L704.6293,135.4902 L711.0664,135.4899 L699.6389,146.3136 L712.0948,159.0906 L705.8429,159.0931 L696.2023,149.6312 L686.9089,158.6474 L680.605,158.6503 L693.2443,147.0476 L682.349,136.0136 M717.7673,135.8968 L722.459,136.741 L726.6618,150.7289 L732.3977,152.7283 L737.3011,139.2551 L742.5054,136.6131 L737.614,142.8674 L732.5035,162.4378 C731.0195,168.3687,727.588,171.5876,722.619,170.4263 C719.9829,169.8314,718.3093,167.4043,717.6971,166.0662 L721.2643,164.0987 C722.248,166.0239,724.1165,167.1735,724.3982,167.4188 C726.1161,168.0229,729.1459,165.0785,729.0044,163.8791 L725.0856,152.2699 L717.3317,137.6889 L716.6302,136.2059 M748.9063,135.4127 L773.8955,135.4703 L774.6175,136.557 L754.342,155.9196 L764.0705,155.9175 C767.8669,155.9134,771.64,155.5031,770.7028,154.6193 C770.267,153.9526,768.9839,153.5565,769.1686,151.9682 C769.1035,150.99,769.5814,150.5889,771.1373,150.8827 C772.5333,151.4424,773.1845,152.3539,773.5594,154.0839 C773.8008,155.6512,773.3835,157.7285,772.8522,158.4327 C770.7235,159.0139,771.0549,159.2546,747.79,159.0551 L747.0408,157.544 L769.4034,136.6218 L756.8731,136.6411 C754.059,136.6524,751.822,138.6649,751.3831,139.6502 C750.6305,140.48,750.3132,141.0833,750.0882,140.7324 C749.4724,140.1349,749.663,138.4727,750.2341,137.3622 C750.6354,136.2037,751.2225,135.496,751.8845,134.1023\" fill=\"rgb(40,40,40)\"/>\n<path d=\"M11.8037,188.5064 C14.717,188.5106,17.2365,188.509,20.6738,190.5323 C21.6061,192.396,24.1954,193.5548,23.112,197.5157 L23.0777,209.5082 C23.4353,211.1776,23.8411,211.7204,23.2335,212.0506 C22.2826,212.3844,21.5148,212.4962,21.4135,212.3105 C20.5803,211.8829,20.4795,211.3646,20.8522,209.6645 C19.4293,211.2208,15.7819,211.3063,11.6525,211.4279 C5.2423,211.4674,0.4426,208.3678,0,202.2531 C-0.6161,196.2576,4.0237,191.8757,12.5591,191.1776 M13.7211,193.5289 C7.3352,193.9377,4.3862,198.0935,5.4373,201.8727 C6.5471,206.4264,10.1444,209.1239,15.6018,209.6679 C20.0195,210.1062,23.7981,207.0914,24.0154,202.8142 C24.3569,198.2346,20.6454,194.1085,15.4052,194.082 M29.2485,181.2526 L30.3947,181.8745 L30.3668,192.1464 C32.5076,189.5816,33.1155,189.6167,35.8619,189.5021 L47.1304,189.493 C49.0546,190.4405,51.7402,193.3462,52.9089,194.4004 C54.3567,197.4255,54.855,202.9577,54.8509,203.3312 C54.3798,208.351,50.1733,211.4416,44.2882,211.5443 C40.5452,211.5518,35.6755,209.7006,33.8119,209.2166 L32.4297,211.1671 L32.4126,212.488 L29.0563,212.4878 L28.7683,184.3735 L28.5508,181.9532 L30.6375,180.9955 M43.2077,193.9077 C38.4802,193.9062,34.5915,196.8514,33.639,201.6856 C33.2506,206.2426,34.0562,208.3735,33.5847,207.8091 C34.547,209.85,38.268,210.6142,42.7991,211.1611 C47.3101,211.0108,51.1267,207.8438,50.4695,202.8862 C49.7715,198.9131,46.4007,195.3816,42.1279,195.1859 M73.1936,188.2522 C77.1886,188.2563,77.6031,188.2544,80.791,189.5069 C81.7364,189.8886,81.5679,189.8557,81.224,193.4437 C79.9557,192.2995,79.8275,192.2346,76.2582,192.6355 C73.5991,191.1419,73.1819,191.8648,71.2758,192.7509 C68.0368,194.4072,68.7262,193.826,66.7233,197.7635 C65.0346,201.0162,64.9994,201.043,65.1228,204.4198 C65.1414,207.7544,65.3207,207.8319,67.7389,209.9639 C70.3234,212.123,70.4736,212.0743,74.81,212.1343 C78.6098,212.1743,78.243,212.1661,81.2443,210.1925 C82.9149,208.7748,83.6686,208.86,83.6131,209.6057 C83.0618,212.6431,81.1296,211.8078,79.6852,213.0035 C76.8709,214.4114,76.9826,214.4871,73.1589,214.4363 C68.022,214.3982,67.9365,214.3906,64.2484,212.0724 C60.3913,209.5701,60.1307,209.5462,59.3863,204.9075 C58.6597,200.5857,58.9886,200.7407,61.4439,195.8584 C64.3671,191.1629,64.5201,191.1649,66.3283,190.2248 C69.2812,188.8656,69.0541,188.8385,73.2091,189.0303 M88.8463,183.4464 L98.3435,183.4987 C105.8743,183.4986,104.4164,183.4974,109.4984,185.6455 C114.7643,188.3098,115.3192,187.9163,115.3874,194.3816 C115.2947,201.6253,115.4499,200.9234,110.4292,206.0187 C105.3054,211.1083,105.2044,211.1772,96.7444,211.3747 L88.1572,211.3957 L88.1486,180.0206 M97.2371,182.8428 L91.9729,182.8462 L91.9568,207.4417 L96.311,207.4434 C102.0999,207.4432,102.6064,207.4366,107.2307,204.1903 C112.025,200.7656,112.1644,200.7522,111.7562,194.6911 C111.1957,189.5544,111.474,189.6658,106.5891,186.0396 C102.4861,182.9021,102.3735,182.8847,96.3078,182.9266 M130.9575,188.2498 C135.7365,188.2536,135.8927,188.2522,139.2993,190.4276 C143.4868,193.042,143.022,192.7642,143.4936,197.4565 L124.7818,197.4288 C124.4338,200.3397,124.4767,199.2761,124.5502,201.9659 C124.6305,204.458,124.6448,204.4579,125.2466,206.9655 C125.8747,209.3675,126.1308,209.3677,127.3712,211.4163 C128.6988,213.3261,128.7023,213.3245,130.7936,214.2972 C132.8494,215.2474,132.8621,215.2436,135.2395,215.2289 C138.5297,215.2295,137.9625,215.2215,140.9559,213.3858 C143.9328,211.5891,143.9197,211.5895,145.6929,208.7767 L147.2056,209.957 C145.3451,212.9291,145.1565,213.1716,142.3359,214.6127 C139.5367,216.0282,139.4613,216.0218,135.8182,216.04 C131.9013,216.0405,131.8652,216.0336,128.9555,214.7034 C126.0925,213.4195,125.9879,213.4105,123.9796,211.2123 C122.0095,209.0819,121.9033,209.0721,120.9222,206.3137 C119.9583,203.6498,119.8778,203.65,119.9229,200.7697 C119.7302,197.9404,119.9257,197.9629,121.0386,195.559 C122.2182,193.1662,122.2035,193.1588,124.2637,191.4491 C126.299,189.7464,126.2884,189.742,128.9827,188.8257 C131.6358,187.9083,131.6292,187.8982,134.622,187.9077 M134.5138,189.8808 C131.7228,189.8813,132.2794,189.8724,130.3243,190.8697 C128.5004,191.8131,128.4225,191.8063,127.1841,193.3385 C125.9507,194.8006,125.8955,194.7941,125.4209,196.619 L143.2462,196.6191 C142.7619,194.8277,142.6174,194.3466,141.6771,193.091 C140.7398,191.8075,140.6669,191.799,139.2704,190.9009 C137.8905,190.0297,137.8151,190.0189,136.0905,189.7635 C134.4258,189.4894,134.3488,189.5149,132.8187,189.5139 M166.2886,180.8648 C167.9217,180.8689,168.9735,180.867,173.1168,181.7729 L173.2554,186.9041 C171.4963,186.3607,168.8843,186.1592,167.0528,186.159 C165.1367,186.5749,164.1144,189.5826,164.0854,190.3871 C164.5892,191.0237,167.5333,193.4219,168.1159,193.4698 C169.388,193.4996,170.7964,194.1101,171.5148,194.3861 L169.2565,198.0577 C168.1441,197.9223,166.5247,197.6061,166.9028,197.756 C167.1344,200.1233,167.3697,203.3254,167.4955,210.4288 C167.1243,214.5478,164.0747,216.7423,160.4686,216.4247 C157.701,215.996,155.6896,210.4781,156.372,210.878 C156.844,208.4945,157.2567,205.6569,157.0442,198.7456 C156.319,196.3558,154.8865,194.4205,153.9889,195.45 C153.4312,195.3745,153.2963,193.2316,152.9784,193.2464 C152.9351,191.9484,154.5261,190.8211,152.5056,191.1858 C152.275,189.3623,153.3969,188.0733,151.8738,187.8815 C152.0655,185.5317,154.6861,184.1212,151.9228,184.2749 C151.9646,182.6053,154.4168,181.9177,151.741,181.2021 C152.8452,180.3624,157.4195,179.5629,163.3366,179.888 M189.4903,188.3498 C192.4268,188.3541,194.8875,188.3525,194.8171,190.1191 C194.7152,191.0529,194.0034,191.755,193.1502,191.8336 C191.4839,191.8738,191.619,190.3749,190.3583,191.018 C186.0782,192.0117,181.4031,197.2265,180.2721,198.8343 C178.4857,200.9055,178.877,203.1619,179.6202,206.8875 C180.1829,210.6559,183.3886,213.0118,188.7139,213.1713 C192.6936,213.3712,196.3802,212.1092,196.4766,209.3369 L196.4668,198.4073 C196.4441,196.5091,195.4105,194.5146,194.831,194.6375 C193.5513,194.6765,192.9465,194.7107,192.9409,194.6379 C192.6708,194.3351,193.008,193.5426,193.1653,192.9104 C193.2047,192.1318,193.8476,191.7596,194.9516,191.8273 C196.7618,191.9519,199.8127,192.1324,199.5119,192.1213 C200.2395,192.1231,200.5411,192.2912,201.9177,193.6782 C202.9156,194.7676,203.4745,195.6808,203.2199,196.6702 C202.7738,197.6634,202.3968,198.304,202.3202,201.683 C202.0623,204.6631,202.3013,209.5837,202.3867,209.7357 C202.8424,212.6127,202.6257,214.3395,203.5745,213.8311 C204.0529,213.517,204.4887,213.2923,204.6798,213.3613 C204.9894,213.3935,205.3018,213.9562,205.3877,214.226 C205.5829,214.8849,205.0731,215.3309,204.4025,216.745 C202.9993,218.1755,200.5235,219.7873,197.9244,219.9623 C194.7778,220.1715,191.9331,217.3944,192.9056,215.5489 C192.6965,214.5104,190.6367,214.3073,193.958,213.6667 C193.8277,213.3842,191.4756,212.6443,189.2685,212.6154 C182.9511,212.1325,178.3253,208.2377,177.7909,202.0699 C177.2047,195.6456,181.8778,190.2238,189.6111,189.6612 M209.9232,181.608 L210.9244,182.1747 L210.9085,193.9021 C212.9907,191.1889,213.6422,191.3865,216.71,190.8699 C221.1832,190.5198,225.9154,190.5048,224.4167,190.6602 C225.5263,192.109,228.3244,195.2915,229.5465,195.9655 C231.582,197.5221,232.7147,202.6666,232.8476,203.3525 C233.197,207.3059,233.229,210.1052,232.9755,213.5162 C232.5944,213.9322,231.3001,214.0601,231.8336,213.9917 C232.0695,212.4711,231.5112,210.4156,231.9391,212.2156 C231.9584,212.83,230.8446,212.0056,231.5399,213.395 C231.6209,213.8557,230.9352,214.3071,231.4633,214.4256 C231.7682,214.6025,231.3619,213.1301,231.5811,214.0818 C231.5312,214.3851,231.297,214.8944,231.0505,215.0474 C230.1892,215.1966,228.8016,214.9139,229.6845,214.3102 C229.7427,210.9175,229.606,207.4937,229.7396,210.5172 C229.8324,208.6526,229.7405,206.746,229.6364,208.577 C229.5253,207.3983,229.4669,205.8279,229.5465,207.6962 C229.6643,207.5455,229.6324,204.5996,229.4957,206.3655 C229.4103,206.209,229.334,203.2807,229.3449,204.9582 C229.3114,202.9817,228.8602,201.5308,229.2102,202.7956 C229.2617,202.3604,228.2802,199.3486,228.9725,200.7262 C229.0898,199.0715,227.9097,197.7854,228.7416,199.2474 C228.8606,199.123,227.5145,196.9736,228.4037,198.2258 C228.5674,198.1829,227.2425,196.1487,228.0957,197.4231 C228.2151,197.4181,226.7035,195.4178,227.7533,196.7531 C227.8751,196.7638,226.3351,194.8955,227.5028,196.2102 C227.6468,196.1797,226.1529,194.2635,227.3219,195.6144 C227.4779,195.6071,225.9038,193.7489,227.1581,195.0243 C227.3577,194.9662,225.8704,193.2203,227.0792,194.3755 C227.308,194.3235,225.8503,192.6433,226.994,193.7446 C227.256,193.6897,225.8183,192.006,226.9348,193.1272 C227.1929,193.0316,225.7546,191.3628,226.8825,192.4729 C227.17,191.4922,225.7532,190.726,226.7808,191.8167 C227.0429,191.7465,225.6035,190.2439,226.5988,191.1938 C226.9096,190.273,225.574,189.6158,226.4775,190.643 C226.7528,190.5952,225.2651,190.238,226.2198,190.1183 C226.3801,188.9743,225.0283,188.5884,226.2764,189.6088 C226.4292,188.7577,224.9073,188.154,225.9308,188.9814 C226.1352,188.0671,224.7899,187.4217,225.619,188.3029 C225.818,188.1646,224.2846,186.7346,225.0694,187.5776 C225.2924,186.6075,223.723,186.1934,224.6236,187.0019 C224.8493,186.9047,223.3324,185.775,224.155,186.5205 C224.4647,185.6892,223.0102,185.4553,223.8823,186.1773 C224.1602,186.1064,222.8167,185.3539,223.5791,185.9242 C223.9886,185.8546,222.7736,185.3197,223.5935,185.8351 C224.0409,185.1722,222.9929,185.3614,223.7506,185.7299 C224.1664,185.0612,222.9835,185.1944,223.8252,185.4761 C224.2512,184.747,223.1235,184.9066,224.0073,184.9753 C224.3863,184.1508,223.1273,184.1804,224.2153,184.2314 C224.6075,183.962,222.9705,183.1714,224.4599,182.9489 M242.3116,182.8973 C243.8345,182.9015,243.9281,182.8997,247.4555,183.8825 C248.6463,184.1934,248.6699,184.1637,250.8554,185.731 C249.9667,188.7222,249.6765,187.5708,247.5987,190.5038 C245.4736,192.9979,245.4783,191.7023,243.9882,194.8342 C243.343,195.7473,243.4532,195.4297,242.3508,197.7608 C241.2918,200.0682,241.2504,198.6409,240.9027,201.1509 C241.2016,201.8662,241.4402,201.8171,242.6272,203.2131 C243.9042,204.4831,243.9044,204.4819,244.7688,205.1441 C245.8008,205.9946,245.9242,205.9555,246.9983,206.6592 C248.119,207.3261,248.1419,207.3227,249.0738,208.0484 C249.1971,209.3685,249.0961,209.0621,247.5465,210.1114 C246.1141,211.0672,246.0561,211.0615,244.809,211.3553 C243.1663,210.4527,242.9408,211.057,242.26,210.1133 C241.5478,209.18,241.4937,209.1347,240.4521,207.9408 C239.1684,206.3807,238.9946,206.1973,238.4715,204.8866 C237.9444,203.5611,237.8861,203.5427,237.6977,201.624 C237.5255,198.2541,237.458,199.0871,237.511,197.362 C237.5607,195.778,237.587,195.7602,237.7559,193.7481 C237.9854,191.7751,237.9892,191.7586,238.2702,189.9771 C238.5608,188.1769,238.554,188.1703,238.8399,186.693 C239.2816,185.2095,239.2626,185.1838,240.1773,184.2992 C241.1186,183.4354,241.1043,183.4055,242.2857,183.459 M266.5817,182.7661 C268.2314,182.7706,268.4055,182.7688,272.6246,183.6058 C273.7651,183.833,273.8519,183.8074,275.8248,189.2132 C275.2739,193.8191,275.089,192.5316,271.7432,195.9246 C270.0004,199.1536,268.6111,197.5079,266.6396,200.1127 C266.0357,200.5222,266.2211,200.5851,264.0545,202.2276 C263.7212,201.3619,263.8706,201.916,262.1388,201.6195 C261.8405,198.5461,262.0123,196.9934,260.683,200.8928 C260.7651,198.7793,260.8382,200.0256,259.8768,199.0689 C260.5795,194.9554,260.8096,196.4339,262.1721,193.9783 C263.3404,191.4344,263.274,191.0447,264.5437,189.8856 C264.6679,188.3618,264.5257,188.4042,263.8857,187.9621 C263.1834,187.4556,263.1402,187.4233,262.1742,187.2874 C261.3936,186.1646,261.2977,186.5427,260.7005,185.465 C261.3145,184.0148,261.5184,184.0327,263.1837,183.7093 C263.7857,183.5595,264.5186,183.5642,265.4057,183.5028 M272.1568,200.1041 C272.8961,200.1049,273.0875,200.0978,272.8737,202.5621 C272.5041,204.5561,272.7211,204.8834,271.891,207.6789 C271.135,210.307,271.0966,210.7313,269.8144,212.6156 C268.2324,214.6477,268.2373,214.8451,265.8225,215.9285 C263.4713,216.6807,263.5347,216.9494,261.1316,216.9264 C258.7294,216.9224,258.9055,216.915,257.6276,216.2396 C256.3812,215.4107,256.3236,215.4014,255.7519,213.9973 C255.2262,212.6065,255.1716,212.5875,255.3908,211.4591 C255.6174,210.3445,255.6559,210.3257,256.5382,209.5919 C257.4623,208.8655,257.4636,208.8581,258.544,208.935 C259.7091,209.0309,259.6339,209.0227,260.3764,209.6276 C261.0807,210.2096,261.0817,210.2039,261.3251,210.9208 C261.5641,211.6112,261.5663,211.606,261.7147,212.1414 C261.8715,212.6408,261.8754,212.6349,262.1192,212.8621 C262.3675,213.077,262.369,213.0693,262.7463,212.9771 C263.1221,212.8812,263.1258,212.8698,263.8059,212.2835 C264.4785,211.692,264.4783,211.6839,265.0554,210.5897 C265.63,209.4839,265.6269,209.4728,266.1003,206.4014 C266.6158,203.1111,266.6695,203.0994,267.2988,201.7549 C267.9772,200.4814,267.977,200.465,269.5308,200.4106 C270.0754,200.3678,271.1432,200.3647,272.0348,200.3572 M289.444,181.5344 C290.1088,181.539,290.4507,181.5371,290.8184,182.1197 C291.2066,182.6284,291.2149,182.7977,291.2069,183.4824 L291.1744,196.5474 L304.9091,187.0632 C306.2286,186.4864,306.0292,186.0468,306.6785,185.8649 C307.1397,185.6647,307.7203,185.5095,308.4348,185.391 C308.9098,185.2877,309.6224,185.2403,310.2925,185.1875 C310.9632,185.1344,311.5379,185.1577,312.2171,185.1008 C312.63,185.0759,313.247,185.1141,313.6733,185.2691 C314.1099,185.442,314.3279,185.6738,314.3593,186.1237 C314.2072,186.6558,314.2586,186.9515,313.5498,187.1776 C312.9537,187.4108,312.281,187.6258,310.9104,187.8818 L299.8448,195.6031 L313.8553,209.5897 C314.1685,210.0371,314.5771,210.3363,314.7941,210.644 C314.9824,210.9687,315.0985,211.2977,315.2306,211.6422 C315.1892,211.9763,315.3776,212.343,315.3003,212.664 C315.2346,213,315.0386,213.3214,314.6686,213.5301 C314.3292,213.7287,313.9658,213.7677,313.2822,213.8812 C312.678,213.9838,312.1375,213.9711,311.5716,213.9476 C310.856,213.9468,310.7153,213.8039,310.0054,213.5836 C309.43,213.3796,308.9061,213.0639,308.3934,212.5859 L293.3157,197.7702 L291.3746,210.0414 C291.122,210.5489,291.2549,210.9003,291.1584,211.1594 C291.0774,211.4382,290.9043,211.6798,290.733,211.9568 C290.5492,212.218,290.3079,212.4367,289.9436,212.709 C289.5877,212.9795,289.1501,213.032,288.5859,213.2025 C288.0638,213.3212,287.7142,213.2053,287.1622,213.1996 C286.6366,213.2,286.3369,213.0803,285.956,212.7674 C285.6248,212.4999,285.4533,212.0602,285.3392,211.5451 C285.2449,211.0564,285.2782,210.5033,285.1848,209.7876 C285.1141,209.1074,285.1765,208.5278,285.0367,207.9705 C284.9287,207.4317,284.8439,206.8527,284.7658,206.4987 C284.7026,206.1392,284.7256,205.6332,284.5702,205.3793 C284.4454,205.1077,284.3372,204.6939,284.2422,204.482 C284.1604,204.2559,284.1707,203.8829,284.008,203.6412 C283.8675,203.3841,283.7646,203.0018,283.6587,202.7476 C283.5623,202.4777,283.5592,202.0938,283.41,201.7927 C283.2849,201.4882,283.2017,201.0928,283.0925,200.7703 C282.9987,200.4456,282.9852,200.0267,282.846,199.685 C282.7257,199.3357,282.6454,198.9091,282.5366,198.5434 C282.4416,198.1771,282.421,197.7303,282.2852,197.36 C282.1663,196.9854,282.0843,196.5355,281.9774,196.1336 C281.8832,195.7278,281.8627,195.2446,281.7302,194.8352 C281.6164,194.4175,281.5443,193.9354,281.4388,193.4638 C281.3494,192.9774,281.3295,192.4364,281.2015,191.9467 C281.0908,191.4586,281.0308,190.9356,280.9169,190.3804 C280.8194,189.8163,280.7852,189.2248,280.6521,188.6832 C280.5367,188.1336,280.466,187.5968,280.3602,186.9862 M321.3084,180.8065 L329.1023,180.8506 L328.9365,211.0216 L319.8357,211.0142 L321.6926,179.405 M347.286,188.8104 C351.1097,188.8148,351.4775,188.8132,353.5918,190.593 C356.1354,188.9856,356.4067,188.4239,358.6879,188.9768 C362.2986,189.4851,361.6192,189.324,364.1645,190.9651 C366.4318,192.4752,366.4322,192.4748,367.6968,194.78 C368.9295,197.0305,368.9171,197.035,368.9664,200.0978 L368.9551,213.9113 L365.4373,213.9107 L365.4274,200.6673 C365.1929,197.9227,365.4022,197.8512,364.0756,195.6505 C362.9307,193.6243,362.8457,193.6139,360.7924,192.5711 C358.7716,191.5504,358.689,191.5395,356.3402,191.6092 C354.0583,191.6825,354.0386,191.6717,352.579,192.9657 C351.1654,194.2396,351.1217,194.2297,351.6759,196.519 C352.0091,197.2594,351.8456,197.2884,353.0602,211.803 L349.8612,211.8047 L349.3476,197.6735 C349.0777,194.5633,349.2065,194.5019,347.6858,192.3683 C346.3031,190.4072,346.2184,190.3985,343.8576,190.0092 C341.5473,189.6592,341.4848,189.6515,339.867,190.6366 C338.2733,191.5958,338.2143,191.5919,337.4529,193.7086 C336.6999,195.7876,336.6527,195.7908,336.8131,198.5784 L337.5005,211.8985 L334.3371,211.9852 L333.6377,190.3232 L337.0337,189.8351 L336.9746,194.0747 C338.4246,191.2824,338.7445,191.4404,340.0709,190.9195 C341.596,190.345,341.5955,190.3378,343.544,190.41 M387.1071,188.4387 C392.0808,188.4429,392.1242,188.4411,394.9004,190.7392 C397.8002,193.2623,397.7484,193.157,397.79,197.9573 L397.7604,211.8985 L393.8818,211.8982 L393.8718,198.9064 C393.6523,195.5368,393.8577,195.4324,391.8548,193.1043 C389.8597,190.9342,389.7595,190.9183,386.1644,190.8832 C382.1135,190.8837,382.5895,190.8765,380.1009,193.6092 C377.7015,196.3017,377.6231,196.2286,377.441,200.8373 L377.4232,212.5063 L373.5126,212.5064 L373.5018,189.5399 L376.7922,189.5407 L376.7949,194.1444 C378.6257,190.8127,379.1387,190.9927,380.9495,189.5417 C383.1385,188.2331,383.1314,188.2171,387.1852,188.2284 M416.8885,187.9689 C422.6087,187.9731,422.7526,187.9715,426.6153,190.9048 C430.7977,194.3569,430.7428,194.321,430.8725,199.9059 C430.8858,205.3748,430.9005,205.5698,426.3061,209.0875 C422.1186,212.409,421.9961,212.3993,416.1008,212.4511 C410.1964,212.4504,410.3269,212.4438,406.4417,209.1104 C402.4751,205.6636,402.3176,205.6656,402.3255,200.2984 C402.1008,194.8345,402.3392,194.9955,406.3109,191.4702 C410.3006,188.1229,410.2647,188.1132,415.9871,188.1416 M415.9119,190.5474 C411.545,190.5482,411.7098,190.5393,408.9049,193.4053 C406.1886,196.2086,406.1069,196.2469,406.1242,200.5997 C405.9537,204.906,406.1075,204.9104,409.1239,207.762 C412.0893,210.5828,412.0862,210.5888,416.3938,210.5968 C420.7103,210.5976,420.8707,210.5893,423.6261,207.7082 C426.4475,204.9427,426.4288,204.9425,426.4467,200.7203 C426.2562,196.5578,426.4515,196.6297,423.4203,193.5614 C420.5202,190.5222,420.3861,190.5164,415.9191,190.5331 M451.9369,188.102 C457.1046,188.106,457.0749,188.1043,460.0732,190.9758 C463.2477,194.0918,463.1916,194.0091,463.2626,199.3732 C463.2777,204.4993,463.2929,204.7818,459.6181,208.4678 C455.978,212.1893,455.8665,212.118,450.1247,212.2247 C446.234,212.2419,446.0773,212.2355,443.2881,210.92 C440.5564,209.5913,440.4619,209.5765,439.1732,206.8234 L439.1583,221.723 L435.4167,221.7229 L435.4079,188.0464 L439.264,188.0466 L439.1909,192.3518 C441.3134,189.41,441.9398,189.498,443.7771,188.1881 C446.0561,186.9442,446.4336,186.9251,450.045,186.9388 M448.7385,190.0547 C445.0105,190.0554,445.0531,190.0468,442.316,192.071 C439.6114,194.1163,439.53,194.1118,438.8883,197.8853 C438.6488,198.8361,438.6684,198.8697,441.0558,203.2904 C443.5579,207.3401,443.8406,207.4345,448.6898,208.1989 C452.5077,208.5118,452.3204,208.3155,453.9931,206.5407 C455.7635,204.6568,456.0566,204.635,455.9661,200.6133 C455.8409,196.3201,455.9013,196.3714,453.6927,193.6822 C451.4898,191.0126,451.3879,190.999,447.6315,190.9745 M477.2292,188.4098 C480.3315,188.4143,483.1581,188.4125,486.6646,190.7163 C487.4668,191.2429,487.9452,193.0208,487.0084,189.1049 C486.7496,188.1552,486.7619,187.4333,486.821,187.9072 C487.6074,188.4806,487.9521,188.8675,489.1345,215.6195 C489.4917,216.66,489.4997,221.4188,488.9187,219.5863 C487.576,217.0075,486.1705,214.0471,487.4351,207.4686 C486.752,207.3353,483.2895,207.8908,479.4059,208.6531 C473.6231,210.1277,468.4031,206.4079,467.798,198.6093 C467.0314,191.7538,472.4752,186.7663,479.768,185.9512 M480.8757,188.3206 C474.5907,189.0064,471.8266,193.8359,472.8429,198.3831 C473.4767,203.8751,478.1024,207.3304,483.6368,207.3017 C487.6936,207.3013,491.4441,204.4972,491.414,200.04 C490.8321,195.0063,486.868,189.7091,481.9654,189.4626 M496.7999,188.4818 L512.4564,188.5313 C516.3455,188.5292,515.4614,188.5329,517.6411,189.8053 C519.6227,191.0968,519.6165,191.0917,519.7352,194.1989 C519.6298,197.0233,519.7898,196.6315,516.4295,198.9216 C513.4268,200.9858,513.3504,200.9919,509.8376,201.4626 L518.0858,212.7168 L513.6343,212.72 L505.4683,201.5118 L500.0447,201.5144 L500.0321,213.2365 L495.9619,213.2376 L495.9494,189.0843 M508.0672,192.3033 L500.5926,192.306 L499.7087,200.504 L505.1655,200.5044 C509.3914,200.5041,508.5924,200.4971,511.5118,199.6567 C514.698,198.7588,514.8339,198.7428,514.861,196.3969 C514.6818,194.3874,514.8647,194.3536,512.8019,193.2343 C510.963,192.1981,510.8753,192.187,507.9005,192.2083 M536.9032,187.9252 C539.4075,187.9293,541.5237,187.9277,541.711,188.9246 C541.8145,189.4886,541.7878,190.0267,540.8028,191.1363 C539.7454,191.0363,538.5929,189.5865,538.5167,189.063 C537.146,188.2834,535.3729,187.9788,534.4532,188.2749 C531.886,188.959,530.3558,190.4628,530.9435,192.3658 C532.3995,194.045,535.3233,194.7736,543.5191,196.8907 C548.4073,198.4327,550.6393,200.8609,550.5111,204.79 C549.9687,209.5304,544.0654,212.3057,536.673,212.3169 C531.4636,212.3397,526.6285,210.5943,524.7129,209.3956 C523.8811,208.8668,524.2067,207.6797,524.5828,206.9088 C525.4983,206.2246,528.3317,206.2546,528.0065,207.0415 C528.5124,208.879,532.02,210.3247,536.7386,209.8711 C541.2249,209.4566,544.6651,207.5148,544.8178,204.701 C544.8742,201.932,539.7695,200.0821,534.2983,199.2594 C528.3374,198.1868,524.219,196.1046,524.2706,192.5697 C524.0262,188.7387,528.0414,186.3496,533.8076,186.161 M566.9302,185.4209 L566.8995,192.7914 L572.1672,192.7602 L571.9214,197.9631 L566.7982,197.945 L566.5702,209.0403 C566.9159,211.1154,567.0911,210.7495,569.0546,211.4544 C569.7095,211.6179,569.6735,211.9207,572.2317,211.7781 L572.0365,215.6834 C569.821,216.5282,569.2308,216.6707,568.0681,217.1502 C564.9811,217.8365,565.9667,217.8676,563.4274,218.0505 C560.2333,218.0052,559.7776,217.9119,559.2824,215.5957 C558.7204,213.6914,559.0346,213.7541,558.8953,210.1557 L558.8055,199.8458 L555.0466,199.8846 L555.3607,195.9616 L558.3667,195.7415 L558.9625,189.4143 L566.9214,188.0917 M578.0102,189.1591 L579.2231,189.8741 L579.2005,204.3218 C579.5239,207.8482,579.3205,207.0874,580.5235,209.6137 C581.6582,211.8916,581.6604,211.8877,583.6744,212.9935 C585.7049,214.0554,585.7119,214.0507,588.2408,214.0426 C591.5401,214.0428,590.9336,214.0354,593.647,213.1937 C596.2239,212.3147,596.2025,212.3099,597.9548,210.6317 C599.7384,208.916,599.7214,208.9053,600.0823,206.6655 L600.2393,192.6545 L602.2825,192.0555 L602.329,208.615 C602.1783,211.4041,602.331,212.0498,601.4438,213.5192 C600.6292,215.0563,600.5819,215.0474,599.0339,216.2243 C597.4788,217.3999,597.4155,217.3929,595.2017,218.0856 C592.99,218.7685,592.9166,218.7612,590.2666,218.7747 C587.3773,218.7753,587.3858,218.768,585.03,218.0747 C582.7049,217.3627,582.6142,217.3495,580.8188,215.9483 C579.0518,214.5538,578.9618,214.5486,577.9035,212.4771 C576.8756,210.4075,576.7996,210.4021,576.7839,207.794 L576.7671,193.6964 L578.9498,193.273 M614.9713,188.7512 L624.2285,206.124 L631.372,188.242 L636.6698,188.2321 L624.7925,213.5309 L618.9606,213.5286 L606.8644,189.0329 L611.8759,188.2874 M646.6552,188.6063 L650.6734,188.6612 L656.1575,205.1397 L661.3394,188.2212 L665.6864,188.2225 L671.8351,206.6451 L678.4542,189.7409 L683.0147,189.7403 L672.6432,215.2415 L668.4279,215.2445 L661.1504,197.8707 L654.2486,215.2797 L650.6014,215.2829 L641.2052,191.8596 L645.0038,191.4264 M691.0941,188.4305 L696.2638,188.4742 L703.2236,196.8919 L710.8788,188.5962 L716.7207,188.5963 L705.5075,199.6313 L717.6416,212.796 L712.1188,212.7981 L702.5514,202.9876 L693.2573,212.4242 L687.5501,212.4274 L699.7265,200.5734 L689.2118,189.4101 M726.9364,188.9102 L735.156,206.5707 L741.275,189.1358 L746.8184,189.1373 L736.3528,219.4619 C733.9747,225.391,730.9475,227.9029,726.0923,226.4906 C724.0621,225.7136,723.3446,224.3047,722.177,222.4299 L724.8257,220.0446 C726.2043,222.2635,727.8058,223.2032,729.08,223.0442 C731.7771,222.6851,734.8415,218.3614,735.1467,214.582 L724.446,191.0896 L728.7374,190.1396 M754.9555,188.4824 L779.1459,188.5403 L779.8641,189.6199 L759.7152,209.8531 L768.9534,209.8503 C772.8447,209.8455,776.6921,209.3935,775.8153,208.4759 C775.3544,207.8171,774.3404,207.393,774.2018,205.7689 C774.3139,204.7651,774.9063,204.326,776.4408,204.5718 C778.0223,205.1151,778.7378,206.1023,779.1356,207.9606 C779.3734,209.6229,778.9447,211.8242,778.3656,212.6749 C776.0858,213.2502,776.5624,213.4555,751.785,213.2621 L751.3539,211.8035 L773.5245,189.7849 L761.7931,189.8077 C758.9564,189.819,756.712,191.9215,756.2386,192.8989 C755.4881,193.706,755.1506,194.3629,754.9159,194.1513 C754.2456,193.7296,754.2833,192.3675,754.7469,191.2349 C755.2227,190.0238,755.9169,187.5291,756.4271,186.8139\" fill=\"rgb(40,40,40)\"/>\n<path d=\"M13.6592,241.5114 C16.5196,241.5157,19.0485,241.5139,22.3596,243.6333 C23.2157,245.5178,25.5172,246.7292,22.9251,250.5508 L22.8398,262.3156 C23.4461,264.1324,24.2548,264.7364,25.624,265.0177 C26.3931,265.2362,26.6734,265.4909,26.3152,265.7729 C25.2959,266.1269,23.0701,266.6682,24.3299,266.5124 C24.2409,266.1774,22.6265,265.4193,20.736,265.3825 C19.0508,265.3831,17.2992,265.5354,17.0236,266.1416 C16.0544,266.6776,14.1956,265.5351,15.7838,265.3502 C15.6199,264.9148,13.7579,264.5424,11.6074,264.3554 C6.8972,263.9872,2.9163,262.8017,2.1421,262.2637 C-1.0313,260.734,-1.6787,256.3455,0,253.636 C1.9267,250.5124,7.1112,248.1434,12.5768,248.403 C16.0377,248.7785,18.912,249.1455,19.5468,250.2183 C20.3753,250.3321,18.722,247.9633,16.0492,249.2155 C13.3179,250.1216,10.1425,250.2495,7.8742,251.234 C4.9961,252.2448,3.6795,253.2756,3.7365,253.7841 C4.1567,254.6666,6.7374,255.5369,10.4454,255.2434 C14.8811,254.9066,18.5211,254.0087,18.7791,252.4363 C19.5069,250.4069,18.7783,247.1795,18.2998,245.5704 C17.3126,243.3556,14.1662,241.7028,10.7346,241.6016 C5.9826,241.3007,2.9707,242.4828,2.6441,245.3678 C2.2431,246.6652,2.7323,247.8634,3.6556,247.8574 C4.6486,247.8577,5.2402,247.1972,5.3836,246.8638 C5.5959,246.3255,5.0312,246.2063,4.9195,246.9869 C4.3894,247.9144,3.5195,249.0224,3.5826,249.1416 C3.4179,249.8977,2.4588,249.8452,2.0535,249.1802 C0.6659,248.1863,0.654,246.108,1.6455,244.2001 C3.1147,241.6158,6.5119,239.9997,10.8472,241.0713 M37.2623,233.0133 L38.1553,233.5717 L38.1339,245.191 C40.1485,242.5928,40.776,242.5967,43.3386,242.7845 C49.8667,243.3847,55.5786,248.7053,53.6784,256.8406 C51.6583,263.9555,46.0791,267.5265,38.7146,268.233 C34.6806,268.5535,30.7523,265.3416,32.9459,264.682 L33.2881,243.1793 C32.7959,239.0307,31.8474,237.2773,30.8506,233.3492 L31.5471,232.7265 L30.994,232.1483 L34.1287,231.3618 M44.8931,245.3863 C39.2598,245.754,35.5774,249.5081,35.0642,255.1305 C34.4523,261.8744,37.5569,264.5308,43.3658,264.4477 C49.8177,264.4472,53.9469,259.7628,53.1356,253.8627 C52.0352,248.3567,47.7169,245.1813,42.8927,245.0772 M72.4723,241.2874 C76.4267,241.2915,76.8173,241.2898,79.8482,242.6218 C80.8015,243.0476,80.6299,243.0164,80.2566,246.676 C79.0764,245.6505,78.9824,245.689,75.7832,246.0182 C73.8489,243.6274,73.4811,244.5507,71.6991,244.6724 C67.652,244.7812,68.6468,244.7701,65.9603,246.3681 C63.4567,248.4212,63.0577,247.9477,61.8679,250.9735 C60.793,253.5527,60.7567,253.572,60.951,256.1946 C61.0745,259.6655,61.2428,259.3562,63.297,261.6368 C65.8497,264.2238,65.8025,264.3165,70.1351,264.4657 C73.7723,264.5673,73.5119,264.6565,76.538,263.5876 C79.3147,262.5805,79.551,262.5769,81.435,260.8832 C81.6174,262.4739,81.6472,261.9202,82.2858,263.7622 C77.9461,265.8174,80.6107,266.037,74.4733,266.4414 C69.1163,266.8093,70.0365,266.8064,66.7265,265.5076 C63.4504,264.1758,62.8915,264.16,60.6301,261.1944 C58.3934,258.2679,58.3046,258.2492,58.2139,254.4814 C57.9099,250.3313,58.157,250.4305,60.5452,246.6888 C63.0891,243.1222,63.0799,243.1064,67.0261,241.7553 C69.3572,240.8224,69.839,240.8618,72.9619,240.9873 M88.6341,234.9535 L97.2146,235.0036 C104.5075,235.0035,103.0564,235.0015,108.0487,236.9903 C113.1104,239.3875,113.7599,239.0766,114.261,245.0787 C114.4251,246.5173,114.6351,246.5506,114.3604,251.092 C113.7323,257.5843,114.0617,256.9907,110.4399,261.2711 C106.6329,265.8277,106.5539,265.7989,99.131,266.0915 C96.1547,266.175,96.6628,266.1689,93.9391,266.161 L86.8286,266.1586 L86.8213,233.0457 M95.5327,235.7942 L90.6609,235.7987 L90.6449,263.3321 L94.4563,263.3349 C100.6832,263.1529,99.3585,263.1702,103.6975,260.1643 C107.9005,256.9405,108.1062,256.9341,108.7581,251.4782 C108.9124,249.7112,109.1163,249.7535,108.8219,246.1116 C108.0837,241.2331,108.4398,241.5951,105.116,239.113 C101.847,236.5641,101.7299,236.5944,95.8901,236.7412 M129.0651,241.2757 C133.7792,241.2796,133.9366,241.278,137.1713,243.646 C141.0279,246.4054,140.7188,246.1437,141.0492,250.9763 L122.4015,250.9493 C122.1601,254.297,122.252,255.7663,122.3469,255.8883 C123.0608,259.9799,122.7608,259.2899,125.1828,261.7359 C127.8217,264.2961,127.8187,264.2222,131.905,264.2896 C135.9122,264.3161,135.5183,264.3072,138.383,262.7391 C141.171,261.2484,141.1565,261.2329,142.396,258.2585 L144.2639,258.6916 C142.5886,262.8656,142.386,262.2392,139.0847,264.9343 C135.7468,267.4458,135.6639,267.3887,131.3595,267.4508 C125.9308,267.451,125.9682,267.4452,122.5383,264.2076 C119.0231,260.7896,118.864,260.7763,118.8958,255.3621 C118.6808,249.8079,118.9076,249.9223,122.6259,246.2312 C126.4154,242.6159,126.3724,242.6078,132.0169,242.6714 M131.8943,244.5201 C128.2676,244.5204,128.4055,244.5125,125.8965,246.9 C123.4763,249.2073,123.4008,249.2014,123.2308,252.7855 L141.2587,252.7852 C140.8304,249.6728,141.2206,250.1941,138.9244,247.517 C136.6399,244.9181,136.5264,244.9043,132.1031,244.8927 M164.8835,232.6604 L170.5928,233.5442 L170.3825,238.5753 L165.1625,238.4427 L163.1809,241.2339 L167.3712,243.2881 L167.3607,247.514 L163.0958,247.7869 L163.0353,264.7376 L155.6104,266.832 L153.1994,248.2147 L150.3111,246.2203 L148.7994,242.5255 L151.8539,237.8668 L157.739,234.1504 L160.6647,232.0357 M186.3575,241.3463 C189.2097,241.3506,191.5957,241.3489,191.5439,243.1818 C191.5516,244.0816,190.6731,244.8246,189.6963,246.6273 C188.6322,245.6191,187.8286,246.9644,187.9146,242.4894 C185.9015,241.5299,183.5249,242.149,182.1257,242.641 C178.0397,243.6364,175.3849,249.9984,175.1282,252.0749 C174.5415,256.8215,176.6987,261.8823,184.2161,262.4004 C188.0762,262.9339,192.4363,259.9198,192.5819,259.376 C193.1786,255.5644,192.9472,252.2419,193.7781,248.3687 C194.3422,246.9091,195.3281,246.7473,196.6314,246.3742 C197.681,248.0187,198.1985,251.7489,198.3069,249.7656 C198.4758,251.1218,197.4079,253.732,196.0874,252.0471 C195.3294,253.0995,195.3726,254.9166,194.9669,253.1822 C194.7428,253.4207,195.6737,254.5888,196.7309,253.4573 C197.793,252.8056,198.1433,253.7077,197.8209,252.674 C197.3959,251.9111,197.4333,251.6514,197.62,252.8243 C198.6855,254.5692,199.9221,258.2858,199.8453,257.0246 C199.717,258.3015,199.6345,260.023,199.1915,259.3979 C198.4969,260.6357,197.7977,261.8278,198.3178,260.4504 C198.707,259.7664,198.2239,261.1773,198.7721,260.1381 C199.0616,259.3999,198.3896,260.4904,199.0758,259.6367 C199.4168,258.9948,199.6526,258.7946,199.7356,259.2033 C199.7249,259.8565,198.6332,263.2878,198.9031,261.9316 C198.941,261.2506,199.277,260.8032,199.4409,260.5369 C199.7282,260.095,199.1589,260.0123,199.7908,260.6619 C200.0435,261.3982,200.4113,261.8531,200.1596,263.6904 C199.6995,265.237,197.7476,265.9862,197.801,267.3009 C197.6088,268.2991,197.6222,268.6753,197.3567,269.312 C196.7204,269.9373,194.867,270.2568,195.2828,269.393 C195.4192,268.5942,195.7951,267.8856,196.0816,265.6778 C196.1171,264.1913,193.618,263.5819,196.0431,263.4151 C196.0972,263.2617,194.1279,263.2637,196.1741,263.1488 C196.7387,262.9733,195.0892,262.2782,196.9007,262.3438 C197.1826,262.5585,194.7903,262.4906,197.2265,262.8029 C197.9793,263.12,196.2785,263.1408,198.2255,262.5766 C198.9549,262.0204,197.2903,261.7175,199.4776,261.1676 C199.7555,260.7025,197.5662,260.5595,200.4559,260.562 C201.2,260.5656,199.6091,259.6359,201.0872,260.2032 C201.832,260.5904,199.7819,260.7226,202.0453,260.7723 C203.4271,260.8803,202.5918,259.5741,203.7436,259.5251 C204.2335,259.2681,201.7254,259.2006,204.3097,259.2886 C205.445,259.4763,203.7015,258.4739,206.0296,258.6603 C206.9129,258.8794,204.3555,257.9594,207.2355,258.3699 C208.2561,258.6779,205.7331,257.4258,208.9057,257.7924 C209.8144,258.0939,206.672,256.7801,210.4049,258.0222 C211.3547,258.6684,208.0583,258.8493,212.155,258.6344 C213.1287,258.2559,210.2852,257.8833,213.6579,256.4799 C213.7024,255.423,208.5442,254.9526,201.904,255.076 C194.0173,255.1216,189.1105,254.5284,190.5936,254.8179 C190.8547,255.1975,190.2211,252.7362,189.8706,253.5253 C188.4754,254.0284,188.5432,252.6322,188.7792,253.6276 M218.1933,233.2143 L218.9933,233.7263 L218.9813,246.5203 C221.0069,243.7519,221.6264,243.7805,224.4631,243.7851 L234.1032,243.7753 C235.2505,244.0139,237.6063,245.9295,238.5912,245.2939 C240.1456,246.2856,241.0094,247.8584,241.4321,246.1233 L241.7379,246.0079 L242.6023,245.6304 L243.4128,246.411 L244.0636,246.6362 L244.3808,246.7347 L244.6087,246.3766 L245.0088,246.4277 L245.2456,246.0675 L245.3828,246.3027 L245.5245,245.9141 L245.9742,246.0094 L246.1804,245.6498 L246.4136,245.6026 L246.71,245.2875 L247.008,245.3454 L247.1768,244.9119 L247.0911,245.4259 L247.1825,245.2083 L247.3578,244.7636 L247.5641,244.4049 L247.7151,244.131 L248.1679,244.0256 L248.3206,243.77 L248.5138,243.3426 L248.4107,243.5806 L248.5248,243.0873 L248.6351,242.6885 L248.7537,242.2605 L248.6462,242.3992 L248.8078,241.8646 L248.7296,242.0197 L248.7597,241.4389 L248.7372,241.3762 L248.9322,240.8808 L248.8564,240.8281 L249.0518,240.3482 L248.911,240.2711 L249.2126,239.853 L249.2134,239.7156 L249.5836,239.3851 L249.6742,239.1652 L252.1318,238.8183 L254.1371,238.804 L255.7218,238.6514 M264.4099,234.6267 C265.8941,234.6307,265.9656,234.629,269.2041,235.5378 C270.3368,235.8384,270.3355,235.8105,272.3773,237.3134 C271.4793,240.1047,271.2226,239.1313,269.1514,241.8952 C267.0122,244.2065,267.0448,242.8224,265.5597,245.7533 C264.7557,245.5471,264.7514,245.4779,263.8206,247.0526 C262.9264,246.8653,262.8884,247.2572,262.5177,249.2073 C262.5749,248.7544,262.6877,249.0094,262.208,249.5906 C261.7587,248.5053,261.7279,250.2154,261.398,250.1989 C260.5516,250.1995,260.4174,250.193,260.2572,249.0703 C260.1029,247.9033,260.202,247.8517,260.2578,247.1985 C260.4558,243.9306,260.3908,244.867,260.5938,243.0133 C260.903,241.1638,260.8785,241.0145,261.1941,239.0841 C261.5849,237.1468,261.5837,236.8098,262.5971,236.2271 C263.081,235.9902,263.4372,236.0052,264.1664,235.8614 M266.9341,250.1874 C268.1341,250.1874,267.8271,250.3618,268.17,252.1699 C268.1987,253.5401,268.4276,257.3734,268.3042,256.8296 C268.1478,259.0036,268.0907,259.9305,267.9742,259.9549 C267.7293,261.158,267.6579,261.8594,267.5593,261.5502 C267.288,262.1635,266.9752,262.2267,267.268,262.3015 C267.643,262.5096,267.7442,262.4708,267.7803,262.4761 C267.8416,262.4471,267.6031,263.1185,267.5994,263.2117 C267.3143,263.6979,267.1048,263.9273,267.0848,265.061 C266.8491,265.7605,267.1133,266.1613,266.8118,267.3277 C266.4171,268.0082,265.77,268.4104,265.4879,268.9432 C264.7041,269.3384,264.2759,269.544,264.0845,269.57 C263.2708,269.5704,263.1726,269.3425,263.026,268.2981 C262.6805,267.3562,262.9691,266.8706,262.7872,264.7122 C262.4583,263.0343,262.7475,259.3402,262.5386,260.1792 C262.1761,259.4748,262.0012,258.305,262.009,259.2181 C261.7803,259.6369,262.0135,258.2601,261.7717,259.1831 C261.4236,259.6011,261.6826,260.0117,261.2385,259.806 C260.5475,259.5744,260.3923,259.2901,260.738,257.5465 C260.7764,256.249,261.1698,255.6735,261.5188,253.4385 C261.5975,252.0415,262.0298,251.5939,262.6598,251.4327 C263.7566,251.2177,264.718,251.1587,264.9171,251.173 C265.5974,251.177,266.3389,250.7371,267.3255,250.9504 M287.2578,234.4722 C288.8211,234.4764,288.9753,234.4745,292.8392,235.2237 C293.8191,235.441,293.8371,236.1314,295.6234,240.6402 C294.8713,244.1589,294.615,243.2748,291.0295,245.9899 C288.6482,246.0316,287.7813,246.2043,286.0607,248.5505 C285.6305,247.4322,285.6794,247.7066,284.695,247.8708 C284.2095,245.4297,284.1168,246.9495,283.3946,245.4562 C282.9289,243.9319,282.9577,243.8152,282.1526,242.898 C282.2619,240.1805,282.3155,240.9437,283.3814,239.14 C284.9197,237.0227,284.7146,236.9287,286.2191,236.2437 M289.7667,249.1228 C290.9945,249.1227,291.3716,249.1158,292.6943,251.9356 C293.6087,254.665,293.8111,254.6998,293.8936,256.5487 C294.0158,261.5706,294.0234,260.0985,293.6005,263.2034 C292.9301,266.479,293.0423,266.8091,291.5011,270.0131 C289.7841,273.232,289.859,273.382,287.0849,275.204 C284.3309,277.0129,284.3712,277.0102,281.3913,277.1754 C279.4821,276.6803,279.1803,277.0554,278.0899,275.1302 C276.9736,273.4527,276.9134,273.4335,276.9127,271.7149 C277.0701,269.8275,276.9344,269.948,278.6934,269.2039 C280.0975,268.571,280.2936,268.5675,281.5785,268.6223 C282.5052,268.7167,282.4822,268.7073,283.3671,268.751 C284.2268,268.7919,284.233,268.7853,284.7008,268.7883 C285.7016,268.789,285.4642,268.7824,285.8615,267.4512 C286.2275,266.1899,286.2263,266.1718,286.1941,264.9764 C286.0224,262.2811,286.1824,262.9723,285.6961,261.3274 C285.2587,259.8804,285.2044,259.8644,284.1857,258.7434 C283.4694,257.6152,283.3627,257.5027,282.8497,256.6068 C282.3849,255.7178,282.333,255.704,282.3434,254.6513 C282.1636,253.5322,282.3445,253.4922,283.0921,251.7245 C284.3549,250.0304,283.8372,250.0102,284.8611,249.313 C286.3484,248.3546,286.4707,248.2909,289.7688,248.3508 M300.1589,233.2362 L301.3377,233.7871 L301.3272,250.7823 L316.2304,241.2727 L320.729,240.5418 L321.6511,244.5346 L321.9235,247.7568 L322.491,248.2854 L323.0687,248.7225 L323.8175,250.5283 L324.6374,252.6137 L325.4643,254.6263 L326.2534,256.4469 L327.0094,258.0712 L327.6712,258.6664 L328.3652,258.9781 L328.8995,259.2759 L329.3722,259.4083 L329.7359,259.5153 L330.0745,259.5117 L330.3513,259.4747 L330.6194,259.3427 L330.8155,259.1925 L331.0813,258.9637 L331.2949,258.7315 L331.5832,258.4216 L331.8476,258.143 L332.1986,257.8134 L332.5128,257.4963 L332.8748,257.1137 L333.1178,256.8249 L333.4004,256.3892 L333.5088,256.1866 L333.4995,255.7039 L333.5413,255.3126 L333.8163,254.806 L333.8627,254.6359 L333.9412,254.1379 L333.9772,253.9404 L334.1517,253.4327 L334.2718,253.2781 L334.4939,252.7691 L334.7548,252.6199 L334.9224,252.1119 L335.3259,251.9076 L335.6206,251.4094 L336.1927,251.1741 L336.6148,250.7117 L337.2778,250.4358 L337.753,250.0215 L338.3817,249.7767 M344.4213,232.6841 L351.662,232.7248 L351.4937,264.7297 L342.9171,264.7221 L344.7566,231.3781 M371.7726,241.7376 C375.499,241.742,375.8753,241.7404,377.9709,243.5254 C380.4133,242.0506,380.0635,241.4864,382.8276,241.9909 C386.7166,242.4918,386.1217,242.2784,388.5024,244.018 C390.6961,245.6337,390.6899,245.6357,391.6573,248.1392 C392.5957,250.5485,392.5802,250.5405,392.4967,253.7063 L392.456,267.6803 L389.1605,267.6812 L389.1476,254.2162 C388.8985,251.2938,389.1089,251.2329,387.7261,249.0344 C386.5272,247.0281,386.446,247.0156,384.3376,246.0327 C382.2659,245.0677,382.1837,245.0588,379.8455,245.1434 C377.65,245.2261,377.3422,245.2148,376.2162,246.4714 C375.0555,247.741,375.0107,247.7332,375.4482,250.1375 L377.0433,266.4721 L373.9414,266.4728 L371.8309,251.9018 C371.0188,249.1578,370.9255,249.1036,369.4078,247.4146 C368.0237,245.8772,367.9391,245.8674,365.9767,245.5196 C364.0297,245.1816,363.9692,245.1744,362.2364,246.0352 C360.5579,246.8754,360.5028,246.8707,359.7013,248.6525 C359.3196,250.4183,358.9733,250.4047,359.8312,266.7122 L356.9537,266.7451 L356.1974,243.5685 L359.3117,243.1966 L360.056,247.0017 C361.7256,244.2976,362.0057,244.4919,363.2434,243.3233 C364.7195,242.2334,364.7169,242.2173,367.3803,242.2196 M411.7556,241.3756 C416.6957,241.3798,416.7193,241.378,419.4374,243.8116 C422.2431,246.4017,422.1946,246.2899,422.2148,251.1488 L422.1889,266.0057 L418.406,266.0056 L418.3948,252.1495 C418.1938,248.7146,418.3916,248.6295,416.3965,246.2974 C414.4068,244.1139,414.3044,244.0987,410.7391,244.0749 C406.7133,244.0755,407.1723,244.0682,404.7167,245.5222 C402.4415,246.9127,402.359,246.9067,401.3911,249.7247 C400.5031,252.225,400.4541,250.8419,400.5314,255.1781 L400.5225,267.1942 L397.0322,267.1943 L397.0422,242.8853 L400.0532,242.8861 L400.0553,247.6113 C401.7093,244.2016,402.1272,244.4797,403.7817,244.0164 C406.6185,243.2216,406.1812,243.2089,409.5756,243.5066 M442.644,240.9489 C445.5769,240.953,448.3727,240.9515,452.0781,244.0391 C455.4795,247.1189,456.6276,249.6794,456.3219,253.647 C455.7215,258.6155,454.6118,260.1738,450.8025,263.2509 C447.6619,265.7884,445.1431,266.4991,440.5214,266.4927 C435.2923,266.4925,435.0204,265.3566,431.1838,262.3158 C428.1469,259.5522,426.6734,256.3166,426.7503,252.7086 C426.5088,248.7561,427.7308,246.4049,430.9582,242.9005 C433.9146,240.0623,437.1469,238.7266,440.8727,238.7712 M440.8155,240.9552 C436.5914,240.9559,436.3945,242.0444,433.5162,246.5014 C431.5468,249.3445,430.8902,252.1877,430.7692,255.5216 C430.5628,258.738,431.2461,260.4504,433.4743,263.2774 C435.5362,265.5606,437.7387,266.8134,441.2172,266.7842 C445.789,266.7849,447.6018,265.3054,449.2628,262.0565 C450.3392,259.6083,451.2406,256.5194,451.1798,253.7081 C450.8526,250.652,449.3391,248.0832,448.2171,245.543 C446.5438,242.8668,443.9758,241.1395,440.8355,241.2169 M476.9585,241.0906 C482.083,241.0947,482.0582,241.093,484.979,244.1092 C488.0783,247.3707,488.0355,247.2927,488.0791,252.8202 C488.0897,258.1616,488.1036,258.4368,484.5185,262.28 C480.9397,266.1552,480.8314,266.0695,475.1004,266.1915 C471.2285,266.215,471.1112,266.2081,468.3852,264.7713 C465.7469,263.3477,465.654,263.3316,464.5275,260.4426 L464.5122,275.6622 L460.8657,275.6622 L460.8573,241.2095 L464.4686,241.2098 L464.3982,245.5478 C466.4369,242.5216,467.0189,242.635,468.8569,241.3092 C471.0904,240.0749,471.0881,240.0572,474.9429,240.0686 M473.7171,243.0828 C469.9575,243.0835,469.9949,243.075,467.3037,245.2122 C464.6939,247.3717,464.6053,247.3707,464.117,251.3225 C463.9344,252.2857,463.954,252.3187,464.1198,257.0527 C464.3076,261.4062,464.4897,261.658,467.0146,263.2228 C469.3748,264.7395,469.4979,264.7691,473.3755,264.6864 C477.4749,264.6537,477.7546,264.637,479.8268,262.1835 C482.0954,259.7081,482.0838,259.6944,482.1791,255.4212 C482.0362,250.7943,482.2658,250.8204,480.067,247.9751 C477.8159,245.0348,477.7183,245.0141,473.3251,244.9587 M505.0246,241.3971 C508.0367,241.4015,510.792,241.3998,514.1918,243.7861 C514.9658,244.3179,515.4097,245.8315,514.5411,241.8781 C514.4722,241.0507,514.6076,240.4146,514.6472,240.8707 L516.6679,270.4664 C516.6506,274.2159,517.2387,276.6515,517.1247,275.137 C516.5173,275.2969,515.2559,274.7773,513.3527,275.597 C512.1349,276.1236,511.5657,273.543,511.6249,274.7426 C511.9548,272.8315,512.6781,270.5409,511.8119,264.4741 C510.5825,265.1273,507.1748,265.1102,503.4307,265.7196 C497.4893,266.5797,492.5447,261.6967,492.6145,253.8953 C492.4232,247.1883,498.0123,242.1993,505.0293,241.4663 M506.602,243.7452 C500.5158,244.1281,497.9283,248.7079,498.9593,253.0864 C499.5761,258.659,504.028,262.273,509.2725,262.6073 C513.1697,263.0366,516.7028,260.0545,517.0332,258.4436 C517.3197,252.2206,515.8177,248.2951,516.6878,245.9008 C514.8688,243.2993,511.0958,242.6433,508.0994,243.0459 M539.929,241.5331 C542.9165,241.5369,542.9805,241.5351,546.4736,242.8932 L544.8393,248.5738 C542.6983,247.2365,542.5073,246.9733,541.8937,247.2664 C540.2184,247.6267,540.83,247.7217,539.3327,249.6627 C538.0233,250.2059,538.3594,250.3885,536.5096,252.0259 C536.2295,252.4841,536.6324,252.6248,538.876,253.4338 C541.4358,254.3892,541.3688,254.2814,542.9405,254.8621 C544.4846,255.5973,544.5699,255.764,545.4091,264.7564 L539.456,264.7602 C539.1436,260.3345,539.0199,258.5831,538.9181,254.4012 C538.3846,250.0971,538.8421,251.213,534.0045,250.2227 C531.3459,249.9228,530.902,249.8858,529.3279,250.1486 C527.9489,250.5258,527.7927,250.399,527.3026,253.2366 C526.8325,255.4864,526.9174,255.5639,526.9337,257.5023 C526.7877,260.4778,526.9373,260.0999,527.3281,263.0962 C527.5092,265.0629,527.7655,265.1002,524.5198,265.808 C523.3327,263.3653,523.0802,265.0109,521.6602,262.908 C522.4005,258.3018,522.4738,259.8093,522.8112,257.0178 C523.3632,254.1412,523.251,254.0426,523.3528,249.5716 C523.2602,245.4141,523.4921,245.3422,523.1852,243.5512 C523.0943,242.3405,523.0068,242.4335,523.1894,241.7498 C524.1005,241.2925,524.3452,241.309,526.9575,241.2575 C527.8757,242.4818,528.0739,243.3231,529.0702,243.9213 C530.3669,242.4588,530.4282,242.9907,533.0791,241.8236 C535.8323,240.694,536.0363,240.6777,538.5932,240.6892 M562.4217,240.9517 C564.8971,240.9558,566.9043,240.9542,567.1584,241.9811 C567.2675,242.5211,567.3003,243.0572,566.4101,244.1688 C565.4229,244.1052,564.4312,242.6816,564.2444,243.6524 C562.8859,244.3042,561.5325,245.1691,560.909,246.1124 C559.8165,247.2805,562.2539,249.0922,565.2872,250.4405 C569.8699,251.8205,574.3746,253.6653,573.2243,257.2804 C571.9804,261.5934,566.992,264.3047,560.3624,264.3804 C555.9122,264.3807,551.9445,262.5216,551.009,261.507 C550.3089,260.8092,550.878,259.565,551.2822,259.0071 C552.2095,258.5216,554.9203,258.7943,554.6149,259.5591 C554.9702,261.1028,557.7644,262.2827,561.5246,261.7494 C565.3799,261.2039,568.3399,258.9943,568.4556,256.5064 C568.4459,254.0775,563.7271,251.965,558.9247,251.2143 C554.0832,250.3167,551.3328,247.8955,552.0977,244.7671 C552.9759,241.3831,557.2068,239.5588,561.6322,239.8078 M589.4516,237.1822 L589.4193,244.9352 L594.5443,244.9087 L594.5212,250.1164 L589.3873,250.087 L589.2424,261.9198 C589.5206,264.2059,589.3721,263.8185,591.4133,264.5014 C592.0745,264.624,592.0273,264.9719,594.3207,264.7193 L594.9707,268.8852 C592.7121,270.1965,592.1684,270.3833,590.9224,270.8962 C587.8257,271.6877,588.6521,271.7296,586.0585,271.8635 C582.7478,271.7983,582.3253,271.7478,581.8372,269.1081 C581.322,267.127,581.6161,267.1712,581.4718,263.0671 L581.3249,252.5476 L577.7598,252.5995 L577.8857,248.2968 L580.9897,248.1008 L581.1655,241.6858 L589.2451,239.5213 M601.17,242.1116 L602.2209,242.8172 L602.1995,257.8524 C602.5004,261.5386,602.3152,260.7534,603.5361,263.3961 C604.6739,265.7352,604.6778,265.7368,606.7562,266.8654 C608.8281,267.9768,608.8335,267.9726,611.3542,267.9479 C614.7135,267.9479,614.2093,267.9405,616.8272,267.0055 C619.3532,266.0428,619.3364,266.0354,620.9629,264.2232 C622.6161,262.3672,622.5997,262.3571,622.8206,259.9557 L622.8512,245.2656 L624.7001,244.7457 L624.7316,261.9415 C624.582,264.8172,624.7356,265.4797,623.7982,267.0096 C622.9399,268.591,622.8909,268.5829,621.2903,269.7593 C619.6927,270.933,619.6242,270.9282,617.3749,271.595 C615.1342,272.2523,615.0605,272.2446,612.4114,272.2524 C609.5788,272.253,609.5836,272.2456,607.3123,271.545 C605.0551,270.8277,604.9674,270.8162,603.2694,269.4013 C601.591,267.9993,601.4996,267.9919,600.5293,265.9041 C599.58,263.8199,599.5035,263.8125,599.5197,261.1789 L599.5061,246.5578 L601.4938,246.1684 M636.3044,241.7352 L645.613,260.4565 L652.7978,241.1202 L657.7738,241.1089 L646.3145,267.6649 L640.8729,267.6623 L629.2671,242.4403 L634.0079,241.7194 M666.6548,241.6024 L670.4308,241.6538 L675.9312,259.3438 L681.1207,241.3136 L685.2746,241.3153 L691.2512,260.6759 L697.6758,242.8783 L702.0537,242.8778 L692.3924,269.3112 L688.362,269.314 L681.5116,251.0182 L674.8794,269.0813 L671.3574,269.0844 L662.3092,244.9324 L665.5456,244.3826 M709.9547,241.4593 L714.6244,241.5032 L721.6227,250.1753 L729.3515,241.5556 L734.7811,241.5556 L723.5738,253.02 L735.5687,266.6749 L730.5888,266.6772 L721.0507,256.454 L711.7868,266.3086 L706.5892,266.3122 L718.3987,253.7195 L707.9892,242.0323 M742.6221,241.8899 L750.8554,260.7366 L756.8232,242.1643 L762.5081,242.1585 L751.2868,273.9965 C748.854,280.3917,747.9282,279.1725,746.4896,281.4014 C744.2888,283.7108,743.878,284.2581,740.3249,284.8596 L740.1042,281.9122 C742.7495,281.465,744.1564,280.7364,745.6341,278.967 C746.7769,277.216,747.7886,275.2095,748.5323,272.6699 L740.1184,247.6115 L744.1506,245.6958 M769.7976,241.5027 L793.4811,241.5612 L794.0878,242.6436 L773.632,263.9427 L782.4315,263.9399 C786.4904,263.9344,790.4514,263.458,789.5906,262.5323 C789.2635,261.8553,788.5235,261.3899,788.1414,259.6729 L790.4391,258.5693 C790.625,260.9193,790.7969,262.5927,791.6539,265.1011 L769.7182,265.3431 L769.0636,264.0323 L775.277,263.7542 L783.7164,244.0755 L776.1341,244.0773 C773.0623,244.8387,770.767,246.3121,769.6529,247.3022 C768.7556,247.9871,768.9802,247.4274,768.2622,248.6367 L767.0435,248.8326 C767.8984,247.05,768.5728,243.2481,769.6081,240.627\" fill=\"rgb(40,40,40)\"/>\n<path d=\"M13.4277,294.5493 C16.2085,294.5536,18.7421,294.5517,21.9298,296.7872 C22.6917,298.6038,23.0409,299.8501,22.4403,303.6202 L22.3834,316.1006 C22.6167,317.9625,23.0832,318.5951,24.6774,319.0336 L25.4003,319.8585 C24.0145,319.904,23.104,319.8622,20.8879,319.8335 C19.1505,318.9933,18.3957,317.6482,17.9003,317.8132 C16.069,319.25,12.8695,320.0926,10.0115,320.2225 C4.8195,320.4109,0.6592,316.4857,0,310.7802 C-0.6455,305.2801,4.5236,300.7981,11.2607,299.923 C13.9493,299.5012,16.2646,299.0234,17.2453,299.6169 C18.1181,298.3687,16.0545,298.5288,13.1772,299.7949 C9.9224,301.1425,6.4566,302.0925,4.6414,303.1335 C2.7148,303.8461,2.1224,303.6511,2.3176,303.3331 C3.1653,302.685,5.8886,298.7365,8.8391,297.7233 C10.4627,297.0182,12.0379,296.6768,12.4394,296.7229 M10.7899,307.6919 C6.9498,308.478,4.173,310.9866,3.19,312.8307 C1.8603,315.841,3.7427,318.1912,9.1714,319.2358 C12.699,319.9106,15.6289,319.362,17.2616,319.2574 C20.0419,318.9959,21.3778,317.5968,22.3637,315.5199 C22.7525,312.9109,22.4811,308.8549,22.3769,308.358 C20.7857,307.4063,16.3413,307.115,11.3971,307.3126 M33.5535,284.9216 L34.3023,298.1747 C36.1877,296.1486,36.973,295.2851,39.2851,295.3961 C45.1183,295.8392,49.9082,297.7848,48.9524,295.7436 C50.2451,296.5438,53.032,298.8803,53.8604,300.0494 C55.7068,303.6196,55.9716,308.8579,55.5668,310.3641 C54.1506,314.5087,49.5741,317.626,43.9387,317.3303 C39.8403,317.0584,35.4189,315.5538,36.992,312.9626 L37.0645,312.7214 C37.3517,314.0405,38.2866,313.9672,39.5869,315.1805 C41.9454,316.3913,44.4349,316.06,45.743,315.3079 C48.2526,314.0172,48.9997,310.976,48.8354,307.8816 C48.3846,304.5086,45.6783,300.3997,41.6764,300.7544 C38.5165,301.2254,35.9054,303.5118,35.9576,303.9606 L35.9719,316.05 C35.7234,317.2481,34.3328,317.7511,32.6398,318.149 C31.2078,318.456,30.3794,317.0626,30.4198,317.1953 L30.4135,285.0716 C30.2947,284.2372,29.8204,283.5936,29.9357,282.8969 C30.3652,282.0494,31.4107,281.6885,32.6379,281.7905 M74.7941,294.3251 C78.7528,294.3292,79.0894,294.3275,82.0182,295.7946 C82.9784,296.3041,85.6621,296.2653,85.266,299.8602 C85.1993,300.8265,84.5613,300.9713,84.0312,301.1923 C83.4712,301.4418,83.3616,301.3477,82.2984,301.3456 C80.8952,301.3459,80.593,301.1984,80.3062,300.8101 C79.8174,300.3377,79.9166,299.9532,79.7196,299.4069 C79.0433,298.5067,78.5042,297.2819,75.2581,296.8275 C72.1164,296.5902,72.0186,296.5812,70.3933,296.5528 C66.7086,296.5524,64.255,297.3134,64.5414,300.5523 C64.4756,303.0002,64.8997,304.6075,65.7299,309.1063 C66.5972,313.7894,67.5642,315.7339,73.7477,316.6409 C76.5183,317.0778,78.4451,317.0284,79.5535,316.9119 C81.7707,316.6008,82.8827,316.2116,84.1028,313.9408 C84.2837,313.2707,84.638,313.0963,85.1781,313.2136 C85.5508,313.3218,85.924,314.0125,85.9759,314.0695 C86.2451,315.2557,85.9073,315.8387,85.5046,317.0954 C84.0901,319.3602,80.6797,320.1966,76.6826,320.5645 C71.1712,321.2156,71.9092,319.6953,64.2019,319.8301 C60.8332,319.8573,59.9822,318.8007,60.1022,315.7069 C60.1754,313.4923,60.8781,306.5358,60.8943,303.2199 C60.6691,298.9331,64.4043,295.2584,68.9562,295.2819 C70.6901,295.2804,71.9962,294.9921,73.5219,295.2507 M113.9807,285.1993 L116.44,285.243 L116.2748,315.1564 C115.8685,317.8411,115.6458,318.4667,111.8848,319.4829 C108.6559,320.1069,104.2822,320.3274,106.459,320.1238 L99.4693,318.7404 C95.0632,317.6936,91.2935,314.1906,90.5113,308.2986 C89.3476,302.6973,92.0561,296.3796,96.7794,294.5078 C100.5744,293.2677,104.6624,294.2878,104.4923,293.6353 C104.594,291.7767,106.0947,291.6645,108.5944,292.7812 C109.9769,291.9791,110.6498,291.4541,111.0227,292.8282 L111.482,284.706 M103.9469,296.07 C99.1523,296.5543,96.4521,299.99,95.6406,305.8524 C94.8445,312.471,97.2936,316.373,103.6288,316.6346 C108.1355,317.0563,111.9782,313.8432,111.9951,308.0235 C111.8038,302.1142,108.301,297.4176,103.6338,297.7477 M131.482,294.3244 C136.209,294.3283,136.3078,294.3267,139.4451,296.82 C143.0085,299.6882,142.7921,299.4436,143.0142,304.4072 L124.601,304.3826 C124.3959,308.1066,124.5131,309.7061,124.6187,309.7024 C125.4765,314.6443,125.0752,313.7245,128.8025,315.112 C131.6333,316.0085,131.6302,316.0931,135.0916,316.0341 C139.1885,316.0202,138.7981,316.0063,141.5534,314.8091 C144.0798,313.6251,144.342,313.6104,145.777,311.519 L146.9664,313.4246 C144.8562,316.4929,144.4916,316.0589,142.0029,317.912 C139.4055,320.1367,139.3317,319.6058,136.1068,320.2831 C134.9537,320.7132,133.2273,320.7142,134.4624,320.5293 C132.0398,319.599,133.1926,320.03,129.4121,317.9437 C126.1012,316.0336,126.018,316.0047,123.498,312.5602 C121.0491,309.21,120.9585,309.1904,120.9754,305.2477 C120.751,300.7235,120.9848,300.7943,123.7061,297.3471 C126.6536,293.9269,126.6394,293.8995,130.9011,293.3986 C132.426,293.2432,132.6544,293.225,134.4335,293.166 M132.8053,295.3249 C129.6611,295.3253,130.3144,295.3174,128.1526,296.4744 C126.1246,297.6253,126.0615,297.6209,125.1434,299.9852 C125.7433,301.0071,124.7178,300.7419,125.2316,301.0327 L141.95,301.13 C141.7188,298.4065,141.5709,299.3056,140.7436,297.9045 C138.9934,296.0853,138.7003,295.921,133.5518,294.7978 C132.3465,294.5501,132.4184,294.539,131.203,294.5367 M167.1316,284.425 L172.2293,285.289 L171.9172,290.4988 L166.7996,290.2636 C165.0875,290.2622,164.7483,290.2552,164.7161,292.9623 L164.6804,296.3885 L170.1767,296.389 L170.1603,301.9237 L164.8566,301.9082 L164.7248,319.82 L157.48,322.6542 L156.8329,315.2184 L156.8389,309.563 L156.8234,306.4878 L156.8573,303.743 L156.7878,301.3987 L156.6417,299.9684 L156.4101,298.8562 L156.2084,297.7421 L155.958,296.4906 L155.6841,295.2874 L155.3815,294.1389 L155.0604,292.9525 L154.7242,291.85 L154.3786,290.9258 L154.0259,290.1944 L153.6984,289.6374 L153.4201,289.2799 L153.2316,289.4203 L153.1151,289.6901 L153.0661,289.9413 L153.0575,290.3547 L152.9992,290.0885 L152.8768,290.0758 L152.8924,290.4763 L152.8837,290.8489 L152.6503,290.769 L152.6036,290.8101 L152.6377,290.901 L152.5401,291.1807 L152.3116,290.8568 L152.1346,290.6755 L152.1536,290.9388 L152.2513,291.0331 L152.2907,291.2014 L152.1746,291.4587 L151.9599,290.1906 L151.8116,290.0832 L151.7025,290.2745 L151.6169,290.4871 L151.5019,290.4089 M185.7957,294.3577 C188.5713,294.3619,190.9401,294.3604,190.8878,296.2653 C190.7858,297.1964,190.0317,297.9076,189.1993,298.0431 C187.6602,297.046,185.0172,296.2975,186.4427,294.624 M183.5959,296.0681 C180.3092,296.0609,179.326,301.7788,180.0884,303.9124 C181.1101,308.9519,184.7859,312.3135,189.1577,312.2643 C192.4335,312.2507,194.9123,309.1079,195.1954,304.0826 C195.5575,300.6262,193.4635,298.5745,191.3094,296.6386 C190.9491,295.8796,192.8317,295.6059,195.3504,295.6426 C199.163,295.658,202.319,302.0748,202.3367,312.4172 C202.3793,322.1218,195.8558,328.5786,188.5769,328.9948 C182.4359,329.4702,177.5151,324.3496,176.7647,317.5197 C176.6531,314.6507,179.955,313.7415,184.0345,313.977 C186.4532,315.5188,187.7526,318.8842,188.4948,319.5746 C190.5067,321.7472,191.6442,321.6249,192.2355,321.0945 C193.8729,319.6756,193.2181,315.4016,190.601,311.9524 C187.8545,310.2199,184.0472,310.197,181.6088,310.2813 C178.7644,308.8999,178.0625,305.6647,179.2449,300.4479 C180.136,297.1744,183.5042,295.0525,185.491,295.8758 M207.7887,285.0351 L208.483,285.5021 L208.4733,299.4211 C210.2846,296.6188,210.9386,296.6534,213.8007,296.3894 C218.4571,296.2705,223.1314,298.9548,221.5068,296.3112 C222.324,296.3043,224.859,297.9196,225.7417,295.7434 C227.0654,296.0977,228.597,297.9188,228.1625,296.5384 L229.769,297.7954 L230.7293,314.1235 C230.883,317.941,230.8644,319.9424,230.6907,318.9699 C229.8989,319.6578,228.4786,318.987,227.2817,319.89 C226.0314,320.4517,225.352,315.6881,225.5748,317.8422 C225.9659,315.116,226.6264,312.459,225.7573,304.3966 C225.03,300.274,222.4198,296.9953,218.9102,296.8684 C214.8623,297.1768,211.971,300.4493,211.4402,301.6151 C210.4415,302.9967,210.2363,309.3318,210.5862,315.2744 C210.6293,316.9668,209.5395,318.9182,208.441,318.477 C207.0051,317.7605,206.5449,316.4842,206.8721,314.9756 C206.9677,308.127,206.9118,302.1528,206.8903,290.2803 C206.8227,288.3087,206.9764,285.9015,207.7998,286.0117 M239.5617,286.6453 C241.0183,286.6492,241.0752,286.6474,244.2429,287.4819 C245.2794,287.751,245.2556,287.7281,247.0821,293.0321 C246.1173,296.5296,245.8794,295.7109,242.4797,298.0708 C240.1819,299.6759,239.4132,298.3616,237.8331,300.2748 C237.2385,298.2805,237.2389,298.8539,236.365,294.6106 C235.9561,291.2929,235.9105,291.1534,235.2647,290.0848 C236.0922,287.9814,236.3627,288.2895,238.1401,287.2949 M240.3509,298.7628 C241.7194,298.7613,242.1027,298.7541,243.3604,301.3072 C244.1872,303.6638,244.3951,303.7239,244.461,305.4975 C244.5698,310.0432,244.5732,308.7768,244.2914,311.5383 C244.0102,314.493,243.9864,314.8179,243.4352,316.892 C242.622,318.8397,242.6005,318.9508,241.1794,319.1986 C239.6567,319.2119,239.5195,319.1557,239.024,317.3244 C238.6019,315.5604,238.5537,315.5638,238.3377,313.7364 C238.1331,311.886,238.0906,311.8715,237.8656,307.7129 C237.6337,303.7457,237.5846,303.7098,237.6161,301.7075 C237.4311,300.1463,237.6181,300.0908,238.3229,298.7353 C239.1489,297.3812,239.2207,297.3545,240.6513,297.3907 M255.7745,286.5387 C257.2878,286.5428,257.4089,286.5409,261.1081,287.2294 C261.7066,287.42,261.6597,288.877,263.0912,292.5933 C262.1636,294.5456,261.9322,294.597,258.038,296.7996 C255.7719,295.7305,255.3373,296.2283,254.0135,295.9183 C252.461,293.5759,252.3284,294.2705,251.7983,292.475 C251.9949,289.4036,252.1342,289.8813,253.4449,288.5502 C254.5004,287.4535,254.6867,287.4111,256.1114,287.2959 M259.0416,299.1732 C260.5247,299.1731,261.0011,299.4169,262.2159,301.9466 C262.7867,303.9369,262.8397,310.2534,263.0745,309.1593 C263.3884,312.4714,263.4583,314.7202,263.2791,313.8192 C263.0331,317.1117,262.2339,319.0063,262.8559,317.923 C263.0698,319.6812,262.5537,320.8424,263.0183,319.795 C263.2181,321.1138,262.7138,322.2486,263.2714,321.5029 C263.4897,322.8779,262.8729,323.9323,263.5407,323.4474 C263.7263,324.7141,262.8856,325.7254,263.8125,325.5102 C263.9871,326.5823,262.9966,327.5672,263.9695,327.5628 C264.1883,328.44,263.1608,329.3364,264.0496,329.5011 C264.0314,329.9101,262.396,331.9569,263.6051,331.7127 C263.5676,332.6374,262.1665,333.1187,263.4553,333.5941 C263.0981,334.0774,261.0887,335.3823,258.9433,335.4209 C256.7221,335.5912,254.7244,333.1501,255.6254,332.0526 C255.6103,331.3301,255.0435,328.3054,255.5187,329.0828 C255.803,329.0878,255.3855,325.9985,255.3937,326.6042 C255.4209,324.9353,255.2192,322.7959,255.0455,323.2541 C254.892,322.1223,254.6409,320.2759,254.4294,320.8869 C254.2811,319.8137,254.0246,318.0123,253.843,318.3604 C253.7146,317.219,253.4977,315.5839,253.2338,315.8685 C253.2445,314.73,253.1918,313.1629,252.8664,313.1416 C252.9298,312.2975,253.039,311.0217,252.5921,311.2744 C252.7623,310.1843,252.9111,308.8016,252.428,308.6098 C252.7157,307.5737,253.1289,306.3035,252.4434,306.595 C252.5623,305.5955,252.9282,304.3729,252.0649,304.2423 C252.2523,303.0562,253.275,301.9272,251.9141,302.0136 C252.0244,301.0528,253.3653,300.1803,251.6176,300.0237 C252.1721,299.0462,254.3931,298.6309,256.8421,298.4732 M269.8183,285.1029 L270.8154,285.6644 L270.8037,304.8668 L278.1628,295.232 L284.5121,294.5706 L286.4642,298.7557 C285.3882,301.2747,282.8026,302.8906,278.7315,303.4792 C281.4255,306.5036,287.2518,309.5346,291.4308,316.0816 L292.6535,319.6829 C288.2227,316.3559,286.5823,313.191,280.8421,306.778 C278.0325,307.6513,273.8869,309.092,271.8142,308.4957 L271.7994,321.2272 L269.5915,321.3952 L269.2296,290.939 L268.5851,288.2785 L270.4767,287.4942 M298.7498,284.3589 L305.4384,284.3983 L305.2676,318.2607 L297.1953,318.2535 L297.1889,283.1992 M324.8458,294.697 C328.4892,294.7015,328.7967,294.6998,330.8708,296.4903 C333.2347,295.1449,332.9013,294.5931,335.4821,295.041 C339.2202,295.3131,338.6604,295.3069,341.0528,297.0204 C343.2302,298.6177,343.2244,298.617,344.212,301.1044 C345.1681,303.5146,345.1565,303.4904,345.0793,306.7208 L345.0478,321.7529 L341.8681,321.7537 L341.8545,307.2185 C341.6482,304.3504,341.8494,304.2558,340.5672,301.9969 C339.4449,299.8522,339.3595,299.8437,337.2848,298.7767 C335.2389,297.7342,335.1585,297.7229,332.8338,297.8047 C330.6778,297.8732,330.3552,297.8619,329.3622,299.1404 C328.307,300.4331,328.2599,300.4272,328.509,302.9302 L329.9665,320.3263 L326.9391,320.3272 L324.9334,304.3997 C324.1965,301.7744,324.108,301.7439,322.6649,300.1291 C321.3366,298.6062,321.2554,298.5975,319.3864,298.2119 C317.5284,297.8352,317.4699,297.8258,315.8094,298.5943 C314.1898,299.3438,314.1328,299.3403,313.3157,301.0245 C312.5904,302.6812,312.5522,302.6719,313.2335,320.6492 L310.5042,320.649 L309.9738,295.915 L312.8772,295.6497 L313.0548,299.2169 C314.4735,296.6635,314.7981,296.7686,316.1833,296.3991 C317.7101,296.0371,317.71,296.0258,320.1996,296.1521 M363.6836,294.3384 C368.5426,294.3427,368.5652,294.3408,371.2261,296.8396 C373.9752,299.4772,373.9232,299.3697,373.9217,304.2605 L373.8949,320.1422 L370.1991,320.1423 L370.1874,305.1982 C369.9907,301.7429,370.1859,301.6702,368.2009,299.3585 C366.2582,297.1968,366.1562,297.1808,362.6806,297.1569 C358.7211,297.1576,359.1638,297.1503,356.7607,298.6575 C354.5462,300.1029,354.4595,300.0967,353.6406,303.0092 C352.9528,304.0203,352.915,304.0301,352.9883,308.1872 L352.9826,321.1413 L349.6249,321.1415 L349.6147,295.6635 L352.5811,295.6642 L352.5612,300.2709 C354.1413,296.8947,354.5263,297.1542,356.1786,296.849 C358.9034,296.2473,358.5192,296.2341,361.6294,296.5115 M393.7594,293.9469 C396.6167,293.951,399.3553,293.9494,402.9423,297.1867 C406.2659,300.3445,407.3064,303.0704,407.0343,307.1252 C406.4741,312.2319,405.393,313.795,401.8149,317.0429 C398.791,319.7344,396.3189,320.5018,391.8081,320.5245 C386.6824,320.5246,386.4501,319.3482,382.7226,316.1826 C379.7963,313.3158,378.4289,309.8878,378.4572,306.1167 C378.2187,302.1244,379.5317,299.5823,382.8389,296.252 C385.7554,293.5345,388.9235,292.2855,392.3125,292.2765 M392.2562,294.3583 C388.6332,294.3587,387.8748,295.4624,385.1649,300.0755 C383.2938,302.9958,382.6735,305.9341,382.5491,309.3371 C382.3401,312.7465,383.0327,314.5406,385.2744,317.5079 C387.3001,319.8599,389.4524,321.1749,392.7883,320.5391 C396.4378,319.9153,398.7473,317.4231,400.0619,314.5632 C401.0689,311.9454,401.8348,308.6967,401.4308,305.9474 C400.8964,302.866,398.9385,300.4269,397.391,297.6966 C395.711,295.3636,393.3742,294.087,390.7926,294.201 M427.1307,294.0872 C432.2068,294.0913,432.1586,294.0896,435.0361,297.2522 C438.0788,300.6278,438.0366,300.5383,438.064,306.2433 C438.0705,311.7873,438.085,312.0755,434.5864,316.0632 C431.0756,320.1342,430.9723,320.0199,425.236,320.1704 C421.4842,320.2062,421.3596,320.1992,418.7263,318.702 C416.21,317.2253,416.122,317.2119,415.098,314.3006 L415.0828,329.7334 L411.5783,329.7335 L411.5697,294.3373 L414.894,294.3373 L414.8065,298.6183 C416.7626,295.5898,417.3274,295.6292,419.1126,294.3602 C421.3374,293.1303,421.3336,293.1168,424.9461,293.1269 M423.7486,296.0449 C420.0251,296.0455,420.0603,296.037,417.4666,298.2147 C414.9319,300.4278,414.8456,300.4312,414.4426,304.5303 C414.3367,305.4538,414.3292,305.4931,414.4433,310.5303 C414.5626,315.1058,414.7543,315.3646,417.0975,317.0043 C419.3531,318.6651,419.4796,318.6963,423.3663,318.6171 C427.4321,318.5897,427.7048,318.5737,429.7202,315.9927 C431.8899,313.3974,431.8816,313.3845,431.9562,308.9201 C431.7779,304.0582,432.0048,304.0743,429.9327,301.1049 C427.7833,298.0042,427.6838,297.9785,423.3257,297.9133 M452.4936,294.4069 C455.4162,294.4113,458.1392,294.4096,461.4054,296.9162 C462.0966,297.4144,462.5347,298.5106,461.7241,294.7039 C461.9509,294.1032,462.1983,293.6416,463.9385,294.0134 C464.614,294.5442,464.6495,304.0205,464.722,324.0681 C464.9081,327.8375,464.7172,330.1131,464.513,328.6587 C463.6915,326.2712,463.032,323.0168,462.4556,315.5272 C460.6499,317.9647,457.0704,319.1379,453.3525,320.0297 C447.4356,321.0885,442.3969,314.3718,442.5995,305.8682 C442.3656,298.4409,447.7826,292.9141,454.5395,292.0276 M455.8608,294.5956 C449.7105,295.0804,447.1884,300.6713,448.3489,305.4255 C449.1445,311.4528,453.4197,315.2666,458.0782,315.6443 C462.6925,316.1466,466.2634,311.9604,466.8329,305.9015 C467.1376,300.3864,463.1786,294.8997,457.8993,294.2353 M472.6172,294.6176 L486.1273,294.6679 C490.1878,294.6662,491.213,294.6687,491.4573,296.0356 C491.4442,300.8459,488.6019,302.556,485.1627,303.1565 L490.6351,314.9155 C490.9048,316.4633,490.8037,317.0417,489.0416,317.3532 C487.6364,317.4664,487.3194,316.5632,486.9305,316.4118 L483.2591,305.4475 L475.3521,305.4555 L475.3386,315.7728 C475.351,317.117,474.5731,317.6409,472.9578,317.4356 C471.5703,317.194,471.0201,315.871,471.3746,314.3618 L471.3683,293.7308 C471.2152,292.3591,471.9083,291.5279,473.7302,291.2066 M484.1724,294.5726 L475.9012,294.5767 L475.0403,304.2234 L481.8315,304.2206 C485.6302,304.2193,489.3338,301.9108,488.9468,299.0285 C488.6187,296.62,486.6844,295.4192,483.1339,295.5563 M506.4049,294.0129 C508.8621,294.0169,510.8244,294.0153,511.074,295.0632 C511.1819,295.6123,511.2977,296.1379,510.4635,297.2035 C509.5242,297.2386,508.6859,295.6807,508.4363,296.8216 C507.1648,297.4707,506.0342,298.3311,505.7718,299.2147 C505.2123,300.388,508.178,302.1972,511.3504,303.6068 C515.9137,305.1494,518.6602,307.3369,518.6826,311.4207 C518.7287,316.2763,513.6475,319.6117,507.0529,319.9459 C502.3178,320.2929,497.6531,318.0649,496.1861,316.5313 C495.3618,315.7333,495.8443,314.4419,496.4478,313.9389 C497.4761,313.4771,500.1396,313.739,503.2886,314.6041 C506.6183,315.3895,509.4249,315.532,509.7517,314.2777 C510.8463,312.3632,508.0575,310.2415,504.5868,308.2928 C499.7145,306.2359,495.9245,304.072,495.9927,300.8002 C495.631,296.719,499.632,294.1262,504.8481,294.0446 M533.9418,289.2306 L533.9099,299.1514 L538.8972,299.1271 L538.8836,304.0113 L534.0062,303.956 L533.8618,315.7182 C534.1561,318.0386,533.9974,317.6166,536.1302,318.3823 C536.7759,318.5561,536.7451,318.8707,539.1532,318.6769 L539.8108,322.6551 C537.6017,323.9843,537.0946,324.1447,535.9419,324.7158 C532.956,325.5266,533.7921,325.5866,531.325,325.748 C528.1414,325.7118,527.7333,325.6395,527.3003,323.0293 C526.7687,320.9985,527.0645,321.0569,526.9042,317.0864 L526.7074,305.759 L523.2181,305.8143 L523.3247,302.0158 L526.4439,301.7764 L526.6401,294.2423 L534.2191,291.8958 M544.7291,295.0518 L545.8818,295.665 L545.8533,311.2129 C546.1645,314.8685,545.9825,314.1478,547.2048,316.6442 C548.3715,318.8728,548.3798,318.8707,550.5098,319.9272 C552.5992,320.9473,552.6017,320.9441,555.0083,320.9031 C557.2943,320.8798,557.3181,320.8684,558.8332,319.7497 C560.4417,318.6657,560.4329,318.6561,561.46,316.6991 C562.4855,314.7639,562.4737,314.7595,562.7837,312.1487 L563.7495,297.4386 L565.5856,297.105 L565.4571,316.3502 C565.2709,318.8933,565.4256,319.4558,564.8458,320.9802 C564.3026,322.5327,564.2567,322.5253,563.168,323.7336 C562.073,324.9372,562.0179,324.9308,560.3368,325.7333 C558.6713,326.5106,558.6005,326.5047,556.4752,326.6347 C554.1506,326.7565,553.7538,326.7499,552.1109,326.1636 C550.3522,325.5939,550.2756,325.5835,548.8958,324.4469 C547.5025,323.3185,547.4217,323.3086,546.4467,321.6419 C545.4792,319.9822,545.4038,319.975,544.9148,317.9164 C544.3671,315.2459,544.2503,314.8119,544.3462,300.8046 L545.361,300.3461 M576.7293,294.6898 L586.0513,315.0144 L593.329,294.0155 L597.9628,294.0051 L586.7218,321.7348 L581.6646,321.7346 L570.1211,295.3217 L574.526,294.6046 M606.4347,294.5864 L609.8197,294.6376 L615.1103,313.4955 L620.0784,294.3096 L624.0296,294.3117 L629.904,314.6403 L636.0369,295.8803 L640.2594,295.8801 L631.4417,323.4819 L627.6049,323.4843 L620.8773,304.1049 L614.4678,323.0255 L611.145,323.0282 L602.4982,297.9875 L605.1918,297.423 M647.1554,294.4993 L651.4298,294.5434 L659.4149,303.7882 L667.4536,294.4929 L672.0668,294.4936 L660.9497,306.3963 L672.7457,320.4 L668.506,320.4018 L658.8594,309.9771 L649.3248,320.4327 L644.7949,320.4363 L656.1949,307.4843 L645.9964,295.5084 M679.6023,294.8593 L687.8089,315.0304 L693.6934,294.9622 L699.0558,294.9546 L688.3404,327.4614 C686.0051,334.0338,685.0792,332.8899,683.6609,335.0365 C681.4505,337.3754,680.9803,337.9124,677.3851,338.1763 L677.2811,335.1741 C679.6992,334.9321,680.9971,334.3715,682.4407,332.817 C683.6174,331.1819,684.6237,329.2743,685.3737,326.7931 L678.1494,300.7245 L681.8714,298.8065 M705.1214,294.5355 L728.3592,294.5963 L728.8884,295.6906 L710.0057,318.2439 L717.9154,318.4606 C721.9869,318.4573,723.0805,318.2322,724.7851,317.0462 C726.2134,315.8675,727.0774,314.9322,727.7155,312.7978 L728.9576,312.8936 C728.1167,315.162,727.3746,318.6679,726.9747,321.7203 C723.7997,321.4292,722.2136,321.3063,721.7454,321.3716 L703.9233,321.3961 L703.5913,320.3277 L723.9463,297.0152 L714.511,297.015 C710.9436,297.015,707.8075,298.4684,707.3458,300.3922 C706.8744,301.2984,706.7668,302.0717,706.3226,304.0365 L704.8673,303.9526 C705.2814,301.7315,705.6184,297.8773,706.0266,295.262\" fill=\"rgb(40,40,40)\"/>\n<path d=\"M12.9865,347.6123 C15.6961,347.6165,18.155,347.6147,21.2235,349.9223 C21.9155,351.7312,22.2278,352.9622,21.6749,356.7327 L21.6215,369.8804 C21.8365,371.7538,22.2996,372.4209,23.8915,372.852 L24.624,373.6358 C23.2616,373.6786,22.3638,373.6557,20.2541,373.6034 C18.6277,372.7559,17.8882,371.388,17.3984,371.6467 C15.6966,373.0156,12.65,373.7302,9.843,373.8734 C4.7474,374.0739,0.7168,370.3245,0,364.5775 C-0.6481,359.2418,4.4232,354.8003,10.9349,353.8604 C13.9186,353.4463,16.6203,352.953,17.1771,353.5505 C18.0929,352.0446,16.217,351.8332,13.4107,353.0001 C10.3178,354.258,7.1817,355.1826,8.011,356.3251 C8.167,356.9993,7.6185,357.3693,7.2362,357.2782 C5.4901,356.9405,3.8911,356.5675,5.582,354.5237 C6.9367,352.2216,9.0516,350.0544,10.9987,349.4664 C11.5713,348.9882,12.5035,348.9926,12.0992,349.2311 M8.4513,362.6465 C4.8659,364.119,3.2276,367.0872,4.4872,368.9239 C6.3922,371.7467,9.9225,372.7385,14.3655,372.0119 C17.6025,371.5155,19.207,369.6941,20.0133,367.34 C20.6557,365.7089,19.9501,361.9738,19.6627,362.0445 C17.5482,361.5552,12.4708,361.8494,7.228,362.1202 M31.5262,336.9393 L31.4853,350.8828 C33.2142,348.7042,34.0516,347.6999,36.4967,347.9887 C42.0314,348.5172,46.4637,350.5836,45.6322,350.8733 C47.9176,353.0536,50.6721,357.3758,51.342,360.2689 C52.1435,365.5553,51.2617,369.8581,44.448,370.9455 C40.2499,371.9487,34.9326,370.7088,31.8332,367.345 L31.8273,369.5749 L29.6391,371.3903 L29.1594,334.6844 L32.0808,334.0939 M40.9809,348.5865 C36.1855,348.721,33.3265,351.8458,32.3406,358.1722 C31.6927,363.7999,33.8098,367.7455,41.1024,367.7828 C46.3214,367.7832,49.8627,364.2448,50.0544,358.4873 C50.0443,352.7723,46.1163,348.8144,41.1022,348.4179 M66.5271,347.3633 C70.4677,347.3675,70.7683,347.3657,73.6778,348.9892 C74.6341,349.5407,76.6403,349.5045,76.8592,353.3652 L73.3419,353.3568 C72.6094,351.2249,72.3878,350.756,71.2557,349.8866 C69.415,348.4306,69.5621,348.366,65.9154,348.1971 C61.9304,348.1754,62.4081,348.3193,60.2206,351.7187 C58.1961,354.8568,58.3407,354.957,58.1152,359.957 C57.8931,364.0183,58.0645,364.3275,60.7868,367.2382 C63.5461,370.2934,63.5436,370.3419,68.1396,370.3146 C72.0052,370.3151,71.4252,370.3074,74.2409,368.9102 C76.8664,367.6139,76.7274,367.6037,78.1919,365.1811 L79.7888,366.5923 C78.0412,369.9161,77.7759,369.467,75.2844,371.5648 C72.5833,374.0103,72.5121,374.0515,67.9798,373.9582 C62.6175,373.9354,62.6102,373.9278,59.3144,370.509 C55.9806,366.9488,55.8596,366.922,55.8774,361.1838 C55.6582,355.2163,55.8868,355.3209,59.3217,351.5208 C62.9045,347.7503,62.8696,347.7371,68.1108,347.8077 M105.7512,337.5207 L107.811,337.571 L107.6429,370.47 L104.7414,373.0959 L103.5515,370.7311 C99.8522,372.6855,101.4045,373.0428,94.7475,373.2253 C88.3518,373.2848,89.3647,373.1125,86.5834,368.4656 C84.2817,364.3985,84.2159,364.5109,84.3242,358.6794 C84.2427,352.5538,84.52,352.6218,87.4158,348.369 C90.8506,343.8018,90.833,343.7584,96.6215,343.823 C101.223,343.8497,100.6964,343.968,103.7056,347.5074 L104.7818,336.4947 M96.809,347.2752 C90.8456,347.2745,92.4621,347.2655,89.6141,350.5302 C87.1992,353.7574,87.1366,353.7925,87.2149,359.0547 C87.1326,364.3181,87.2927,364.2735,90.1281,367.3792 C93.0999,370.5532,93.0905,370.5155,97.9192,370.5008 C101.8286,370.5013,102.2121,370.4945,105.096,368.1501 L106.192,352.7497 C103.0537,348.3076,102.4112,348.8046,98.1286,347.8299 M122.7719,347.3651 C127.4546,347.3692,127.5594,347.3674,130.6095,350.0179 C133.8927,352.9826,133.8306,352.7495,133.9869,357.8272 L116.0962,357.8039 C115.9215,361.826,116.0388,363.4746,116.1322,363.4473 C117.0007,367.5904,116.602,366.456,118.3094,368.0895 C120.2611,369.9905,120.5249,369.6551,123.5147,369.7685 C126.8977,369.8437,126.6651,369.8341,129.4149,368.4993 C132.1256,367.1855,132.1135,367.1709,133.5494,364.5157 L135.5979,365.7328 C133.7188,369.5253,133.6163,369.0644,130.4733,371.3277 C127.4176,373.4209,127.3324,373.4125,123.5327,373.4594 C118.6228,373.4587,118.6509,373.4527,115.5998,370.5027 C112.4677,367.3386,112.3319,367.3159,112.3464,362.14 C112.1253,356.378,112.3693,356.5208,115.6084,352.5149 C119.0946,348.4913,119.0536,348.4795,124.4887,348.5583 M124.3878,350.7416 C120.8821,350.7419,121.0167,350.734,118.6393,353.1806 C116.353,355.5366,116.2815,355.5529,116.0898,359.289 L132.7078,359.2888 C132.337,356.1354,132.6846,355.2502,130.6024,353.8988 C128.5819,352.3545,128.4817,352.3394,125.0669,352.332 M154.4184,337.1075 L156.154,341.6495 C154.4961,341.7766,153.9277,341.8893,151.1175,341.8542 C149.7887,341.8554,149.5788,344.7969,149.7176,350.2139 C151.2478,350.4194,154.9222,350.506,154.8987,350.1476 L156.5087,353.7027 C155.4945,355.1936,153.3387,355.961,151.1125,356.4091 C151.2786,361.8889,151.5908,365.7095,151.0886,374.5984 L143.9258,374.7859 C144.1483,365.9726,144.689,359.8135,144.6144,352.427 C143.1405,352.4455,141.4121,352.4123,140.1333,352.5566 L140.1797,348.9624 C141.1933,347.5396,143.1663,346.4608,143.7309,346.8617 C144.1284,340.9267,144.8868,338.6229,143.8827,336.8652 C146.312,335.743,151.922,335.3682,152.5234,336.3543 M170.5756,347.3849 C173.2937,347.3892,175.5892,347.3875,175.5684,349.3787 C175.4669,350.3425,174.7518,351.0783,174.0175,351.1585 C172.6652,351.1978,172.7024,349.07,171.7117,350.1749 C168.2698,352.0619,164.2272,356.6803,163.282,358.6822 C161.5397,361.2507,161.7499,363.9634,162.4057,368.2502 C162.8702,372.491,165.7467,375.2983,170.5549,375.6224 C174.1994,375.8934,177.6526,374.3908,177.6676,371.0794 L177.6588,359.0052 C177.5309,357.0617,176.6265,354.9292,175.947,355.149 C174.8197,355.3133,174.318,355.1985,174.3804,355.0277 C174.1671,354.6477,174.7153,354.342,175.0464,354.1607 C176.1786,353.8815,179.2203,353.7954,176.9247,353.8057 C175.8314,353.8058,175.6873,353.8367,175.6593,354.3594 C175.3807,354.8462,175.7071,355.2099,176.0596,356.4232 C176.3075,357.5318,176.7887,358.1659,177.3319,360.0567 C177.734,361.9042,178.2237,362.9664,178.668,364.9072 C179.0002,366.8832,179.4708,368.2269,179.6925,369.5883 C179.8217,371.1651,180.1542,372.1734,180.0793,373.6162 C179.7278,376.0285,178.9939,377.2015,178.1419,377.947 C176.546,378.9013,176.0512,379.2306,173.5413,379.1004 C169.4028,378.8754,169.1157,377.5887,165.7055,374.4689 C162.8239,371.4881,161.4093,368.1239,161.0441,363.8095 C160.5084,359.528,161.5758,357.1616,163.7334,353.119 C165.7869,349.5977,168.3725,347.694,172.1369,347.951 M187.0589,336.9675 L187.0247,351.3447 C188.765,349.2576,189.5618,348.1645,192.0601,348.4054 C197.0488,348.862,201.1249,353.0164,200.3477,348.7855 C201.3422,348.6716,204.1924,350.3509,204.7516,349.7367 C206.0834,351.1618,207.3835,353.0164,207.3022,351.5019 L208.4085,369.0975 C208.6063,371.3752,207.9995,371.9563,207.5787,372.2039 C206.24,372.5917,205.3121,371.8201,205.1975,370.1377 L203.3743,352.6588 C202.2823,350.1054,198.475,349.7151,195.1987,349.8365 C191.3603,350.2223,189.1718,354.1249,188.9387,355.8867 L188.1272,370.8123 C187.5214,372.1873,186.0154,372.4479,185.1147,371.9272 C184.3945,371.2284,184.1842,370.2414,184.6148,340.5078 C185.0055,339.2773,185.8444,338.2992,187.6588,338.1305 M217.158,338.1998 C218.5688,338.2034,218.5583,338.2015,220.2585,339.1106 C222.1027,340.0944,222.0246,340.0026,222.3036,341.3533 C222.3743,341.8257,222.3431,341.7996,219.4375,343.3579 C216.825,344.8046,216.8058,344.756,215.6309,345.1671 C214.2259,345.125,214.0826,344.9524,213.5358,344.2278 C213.0004,343.4623,212.9496,343.4486,212.9439,342.3104 C212.9996,340.981,212.9562,340.9315,213.6524,339.6679 C214.3553,338.4524,214.3512,338.4335,215.4271,338.2746 C215.8469,338.2032,215.8042,338.1941,216.4944,338.165 M216.2299,349.1105 C217.7668,349.1106,217.3773,349.1013,219.0313,349.6723 C220.578,350.2303,220.5865,350.2254,221.3435,351.2357 C221.6292,352.6196,221.5714,352.8917,221.647,355.3627 C221.7353,357.9425,221.7453,357.8011,221.6925,360.1701 C221.6453,362.4647,221.6294,362.4646,221.5589,364.7473 C221.4978,366.9593,221.4735,366.9532,221.4501,368.6978 C221.4407,370.3836,221.4377,370.5642,221.4699,371.4197 C221.4974,372.2616,221.5082,372.2612,221.5603,372.8193 C221.4122,373.3721,221.3501,373.3692,221.265,373.7215 C221.16,374.0502,221.1357,374.0439,220.8476,374.2203 C220.5683,374.3849,220.5397,374.3785,220.0256,374.4495 C219.5225,374.5196,219.4767,374.5124,218.8758,374.5313 C217.7468,374.5314,217.5999,374.5245,217.0365,374.3373 C216.4693,374.1399,216.424,374.1326,216.0399,373.7945 C215.6556,373.4635,215.6113,373.4533,215.337,372.9674 C215.0707,372.4842,215.0252,372.4777,214.8926,371.8726 C214.5345,370.2693,214.4616,370.0022,214.4934,368.1805 C214.4932,366.3151,214.5082,366.3035,214.5202,364.4627 C214.5302,362.6019,214.4848,362.5961,214.4859,360.8378 C214.4845,359.0797,214.4333,359.0674,214.4306,357.616 C214.4206,356.1609,214.3889,356.1484,214.3893,355.0882 C214.3852,354.0192,214.3524,354.0099,214.3869,353.2341 C214.4137,352.4729,214.4165,352.4585,214.727,351.8298 C215.0447,351.2054,215.0423,351.196,215.6214,350.9293 C216.1986,350.6482,216.1988,350.6357,216.9448,350.6307 M241.5863,338.2219 C243.098,338.2256,243.0671,338.2238,244.8101,339.0607 C246.6481,339.8681,246.6007,339.8686,246.9653,341.2534 C247.0676,341.7777,247.0369,341.7443,246.7496,343.3813 C246.4472,344.7835,246.4179,344.9419,245.9247,345.6605 C244.8836,346.6609,245.1851,346.7541,243.6493,347.2834 C242.1749,347.7862,242.1201,347.7807,240.7602,347.7414 C238.8776,347.716,238.7779,347.7065,238.1617,347.0166 C237.5528,346.1673,237.5079,346.1539,237.2062,344.7249 C236.9298,343.3714,236.8945,343.3664,236.9997,342.3432 C237.1296,341.3322,237.1336,341.3154,237.5859,340.5678 C238.3951,339.8027,238.2362,339.0991,239.3303,339.1652 C239.7406,339.1587,239.6892,339.1462,240.1287,339.1404 M239.5835,339.1772 C238.7629,339.1756,238.6851,339.1682,238.4902,339.6058 C238.3051,340.0223,238.2767,340.0169,238.4225,340.7132 C238.5905,341.3436,238.6419,341.3395,239.2252,341.7528 C239.7912,342.1415,239.7839,342.1336,240.5318,342.1134 C241.1224,342.1137,241.28,342.1067,241.7356,341.7526 C242.1984,341.3965,242.198,341.3861,242.2436,340.8718 C242.0945,340.2092,242.2753,340.1867,241.6843,339.817 C241.1649,339.4376,241.1185,339.4285,240.3006,339.4477 M240.9821,349.2863 C242.3401,349.2856,241.9507,349.279,242.214,349.7254 C242.4804,350.1472,242.4811,350.1403,242.4589,351.1822 C242.4375,352.3101,242.4286,352.1522,242.4344,373.7609 C242.2849,378.0325,242.4444,377.3469,241.7313,380.9019 C241.0817,384.1415,241.0431,384.1386,239.6767,386.3536 C238.3587,388.5029,238.3058,388.5002,236.3043,389.5467 C234.3598,390.5825,234.2942,390.5741,231.8351,390.5722 C229.9044,390.5723,230.3751,390.5653,229.2048,390.1485 C228.1597,389.756,228.1033,389.7491,227.5259,389.0626 C226.9664,388.3937,226.918,388.3832,226.839,387.5371 C226.7613,386.6989,226.7239,386.6951,226.8801,385.8357 C227.1908,384.5794,227.0856,384.4031,227.5681,383.8849 C228.0197,383.3285,228.0179,383.3233,228.7396,383.3146 C229.2919,383.3152,229.4447,383.3072,229.8416,383.7578 C230.2524,384.1954,230.2508,384.1877,230.417,384.8063 C230.5988,385.4006,230.6002,385.3941,230.7438,386.1074 C230.8991,386.7927,230.8951,386.7832,231.1562,387.2676 C231.4335,387.7437,231.4329,387.7362,231.8986,388.0272 C232.3608,388.3163,232.352,388.3094,232.9625,388.2965 C234.0371,388.2963,233.7835,388.2891,234.2268,387.7702 C234.608,387.2346,234.6031,387.2277,234.701,386.2363 C234.8352,385.2411,234.8333,385.2376,234.8568,383.6639 C234.8915,382.1046,234.8599,382.1005,234.8667,380.171 C234.88,378.2345,234.8514,378.225,234.8478,376.6272 C234.8463,375.0095,234.8058,375.005,234.7964,373.5102 C234.791,371.9981,234.7595,371.994,234.7467,370.6962 C234.7394,369.362,234.7042,369.3548,234.6956,368.1717 C234.6896,366.9719,234.6597,366.9706,234.6527,365.8852 M254.6462,337.0409 L255.3836,356.6222 L262.3296,347.2555 L268.6215,347.2542 L265.3521,355.6066 L276.7305,368.9507 L273.1951,371.9601 L263.2196,358.6305 L255.344,362.0451 L255.331,373.2405 L251.5091,373.2413 L251.5007,336.6167 L254.3396,335.9294 M282.0312,337.1228 L288.4814,337.1633 L288.3088,372.6063 L281.2714,372.5993 L281.2659,337.57 M304.1986,347.6809 C307.7639,347.6852,308.0776,347.6837,310.0848,349.4403 C312.4009,351.0783,312.0705,347.6669,312.6377,348.0693 C314.5907,346.4008,314.9593,347.0346,316.3848,347.3126 C319.4774,347.9672,318.5185,347.7464,321.1538,352.2807 C322.937,355.8721,323.1802,355.9821,323.6502,360.9178 C323.8527,364.3844,323.9929,364.4653,323.8875,367.0341 C323.8005,369.7996,323.7838,369.9127,323.7587,371.8317 C323.7303,373.7598,323.7074,373.815,323.6641,374.4208 C323.4696,375.0029,323.6259,375.0088,322.9845,375.1888 C322.4196,375.384,322.3753,375.3771,321.8793,375.2047 C321.3866,375.0277,321.3392,375.0083,321.1198,374.5208 C320.8889,374.0223,320.8515,374.0178,320.9844,373.4575 C320.9819,372.5521,321.1901,372.4997,321.3298,369.6366 C321.4991,366.7418,321.4872,366.7353,321.4677,364.8596 C321.441,362.9357,321.4008,362.9218,320.6697,360.4898 C320.0177,358.0318,319.9487,358.0164,318.1405,356.3606 C316.3768,354.6721,316.2934,354.6644,314.0156,354.5476 C312.1439,354.4973,312.2767,354.4912,311.2088,355.286 C310.162,356.0803,310.1156,356.0695,310.1384,357.1493 C310.213,357.4552,310.1962,357.4654,310.3151,362.6133 C310.3027,366.4318,310.4855,366.5901,310.4297,371.04 C310.4399,372.0188,310.4101,372.0489,310.3707,376.1944 C310.381,376.8041,310.3905,376.8096,309.9689,377.1304 C309.5651,377.5185,309.5317,377.5092,308.9507,377.5006 C308.3857,377.4997,308.3467,377.4916,307.9306,377.0958 C307.537,376.6979,307.4877,376.6911,307.5056,376.106 C307.5109,373.0541,307.5174,372.4064,307.4197,368.5788 C307.334,364.6363,307.2816,364.6099,307.1427,362.1396 C307.007,359.7272,306.9578,359.7122,306.5529,357.2413 C306.1772,354.817,306.121,354.8009,305.3773,353.634 C304.201,352.1941,304.0559,352.1393,302.9978,352.3373 C301.0794,352.6282,301.6746,352.5136,299.9036,354.0616 C298.3098,355.5157,298.248,355.5134,297.3351,357.7038 C297.2688,358.313,297.2256,358.3253,296.8283,363.0643 C296.5276,364.1794,296.7342,364.2311,296.4711,369.0586 C296.2466,373.4362,296.228,373.4767,296.2505,375.2854 C296.2702,375.8964,296.2813,375.9008,295.7997,376.3109 C295.3659,376.7434,295.3248,376.734,294.7134,376.7497 C294.1213,376.7491,294.0783,376.7417,293.6476,376.303 C293.2332,375.8723,293.1834,375.8662,293.2046,375.253 C293.0115,372.7104,293.2128,373.206,293.2523,368.3111 C293.3195,363.4084,293.2762,363.3726,293.2714,360.9372 C293.2643,358.497,293.2235,358.4917,293.1164,354.9327 C293.0329,351.4818,292.9721,351.4608,293.0168,349.3759 C293.0343,348.7751,293.0494,348.7675,293.4789,348.3982 C293.9079,348.0114,293.907,348.0056,294.4908,348.0238 C295.0858,348.0383,295.0894,348.0288,295.4824,348.4687 C295.8643,348.8812,295.8609,348.8721,295.8371,349.4682 C295.5846,351.1068,295.7734,351.1528,295.6976,352.8916 C297.2489,350.4406,297.6573,350.6009,299.1216,349.0217 M341.9374,347.3208 C346.6838,347.3251,346.71,347.3232,349.3142,349.833 C351.9996,352.4591,351.9494,352.3551,351.932,357.2036 L351.9034,374.2776 L348.3549,374.2775 L348.3425,358.1815 C348.1473,354.7551,348.3413,354.6744,346.4115,352.3677 C344.5266,350.2054,344.4286,350.1893,341.0417,350.1592 C337.183,350.1598,337.5653,350.1525,335.2404,351.6805 C333.0876,353.1634,333.003,353.1576,332.2634,356.1154 C331.6378,357.1069,331.6042,357.1177,331.6651,361.2207 L331.656,375.1263 L328.4332,375.1267 L328.423,348.4879 L331.2492,348.4881 L331.2217,353.078 C332.7072,349.7235,333.0922,350.0057,334.6648,349.6454 C337.2779,349.0813,337.5101,349.0655,339.9005,349.3484 M371.1545,346.9347 C373.9352,346.9388,376.6166,346.9374,380.1004,350.2429 C383.2992,353.471,384.2707,356.285,384.0275,360.4161 C383.5115,364.7807,382.4906,367.2587,379.1287,370.6542 C376.2334,373.611,373.8227,374.4288,369.3602,374.4608 C364.3549,374.4605,364.0902,373.1924,360.5091,369.841 C357.7363,366.8587,356.4914,363.2413,356.4674,359.3082 C356.2166,355.3025,357.4325,352.8061,360.5333,349.4007 C363.3146,346.5742,366.3562,345.2985,369.7389,345.3354 M369.6852,347.3511 C366.1309,347.3513,365.3793,348.4949,362.7792,353.1849 C360.9555,356.2121,360.3464,359.3276,360.2195,362.8725 C360.0173,366.4476,360.7039,368.312,362.8949,371.342 C365.031,373.9657,367.0462,375.249,370.2923,374.5493 C373.7804,373.8731,375.9697,371.294,377.2295,368.3846 C378.2067,365.6544,378.9703,362.3341,378.8597,359.292 C378.4525,355.9978,376.9306,353.3616,375.6123,350.6362 C373.6554,348.0924,371.6311,346.6675,368.7717,346.8589 M403.4297,347.0756 C408.4037,347.0796,408.3819,347.0779,411.2215,350.3194 C414.2066,353.7911,414.1666,353.684,414.1824,359.5528 C414.184,365.2961,414.1991,365.5929,410.8117,369.7594 C407.3857,374.0444,407.2745,373.8901,401.5257,374.0911 C397.5959,374.1364,397.8069,374.1291,395.331,372.6281 C392.9806,371.1677,392.8952,371.1528,391.9332,368.282 L391.918,383.8349 L388.5714,383.8349 L388.5629,347.3748 L391.6576,347.3748 L391.5807,351.6302 C393.4573,348.5626,393.9815,348.6596,395.8085,347.3671 C397.9726,346.1668,397.9707,346.1521,401.4339,346.1648 M400.2508,348.9723 C396.5461,348.9728,396.5912,348.9643,394.0667,351.1785 C391.6026,353.4398,391.5178,353.4458,391.1722,357.6955 L391.1512,364.0742 C391.4062,367.7025,391.2997,368.1477,393.8333,370.7206 C396.355,373.2873,396.3406,373.2968,400.1281,373.3008 C404.0278,373.3012,404.2007,373.2941,406.5526,370.3951 C409.0521,367.5279,409.03,367.5116,409.0685,362.8934 C408.8722,358.0258,409.0701,358.0296,406.7929,354.8474 C404.4914,351.5853,404.372,351.5691,400.2825,351.5743 M432.727,347.4499 C435.5788,347.4544,438.2289,347.4527,441.3713,349.9977 C441.9939,350.5053,442.4142,351.1365,441.6395,347.5327 L444.0158,347.5215 C443.7574,349.6489,443.482,351.0994,443.5681,381.4479 L440.2343,382.7047 C440.3371,376.8012,440.2792,372.971,440.0256,366.8231 C437.9445,369.9775,434.3801,371.5614,430.1405,371.9184 C424.2789,372.3747,419.2484,365.733,418.7179,357.3707 C418.1379,349.9401,423.0114,344.2128,430.5224,343.0376 M431.975,345.6071 C426.0752,345.8456,423.6621,351.4747,424.7301,356.6423 C425.2936,362.9275,429.3483,366.8837,434.1079,367.6111 C438.7884,368.2534,442.4075,363.5559,443.0061,357.0527 C443.293,351.2921,439.7799,345.6871,434.4914,345.0792 M449.6492,347.7046 L462.267,347.756 C466.3084,347.7541,467.3286,347.7565,467.6324,353.6467 C467.6075,358.5132,464.8249,360.2826,461.4418,360.8921 L466.6258,372.9929 C466.9444,374.6134,466.9463,375.199,465.9224,375.6294 C464.8407,375.8923,464.4962,375.5051,464.034,375.4448 C462.9317,375.1611,463.0645,374.628,462.7838,373.8567 L459.069,363.0936 L451.6904,363.1014 L451.6776,373.7347 C451.5599,374.9866,451.0814,375.4746,450.1704,375.3545 C449.0683,375.212,448.4739,374.4974,448.5938,374.1501 L448.5513,350.7914 C448.4569,350.0125,448.9163,349.6028,449.4958,349.4228 M459.4924,352.2531 L451.9935,352.257 L451.9835,363.0591 L457.8051,363.0585 C461.1401,362.6516,464.6314,360.4358,464.4502,357.5275 C464.1779,354.9194,461.3648,353.5684,458.6574,353.6621 M478.0821,347.075 C480.5162,347.0789,482.416,347.0774,482.7256,348.1385 C482.8303,348.6906,482.9687,349.24,482.1474,350.3306 C481.274,350.3655,480.5204,348.8402,480.2709,350.0353 C479.1958,350.5397,478.1538,351.2516,477.9304,352.1655 C477.5166,353.3588,480.241,356.7898,483.2664,356.462 C486.6231,356.296,489.9373,357.807,489.2577,357.9388 C489.4063,358.722,488.9241,363.1319,486.695,363.272 C485.8616,364.8376,485.2656,366.0924,483.273,365.6755 C482.142,366.5195,481.3704,367.2361,479.9398,366.9009 C478.7456,367.6236,477.6197,367.6774,476.6234,367.0975 C475.1888,367.297,474.1275,366.5981,473.5069,366.1299 C472.4533,366.0065,471.9442,365.4887,472.1679,365.4044 C472.3949,365.088,473.1132,364.7234,474.4318,364.9498 C476.158,365.2642,477.3508,365.8695,478.5331,366.0738 C480.5745,366.4467,482.1752,366.2913,483.1842,365.0439 C484.3594,363.8702,484.527,362.1199,484.1211,360.9663 C483.2316,359.8654,480.4721,359.1992,477.601,359.0406 C474.6677,358.7412,472.4375,356.9491,473.0423,356.5605 C473.142,355.45,473.2238,352.5434,473.7664,350.1749 C474.3948,347.8523,475.8533,346.2263,477.6637,346.2664 M482.7292,359.7069 C484.8764,359.8645,487.3043,361.2761,486.8778,362.3049 C486.3082,363.4313,484.0919,364.4047,483.7515,364.4479 C482.5701,364.4568,481.5674,363.9958,482.0884,363.2261 C482.4927,362.3862,483.1041,361.3612,483.4049,361.6848 C483.7436,361.8381,483.6757,361.7729,480.9659,362.9292 C478.9923,363.5725,478.1739,363.6207,478.3055,363.6746 C478.5489,363.8618,479.3587,363.4124,478.8656,362.621 C478.2677,361.7959,478.8801,361.2615,479.2635,361.04 C480.4416,360.5953,481.8724,360.4074,484.6146,360.4381 M504.6537,341.5909 L504.6232,351.6932 L509.5656,351.6688 L509.5525,356.442 L504.4855,356.3848 L504.3744,369.1534 C504.6417,371.5423,504.5035,371.0924,506.5622,371.8583 C507.1941,371.9982,507.1634,372.3267,509.4192,372.0999 L510.1328,376.0786 C508.0369,377.3802,507.5004,377.5356,506.3972,378.0221 C503.4738,378.7201,504.3025,378.7683,501.9157,378.8551 C498.7482,378.7956,498.3117,378.7581,497.8511,376.1694 C497.34,374.2106,497.6288,374.2371,497.4428,369.9713 L497.2,357.9382 L493.7931,357.9909 L493.8251,354.1465 L496.9601,353.9389 L497.0924,346.1869 L504.5575,343.7531 M516.5079,347.9934 L517.594,363.9509 C517.5868,367.5554,517.6435,366.982,518.7774,369.4313 C519.9832,371.733,519.9908,371.7152,522.2506,372.6407 C523.2184,373.5586,524.3903,373.5588,526.4761,373.4487 C528.7424,373.3264,528.7498,373.3126,530.4749,372.781 C532.2259,372.2103,532.222,372.2047,533.4798,370.9949 C534.7189,369.8,534.7098,369.7949,535.2472,368.0559 C535.798,366.2999,535.8047,366.2912,535.8018,364.2112 L535.8117,347.0299 L538.6723,347.032 L538.6557,368.4385 C538.5234,371.1958,538.6842,370.7133,537.841,373.2741 C537.0938,375.5302,537.0465,375.5189,535.4865,377.247 C533.9566,378.915,533.8855,378.907,531.5687,379.8908 C529.2862,380.8613,529.2074,380.8535,526.3381,380.8505 C523.6419,380.8511,523.7062,380.8434,521.5491,380.0108 C519.4438,379.1861,519.3468,379.1778,517.8466,377.6188 C516.3652,376.0674,516.2723,376.0582,515.4888,373.8423 C514.7187,371.633,514.6435,371.6225,514.6826,368.9352 L514.6682,351.3199 L517.381,350.9206 M549.3322,347.6519 L558.3668,369.5473 L565.5343,346.7344 L569.9431,346.7237 L559.1676,375.8978 L554.4205,375.8983 L543.2077,348.4123 L547.3506,347.7151 M577.8288,347.571 L580.8964,347.6212 L586.0263,367.7389 L590.8709,347.3589 L594.656,347.3614 L600.4828,368.7042 L606.4935,348.7066 L610.5525,348.7066 L602.3739,377.7141 L598.7977,377.7159 L592.1437,357.3634 L585.8403,377.2642 L582.7427,377.2666 L574.4785,351.2886 L576.7865,350.6986 M617.1578,347.4675 L621.0543,347.5124 L628.8899,357.1295 L636.8967,347.4168 L641.3311,347.4173 L630.4943,359.7676 L642.0167,374.336 L638.1129,374.5128 L628.6191,363.5655 L619.1845,374.527 L615.0879,374.5306 L626.2064,361.1812 L616.2406,348.7995 M646.5521,347.8237 L649.7922,347.9026 L655.3723,367.5331 L656.6881,348.0772 L661.9873,348.0783 L666.4316,373.3532 C666.1736,380.5081,665.3315,384.4552,657.7822,383.178 C654.6624,382.8919,651.5086,381.3262,650.161,380.0889 L651.5336,376.9747 C652.8239,378.685,654.2884,379.5067,655.673,379.487 C658.6709,379.486,660.9615,375.9777,660.9733,371.6079 C660.2205,370.335,655.4808,359.0513,652.6392,348.5426 M677.7126,347.5618 L700.4644,347.6249 L700.9668,348.7208 L682.1901,372.433 L689.9052,372.6522 C694.0407,372.6489,697.8002,372.429,696.899,371.2012 C696.6487,370.397,696.3108,370.0622,695.8978,368.4579 L697.9441,367.3755 C698.2666,369.6292,698.4905,371.2422,698.1834,374.1274 C695.6493,374.2381,686.5403,374.2813,693.8605,374.1873 L693.8418,374.6861 C689.9949,374.5578,680.6192,374.5426,671.2029,374.5733 L671.0419,373.4708 C674.99,366.987,684.2925,360.7492,691.9539,349.3669 L681.5956,349.3658 C678.4238,349.3698,676.1059,351.1414,675.6169,352.488 L674.7267,354.5553 L673.5117,354.4298 L672.952,354.2081 L672.3078,354.1817 L671.7551,354.119 L671.3511,353.9747 L671.1079,353.7579 L670.967,352.4235 L671.8108,349.6213 L672.4798,347.745 L672.5444,346.9065 L672.7424,343.6536 L673.6322,342.6169\" fill=\"rgb(40,40,40)\"/>\n<path d=\"M13.1952,400.6222 C15.8433,400.6265,18.1773,400.6246,21.1517,402.913 C21.783,404.7056,22.1112,405.9502,21.5523,409.6342 L21.5052,423.5618 C21.7121,425.4581,22.1846,426.1226,23.8053,426.6042 L24.5708,427.2799 C23.2362,427.3436,22.3942,427.3161,20.3053,427.1299 C18.636,426.8904,17.9342,424.6226,17.556,424.5669 C15.8895,425.4624,12.7217,426.5732,10.1326,426.9824 C5.6491,427.5797,1.1418,423.715,0,417.8393 C-0.8851,412.9026,3.8565,408.483,9.7569,407.0523 C12.9411,406.406,16.1204,405.7748,16.4562,406.3933 C17.2287,404.9926,15.6799,404.6142,13.4439,405.5066 C10.7657,406.3057,7.7269,407.3084,8.6073,408.4599 C8.8911,409.1154,8.393,409.4274,7.8219,409.3693 C5.9145,409.3684,4.2642,407.4094,4.0581,407.0421 C2.9562,404.9897,4.9679,402.164,8.1032,401.4695 C9.325,401.2001,11.1231,400.9588,12.4066,401.0568 M15.7296,411.3717 C11.7387,411.6422,8.1555,413.484,6.3174,414.9805 C3.9956,416.7715,4.2359,418.4622,4.761,422.0572 C5.1865,425.5043,8.2041,427.2359,12.5382,427.3119 C16.3646,427.394,19.8785,424.7849,20.1556,423.2482 C20.1734,421.7655,20.4466,414.9195,20.1766,412.8686 C19.2988,411.4485,17.0999,410.7981,15.12,411.4293 M31.6172,389.4187 L31.5729,404.2669 C33.2732,402.035,34.0617,400.9887,36.5203,401.2281 C42.003,401.7524,46.1552,403.7536,45.3669,404.2357 C47.6568,406.5826,50.2643,411.01,50.8541,413.5205 C51.5178,418.8315,50.6263,423.2887,43.5646,424.2802 C39.5214,425.1552,34.3968,423.9338,31.4059,420.6907 L31.4067,422.926 L29.602,424.659 L29.1063,387.1628 L31.7628,386.6015 M40.6229,401.465 C35.9677,401.6196,33.2407,404.8232,32.2737,411.4782 C31.6463,418.3508,33.4796,421.1888,40.6429,421.1354 C45.7061,420.9812,49.2589,417.0835,49.5929,410.8946 C49.9884,405.3232,46.1264,401.2237,41.1858,400.5563 M67.0793,400.3548 C71.0429,400.3591,71.2955,400.3573,74.0905,402.1035 C77.2761,404.0693,77.031,403.866,77.4567,407.1894 L74.2113,407.1555 C73.6517,404.8141,73.5016,405.1834,72.2489,403.3498 C70.9481,401.6607,70.8705,401.6417,68.5412,401.4146 C65.6276,401.349,65.9154,401.4805,63.9185,403.9656 C61.8307,406.4322,61.7625,406.4404,61.2177,410.8842 C61.0821,412.2166,61.0349,412.2263,61.106,416.2204 C61.1968,419.7421,61.2619,419.4255,61.756,422.2358 C62.2966,424.7912,62.3001,424.7925,63.6251,426.5249 C65.0236,428.2253,65.0254,428.2159,67.4321,428.3122 C70.1913,428.3569,69.9077,428.3981,72.3267,425.89 C74.7696,423.4664,74.7554,423.4697,75.9287,419.8228 L78.6788,419.825 C77.809,423.9719,77.7864,424.4528,74.8301,426.8581 C71.8775,429.3303,71.8023,429.3325,67.4325,429.34 C63.3658,429.3404,63.3571,429.3328,60.7906,427.373 C58.3002,425.5563,58.1796,425.5416,56.8511,422.5676 C55.5721,419.6316,55.4848,419.6231,55.3895,416.0135 C55.3475,412.6154,55.3029,412.5912,56.5075,409.8208 C57.7248,406.9854,57.7132,406.9807,59.9039,405.0397 C62.2093,403.1451,62.1921,403.1236,65.4295,403.0035 M103.5126,390.1174 L105.3505,390.1746 L105.1802,424.482 L102.6922,426.6239 L101.8424,424.0625 C100.2196,426.0594,99.7939,426.4536,93.5303,426.6221 C87.322,426.6727,88.3098,426.5889,85.6383,422.0319 C83.2498,417.9965,83.1577,417.9685,83.2142,411.6189 C82.9995,405.4858,83.2068,405.427,85.8579,400.9098 C89.0078,395.5771,88.9895,395.9611,94.7214,395.9652 C99.2546,395.9659,98.4984,395.9583,101.713,399.6677 L102.962,388.6005 M95.3187,399.5115 C90.9298,399.5113,90.9928,399.5023,88.4132,403.0864 C86.1335,406.4029,86.0671,406.4241,86.1241,411.6899 C86.0272,416.9586,86.199,416.954,88.5236,420.2161 C91.137,423.7849,91.1278,423.8236,95.5792,423.7335 C99.4344,423.7147,99.7978,423.7004,102.0628,420.7843 C104.3344,417.947,104.3202,417.9374,104.2643,413.5651 C103.9894,408.9332,104.2812,408.9375,102.7973,404.7519 C101.1138,399.8864,100.8801,399.8885,96.2215,399.8217 M119.9968,400.369 C124.6215,400.373,124.7069,400.3714,127.6863,403.0861 C130.84,406.0808,130.7772,405.8497,130.9032,410.9788 L113.5774,410.9584 C113.3551,415.0062,113.4232,416.7536,113.507,416.6772 C114.3027,421.1499,113.9337,419.9595,115.6125,421.8016 C117.573,424.048,117.8663,423.6512,121.7807,424.0353 C125.0285,424.1655,124.8133,424.2058,127.2041,422.9462 C129.6192,421.7018,129.612,421.6872,130.7847,419.0571 L132.5941,420.0643 C130.8387,423.9286,130.7186,423.4456,127.7637,425.7297 C124.8388,427.8274,124.758,427.8274,121.0656,427.8758 C116.0748,427.8752,116.1084,427.8689,113.0785,424.6509 C109.9907,421.2215,109.854,421.197,109.8859,415.6633 C109.6708,409.6248,109.903,409.7081,113.1973,405.6373 C116.6305,401.5897,116.5937,401.5774,122.0233,401.6742 M121.9364,403.7036 C118.4175,403.7038,118.5567,403.6959,116.2241,406.2833 C114.026,408.7759,113.9603,408.7801,113.8227,412.6872 L129.6203,412.6873 C129.3126,407.6001,129.6179,408.662,127.7648,407.1838 C125.9467,405.7563,125.8545,405.577,121.7985,405.7213 M151.4629,389.9416 L151.4337,394.6531 L147.2841,394.6116 L146.716,403.7502 L151.0526,403.7154 L150.9423,408.6958 L147.48,408.72 L147.4641,426.8094 L140.7881,428.9829 L140.4121,406.8694 L137.1295,406.9996 L137.1462,402.6979 L139.4742,402.3411 C139.7973,396.5565,140.0747,393.6889,139.8122,391.4363 L148.1183,390.8099 M165.093,400.3772 C167.7568,400.3815,170.0059,400.3797,169.9833,402.4009 L168.4861,404.1567 C167.3572,402.5523,165.1632,401.339,163.1043,400.6239 C159.1305,400.2203,155.7204,406.715,155.9984,407.8878 C156.3467,413.4811,159.775,418.2873,165.317,422.6536 C168.3867,424.6747,170.8416,424.7211,174.3545,423.6155 L174.3825,407.8846 C173.5422,406.2962,171.7959,405.6653,170.6347,405.25 C169.6823,405.0425,169.5859,404.7932,169.8486,404.3842 C169.9679,403.957,171.5655,403.8196,171.4857,404.0658 L176.0255,404.3442 C177.2747,405.5576,177.8005,404.7269,179.2102,404.824 C180.2107,405.05,180.4807,405.2339,180.21,405.7473 C179.5505,406.3587,179.094,406.7544,179.3017,407.0937 L179.57,425.696 C179.5095,427.3257,177.0458,427.8301,173.6574,428.4086 C167.8645,428.836,161.4174,428.1326,159.7144,424.817 C156.5181,421.5855,157.2882,413.1561,158.2227,409.0285 C159.3424,404.325,162.9411,401.4644,167.9518,401.2751 M186.3622,389.4655 L186.3189,404.7531 C188.0183,402.599,188.8242,401.5284,191.2578,401.7179 C196.205,402.1573,200.3197,406.4169,199.5079,402.0838 C200.4312,402.1379,203.0459,403.8757,203.666,403.1963 C204.9784,404.5536,205.6472,406.3811,206.06,404.6937 C206.4756,406.1646,206.534,408.8179,207.0721,422.9271 C206.8329,424.2794,205.3222,424.8171,204.0933,425.371 C202.9695,421.5818,202.2324,417.052,202.2023,406.6135 C201.3842,402.0723,198.5,400.643,195.6055,400.8213 C191.7943,401.2849,189.3047,406.0366,188.5167,407.5175 C188.1461,412.7006,188.1111,416.575,188.2906,423.4433 C187.1678,423.5527,185.7369,423.6361,184.7906,423.5512 C184.9321,414.8099,184.7624,407.8327,184.7454,389.9279 C185.4398,389.2507,186.4811,388.6232,188.0899,389.1419 M217.1607,391.1164 C218.5676,391.1199,218.571,391.118,220.2162,392.0177 C221.9741,393.0082,221.9295,392.9222,222.1635,394.2925 C222.2289,395.3171,222.2006,395.4156,219.3075,396.3274 C216.7899,397.1444,216.7039,397.139,215.4497,397.101 C213.706,397.0624,213.9641,397.052,213.2589,396.0751 C212.6243,395.1436,212.5754,395.1283,212.6701,393.9971 C212.7822,392.9377,212.8384,392.6919,213.8905,392.0627 C214.9897,391.4191,214.9902,391.4096,216.5474,391.4354 M216.7618,401.2267 C218.4757,401.2261,218.1324,401.2171,218.507,402.0027 C218.8803,402.7626,218.8799,402.7559,218.7745,404.2193 C218.6693,405.6648,218.6492,405.6403,218.5775,407.4403 C218.5143,409.2172,218.4853,409.2077,218.4865,410.908 C218.3443,412.5201,218.4914,412.5263,218.6224,415.9417 C218.766,419.2448,218.759,419.2529,218.8179,421.4687 C218.8926,423.6356,218.9008,423.6482,218.9681,425.0358 C219.052,426.3642,219.0552,426.3632,219.0764,427.1611 C218.9361,427.9236,219.0923,427.9284,218.5859,428.3944 C218.1224,428.8357,218.0808,428.8247,217.2052,428.8418 C215.954,428.8426,216.3217,428.8355,215.2834,428.5788 C214.3704,428.3273,214.3157,428.3223,213.5935,427.941 C212.8879,427.5586,212.8367,427.5504,212.3961,427.0107 C211.9764,426.4638,211.9254,426.4596,211.8781,425.7176 C211.6915,424.7178,211.8457,424.6552,211.7557,421.2053 C211.6867,417.4879,211.6285,417.4636,211.6075,413.902 C211.5988,410.4007,211.5454,410.3881,211.6236,407.446 C211.7205,404.5048,211.7115,404.5046,212.0063,402.506 C212.2904,401.917,212.1711,401.8972,212.7561,401.3037 C213.2965,400.7251,213.2904,400.7184,214.0816,400.5108 C214.8747,400.2841,214.8716,400.2905,215.8151,400.2849 M238.8149,391.098 C240.3355,391.1017,240.2897,391.1,241.9922,391.9416 C243.7511,392.7582,243.7131,392.7591,244.0377,394.2012 C244.1284,394.7406,244.0995,394.7081,243.7492,396.3858 C243.3884,397.8145,243.36,397.9769,242.8101,398.6733 C241.7306,399.6518,242.0161,399.7366,240.4199,399.8694 C238.6688,399.993,238.8552,399.9859,237.7819,399.5842 C236.726,399.1652,236.6738,399.1544,235.7001,398.0669 C234.7494,396.9608,234.6941,396.9433,234.5209,395.5762 C234.3741,394.1938,234.47,394.1763,234.9667,393.3697 C235.4569,392.5336,235.4556,392.5182,236.3961,392.2123 C237.3407,391.883,237.3411,391.8709,238.4252,391.9127 M239.3054,403.2252 C240.7541,403.2234,240.4733,403.2145,240.8636,403.9121 C241.2295,404.554,241.2278,404.549,241.2498,405.7986 L241.2451,424.8381 C241.0969,427.894,241.2516,427.3088,240.7127,430.4123 C240.2041,433.2213,240.1626,433.2184,238.9864,435.4778 C237.8092,437.6871,237.7542,437.6829,235.9052,439.0399 C234.0889,440.34,234.0199,440.3323,231.6131,440.3226 C230.1183,440.3229,230.2027,440.3161,229.1077,439.8255 C228.0528,439.3701,227.9908,439.3644,227.4013,438.5795 C226.82,437.8091,226.7702,437.7982,226.6989,436.8409 C226.6346,435.8966,226.5974,435.8947,227.0341,435.0829 C227.5835,434.2617,227.4817,434.2496,228.314,433.9026 C229.1089,433.5422,229.1065,433.5376,230.0604,433.583 C231.1142,433.6362,231.0204,433.6291,231.6613,434.0906 C232.2514,434.5325,232.2469,434.5228,232.4592,434.9875 C232.6862,435.4454,232.6835,435.437,232.7891,435.7668 C232.9129,436.0971,232.9097,436.0895,233.004,436.1827 C233.3923,436.2857,233.4123,436.2812,233.4441,435.3742 C233.4885,434.4693,233.4982,434.4592,233.4714,432.888 C233.4508,431.2869,233.407,431.2834,233.4244,429.5882 C233.4416,427.8928,233.4004,427.8887,233.4012,426.2791 L233.3878,412.4694 C233.2181,411.4394,233.4003,411.3984,233.1284,410.9279 C232.8881,410.453,232.8435,410.4457,232.3154,410.33 C231.7964,410.2127,231.7506,410.2025,231.1835,410.1742 C230.629,410.1351,230.5862,410.1264,230.2288,410.0598 C229.8669,409.9883,229.8324,409.9798,229.3327,409.4387 C228.8475,408.8874,228.8019,408.8751,228.8485,408.0882 C228.8916,407.2845,228.924,407.2703,229.6261,406.6684 C230.3265,406.0546,230.3254,406.0486,231.4053,405.9409 C233.0222,405.6822,233.2988,405.5903,235.0501,405.6394 C236.8802,405.6874,236.8846,405.6839,238.173,405.6983 M248.8675,389.4884 L248.82,411.1292 L256.1064,401.4566 C258.1593,400.0883,258.6102,399.4423,261.8214,400.3215 C265.2443,401.2532,265.4542,401.1131,267.5133,402.9848 C269.6202,404.8431,269.6085,404.8449,269.9672,407.9704 C270.0735,410.5529,270.0543,410.6154,266.637,412.4194 C263.5301,414.1408,263.4664,414.147,260.4897,414.461 L266.438,424.6582 C267.5917,426.3403,267.8266,426.6073,269.1465,426.7934 C270.4662,426.9816,270.4621,426.9755,271.7877,426.621 L273.8293,427.6925 C272.6551,428.5086,272.4329,428.5935,271.0483,429.0892 C269.6673,429.5659,269.6096,429.5599,268.1273,429.5572 C265.8831,429.5578,266.3617,429.5505,264.9707,428.8122 C263.7592,428.0872,263.687,428.0819,262.8137,426.7539 L256.2593,416.3284 L251.8377,415.7697 L251.8213,427.3937 L248.691,427.3935 L248.5731,390.9484 L250.407,390.322 M260.5358,404.125 C257.7182,404.1255,258.2814,404.1177,255.9376,405.0217 C253.7363,405.9242,253.6627,405.9155,251.9836,407.6513 L251.9462,416.655 C254.0983,416.5784,254.5079,416.7542,258.1874,415.9199 C261.5195,415.1322,261.512,415.1252,264.0679,413.2954 C266.6224,411.5751,266.6063,411.5781,267.1357,409.1835 C267.7435,406.7133,267.6673,406.6916,265.7029,405.4439 C263.6888,404.1432,263.6024,404.1325,260.2243,404.1798 M278.97,389.9973 L285.1913,390.0388 L285.0155,426.8025 L278.3727,426.7948 L278.3647,390.0621 M299.7919,400.6154 C303.286,400.6197,303.5974,400.6181,305.546,402.3535 C307.8186,403.9813,307.4927,400.5694,308.0355,407.0771 C309.0124,402.3558,309.466,402.2851,310.7494,400.6788 C312.4119,398.7667,312.5223,398.7711,315.9484,399.0263 C319.5536,399.3278,319.2306,399.4887,320.6714,401.0721 C322.0421,402.7664,322.066,402.685,322.0225,406.1507 L322.0056,427.8415 L318.8484,427.8409 L318.8356,407.6988 C318.6339,404.8857,318.829,404.8076,317.6266,403.0284 C316.5781,401.4033,316.503,401.3871,314.3318,401.3177 C311.8013,401.3048,312.0737,401.2921,310.4719,402.8297 C308.9654,404.3126,308.9032,404.3166,308.5211,407.1445 C308.1934,409.5302,308.163,408.0291,308.2284,411.9898 L308.2125,427.8129 L305.3546,427.8119 L305.3411,408.6892 C305.1338,405.5293,305.3292,405.4355,304.3504,403.2031 C303.544,401.115,303.4687,401.1031,301.7483,400.5287 C300.0749,400.0132,300.0238,400.004,298.1915,400.6656 C296.395,401.3088,296.3332,401.3061,294.9205,403.1285 C293.5468,404.8953,293.4913,404.8967,292.9888,407.6357 C292.5001,410.3109,292.4628,410.2458,292.5413,413.779 L292.5445,428.262 L289.7398,428.261 L289.7267,399.2765 L292.3593,399.126 L292.3226,403.3962 C293.4696,400.5344,293.7336,400.7563,295.0169,400.5021 C296.9167,400.2242,297.0441,400.2147,298.8984,400.274 M339.4421,400.2551 C344.0655,400.2593,344.0846,400.2576,346.6248,402.7595 C349.22,405.3439,349.17,405.2478,349.1453,410.045 L349.115,428.4597 L345.7192,428.4596 L345.7067,411.2816 C345.5141,407.8883,345.7064,407.8094,343.8507,405.5088 C342.0578,403.3541,341.9618,403.3344,338.7043,403.2964 C334.9379,403.2968,335.3096,403.2891,333.0661,404.801 C330.9767,406.2804,330.8946,406.2792,330.1964,409.2185 C329.6329,410.1618,329.6021,410.1767,329.6638,414.2684 L329.6499,429.3678 L326.5681,429.368 L326.5579,401.4716 L329.2518,401.4718 L329.2241,406.009 C330.623,402.681,330.984,402.9731,332.509,402.7145 C335.0423,402.1792,335.2647,402.1566,338.9782,402.4506 M367.8259,399.8565 C370.5318,399.8607,373.1633,399.8592,376.5466,403.2296 C379.6199,406.5054,380.5322,409.3812,380.3114,413.5737 C379.8264,418.0325,378.8798,420.5606,375.7405,424.1095 C372.9534,426.9138,370.5949,428.1681,366.1677,428.1692 C361.2448,428.1691,360.9812,426.8373,357.5435,423.2479 C354.892,420.1386,353.7552,416.3964,353.6807,412.4116 C353.4179,408.3321,354.5796,405.8305,357.4996,402.2439 C360.1821,399.2615,363.1199,397.9095,366.5389,398.001 M366.4883,399.9554 C362.5403,399.9556,362.2092,402.9873,359.6587,406.0179 C357.7251,408.6513,356.8631,411.8151,356.9015,415.3278 C356.7398,419.0569,357.6104,420.9678,359.6736,424.1787 C361.7035,426.8427,363.8022,428.3995,366.8285,427.7012 C369.9098,427.1254,372.0507,424.8367,373.3222,422.3437 C374.6351,419.773,375.3242,416.4722,375.2734,412.994 C374.9659,409.6391,373.6982,406.6785,372.492,404.2249 C371.0476,401.6515,369.1429,400.1889,365.8464,400.3378 M398.8755,399.991 C403.7686,399.995,403.7336,399.9934,406.5299,403.2571 C409.4555,406.7821,409.4101,406.6504,409.4218,412.6428 C409.4185,418.5164,409.4426,418.8516,406.152,423.2381 C402.815,427.8249,402.712,427.883,396.9453,427.8907 C393.0357,427.8911,393.7361,427.8843,391.3782,426.4459 C389.2008,425.0233,389.1059,425.0142,388.09,422.1113 L388.0742,437.5608 L384.8551,437.5606 L384.8468,400.196 L387.8224,400.1963 L387.7818,404.3349 C389.5701,401.2367,390.0541,401.329,391.7819,400.1705 C393.806,399.07,393.8097,399.0547,397.0876,399.0594 M395.9635,401.8135 C392.2135,401.8144,392.2595,401.8058,389.8238,404.2488 C387.4514,406.9427,387.3649,406.7883,387.2869,411.4798 C387.0957,415.7639,387.2967,416.1847,389.2114,419.46 C391.4261,423.2343,391.4133,422.9203,395.5261,423.1771 C398.987,423.1649,399.2823,423.1115,400.9832,420.1674 C402.7983,417.295,402.7956,417.2791,402.8007,412.7152 C402.5994,407.9276,402.8044,407.9616,400.8455,404.9832 C398.887,401.9176,398.7799,401.9009,395.0463,401.8752 M427.3558,400.4601 C430.1428,400.4646,432.6988,400.4628,435.713,403.0394 C436.2848,403.3697,436.7191,403.8587,435.9646,400.473 L438.2956,400.4693 C438.0363,402.6917,437.7897,412.1261,437.9122,435.3406 L435.0748,436.9091 C435.127,430.9351,435.2032,426.939,434.779,420.5098 C432.7685,423.7608,429.3266,425.3983,425.1391,425.8036 C419.4713,426.3076,414.5598,419.4813,413.9573,410.7268 C413.3643,403.174,417.8741,397.2727,425.1956,396.0727 M426.7376,398.5153 C420.9488,398.7988,418.7179,404.8005,419.7555,410.3228 C420.2669,417.0219,424.1371,421.2866,428.8716,422.1803 C433.3613,422.9333,436.937,417.8616,437.5183,411.092 C437.7823,405.003,434.5402,398.8923,429.3774,398.2816 M444.7425,400.667 L456.612,400.7171 C460.7684,400.714,461.8183,400.7168,462.1531,406.7878 C462.146,411.7197,459.2992,413.6281,456.028,414.207 L461.3891,426.9823 C461.7648,428.6145,461.8528,429.1905,461.1174,429.6804 C460.3928,430.0541,459.5531,430.1528,459.2976,430.0031 C458.4325,429.6665,458.1472,429.1385,458.4259,428.5601 L456.0465,416.5942 L448.711,416.607 L448.7045,426.6971 C448.7974,427.9453,448.4467,428.3827,447.7458,428.3822 L445.6373,428.3821 C444.7804,428.4006,444.5841,427.7557,444.4361,427.213 L442.831,402.1992 C442.5377,401.4285,443.2827,400.9627,444.0292,400.9411 M454.3971,403.753 L446.2435,403.754 L445.4318,415.0549 L450.9744,415.0542 C453.7479,413.6804,458.0124,411.3723,457.8371,408.0328 C457.5718,405.7432,456.032,404.4836,453.1577,404.5958 M469.5359,400.0212 C471.9532,400.0251,473.8347,400.0236,474.1225,401.0821 C474.2455,401.6337,474.5386,402.1883,473.7685,403.3908 C472.9808,403.5507,472.2449,402.1426,472.0717,403.2857 C471.3298,403.2816,470.7302,403.4341,470.4445,404.4771 C469.8603,405.4761,470.8407,407.8732,472.6732,408.0058 C475.2911,408.4012,478.5464,410.0395,477.984,409.9067 C478.3946,410.2902,479.4221,411.6348,477.8414,411.9042 C477.189,412.3511,477.0323,414.6856,475.6161,414.0862 C475.1738,413.7569,475.9378,414.9511,473.9849,414.4048 C473.3747,414.019,473.5359,415.1316,472.1169,414.8407 C471.3003,414.5435,471.3532,415.4252,470.0507,414.7708 C468.9822,414.257,468.642,414.4469,468.0782,414.0832 C467.1122,413.5786,466.6189,413.9713,466.6885,413.5432 C466.683,413.0563,466.7086,412.0858,467.0858,412.3148 C467.7305,412.5969,468.2697,413.0365,467.931,413.4028 C467.4439,413.8823,467.1569,414.084,466.9293,414.7854 C466.574,415.4662,466.9193,415.953,467.3872,417.2966 C468.2346,418.5707,468.4656,419.2375,469.8476,420.4811 C471.5774,421.6515,473.2459,422.13,473.8839,422.2693 C475.4929,422.5812,476.578,422.3075,476.3159,420.9597 C476.1145,419.8654,475.4597,419.3064,475.3628,417.728 C475.0584,416.3694,475.5118,415.7955,476.384,415.3199 C477.2982,414.9379,478.0829,414.687,478.3568,415.2321 C478.556,415.8198,479.1265,416.988,478.5056,418.2591 C477.9061,419.2592,477.4266,419.8076,476.9863,421.3352 C476.5536,422.4823,476.4453,423.16,476.4108,424.8044 C476.1708,425.9193,476.4915,426.4704,476.3913,427.4523 C476.0925,428.2936,475.7425,428.6948,475.1065,429.2118 C474.0334,429.7284,473.2003,429.8469,472.7683,429.6591 C471.7189,429.2984,471.3896,428.9447,471.5289,427.2183 C471.4522,426.0268,471.8324,425.4723,472.0852,424.0649 C471.9757,422.944,470.4652,422.4358,472.0483,422.1401 C472.5003,421.8842,471.896,421.4411,473.0573,421.023 C473.8679,420.5094,474.1706,420.1903,474.5284,418.8685 C474.5951,417.7622,474.8664,417.2207,473.976,416.0964 C472.8498,415.157,470.5771,414.8835,471.1648,414.6046 C471.0472,414.3351,470.0491,414.2231,471.1952,413.7967 C471.7701,413.3592,471.4197,413.1161,472.3583,412.1204 C472.7441,411.2496,471.8922,410.8496,473.3299,410.5911 C474.0128,410.3168,473.7412,410.1817,474.6468,409.6417 C475.0879,409.0544,474.2047,408.7456,475.4947,408.4973 C475.7033,408.2033,474.8171,408.049,475.9413,407.2951 C476.1162,406.6401,474.9431,406.3273,476.3307,405.5024 C476.1565,404.8886,474.7344,404.6441,472.9909,404.1033 C470.9064,403.5864,469.2027,403.4212,469.4526,403.7377 C469.6904,404.1456,469.9634,404.6699,469.6745,405.9102 C469.2071,407.122,468.7642,408.6225,468.4753,409.9127 C467.9079,411.3387,468.0458,412.9882,468.2487,414.2523 C468.3489,415.5685,468.9206,416.3033,469.6761,417.8417 C470.4072,419.0865,470.7728,419.8882,470.6477,421.1749 M494.687,394.231 L494.6572,404.5508 L499.2904,404.5271 L499.277,408.9144 L494.7514,408.8751 L494.7063,422.969 C494.9666,425.485,495.4543,426.4127,497.0255,426.2379 C497.9698,426.0429,498.7041,425.092,499.1594,424.7473 L500.1362,427.8826 C498.4695,429.6302,495.4562,431.546,492.5618,431.2596 C489.1036,430.8291,486.3701,426.5861,486.0807,421.6811 C485.7079,419.4103,485.975,410.7442,486.0444,407.3576 L483.183,407.3622 L483.041,404.8756 L483.6047,402.7082 L483.4134,399.2273 L483.2329,395.8616 L483.1291,393.0087 L483.2875,390.8769 L483.926,389.5207 L484.6538,388.7838 L485.1651,388.1442 L485.5298,387.57 L492.0566,387.2451 L495.3308,386.9441 M507.5277,400.9344 L508.6559,401.0536 L508.6517,418.5564 C508.5588,422.5483,508.7744,421.7872,509.9713,424.3912 C511.2074,426.6877,511.2168,426.6886,513.6857,427.6459 C514.649,428.5163,514.597,428.5144,517.9992,428.3774 C521.4084,428.2913,521.4251,428.2738,522.9573,427.0269 C524.5357,425.7705,524.5323,425.7526,525.1284,423.064 C525.7591,420.4917,525.7519,420.4913,525.6984,417.1069 L525.5318,401.3689 L527.7641,401.2521 L527.7224,423.4606 C527.5696,426.5855,527.723,425.9719,527.0638,428.8793 C526.4542,431.3791,526.4138,431.3755,524.9769,433.2145 C523.5536,434.9746,523.4909,434.9679,521.2227,435.8415 C519.0094,436.7275,518.9309,436.7207,516.1098,436.6954 C513.1613,436.6934,513.1223,436.6859,510.9379,435.7524 C508.8261,434.8376,508.728,434.8254,507.3539,433.087 C506.0071,431.3668,505.922,431.3565,505.2943,428.9236 C504.7,426.5066,504.6294,426.4991,504.6801,423.4766 L504.6716,405.6866 L506.2402,405.3933 M535.0646,400.5073 L538.1648,423.4894 L547.7309,398.901 L552.1408,398.8917 L546.1418,425.6479 L541.7282,429.1457 L532.2996,400.4084 L535.5943,399.434 M561.2968,400.3924 L564.1137,400.4379 L568.9618,421.7609 L569.7617,400.2099 L573.4874,400.2124 L579.3557,423.0266 L585.1098,401.7319 L589.3291,401.7326 L584.5262,431.9235 L580.8942,431.9253 L574.0713,410.1111 L567.8544,431.5839 L564.7915,431.605 L556.6762,404.3129 L558.8604,403.7203 M595.7808,400.323 L599.4508,400.3675 L607.1222,410.4796 L615.0675,400.2929 L619.3084,400.2939 L608.6768,413.2298 L619.9156,428.4495 L616.2427,428.4508 L607.0446,416.9538 L597.6461,428.573 L593.8645,428.5767 L604.7325,414.6738 L595.1031,401.9013 M624.4511,400.7158 L627.5401,400.7881 L633.2985,421.8646 L634.4974,400.9883 L639.4771,400.9891 L643.9311,428.22 C643.748,435.2912,643.0737,439.3102,636.2322,437.9656 C633.3268,437.6031,630.3289,436.6296,628.8244,435.389 L629.9047,432.523 C631.1372,433.5127,632.4991,434.8056,633.8032,434.7972 C636.7056,434.7956,638.8674,431.1016,638.8858,426.7784 L630.3472,402.3115 M655.3971,400.4117 L677.5317,400.4745 L678.0036,401.5772 L659.2193,426.7008 L666.8147,426.9145 C671.0268,426.9104,674.7984,426.6637,673.9516,425.4355 C673.7677,424.6365,673.4519,424.2277,673.0391,422.5322 L675.0616,421.5596 C675.3353,423.8717,675.5416,425.4637,675.2504,428.3501 C672.6153,428.3627,663.6517,428.36,670.8303,428.3119 L670.7662,428.9474 C666.9061,428.7872,657.8186,428.7423,648.6056,428.8153 L648.4665,427.6392 C652.3465,420.8461,661.6602,414.3371,669.0983,402.0087 L659.0607,402.011 C655.8988,402.0145,653.5362,403.7404,653.1118,405.1359 L652.2441,407.3837 L651.2132,407.2129 L650.556,407.0212 L649.8911,406.9749 L649.3457,406.8729 L648.9425,406.7013 L648.6954,406.4624 L648.5582,405.0151 L649.3299,402.2392 L649.8869,400.3471 L649.9824,399.3006 L650.1532,396.5235 L651.0163,395.3738\" fill=\"rgb(40,40,40)\"/>\n</svg>"
          },
          "metadata": {
            "tags": []
          }
        }
      ]
    }
  ]
}