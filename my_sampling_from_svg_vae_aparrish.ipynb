{
  "nbformat": 4,
  "nbformat_minor": 0,
  "metadata": {
    "colab": {
      "name": "my-sampling-from-svg-vae-aparrish",
      "provenance": [],
      "collapsed_sections": []
    },
    "kernelspec": {
      "name": "python3",
      "display_name": "Python 3"
    }
  },
  "cells": [
    {
      "cell_type": "markdown",
      "metadata": {
        "id": "9XsrXQ5hD6mQ"
      },
      "source": [
        "# Sampling from SVG VAE\n",
        "\n",
        "This is a quick notebook I ([Allison Parrish](http://www.decontextualize.com/) made in order to sample glyphs from [SVG VAE](https://magenta.tensorflow.org/svg-vae), a generative model for scalable vector graphics programmed and trained by [Rapha Gontijo Lopes](https://raphagl.com/). ([Read the paper](https://arxiv.org/abs/1904.02632).)\n",
        "\n",
        "The code is largely based on [the example notebook](https://github.com/magenta/magenta-demos/blob/master/colab-notebooks/vae_svg_decoding.ipynb) included in the Magenta repository, with a few tweaks I made in order to make the code and content compatible with the tutorials in a class I'm teaching at [NYU ITP]() called [Material of Language](https://github.com/aparrish/material-of-language/).\n",
        "\n",
        "In this notebook, I'm only demonstrating the model's ability to generate \"fonts\" (i.e., sets of glyphs), and to generate interpolations between different fonts. My goal was to make it possible for someone without a lot of knowledge about programming or machine learning to step through the notebook, play around with the code a bit, and produce something interesting.\n",
        "\n",
        "This is a Google Colab notebook. I don't usually like using Google Colab, but I also don't want to have to help all of my students install all of the finicky dependencies on their own computers. So here we are.\n",
        "\n",
        "> Note for my students: Colab notebooks don't run on your own computer—they run on a computer that Google provides to you for free for a few hours. If the notebook is inactive for a while, the system deletes the machine—and your work. The notebook file itself is saved to Google Drive, but any files that you save will be deleted when the machine is recycled. Also note that you'll need to *redownload data and re-install packages* whenever you open the notebook (if the machine has timed out since the last time you used it). \n",
        "\n",
        "For a quick explanation of how the model works and its architecture, I recommend reading [the clear and concise blog post](https://magenta.tensorflow.org/svg-vae) that the authors wrote about the model for Magenta."
      ]
    },
    {
      "cell_type": "markdown",
      "metadata": {
        "id": "JBvIrN0dYfN3"
      },
      "source": [
        "## Download the model and associated data\n",
        "\n",
        "Before we get started programming, we need to download the pre-trained model. The authors made this available online; run the cell below to download it:"
      ]
    },
    {
      "cell_type": "code",
      "metadata": {
        "id": "uB_UeVCSxOXc",
        "colab": {
          "base_uri": "https://localhost:8080/"
        },
        "outputId": "6a0653ae-43d3-450f-a853-9e095dd61997"
      },
      "source": [
        "!curl -L -O https://storage.googleapis.com/magentadata/models/svg_vae/svg_vae.tar.gz"
      ],
      "execution_count": null,
      "outputs": [
        {
          "output_type": "stream",
          "text": [
            "  % Total    % Received % Xferd  Average Speed   Time    Time     Time  Current\n",
            "                                 Dload  Upload   Total   Spent    Left  Speed\n",
            "100  776M  100  776M    0     0   208M      0  0:00:03  0:00:03 --:--:--  208M\n"
          ],
          "name": "stdout"
        }
      ]
    },
    {
      "cell_type": "markdown",
      "metadata": {
        "id": "ngEAlpotIHw2"
      },
      "source": [
        "The models are stored in a gzipped tar file—uncompress it by running the cell below:"
      ]
    },
    {
      "cell_type": "code",
      "metadata": {
        "id": "7KCole4nxWbx",
        "colab": {
          "base_uri": "https://localhost:8080/"
        },
        "outputId": "bedb5183-f708-460f-cefc-b69e119c060b"
      },
      "source": [
        "!tar xvfz svg_vae.tar.gz"
      ],
      "execution_count": null,
      "outputs": [
        {
          "output_type": "stream",
          "text": [
            "usr/local/google/home/iraphael/dev/svg_vae/\n",
            "usr/local/google/home/iraphael/dev/svg_vae/svg_decoder_internal/\n",
            "usr/local/google/home/iraphael/dev/svg_vae/svg_decoder_internal/model.ckpt-300000.data-00000-of-00002\n",
            "usr/local/google/home/iraphael/dev/svg_vae/svg_decoder_internal/checkpoint\n",
            "usr/local/google/home/iraphael/dev/svg_vae/svg_decoder_internal/model.ckpt-300000.data-00001-of-00002\n",
            "usr/local/google/home/iraphael/dev/svg_vae/svg_decoder_internal/model.ckpt-300000.meta\n",
            "usr/local/google/home/iraphael/dev/svg_vae/svg_decoder_internal/model.ckpt-300000.index\n",
            "usr/local/google/home/iraphael/dev/svg_vae/image_vae_internal/\n",
            "usr/local/google/home/iraphael/dev/svg_vae/image_vae_internal/model.ckpt-100000.meta\n",
            "usr/local/google/home/iraphael/dev/svg_vae/image_vae_internal/model.ckpt-100000.data-00000-of-00002\n",
            "usr/local/google/home/iraphael/dev/svg_vae/image_vae_internal/model.ckpt-100000.data-00001-of-00002\n",
            "usr/local/google/home/iraphael/dev/svg_vae/image_vae_internal/checkpoint\n",
            "usr/local/google/home/iraphael/dev/svg_vae/image_vae_internal/model.ckpt-100000.index\n",
            "usr/local/google/home/iraphael/dev/svg_vae/image_vae_external/\n",
            "usr/local/google/home/iraphael/dev/svg_vae/image_vae_external/model.ckpt-100000.meta\n",
            "usr/local/google/home/iraphael/dev/svg_vae/image_vae_external/model.ckpt-100000.data-00000-of-00002\n",
            "usr/local/google/home/iraphael/dev/svg_vae/image_vae_external/model.ckpt-100000.data-00001-of-00002\n",
            "usr/local/google/home/iraphael/dev/svg_vae/image_vae_external/checkpoint\n",
            "usr/local/google/home/iraphael/dev/svg_vae/image_vae_external/model.ckpt-100000.index\n",
            "usr/local/google/home/iraphael/dev/svg_vae/svg_decoder_external/\n",
            "usr/local/google/home/iraphael/dev/svg_vae/svg_decoder_external/model.ckpt-300000.data-00000-of-00002\n",
            "usr/local/google/home/iraphael/dev/svg_vae/svg_decoder_external/checkpoint\n",
            "usr/local/google/home/iraphael/dev/svg_vae/svg_decoder_external/model.ckpt-300000.data-00001-of-00002\n",
            "usr/local/google/home/iraphael/dev/svg_vae/svg_decoder_external/model.ckpt-300000.meta\n",
            "usr/local/google/home/iraphael/dev/svg_vae/svg_decoder_external/model.ckpt-300000.index\n"
          ],
          "name": "stdout"
        }
      ]
    },
    {
      "cell_type": "markdown",
      "metadata": {
        "id": "oCfJUJhiIRT-"
      },
      "source": [
        "You'll also need the following two files, which are used to \"un-normalize\" the SVG paths that come out of the model. (Thanks to Rapha for giving me access to these files!)"
      ]
    },
    {
      "cell_type": "code",
      "metadata": {
        "id": "SCnlHRR0YFQv",
        "colab": {
          "base_uri": "https://localhost:8080/"
        },
        "outputId": "2cf4e780-9179-4215-f776-e985965037c6"
      },
      "source": [
        "!curl -L -O https://github.com/aparrish/material-of-language/raw/master/svg_vae_data/mean.npz"
      ],
      "execution_count": null,
      "outputs": [
        {
          "output_type": "stream",
          "text": [
            "  % Total    % Received % Xferd  Average Speed   Time    Time     Time  Current\n",
            "                                 Dload  Upload   Total   Spent    Left  Speed\n",
            "100   158  100   158    0     0   1112      0 --:--:-- --:--:-- --:--:--  1112\n",
            "100   160  100   160    0     0    462      0 --:--:-- --:--:-- --:--:--  156k\n"
          ],
          "name": "stdout"
        }
      ]
    },
    {
      "cell_type": "code",
      "metadata": {
        "id": "Wsbmyz67YK0I",
        "colab": {
          "base_uri": "https://localhost:8080/"
        },
        "outputId": "25326b31-8669-4525-8288-323e716916c4"
      },
      "source": [
        "!curl -L -O https://github.com/aparrish/material-of-language/raw/master/svg_vae_data/stdev.npz"
      ],
      "execution_count": null,
      "outputs": [
        {
          "output_type": "stream",
          "text": [
            "  % Total    % Received % Xferd  Average Speed   Time    Time     Time  Current\n",
            "                                 Dload  Upload   Total   Spent    Left  Speed\n",
            "100   159  100   159    0     0    987      0 --:--:-- --:--:-- --:--:--   987\n",
            "100   160  100   160    0     0    500      0 --:--:-- --:--:-- --:--:--   500\n"
          ],
          "name": "stdout"
        }
      ]
    },
    {
      "cell_type": "markdown",
      "metadata": {
        "id": "-6Rp2YJ1X81t"
      },
      "source": [
        "## Dependencies\n",
        "\n",
        "We need the `tensor2tensor` library and the `magenta` library. Hopefully both of these will install without trouble in Colab:"
      ]
    },
    {
      "cell_type": "code",
      "metadata": {
        "id": "QZ5ft3dDwKkF",
        "colab": {
          "base_uri": "https://localhost:8080/"
        },
        "outputId": "dfa952bb-bf9f-479a-c0e1-31f71b7e160e"
      },
      "source": [
        "!pip install tensor2tensor==1.14.1"
      ],
      "execution_count": null,
      "outputs": [
        {
          "output_type": "stream",
          "text": [
            "Collecting tensor2tensor==1.14.1\n",
            "\u001b[?25l  Downloading https://files.pythonhosted.org/packages/20/eb/7159c5a12880c496893a5bf7242c23fdb4eed47ade683d111f2f2d4009b4/tensor2tensor-1.14.1-py2.py3-none-any.whl (1.6MB)\n",
            "\r\u001b[K     |▏                               | 10kB 15.3MB/s eta 0:00:01\r\u001b[K     |▍                               | 20kB 20.5MB/s eta 0:00:01\r\u001b[K     |▋                               | 30kB 8.7MB/s eta 0:00:01\r\u001b[K     |▉                               | 40kB 7.8MB/s eta 0:00:01\r\u001b[K     |█                               | 51kB 4.3MB/s eta 0:00:01\r\u001b[K     |█▎                              | 61kB 4.8MB/s eta 0:00:01\r\u001b[K     |█▍                              | 71kB 4.8MB/s eta 0:00:01\r\u001b[K     |█▋                              | 81kB 5.0MB/s eta 0:00:01\r\u001b[K     |█▉                              | 92kB 5.3MB/s eta 0:00:01\r\u001b[K     |██                              | 102kB 4.2MB/s eta 0:00:01\r\u001b[K     |██▎                             | 112kB 4.2MB/s eta 0:00:01\r\u001b[K     |██▌                             | 122kB 4.2MB/s eta 0:00:01\r\u001b[K     |██▋                             | 133kB 4.2MB/s eta 0:00:01\r\u001b[K     |██▉                             | 143kB 4.2MB/s eta 0:00:01\r\u001b[K     |███                             | 153kB 4.2MB/s eta 0:00:01\r\u001b[K     |███▎                            | 163kB 4.2MB/s eta 0:00:01\r\u001b[K     |███▌                            | 174kB 4.2MB/s eta 0:00:01\r\u001b[K     |███▊                            | 184kB 4.2MB/s eta 0:00:01\r\u001b[K     |████                            | 194kB 4.2MB/s eta 0:00:01\r\u001b[K     |████                            | 204kB 4.2MB/s eta 0:00:01\r\u001b[K     |████▎                           | 215kB 4.2MB/s eta 0:00:01\r\u001b[K     |████▌                           | 225kB 4.2MB/s eta 0:00:01\r\u001b[K     |████▊                           | 235kB 4.2MB/s eta 0:00:01\r\u001b[K     |█████                           | 245kB 4.2MB/s eta 0:00:01\r\u001b[K     |█████▏                          | 256kB 4.2MB/s eta 0:00:01\r\u001b[K     |█████▎                          | 266kB 4.2MB/s eta 0:00:01\r\u001b[K     |█████▌                          | 276kB 4.2MB/s eta 0:00:01\r\u001b[K     |█████▊                          | 286kB 4.2MB/s eta 0:00:01\r\u001b[K     |██████                          | 296kB 4.2MB/s eta 0:00:01\r\u001b[K     |██████▏                         | 307kB 4.2MB/s eta 0:00:01\r\u001b[K     |██████▍                         | 317kB 4.2MB/s eta 0:00:01\r\u001b[K     |██████▌                         | 327kB 4.2MB/s eta 0:00:01\r\u001b[K     |██████▊                         | 337kB 4.2MB/s eta 0:00:01\r\u001b[K     |███████                         | 348kB 4.2MB/s eta 0:00:01\r\u001b[K     |███████▏                        | 358kB 4.2MB/s eta 0:00:01\r\u001b[K     |███████▍                        | 368kB 4.2MB/s eta 0:00:01\r\u001b[K     |███████▋                        | 378kB 4.2MB/s eta 0:00:01\r\u001b[K     |███████▉                        | 389kB 4.2MB/s eta 0:00:01\r\u001b[K     |████████                        | 399kB 4.2MB/s eta 0:00:01\r\u001b[K     |████████▏                       | 409kB 4.2MB/s eta 0:00:01\r\u001b[K     |████████▍                       | 419kB 4.2MB/s eta 0:00:01\r\u001b[K     |████████▋                       | 430kB 4.2MB/s eta 0:00:01\r\u001b[K     |████████▉                       | 440kB 4.2MB/s eta 0:00:01\r\u001b[K     |█████████                       | 450kB 4.2MB/s eta 0:00:01\r\u001b[K     |█████████▏                      | 460kB 4.2MB/s eta 0:00:01\r\u001b[K     |█████████▍                      | 471kB 4.2MB/s eta 0:00:01\r\u001b[K     |█████████▋                      | 481kB 4.2MB/s eta 0:00:01\r\u001b[K     |█████████▉                      | 491kB 4.2MB/s eta 0:00:01\r\u001b[K     |██████████                      | 501kB 4.2MB/s eta 0:00:01\r\u001b[K     |██████████▎                     | 512kB 4.2MB/s eta 0:00:01\r\u001b[K     |██████████▍                     | 522kB 4.2MB/s eta 0:00:01\r\u001b[K     |██████████▋                     | 532kB 4.2MB/s eta 0:00:01\r\u001b[K     |██████████▉                     | 542kB 4.2MB/s eta 0:00:01\r\u001b[K     |███████████                     | 552kB 4.2MB/s eta 0:00:01\r\u001b[K     |███████████▎                    | 563kB 4.2MB/s eta 0:00:01\r\u001b[K     |███████████▌                    | 573kB 4.2MB/s eta 0:00:01\r\u001b[K     |███████████▊                    | 583kB 4.2MB/s eta 0:00:01\r\u001b[K     |███████████▉                    | 593kB 4.2MB/s eta 0:00:01\r\u001b[K     |████████████                    | 604kB 4.2MB/s eta 0:00:01\r\u001b[K     |████████████▎                   | 614kB 4.2MB/s eta 0:00:01\r\u001b[K     |████████████▌                   | 624kB 4.2MB/s eta 0:00:01\r\u001b[K     |████████████▊                   | 634kB 4.2MB/s eta 0:00:01\r\u001b[K     |█████████████                   | 645kB 4.2MB/s eta 0:00:01\r\u001b[K     |█████████████                   | 655kB 4.2MB/s eta 0:00:01\r\u001b[K     |█████████████▎                  | 665kB 4.2MB/s eta 0:00:01\r\u001b[K     |█████████████▌                  | 675kB 4.2MB/s eta 0:00:01\r\u001b[K     |█████████████▊                  | 686kB 4.2MB/s eta 0:00:01\r\u001b[K     |██████████████                  | 696kB 4.2MB/s eta 0:00:01\r\u001b[K     |██████████████▏                 | 706kB 4.2MB/s eta 0:00:01\r\u001b[K     |██████████████▎                 | 716kB 4.2MB/s eta 0:00:01\r\u001b[K     |██████████████▌                 | 727kB 4.2MB/s eta 0:00:01\r\u001b[K     |██████████████▊                 | 737kB 4.2MB/s eta 0:00:01\r\u001b[K     |███████████████                 | 747kB 4.2MB/s eta 0:00:01\r\u001b[K     |███████████████▏                | 757kB 4.2MB/s eta 0:00:01\r\u001b[K     |███████████████▍                | 768kB 4.2MB/s eta 0:00:01\r\u001b[K     |███████████████▋                | 778kB 4.2MB/s eta 0:00:01\r\u001b[K     |███████████████▊                | 788kB 4.2MB/s eta 0:00:01\r\u001b[K     |████████████████                | 798kB 4.2MB/s eta 0:00:01\r\u001b[K     |████████████████▏               | 808kB 4.2MB/s eta 0:00:01\r\u001b[K     |████████████████▍               | 819kB 4.2MB/s eta 0:00:01\r\u001b[K     |████████████████▋               | 829kB 4.2MB/s eta 0:00:01\r\u001b[K     |████████████████▉               | 839kB 4.2MB/s eta 0:00:01\r\u001b[K     |█████████████████               | 849kB 4.2MB/s eta 0:00:01\r\u001b[K     |█████████████████▏              | 860kB 4.2MB/s eta 0:00:01\r\u001b[K     |█████████████████▍              | 870kB 4.2MB/s eta 0:00:01\r\u001b[K     |█████████████████▋              | 880kB 4.2MB/s eta 0:00:01\r\u001b[K     |█████████████████▉              | 890kB 4.2MB/s eta 0:00:01\r\u001b[K     |██████████████████              | 901kB 4.2MB/s eta 0:00:01\r\u001b[K     |██████████████████▎             | 911kB 4.2MB/s eta 0:00:01\r\u001b[K     |██████████████████▍             | 921kB 4.2MB/s eta 0:00:01\r\u001b[K     |██████████████████▋             | 931kB 4.2MB/s eta 0:00:01\r\u001b[K     |██████████████████▉             | 942kB 4.2MB/s eta 0:00:01\r\u001b[K     |███████████████████             | 952kB 4.2MB/s eta 0:00:01\r\u001b[K     |███████████████████▎            | 962kB 4.2MB/s eta 0:00:01\r\u001b[K     |███████████████████▌            | 972kB 4.2MB/s eta 0:00:01\r\u001b[K     |███████████████████▋            | 983kB 4.2MB/s eta 0:00:01\r\u001b[K     |███████████████████▉            | 993kB 4.2MB/s eta 0:00:01\r\u001b[K     |████████████████████            | 1.0MB 4.2MB/s eta 0:00:01\r\u001b[K     |████████████████████▎           | 1.0MB 4.2MB/s eta 0:00:01\r\u001b[K     |████████████████████▌           | 1.0MB 4.2MB/s eta 0:00:01\r\u001b[K     |████████████████████▊           | 1.0MB 4.2MB/s eta 0:00:01\r\u001b[K     |████████████████████▉           | 1.0MB 4.2MB/s eta 0:00:01\r\u001b[K     |█████████████████████           | 1.1MB 4.2MB/s eta 0:00:01\r\u001b[K     |█████████████████████▎          | 1.1MB 4.2MB/s eta 0:00:01\r\u001b[K     |█████████████████████▌          | 1.1MB 4.2MB/s eta 0:00:01\r\u001b[K     |█████████████████████▊          | 1.1MB 4.2MB/s eta 0:00:01\r\u001b[K     |██████████████████████          | 1.1MB 4.2MB/s eta 0:00:01\r\u001b[K     |██████████████████████▏         | 1.1MB 4.2MB/s eta 0:00:01\r\u001b[K     |██████████████████████▎         | 1.1MB 4.2MB/s eta 0:00:01\r\u001b[K     |██████████████████████▌         | 1.1MB 4.2MB/s eta 0:00:01\r\u001b[K     |██████████████████████▊         | 1.1MB 4.2MB/s eta 0:00:01\r\u001b[K     |███████████████████████         | 1.1MB 4.2MB/s eta 0:00:01\r\u001b[K     |███████████████████████▏        | 1.2MB 4.2MB/s eta 0:00:01\r\u001b[K     |███████████████████████▍        | 1.2MB 4.2MB/s eta 0:00:01\r\u001b[K     |███████████████████████▌        | 1.2MB 4.2MB/s eta 0:00:01\r\u001b[K     |███████████████████████▊        | 1.2MB 4.2MB/s eta 0:00:01\r\u001b[K     |████████████████████████        | 1.2MB 4.2MB/s eta 0:00:01\r\u001b[K     |████████████████████████▏       | 1.2MB 4.2MB/s eta 0:00:01\r\u001b[K     |████████████████████████▍       | 1.2MB 4.2MB/s eta 0:00:01\r\u001b[K     |████████████████████████▋       | 1.2MB 4.2MB/s eta 0:00:01\r\u001b[K     |████████████████████████▊       | 1.2MB 4.2MB/s eta 0:00:01\r\u001b[K     |█████████████████████████       | 1.2MB 4.2MB/s eta 0:00:01\r\u001b[K     |█████████████████████████▏      | 1.3MB 4.2MB/s eta 0:00:01\r\u001b[K     |█████████████████████████▍      | 1.3MB 4.2MB/s eta 0:00:01\r\u001b[K     |█████████████████████████▋      | 1.3MB 4.2MB/s eta 0:00:01\r\u001b[K     |█████████████████████████▉      | 1.3MB 4.2MB/s eta 0:00:01\r\u001b[K     |██████████████████████████      | 1.3MB 4.2MB/s eta 0:00:01\r\u001b[K     |██████████████████████████▏     | 1.3MB 4.2MB/s eta 0:00:01\r\u001b[K     |██████████████████████████▍     | 1.3MB 4.2MB/s eta 0:00:01\r\u001b[K     |██████████████████████████▋     | 1.3MB 4.2MB/s eta 0:00:01\r\u001b[K     |██████████████████████████▉     | 1.3MB 4.2MB/s eta 0:00:01\r\u001b[K     |███████████████████████████     | 1.4MB 4.2MB/s eta 0:00:01\r\u001b[K     |███████████████████████████▎    | 1.4MB 4.2MB/s eta 0:00:01\r\u001b[K     |███████████████████████████▍    | 1.4MB 4.2MB/s eta 0:00:01\r\u001b[K     |███████████████████████████▋    | 1.4MB 4.2MB/s eta 0:00:01\r\u001b[K     |███████████████████████████▉    | 1.4MB 4.2MB/s eta 0:00:01\r\u001b[K     |████████████████████████████    | 1.4MB 4.2MB/s eta 0:00:01\r\u001b[K     |████████████████████████████▎   | 1.4MB 4.2MB/s eta 0:00:01\r\u001b[K     |████████████████████████████▌   | 1.4MB 4.2MB/s eta 0:00:01\r\u001b[K     |████████████████████████████▋   | 1.4MB 4.2MB/s eta 0:00:01\r\u001b[K     |████████████████████████████▉   | 1.4MB 4.2MB/s eta 0:00:01\r\u001b[K     |█████████████████████████████   | 1.5MB 4.2MB/s eta 0:00:01\r\u001b[K     |█████████████████████████████▎  | 1.5MB 4.2MB/s eta 0:00:01\r\u001b[K     |█████████████████████████████▌  | 1.5MB 4.2MB/s eta 0:00:01\r\u001b[K     |█████████████████████████████▊  | 1.5MB 4.2MB/s eta 0:00:01\r\u001b[K     |██████████████████████████████  | 1.5MB 4.2MB/s eta 0:00:01\r\u001b[K     |██████████████████████████████  | 1.5MB 4.2MB/s eta 0:00:01\r\u001b[K     |██████████████████████████████▎ | 1.5MB 4.2MB/s eta 0:00:01\r\u001b[K     |██████████████████████████████▌ | 1.5MB 4.2MB/s eta 0:00:01\r\u001b[K     |██████████████████████████████▊ | 1.5MB 4.2MB/s eta 0:00:01\r\u001b[K     |███████████████████████████████ | 1.5MB 4.2MB/s eta 0:00:01\r\u001b[K     |███████████████████████████████▏| 1.6MB 4.2MB/s eta 0:00:01\r\u001b[K     |███████████████████████████████▎| 1.6MB 4.2MB/s eta 0:00:01\r\u001b[K     |███████████████████████████████▌| 1.6MB 4.2MB/s eta 0:00:01\r\u001b[K     |███████████████████████████████▊| 1.6MB 4.2MB/s eta 0:00:01\r\u001b[K     |████████████████████████████████| 1.6MB 4.2MB/s eta 0:00:01\r\u001b[K     |████████████████████████████████| 1.6MB 4.2MB/s \n",
            "\u001b[?25hRequirement already satisfied: numpy in /usr/local/lib/python3.6/dist-packages (from tensor2tensor==1.14.1) (1.19.4)\n",
            "Requirement already satisfied: opencv-python in /usr/local/lib/python3.6/dist-packages (from tensor2tensor==1.14.1) (4.1.2.30)\n",
            "Collecting gevent\n",
            "\u001b[?25l  Downloading https://files.pythonhosted.org/packages/3f/92/b80b922f08f222faca53c8d278e2e612192bc74b0e1f0db2f80a6ee46982/gevent-20.9.0-cp36-cp36m-manylinux2010_x86_64.whl (5.3MB)\n",
            "\u001b[K     |████████████████████████████████| 5.3MB 41.8MB/s \n",
            "\u001b[?25hRequirement already satisfied: requests in /usr/local/lib/python3.6/dist-packages (from tensor2tensor==1.14.1) (2.23.0)\n",
            "Collecting pypng\n",
            "\u001b[?25l  Downloading https://files.pythonhosted.org/packages/bc/fb/f719f1ac965e2101aa6ea6f54ef8b40f8fbb033f6ad07c017663467f5147/pypng-0.0.20.tar.gz (649kB)\n",
            "\u001b[K     |████████████████████████████████| 655kB 53.9MB/s \n",
            "\u001b[?25hCollecting kfac\n",
            "\u001b[?25l  Downloading https://files.pythonhosted.org/packages/1c/36/06fe2c757044bb51906fef231ac48cc5bf9a277fc9a8c7e1108d7e9e8cfd/kfac-0.2.3-py2.py3-none-any.whl (191kB)\n",
            "\u001b[K     |████████████████████████████████| 194kB 54.1MB/s \n",
            "\u001b[?25hRequirement already satisfied: sympy in /usr/local/lib/python3.6/dist-packages (from tensor2tensor==1.14.1) (1.1.1)\n",
            "Collecting mesh-tensorflow\n",
            "\u001b[?25l  Downloading https://files.pythonhosted.org/packages/e1/20/23bbc94034e16bb1ace73e9e7922226e31d6d36b88dcfa257d2c59b3f465/mesh_tensorflow-0.1.18-py3-none-any.whl (361kB)\n",
            "\u001b[K     |████████████████████████████████| 368kB 51.5MB/s \n",
            "\u001b[?25hRequirement already satisfied: gin-config in /usr/local/lib/python3.6/dist-packages (from tensor2tensor==1.14.1) (0.4.0)\n",
            "Requirement already satisfied: tqdm in /usr/local/lib/python3.6/dist-packages (from tensor2tensor==1.14.1) (4.41.1)\n",
            "Requirement already satisfied: scipy in /usr/local/lib/python3.6/dist-packages (from tensor2tensor==1.14.1) (1.4.1)\n",
            "Requirement already satisfied: tensorflow-datasets in /usr/local/lib/python3.6/dist-packages (from tensor2tensor==1.14.1) (4.0.1)\n",
            "Requirement already satisfied: h5py in /usr/local/lib/python3.6/dist-packages (from tensor2tensor==1.14.1) (2.10.0)\n",
            "Requirement already satisfied: gym in /usr/local/lib/python3.6/dist-packages (from tensor2tensor==1.14.1) (0.17.3)\n",
            "Collecting tensorflow-probability==0.7.0\n",
            "\u001b[?25l  Downloading https://files.pythonhosted.org/packages/3e/3a/c10b6c22320531c774402ac7186d1b673374e2a9d12502cbc8d811e4601c/tensorflow_probability-0.7.0-py2.py3-none-any.whl (981kB)\n",
            "\u001b[K     |████████████████████████████████| 983kB 52.8MB/s \n",
            "\u001b[?25hRequirement already satisfied: google-api-python-client in /usr/local/lib/python3.6/dist-packages (from tensor2tensor==1.14.1) (1.7.12)\n",
            "Requirement already satisfied: oauth2client in /usr/local/lib/python3.6/dist-packages (from tensor2tensor==1.14.1) (4.1.3)\n",
            "Requirement already satisfied: six in /usr/local/lib/python3.6/dist-packages (from tensor2tensor==1.14.1) (1.15.0)\n",
            "Collecting bz2file\n",
            "  Downloading https://files.pythonhosted.org/packages/61/39/122222b5e85cd41c391b68a99ee296584b2a2d1d233e7ee32b4532384f2d/bz2file-0.98.tar.gz\n",
            "Collecting gunicorn\n",
            "\u001b[?25l  Downloading https://files.pythonhosted.org/packages/69/ca/926f7cd3a2014b16870086b2d0fdc84a9e49473c68a8dff8b57f7c156f43/gunicorn-20.0.4-py2.py3-none-any.whl (77kB)\n",
            "\u001b[K     |████████████████████████████████| 81kB 9.2MB/s \n",
            "\u001b[?25hRequirement already satisfied: flask in /usr/local/lib/python3.6/dist-packages (from tensor2tensor==1.14.1) (1.1.2)\n",
            "Requirement already satisfied: dopamine-rl in /usr/local/lib/python3.6/dist-packages (from tensor2tensor==1.14.1) (1.0.5)\n",
            "Requirement already satisfied: Pillow in /usr/local/lib/python3.6/dist-packages (from tensor2tensor==1.14.1) (7.0.0)\n",
            "Collecting tensorflow-gan\n",
            "\u001b[?25l  Downloading https://files.pythonhosted.org/packages/0c/2e/62922111d7d50e1900e3030764743ea7735540ce103b3ab30fd5cd2d8a2b/tensorflow_gan-2.0.0-py2.py3-none-any.whl (365kB)\n",
            "\u001b[K     |████████████████████████████████| 368kB 54.2MB/s \n",
            "\u001b[?25hRequirement already satisfied: future in /usr/local/lib/python3.6/dist-packages (from tensor2tensor==1.14.1) (0.16.0)\n",
            "Collecting greenlet>=0.4.17; platform_python_implementation == \"CPython\"\n",
            "\u001b[?25l  Downloading https://files.pythonhosted.org/packages/80/d0/532e160c777b42f6f393f9de8c88abb8af6c892037c55e4d3a8a211324dd/greenlet-0.4.17-cp36-cp36m-manylinux1_x86_64.whl (44kB)\n",
            "\u001b[K     |████████████████████████████████| 51kB 5.8MB/s \n",
            "\u001b[?25hCollecting zope.event\n",
            "  Downloading https://files.pythonhosted.org/packages/9e/85/b45408c64f3b888976f1d5b37eed8d746b8d5729a66a49ec846fda27d371/zope.event-4.5.0-py2.py3-none-any.whl\n",
            "Collecting zope.interface\n",
            "\u001b[?25l  Downloading https://files.pythonhosted.org/packages/82/b0/da8afd9b3bd50c7665ecdac062f182982af1173c9081f9af7261091c5588/zope.interface-5.2.0-cp36-cp36m-manylinux2010_x86_64.whl (236kB)\n",
            "\u001b[K     |████████████████████████████████| 245kB 54.2MB/s \n",
            "\u001b[?25hRequirement already satisfied: setuptools in /usr/local/lib/python3.6/dist-packages (from gevent->tensor2tensor==1.14.1) (50.3.2)\n",
            "Requirement already satisfied: idna<3,>=2.5 in /usr/local/lib/python3.6/dist-packages (from requests->tensor2tensor==1.14.1) (2.10)\n",
            "Requirement already satisfied: chardet<4,>=3.0.2 in /usr/local/lib/python3.6/dist-packages (from requests->tensor2tensor==1.14.1) (3.0.4)\n",
            "Requirement already satisfied: certifi>=2017.4.17 in /usr/local/lib/python3.6/dist-packages (from requests->tensor2tensor==1.14.1) (2020.12.5)\n",
            "Requirement already satisfied: urllib3!=1.25.0,!=1.25.1,<1.26,>=1.21.1 in /usr/local/lib/python3.6/dist-packages (from requests->tensor2tensor==1.14.1) (1.24.3)\n",
            "Requirement already satisfied: mpmath>=0.19 in /usr/local/lib/python3.6/dist-packages (from sympy->tensor2tensor==1.14.1) (1.1.0)\n",
            "Requirement already satisfied: absl-py in /usr/local/lib/python3.6/dist-packages (from mesh-tensorflow->tensor2tensor==1.14.1) (0.10.0)\n",
            "Requirement already satisfied: tensorflow-metadata in /usr/local/lib/python3.6/dist-packages (from tensorflow-datasets->tensor2tensor==1.14.1) (0.26.0)\n",
            "Requirement already satisfied: importlib-resources; python_version < \"3.9\" in /usr/local/lib/python3.6/dist-packages (from tensorflow-datasets->tensor2tensor==1.14.1) (3.3.0)\n",
            "Requirement already satisfied: dm-tree in /usr/local/lib/python3.6/dist-packages (from tensorflow-datasets->tensor2tensor==1.14.1) (0.1.5)\n",
            "Requirement already satisfied: protobuf>=3.6.1 in /usr/local/lib/python3.6/dist-packages (from tensorflow-datasets->tensor2tensor==1.14.1) (3.12.4)\n",
            "Requirement already satisfied: termcolor in /usr/local/lib/python3.6/dist-packages (from tensorflow-datasets->tensor2tensor==1.14.1) (1.1.0)\n",
            "Requirement already satisfied: dataclasses; python_version < \"3.7\" in /usr/local/lib/python3.6/dist-packages (from tensorflow-datasets->tensor2tensor==1.14.1) (0.8)\n",
            "Requirement already satisfied: dill in /usr/local/lib/python3.6/dist-packages (from tensorflow-datasets->tensor2tensor==1.14.1) (0.3.3)\n",
            "Requirement already satisfied: attrs>=18.1.0 in /usr/local/lib/python3.6/dist-packages (from tensorflow-datasets->tensor2tensor==1.14.1) (20.3.0)\n",
            "Requirement already satisfied: promise in /usr/local/lib/python3.6/dist-packages (from tensorflow-datasets->tensor2tensor==1.14.1) (2.3)\n",
            "Requirement already satisfied: cloudpickle<1.7.0,>=1.2.0 in /usr/local/lib/python3.6/dist-packages (from gym->tensor2tensor==1.14.1) (1.3.0)\n",
            "Requirement already satisfied: pyglet<=1.5.0,>=1.4.0 in /usr/local/lib/python3.6/dist-packages (from gym->tensor2tensor==1.14.1) (1.5.0)\n",
            "Requirement already satisfied: decorator in /usr/local/lib/python3.6/dist-packages (from tensorflow-probability==0.7.0->tensor2tensor==1.14.1) (4.4.2)\n",
            "Requirement already satisfied: google-auth>=1.4.1 in /usr/local/lib/python3.6/dist-packages (from google-api-python-client->tensor2tensor==1.14.1) (1.17.2)\n",
            "Requirement already satisfied: google-auth-httplib2>=0.0.3 in /usr/local/lib/python3.6/dist-packages (from google-api-python-client->tensor2tensor==1.14.1) (0.0.4)\n",
            "Requirement already satisfied: uritemplate<4dev,>=3.0.0 in /usr/local/lib/python3.6/dist-packages (from google-api-python-client->tensor2tensor==1.14.1) (3.0.1)\n",
            "Requirement already satisfied: httplib2<1dev,>=0.17.0 in /usr/local/lib/python3.6/dist-packages (from google-api-python-client->tensor2tensor==1.14.1) (0.17.4)\n",
            "Requirement already satisfied: rsa>=3.1.4 in /usr/local/lib/python3.6/dist-packages (from oauth2client->tensor2tensor==1.14.1) (4.6)\n",
            "Requirement already satisfied: pyasn1>=0.1.7 in /usr/local/lib/python3.6/dist-packages (from oauth2client->tensor2tensor==1.14.1) (0.4.8)\n",
            "Requirement already satisfied: pyasn1-modules>=0.0.5 in /usr/local/lib/python3.6/dist-packages (from oauth2client->tensor2tensor==1.14.1) (0.2.8)\n",
            "Requirement already satisfied: Werkzeug>=0.15 in /usr/local/lib/python3.6/dist-packages (from flask->tensor2tensor==1.14.1) (1.0.1)\n",
            "Requirement already satisfied: Jinja2>=2.10.1 in /usr/local/lib/python3.6/dist-packages (from flask->tensor2tensor==1.14.1) (2.11.2)\n",
            "Requirement already satisfied: itsdangerous>=0.24 in /usr/local/lib/python3.6/dist-packages (from flask->tensor2tensor==1.14.1) (1.1.0)\n",
            "Requirement already satisfied: click>=5.1 in /usr/local/lib/python3.6/dist-packages (from flask->tensor2tensor==1.14.1) (7.1.2)\n",
            "Requirement already satisfied: tensorflow-hub>=0.2 in /usr/local/lib/python3.6/dist-packages (from tensorflow-gan->tensor2tensor==1.14.1) (0.10.0)\n",
            "Requirement already satisfied: googleapis-common-protos<2,>=1.52.0 in /usr/local/lib/python3.6/dist-packages (from tensorflow-metadata->tensorflow-datasets->tensor2tensor==1.14.1) (1.52.0)\n",
            "Requirement already satisfied: zipp>=0.4; python_version < \"3.8\" in /usr/local/lib/python3.6/dist-packages (from importlib-resources; python_version < \"3.9\"->tensorflow-datasets->tensor2tensor==1.14.1) (3.4.0)\n",
            "Requirement already satisfied: cachetools<5.0,>=2.0.0 in /usr/local/lib/python3.6/dist-packages (from google-auth>=1.4.1->google-api-python-client->tensor2tensor==1.14.1) (4.2.0)\n",
            "Requirement already satisfied: MarkupSafe>=0.23 in /usr/local/lib/python3.6/dist-packages (from Jinja2>=2.10.1->flask->tensor2tensor==1.14.1) (1.1.1)\n",
            "Building wheels for collected packages: pypng, bz2file\n",
            "  Building wheel for pypng (setup.py) ... \u001b[?25l\u001b[?25hdone\n",
            "  Created wheel for pypng: filename=pypng-0.0.20-cp36-none-any.whl size=67161 sha256=fd9948ab39cda1a52de064345e36dd14735bf2701b61c55f71d27e703c656e3f\n",
            "  Stored in directory: /root/.cache/pip/wheels/41/6b/ef/0493b536b6d4722c2ae9486691b1d49b922b9877922beeabb3\n",
            "  Building wheel for bz2file (setup.py) ... \u001b[?25l\u001b[?25hdone\n",
            "  Created wheel for bz2file: filename=bz2file-0.98-cp36-none-any.whl size=6883 sha256=1e99dfab11f83899e86efc08d69c6693318355e7ae5c26ec61d6d83ec955a985\n",
            "  Stored in directory: /root/.cache/pip/wheels/81/75/d6/e1317bf09bf1af5a30befc2a007869fa6e1f516b8f7c591cb9\n",
            "Successfully built pypng bz2file\n",
            "\u001b[31mERROR: kfac 0.2.3 has requirement tensorflow-probability==0.8, but you'll have tensorflow-probability 0.7.0 which is incompatible.\u001b[0m\n",
            "Installing collected packages: greenlet, zope.event, zope.interface, gevent, pypng, tensorflow-probability, kfac, mesh-tensorflow, bz2file, gunicorn, tensorflow-gan, tensor2tensor\n",
            "  Found existing installation: tensorflow-probability 0.11.0\n",
            "    Uninstalling tensorflow-probability-0.11.0:\n",
            "      Successfully uninstalled tensorflow-probability-0.11.0\n",
            "Successfully installed bz2file-0.98 gevent-20.9.0 greenlet-0.4.17 gunicorn-20.0.4 kfac-0.2.3 mesh-tensorflow-0.1.18 pypng-0.0.20 tensor2tensor-1.14.1 tensorflow-gan-2.0.0 tensorflow-probability-0.7.0 zope.event-4.5.0 zope.interface-5.2.0\n"
          ],
          "name": "stdout"
        }
      ]
    },
    {
      "cell_type": "code",
      "metadata": {
        "id": "FpG0_LVuwSJ3",
        "colab": {
          "base_uri": "https://localhost:8080/",
          "height": 1000
        },
        "outputId": "de3b9dc6-fdd0-41ef-89dd-c79250ec75ff"
      },
      "source": [
        "!pip install magenta==1.3.2"
      ],
      "execution_count": null,
      "outputs": [
        {
          "output_type": "stream",
          "text": [
            "Collecting magenta==1.3.2\n",
            "\u001b[?25l  Downloading https://files.pythonhosted.org/packages/d0/f3/69bb12d970ea53740b285b82c7a96b8ca290c93648e1fa679ff9f4db2e2c/magenta-1.3.2-py3-none-any.whl (1.6MB)\n",
            "\u001b[K     |████████████████████████████████| 1.6MB 4.3MB/s \n",
            "\u001b[?25hCollecting gym<0.16.0\n",
            "\u001b[?25l  Downloading https://files.pythonhosted.org/packages/e0/01/8771e8f914a627022296dab694092a11a7d417b6c8364f0a44a8debca734/gym-0.15.7.tar.gz (1.6MB)\n",
            "\u001b[K     |████████████████████████████████| 1.6MB 44.9MB/s \n",
            "\u001b[?25hRequirement already satisfied: six>=1.12.0 in /usr/local/lib/python3.6/dist-packages (from magenta==1.3.2) (1.15.0)\n",
            "Collecting tensorflow<2.0.0,>=1.15.0\n",
            "\u001b[?25l  Downloading https://files.pythonhosted.org/packages/8e/64/7a19837dd54d3f53b1ce5ae346ab401dde9678e8f233220317000bfdb3e2/tensorflow-1.15.4-cp36-cp36m-manylinux2010_x86_64.whl (110.5MB)\n",
            "\u001b[K     |████████████████████████████████| 110.5MB 48kB/s \n",
            "\u001b[?25hRequirement already satisfied: joblib>=0.12 in /usr/local/lib/python3.6/dist-packages (from magenta==1.3.2) (1.0.0)\n",
            "Requirement already satisfied: wheel in /usr/local/lib/python3.6/dist-packages (from magenta==1.3.2) (0.36.2)\n",
            "Requirement already satisfied: librosa>=0.6.2 in /usr/local/lib/python3.6/dist-packages (from magenta==1.3.2) (0.6.3)\n",
            "Collecting gast==0.2.2\n",
            "  Downloading https://files.pythonhosted.org/packages/4e/35/11749bf99b2d4e3cceb4d55ca22590b0d7c2c62b9de38ac4a4a7f4687421/gast-0.2.2.tar.gz\n",
            "Requirement already satisfied: intervaltree>=2.1.0 in /usr/local/lib/python3.6/dist-packages (from magenta==1.3.2) (2.1.0)\n",
            "Requirement already satisfied: pandas>=0.18.1 in /usr/local/lib/python3.6/dist-packages (from magenta==1.3.2) (1.1.5)\n",
            "Collecting pygtrie>=2.3\n",
            "  Downloading https://files.pythonhosted.org/packages/3c/93/557455c974a21dd7ec0da309b9223952457c1999072bfe1f8f47f6091eab/pygtrie-2.4.1.tar.gz\n",
            "Requirement already satisfied: scipy>=0.18.1 in /usr/local/lib/python3.6/dist-packages (from magenta==1.3.2) (1.4.1)\n",
            "Requirement already satisfied: tensor2tensor>=1.13.4 in /usr/local/lib/python3.6/dist-packages (from magenta==1.3.2) (1.14.1)\n",
            "Requirement already satisfied: IPython in /usr/local/lib/python3.6/dist-packages (from magenta==1.3.2) (5.5.0)\n",
            "Collecting mido==1.2.6\n",
            "\u001b[?25l  Downloading https://files.pythonhosted.org/packages/10/51/447066f537e05996a4579829b93390a4d85b0e3da90c5fbc34c1e70a37d5/mido-1.2.6-py2.py3-none-any.whl (69kB)\n",
            "\u001b[K     |████████████████████████████████| 71kB 7.6MB/s \n",
            "\u001b[?25hCollecting sk-video\n",
            "\u001b[?25l  Downloading https://files.pythonhosted.org/packages/dd/3f/ce848b8b2062ad1ccf1449094a740c775f6c761339f411e44f1e090f23a7/sk_video-1.1.10-py2.py3-none-any.whl (2.3MB)\n",
            "\u001b[K     |████████████████████████████████| 2.3MB 46.1MB/s \n",
            "\u001b[?25hRequirement already satisfied: tensorflow-probability==0.7.0 in /usr/local/lib/python3.6/dist-packages (from magenta==1.3.2) (0.7.0)\n",
            "Requirement already satisfied: bokeh>=0.12.0 in /usr/local/lib/python3.6/dist-packages (from magenta==1.3.2) (2.1.1)\n",
            "Requirement already satisfied: matplotlib>=1.5.3 in /usr/local/lib/python3.6/dist-packages (from magenta==1.3.2) (3.2.2)\n",
            "Collecting sox>=1.3.7\n",
            "  Downloading https://files.pythonhosted.org/packages/3f/67/1810e9a69956eb236967b7174c11fd8d8c2cdab051509286f72e6c7e147e/sox-1.4.1-py2.py3-none-any.whl\n",
            "Requirement already satisfied: attrs in /usr/local/lib/python3.6/dist-packages (from magenta==1.3.2) (20.3.0)\n",
            "Requirement already satisfied: protobuf>=3.6.1 in /usr/local/lib/python3.6/dist-packages (from magenta==1.3.2) (3.12.4)\n",
            "Requirement already satisfied: absl-py in /usr/local/lib/python3.6/dist-packages (from magenta==1.3.2) (0.10.0)\n",
            "Collecting backports.tempfile\n",
            "  Downloading https://files.pythonhosted.org/packages/b4/5c/077f910632476281428fe254807952eb47ca78e720d059a46178c541e669/backports.tempfile-1.0-py2.py3-none-any.whl\n",
            "Requirement already satisfied: imageio in /usr/local/lib/python3.6/dist-packages (from magenta==1.3.2) (2.4.1)\n",
            "Requirement already satisfied: Pillow>=3.4.2 in /usr/local/lib/python3.6/dist-packages (from magenta==1.3.2) (7.0.0)\n",
            "Requirement already satisfied: scikit-image in /usr/local/lib/python3.6/dist-packages (from magenta==1.3.2) (0.16.2)\n",
            "Collecting avro-python3!=1.9.2\n",
            "  Downloading https://files.pythonhosted.org/packages/3f/84/ef37f882a7d93674d6fe1aa6e99f18cf2f34e9b775952f3d85587c11c92e/avro-python3-1.10.1.tar.gz\n",
            "Collecting mir-eval>=0.4\n",
            "\u001b[?25l  Downloading https://files.pythonhosted.org/packages/0a/fe/be4f7a59ed71938e21e89f23afe93eea0d39eb3e77f83754a12028cf1a68/mir_eval-0.6.tar.gz (87kB)\n",
            "\u001b[K     |████████████████████████████████| 92kB 10.0MB/s \n",
            "\u001b[?25hRequirement already satisfied: numpy>=1.14.6 in /usr/local/lib/python3.6/dist-packages (from magenta==1.3.2) (1.19.4)\n",
            "Collecting python-rtmidi<1.2,>=1.1\n",
            "\u001b[?25l  Downloading https://files.pythonhosted.org/packages/2c/78/16f6d12abfccb6b1d330b1e1c6228536fa8d8ef6c14d560aba20176f044c/python-rtmidi-1.1.2.tar.gz (204kB)\n",
            "\u001b[K     |████████████████████████████████| 204kB 40.3MB/s \n",
            "\u001b[?25hCollecting apache-beam[gcp]>=2.14.0\n",
            "\u001b[?25l  Downloading https://files.pythonhosted.org/packages/87/cc/a4b787f070e749836ffec7ed6e7df606b5a00ef5b8307cf2c7f7a6a14f1c/apache_beam-2.26.0-cp36-cp36m-manylinux2010_x86_64.whl (8.9MB)\n",
            "\u001b[K     |████████████████████████████████| 8.9MB 28.9MB/s \n",
            "\u001b[?25hCollecting pretty-midi>=0.2.6\n",
            "\u001b[?25l  Downloading https://files.pythonhosted.org/packages/bc/8e/63c6e39a7a64623a9cd6aec530070c70827f6f8f40deec938f323d7b1e15/pretty_midi-0.2.9.tar.gz (5.6MB)\n",
            "\u001b[K     |████████████████████████████████| 5.6MB 40.8MB/s \n",
            "\u001b[?25hCollecting dm-sonnet<1.36.0\n",
            "\u001b[?25l  Downloading https://files.pythonhosted.org/packages/49/8f/3178e49a9b463610a85b37f5206ae5ba5a49d00eb0c7135af652fd4bc22b/dm_sonnet-1.35-py3-none-any.whl (652kB)\n",
            "\u001b[K     |████████████████████████████████| 655kB 34.4MB/s \n",
            "\u001b[?25hRequirement already satisfied: tensorflow-datasets>=1.0.2 in /usr/local/lib/python3.6/dist-packages (from magenta==1.3.2) (4.0.1)\n",
            "Requirement already satisfied: pyglet<=1.5.0,>=1.4.0 in /usr/local/lib/python3.6/dist-packages (from gym<0.16.0->magenta==1.3.2) (1.5.0)\n",
            "Collecting cloudpickle~=1.2.0\n",
            "  Downloading https://files.pythonhosted.org/packages/c1/49/334e279caa3231255725c8e860fa93e72083567625573421db8875846c14/cloudpickle-1.2.2-py2.py3-none-any.whl\n",
            "Requirement already satisfied: opt-einsum>=2.3.2 in /usr/local/lib/python3.6/dist-packages (from tensorflow<2.0.0,>=1.15.0->magenta==1.3.2) (3.3.0)\n",
            "Collecting tensorflow-estimator==1.15.1\n",
            "\u001b[?25l  Downloading https://files.pythonhosted.org/packages/de/62/2ee9cd74c9fa2fa450877847ba560b260f5d0fb70ee0595203082dafcc9d/tensorflow_estimator-1.15.1-py2.py3-none-any.whl (503kB)\n",
            "\u001b[K     |████████████████████████████████| 512kB 43.7MB/s \n",
            "\u001b[?25hRequirement already satisfied: astor>=0.6.0 in /usr/local/lib/python3.6/dist-packages (from tensorflow<2.0.0,>=1.15.0->magenta==1.3.2) (0.8.1)\n",
            "Requirement already satisfied: keras-preprocessing>=1.0.5 in /usr/local/lib/python3.6/dist-packages (from tensorflow<2.0.0,>=1.15.0->magenta==1.3.2) (1.1.2)\n",
            "Requirement already satisfied: wrapt>=1.11.1 in /usr/local/lib/python3.6/dist-packages (from tensorflow<2.0.0,>=1.15.0->magenta==1.3.2) (1.12.1)\n",
            "Requirement already satisfied: google-pasta>=0.1.6 in /usr/local/lib/python3.6/dist-packages (from tensorflow<2.0.0,>=1.15.0->magenta==1.3.2) (0.2.0)\n",
            "Requirement already satisfied: termcolor>=1.1.0 in /usr/local/lib/python3.6/dist-packages (from tensorflow<2.0.0,>=1.15.0->magenta==1.3.2) (1.1.0)\n",
            "Collecting keras-applications>=1.0.8\n",
            "\u001b[?25l  Downloading https://files.pythonhosted.org/packages/71/e3/19762fdfc62877ae9102edf6342d71b28fbfd9dea3d2f96a882ce099b03f/Keras_Applications-1.0.8-py3-none-any.whl (50kB)\n",
            "\u001b[K     |████████████████████████████████| 51kB 5.0MB/s \n",
            "\u001b[?25hRequirement already satisfied: grpcio>=1.8.6 in /usr/local/lib/python3.6/dist-packages (from tensorflow<2.0.0,>=1.15.0->magenta==1.3.2) (1.32.0)\n",
            "Collecting tensorboard<1.16.0,>=1.15.0\n",
            "\u001b[?25l  Downloading https://files.pythonhosted.org/packages/1e/e9/d3d747a97f7188f48aa5eda486907f3b345cd409f0a0850468ba867db246/tensorboard-1.15.0-py3-none-any.whl (3.8MB)\n",
            "\u001b[K     |████████████████████████████████| 3.8MB 55.5MB/s \n",
            "\u001b[?25hRequirement already satisfied: decorator>=3.0.0 in /usr/local/lib/python3.6/dist-packages (from librosa>=0.6.2->magenta==1.3.2) (4.4.2)\n",
            "Requirement already satisfied: numba>=0.38.0 in /usr/local/lib/python3.6/dist-packages (from librosa>=0.6.2->magenta==1.3.2) (0.48.0)\n",
            "Requirement already satisfied: audioread>=2.0.0 in /usr/local/lib/python3.6/dist-packages (from librosa>=0.6.2->magenta==1.3.2) (2.1.9)\n",
            "Requirement already satisfied: resampy>=0.2.0 in /usr/local/lib/python3.6/dist-packages (from librosa>=0.6.2->magenta==1.3.2) (0.2.2)\n",
            "Requirement already satisfied: scikit-learn!=0.19.0,>=0.14.0 in /usr/local/lib/python3.6/dist-packages (from librosa>=0.6.2->magenta==1.3.2) (0.22.2.post1)\n",
            "Requirement already satisfied: sortedcontainers in /usr/local/lib/python3.6/dist-packages (from intervaltree>=2.1.0->magenta==1.3.2) (2.3.0)\n",
            "Requirement already satisfied: pytz>=2017.2 in /usr/local/lib/python3.6/dist-packages (from pandas>=0.18.1->magenta==1.3.2) (2018.9)\n",
            "Requirement already satisfied: python-dateutil>=2.7.3 in /usr/local/lib/python3.6/dist-packages (from pandas>=0.18.1->magenta==1.3.2) (2.8.1)\n",
            "Requirement already satisfied: flask in /usr/local/lib/python3.6/dist-packages (from tensor2tensor>=1.13.4->magenta==1.3.2) (1.1.2)\n",
            "Requirement already satisfied: sympy in /usr/local/lib/python3.6/dist-packages (from tensor2tensor>=1.13.4->magenta==1.3.2) (1.1.1)\n",
            "Requirement already satisfied: future in /usr/local/lib/python3.6/dist-packages (from tensor2tensor>=1.13.4->magenta==1.3.2) (0.16.0)\n",
            "Requirement already satisfied: oauth2client in /usr/local/lib/python3.6/dist-packages (from tensor2tensor>=1.13.4->magenta==1.3.2) (4.1.3)\n",
            "Requirement already satisfied: requests in /usr/local/lib/python3.6/dist-packages (from tensor2tensor>=1.13.4->magenta==1.3.2) (2.23.0)\n",
            "Requirement already satisfied: h5py in /usr/local/lib/python3.6/dist-packages (from tensor2tensor>=1.13.4->magenta==1.3.2) (2.10.0)\n",
            "Requirement already satisfied: bz2file in /usr/local/lib/python3.6/dist-packages (from tensor2tensor>=1.13.4->magenta==1.3.2) (0.98)\n",
            "Requirement already satisfied: pypng in /usr/local/lib/python3.6/dist-packages (from tensor2tensor>=1.13.4->magenta==1.3.2) (0.0.20)\n",
            "Requirement already satisfied: gunicorn in /usr/local/lib/python3.6/dist-packages (from tensor2tensor>=1.13.4->magenta==1.3.2) (20.0.4)\n",
            "Requirement already satisfied: opencv-python in /usr/local/lib/python3.6/dist-packages (from tensor2tensor>=1.13.4->magenta==1.3.2) (4.1.2.30)\n",
            "Requirement already satisfied: gevent in /usr/local/lib/python3.6/dist-packages (from tensor2tensor>=1.13.4->magenta==1.3.2) (20.9.0)\n",
            "Requirement already satisfied: dopamine-rl in /usr/local/lib/python3.6/dist-packages (from tensor2tensor>=1.13.4->magenta==1.3.2) (1.0.5)\n",
            "Requirement already satisfied: gin-config in /usr/local/lib/python3.6/dist-packages (from tensor2tensor>=1.13.4->magenta==1.3.2) (0.4.0)\n",
            "Requirement already satisfied: google-api-python-client in /usr/local/lib/python3.6/dist-packages (from tensor2tensor>=1.13.4->magenta==1.3.2) (1.7.12)\n",
            "Requirement already satisfied: kfac in /usr/local/lib/python3.6/dist-packages (from tensor2tensor>=1.13.4->magenta==1.3.2) (0.2.3)\n",
            "Requirement already satisfied: mesh-tensorflow in /usr/local/lib/python3.6/dist-packages (from tensor2tensor>=1.13.4->magenta==1.3.2) (0.1.18)\n",
            "Requirement already satisfied: tensorflow-gan in /usr/local/lib/python3.6/dist-packages (from tensor2tensor>=1.13.4->magenta==1.3.2) (2.0.0)\n",
            "Requirement already satisfied: tqdm in /usr/local/lib/python3.6/dist-packages (from tensor2tensor>=1.13.4->magenta==1.3.2) (4.41.1)\n",
            "Requirement already satisfied: pickleshare in /usr/local/lib/python3.6/dist-packages (from IPython->magenta==1.3.2) (0.7.5)\n",
            "Requirement already satisfied: traitlets>=4.2 in /usr/local/lib/python3.6/dist-packages (from IPython->magenta==1.3.2) (4.3.3)\n",
            "Requirement already satisfied: prompt-toolkit<2.0.0,>=1.0.4 in /usr/local/lib/python3.6/dist-packages (from IPython->magenta==1.3.2) (1.0.18)\n",
            "Requirement already satisfied: pexpect; sys_platform != \"win32\" in /usr/local/lib/python3.6/dist-packages (from IPython->magenta==1.3.2) (4.8.0)\n",
            "Requirement already satisfied: setuptools>=18.5 in /usr/local/lib/python3.6/dist-packages (from IPython->magenta==1.3.2) (50.3.2)\n",
            "Requirement already satisfied: pygments in /usr/local/lib/python3.6/dist-packages (from IPython->magenta==1.3.2) (2.6.1)\n",
            "Requirement already satisfied: simplegeneric>0.8 in /usr/local/lib/python3.6/dist-packages (from IPython->magenta==1.3.2) (0.8.1)\n",
            "Requirement already satisfied: tornado>=5.1 in /usr/local/lib/python3.6/dist-packages (from bokeh>=0.12.0->magenta==1.3.2) (5.1.1)\n",
            "Requirement already satisfied: packaging>=16.8 in /usr/local/lib/python3.6/dist-packages (from bokeh>=0.12.0->magenta==1.3.2) (20.8)\n",
            "Requirement already satisfied: PyYAML>=3.10 in /usr/local/lib/python3.6/dist-packages (from bokeh>=0.12.0->magenta==1.3.2) (3.13)\n",
            "Requirement already satisfied: typing-extensions>=3.7.4 in /usr/local/lib/python3.6/dist-packages (from bokeh>=0.12.0->magenta==1.3.2) (3.7.4.3)\n",
            "Requirement already satisfied: Jinja2>=2.7 in /usr/local/lib/python3.6/dist-packages (from bokeh>=0.12.0->magenta==1.3.2) (2.11.2)\n",
            "Requirement already satisfied: pyparsing!=2.0.4,!=2.1.2,!=2.1.6,>=2.0.1 in /usr/local/lib/python3.6/dist-packages (from matplotlib>=1.5.3->magenta==1.3.2) (2.4.7)\n",
            "Requirement already satisfied: cycler>=0.10 in /usr/local/lib/python3.6/dist-packages (from matplotlib>=1.5.3->magenta==1.3.2) (0.10.0)\n",
            "Requirement already satisfied: kiwisolver>=1.0.1 in /usr/local/lib/python3.6/dist-packages (from matplotlib>=1.5.3->magenta==1.3.2) (1.3.1)\n",
            "Collecting backports.weakref\n",
            "  Downloading https://files.pythonhosted.org/packages/88/ec/f598b633c3d5ffe267aaada57d961c94fdfa183c5c3ebda2b6d151943db6/backports.weakref-1.0.post1-py2.py3-none-any.whl\n",
            "Requirement already satisfied: networkx>=2.0 in /usr/local/lib/python3.6/dist-packages (from scikit-image->magenta==1.3.2) (2.5)\n",
            "Requirement already satisfied: PyWavelets>=0.4.0 in /usr/local/lib/python3.6/dist-packages (from scikit-image->magenta==1.3.2) (1.1.1)\n",
            "Collecting dill<0.3.2,>=0.3.1.1\n",
            "\u001b[?25l  Downloading https://files.pythonhosted.org/packages/c7/11/345f3173809cea7f1a193bfbf02403fff250a3360e0e118a1630985e547d/dill-0.3.1.1.tar.gz (151kB)\n",
            "\u001b[K     |████████████████████████████████| 153kB 31.6MB/s \n",
            "\u001b[?25hCollecting hdfs<3.0.0,>=2.1.0\n",
            "\u001b[?25l  Downloading https://files.pythonhosted.org/packages/82/39/2c0879b1bcfd1f6ad078eb210d09dbce21072386a3997074ee91e60ddc5a/hdfs-2.5.8.tar.gz (41kB)\n",
            "\u001b[K     |████████████████████████████████| 51kB 6.4MB/s \n",
            "\u001b[?25hCollecting pyarrow<0.18.0,>=0.15.1\n",
            "\u001b[?25l  Downloading https://files.pythonhosted.org/packages/ba/3f/6cac1714fff444664603f92cb9fbe91c7ae25375880158b9e9691c4584c8/pyarrow-0.17.1-cp36-cp36m-manylinux2014_x86_64.whl (63.8MB)\n",
            "\u001b[K     |████████████████████████████████| 63.8MB 66kB/s \n",
            "\u001b[?25hRequirement already satisfied: pydot<2,>=1.2.0 in /usr/local/lib/python3.6/dist-packages (from apache-beam[gcp]>=2.14.0->magenta==1.3.2) (1.3.0)\n",
            "Collecting mock<3.0.0,>=1.0.1\n",
            "\u001b[?25l  Downloading https://files.pythonhosted.org/packages/e6/35/f187bdf23be87092bd0f1200d43d23076cee4d0dec109f195173fd3ebc79/mock-2.0.0-py2.py3-none-any.whl (56kB)\n",
            "\u001b[K     |████████████████████████████████| 61kB 8.2MB/s \n",
            "\u001b[?25hCollecting fastavro<2,>=0.21.4\n",
            "\u001b[?25l  Downloading https://files.pythonhosted.org/packages/5e/a2/7dfb27ff9526bb5ac0de00b9d33846c9a7becc9fea5e9564a2080274ad6a/fastavro-1.2.1-cp36-cp36m-manylinux2014_x86_64.whl (2.0MB)\n",
            "\u001b[K     |████████████████████████████████| 2.0MB 49.5MB/s \n",
            "\u001b[?25hRequirement already satisfied: crcmod<2.0,>=1.7 in /usr/local/lib/python3.6/dist-packages (from apache-beam[gcp]>=2.14.0->magenta==1.3.2) (1.7)\n",
            "Requirement already satisfied: httplib2<0.18.0,>=0.8 in /usr/local/lib/python3.6/dist-packages (from apache-beam[gcp]>=2.14.0->magenta==1.3.2) (0.17.4)\n",
            "Requirement already satisfied: pymongo<4.0.0,>=3.8.0 in /usr/local/lib/python3.6/dist-packages (from apache-beam[gcp]>=2.14.0->magenta==1.3.2) (3.11.2)\n",
            "Collecting google-cloud-language<2,>=1.3.0; extra == \"gcp\"\n",
            "\u001b[?25l  Downloading https://files.pythonhosted.org/packages/ba/b8/965a97ba60287910d342623da1da615254bded3e0965728cf7fc6339b7c8/google_cloud_language-1.3.0-py2.py3-none-any.whl (83kB)\n",
            "\u001b[K     |████████████████████████████████| 92kB 10.5MB/s \n",
            "\u001b[?25hCollecting google-cloud-pubsub<2,>=0.39.0; extra == \"gcp\"\n",
            "\u001b[?25l  Downloading https://files.pythonhosted.org/packages/1f/b3/dd83eca4cd1019d592e82595ea45d53f11e39db4ee99daa66ceb8a1b2d89/google_cloud_pubsub-1.7.0-py2.py3-none-any.whl (144kB)\n",
            "\u001b[K     |████████████████████████████████| 153kB 51.3MB/s \n",
            "\u001b[?25hCollecting google-auth<2,>=1.18.0; extra == \"gcp\"\n",
            "\u001b[?25l  Downloading https://files.pythonhosted.org/packages/3e/fd/df1b3a59aca9537a187413651ad63b290d165559150a868a298fa837fe7b/google_auth-1.24.0-py2.py3-none-any.whl (114kB)\n",
            "\u001b[K     |████████████████████████████████| 122kB 49.4MB/s \n",
            "\u001b[?25hCollecting google-cloud-spanner<2,>=1.13.0; extra == \"gcp\"\n",
            "\u001b[?25l  Downloading https://files.pythonhosted.org/packages/98/16/c9262ca40f3a278f38df9d21dece1ae01ee24f8ed29937bd1f066f908f9f/google_cloud_spanner-1.19.1-py2.py3-none-any.whl (255kB)\n",
            "\u001b[K     |████████████████████████████████| 256kB 50.9MB/s \n",
            "\u001b[?25hCollecting google-cloud-bigtable<2,>=0.31.1; extra == \"gcp\"\n",
            "\u001b[?25l  Downloading https://files.pythonhosted.org/packages/c5/78/0dd9ea16e3bf135f2d87a51482330f2ae5ca417c3b7ce66f811f25baa8ec/google_cloud_bigtable-1.6.1-py2.py3-none-any.whl (267kB)\n",
            "\u001b[K     |████████████████████████████████| 276kB 50.8MB/s \n",
            "\u001b[?25hCollecting google-cloud-build<3,>=2.0.0; extra == \"gcp\"\n",
            "\u001b[?25l  Downloading https://files.pythonhosted.org/packages/91/04/b566b23f3fdea72326efce6aef09e523b6f8ef3058959672f673c41ffaca/google_cloud_build-2.0.0-py2.py3-none-any.whl (67kB)\n",
            "\u001b[K     |████████████████████████████████| 71kB 7.4MB/s \n",
            "\u001b[?25hCollecting google-apitools<0.5.32,>=0.5.31; extra == \"gcp\"\n",
            "\u001b[?25l  Downloading https://files.pythonhosted.org/packages/19/da/aefc4cf4c168b5d875344cd9dddc77e3a2d11986b630251af5ce47dd2843/google-apitools-0.5.31.tar.gz (173kB)\n",
            "\u001b[K     |████████████████████████████████| 174kB 47.7MB/s \n",
            "\u001b[?25hRequirement already satisfied: google-cloud-bigquery<2,>=1.6.0; extra == \"gcp\" in /usr/local/lib/python3.6/dist-packages (from apache-beam[gcp]>=2.14.0->magenta==1.3.2) (1.21.0)\n",
            "Requirement already satisfied: cachetools<5,>=3.1.0; extra == \"gcp\" in /usr/local/lib/python3.6/dist-packages (from apache-beam[gcp]>=2.14.0->magenta==1.3.2) (4.2.0)\n",
            "Requirement already satisfied: google-cloud-datastore<2,>=1.7.1; extra == \"gcp\" in /usr/local/lib/python3.6/dist-packages (from apache-beam[gcp]>=2.14.0->magenta==1.3.2) (1.8.0)\n",
            "Collecting grpcio-gcp<1,>=0.2.2; extra == \"gcp\"\n",
            "  Downloading https://files.pythonhosted.org/packages/ba/83/1f1095815be0de19102df41e250ebbd7dae97d7d14e22c18da07ed5ed9d4/grpcio_gcp-0.2.2-py2.py3-none-any.whl\n",
            "Requirement already satisfied: google-cloud-core<2,>=0.28.1; extra == \"gcp\" in /usr/local/lib/python3.6/dist-packages (from apache-beam[gcp]>=2.14.0->magenta==1.3.2) (1.0.3)\n",
            "Collecting google-cloud-vision<2,>=0.38.0; extra == \"gcp\"\n",
            "\u001b[?25l  Downloading https://files.pythonhosted.org/packages/0d/7f/e10d602c2dc3f749f1b78377a3357790f1da71b28e7da9e5bc20b3a9bd40/google_cloud_vision-1.0.0-py2.py3-none-any.whl (435kB)\n",
            "\u001b[K     |████████████████████████████████| 440kB 44.6MB/s \n",
            "\u001b[?25hCollecting google-cloud-videointelligence<2,>=1.8.0; extra == \"gcp\"\n",
            "\u001b[?25l  Downloading https://files.pythonhosted.org/packages/e1/29/8d06211102c87768dc34943d9c92abd8b67491ffedd6d09b56305b1ab255/google_cloud_videointelligence-1.16.1-py2.py3-none-any.whl (183kB)\n",
            "\u001b[K     |████████████████████████████████| 184kB 51.7MB/s \n",
            "\u001b[?25hCollecting google-cloud-dlp<2,>=0.12.0; extra == \"gcp\"\n",
            "\u001b[?25l  Downloading https://files.pythonhosted.org/packages/9b/c3/5b73c15f59207b20df288573c2ea203c7b126df8330add380d8b50bc0d5c/google_cloud_dlp-1.0.0-py2.py3-none-any.whl (169kB)\n",
            "\u001b[K     |████████████████████████████████| 174kB 51.0MB/s \n",
            "\u001b[?25hCollecting semantic-version\n",
            "  Downloading https://files.pythonhosted.org/packages/a5/15/00ef3b7888a10363b7c402350eda3acf395ff05bebae312d1296e528516a/semantic_version-2.8.5-py2.py3-none-any.whl\n",
            "Requirement already satisfied: contextlib2 in /usr/local/lib/python3.6/dist-packages (from dm-sonnet<1.36.0->magenta==1.3.2) (0.5.5)\n",
            "Requirement already satisfied: importlib-resources; python_version < \"3.9\" in /usr/local/lib/python3.6/dist-packages (from tensorflow-datasets>=1.0.2->magenta==1.3.2) (3.3.0)\n",
            "Requirement already satisfied: promise in /usr/local/lib/python3.6/dist-packages (from tensorflow-datasets>=1.0.2->magenta==1.3.2) (2.3)\n",
            "Requirement already satisfied: tensorflow-metadata in /usr/local/lib/python3.6/dist-packages (from tensorflow-datasets>=1.0.2->magenta==1.3.2) (0.26.0)\n",
            "Requirement already satisfied: dm-tree in /usr/local/lib/python3.6/dist-packages (from tensorflow-datasets>=1.0.2->magenta==1.3.2) (0.1.5)\n",
            "Requirement already satisfied: dataclasses; python_version < \"3.7\" in /usr/local/lib/python3.6/dist-packages (from tensorflow-datasets>=1.0.2->magenta==1.3.2) (0.8)\n",
            "Requirement already satisfied: werkzeug>=0.11.15 in /usr/local/lib/python3.6/dist-packages (from tensorboard<1.16.0,>=1.15.0->tensorflow<2.0.0,>=1.15.0->magenta==1.3.2) (1.0.1)\n",
            "Requirement already satisfied: markdown>=2.6.8 in /usr/local/lib/python3.6/dist-packages (from tensorboard<1.16.0,>=1.15.0->tensorflow<2.0.0,>=1.15.0->magenta==1.3.2) (3.3.3)\n",
            "Requirement already satisfied: llvmlite<0.32.0,>=0.31.0dev0 in /usr/local/lib/python3.6/dist-packages (from numba>=0.38.0->librosa>=0.6.2->magenta==1.3.2) (0.31.0)\n",
            "Requirement already satisfied: click>=5.1 in /usr/local/lib/python3.6/dist-packages (from flask->tensor2tensor>=1.13.4->magenta==1.3.2) (7.1.2)\n",
            "Requirement already satisfied: itsdangerous>=0.24 in /usr/local/lib/python3.6/dist-packages (from flask->tensor2tensor>=1.13.4->magenta==1.3.2) (1.1.0)\n",
            "Requirement already satisfied: mpmath>=0.19 in /usr/local/lib/python3.6/dist-packages (from sympy->tensor2tensor>=1.13.4->magenta==1.3.2) (1.1.0)\n",
            "Requirement already satisfied: rsa>=3.1.4 in /usr/local/lib/python3.6/dist-packages (from oauth2client->tensor2tensor>=1.13.4->magenta==1.3.2) (4.6)\n",
            "Requirement already satisfied: pyasn1-modules>=0.0.5 in /usr/local/lib/python3.6/dist-packages (from oauth2client->tensor2tensor>=1.13.4->magenta==1.3.2) (0.2.8)\n",
            "Requirement already satisfied: pyasn1>=0.1.7 in /usr/local/lib/python3.6/dist-packages (from oauth2client->tensor2tensor>=1.13.4->magenta==1.3.2) (0.4.8)\n",
            "Requirement already satisfied: idna<3,>=2.5 in /usr/local/lib/python3.6/dist-packages (from requests->tensor2tensor>=1.13.4->magenta==1.3.2) (2.10)\n",
            "Requirement already satisfied: chardet<4,>=3.0.2 in /usr/local/lib/python3.6/dist-packages (from requests->tensor2tensor>=1.13.4->magenta==1.3.2) (3.0.4)\n",
            "Requirement already satisfied: urllib3!=1.25.0,!=1.25.1,<1.26,>=1.21.1 in /usr/local/lib/python3.6/dist-packages (from requests->tensor2tensor>=1.13.4->magenta==1.3.2) (1.24.3)\n",
            "Requirement already satisfied: certifi>=2017.4.17 in /usr/local/lib/python3.6/dist-packages (from requests->tensor2tensor>=1.13.4->magenta==1.3.2) (2020.12.5)\n",
            "Requirement already satisfied: zope.event in /usr/local/lib/python3.6/dist-packages (from gevent->tensor2tensor>=1.13.4->magenta==1.3.2) (4.5.0)\n",
            "Requirement already satisfied: greenlet>=0.4.17; platform_python_implementation == \"CPython\" in /usr/local/lib/python3.6/dist-packages (from gevent->tensor2tensor>=1.13.4->magenta==1.3.2) (0.4.17)\n",
            "Requirement already satisfied: zope.interface in /usr/local/lib/python3.6/dist-packages (from gevent->tensor2tensor>=1.13.4->magenta==1.3.2) (5.2.0)\n",
            "Requirement already satisfied: uritemplate<4dev,>=3.0.0 in /usr/local/lib/python3.6/dist-packages (from google-api-python-client->tensor2tensor>=1.13.4->magenta==1.3.2) (3.0.1)\n",
            "Requirement already satisfied: google-auth-httplib2>=0.0.3 in /usr/local/lib/python3.6/dist-packages (from google-api-python-client->tensor2tensor>=1.13.4->magenta==1.3.2) (0.0.4)\n",
            "Requirement already satisfied: tensorflow-hub>=0.2 in /usr/local/lib/python3.6/dist-packages (from tensorflow-gan->tensor2tensor>=1.13.4->magenta==1.3.2) (0.10.0)\n",
            "Requirement already satisfied: ipython-genutils in /usr/local/lib/python3.6/dist-packages (from traitlets>=4.2->IPython->magenta==1.3.2) (0.2.0)\n",
            "Requirement already satisfied: wcwidth in /usr/local/lib/python3.6/dist-packages (from prompt-toolkit<2.0.0,>=1.0.4->IPython->magenta==1.3.2) (0.2.5)\n",
            "Requirement already satisfied: ptyprocess>=0.5 in /usr/local/lib/python3.6/dist-packages (from pexpect; sys_platform != \"win32\"->IPython->magenta==1.3.2) (0.6.0)\n",
            "Requirement already satisfied: MarkupSafe>=0.23 in /usr/local/lib/python3.6/dist-packages (from Jinja2>=2.7->bokeh>=0.12.0->magenta==1.3.2) (1.1.1)\n",
            "Requirement already satisfied: docopt in /usr/local/lib/python3.6/dist-packages (from hdfs<3.0.0,>=2.1.0->apache-beam[gcp]>=2.14.0->magenta==1.3.2) (0.6.2)\n",
            "Collecting pbr>=0.11\n",
            "\u001b[?25l  Downloading https://files.pythonhosted.org/packages/fb/48/69046506f6ac61c1eaa9a0d42d22d54673b69e176d30ca98e3f61513e980/pbr-5.5.1-py2.py3-none-any.whl (106kB)\n",
            "\u001b[K     |████████████████████████████████| 112kB 48.3MB/s \n",
            "\u001b[?25hRequirement already satisfied: google-api-core[grpc]<2.0.0dev,>=1.14.0 in /usr/local/lib/python3.6/dist-packages (from google-cloud-language<2,>=1.3.0; extra == \"gcp\"->apache-beam[gcp]>=2.14.0->magenta==1.3.2) (1.16.0)\n",
            "Collecting grpc-google-iam-v1<0.13dev,>=0.12.3\n",
            "  Downloading https://files.pythonhosted.org/packages/65/19/2060c8faa325fddc09aa67af98ffcb6813f39a0ad805679fa64815362b3a/grpc-google-iam-v1-0.12.3.tar.gz\n",
            "Collecting proto-plus>=0.4.0\n",
            "\u001b[?25l  Downloading https://files.pythonhosted.org/packages/e8/e0/59ad1e6a7d62259027e9b48aedfc95ba63f9336b803d1b174769bcb2c7f9/proto-plus-1.13.0.tar.gz (44kB)\n",
            "\u001b[K     |████████████████████████████████| 51kB 6.6MB/s \n",
            "\u001b[?25hCollecting libcst>=0.2.5\n",
            "\u001b[?25l  Downloading https://files.pythonhosted.org/packages/ba/26/a67b3ce61ef35cd9abb1be25ee9b156ea45940903626ed4ea9777700ade4/libcst-0.3.16-py3-none-any.whl (505kB)\n",
            "\u001b[K     |████████████████████████████████| 512kB 45.0MB/s \n",
            "\u001b[?25hCollecting fasteners>=0.14\n",
            "  Downloading https://files.pythonhosted.org/packages/78/20/c862d765287e9e8b29f826749ebae8775bdca50b2cb2ca079346d5fbfd76/fasteners-0.16-py2.py3-none-any.whl\n",
            "Requirement already satisfied: google-resumable-media!=0.4.0,<0.5.0dev,>=0.3.1 in /usr/local/lib/python3.6/dist-packages (from google-cloud-bigquery<2,>=1.6.0; extra == \"gcp\"->apache-beam[gcp]>=2.14.0->magenta==1.3.2) (0.4.1)\n",
            "Requirement already satisfied: zipp>=0.4; python_version < \"3.8\" in /usr/local/lib/python3.6/dist-packages (from importlib-resources; python_version < \"3.9\"->tensorflow-datasets>=1.0.2->magenta==1.3.2) (3.4.0)\n",
            "Requirement already satisfied: googleapis-common-protos<2,>=1.52.0 in /usr/local/lib/python3.6/dist-packages (from tensorflow-metadata->tensorflow-datasets>=1.0.2->magenta==1.3.2) (1.52.0)\n",
            "Requirement already satisfied: importlib-metadata; python_version < \"3.8\" in /usr/local/lib/python3.6/dist-packages (from markdown>=2.6.8->tensorboard<1.16.0,>=1.15.0->tensorflow<2.0.0,>=1.15.0->magenta==1.3.2) (3.3.0)\n",
            "Collecting typing-inspect>=0.4.0\n",
            "  Downloading https://files.pythonhosted.org/packages/42/1c/66402db44184904a2f14722d317a4da0b5c8c78acfc3faf74362566635c5/typing_inspect-0.6.0-py3-none-any.whl\n",
            "Collecting mypy-extensions>=0.3.0\n",
            "  Downloading https://files.pythonhosted.org/packages/5c/eb/975c7c080f3223a5cdaff09612f3a5221e4ba534f7039db34c35d95fa6a5/mypy_extensions-0.4.3-py2.py3-none-any.whl\n",
            "Building wheels for collected packages: gym, gast, pygtrie, avro-python3, mir-eval, python-rtmidi, pretty-midi, dill, hdfs, google-apitools, grpc-google-iam-v1, proto-plus\n",
            "  Building wheel for gym (setup.py) ... \u001b[?25l\u001b[?25hdone\n",
            "  Created wheel for gym: filename=gym-0.15.7-cp36-none-any.whl size=1648841 sha256=3142e4c96657b16656fae60bd46e09d747ef31eda9acbee4f654589ff00b5809\n",
            "  Stored in directory: /root/.cache/pip/wheels/35/60/6a/f9c27ae133abaf5a5687ed2fa8ed19627d7fac5d843a27572b\n",
            "  Building wheel for gast (setup.py) ... \u001b[?25l\u001b[?25hdone\n",
            "  Created wheel for gast: filename=gast-0.2.2-cp36-none-any.whl size=7540 sha256=892f2411d919412607b214ec345359818892b4dc110e4c16531d7c714c3bde93\n",
            "  Stored in directory: /root/.cache/pip/wheels/5c/2e/7e/a1d4d4fcebe6c381f378ce7743a3ced3699feb89bcfbdadadd\n",
            "  Building wheel for pygtrie (setup.py) ... \u001b[?25l\u001b[?25hdone\n",
            "  Created wheel for pygtrie: filename=pygtrie-2.4.1-cp36-none-any.whl size=18986 sha256=f4694e28d4e7559c5c4821add6709b46f55c8c6f7e8541fce6dfb41e58182ef2\n",
            "  Stored in directory: /root/.cache/pip/wheels/90/75/bc/694b476fefce7ff5c4bcf2fbace5c4807f4728d68d0e81c381\n",
            "  Building wheel for avro-python3 (setup.py) ... \u001b[?25l\u001b[?25hdone\n",
            "  Created wheel for avro-python3: filename=avro_python3-1.10.1-cp36-none-any.whl size=43734 sha256=87274ee734ffcd80987d23139396ed74a07ecaddfc6acd0cbacdf29d044427b4\n",
            "  Stored in directory: /root/.cache/pip/wheels/65/fe/90/20d6d6d97223d80d20cb390be636619c536edab5658c12bdba\n",
            "  Building wheel for mir-eval (setup.py) ... \u001b[?25l\u001b[?25hdone\n",
            "  Created wheel for mir-eval: filename=mir_eval-0.6-cp36-none-any.whl size=96515 sha256=a40a0a4bc2456fe074d5a0a106ca053981ee0cfa0bb4df37d9f810ed4ae8b371\n",
            "  Stored in directory: /root/.cache/pip/wheels/49/ce/30/730fa72addf275e49d90683b01b3613048b4be3bf7ff8eb6ec\n",
            "  Building wheel for python-rtmidi (setup.py) ... \u001b[?25l\u001b[?25hdone\n",
            "  Created wheel for python-rtmidi: filename=python_rtmidi-1.1.2-cp36-cp36m-linux_x86_64.whl size=389877 sha256=35da4071a1fd6a276f2ee7981b4340733e8e730ff8273c19ce744b95b4e8fe4f\n",
            "  Stored in directory: /root/.cache/pip/wheels/b4/9d/55/0554f02fbc777976865e0ea603028a0f87854b7df385ffa366\n",
            "  Building wheel for pretty-midi (setup.py) ... \u001b[?25l\u001b[?25hdone\n",
            "  Created wheel for pretty-midi: filename=pretty_midi-0.2.9-cp36-none-any.whl size=5591954 sha256=fc22f895f0669f51f76e1c2f2c2c31ce33fd20a90df7c983fecc6ef3e3fe6759\n",
            "  Stored in directory: /root/.cache/pip/wheels/4c/a1/c6/b5697841db1112c6e5866d75a6b6bf1bef73b874782556ba66\n",
            "  Building wheel for dill (setup.py) ... \u001b[?25l\u001b[?25hdone\n",
            "  Created wheel for dill: filename=dill-0.3.1.1-cp36-none-any.whl size=78533 sha256=b1f2273bb32561d038fd1ca9cb19fe7578779e1a18bce5db85754805c4a845a6\n",
            "  Stored in directory: /root/.cache/pip/wheels/59/b1/91/f02e76c732915c4015ab4010f3015469866c1eb9b14058d8e7\n",
            "  Building wheel for hdfs (setup.py) ... \u001b[?25l\u001b[?25hdone\n",
            "  Created wheel for hdfs: filename=hdfs-2.5.8-cp36-none-any.whl size=33213 sha256=a17b9670d975be3c7f7fbc016a2a633b8bec2a810e2a79a0282aa1e4d9098b84\n",
            "  Stored in directory: /root/.cache/pip/wheels/fe/a7/05/23e3699975fc20f8a30e00ac1e515ab8c61168e982abe4ce70\n",
            "  Building wheel for google-apitools (setup.py) ... \u001b[?25l\u001b[?25hdone\n",
            "  Created wheel for google-apitools: filename=google_apitools-0.5.31-cp36-none-any.whl size=131043 sha256=bebf466e3a5a87a5339ac2258187d66408f410f67635db44296d5ea44d0c70bc\n",
            "  Stored in directory: /root/.cache/pip/wheels/3b/43/31/09a9dad88d3aec6fed2d63bd35dfc532fca372e2edec5af5bf\n",
            "  Building wheel for grpc-google-iam-v1 (setup.py) ... \u001b[?25l\u001b[?25hdone\n",
            "  Created wheel for grpc-google-iam-v1: filename=grpc_google_iam_v1-0.12.3-cp36-none-any.whl size=18500 sha256=a2e1ef31ac3e36d7f0a843266f272ef73186ad6331b0326e71d993683a10815f\n",
            "  Stored in directory: /root/.cache/pip/wheels/de/3a/83/77a1e18e1a8757186df834b86ce6800120ac9c79cd8ca4091b\n",
            "  Building wheel for proto-plus (setup.py) ... \u001b[?25l\u001b[?25hdone\n",
            "  Created wheel for proto-plus: filename=proto_plus-1.13.0-cp36-none-any.whl size=41592 sha256=778d5a8f776b799a43373566c751578cc48aaeaa5aa0d3bf14fc46a0d632de03\n",
            "  Stored in directory: /root/.cache/pip/wheels/65/57/45/b5c1c1c29003f3670581d84356fa449e1133da93c15f1de364\n",
            "Successfully built gym gast pygtrie avro-python3 mir-eval python-rtmidi pretty-midi dill hdfs google-apitools grpc-google-iam-v1 proto-plus\n",
            "\u001b[31mERROR: tensorflow 1.15.4 has requirement numpy<1.19.0,>=1.16.0, but you'll have numpy 1.19.4 which is incompatible.\u001b[0m\n",
            "\u001b[31mERROR: multiprocess 0.70.11.1 has requirement dill>=0.3.3, but you'll have dill 0.3.1.1 which is incompatible.\u001b[0m\n",
            "\u001b[31mERROR: kfac 0.2.3 has requirement tensorflow-probability==0.8, but you'll have tensorflow-probability 0.7.0 which is incompatible.\u001b[0m\n",
            "\u001b[31mERROR: google-colab 1.0.0 has requirement google-auth~=1.17.2, but you'll have google-auth 1.24.0 which is incompatible.\u001b[0m\n",
            "\u001b[31mERROR: google-cloud-spanner 1.19.1 has requirement google-cloud-core<2.0dev,>=1.4.1, but you'll have google-cloud-core 1.0.3 which is incompatible.\u001b[0m\n",
            "\u001b[31mERROR: google-cloud-bigtable 1.6.1 has requirement google-cloud-core<2.0dev,>=1.4.1, but you'll have google-cloud-core 1.0.3 which is incompatible.\u001b[0m\n",
            "\u001b[31mERROR: libcst 0.3.16 has requirement pyyaml>=5.2, but you'll have pyyaml 3.13 which is incompatible.\u001b[0m\n",
            "\u001b[31mERROR: google-cloud-build 2.0.0 has requirement google-api-core[grpc]<2.0.0dev,>=1.22.0, but you'll have google-api-core 1.16.0 which is incompatible.\u001b[0m\n",
            "\u001b[31mERROR: apache-beam 2.26.0 has requirement avro-python3!=1.9.2,<1.10.0,>=1.8.1, but you'll have avro-python3 1.10.1 which is incompatible.\u001b[0m\n",
            "\u001b[31mERROR: apache-beam 2.26.0 has requirement future<1.0.0,>=0.18.2, but you'll have future 0.16.0 which is incompatible.\u001b[0m\n",
            "\u001b[31mERROR: apache-beam 2.26.0 has requirement requests<3.0.0,>=2.24.0, but you'll have requests 2.23.0 which is incompatible.\u001b[0m\n",
            "Installing collected packages: cloudpickle, gym, tensorflow-estimator, gast, keras-applications, tensorboard, tensorflow, pygtrie, mido, sk-video, sox, backports.weakref, backports.tempfile, avro-python3, mir-eval, python-rtmidi, dill, hdfs, pyarrow, pbr, mock, fastavro, google-cloud-language, grpc-google-iam-v1, google-cloud-pubsub, google-auth, google-cloud-spanner, google-cloud-bigtable, proto-plus, mypy-extensions, typing-inspect, libcst, google-cloud-build, fasteners, google-apitools, grpcio-gcp, google-cloud-vision, google-cloud-videointelligence, google-cloud-dlp, apache-beam, pretty-midi, semantic-version, dm-sonnet, magenta\n",
            "  Found existing installation: cloudpickle 1.3.0\n",
            "    Uninstalling cloudpickle-1.3.0:\n",
            "      Successfully uninstalled cloudpickle-1.3.0\n",
            "  Found existing installation: gym 0.17.3\n",
            "    Uninstalling gym-0.17.3:\n",
            "      Successfully uninstalled gym-0.17.3\n",
            "  Found existing installation: tensorflow-estimator 2.4.0\n",
            "    Uninstalling tensorflow-estimator-2.4.0:\n",
            "      Successfully uninstalled tensorflow-estimator-2.4.0\n",
            "  Found existing installation: gast 0.3.3\n",
            "    Uninstalling gast-0.3.3:\n",
            "      Successfully uninstalled gast-0.3.3\n",
            "  Found existing installation: tensorboard 2.4.0\n",
            "    Uninstalling tensorboard-2.4.0:\n",
            "      Successfully uninstalled tensorboard-2.4.0\n",
            "  Found existing installation: tensorflow 2.4.0\n",
            "    Uninstalling tensorflow-2.4.0:\n",
            "      Successfully uninstalled tensorflow-2.4.0\n",
            "  Found existing installation: dill 0.3.3\n",
            "    Uninstalling dill-0.3.3:\n",
            "      Successfully uninstalled dill-0.3.3\n",
            "  Found existing installation: pyarrow 0.14.1\n",
            "    Uninstalling pyarrow-0.14.1:\n",
            "      Successfully uninstalled pyarrow-0.14.1\n",
            "  Found existing installation: google-cloud-language 1.2.0\n",
            "    Uninstalling google-cloud-language-1.2.0:\n",
            "      Successfully uninstalled google-cloud-language-1.2.0\n",
            "  Found existing installation: google-auth 1.17.2\n",
            "    Uninstalling google-auth-1.17.2:\n",
            "      Successfully uninstalled google-auth-1.17.2\n",
            "Successfully installed apache-beam-2.26.0 avro-python3-1.10.1 backports.tempfile-1.0 backports.weakref-1.0.post1 cloudpickle-1.2.2 dill-0.3.1.1 dm-sonnet-1.35 fastavro-1.2.1 fasteners-0.16 gast-0.2.2 google-apitools-0.5.31 google-auth-1.24.0 google-cloud-bigtable-1.6.1 google-cloud-build-2.0.0 google-cloud-dlp-1.0.0 google-cloud-language-1.3.0 google-cloud-pubsub-1.7.0 google-cloud-spanner-1.19.1 google-cloud-videointelligence-1.16.1 google-cloud-vision-1.0.0 grpc-google-iam-v1-0.12.3 grpcio-gcp-0.2.2 gym-0.15.7 hdfs-2.5.8 keras-applications-1.0.8 libcst-0.3.16 magenta-1.3.2 mido-1.2.6 mir-eval-0.6 mock-2.0.0 mypy-extensions-0.4.3 pbr-5.5.1 pretty-midi-0.2.9 proto-plus-1.13.0 pyarrow-0.17.1 pygtrie-2.4.1 python-rtmidi-1.1.2 semantic-version-2.8.5 sk-video-1.1.10 sox-1.4.1 tensorboard-1.15.0 tensorflow-1.15.4 tensorflow-estimator-1.15.1 typing-inspect-0.6.0\n"
          ],
          "name": "stdout"
        },
        {
          "output_type": "display_data",
          "data": {
            "application/vnd.colab-display-data+json": {
              "pip_warning": {
                "packages": [
                  "google"
                ]
              }
            }
          },
          "metadata": {
            "tags": []
          }
        }
      ]
    },
    {
      "cell_type": "markdown",
      "metadata": {
        "id": "yS0qj97rmCM3"
      },
      "source": [
        "We also need Flat and Bezmerizing so we can draw the SVG commands that come out of the model. (There are other ways to do this, of course, but I like having the flexibility of Flat and Bezmerizing.)"
      ]
    },
    {
      "cell_type": "code",
      "metadata": {
        "id": "Shb6qWACbopw",
        "colab": {
          "base_uri": "https://localhost:8080/"
        },
        "outputId": "74bc98f5-3e93-4795-c789-c6f01d057d54"
      },
      "source": [
        "!pip install flat"
      ],
      "execution_count": null,
      "outputs": [
        {
          "output_type": "stream",
          "text": [
            "Collecting flat\n",
            "\u001b[?25l  Downloading https://files.pythonhosted.org/packages/a6/d3/2c64b7a2b54bf8977bf5e7471311c642f128cef36f4c6059463f0676af91/Flat-0.3.2.tar.gz (47kB)\n",
            "\r\u001b[K     |███████                         | 10kB 15.0MB/s eta 0:00:01\r\u001b[K     |█████████████▉                  | 20kB 11.8MB/s eta 0:00:01\r\u001b[K     |████████████████████▊           | 30kB 8.3MB/s eta 0:00:01\r\u001b[K     |███████████████████████████▋    | 40kB 7.3MB/s eta 0:00:01\r\u001b[K     |████████████████████████████████| 51kB 2.6MB/s \n",
            "\u001b[?25hBuilding wheels for collected packages: flat\n",
            "  Building wheel for flat (setup.py) ... \u001b[?25l\u001b[?25hdone\n",
            "  Created wheel for flat: filename=Flat-0.3.2-cp36-none-any.whl size=54606 sha256=6431a15984c1cc6f31ea593fe5b26b124953c6d5dcedb7eaca45810d2d795a17\n",
            "  Stored in directory: /root/.cache/pip/wheels/93/d3/ab/244d1137dafd93cafe471e0f20c4e26d115fa65bdc81e9a99d\n",
            "Successfully built flat\n",
            "Installing collected packages: flat\n",
            "Successfully installed flat-0.3.2\n"
          ],
          "name": "stdout"
        }
      ]
    },
    {
      "cell_type": "code",
      "metadata": {
        "id": "JncyA2KBbp4V",
        "colab": {
          "base_uri": "https://localhost:8080/"
        },
        "outputId": "40570d40-e873-421f-fefa-27d887a614ae"
      },
      "source": [
        "!pip install https://github.com/aparrish/bezmerizing/archive/master.zip"
      ],
      "execution_count": null,
      "outputs": [
        {
          "output_type": "stream",
          "text": [
            "Collecting https://github.com/aparrish/bezmerizing/archive/master.zip\n",
            "\u001b[?25l  Downloading https://github.com/aparrish/bezmerizing/archive/master.zip\n",
            "\u001b[K     | 317kB 2.7MB/s\n",
            "\u001b[?25hRequirement already satisfied: flat>=0.0.3 in /usr/local/lib/python3.6/dist-packages (from bezmerizing==0.1.0) (0.3.2)\n",
            "Requirement already satisfied: scipy>=1.1.0 in /usr/local/lib/python3.6/dist-packages (from bezmerizing==0.1.0) (1.4.1)\n",
            "Requirement already satisfied: numpy>=1.13.3 in /usr/local/lib/python3.6/dist-packages (from scipy>=1.1.0->bezmerizing==0.1.0) (1.19.4)\n",
            "Building wheels for collected packages: bezmerizing\n",
            "  Building wheel for bezmerizing (setup.py) ... \u001b[?25l\u001b[?25hdone\n",
            "  Created wheel for bezmerizing: filename=bezmerizing-0.1.0-cp36-none-any.whl size=15816 sha256=12541f57de43b17733613a3960645725abef8ba9334c9290b05da6e9dc3ef1b5\n",
            "  Stored in directory: /tmp/pip-ephem-wheel-cache-x96t1mo_/wheels/93/43/9b/8acebe44e4ac5fc93427a03a09bd7cd8110979c5701c77c7f8\n",
            "Successfully built bezmerizing\n",
            "Installing collected packages: bezmerizing\n",
            "Successfully installed bezmerizing-0.1.0\n"
          ],
          "name": "stdout"
        }
      ]
    },
    {
      "cell_type": "markdown",
      "metadata": {
        "id": "vClTHs9Ob0Ww"
      },
      "source": [
        "## Code preliminaries\n",
        "\n",
        "The following cell makes available various libraries that the rest of the code needs to function, including the Flat and Bezmerizing libraries that we'll use to draw the paths generated by the model."
      ]
    },
    {
      "cell_type": "code",
      "metadata": {
        "id": "-FWeKpn8VuDl",
        "colab": {
          "base_uri": "https://localhost:8080/"
        },
        "outputId": "50843f81-fe34-4d05-a54d-5bca3e7d6689"
      },
      "source": [
        "from __future__ import print_function\n",
        "\n",
        "import copy\n",
        "import logging\n",
        "import numpy as np\n",
        "import re\n",
        "import tensorflow as tf\n",
        "import warnings\n",
        "\n",
        "from tensor2tensor.utils import registry\n",
        "from magenta.models import svg_vae\n",
        "from magenta.models.svg_vae import svg_utils\n",
        "from tensor2tensor.layers import common_layers\n",
        "from tensor2tensor.utils import trainer_lib\n",
        "\n",
        "# for drawing the paths\n",
        "from flat import document, shape, rgb, svg\n",
        "from bezmerizing import Path\n",
        "\n",
        "tfe = tf.contrib.eager\n",
        "Modes = tf.estimator.ModeKeys\n",
        "\n",
        "tf.enable_eager_execution()\n",
        "tf.get_logger().setLevel('WARN')\n",
        "\n",
        "logging.getLogger(\"mlperf_compliance\").setLevel(logging.ERROR)\n",
        "warnings.simplefilter(\"ignore\")\n",
        "\n",
        "from IPython.display import SVG, display\n",
        "def show(page):\n",
        "    display(SVG(page.svg()))"
      ],
      "execution_count": null,
      "outputs": [
        {
          "output_type": "stream",
          "text": [
            "WARNING:tensorflow:\n",
            "The TensorFlow contrib module will not be included in TensorFlow 2.0.\n",
            "For more information, please see:\n",
            "  * https://github.com/tensorflow/community/blob/master/rfcs/20180907-contrib-sunset.md\n",
            "  * https://github.com/tensorflow/addons\n",
            "  * https://github.com/tensorflow/io (for I/O related ops)\n",
            "If you depend on functionality not listed there, please file an issue.\n",
            "\n",
            "WARNING:tensorflow:From /usr/local/lib/python3.6/dist-packages/tensor2tensor/utils/adafactor.py:27: The name tf.train.Optimizer is deprecated. Please use tf.compat.v1.train.Optimizer instead.\n",
            "\n",
            "WARNING:tensorflow:From /usr/local/lib/python3.6/dist-packages/tensor2tensor/utils/multistep_optimizer.py:32: The name tf.train.AdamOptimizer is deprecated. Please use tf.compat.v1.train.AdamOptimizer instead.\n",
            "\n",
            "WARNING:tensorflow:From /usr/local/lib/python3.6/dist-packages/tensor2tensor/utils/metrics_hook.py:28: The name tf.train.SessionRunHook is deprecated. Please use tf.estimator.SessionRunHook instead.\n",
            "\n",
            "WARNING:tensorflow:From /usr/local/lib/python3.6/dist-packages/tensor2tensor/utils/trainer_lib.py:111: The name tf.OptimizerOptions is deprecated. Please use tf.compat.v1.OptimizerOptions instead.\n",
            "\n"
          ],
          "name": "stdout"
        }
      ]
    },
    {
      "cell_type": "markdown",
      "metadata": {
        "id": "Eg5WuZmcIuLE"
      },
      "source": [
        "This function loads and returns the pre-trained model from disk:"
      ]
    },
    {
      "cell_type": "code",
      "metadata": {
        "id": "fnEUUElhSJc8"
      },
      "source": [
        "def initialize_model_svg(problem_name, hparam_set, hparams, model_name,\n",
        "                     ckpt_dir, split=Modes.TRAIN):\n",
        "  \"\"\"Returns an initialized model, dataset iterator and hparams.\"\"\"\n",
        "  tf.reset_default_graph()\n",
        "  \n",
        "  # create hparams and get glyphazzn problem definition\n",
        "  hparams = trainer_lib.create_hparams(hparam_set, hparams,\n",
        "                                       problem_name=problem_name)\n",
        "  problem = registry.problem(problem_name)\n",
        "  \n",
        "  # get model definition\n",
        "  ModelClass = registry.model(model_name)\n",
        "  model = ModelClass(hparams, mode=Modes.PREDICT,\n",
        "                     problem_hparams=hparams.problem_hparams)\n",
        "  \n",
        "  # the model apparently needs to be \"fed\" a sample before you can\n",
        "  # initialize it from the checkpoint. as far as I can tell, it\n",
        "  # doesn't matter what's in this sample—it can be completely made up.\n",
        "  # I'm not sure if I got these dimensions right, not sure if it matters?\n",
        "  features = {}\n",
        "  features['bottleneck'] = tf.random_normal([64, 32])\n",
        "  features['targets_cls'] = [[11]*64]\n",
        "  features['inputs'] = tf.zeros([64, 51, 1, hparams.problem.feature_dim])\n",
        "  features['targets_psr'] = tf.zeros([64, 1, 64*64, 1])\n",
        "  features['targets'] = tf.zeros([64, 51, 1, hparams.problem.feature_dim])\n",
        "  output, extra_losses = model(features)\n",
        "  model.initialize_from_ckpt(ckpt_dir)  # initializes ops\n",
        "  \n",
        "  return model, hparams"
      ],
      "execution_count": null,
      "outputs": []
    },
    {
      "cell_type": "markdown",
      "metadata": {
        "id": "F0oP7ZOII6XP"
      },
      "source": [
        "... and this function loads and returns the numpy arrays that we need in order to un-normalize the paths:"
      ]
    },
    {
      "cell_type": "code",
      "metadata": {
        "id": "if-m_z1OFa3K"
      },
      "source": [
        "def get_means_stdevs():\n",
        "  with tf.gfile.Open('mean.npz', 'rb') as f:\n",
        "    mean_npz = np.load(f)\n",
        "  with tf.gfile.Open('stdev.npz', 'rb') as f:\n",
        "    stdev_npz = np.load(f)\n",
        "  return mean_npz, stdev_npz"
      ],
      "execution_count": null,
      "outputs": []
    },
    {
      "cell_type": "markdown",
      "metadata": {
        "id": "93Shi6q00bHv"
      },
      "source": [
        "## Generating glyphs from the model\n",
        "\n",
        "Okay, with all that out of the way, we can actually get around to generating stuff with the model. First, load the model like so:"
      ]
    },
    {
      "cell_type": "code",
      "metadata": {
        "id": "y_oJVwBjZ9n-",
        "colab": {
          "base_uri": "https://localhost:8080/"
        },
        "outputId": "3c52db67-ee5c-4a5c-a684-12fa23589261"
      },
      "source": [
        "svg_model, svg_hparams = initialize_model_svg(\n",
        "    problem_name='glyph_azzn_problem',\n",
        "    hparam_set='svg_decoder',\n",
        "    hparams=(\n",
        "        \"vae_ckpt_dir=usr/local/google/home/iraphael/dev/svg_vae/image_vae_external/,\"\n",
        "        \"vae_hparam_set=image_vae,mix_temperature=0.0001,gauss_temperature=0.0001\"\n",
        "    ),\n",
        "    model_name='svg_decoder',\n",
        "    ckpt_dir='usr/local/google/home/iraphael/dev/svg_vae/svg_decoder_external/')"
      ],
      "execution_count": null,
      "outputs": [
        {
          "output_type": "stream",
          "text": [
            "WARNING:tensorflow:From /usr/local/lib/python3.6/dist-packages/tensor2tensor/utils/hparams_lib.py:54: The name tf.logging.info is deprecated. Please use tf.compat.v1.logging.info instead.\n",
            "\n",
            "WARNING:tensorflow:From /usr/local/lib/python3.6/dist-packages/tensor2tensor/layers/common_layers.py:94: The name tf.get_default_graph is deprecated. Please use tf.compat.v1.get_default_graph instead.\n",
            "\n",
            "WARNING:tensorflow:From /usr/local/lib/python3.6/dist-packages/tensor2tensor/utils/t2t_model.py:244: The name tf.summary.text is deprecated. Please use tf.compat.v1.summary.text instead.\n",
            "\n",
            "WARNING:tensorflow:From /usr/local/lib/python3.6/dist-packages/tensor2tensor/utils/t2t_model.py:2306: The name tf.get_variable_scope is deprecated. Please use tf.compat.v1.get_variable_scope instead.\n",
            "\n",
            "WARNING:tensorflow:From /usr/local/lib/python3.6/dist-packages/tensor2tensor/utils/expert_utils.py:220: The name tf.variable_scope is deprecated. Please use tf.compat.v1.variable_scope instead.\n",
            "\n",
            "WARNING:tensorflow:From /usr/local/lib/python3.6/dist-packages/tensor2tensor/utils/t2t_model.py:1368: to_int32 (from tensorflow.python.ops.math_ops) is deprecated and will be removed in a future version.\n",
            "Instructions for updating:\n",
            "Use `tf.cast` instead.\n",
            "WARNING:tensorflow:From /usr/local/lib/python3.6/dist-packages/magenta/models/svg_vae/image_vae.py:175: flatten (from tensorflow.python.layers.core) is deprecated and will be removed in a future version.\n",
            "Instructions for updating:\n",
            "Use keras.layers.flatten instead.\n",
            "WARNING:tensorflow:From /usr/local/lib/python3.6/dist-packages/tensorflow_core/python/layers/core.py:332: Layer.apply (from tensorflow.python.keras.engine.base_layer) is deprecated and will be removed in a future version.\n",
            "Instructions for updating:\n",
            "Please use `layer.__call__` method instead.\n",
            "WARNING:tensorflow:From /usr/local/lib/python3.6/dist-packages/magenta/models/svg_vae/image_vae.py:176: dense (from tensorflow.python.layers.core) is deprecated and will be removed in a future version.\n",
            "Instructions for updating:\n",
            "Use keras.layers.Dense instead.\n",
            "WARNING:tensorflow:From /usr/local/lib/python3.6/dist-packages/tensor2tensor/utils/t2t_model.py:2339: The name tf.train.init_from_checkpoint is deprecated. Please use tf.compat.v1.train.init_from_checkpoint instead.\n",
            "\n",
            "WARNING:tensorflow:From /usr/local/lib/python3.6/dist-packages/magenta/models/svg_vae/svg_decoder.py:282: to_float (from tensorflow.python.ops.math_ops) is deprecated and will be removed in a future version.\n",
            "Instructions for updating:\n",
            "Use `tf.cast` instead.\n",
            "WARNING:tensorflow:From /usr/local/lib/python3.6/dist-packages/magenta/models/svg_vae/svg_decoder.py:139: MultiRNNCell.__init__ (from tensorflow.python.ops.rnn_cell_impl) is deprecated and will be removed in a future version.\n",
            "Instructions for updating:\n",
            "This class is equivalent as tf.keras.layers.StackedRNNCells, and will be replaced by that in Tensorflow 2.0.\n",
            "WARNING:tensorflow:From /usr/local/lib/python3.6/dist-packages/magenta/models/svg_vae/svg_decoder_loss.py:155: Categorical.__init__ (from tensorflow.python.ops.distributions.categorical) is deprecated and will be removed after 2019-01-01.\n",
            "Instructions for updating:\n",
            "The TensorFlow Distributions library has moved to TensorFlow Probability (https://github.com/tensorflow/probability). You should update all references to use `tfp.distributions` instead of `tf.distributions`.\n",
            "WARNING:tensorflow:From /usr/local/lib/python3.6/dist-packages/tensorflow_core/python/ops/distributions/categorical.py:242: Distribution.__init__ (from tensorflow.python.ops.distributions.distribution) is deprecated and will be removed after 2019-01-01.\n",
            "Instructions for updating:\n",
            "The TensorFlow Distributions library has moved to TensorFlow Probability (https://github.com/tensorflow/probability). You should update all references to use `tfp.distributions` instead of `tf.distributions`.\n",
            "WARNING:tensorflow:From /usr/local/lib/python3.6/dist-packages/tensorflow_core/python/ops/distributions/categorical.py:278: multinomial (from tensorflow.python.ops.random_ops) is deprecated and will be removed in a future version.\n",
            "Instructions for updating:\n",
            "Use `tf.random.categorical` instead.\n",
            "WARNING:tensorflow:From /usr/local/lib/python3.6/dist-packages/tensorflow_core/python/ops/math_ops.py:2509: where (from tensorflow.python.ops.array_ops) is deprecated and will be removed in a future version.\n",
            "Instructions for updating:\n",
            "Use tf.where in 2.0, which has the same broadcast rule as np.where\n",
            "WARNING:tensorflow:From /usr/local/lib/python3.6/dist-packages/magenta/models/svg_vae/svg_decoder.py:206: dynamic_rnn (from tensorflow.python.ops.rnn) is deprecated and will be removed in a future version.\n",
            "Instructions for updating:\n",
            "Please use `keras.layers.RNN(cell)`, which is equivalent to this API\n"
          ],
          "name": "stdout"
        }
      ]
    },
    {
      "cell_type": "markdown",
      "metadata": {
        "id": "attgHZkqmb5d"
      },
      "source": [
        "We want to use the model to generate SVG paths for letterforms. To do this, you call the model's `.infer()` method, with a vector as a parameter. The model \"decompresses\" this vector into a sequence of SVG commands. Because this is a generative model, you can pass in arbitrary numbers for this vector—even random numbers (using a normal distribution). SVG paths generated from similar vectors will have similar characteristics."
      ]
    },
    {
      "cell_type": "markdown",
      "metadata": {
        "id": "ZTbO6d0zTmcO"
      },
      "source": [
        "The function in the cell below calls the model's `.infer()` method with the specified vector. (This vector should have 32 dimensions, which is the size of the model's latent variable. It'll work best with a number that is sampled from a normal distribution.) It generates one vector for every letter in the model's vocabulary (0-9, A-Z, a-z)."
      ]
    },
    {
      "cell_type": "code",
      "metadata": {
        "id": "7VrPRJSOfTfr"
      },
      "source": [
        "def infer_alphabet(z):\n",
        "    batch_size = 62 # total number of classes\n",
        "    # dimensions of pretrained model's latent space (I just happen to know this)\n",
        "    zdim = 32\n",
        "    # using the same z value for each letter in the alphabet\n",
        "    bottleneck = tf.tile([z.astype(np.float32)], [batch_size, 1])\n",
        "    # the .infer() method requires an \"example\" sample from the dataset.\n",
        "    # here I just create a dummy record. the only important values are\n",
        "    # `bottleneck` (the value for the latent space) and `targets_cls` (the\n",
        "    # classes that we want to generate)\n",
        "    features = {}\n",
        "    features['bottleneck'] = bottleneck\n",
        "    features['targets_cls'] = [i for i in range(batch_size)]\n",
        "    features['inputs'] = tf.zeros([batch_size, 51, 1,\n",
        "                                   svg_hparams.problem.feature_dim])\n",
        "    features['targets'] = tf.zeros([batch_size, 51, 1,\n",
        "                                    svg_hparams.problem.feature_dim])\n",
        "    features['targets_psr'] = tf.zeros([batch_size, 1, 64*64, 1])\n",
        "    out = svg_model.infer(features, decode_length=0)\n",
        "    return out['outputs']"
      ],
      "execution_count": null,
      "outputs": []
    },
    {
      "cell_type": "markdown",
      "metadata": {
        "id": "Hy86BcU3nesx"
      },
      "source": [
        "Run the function like so. (The `np.random.randn()` function generates a random vector with the specified number of dimensions following a normal distribution.)"
      ]
    },
    {
      "cell_type": "code",
      "metadata": {
        "id": "W_1JwY8eg61a"
      },
      "source": [
        "alphabet = infer_alphabet(np.random.randn(32))"
      ],
      "execution_count": null,
      "outputs": []
    },
    {
      "cell_type": "markdown",
      "metadata": {
        "id": "XdTIEjQqn1Hi"
      },
      "source": [
        "The resulting value is a big old weird tensor that isn't very valuable to us on its own. (\"Tensor\" btw is essentially a fancy word for \"a list with other lists in it, and those lists might have other lists in them to, and so forth.\") But each row contains an encoded version of an SVG command. There's one row for each letter in the model's vocabulary."
      ]
    },
    {
      "cell_type": "code",
      "metadata": {
        "id": "H4LP77V5ntwR",
        "colab": {
          "base_uri": "https://localhost:8080/"
        },
        "outputId": "83eafd7c-ca04-4ce8-cc9e-8b6eaf9e1863"
      },
      "source": [
        "alphabet"
      ],
      "execution_count": null,
      "outputs": [
        {
          "output_type": "execute_result",
          "data": {
            "text/plain": [
              "<tf.Tensor: id=38537, shape=(62, 51, 1, 10), dtype=float32, numpy=\n",
              "array([[[[ 0.00000000e+00,  1.00000000e+00,  0.00000000e+00, ...,\n",
              "          -8.15776408e-01,  3.48037744e+00,  2.00797081e+00]],\n",
              "\n",
              "        [[ 0.00000000e+00,  0.00000000e+00,  0.00000000e+00, ...,\n",
              "          -1.25268660e-03,  3.82593304e-01,  1.34162813e-01]],\n",
              "\n",
              "        [[ 0.00000000e+00,  0.00000000e+00,  0.00000000e+00, ...,\n",
              "           6.86088443e-01,  3.00547868e-01,  4.57475066e-01]],\n",
              "\n",
              "        ...,\n",
              "\n",
              "        [[ 0.00000000e+00,  0.00000000e+00,  1.00000000e+00, ...,\n",
              "           1.98796034e+00, -1.06533587e+00, -7.39797652e-01]],\n",
              "\n",
              "        [[ 0.00000000e+00,  0.00000000e+00,  0.00000000e+00, ...,\n",
              "           6.47826612e-01,  3.71562779e-01, -8.01553249e+00]],\n",
              "\n",
              "        [[ 1.00000000e+00,  0.00000000e+00,  0.00000000e+00, ...,\n",
              "           1.30216968e+00,  7.50010252e-01, -3.51988018e-01]]],\n",
              "\n",
              "\n",
              "       [[[ 0.00000000e+00,  1.00000000e+00,  0.00000000e+00, ...,\n",
              "          -1.27556336e+00,  3.78397775e+00,  1.82501996e+00]],\n",
              "\n",
              "        [[ 0.00000000e+00,  0.00000000e+00,  0.00000000e+00, ...,\n",
              "          -1.32319052e-03, -1.40508525e-02,  1.91097185e-02]],\n",
              "\n",
              "        [[ 0.00000000e+00,  0.00000000e+00,  0.00000000e+00, ...,\n",
              "           3.30379874e-01, -1.14551358e-01,  1.25787288e-01]],\n",
              "\n",
              "        ...,\n",
              "\n",
              "        [[ 0.00000000e+00,  0.00000000e+00,  0.00000000e+00, ...,\n",
              "           1.81069577e+00, -7.37223506e-01,  1.94689727e+00]],\n",
              "\n",
              "        [[ 0.00000000e+00,  0.00000000e+00,  0.00000000e+00, ...,\n",
              "           1.83273053e+00, -7.65943766e-01,  1.94524920e+00]],\n",
              "\n",
              "        [[ 0.00000000e+00,  0.00000000e+00,  0.00000000e+00, ...,\n",
              "           1.95066142e+00, -7.27409601e-01,  1.92716432e+00]]],\n",
              "\n",
              "\n",
              "       [[[ 0.00000000e+00,  1.00000000e+00,  0.00000000e+00, ...,\n",
              "           7.62432739e-02,  3.42081785e+00,  1.93737209e+00]],\n",
              "\n",
              "        [[ 0.00000000e+00,  0.00000000e+00,  0.00000000e+00, ...,\n",
              "          -1.46249775e-03,  9.15046453e-01,  1.25823751e-01]],\n",
              "\n",
              "        [[ 0.00000000e+00,  0.00000000e+00,  0.00000000e+00, ...,\n",
              "           6.62104905e-01, -4.61189330e-01,  6.67469680e-01]],\n",
              "\n",
              "        ...,\n",
              "\n",
              "        [[ 0.00000000e+00,  0.00000000e+00,  0.00000000e+00, ...,\n",
              "           1.94903326e+00, -7.02815771e-01,  1.91578090e+00]],\n",
              "\n",
              "        [[ 0.00000000e+00,  0.00000000e+00,  1.00000000e+00, ...,\n",
              "           1.64120150e+00, -6.11564159e-01, -1.33842573e-01]],\n",
              "\n",
              "        [[ 0.00000000e+00,  0.00000000e+00,  0.00000000e+00, ...,\n",
              "          -1.34753160e+01,  3.50345850e-01, -7.32636499e+00]]],\n",
              "\n",
              "\n",
              "       ...,\n",
              "\n",
              "\n",
              "       [[[ 0.00000000e+00,  1.00000000e+00,  0.00000000e+00, ...,\n",
              "           1.34766817e+00,  2.79412580e+00,  2.93211985e+00]],\n",
              "\n",
              "        [[ 0.00000000e+00,  0.00000000e+00,  0.00000000e+00, ...,\n",
              "          -1.35040341e-03,  4.89439726e-01,  1.44896461e-02]],\n",
              "\n",
              "        [[ 0.00000000e+00,  0.00000000e+00,  0.00000000e+00, ...,\n",
              "           3.18951994e-01,  3.30123335e-01, -1.27483204e-01]],\n",
              "\n",
              "        ...,\n",
              "\n",
              "        [[ 0.00000000e+00,  0.00000000e+00,  0.00000000e+00, ...,\n",
              "          -9.70714390e-01, -2.56116062e-01, -2.42238715e-01]],\n",
              "\n",
              "        [[ 0.00000000e+00,  0.00000000e+00,  0.00000000e+00, ...,\n",
              "          -1.01098883e+00, -1.94698453e-01, -1.86855838e-01]],\n",
              "\n",
              "        [[ 0.00000000e+00,  0.00000000e+00,  0.00000000e+00, ...,\n",
              "          -5.46337545e-01, -1.67340904e-01, -9.52390432e-02]]],\n",
              "\n",
              "\n",
              "       [[[ 0.00000000e+00,  1.00000000e+00,  0.00000000e+00, ...,\n",
              "           2.81600285e+00,  2.65842962e+00,  2.97283745e+00]],\n",
              "\n",
              "        [[ 0.00000000e+00,  0.00000000e+00,  1.00000000e+00, ...,\n",
              "          -1.32301019e-03,  6.22143984e-01,  3.18573564e-02]],\n",
              "\n",
              "        [[ 0.00000000e+00,  0.00000000e+00,  1.00000000e+00, ...,\n",
              "           3.24651927e-01, -1.46544918e-01,  2.53148288e-01]],\n",
              "\n",
              "        ...,\n",
              "\n",
              "        [[ 0.00000000e+00,  0.00000000e+00,  1.00000000e+00, ...,\n",
              "           4.40152466e-01, -2.46833026e-01,  2.86170751e-01]],\n",
              "\n",
              "        [[ 0.00000000e+00,  0.00000000e+00,  1.00000000e+00, ...,\n",
              "           4.85990793e-01, -1.66488394e-01,  2.78428048e-01]],\n",
              "\n",
              "        [[ 0.00000000e+00,  0.00000000e+00,  1.00000000e+00, ...,\n",
              "           3.99751663e-01, -1.83009118e-01,  1.94665611e-01]]],\n",
              "\n",
              "\n",
              "       [[[ 0.00000000e+00,  1.00000000e+00,  0.00000000e+00, ...,\n",
              "           1.89217672e-01,  2.54357553e+00,  2.92206836e+00]],\n",
              "\n",
              "        [[ 0.00000000e+00,  0.00000000e+00,  1.00000000e+00, ...,\n",
              "           5.27863279e-02,  1.65051639e+00, -8.00709948e-02]],\n",
              "\n",
              "        [[ 0.00000000e+00,  0.00000000e+00,  1.00000000e+00, ...,\n",
              "           1.31026998e-01, -1.26279801e-01,  4.62076187e-01]],\n",
              "\n",
              "        ...,\n",
              "\n",
              "        [[ 0.00000000e+00,  1.00000000e+00,  0.00000000e+00, ...,\n",
              "           1.86983097e+00, -6.63702726e-01,  1.73705697e+00]],\n",
              "\n",
              "        [[ 0.00000000e+00,  0.00000000e+00,  1.00000000e+00, ...,\n",
              "           1.14706218e+00, -1.79408622e+00,  2.11713910e-01]],\n",
              "\n",
              "        [[ 0.00000000e+00,  0.00000000e+00,  1.00000000e+00, ...,\n",
              "           1.28062544e-02, -1.49513260e-01, -1.18648365e-01]]]],\n",
              "      dtype=float32)>"
            ]
          },
          "metadata": {
            "tags": []
          },
          "execution_count": 17
        }
      ]
    },
    {
      "cell_type": "markdown",
      "metadata": {
        "id": "VUfX2iqjoBpQ"
      },
      "source": [
        "To display the character generated by the model, we need to convert that encoded value to an actual SVG command. Even more useful to us would be a Bezmerizing `Path` object, which we can use to draw the glyph to the screen using Flat.\n",
        "\n",
        "The function below takes the tensor returned from `infer_alphabet()` and returns a list of `Path` objects for each row in the tensor. (This function makes use of various functions that are distributed with the source code of the model in its `svg_utils` module.)"
      ]
    },
    {
      "cell_type": "code",
      "metadata": {
        "id": "Uoc86NFgpedA"
      },
      "source": [
        "def tensor_to_paths(out):\n",
        "    mean_npz, stdev_npz = get_means_stdevs()\n",
        "    all_paths = []\n",
        "    for i in range(out.shape[0]):\n",
        "        tensor = tf.expand_dims(out[i], 0)\n",
        "        # \"unnormalize\" the tensor (using values calculated from the\n",
        "        # pre-processed data set)\n",
        "        tensor = (tensor * stdev_npz) + mean_npz\n",
        "        vector = tf.squeeze(svg_utils.make_simple_cmds_long(tensor), [0, 2])\n",
        "        path_parts = []\n",
        "        # convert each row in this vector to an SVG command\n",
        "        for vec in vector:\n",
        "            cmd = svg_utils.vector_to_cmd(vec, categorical=True,\n",
        "                                          return_floats=True)\n",
        "            # if this is the end of the string, break out of the loop\n",
        "            is_eos = np.argmax(vec[:20]) == 0\n",
        "            if is_eos:\n",
        "                break\n",
        "            if len(cmd) > 0:\n",
        "                cmd_formatted = cmd[0] + ' ' + ' '.join(\n",
        "                    [f'{c:.5f}' for c in cmd[1:]])\n",
        "                path_parts.append(cmd_formatted)\n",
        "        path_str = ' '.join(path_parts)\n",
        "        path = Path(svg.parsepath(path_str.encode('utf8')))\n",
        "        all_paths.append(path)\n",
        "    return all_paths"
      ],
      "execution_count": null,
      "outputs": []
    },
    {
      "cell_type": "markdown",
      "metadata": {
        "id": "Jc_ZIkHvqJgz"
      },
      "source": [
        "Finally, the `generate_alphabet()` function combines these two, returning the paths for an alphabet generated from a single vector:"
      ]
    },
    {
      "cell_type": "code",
      "metadata": {
        "id": "09K_EKwSqQ00"
      },
      "source": [
        "def generate_alphabet(z):\n",
        "    return tensor_to_paths(infer_alphabet(z))"
      ],
      "execution_count": null,
      "outputs": []
    },
    {
      "cell_type": "markdown",
      "metadata": {
        "id": "Z_f6DTW8rBWI"
      },
      "source": [
        "So now we can easily generate an entire alphabet of paths:"
      ]
    },
    {
      "cell_type": "code",
      "metadata": {
        "id": "-WX2t9dUp_-2"
      },
      "source": [
        "alphabet_paths = generate_alphabet(np.random.randn(32))"
      ],
      "execution_count": null,
      "outputs": []
    },
    {
      "cell_type": "markdown",
      "metadata": {
        "id": "0GYAu9egrGHw"
      },
      "source": [
        "Take a look at one of the paths:"
      ]
    },
    {
      "cell_type": "code",
      "metadata": {
        "id": "NdnS70CMrQF_",
        "colab": {
          "base_uri": "https://localhost:8080/"
        },
        "outputId": "4d1b36b4-c431-40a0-8ae5-983a688863af"
      },
      "source": [
        "alphabet_paths[0]"
      ],
      "execution_count": null,
      "outputs": [
        {
          "output_type": "execute_result",
          "data": {
            "text/plain": [
              "Path([moveto(x=13.1396, y=6.7650), curveto(x1=16.9727, y1=6.7670, x2=15.9311, y2=6.7663, x=18.4446, y=7.8789), lineto(x=17.6192, y=11.9817), curveto(x1=16.5133, y1=13.8650, x2=16.3467, y2=13.3876, x=15.7472, y=15.2153), curveto(x1=15.1342, y1=17.0357, x2=15.1064, y2=17.0793, x=14.8630, y=18.5835), curveto(x1=14.4258, y1=20.3964, x2=14.6274, y2=20.0237, x=12.6456, y=20.8036), curveto(x1=11.0455, y1=21.4517, x2=11.0115, y2=21.4136, x=8.9615, y=21.4069), curveto(x1=6.7730, y1=21.4070, x2=7.0814, y2=21.4041, x=5.0738, y=20.2582), curveto(x1=3.2646, y1=19.0665, x2=3.2273, y2=19.0412, x=3.0867, y=18.0894), curveto(x1=3.0085, y1=16.7855, x2=3.0300, y2=16.5446, x=3.2137, y=15.4478), curveto(x1=3.4077, y1=14.3127, x2=3.4062, y2=14.3074, x=3.7429, y=13.1878), curveto(x1=4.0717, y1=12.0592, x2=4.0696, y2=12.0543, x=4.5119, y=11.0605), curveto(x1=4.9520, y1=10.0840, x2=4.9498, y2=10.0814, x=5.5434, y=9.2520), curveto(x1=6.6421, y1=8.4220, x2=6.7340, y2=8.4160, x=6.9757, y=7.8667), curveto(x1=7.2307, y1=7.3042, x2=7.2325, y2=7.2921, x=7.4331, y=6.9025), curveto(x1=7.6357, y1=6.5148, x2=7.6349, y2=6.5087, x=7.9307, y=6.2369), curveto(x1=8.2316, y1=5.9664, x2=8.2291, y2=5.9622, x=8.6436, y=5.8104), curveto(x1=9.0616, y1=5.6550, x2=9.0612, y2=5.6512, x=9.6064, y=5.6035), curveto(x1=10.1649, y1=5.5512, x2=10.1634, y2=5.5474, x=10.7782, y=5.5530), moveto(x=11.4190, y=9.0432), curveto(x1=10.7079, y1=9.0431, x2=10.5723, y2=9.0399, x=10.3661, y=9.2633), curveto(x1=10.1535, y1=9.4840, x2=10.1338, y2=9.4804, x=9.9600, y=10.1492), curveto(x1=9.7882, y1=10.8074, x2=9.7708, y2=10.8061, x=9.5200, y=11.6765), curveto(x1=9.2718, y1=12.5688, x2=9.2492, y2=12.5644, x=8.9952, y=13.5603), curveto(x1=8.7481, y1=14.5519, x2=8.7265, y2=14.5495, x=8.5857, y=15.4043), curveto(x1=8.4492, y1=16.2542, x2=8.4336, y2=16.2541, x=8.4603, y=16.7843), curveto(x1=8.4833, y1=17.3053, x2=8.4892, y2=17.3068, x=8.7720, y=17.5774), curveto(x1=9.0524, y1=17.8520, x2=9.0502, y2=17.8486, x=9.5728, y=17.8518), curveto(x1=10.0552, y1=17.8520, x2=10.1449, y2=17.8487, x=10.5303, y=17.5756), curveto(x1=10.9361, y1=17.2998, x2=10.9342, y2=17.2981, x=11.2335, y=16.8127), curveto(x1=11.5330, y1=16.3343, x2=11.5288, y2=16.3323, x=11.7395, y=15.6931), curveto(x1=11.9547, y1=15.0597, x2=11.9513, y2=15.0578, x=12.0937, y=14.3458), curveto(x1=12.2452, y1=13.6372, x2=12.2427, y2=13.6350, x=12.3450, y=12.9219), curveto(x1=12.4523, y1=12.2138, x2=12.4479, y2=12.2105, x=12.4786, y=11.5896), curveto(x1=12.5028, y1=10.9811, x2=12.4962, y2=10.9781, x=12.5010, y=10.5227), curveto(x1=12.4980, y1=10.0763, x2=12.4828, y2=10.0742, x=12.3790, y=9.7632), curveto(x1=12.2805, y1=9.4517, x2=12.2620, y2=9.4472, x=12.0240, y=9.2894), curveto(x1=11.7942, y1=9.1260, x2=11.7711, y2=9.1234, x=11.3595, y=9.1304)])"
            ]
          },
          "metadata": {
            "tags": []
          },
          "execution_count": 21
        }
      ]
    },
    {
      "cell_type": "markdown",
      "metadata": {
        "id": "n_84obhfrXHR"
      },
      "source": [
        "The `generate_alphabet()` function returns a list of paths. In this list, the index for a particular character corresponds to that character's position in the sequence of values 0-9, A-Z, a-z. The function below takes a character and returns its position in this sequence (if applicable):\n"
      ]
    },
    {
      "cell_type": "code",
      "metadata": {
        "id": "Nu8lQMglrk1y"
      },
      "source": [
        "def c2i(ch):\n",
        "    lookup = '0123456789ABCDEFGHIJKLMNOPQRSTUVWXYZabcdefghijklmnopqrstuvwxyz'\n",
        "    return lookup.index(ch)"
      ],
      "execution_count": null,
      "outputs": []
    },
    {
      "cell_type": "code",
      "metadata": {
        "id": "KbmiOAQUIhbp"
      },
      "source": [
        "def i2c(i):\n",
        "    lookup = '0123456789ABCDEFGHIJKLMNOPQRSTUVWXYZabcdefghijklmnopqrstuvwxyz'\n",
        "    return lookup[i]"
      ],
      "execution_count": null,
      "outputs": []
    },
    {
      "cell_type": "markdown",
      "metadata": {
        "id": "qYY-ityWKna9"
      },
      "source": [
        "For example, the index of the capital letter `P`:"
      ]
    },
    {
      "cell_type": "code",
      "metadata": {
        "id": "OC41skr7rvu6",
        "colab": {
          "base_uri": "https://localhost:8080/",
          "height": 34
        },
        "outputId": "6672dd39-f820-4f67-8661-24335936e348"
      },
      "source": [
        "c2i('P')"
      ],
      "execution_count": null,
      "outputs": [
        {
          "output_type": "execute_result",
          "data": {
            "text/plain": [
              "25"
            ]
          },
          "metadata": {
            "tags": []
          },
          "execution_count": 15
        }
      ]
    },
    {
      "cell_type": "markdown",
      "metadata": {
        "id": "17MstQa-r5U-"
      },
      "source": [
        "The following cell puts all of this together, and draws the glyph in this generated alphabet for the letter `P`."
      ]
    },
    {
      "cell_type": "code",
      "metadata": {
        "id": "v_ojuMfsY2NL",
        "colab": {
          "base_uri": "https://localhost:8080/",
          "height": 323
        },
        "outputId": "9dfa37e8-0262-4c8e-b38d-41281b9d1ea3"
      },
      "source": [
        "glyph = alphabet_paths[c2i('A')]\n",
        "page = document(80, 80, 'mm').addpage()\n",
        "pen = shape().stroke(rgb(40, 40, 40)).fill(rgb(128, 128, 128))\n",
        "page.place(pen.path(glyph.scale(4)))\n",
        "\n",
        "#page.svg(\"A.svg\")\n",
        "show(page)"
      ],
      "execution_count": null,
      "outputs": [
        {
          "output_type": "display_data",
          "data": {
            "text/plain": [
              "<IPython.core.display.SVG object>"
            ],
            "image/svg+xml": "<svg height=\"226.7717pt\" version=\"1.1\" viewBox=\"0 0 226.7717 226.7717\" width=\"226.7717pt\" xmlns=\"http://www.w3.org/2000/svg\" xmlns:xlink=\"http://www.w3.org/1999/xlink\">\n<title>Untitled</title>\n<path d=\"M143.8646,91.095 L167.9192,91.3652 L227.2719,242.8219 C229.9665,252.7851,231.2201,250.5202,244.6017,256.7454 C254.4619,260.1383,257.1335,261.2195,254.6454,262.1538 C247.6068,263.1588,243.2879,263.3839,239.534,263.0409 C227.2302,262.2665,220.4235,262.1023,215.2122,261.7601 C203.8666,261.4526,196.6582,261.6124,189.577,262.0408 C182.3967,262.4275,176.8936,263.1577,167.0916,264.1022 C164.1532,264.0539,163.5185,263.056,162.9606,261.7761 C163.0881,259.6293,165.2292,258.3777,166.1449,257.254 C171.9581,254.5019,176.1212,250.9688,180.7536,245.9327 C183.9463,240.7064,186.575,235.4365,186.1259,230.092 L170.5322,199.2672 L112.7487,199.2953 L90.8479,223.8338 C84.5016,233.1103,82.7595,238.4335,83.5499,243.6261 C84.0087,248.7498,87.8509,250.532,96.2224,250.6959 C102.8987,250.6944,105.0638,251.1594,106.6755,252.0907 C107.6902,253.3985,108.6488,254.4192,106.6911,256.6562 C101.6944,257.8354,97.7577,258.1936,93.1662,257.8487 C83.9062,257.025,82.8105,256.9934,70.5648,256.8487 C60.6476,256.8478,51.9902,257.5909,44.7119,257.9895 C38.9788,258.2183,37.1781,257.4743,37.2965,256.2803 C37.4002,254.4866,39.5418,253.5012,41.2,252.3708 C46.6305,250.4411,51.6806,249.3691,57.9309,240.3141 L144.1574,108.9602 M139.4086,139.3845 L99.2476,197.2954 L158.334,197.3175 L136.4323,140.7835\" fill=\"rgb(128,128,128)\" stroke=\"rgb(40,40,40)\" stroke-miterlimit=\"10\"/>\n</svg>"
          },
          "metadata": {
            "tags": []
          }
        }
      ]
    },
    {
      "cell_type": "markdown",
      "metadata": {
        "id": "j9jXu13rtWk7"
      },
      "source": [
        "The following example draws all 62 glyphs in the alphabet in a grid, so you can preview the results. (Each time you run the cell, it will generate a new alphabet.)"
      ]
    },
    {
      "cell_type": "code",
      "metadata": {
        "id": "w6Go6H2XtdBh",
        "colab": {
          "base_uri": "https://localhost:8080/",
          "height": 399
        },
        "outputId": "6e51c3de-9efd-4be4-b4f0-641ec56f592a"
      },
      "source": [
        "alphabet_paths = generate_alphabet(np.random.randn(32))\n",
        "width = 100\n",
        "height = 100\n",
        "page = document(width, height, 'mm').addpage()\n",
        "pen = shape().nostroke().fill(rgb(40, 40, 40))\n",
        "grid_size = 8\n",
        "cell_size = width / grid_size\n",
        "for i in range(grid_size):\n",
        "    for j in range(grid_size):\n",
        "        x = i * cell_size\n",
        "        y = j * cell_size\n",
        "        idx = (j * grid_size) + (i % grid_size)\n",
        "        if idx < len(alphabet_paths):\n",
        "            this_glyph = alphabet_paths[idx]\n",
        "            page.place(pen.path(this_glyph.scale(0.6).translate(x, y)))\n",
        "show(page)"
      ],
      "execution_count": null,
      "outputs": [
        {
          "output_type": "display_data",
          "data": {
            "text/plain": [
              "<IPython.core.display.SVG object>"
            ],
            "image/svg+xml": "<svg height=\"283.4646pt\" version=\"1.1\" viewBox=\"0 0 283.4646 283.4646\" width=\"283.4646pt\" xmlns=\"http://www.w3.org/2000/svg\" xmlns:xlink=\"http://www.w3.org/1999/xlink\">\n<title>Untitled</title>\n<path d=\"M22.6926,11.975 L29.2633,12.0866 L27.7215,32.8209 L19.414,37.5318 L12.9476,35.8151 L13.2468,17.7547 L18.5237,12.9149 L21.5309,13.2191 M21.3866,16.912 L18.9335,31.6418 L22.2671,32.6751 L24.429,17.0738 L21.2983,16.774\" fill=\"rgb(40,40,40)\"/>\n<path d=\"M22.5509,46.6952 L29.1977,46.7574 L28.8057,51.6168 L25.8572,55.2256 L28.1556,58.2467 L27.2445,66.0618 L23.2105,71.3803 L17.9631,73.8628 L13.2429,73.0112 L12.3033,66.6915 L14.7495,60.4306 L17.3974,57.2754 L15.2299,55.2477 L16.3527,49.5143 L20.4446,46.1699 M23.036,50.3137 L21.1551,52.2043 L20.5039,56.456 L22.2801,57.7299 L23.7082,54.2431 L24.4328,51.2314 L23.1347,50.8424 M21.5423,61.4519 L20.0675,63.6715 L19.1191,69.0297 L20.9198,70.6527 L22.3026,69.2962 L23.1475,66.8419 L23.6596,62.5815 L22.0076,62.0609\" fill=\"rgb(40,40,40)\"/>\n<path d=\"M21.1161,81.9958 L29.8827,82.0238 L31.3336,87.3702 L25.2716,87.3682 L21.0792,87.3641 L18.9891,98.9141 L18.9092,101.9703 L19.2051,103.8833 L19.5627,105.3186 L19.7804,106.1026 L19.7752,106.2522 L19.8095,105.8431 L19.8952,103.9397 L19.7855,101.5409 L21.3696,99.2314 L28.0674,98.7283 L27.8217,109.3291 L21.9049,112.3192 L15.2177,111.8097 L12.2764,108.6256 L12.3155,93.196 L15.2197,85.8268 L18.8103,84.5609\" fill=\"rgb(40,40,40)\"/>\n<path d=\"M20.5737,117.6038 L26.7691,117.6405 C29.4889,117.6388,28.8044,117.6424,30.2902,118.7228 C31.6376,119.7976,31.6309,119.798,31.6303,121.6161 C31.6224,122.0488,31.6441,122.0676,31.5337,123.4916 L29.6938,138.5425 C29.1701,141.7682,29.2296,141.4602,27.487,143.6177 C25.6094,145.8113,25.5558,145.6418,22.5446,145.763 L16.1733,145.7738 C13.7353,145.774,13.8108,145.7693,12.2304,144.5896 C10.7375,143.3957,10.6647,143.3879,10.6506,141.3234 C10.4945,140.8215,10.6296,140.8325,10.7067,139.7695 L12.6781,124.3551 C12.8728,121.9081,13.0355,121.8568,14.3987,119.7953 C15.9628,117.8383,15.9533,117.8224,18.403,117.7128 M23.2555,123.4534 L20.1047,123.4544 C18.9933,123.4545,19.2254,123.4491,18.7207,124.0745 C18.272,124.6686,18.2405,124.6621,18.0973,125.7442 L16.3904,136.6842 C16.1892,137.3293,16.2878,137.3485,16.5318,137.651 C16.7794,137.9673,16.7822,137.9648,17.393,137.9717 L21.1954,137.9743 C21.8718,137.9746,22.0003,137.9693,22.3511,137.5315 C22.7202,137.1032,22.7149,137.1016,22.7806,136.2972 L24.2066,124.6483 C24.2193,123.8675,24.374,123.8491,24.0064,123.6038 C23.6811,123.3291,23.6452,123.3236,22.9384,123.3437\" fill=\"rgb(40,40,40)\"/>\n<path d=\"M5.1639,153.6944 L14.643,153.7346 L14.5339,154.7733 C13.0809,154.7708,12.699,155.1378,12.539,155.1832 C11.9896,155.4761,11.8799,155.6104,12.6406,167.0941 L16.2602,155.0914 C15.8829,154.5638,14.7893,154.2669,13.8599,154.6374 L14.0079,153.5673 C15.823,153.6165,19.7853,153.6534,24.035,153.5841 L23.8171,154.5712 C22.2183,154.5693,21.4309,154.9451,21.0952,154.8904 C20.9353,159.3037,22.0213,162.6701,22.0693,169.5877 C24.1359,163.5067,27.9234,159.659,27.7348,154.8916 C27.2488,154.5678,25.6943,154.4389,24.5363,154.4569 L24.7018,153.6088 C26.813,153.7428,30.6791,153.766,31.2362,153.6977 C32.1214,153.6948,32.5756,153.6012,33.4862,153.7272 L33.2819,154.6896 C31.9737,154.9058,31.3013,155.1845,31.0181,155.0558 C28.5324,159.8038,23.9684,164.5762,22.5266,176.4705 L20.3856,176.6269 C19.6446,170.8379,18.2178,166.7144,17.5967,161.2835 C15.7089,166.5699,12.052,170.1633,11.7016,177.3572 L9.8894,177.3338 C8.9664,169.6308,6.9554,163.8171,5.8118,155.1807 C5.1852,155.0034,3.9342,154.5546,2.8452,154.873 L2.943,154.0403\" fill=\"rgb(40,40,40)\"/>\n<path d=\"M22.5159,195.9746 C24.8942,195.9774,25.0605,195.9761,27.4415,196.8621 L26.0205,202.0887 C24.1269,201.9252,23.8808,201.5838,20.4626,202.3865 C19.5524,204.2175,19.3799,203.7747,19.0083,206.2301 C19.9065,206.8549,20.255,206.5687,22.0937,206.8466 C24.0161,207.0513,24.1368,207.0457,25.4901,207.0011 L24.2703,211.5279 C22.6624,212.5509,22.2657,212.1824,18.4084,212.551 C15.314,212.7131,15.4841,212.7135,14.0863,212.1758 C13.1718,209.0357,13.1786,210.0189,13.0495,207.4099 C12.9442,204.9316,12.9079,204.2677,13.7489,202.1735 C14.8901,199.2966,14.7951,199.2424,16.5417,197.2625 C18.5949,194.9053,18.8286,194.8949,22.1204,194.7534 M22.9397,203.3639 C22.6603,203.364,22.5783,203.3587,22.2372,203.7189 C21.9149,204.0581,21.8897,204.0532,21.7948,204.3077 C22.1434,204.3084,22.2554,204.2306,23.0723,204.2656 C23.8603,204.3021,23.6805,204.2999,24.1124,204.296 C24.2727,204.2965,24.2413,204.2918,24.2799,203.7408 C24.1442,203.2824,24.2906,203.2422,23.6934,203.1627 C23.171,203.0891,23.1143,203.0878,22.757,203.0936\" fill=\"rgb(40,40,40)\"/>\n<path d=\"M16.4925,231.6764 L18.0492,232.657 L20.0394,230.9451 L24.3303,230.9359 L27.5563,233.0344 L29.8729,232.5473 L32.0409,234.3291 L33.109,236.7454 L33.0189,238.8834 L32.619,239.9292 L32.5002,239.7501 L32.4899,239.1164 L32.5815,238.3772 L32.3654,237.984 L32.3075,237.3699 L32.305,237.2275 L32.1402,236.7889 L31.8332,236.4355 L31.6998,235.7333 L31.7076,235.3118 L31.8306,235.1746 L32.076,235.2058 L36.0017,235.3053 L37.9058,237.0088 L38.8105,238.1985 L39.3973,238.7488 L39.7991,238.9185 L39.7391,238.6191 L39.4957,237.8398 L39.4721,237.0281 L41.2093,236.5669 L42.1107,238.5888 L42.8126,240.0061 L43.2053,240.915 L43.1574,241.1899 L42.9661,240.6844 L42.7154,239.6806 L42.3593,238.9308 L43.1736,238.5221 L43.8327,239.6523 L43.8147,239.5771 L43.6983,240.2535 L43.7365,240.2511 L43.5895,239.623 L43.4585,239.3424 L43.6175,240.2451 L43.6272,239.9798 L43.6051,239.8126 L43.5385,239.6583 L43.4184,239.5065 L42.461,239.3672\" fill=\"rgb(40,40,40)\"/>\n<path d=\"M14.1662,267.0334 L19.0483,267.0631 L16.8501,279.8248 C16.7246,280.4468,16.6879,281.2361,16.8649,280.7315 C17.3897,280.2761,17.9176,276.4159,19.4338,270.4391 L24.1172,270.4406 L21.2671,285.6325 C20.8778,286.8327,20.2392,287.2723,19.5865,287.7279 C18.3365,288.2846,17.3509,288.3685,16.2369,287.4515 C15.0957,286.6969,14.1509,285.6576,15.5384,285.6211 C15.3792,286.3275,13.6054,286.4032,12.292,286.6863 C9.8214,287.102,8.3926,284.6394,8.1376,283.8253 C7.6627,282.684,8.1695,274.064,8.5192,267.8639 C8.9869,267.2721,9.8187,267.0179,11.101,266.982\" fill=\"rgb(40,40,40)\"/>\n<path d=\"M60.0787,11.3246 L60.7254,11.5393 C60.3865,13.1478,60.2337,12.5435,60.3272,32.6373 C60.6517,34.2755,60.3911,33.7517,62.6584,34.9835 C64.5219,35.7448,64.7092,35.8836,66.1743,35.9444 L66.2675,36.5744 C64.0923,36.4497,63.4701,36.4585,54.5498,36.4449 L53.7266,36.1008 C57.5932,35.7682,56.7247,35.8496,58.0322,34.8788 C59.1365,33.9336,59.3187,33.9165,59.2739,31.2606 L58.744,14.6667 C56.0961,14.7779,55.6531,14.4031,53.5066,15.1086 C51.1898,15.8454,51.213,15.9483,50.4271,16.0702 L50.2242,15.446 C54.7906,13.6973,52.2233,14.2839,55.4948,11.5466 C58.9463,8.8175,59.1053,8.8636,61.0595,7.6018\" fill=\"rgb(40,40,40)\"/>\n<path d=\"M57.5537,47.0137 C59.4221,47.0169,65.4982,47.0156,64.409,48.4928 L59.9136,68.1117 C58.8661,71.0543,56.2206,73.5671,52.9411,72.6473 C50.1503,72.1337,48.4962,70.1762,47.9269,69.4351 C47.1927,68.6774,48.709,66.4779,51.8396,65.9908 C53.3811,66.2739,54.7701,66.544,55.2692,66.8915 C56.3809,67.1884,57.3246,65.2425,57.3898,64.9663 C57.3146,64.0323,56.2078,63.0251,57.7496,60.9045 C56.6357,61.3986,54.7281,61.4471,53.3314,62.1649 C51.0841,62.7578,49.3423,59.9651,49.6446,56.2067 C50.2246,51.9759,52.3724,47.5233,54.9624,47.1708 M57.304,50.7214 C55.7569,51.2769,54.8581,53.0041,54.4688,54.0283 C53.7371,55.8614,54.2477,57.5399,56.1542,57.5819 C57.7525,57.5818,59.0565,56.0038,59.1441,54.1651 C59.3838,52.2953,58.3764,50.5785,57.4368,50.542\" fill=\"rgb(40,40,40)\"/>\n<path d=\"M49.5951,82.328 L55.2808,82.359 L53.3377,92.7571 L58.3903,92.7504 L60.0909,81.9788 L66.317,81.9819 L61.4778,109.0302 L55.4677,109.0319 L57.5976,96.8867 L52.5397,96.9071 L50.7121,108.1669 L44.7355,108.1716 L49.4428,81.9693\" fill=\"rgb(40,40,40)\"/>\n<path d=\"M50.9177,117.3879 L58.9488,117.4193 C62.759,117.4139,62.0732,117.4213,64.1945,118.7189 C66.3866,120.1961,66.2528,120.1089,66.3169,123.2013 C66.215,126.6281,66.3354,126.1922,66.2366,129.0461 C65.9234,132.568,66.0829,132.3171,64.3904,134.0992 C62.6405,135.8381,62.5955,135.751,58.6966,135.9189 L55.1104,135.9425 L53.8961,145.1043 L48.152,145.1062 L51.7406,117.4584 M58.233,122.9756 L56.8494,129.3945 L58.6895,129.3775 C60.462,129.3777,60.1156,129.373,61.0907,128.7638 C61.977,128.1652,61.974,128.155,62.1718,126.9826 C62.3442,125.7401,62.3413,125.5178,62.03,124.7525 C61.742,123.9575,61.7027,123.9479,60.9151,123.6059 C60.1546,123.2519,60.1104,123.2441,58.8206,123.264 L57.8216,123.2692\" fill=\"rgb(40,40,40)\"/>\n<path d=\"M49.4258,153.0747 L55.5287,153.1071 L55.663,160.7243 L58.7789,153.7319 L65.8794,153.7316 L57.2922,167.1118 L63.1088,181.3958 L55.9439,181.3977 L53.4538,172.9173 L48.9116,181.6044 L42.4893,181.6083 L51.04,167.7941 L46.5676,155.1971\" fill=\"rgb(40,40,40)\"/>\n<path d=\"M63.6148,186.9998 C65.3829,187.0028,65.4985,187.0015,68.0436,189.962 L65.8046,192.7178 C64.5842,189.8814,64.4342,190.342,64.0796,189.6825 C62.9618,188.4062,62.9731,188.3457,61.3176,188.2371 C59.4483,188.2098,59.7364,188.3316,58.651,190.62 C57.7527,192.4081,58.0531,192.4279,57.5552,195.1168 L62.8515,195.1114 L62.3578,197.7135 L55.9812,197.7142 C55.2111,202.372,55.0857,204.5753,54.0085,209.7296 C52.8369,214.3668,52.9166,214.7483,52.842,216.5773 L51.0957,217.8674 C50.4628,216.85,50.2395,217.4196,48.3525,217.6924 C49.1261,212.919,49.1538,214.9122,50.2635,205.9186 C51.3918,200.2725,51.2015,201.1086,51.5211,196.218 L47.8318,196.2216 L48.2578,194.2592 L52.1219,194.0801 C53.0203,188.9436,53.3285,188.1993,54.1171,187.5662 C56.3421,185.916,55.947,185.9034,60.4809,185.8714\" fill=\"rgb(40,40,40)\"/>\n<path d=\"M60.2989,231.36 C61.7648,231.3631,63.2546,231.3617,63.019,232.1755 L60.109,248.1561 C59.8085,248.782,59.5621,249.087,58.7553,250.0432 C57.7964,250.7861,56.95,251.3458,55.6748,251.1391 C54.7261,250.8737,54.6075,249.6627,54.8888,248.6708 L57.4295,236.5781 C57.4216,235.8991,56.9827,235.5701,56.4191,235.6875 C55.3362,236.0248,54.6931,236.8838,54.4743,238.5732 L52.6497,249.148 C52.3594,250.4575,51.5817,251.0373,49.6355,250.9071 C48.0379,250.7846,47.0835,250.2299,47.0442,249.6114 L49.4105,232.3555 C49.6978,231.5357,50.6614,231.1991,52.1523,231.2 C53.7431,231.2002,54.3157,231.5231,55.267,232.7278 C56.2876,231.885,57.2159,231.1129,59.4657,230.518\" fill=\"rgb(40,40,40)\"/>\n<path d=\"M46.3599,266.9635 L54.3807,267.0052 L54.1208,269.1776 C52.7364,269.1794,52.3879,269.1739,52.1922,269.4197 C51.934,269.6927,52.1003,269.8631,51.9856,270.4073 L53.0871,279.08 L57.017,270.2709 C56.9655,269.7755,56.8538,269.5745,56.7154,269.4144 C56.3308,269.2091,55.8237,269.1689,55.2271,269.0947 L55.6834,267.0821 L63.897,267.0856 L63.5121,268.8768 C62.1732,268.8775,61.5029,269.5192,61.1262,269.5546 C59.9864,269.7768,60.1849,270.0764,59.1819,270.5834 C57.611,271.2753,56.7709,277.73,51.999,286.1029 L49.1075,286.1056 C48.4931,280.1027,47.2523,275.9994,46.3654,270.6187 C46.0138,269.8816,45.6673,269.5768,45.0812,269.3999 C44.5822,269.2747,44.2184,269.2484,43.2989,269.2157 L43.7217,267.2995\" fill=\"rgb(40,40,40)\"/>\n<path d=\"M93.2049,11.598 C96.1407,11.6008,96.1624,11.5994,99.1894,12.9067 L97.3007,18.3209 C95.2537,20.7869,95.9138,19.8895,94.2782,22.2671 C92.7431,24.4538,92.6844,24.4536,91.416,26.9669 C90.1299,29.5119,90.0883,29.4154,89.3074,31.1438 C88.5522,32.6923,88.5215,32.6968,88.1405,33.4954 L95.9543,33.4891 L94.9885,37.6093 L80.8049,37.6097 C81.4786,33.6669,81.6563,34.9669,82.7711,32.3508 C83.9226,29.9993,83.9228,29.9912,85.4375,27.9845 C87.0085,25.9566,86.9998,25.9493,88.8117,24.241 C90.6494,22.5159,90.6409,22.5128,92.3631,21.0562 C94.0484,19.6093,94.04,19.5956,93.893,18.508 C93.7486,17.5043,93.7247,17.4775,92.7208,17.0754 C91.7496,16.6851,91.7026,16.6788,90.2966,16.7281 C88.8806,16.7822,88.836,16.7765,87.4457,17.1999 L88.2592,12.9293 C89.5527,12.426,89.6686,12.3685,90.9098,12.3431\" fill=\"rgb(40,40,40)\"/>\n<path d=\"M90.087,47.0609 L98.1666,47.101 L97.4226,73.3076 L91.8747,73.3018 L92.5313,67.0366 L87.2412,67.0378 L85.695,73.6852 L80.5834,73.6666 L87.0719,46.5674 M91.6609,52.0843 L88.5892,60.5998 L92.6328,60.6005 L92.4026,52.2391\" fill=\"rgb(40,40,40)\"/>\n<path d=\"M87.4722,81.9575 L98.2399,81.9994 L98.1177,83.0639 C96.0205,83.0632,95.4809,83.4224,95.0451,83.5393 C94.1436,83.9932,94.1378,84.2465,93.5221,85.3495 C92.6933,86.5252,92.7498,87.4989,92.3221,91.6906 C91.7972,95.3885,91.5794,100.4071,90.9713,100.9756 C90.0911,102.0591,90.0774,102.8827,89.5889,104.9897 C89.2088,106.2096,89.1955,106.9271,89.099,107.553 C89.4287,107.9608,89.8627,108.155,91.4658,108.1933 C92.6957,108.2359,93.4161,108.2217,94.4149,108.2372 L94.127,109.4474 L82.4032,109.3292 L82.6575,108.1795 C84.1622,108.1796,84.7663,108.1229,85.634,108.0464 C86.8103,107.9157,87.0507,107.7401,87.5145,107.3084 C88.0647,106.7274,88.1576,106.0668,88.4145,102.9659 C88.8076,100.4467,88.9429,98.8224,89.6745,94.3443 C90.0073,90.4987,90.6565,88.8132,90.6916,86.9266 C90.5445,85.747,90.6673,85.3214,90.0825,84.7482 C89.3899,84.2417,88.3917,84.063,87.1641,83.9929 L86.2902,83.9326 L86.7507,82.7931\" fill=\"rgb(40,40,40)\"/>\n<path d=\"M91.4209,117.5316 L97.857,117.5687 C100.4009,117.567,101.09,117.5706,101.1525,122.3093 C101.1574,123.498,101.143,123.8578,101.0365,125.19 L99.3951,137.9157 C98.754,140.9368,98.5316,143.7609,94.0182,143.7036 L92.9678,143.7049 C93.4545,144.6834,94.4179,145.0481,94.9226,145.4619 C95.8085,146.0466,96.1211,146.3929,96.9068,146.5127 L96.9826,148.0418 C95.7491,148.1894,93.8038,148.015,92.2956,147.7661 C90.3035,147.337,90.0545,146.8923,89.0637,146.2607 C87.9645,145.5767,87.4906,145.08,87.2605,143.6608 L84.1568,142.267 C82.7448,142.2243,81.3291,141.5562,82.3676,140.0921 L85.3576,123.8723 C85.4722,122.2136,85.9903,121.2239,89.4752,119.0813 M92.7567,121.3935 C91.555,121.3926,90.9851,121.8673,90.8692,124.1023 L88.7238,138.7468 C88.4576,140.1534,88.7513,140.9232,90.3884,141.1272 C91.5872,141.144,92.7445,138.7672,92.7564,138.1109 L94.5292,124.6594 C94.7086,123.3456,94.1988,122.5435,92.8165,122.8845\" fill=\"rgb(40,40,40)\"/>\n<path d=\"M78.7415,152.9545 L89.0481,152.9999 L89.0204,154.0326 C86.9524,154.0341,86.4238,154.284,86.0694,154.3988 C85.3433,154.709,85.4196,154.8532,85.2432,155.4546 C85.0572,155.9787,85.2868,156.4379,85.437,156.7811 L90.5877,167.0593 L96.1737,157.4197 C96.2433,156.679,96.4994,156.2226,96.2639,155.9125 C95.8055,155.5052,95.087,155.3784,94.3177,155.2988 C93.7,155.2639,93.331,155.2517,92.9075,155.1979 L93.1937,154.1476 L103.635,154.2073 L103.4002,155.1817 C101.7858,155.352,101.0012,155.7218,100.4472,157.0188 L92.8719,169.5197 L91.0989,177.5189 C90.7632,178.4499,90.7915,179.0449,90.7603,180.2652 C90.6284,181.0705,90.8806,182.0233,91.4326,182.1579 C91.8287,182.373,92.5585,182.416,93.887,182.4451 L93.7814,183.3077 L82.4918,183.1659 L82.7027,182.2924 C84.3363,182.293,84.9381,182.1718,85.7126,181.9933 C86.686,181.686,86.899,181.308,87.2098,180.6793 C87.2929,179.9686,87.7042,179.1185,87.9467,178.0448 L89.555,170.7591 L84.4102,158.7019 C83.6811,157.7368,83.626,157.2246,82.826,156.8109 C82.1793,156.4527,81.5383,156.3115,80.0509,156.2303 L80.2999,155.3369\" fill=\"rgb(40,40,40)\"/>\n<path d=\"M91.5612,195.8221 C93.0166,195.825,93.9974,195.8239,95.6677,196.5663 L98.0364,195.9577 L100.813,195.9338 L100.6461,214.7874 C100.3541,219.0026,96.9317,223.6175,92.206,222.6123 C89.4549,222.2614,86.9554,220.7059,86.2646,219.5001 L88.0333,216.961 C88.8407,218.4591,90.189,218.9838,92.4123,218.9566 C94.5832,218.9567,95.7947,217.2986,95.9024,214.722 L95.7821,212.1085 C94.52,213.5413,92.8838,214.1982,90.8008,214.3363 C87.5672,214.4477,85.4991,210.9978,86.1599,206.535 C86.6715,201.7025,88.9554,197.5549,92.498,197.5265 M94.16,202.2379 C92.4283,202.241,91.6565,204.1629,92.0591,206.2806 C92.2207,208.2955,93.4253,209.3741,94.0141,209.1659 C94.982,208.8504,95.5123,207.3822,95.8285,205.5281 C96.1218,203.4605,95.8015,202.0034,94.2707,202.0724\" fill=\"rgb(40,40,40)\"/>\n<path d=\"M93.0292,231.1383 C94.6,231.1412,96.0226,231.1399,99.0575,232.3174 L97.3421,246.0387 C95.9429,248.4083,92.6309,249.7821,89.4722,249.8522 C85.8775,249.8557,83.0049,247.2193,82.7704,243.1176 C82.7322,236.8118,85.8649,232.9165,90.0246,231.6201 C91.1771,231.2643,91.5755,231.1182,92.1948,231.8243 M90.6878,237.1792 C89.7862,238.5766,89.1253,240.1046,88.7946,243.1075 C88.6197,245.2778,89.4379,246.1406,91.5473,246.0079 C92.8217,245.6452,93.6986,243.0015,93.8763,240.0334 C93.9203,237.9192,92.5167,236.3603,91.1758,236.2145\" fill=\"rgb(40,40,40)\"/>\n<path d=\"M77.8625,266.9548 L85.684,266.9923 L85.477,269.3718 C84.2665,269.3695,83.9926,269.6723,83.8376,269.6735 C83.4403,269.6748,83.2953,271.9475,84.3107,276.4425 C85.3374,273.9345,87.3423,272.2712,86.775,268.2808 L85.2793,268.2829 L85.5567,266.5008 C87.1413,266.5025,90.1888,266.597,93.6704,266.5617 L93.3507,268.17 L91.7026,268.3605 C92.0423,271.9127,93.3247,273.868,93.4671,276.5142 C94.9936,272.0526,97.2298,269.0482,97.1514,267.5684 C96.6449,267.3818,95.3898,267.278,94.3368,267.3326 L94.6206,265.8129 C96.4032,265.815,97.7589,265.9951,100.2429,265.9202 C101.6578,265.9023,102.4826,265.8009,103.3711,265.878 L103.1091,267.1274 L101.7743,267.8409 C101.0189,270.1586,98.3248,272.7478,97.081,271.0172 C95.3084,275.3865,93.1551,278.3674,91.92,285.8598 L89.592,285.8622 C88.7958,281.2883,87.3866,277.9713,86.7947,273.5517 C85.1779,278.0407,82.3412,280.8548,82.1614,285.4985 L79.509,285.5008 C78.7489,278.897,77.1259,273.9346,76.2175,268.0669 C75.6238,267.9161,74.6148,267.791,73.7635,267.8374 L74.0082,266.4973\" fill=\"rgb(40,40,40)\"/>\n<path d=\"M128.6591,11.5654 C131.7469,11.5682,131.7998,11.5669,134.8662,12.8023 L133.8323,17.8524 C132.5047,20.1303,132.8743,19.5163,131.476,21.1171 C130.1305,22.5992,130.0867,22.5928,128.4567,23.5412 C130.3256,24.2746,130.4116,24.3382,131.113,25.5682 C131.8614,26.835,131.864,26.8348,131.8099,28.7895 C131.5916,31.6029,131.7507,31.2898,130.3877,33.6289 C129.054,35.8372,129.0038,35.8317,126.7095,37.2419 C124.3957,38.6233,124.33,38.6206,121.3508,38.6729 C118.8159,38.699,118.6908,38.695,117.0816,37.9477 C115.5327,37.2347,115.4885,37.2222,115.2558,35.6254 C115.0575,34.086,115.0196,34.1364,115.6176,33.7477 C116.2208,33.3884,116.221,33.3842,117.1957,33.4525 C118.1618,33.5341,118.1653,33.528,119.0248,33.855 C119.8715,34.1509,119.8675,34.1448,120.6529,34.3368 C121.428,34.5303,121.4234,34.5248,122.1109,34.5221 C123.4497,34.5221,123.1868,34.517,124.3467,34.0406 C125.4933,32.9826,125.4875,32.979,125.8512,31.3506 C126.2149,29.7546,126.2559,29.7345,125.5063,28.5199 C124.8134,27.2741,124.7557,27.2685,123.2238,26.8877 C121.7348,26.5373,121.6872,26.5291,120.6913,26.5638 C119.6972,26.6023,119.6646,26.5964,119.4757,26.6772 L119.3594,24.3418 C120.2829,23.5992,120.506,24.0056,122.1075,23.1908 C123.7662,22.4677,123.7618,22.4654,125.2196,21.4875 C126.694,20.4902,126.6868,20.4886,127.5354,19.2745 C128.3999,18.0572,128.3935,18.052,128.3148,16.8089 C128.1712,15.6984,128.2484,15.6442,127.1948,15.5907 C126.11,15.5648,126.0692,15.5566,124.5944,16.0462 C123.141,16.5328,123.0927,16.5245,121.847,17.3631 C120.565,18.161,120.5142,18.1559,119.6267,19.017 L118.8198,14.9314 C119.8209,13.6553,120.0429,13.5119,121.5373,12.9194 C123.1494,12.3318,123.145,12.3266,125.0929,12.3324\" fill=\"rgb(40,40,40)\"/>\n<path d=\"M121.6484,46.5699 L131.5598,46.6059 C134.9364,46.6003,134.3062,46.608,136.1888,47.6857 C138.2717,48.9839,138.0192,48.8171,138.1081,51.6516 C138.0091,54.2452,138.1282,53.8797,138.0515,56.4789 C137.8024,59.3024,137.9295,59.0911,136.7363,60.6203 C135.5446,62.0276,135.5062,62.0237,133.4529,62.5308 C135.461,63.0673,135.5722,63.1416,136.2397,64.5368 C136.8982,65.8114,136.9076,65.9204,136.7776,67.8798 C136.4542,70.6565,136.6149,70.4298,135.0905,72.4201 C133.6129,74.3325,133.5668,74.3283,131.0344,75.0254 C129.1463,75.5285,129.8816,75.5179,126.2091,75.5345 L118.7923,75.5346 L122.2735,48.2318 L120.5187,48.2279 L121.2225,43.2524 M129.9239,48.3473 L128.4474,48.3494 L127.551,54.4726 L128.6009,54.4741 C130.3865,54.4742,130.0858,54.4692,130.9996,53.7858 C131.8594,53.0679,131.8561,53.0591,132.0177,51.7029 C132.2466,50.5022,132.199,49.9467,131.6785,49.312 C131.1549,48.5877,131.1079,48.5774,129.6532,48.5984 M128.1411,59.06 L126.9635,59.0627 L125.97,66.0044 L127.0091,66.0048 C128.9077,66.0046,128.6448,65.9998,129.63,65.3393 C130.5876,64.6587,130.584,64.6536,130.8542,63.3548 C131.2045,62.1031,131.1462,62.0626,130.7191,60.5846 C130.281,59.2274,130.2344,59.2077,128.6017,58.9322\" fill=\"rgb(40,40,40)\"/>\n<path d=\"M125.7234,81.8759 L137.9813,81.9211 L137.8689,83.0068 C135.7627,83.0046,135.2348,83.4372,134.8729,83.5204 C133.6359,83.9597,133.9546,84.2228,133.257,87.0578 L129.9812,104.2339 C129.2897,108.7485,128.9512,113.0102,121.3442,112.2219 C118.7123,112.0011,116.7137,110.9066,117.5138,109.0621 C117.698,108.0441,118.9652,106.9329,119.8504,106.8623 C120.8343,106.8168,121.4192,108.25,121.8567,108.5804 C122.5212,109.1348,123.1866,109.7346,123.2863,109.5396 C123.9582,109.0631,124.3675,106.9515,125.3698,104.5923 C126.5567,102.2757,127.1498,91.8106,128.5454,86.6338 C128.9544,85.3482,128.6713,84.7373,126.0882,83.4287 C125.3952,83.2077,124.9987,83.1212,125.0435,82.8258 L125.394,82.031\" fill=\"rgb(40,40,40)\"/>\n<path d=\"M121.6201,117.41 L129.5687,117.4429 C133.2475,117.4375,132.5735,117.4448,134.6317,118.6751 C136.7374,120.0903,136.6107,119.9994,136.6671,122.9557 C136.5621,125.8745,136.6818,125.483,136.6021,128.2134 C136.3193,131.3902,136.4841,131.2145,135.2146,132.8496 C133.9556,134.3701,133.9166,134.3705,131.7015,134.8548 L135.5592,145.7579 L128.7913,145.7596 L126.0644,135.1006 L124.7366,146.4236 L118.6039,146.4259 L121.9997,118.3364 M128.7334,124.048 L127.3563,130.3779 C128.2459,130.3779,128.4442,130.373,129.0973,130.2678 C129.7887,130.1572,129.7881,130.1514,130.3092,129.7843 C130.8197,129.4215,130.8153,129.4142,131.1521,128.7307 C131.4782,128.0592,131.4732,128.0552,131.5084,126.9858 C131.3802,125.865,131.5105,125.833,130.9956,124.9085 C130.5402,124.0201,130.4892,124.0117,129.4987,123.8511 L128.778,123.7807\" fill=\"rgb(40,40,40)\"/>\n<path d=\"M122.8016,153.0138 L136.866,153.0563 L127.6706,157.7239 L121.495,175.1956 L129.3065,175.1971 L128.3877,179.9988 L113.4711,180.0005 L123.2281,160.4338 L117.3228,160.4344 L118.5603,154.4192\" fill=\"rgb(40,40,40)\"/>\n<path d=\"M121.8781,188.4745 L127.222,188.5033 L125.614,197.6939 C126.8555,196.0423,127.2941,196.0175,128.8767,195.0083 C130.2141,194.1896,130.7919,193.9478,132.3805,194.1016 C133.9471,194.4425,134.4858,195.2458,134.7621,197.6988 C134.7932,199.0876,134.8612,200.533,134.3931,201.324 L131.5738,214.9335 L126.9771,214.935 L129.3891,202.3276 C129.438,201.4986,129.6828,200.9668,129.3107,200.6502 C128.8871,200.3602,128.6183,200.3097,127.9036,200.4274 C126.8548,200.703,126.3592,201.344,126.0429,203.1568 L123.7106,215.9296 L117.6558,215.9325 L122.3413,188.6678\" fill=\"rgb(40,40,40)\"/>\n<path d=\"M130.8406,231.3364 C132.5284,231.3393,134.3507,231.338,133.9608,232.2884 L130.6274,246.3808 C130.0303,248.2132,127.8673,250.0507,125.4613,249.2579 C124.041,248.8872,123.1186,248.245,122.5495,247.9128 L121.2976,255.8051 L115.9843,255.8083 L119.5167,231.1673 L125.1182,231.0564 L127.0126,232.8401 C128.026,231.9319,129.1888,231.3438,129.5783,230.9316 M127.9239,232.994 C126.666,233.2839,125.5395,234.9671,125.4804,235.6031 L124.4021,243.8817 C124.4497,244.8638,125.2567,245.2601,126.5628,244.9317 C127.7028,244.4359,128.3844,242.8918,128.6469,241.0698 L129.1296,234.5359 C128.9037,233.7511,128.3704,233.2725,127.3476,233.5229\" fill=\"rgb(40,40,40)\"/>\n<path d=\"M120.6885,266.7846 L126.3339,266.8148 L126.7405,272.5308 L129.2909,267.6941 L135.1732,267.6945 L128.2645,277.0187 L133.1649,287.8303 L126.9391,287.8318 L124.7109,281.4933 L120.9699,287.6426 L115.9242,287.6451 L123.4402,277.508 L119.3562,268.0833\" fill=\"rgb(40,40,40)\"/>\n<path d=\"M165.9159,11.8515 L170.0906,11.8768 L166.997,28.3801 L170.3717,28.3742 L169.6606,32.0901 L166.4899,32.0911 L165.2458,37.6041 L162.3461,39.3022 L159.2774,39.3123 L160.8196,32.5528 L153.4976,32.5524 L153.6953,29.5752 L161.5455,13.9634 L164.5715,12.9904 M163.0071,18.1839 L157.2878,29.2687 L160.9645,29.2696 L163.1055,18.0578\" fill=\"rgb(40,40,40)\"/>\n<path d=\"M163.1106,46.5543 L171.6236,46.5806 L170.5303,52.4732 L163.656,52.468 C162.1623,52.4676,161.741,55.4631,161.2432,55.2899 L159.315,65.416 C159.035,67.2724,159.5308,68.2399,162.9192,68.0256 L166.8824,67.1069 L169.5217,71.7947 L160.2888,75.2626 C156.0552,75.2666,153.1144,71.5461,152.8808,66.3262 C152.584,63.8883,155.0242,54.8202,153.8949,51.7168 L159.5851,46.3171\" fill=\"rgb(40,40,40)\"/>\n<path d=\"M156.5762,82.1741 L161.9983,82.2015 L159.2558,94.1239 L167.5499,82.8057 L174.0837,82.805 L164.022,96.1704 L170.8415,111.1408 L163.56,111.142 L158.8722,99.9119 L156.6103,111.5754 L150.4203,111.5774 L156.0583,84.5186\" fill=\"rgb(40,40,40)\"/>\n<path d=\"M164.7852,117.2456 L171.6277,117.2952 L170.603,122.8112 L164.3157,122.8028 C162.8857,122.8072,162.5174,123.3108,162.4147,124.8283 C162.2163,125.8506,163.2122,126.3151,163.3719,127.9744 C164.3255,129.428,166.853,132.5027,166.6501,132.4964 C167.4813,133.9561,168.2583,136.1845,169.415,137.4361 C170.3776,139.0044,170.2128,142.5178,166.3957,143.0623 C164.0373,143.3706,159.9026,143.719,157.1499,143.3737 L154.6596,140.7024 L157.33,136.8124 C158.6604,137.7361,160.9357,137.9381,161.1527,138.1391 C162.4215,138.6508,163.7963,137.5273,163.9122,136.5679 C163.881,135.5887,162.1734,133.4858,160.1071,133.0067 C157.5388,132.0065,155.6142,129.4401,155.7326,126.1871 C155.5526,122.3714,158.661,118.4103,162.483,117.9661\" fill=\"rgb(40,40,40)\"/>\n<path d=\"M163.0905,160.6733 C165.4536,160.6762,165.6814,160.675,168.6701,161.4682 L166.76,174.8634 C166.3948,176.6383,166.4533,176.1223,166.9577,176.8217 C167.5201,177.365,167.5193,177.36,168.4697,177.3372 L167.2238,179.9379 C165.8465,180.4152,165.5977,180.271,165.0502,179.9762 C164.4506,179.6232,164.4177,179.6162,164.1685,178.6069 C163.9196,179.0343,163.888,178.5976,162.8873,178.6862 C161.878,178.7799,161.8402,178.7782,160.9446,178.8013 C158.6543,178.802,158.3844,178.7971,156.6108,177.5743 C154.746,176.239,154.6671,176.2246,154.6049,173.8377 C154.4008,171.2146,154.575,171.4613,156.5851,169.0464 C158.6269,166.6813,158.6053,166.6795,161.3416,165.2322 C162.7837,164.721,163.9424,163.857,165.7124,163.7201 C165.4346,162.8521,165.3873,163.1931,164.2257,162.9289 C163.0492,162.6974,163.0054,162.6899,162.0132,162.7323 C161.0033,162.7789,160.974,162.7722,159.8801,163.2801 C158.7665,163.7769,158.7247,163.7723,158.1122,164.6605 L156.9671,163.5146 C158.0243,161.8289,158.1195,161.6482,159.2346,160.5325 C160.445,159.4435,160.439,159.4313,161.9336,159.3468 M165.213,168.9618 C163.8061,169.6166,163.5304,169.8175,161.5973,170.7537 C159.725,171.7308,159.6753,171.7216,158.7713,172.9754 C158.1692,174.1518,157.9586,174.1587,158.4085,174.891 C158.7943,175.5991,158.7951,175.5971,159.763,175.5933 C160.9843,175.5937,160.7251,175.5883,161.3767,175.1623 C161.9423,174.7474,161.9355,174.7433,162.327,174.0664 C162.713,173.4164,162.7074,173.4094,162.96,172.6235 C163.213,171.8364,163.206,171.8301,163.3906,170.9979 L164.0186,167.9611\" fill=\"rgb(40,40,40)\"/>\n<path d=\"M164.2383,188.3206 C165.1676,188.324,165.1305,188.3226,165.9245,188.9518 C166.6971,189.5693,166.6711,189.5705,166.6716,190.5311 C166.6763,191.5279,166.6865,191.5827,165.8499,192.197 C165.0873,192.8442,165.0505,192.8405,164.03,192.8495 C162.9372,192.8495,163.0652,192.8435,162.3156,192.1849 C161.6172,191.5314,161.5744,191.5224,161.5786,190.5673 C161.4413,189.5795,161.5942,189.5627,162.3462,188.9289 C163.1192,188.2879,163.1184,188.2815,164.1676,188.2835 M164.1132,196.4034 C165.2054,196.403,164.9722,196.3994,165.1807,196.8908 C165.3762,197.3621,165.3812,197.355,165.3047,198.1473 L163.4187,210.7473 C163.2331,211.4713,163.3332,211.5478,163.2684,211.7975 C163.2164,212.0608,163.2034,212.0562,163.1462,212.2304 C163.1049,212.3996,163.0933,212.3961,163.0725,212.7679 C163.0472,213.1287,163.032,213.1234,163.0341,213.503 C162.9189,214.3189,163.035,214.1169,163.3109,214.2776 C163.6114,214.4249,163.6149,214.4211,164.225,214.444 L165.7412,214.4465 C166.1921,214.4467,166.336,214.4407,166.4569,214.8507 C166.5579,215.2331,166.5497,215.2316,166.298,215.5458 C166.0651,215.8536,166.0476,215.8465,165.5484,215.9236 C165.0641,216.0007,165.0375,215.9978,164.2429,215.9994 L158.8924,215.9987 C157.9344,215.9989,158.168,215.9935,157.5873,215.9234 C157.1,215.8529,157.0656,215.8431,156.8913,215.6599 C156.705,215.4575,156.6826,215.4548,156.667,215.0742 C156.6483,214.6811,156.6322,214.6785,156.8404,214.364 C157.033,214.0435,157.0296,214.036,157.4747,213.9726 C157.9295,213.9094,157.9267,213.9023,158.4217,213.9018 L159.2418,213.9037 C159.8887,213.9032,159.7142,213.8979,159.9278,213.656 C160.1419,213.4168,160.139,213.4104,160.2509,212.8567 C160.3834,212.3278,160.3852,212.3222,160.4626,211.5445 C160.5561,210.7629,160.5502,210.76,160.6446,209.7675 L161.6081,202.0718 C161.5768,201.6849,161.7289,201.6689,161.6774,201.0397 C161.6338,200.4167,161.6065,200.4143,161.3488,200.0527 C161.1083,199.6904,161.0787,199.6836,160.6058,199.6306 C160.1367,199.5646,160.1046,199.5548,159.4345,199.5574 C158.8099,199.5577,158.9669,199.5527,158.7208,199.3538 C158.5016,199.1564,158.4695,199.1488,158.4881,198.8094 C158.3534,198.4161,158.4854,198.404,158.7777,198.1791 C159.0739,197.9539,159.074,197.9477,159.5882,197.9423 C160.6796,197.9415,160.3043,197.9362,162.0858,197.8973 C163.7853,197.8381,163.7827,197.8342,165.0475,197.8045\" fill=\"rgb(40,40,40)\"/>\n<path d=\"M162.4134,231.3137 C164.3431,231.3168,164.6953,231.3156,166.3044,232.1276 L166.7721,231.6351 L171.7573,231.6312 L167.3472,258.5717 L161.65,258.5725 L163.3266,248.827 C162.0295,250.4731,161.7992,250.8819,158.5681,250.7428 C155.9296,250.4889,156.2132,250.5631,155.0904,249.0971 C154.092,247.6376,154.0409,247.6226,154.0701,245.0072 C153.9246,242.0913,154.0739,242.0836,155.1718,240.4129 C156.5814,236.9863,156.419,238.2721,158.0888,237.4125 C159.5105,236.6412,159.7712,236.6147,161.6839,236.6614 M161.2995,240.5695 C160.2936,240.569,160.1795,240.5639,160.0026,242.3453 C159.7634,243.6151,159.8906,243.7725,160.1067,245.1667 C160.3131,246.728,160.4533,246.7909,161.4287,246.9786 C162.3723,247.0482,162.438,246.9728,163.1779,245.2723 C163.861,243.8293,163.8096,243.7806,163.8741,242.1089 C163.8407,240.1936,163.9328,240.3832,161.8011,240.1234\" fill=\"rgb(40,40,40)\"/>\n<path d=\"M152.907,267.0063 L160.6663,267.0483 L160.4184,269.2665 C159.0667,269.2681,158.7239,269.2627,158.5153,269.4936 C158.2576,269.7616,158.4221,269.9199,158.3194,270.4364 L159.4869,278.0532 L163.2038,270.1713 C163.1407,269.692,163.0334,269.5039,162.874,269.3583 C162.4966,269.171,162.3212,269.1381,161.3985,269.0633 L161.8231,267.0546 L170.2494,267.0574 L169.8762,268.8333 C168.4368,268.833,167.7597,269.4494,167.3653,271.0284 L161.902,282.9337 C161.0503,286.232,160.5618,287.9124,157.6362,287.2436 C156.1875,287.037,155.1944,286.2369,155.5381,285.2889 C155.6681,284.4784,156.6248,284.1045,157.2191,283.9628 C157.9485,283.7661,158.49,283.5939,158.8996,283.5239 C159.6386,283.365,159.9868,282.6663,160.2096,281.7999 L161.0476,271.6349 C160.9529,270.438,160.5306,268.857,157.3635,269.2266 L157.101,267.4662\" fill=\"rgb(40,40,40)\"/>\n<path d=\"M194.4043,11.8628 L207.1878,11.8987 L206.1292,16.6571 L197.8917,16.6501 L196.781,21.6513 C198.217,21.5056,198.6262,21.3378,200.7389,21.9652 C203.7695,22.6699,204.934,24.2972,205.1247,28.3216 C205.1279,33.0526,205.1169,37.2428,194.8947,37.1889 C192.4973,37.1892,189.9871,36.9587,189.1194,35.9035 L190.5879,30.8205 C191.6629,32.0746,193.0476,32.5706,195.632,32.5021 C198.2041,32.3629,200.0204,30.3334,200.2324,27.7208 C200.3006,25.3683,199.5075,23.9135,196.2955,23.523 C194.4156,23.4073,192.6406,23.6495,192.158,24.367 L191.4233,11\" fill=\"rgb(40,40,40)\"/>\n<path d=\"M191.9115,46.8105 L199.887,46.8417 C203.9877,46.8363,203.1913,46.8432,205.6156,48.3799 C207.9876,50.0905,207.885,49.9825,207.9468,53.5499 C207.9632,54.4109,207.9777,54.4306,207.8416,57.5455 C207.6649,60.5496,207.6495,60.7043,207.3517,66.1059 C206.8481,71.1781,207.0148,71.0407,205.1343,73.2385 C203.1275,75.5961,203.089,75.6236,198.455,75.5481 L189.7396,75.5458 L193.9754,47.4134 M201.1014,53.0038 L198.8482,53.0066 L196.5072,70.0296 L198.2294,70.0307 C200.4154,70.031,200.0603,70.0262,201.3914,68.3232 C202.6666,66.7342,202.6594,66.7223,203.0785,63.2237 C203.5048,60.5784,203.4562,60.5855,203.251,59.368 C203.0567,58.1582,203.0224,58.141,202.3801,57.0891 C201.757,56.0535,201.7037,56.0417,200.6755,55.8224\" fill=\"rgb(40,40,40)\"/>\n<path d=\"M193.0776,82.0468 L199.2405,82.0782 L195.3846,105.3542 L203.1697,105.3484 L202.488,110.9193 L188.1485,110.921 L192.576,83.5903\" fill=\"rgb(40,40,40)\"/>\n<path d=\"M186.1781,117.3949 L210.4064,117.4472 L209.9255,123.098 L208.5546,123.0957 C208.3484,120.5367,208.2408,121.1361,208.023,120.0443 C207.844,118.7563,207.8153,118.6493,207.2163,118.4272 C206.6376,118.1871,206.5993,118.1795,204.4805,118.2223 L199.4764,118.2441 L195.9594,140.0002 C195.6528,141.1069,195.7703,141.3042,195.6852,141.6294 C195.6166,141.9845,195.4575,142.3829,195.5052,142.5012 C195.3818,143.1807,195.6137,143.4319,196.0066,143.6282 C196.4166,143.8207,196.9534,143.8776,198.2011,143.9688 L197.964,144.8588 C196.2218,144.7899,194.9993,144.7319,193.8681,144.7045 C192.7173,144.6811,191.6445,144.7331,189.7901,144.7514 L189.9373,143.878 C191.182,143.8768,191.5461,143.667,191.9644,143.5815 C192.3642,143.4018,192.6894,143.1681,192.8796,142.6618 C192.9025,142.1377,193.2318,141.4789,193.3896,140.6042 C193.568,139.7834,193.7549,138.63,193.8544,119.4632 L189.2966,119.4651 C187.7377,119.4658,187.1223,119.5939,186.6656,119.8097 C186.222,120.0348,185.8546,120.5126,185.114,121.4152 C184.4963,122.1216,184.2189,122.6772,183.7815,123.5123 L182.6129,123.1998 L184.3255,117.1023\" fill=\"rgb(40,40,40)\"/>\n<path d=\"M193.0466,153.0254 L199.1087,153.0588 C200.9136,153.0562,201.3102,153.0577,203.1584,160.4509 C204.2506,163.7844,204.3588,163.7264,204.5229,166.0008 C204.701,170.1994,204.5824,171.136,204.5262,171.2081 C204.1081,175.2482,203.8807,176.4465,199.6563,176.4797 L193.9332,176.4833 L190.779,175.5464 L190.4966,152.1629 L191.0567,152.1344 L191.5432,152.3293 L191.499,152.4543 L191.8242,152.0803 M195.0302,155.3348 L194.6601,163.9689 L196.7087,164.8956 L197.8337,165.8726 L197.899,165.7528 L197.9032,166.8581 L197.8644,168.8296 L197.7862,169.7876 L197.7706,170.2078 L197.8032,170.1882 L197.8282,171.7969 L197.6814,172.6181 L197.7516,173.4941 L197.9208,174.0198 L197.9107,174.1354 L197.8332,174.4839 L197.6682,174.8674 L197.4607,175.0484 L197.1374,175.1047 L196.9171,175.2652 L196.986,175.1487 L196.9852,175.3927 L197.0415,175.249 L197.1177,175.4619 L197.0036,175.3969 L197.0152,175.5544 L196.9798,175.4283 L196.9849,175.5492 L196.8917,175.4951 L196.8368,175.5609 L196.7195,175.5144 L196.6145,175.5692 L196.5473,175.512 L196.4477,175.5255 L196.3575,175.4226 L196.2193,175.378 L196.1824,175.2029 L196.0461,175.0969\" fill=\"rgb(40,40,40)\"/>\n<path d=\"M200.1722,188.3109 C201.1015,188.314,201.1282,188.3126,201.7814,188.8736 C202.4379,189.4362,202.4163,189.4334,202.426,190.3145 C202.4334,191.182,202.4395,191.1829,201.751,191.8482 C201.1099,192.4912,201.0737,192.4859,200.138,192.4911 C199.2423,192.4906,199.2137,192.4859,198.57,191.867 C197.9557,191.2509,197.9124,191.2434,197.9277,190.3516 C197.787,189.447,197.9388,189.4545,198.5665,188.7918 C199.2286,188.15,199.2277,188.1445,200.1604,188.1532 M200.2143,196.2658 C201.3269,196.2657,201.1257,196.2606,201.4142,196.8639 C201.6752,197.4547,201.6772,197.4503,201.5777,198.3239 L199.4039,213.9947 C198.9474,217.0817,198.9894,216.6035,197.9546,219.2302 C196.945,221.5653,196.909,221.5633,195.3168,223.235 C193.7575,224.855,193.7058,224.8515,191.7125,225.557 C189.7136,226.2751,189.6492,226.2715,187.5004,226.2544 C186.0814,226.2541,186.4384,226.249,185.5914,225.9639 C184.8577,225.6902,184.8138,225.6846,184.4628,225.1921 C184.1159,224.6965,184.0833,224.6881,184.067,224.0917 C184.0449,223.4879,184.0234,223.4842,184.3375,223.0019 C184.7462,222.4983,184.6905,222.4261,185.2876,222.2185 C185.8629,221.9736,185.8625,221.9698,186.5756,222.0026 C187.4293,222.0297,187.3144,222.0244,187.8381,222.4029 C188.2994,222.7699,188.2992,222.7644,188.5079,223.3095 C188.8126,223.9776,188.7422,224.0525,189.0054,224.1651 C189.2555,224.2949,189.2576,224.2908,189.679,224.2992 C190.7994,224.2991,190.5492,224.2934,191.7276,223.8327 C192.8445,223.3541,192.8449,223.3524,193.7162,222.4002 C194.5971,221.436,194.5914,221.4305,195.1365,219.9476 C195.6837,218.4854,195.6745,218.4806,195.9614,216.418 L198.0203,202.0554 C198.0383,201.1684,198.1932,201.1528,198.048,200.8167 C197.9132,200.4941,197.8866,200.4909,197.3798,200.4597 C196.9157,200.4576,196.8991,200.452,196.1975,200.6163 C195.5037,200.781,195.4671,200.7753,194.771,200.9252 L194.7387,200.1282 C195.9067,199.6681,196.0279,199.6218,197.3707,198.9254 C198.8018,198.2249,198.7958,198.2229,200.061,197.6755 C200.4429,197.491,200.3825,197.4803,201.4107,197.3606\" fill=\"rgb(40,40,40)\"/>\n<path d=\"M204.914,231.2244 L204.5508,235.6068 C202.9905,235.4025,202.6028,235.2523,202.0934,235.5373 C200.3196,236.0582,198.5244,237.1978,197.6561,239.8214 L196.0227,249.7965 L190.6496,249.7974 L193.7591,231.0391 L199.5927,231.0407 L198.9178,234.6507 C200.2404,232.7107,201.5299,231.8292,204.4078,231.1692\" fill=\"rgb(40,40,40)\"/>\n<path d=\"M193.7892,266.746 L205.572,266.7816 L198.4253,270.9506 L194.2561,280.5821 L200.1563,280.5819 L199.4059,283.6788 L189.7197,283.6801 L194.4271,272.1059 L191.4571,271.1534 L192.8758,266.6979\" fill=\"rgb(40,40,40)\"/>\n<path d=\"M235.704,11.5198 L242.1465,11.5569 L240.6374,17.0174 L234.6759,17.0091 C233.5788,17.0077,233.3562,17.0032,233.0996,19.1364 L233.2427,25.0628 C234.5449,23.8176,234.796,23.8948,236.5763,23.7699 C239.367,23.7497,238.9228,23.7389,240.3714,24.7599 C241.7521,25.7782,241.7437,25.7765,241.8795,28.1646 C241.8516,28.8756,241.9622,28.9075,241.6868,33.5294 C241.2556,37.3004,241.4592,37.0567,239.7759,38.9194 C238.0073,40.7593,237.9787,40.6598,234.2761,40.7047 C230.522,40.7113,230.9904,40.7075,228.3759,38.3741 C225.9798,36.2238,225.8993,36.2084,225.9805,32.5254 L227.0968,20.2831 C227.6653,16.0486,227.5961,16.54,229.4224,13.4712 C231.3909,10.7487,231.3751,10.7309,235.1314,10.5089 M235.1712,25.814 C233.9541,25.8145,233.8385,25.8093,233.4633,26.4209 C233.101,27.0346,233.072,27.028,232.9751,28.4603 L233.0794,31.1127 C233.2055,32.416,233.2505,32.5753,233.8445,32.7367 C234.5663,32.8717,234.4781,32.8655,235.1423,32.3434 C235.7973,31.8505,235.7939,31.8432,236.055,30.7929 L236.2652,27.7613 C236.2143,26.6296,236.2344,26.2564,235.713,26.381\" fill=\"rgb(40,40,40)\"/>\n<path d=\"M228.8324,46.577 L243.0836,46.6213 L242.1079,51.5248 L233.0954,51.5179 L232.2011,57.3095 L240.2198,57.2522 L239.4764,62.4261 L231.1085,62.3162 L229.9485,70.4794 L236.9319,70.3902 L236.2151,75.3799 L222.3824,75.3015 L225.0614,48.895\" fill=\"rgb(40,40,40)\"/>\n<path d=\"M224.2594,82.4827 L231.1341,82.5201 L232.2613,97.4005 L236.9044,83.3596 L244.5671,83.3586 L240.078,110.9503 L234.2532,110.9525 L236.8391,94.7058 L230.763,110.4722 L226.272,110.4741 L225.2643,95.3042 L222.6857,110.2529 L217.0853,110.2549 L222.4455,83.6671\" fill=\"rgb(40,40,40)\"/>\n<path d=\"M226.4777,117.8647 L232.2281,117.8923 L229.1922,135.5904 C228.8215,136.2632,228.8684,138.1184,228.9211,137.1637 C228.7863,137.4341,229.5265,135.8166,229.6495,137.8009 C230.0939,139.1898,230.5916,137.1385,232.2846,140.0277 C233.3155,140.0335,233.7613,139.4555,234.9021,138.2368 L239.0865,118.7104 L245.0194,118.7139 L238.4935,143.1294 C237.3109,147.049,234.7555,148.6909,231.3321,147.6794 C227.8616,147.0213,225.4736,143.531,225.5223,138.3748 C225.3807,137.1107,225.6298,126.6669,228.1723,119.9953\" fill=\"rgb(40,40,40)\"/>\n<path d=\"M234.8529,160.4072 C236.2537,160.41,237.662,160.4088,240.405,161.071 L239.4356,165.8459 C237.8865,165.3473,235.9473,164.7337,234.4612,165.1862 C233.0762,165.6223,232.282,168.8371,232.2837,169.4268 C232.2291,171.9594,232.618,173.5748,234.416,173.372 C235.74,173.182,237.3628,172.2789,237.6582,171.4994 L240.3185,174.3666 C239.0345,176.823,236.1777,179.2348,232.8578,178.8649 C229.2462,178.3813,226.9928,174.7564,227.4837,170.9242 C227.876,166.2463,231.1113,161.699,235.533,161.2259\" fill=\"rgb(40,40,40)\"/>\n<path d=\"M228.3464,188.3698 L233.5139,188.3952 L230.765,201.8162 L235.5012,194.2026 L241.994,194.2003 L235.0594,203.6641 L240.159,215.6781 L233.5303,215.6796 L230.0091,206.5334 L228.3575,215.6189 L222.6056,215.6211 L227.6683,188.8674\" fill=\"rgb(40,40,40)\"/>\n<path d=\"M234.9734,230.9231 C236.3251,230.9259,237.4182,230.9245,240.2237,231.5663 L239.3399,235.9293 C237.8028,235.3989,235.9971,234.7951,234.5102,235.2337 C233.3702,235.5203,232.8387,236.5332,232.7795,237.3831 C232.583,238.169,233.743,238.5444,235.548,239.6893 C237.8804,241.2123,238.9753,242.6942,238.6304,245.4018 C238.0557,248.8789,234.5314,251.1592,229.6682,251.2954 C227.1413,251.3273,224.8514,250.8117,224.0221,249.3325 L225.413,245.5508 C226.6794,246.457,228.3269,247.2149,229.9894,247.0086 C231.4314,246.7717,232.2475,245.8661,232.7237,244.3426 C232.9302,243.0309,232.317,242.0854,229.9318,241.5072 C227.4127,240.5794,225.9423,239.2349,226.5252,236.6312 C227.0506,233.4513,230.0237,231.3901,233.4303,231.27\" fill=\"rgb(40,40,40)\"/>\n<path d=\"M260.3794,11.8097 L277.1606,11.859 L276.8454,15.2109 C274.0515,20.7796,267.3412,25.2311,264.9812,38.462 L260.6467,38.4633 C263.2183,28.5831,269.0308,21.5108,273.9609,15.4784 L261.1561,15.4787 L261.1578,12.3178\" fill=\"rgb(40,40,40)\"/>\n<path d=\"M264.5342,46.5126 L279.2062,46.5569 L278.2725,51.2375 L268.9998,51.231 L268.0354,57.6831 L276.1205,57.6014 L275.3687,62.5862 L266.6629,62.4664 L265.0657,74.0484 L259.4559,74.333 L262.2498,48.3905\" fill=\"rgb(40,40,40)\"/>\n<path d=\"M261.5187,82.3983 L267.7415,82.4314 L270.3348,97.7326 L273.1327,82.9641 L279.5192,82.9657 L273.472,111.2423 L267.5211,111.2446 L264.5701,95.8357 L262.1787,111.3076 L256.1438,111.3106 L261.0983,84.1734\" fill=\"rgb(40,40,40)\"/>\n<path d=\"M256.5215,117.8276 L266.3712,117.8761 L266.2948,118.9587 C264.5672,118.958,264.1071,119.2945,263.8876,119.3751 C263.2345,119.7229,263.115,119.8922,263.0862,120.4411 C262.9473,120.9372,263.1622,121.3078,263.2496,121.5581 L267.1655,137.2536 L272.757,123.1613 C272.7768,122.4469,273.0365,122.0124,272.933,121.7498 C272.5888,121.2673,272.0346,120.845,270.1581,120.9938 L270.4172,119.7979 L279.928,119.79 L279.6681,120.9301 C277.89,121.1141,277.1054,121.624,276.681,123.4277 L266.4957,146.8265 L265.4548,146.8246 L260.4333,124.3801 C259.7719,122.8315,259.3588,122.0852,257.0786,122.0284 L257.2884,120.9455\" fill=\"rgb(40,40,40)\"/>\n<path d=\"M273.2348,152.9655 L279.0077,152.9891 L274.0177,178.4316 L271.2933,178.4304 L271.9336,179.4806 L267.9301,180.7441 C265.7496,180.0988,263.3102,178.3383,262.61,177.9877 C260.9065,177.0465,260.501,176.0585,260.7898,172.9612 C261.3816,168.5269,264.5443,163.3826,268.9893,162.3259 C270.3652,162.0491,271.3493,162.0548,272.1808,162.3509 L273.361,154.5912 M270.9004,166.6122 C269.3598,166.6131,268.2837,168.8737,268.1237,172.743 C267.8098,175.2441,268.3235,176.8063,269.8911,176.9865 C270.771,177.0172,271.1479,173.5463,271.9832,168.8467 C272.1286,167.268,271.9219,166.0704,270.5315,165.8492\" fill=\"rgb(40,40,40)\"/>\n<path d=\"M272.5672,187.8054 L269.7325,209.9985 C269.6944,210.8296,269.6902,211.0662,269.7643,210.9864 C270.1766,211.4985,270.5021,211.647,272.0283,211.9121 L274.8196,212.2439 L274.5452,214.0942 L264.4891,214.0958 L264.8142,212.5455 L266.8256,212.2205 C268.1438,212.1437,268.6375,211.5293,268.9632,210.1513 L272.2183,190.8473 C272.2337,190.5233,272.4204,189.4376,272.293,189.4214 C271.9432,189.4192,271.5894,189.2963,271.0383,189.5113 L269.6162,189.8193 L269.4009,188.4536 L275.7529,186.6002\" fill=\"rgb(40,40,40)\"/>\n<path d=\"M270.9601,227.2714 L270.4125,232.3884 L275.6287,232.3601 L275.2868,234.6052 L270.3937,234.6033 L268.4993,247.0741 C268.1793,248.1358,268.3215,248.3992,268.2539,248.5459 C267.9995,249.8607,268.0658,250.1834,269.5695,250.261 C270.8447,250.3226,272.5993,249.8516,272.6388,248.9156 L273.5168,249.0688 C272.8037,250.915,270.6673,252.8214,268.3808,252.6845 C266.1364,252.4314,264.7565,250.1288,265.1123,247.8799 L267.025,234.9661 L263.8934,234.97 L264.2001,233.4881 L266.1942,232.3783 L267.1941,227.5347 L270.8598,226.9654\" fill=\"rgb(40,40,40)\"/>\n</svg>"
          },
          "metadata": {
            "tags": []
          }
        }
      ]
    },
    {
      "cell_type": "code",
      "metadata": {
        "colab": {
          "base_uri": "https://localhost:8080/",
          "height": 1000
        },
        "id": "3WRiVp85FGz2",
        "outputId": "4d3bc75f-5eb5-4219-c32b-22604d8747da"
      },
      "source": [
        "for i in range(len(alphabet_paths)):\n",
        "  glyph = alphabet_paths[i]\n",
        "  page = document(100, 100, 'mm').addpage()\n",
        "  pen = shape().stroke(rgb(40, 40, 40)).fill(rgb(128, 128, 128))\n",
        "  page.place(pen.path(glyph.scale(4)))\n",
        "\n",
        "  #file_name = 'alphabet/' + i2c(i) + '.svg'\n",
        "  file_name = 'alphabet_1/' + str(i) + '.svg'\n",
        "  print(file_name)\n",
        "  show(page)\n",
        "  page.svg(file_name)"
      ],
      "execution_count": null,
      "outputs": [
        {
          "output_type": "stream",
          "text": [
            "alphabet_1/0.svg\n"
          ],
          "name": "stdout"
        },
        {
          "output_type": "display_data",
          "data": {
            "text/plain": [
              "<IPython.core.display.SVG object>"
            ],
            "image/svg+xml": "<svg height=\"283.4646pt\" version=\"1.1\" viewBox=\"0 0 283.4646 283.4646\" width=\"283.4646pt\" xmlns=\"http://www.w3.org/2000/svg\" xmlns:xlink=\"http://www.w3.org/1999/xlink\">\n<title>Untitled</title>\n<path d=\"M151.2842,79.8334 L195.0887,80.5774 L184.8102,218.8061 L129.427,250.2121 L86.3175,238.7674 L88.3117,118.3646 L123.4916,86.0992 L143.5392,88.1272 M142.5772,112.7464 L126.2234,210.9455 L148.4476,217.8338 L162.8598,113.8251 L141.9885,111.8267\" fill=\"rgb(128,128,128)\" stroke=\"rgb(40,40,40)\" stroke-miterlimit=\"10\"/>\n</svg>"
          },
          "metadata": {
            "tags": []
          }
        },
        {
          "output_type": "stream",
          "text": [
            "alphabet_1/1.svg\n"
          ],
          "name": "stdout"
        },
        {
          "output_type": "display_data",
          "data": {
            "text/plain": [
              "<IPython.core.display.SVG object>"
            ],
            "image/svg+xml": "<svg height=\"283.4646pt\" version=\"1.1\" viewBox=\"0 0 283.4646 283.4646\" width=\"283.4646pt\" xmlns=\"http://www.w3.org/2000/svg\" xmlns:xlink=\"http://www.w3.org/1999/xlink\">\n<title>Untitled</title>\n<path d=\"M164.3043,75.4975 L168.6155,76.9287 C166.3564,87.6519,165.3379,83.6232,165.9608,217.5817 C168.124,228.5031,166.3867,225.0112,181.5019,233.2232 C193.9253,238.2987,195.1744,239.2243,204.9415,239.6296 L205.5628,243.8295 C191.0612,242.9978,186.9138,243.0567,127.4449,242.9662 L121.957,240.6718 C147.7344,238.4549,141.944,238.9976,150.6609,232.5256 C158.0229,226.2241,159.2377,226.11,158.9391,208.4037 L155.4062,97.7782 C137.7532,98.5196,134.7999,96.0208,120.4902,100.7243 C105.0446,105.6358,105.1996,106.3221,99.9599,107.135 L98.6072,102.9734 C129.05,91.3156,111.9349,95.2258,133.7446,76.9771 C156.755,58.7833,157.8149,59.0907,170.8426,50.6786\" fill=\"rgb(128,128,128)\" stroke=\"rgb(40,40,40)\" stroke-miterlimit=\"10\"/>\n</svg>"
          },
          "metadata": {
            "tags": []
          }
        },
        {
          "output_type": "stream",
          "text": [
            "alphabet_1/2.svg\n"
          ],
          "name": "stdout"
        },
        {
          "output_type": "display_data",
          "data": {
            "text/plain": [
              "<IPython.core.display.SVG object>"
            ],
            "image/svg+xml": "<svg height=\"283.4646pt\" version=\"1.1\" viewBox=\"0 0 283.4646 283.4646\" width=\"283.4646pt\" xmlns=\"http://www.w3.org/2000/svg\" xmlns:xlink=\"http://www.w3.org/1999/xlink\">\n<title>Untitled</title>\n<path d=\"M148.9254,77.3197 C168.4971,77.339,168.6417,77.3294,188.8219,86.0446 L176.2306,122.1393 C162.5838,138.5796,166.9842,132.5963,156.0804,148.4471 C145.8463,163.0252,145.4547,163.0239,136.9988,179.7792 C128.4248,196.7461,128.1476,196.1024,122.9415,207.6257 C117.9072,217.9489,117.7024,217.9786,115.1624,223.3026 L167.2541,223.2604 L160.8159,250.7288 L66.2581,250.7313 C70.7499,224.4459,71.9345,233.1129,79.3663,215.672 C87.043,199.9955,87.0444,199.9414,97.1426,186.5633 C107.6154,173.0439,107.5578,172.9954,119.6372,161.6069 C131.8887,150.1063,131.8319,150.0853,143.3128,140.3747 C154.5483,130.7284,154.4924,130.6373,153.5123,123.3867 C152.5495,116.6951,152.3902,116.5169,145.6976,113.8361 C139.2231,111.2338,138.9098,111.1918,129.5366,111.5209 C120.0962,111.8817,119.7988,111.8437,110.5302,114.6657 L115.9539,86.1956 C124.5771,82.8398,125.3496,82.4566,133.6245,82.2874\" fill=\"rgb(128,128,128)\" stroke=\"rgb(40,40,40)\" stroke-miterlimit=\"10\"/>\n</svg>"
          },
          "metadata": {
            "tags": []
          }
        },
        {
          "output_type": "stream",
          "text": [
            "alphabet_1/3.svg\n"
          ],
          "name": "stdout"
        },
        {
          "output_type": "display_data",
          "data": {
            "text/plain": [
              "<IPython.core.display.SVG object>"
            ],
            "image/svg+xml": "<svg height=\"283.4646pt\" version=\"1.1\" viewBox=\"0 0 283.4646 283.4646\" width=\"283.4646pt\" xmlns=\"http://www.w3.org/2000/svg\" xmlns:xlink=\"http://www.w3.org/1999/xlink\">\n<title>Untitled</title>\n<path d=\"M149.066,77.1025 C169.6513,77.1214,170.0039,77.1126,190.4466,85.3489 L183.5542,119.0161 C174.7032,134.2022,177.1672,130.1084,167.8453,140.7809 C158.8755,150.6614,158.5835,150.6184,147.7164,156.9415 C160.1757,161.8305,160.7491,162.2544,165.4254,170.4544 C170.4148,178.8998,170.4318,178.8988,170.0709,191.9298 C168.6162,210.6859,169.6768,208.5986,160.5898,224.1929 C151.6988,238.9144,151.3636,238.8777,136.0689,248.2796 C120.6435,257.4884,120.2055,257.4706,100.3441,257.8193 C83.4445,257.9935,82.6106,257.9667,71.8825,252.9844 C61.5568,248.2312,61.2621,248.1482,59.7109,237.5028 C58.3888,227.2401,58.1356,227.5759,62.1225,224.9848 C66.1441,222.5894,66.1455,222.5613,72.6431,223.0168 C79.084,223.5607,79.1075,223.5202,84.8371,225.6999 C90.4821,227.6725,90.4554,227.632,95.6911,228.9118 C100.8588,230.2017,100.8279,230.1651,105.4109,230.1476 C114.3363,230.1474,112.5838,230.1134,120.3164,226.9371 C127.9603,219.8839,127.9222,219.8598,130.3463,209.004 C132.7715,198.3642,133.0447,198.2301,128.0475,190.1325 C123.428,181.8274,123.0435,181.79,112.8308,179.2517 C102.9042,176.9153,102.5867,176.8605,95.947,177.092 C89.3197,177.3487,89.1026,177.3091,87.8432,177.8479 L87.0682,162.2787 C93.2245,157.3277,94.7117,160.0371,105.3886,154.6053 C116.4468,149.7848,116.4173,149.7696,126.1359,143.25 C135.9655,136.6012,135.9172,136.5908,141.5745,128.4965 C147.338,120.3815,147.2953,120.3465,146.7708,112.0597 C145.8132,104.6563,146.3278,104.2944,139.3041,103.938 C132.0716,103.765,131.7999,103.7107,121.968,106.9744 C112.2788,110.2185,111.9564,110.1634,103.6518,115.7542 C95.1051,121.0733,94.7665,121.0395,88.85,126.78 L83.4707,99.5429 C90.1443,91.0357,91.6243,90.0791,101.5871,86.1291 C112.3343,82.2123,112.3055,82.1774,125.2913,82.2161\" fill=\"rgb(128,128,128)\" stroke=\"rgb(40,40,40)\" stroke-miterlimit=\"10\"/>\n</svg>"
          },
          "metadata": {
            "tags": []
          }
        },
        {
          "output_type": "stream",
          "text": [
            "alphabet_1/4.svg\n"
          ],
          "name": "stdout"
        },
        {
          "output_type": "display_data",
          "data": {
            "text/plain": [
              "<IPython.core.display.SVG object>"
            ],
            "image/svg+xml": "<svg height=\"283.4646pt\" version=\"1.1\" viewBox=\"0 0 283.4646 283.4646\" width=\"283.4646pt\" xmlns=\"http://www.w3.org/2000/svg\" xmlns:xlink=\"http://www.w3.org/1999/xlink\">\n<title>Untitled</title>\n<path d=\"M161.224,79.0099 L189.0553,79.1787 L168.4311,189.2007 L190.9293,189.1616 L186.1886,213.9342 L165.0511,213.9409 L156.7566,250.6937 L137.4254,262.0149 L116.9673,262.0817 L127.2487,217.0184 L78.4354,217.0161 L79.7535,197.1681 L132.088,93.0897 L152.2617,86.6028 M141.8324,121.2262 L103.7035,195.1248 L128.2147,195.1309 L142.4881,120.3854\" fill=\"rgb(128,128,128)\" stroke=\"rgb(40,40,40)\" stroke-miterlimit=\"10\"/>\n</svg>"
          },
          "metadata": {
            "tags": []
          }
        },
        {
          "output_type": "stream",
          "text": [
            "alphabet_1/5.svg\n"
          ],
          "name": "stdout"
        },
        {
          "output_type": "display_data",
          "data": {
            "text/plain": [
              "<IPython.core.display.SVG object>"
            ],
            "image/svg+xml": "<svg height=\"283.4646pt\" version=\"1.1\" viewBox=\"0 0 283.4646 283.4646\" width=\"283.4646pt\" xmlns=\"http://www.w3.org/2000/svg\" xmlns:xlink=\"http://www.w3.org/1999/xlink\">\n<title>Untitled</title>\n<path d=\"M114.9266,79.0855 L200.1497,79.3248 L193.0925,111.0472 L138.1759,111.0009 L130.7709,144.3421 C140.3446,143.3709,143.0721,142.2522,157.1572,146.4348 C177.3613,151.133,185.1244,161.9815,186.3956,188.8105 C186.4173,220.3507,186.3434,248.2855,118.1955,247.926 C102.2132,247.9282,85.4784,246.3911,79.6937,239.3567 L89.4836,205.4703 C96.6501,213.8304,105.882,217.1375,123.1109,216.6805 C140.2584,215.7528,152.3669,202.2226,153.7801,184.8055 C154.2352,169.1218,148.9479,159.4234,127.5345,156.8202 C115.0016,156.0486,103.1686,157.6632,99.9509,162.4465 L95.053,73.3336\" fill=\"rgb(128,128,128)\" stroke=\"rgb(40,40,40)\" stroke-miterlimit=\"10\"/>\n</svg>"
          },
          "metadata": {
            "tags": []
          }
        },
        {
          "output_type": "stream",
          "text": [
            "alphabet_1/6.svg\n"
          ],
          "name": "stdout"
        },
        {
          "output_type": "display_data",
          "data": {
            "text/plain": [
              "<IPython.core.display.SVG object>"
            ],
            "image/svg+xml": "<svg height=\"283.4646pt\" version=\"1.1\" viewBox=\"0 0 283.4646 283.4646\" width=\"283.4646pt\" xmlns=\"http://www.w3.org/2000/svg\" xmlns:xlink=\"http://www.w3.org/1999/xlink\">\n<title>Untitled</title>\n<path d=\"M154.0371,76.7988 L196.9875,77.0462 L186.9262,113.4497 L147.1834,113.3939 C139.8691,113.3849,138.3854,113.3549,136.6748,127.5761 L137.6284,167.0856 C146.3098,158.7843,147.9836,159.2985,159.8522,158.4659 C178.4574,158.3314,175.4957,158.2596,185.1533,165.066 C194.3577,171.8549,194.3019,171.8435,195.207,187.7642 C195.0209,192.5041,195.7584,192.7169,193.9223,223.5295 C191.048,248.6696,192.4052,247.0446,181.1832,259.4627 C169.3924,271.7288,169.2018,271.065,144.5181,271.3648 C119.4902,271.4084,122.6131,271.3835,105.1835,255.8273 C89.2092,241.4917,88.6727,241.3891,89.2141,216.836 L96.6561,135.2208 C100.4461,106.9905,99.9845,110.2664,112.1601,89.8083 C125.2831,71.658,125.178,71.5397,150.2198,70.0595 M150.4853,172.0936 C142.3714,172.0964,141.6003,172.062,139.0989,176.1397 C136.6839,180.2309,136.4905,180.187,135.8445,189.7354 L136.5397,207.4183 C137.3805,216.1065,137.6804,217.1686,141.6403,218.2444 C146.4525,219.1445,145.8645,219.1036,150.2922,215.623 C154.6594,212.3367,154.6367,212.2883,156.3772,205.2859 L157.7785,185.0754 C157.4394,177.5308,157.573,175.0428,154.097,175.8731\" fill=\"rgb(128,128,128)\" stroke=\"rgb(40,40,40)\" stroke-miterlimit=\"10\"/>\n</svg>"
          },
          "metadata": {
            "tags": []
          }
        },
        {
          "output_type": "stream",
          "text": [
            "alphabet_1/7.svg\n"
          ],
          "name": "stdout"
        },
        {
          "output_type": "display_data",
          "data": {
            "text/plain": [
              "<IPython.core.display.SVG object>"
            ],
            "image/svg+xml": "<svg height=\"283.4646pt\" version=\"1.1\" viewBox=\"0 0 283.4646 283.4646\" width=\"283.4646pt\" xmlns=\"http://www.w3.org/2000/svg\" xmlns:xlink=\"http://www.w3.org/1999/xlink\">\n<title>Untitled</title>\n<path d=\"M82.3192,78.7311 L194.1942,79.0599 L192.0924,101.4057 C173.4666,138.5308,128.7315,168.2076,112.9978,256.4134 L84.1016,256.422 C101.2454,190.5542,139.9956,143.4054,172.8627,103.1892 L87.4973,103.1912 L87.5089,82.1187\" fill=\"rgb(128,128,128)\" stroke=\"rgb(40,40,40)\" stroke-miterlimit=\"10\"/>\n</svg>"
          },
          "metadata": {
            "tags": []
          }
        },
        {
          "output_type": "stream",
          "text": [
            "alphabet_1/8.svg\n"
          ],
          "name": "stdout"
        },
        {
          "output_type": "display_data",
          "data": {
            "text/plain": [
              "<IPython.core.display.SVG object>"
            ],
            "image/svg+xml": "<svg height=\"283.4646pt\" version=\"1.1\" viewBox=\"0 0 283.4646 283.4646\" width=\"283.4646pt\" xmlns=\"http://www.w3.org/2000/svg\" xmlns:xlink=\"http://www.w3.org/1999/xlink\">\n<title>Untitled</title>\n<path d=\"M150.3396,75.0809 L194.6516,75.4955 L192.0377,107.8916 L172.381,131.9505 L187.7042,152.0909 L181.63,204.1913 L154.7364,239.6481 L119.7543,256.1983 L88.2857,250.5207 L82.0217,208.3894 L98.33,166.6504 L115.9826,145.6157 L101.5324,132.0975 L109.0182,93.8748 L136.2974,71.5791 M153.5736,99.204 L141.0337,111.8082 L136.6929,140.1532 L148.5341,148.6458 L158.0544,125.4001 L162.8853,105.3222 L154.2311,102.729 M143.6151,173.4591 L133.7834,188.256 L127.4609,223.9777 L139.4656,234.7976 L148.684,225.7544 L154.3166,209.3919 L157.7303,180.9893 L146.7175,177.5188\" fill=\"rgb(128,128,128)\" stroke=\"rgb(40,40,40)\" stroke-miterlimit=\"10\"/>\n</svg>"
          },
          "metadata": {
            "tags": []
          }
        },
        {
          "output_type": "stream",
          "text": [
            "alphabet_1/9.svg\n"
          ],
          "name": "stdout"
        },
        {
          "output_type": "display_data",
          "data": {
            "text/plain": [
              "<IPython.core.display.SVG object>"
            ],
            "image/svg+xml": "<svg height=\"283.4646pt\" version=\"1.1\" viewBox=\"0 0 283.4646 283.4646\" width=\"283.4646pt\" xmlns=\"http://www.w3.org/2000/svg\" xmlns:xlink=\"http://www.w3.org/1999/xlink\">\n<title>Untitled</title>\n<path d=\"M147.4707,77.2045 C159.9271,77.2256,200.4339,77.2168,193.1732,87.0651 L163.2034,217.8578 C156.2199,237.4748,138.5834,254.2267,116.7205,248.0945 C98.1146,244.6711,87.0876,231.6209,83.2921,226.68 C78.3977,221.6287,88.5064,206.9654,109.3771,203.7179 C119.6537,205.6058,128.9138,207.4064,132.2405,209.7227 C139.6521,211.702,145.9437,198.7294,146.3783,196.888 C145.8766,190.6612,138.4983,183.947,148.7766,169.8098 C141.3509,173.1034,128.6336,173.4268,119.3224,178.2125 C104.3402,182.1648,92.7281,163.5471,94.7435,138.491 C98.61,110.2853,112.9285,80.6017,130.1953,78.2516 M145.8065,101.9224 C135.4923,105.6255,129.5002,117.1399,126.905,123.9682 C122.0266,136.1889,125.4308,147.3788,138.1411,147.6591 C148.7961,147.6582,157.4895,137.138,158.0733,124.88 C159.6714,112.415,152.9554,100.9695,146.6918,100.7263\" fill=\"rgb(128,128,128)\" stroke=\"rgb(40,40,40)\" stroke-miterlimit=\"10\"/>\n</svg>"
          },
          "metadata": {
            "tags": []
          }
        },
        {
          "output_type": "stream",
          "text": [
            "alphabet_1/10.svg\n"
          ],
          "name": "stdout"
        },
        {
          "output_type": "display_data",
          "data": {
            "text/plain": [
              "<IPython.core.display.SVG object>"
            ],
            "image/svg+xml": "<svg height=\"283.4646pt\" version=\"1.1\" viewBox=\"0 0 283.4646 283.4646\" width=\"283.4646pt\" xmlns=\"http://www.w3.org/2000/svg\" xmlns:xlink=\"http://www.w3.org/1999/xlink\">\n<title>Untitled</title>\n<path d=\"M128.139,77.5186 L182.0027,77.7864 L177.043,252.497 L140.0573,252.4584 L144.4347,210.6901 L109.167,210.6983 L98.8589,255.014 L64.782,254.8901 L108.0386,74.2287 M138.6315,111.0085 L118.154,167.778 L145.111,167.7831 L143.5763,112.0402\" fill=\"rgb(128,128,128)\" stroke=\"rgb(40,40,40)\" stroke-miterlimit=\"10\"/>\n</svg>"
          },
          "metadata": {
            "tags": []
          }
        },
        {
          "output_type": "stream",
          "text": [
            "alphabet_1/11.svg\n"
          ],
          "name": "stdout"
        },
        {
          "output_type": "display_data",
          "data": {
            "text/plain": [
              "<IPython.core.display.SVG object>"
            ],
            "image/svg+xml": "<svg height=\"283.4646pt\" version=\"1.1\" viewBox=\"0 0 283.4646 283.4646\" width=\"283.4646pt\" xmlns=\"http://www.w3.org/2000/svg\" xmlns:xlink=\"http://www.w3.org/1999/xlink\">\n<title>Untitled</title>\n<path d=\"M102.328,74.2456 L168.4039,74.4858 C190.9149,74.4482,186.7136,74.4995,199.2641,81.6844 C213.1499,90.3388,211.4663,89.2267,212.0593,108.1233 C211.3989,125.4142,212.1932,122.9775,211.6816,140.3058 C210.0214,159.129,210.8688,157.7204,202.9138,167.9148 C194.9692,177.2971,194.7129,177.2709,181.0246,180.6517 C194.412,184.2283,195.1531,184.7233,199.6029,194.0249 C203.9936,202.5224,204.0559,203.2491,203.1894,216.3118 C201.0331,234.823,202.1048,233.3113,191.9419,246.5799 C182.0912,259.3294,181.7842,259.3013,164.9015,263.9489 C152.3139,267.3031,157.2158,267.2321,132.7327,267.3428 L83.2873,267.3436 L106.495,85.3251 L94.7966,85.2991 L99.4884,52.1291 M157.4977,86.095 L147.6549,86.1086 L141.6787,126.9302 L148.6782,126.9402 C160.5822,126.9411,158.5771,126.9075,164.6696,122.3518 C170.401,117.5658,170.3793,117.5068,171.4568,108.4658 C172.9826,100.4606,172.6653,96.7576,169.1954,92.5262 C165.7048,87.6977,165.3915,87.6286,155.693,87.769 M145.6126,157.513 L137.7619,157.5309 L131.1389,203.8085 L138.0658,203.8113 C150.7233,203.8102,148.9703,203.7779,155.5385,199.3746 C161.9228,194.8373,161.8986,194.8032,163.7001,186.1446 C166.0355,177.8004,165.6466,177.5301,162.7991,167.6768 C159.8786,158.6287,159.5678,158.4975,148.6832,156.6608\" fill=\"rgb(128,128,128)\" stroke=\"rgb(40,40,40)\" stroke-miterlimit=\"10\"/>\n</svg>"
          },
          "metadata": {
            "tags": []
          }
        },
        {
          "output_type": "stream",
          "text": [
            "alphabet_1/12.svg\n"
          ],
          "name": "stdout"
        },
        {
          "output_type": "display_data",
          "data": {
            "text/plain": [
              "<IPython.core.display.SVG object>"
            ],
            "image/svg+xml": "<svg height=\"283.4646pt\" version=\"1.1\" viewBox=\"0 0 283.4646 283.4646\" width=\"283.4646pt\" xmlns=\"http://www.w3.org/2000/svg\" xmlns:xlink=\"http://www.w3.org/1999/xlink\">\n<title>Untitled</title>\n<path d=\"M142.5222,74.1413 L199.2754,74.3167 L191.9867,113.6007 L146.1584,113.5661 C136.2001,113.5638,133.3913,133.5337,130.0725,132.379 L117.2184,199.8861 C115.3511,212.262,118.6565,218.7124,141.2462,217.2833 L167.6675,211.159 L185.2627,242.4108 L123.7102,265.5304 C95.4863,265.5569,75.8806,240.7535,74.3234,205.9544 C72.3445,189.7014,88.6126,129.2478,81.0841,108.5583 L119.0191,72.5602\" fill=\"rgb(128,128,128)\" stroke=\"rgb(40,40,40)\" stroke-miterlimit=\"10\"/>\n</svg>"
          },
          "metadata": {
            "tags": []
          }
        },
        {
          "output_type": "stream",
          "text": [
            "alphabet_1/13.svg\n"
          ],
          "name": "stdout"
        },
        {
          "output_type": "display_data",
          "data": {
            "text/plain": [
              "<IPython.core.display.SVG object>"
            ],
            "image/svg+xml": "<svg height=\"283.4646pt\" version=\"1.1\" viewBox=\"0 0 283.4646 283.4646\" width=\"283.4646pt\" xmlns=\"http://www.w3.org/2000/svg\" xmlns:xlink=\"http://www.w3.org/1999/xlink\">\n<title>Untitled</title>\n<path d=\"M98.3073,75.8494 L151.4773,76.0574 C178.8155,76.0217,173.5062,76.0674,189.6686,86.3121 C205.4815,97.716,204.7979,96.9965,205.2095,120.7787 C205.3189,126.519,205.4153,126.6503,204.508,147.416 C203.3304,167.4438,203.2274,168.4747,201.2425,204.4852 C197.8853,238.3003,198.9962,237.3839,186.4597,252.0365 C173.081,267.7535,172.824,267.9371,141.9307,267.4333 L83.8282,267.4182 L112.0673,79.8686 M159.5735,117.1382 L144.5522,117.157 L128.9453,230.6432 L140.4271,230.6508 C155.0002,230.6529,152.6332,230.621,161.5068,219.2677 C170.0083,208.6744,169.9606,208.5945,172.7545,185.2709 C175.5963,167.6353,175.2726,167.6828,173.9042,159.5664 C172.6088,151.5008,172.3801,151.3865,168.0986,144.3738 C163.9445,137.4692,163.589,137.3912,156.7344,135.9289\" fill=\"rgb(128,128,128)\" stroke=\"rgb(40,40,40)\" stroke-miterlimit=\"10\"/>\n</svg>"
          },
          "metadata": {
            "tags": []
          }
        },
        {
          "output_type": "stream",
          "text": [
            "alphabet_1/14.svg\n"
          ],
          "name": "stdout"
        },
        {
          "output_type": "display_data",
          "data": {
            "text/plain": [
              "<IPython.core.display.SVG object>"
            ],
            "image/svg+xml": "<svg height=\"283.4646pt\" version=\"1.1\" viewBox=\"0 0 283.4646 283.4646\" width=\"283.4646pt\" xmlns=\"http://www.w3.org/2000/svg\" xmlns:xlink=\"http://www.w3.org/1999/xlink\">\n<title>Untitled</title>\n<path d=\"M108.2264,74.2931 L203.2348,74.5885 L196.7295,107.278 L136.6464,107.2322 L130.6846,145.8426 L184.1423,145.4606 L179.1866,179.9533 L123.4002,179.2208 L115.6671,233.6425 L162.2235,233.0477 L157.4443,266.312 L65.2263,265.7895 L83.0863,89.7462\" fill=\"rgb(128,128,128)\" stroke=\"rgb(40,40,40)\" stroke-miterlimit=\"10\"/>\n</svg>"
          },
          "metadata": {
            "tags": []
          }
        },
        {
          "output_type": "stream",
          "text": [
            "alphabet_1/15.svg\n"
          ],
          "name": "stdout"
        },
        {
          "output_type": "display_data",
          "data": {
            "text/plain": [
              "<IPython.core.display.SVG object>"
            ],
            "image/svg+xml": "<svg height=\"283.4646pt\" version=\"1.1\" viewBox=\"0 0 283.4646 283.4646\" width=\"283.4646pt\" xmlns=\"http://www.w3.org/2000/svg\" xmlns:xlink=\"http://www.w3.org/1999/xlink\">\n<title>Untitled</title>\n<path d=\"M110.0178,73.8634 L207.8311,74.1588 L201.6066,105.363 L139.7886,105.3194 L133.3591,148.3334 L187.2602,147.7886 L182.2478,181.0208 L124.2096,180.2219 L113.5616,257.4353 L76.1626,259.3325 L94.7889,86.3829\" fill=\"rgb(128,128,128)\" stroke=\"rgb(40,40,40)\" stroke-miterlimit=\"10\"/>\n</svg>"
          },
          "metadata": {
            "tags": []
          }
        },
        {
          "output_type": "stream",
          "text": [
            "alphabet_1/16.svg\n"
          ],
          "name": "stdout"
        },
        {
          "output_type": "display_data",
          "data": {
            "text/plain": [
              "<IPython.core.display.SVG object>"
            ],
            "image/svg+xml": "<svg height=\"283.4646pt\" version=\"1.1\" viewBox=\"0 0 283.4646 283.4646\" width=\"283.4646pt\" xmlns=\"http://www.w3.org/2000/svg\" xmlns:xlink=\"http://www.w3.org/1999/xlink\">\n<title>Untitled</title>\n<path d=\"M140.7739,74.198 L199.218,74.3846 L208.8904,110.0273 L168.4775,110.0136 L140.5277,109.9865 L126.5937,186.9864 L126.0612,207.3611 L128.0343,220.1144 L130.4182,229.6832 L131.8692,234.9095 L131.8349,235.9069 L132.0633,233.1797 L132.635,220.4906 L131.9033,204.4985 L142.4642,189.1018 L187.1161,185.7475 L185.478,256.4197 L146.0328,276.354 L101.4511,272.9573 L81.8428,251.7296 L82.1035,148.8655 L101.4648,99.738 L125.4018,91.2983\" fill=\"rgb(128,128,128)\" stroke=\"rgb(40,40,40)\" stroke-miterlimit=\"10\"/>\n</svg>"
          },
          "metadata": {
            "tags": []
          }
        },
        {
          "output_type": "stream",
          "text": [
            "alphabet_1/17.svg\n"
          ],
          "name": "stdout"
        },
        {
          "output_type": "display_data",
          "data": {
            "text/plain": [
              "<IPython.core.display.SVG object>"
            ],
            "image/svg+xml": "<svg height=\"283.4646pt\" version=\"1.1\" viewBox=\"0 0 283.4646 283.4646\" width=\"283.4646pt\" xmlns=\"http://www.w3.org/2000/svg\" xmlns:xlink=\"http://www.w3.org/1999/xlink\">\n<title>Untitled</title>\n<path d=\"M94.4137,76.4124 L132.3183,76.6192 L119.3642,145.94 L153.048,145.895 L164.3853,74.0846 L205.8931,74.1049 L173.6313,254.4274 L133.5644,254.4384 L147.7637,173.4707 L114.0443,173.6063 L101.8599,248.6719 L62.016,248.7027 L93.3984,74.0212\" fill=\"rgb(128,128,128)\" stroke=\"rgb(40,40,40)\" stroke-miterlimit=\"10\"/>\n</svg>"
          },
          "metadata": {
            "tags": []
          }
        },
        {
          "output_type": "stream",
          "text": [
            "alphabet_1/18.svg\n"
          ],
          "name": "stdout"
        },
        {
          "output_type": "display_data",
          "data": {
            "text/plain": [
              "<IPython.core.display.SVG object>"
            ],
            "image/svg+xml": "<svg height=\"283.4646pt\" version=\"1.1\" viewBox=\"0 0 283.4646 283.4646\" width=\"283.4646pt\" xmlns=\"http://www.w3.org/2000/svg\" xmlns:xlink=\"http://www.w3.org/1999/xlink\">\n<title>Untitled</title>\n<path d=\"M110.7071,73.9424 L182.4914,74.2218 L181.6772,81.3184 C167.6956,81.3135,164.0983,83.7081,161.1934,84.4879 C155.1828,87.5136,155.1446,89.2026,151.0394,96.5555 C145.5144,104.3939,145.891,110.885,143.0394,138.8296 C139.5406,163.4825,138.0886,196.9397,134.0345,200.7299 C128.1662,207.9533,128.0753,213.4439,124.8186,227.4903 C122.2847,235.6232,122.1959,240.4065,121.5526,244.5789 C123.7507,247.298,126.6439,248.5924,137.3312,248.8475 C145.5301,249.1319,150.3328,249.037,156.992,249.1405 L155.0724,257.2083 L76.9136,256.4202 L78.6091,248.7556 C88.6403,248.7563,92.6676,248.3783,98.4527,247.8682 C106.2941,246.9973,107.8973,245.8263,110.9889,242.9485 C114.6571,239.0753,115.2766,234.6712,116.9892,213.9982 C119.6097,197.2039,120.512,186.3753,125.3887,156.521 C127.6079,130.8835,131.936,119.647,132.1694,107.0699 C131.1889,99.2059,132.0075,96.3682,128.1089,92.5469 C123.4918,89.1705,116.8373,87.9791,108.6528,87.5115 L102.8273,87.1097 L105.897,79.5131\" fill=\"rgb(128,128,128)\" stroke=\"rgb(40,40,40)\" stroke-miterlimit=\"10\"/>\n</svg>"
          },
          "metadata": {
            "tags": []
          }
        },
        {
          "output_type": "stream",
          "text": [
            "alphabet_1/19.svg\n"
          ],
          "name": "stdout"
        },
        {
          "output_type": "display_data",
          "data": {
            "text/plain": [
              "<IPython.core.display.SVG object>"
            ],
            "image/svg+xml": "<svg height=\"283.4646pt\" version=\"1.1\" viewBox=\"0 0 283.4646 283.4646\" width=\"283.4646pt\" xmlns=\"http://www.w3.org/2000/svg\" xmlns:xlink=\"http://www.w3.org/1999/xlink\">\n<title>Untitled</title>\n<path d=\"M129.4948,73.3982 L211.2136,73.6995 L210.4647,80.9379 C196.4231,80.9228,192.9038,83.8069,190.4911,84.3615 C182.2444,87.2905,184.369,89.0442,179.7183,107.9442 L157.8802,222.4519 C153.2701,252.5488,151.0135,280.9601,100.2999,275.7052 C82.7537,274.2331,69.4298,266.9367,74.764,254.64 C75.9919,247.8533,84.4399,240.4449,90.3411,239.9743 C96.9004,239.6712,100.8002,249.226,103.7165,251.4281 C108.1468,255.1245,112.5825,259.1228,113.2475,257.8234 C117.7268,254.6467,120.4554,240.5692,127.1369,224.8414 C135.0497,209.397,139.0041,139.63,148.3081,105.1176 C151.0346,96.5468,149.1469,92.4742,131.9269,83.7506 C127.3069,82.2767,124.6634,81.7003,124.9616,79.7311 L127.2983,74.4322\" fill=\"rgb(128,128,128)\" stroke=\"rgb(40,40,40)\" stroke-miterlimit=\"10\"/>\n</svg>"
          },
          "metadata": {
            "tags": []
          }
        },
        {
          "output_type": "stream",
          "text": [
            "alphabet_1/20.svg\n"
          ],
          "name": "stdout"
        },
        {
          "output_type": "display_data",
          "data": {
            "text/plain": [
              "<IPython.core.display.SVG object>"
            ],
            "image/svg+xml": "<svg height=\"283.4646pt\" version=\"1.1\" viewBox=\"0 0 283.4646 283.4646\" width=\"283.4646pt\" xmlns=\"http://www.w3.org/2000/svg\" xmlns:xlink=\"http://www.w3.org/1999/xlink\">\n<title>Untitled</title>\n<path d=\"M98.9592,75.3866 L135.107,75.569 L116.8232,155.0516 L172.1178,79.597 L215.6759,79.5927 L148.5981,168.6952 L194.0612,268.4975 L145.5183,268.5057 L114.2659,193.6384 L99.1866,271.3952 L57.9199,271.4083 L95.507,91.0163\" fill=\"rgb(128,128,128)\" stroke=\"rgb(40,40,40)\" stroke-miterlimit=\"10\"/>\n</svg>"
          },
          "metadata": {
            "tags": []
          }
        },
        {
          "output_type": "stream",
          "text": [
            "alphabet_1/21.svg\n"
          ],
          "name": "stdout"
        },
        {
          "output_type": "display_data",
          "data": {
            "text/plain": [
              "<IPython.core.display.SVG object>"
            ],
            "image/svg+xml": "<svg height=\"283.4646pt\" version=\"1.1\" viewBox=\"0 0 283.4646 283.4646\" width=\"283.4646pt\" xmlns=\"http://www.w3.org/2000/svg\" xmlns:xlink=\"http://www.w3.org/1999/xlink\">\n<title>Untitled</title>\n<path d=\"M106.082,74.5377 L147.1679,74.7473 L121.4617,229.9203 L173.3622,229.8817 L168.8178,267.0208 L73.2213,267.0326 L102.7374,84.8276\" fill=\"rgb(128,128,128)\" stroke=\"rgb(40,40,40)\" stroke-miterlimit=\"10\"/>\n</svg>"
          },
          "metadata": {
            "tags": []
          }
        },
        {
          "output_type": "stream",
          "text": [
            "alphabet_1/22.svg\n"
          ],
          "name": "stdout"
        },
        {
          "output_type": "display_data",
          "data": {
            "text/plain": [
              "<IPython.core.display.SVG object>"
            ],
            "image/svg+xml": "<svg height=\"283.4646pt\" version=\"1.1\" viewBox=\"0 0 283.4646 283.4646\" width=\"283.4646pt\" xmlns=\"http://www.w3.org/2000/svg\" xmlns:xlink=\"http://www.w3.org/1999/xlink\">\n<title>Untitled</title>\n<path d=\"M77.7402,77.4438 L123.5714,77.6931 L131.0859,176.8956 L162.04,83.2896 L213.1242,83.2833 L183.1973,267.2278 L144.3651,267.2423 L161.6043,158.931 L121.0973,264.0403 L91.157,264.0531 L84.4394,162.9201 L67.2488,262.5787 L29.9127,262.5919 L65.6469,85.3396\" fill=\"rgb(128,128,128)\" stroke=\"rgb(40,40,40)\" stroke-miterlimit=\"10\"/>\n</svg>"
          },
          "metadata": {
            "tags": []
          }
        },
        {
          "output_type": "stream",
          "text": [
            "alphabet_1/23.svg\n"
          ],
          "name": "stdout"
        },
        {
          "output_type": "display_data",
          "data": {
            "text/plain": [
              "<IPython.core.display.SVG object>"
            ],
            "image/svg+xml": "<svg height=\"283.4646pt\" version=\"1.1\" viewBox=\"0 0 283.4646 283.4646\" width=\"283.4646pt\" xmlns=\"http://www.w3.org/2000/svg\" xmlns:xlink=\"http://www.w3.org/1999/xlink\">\n<title>Untitled</title>\n<path d=\"M89.9148,76.8808 L131.4001,77.102 L148.6886,179.11 L167.3412,80.653 L209.9179,80.6636 L169.6037,269.1742 L129.9304,269.1894 L110.2575,166.4639 L94.315,269.6098 L54.0822,269.6296 L87.1123,88.7148\" fill=\"rgb(128,128,128)\" stroke=\"rgb(40,40,40)\" stroke-miterlimit=\"10\"/>\n</svg>"
          },
          "metadata": {
            "tags": []
          }
        },
        {
          "output_type": "stream",
          "text": [
            "alphabet_1/24.svg\n"
          ],
          "name": "stdout"
        },
        {
          "output_type": "display_data",
          "data": {
            "text/plain": [
              "<IPython.core.display.SVG object>"
            ],
            "image/svg+xml": "<svg height=\"283.4646pt\" version=\"1.1\" viewBox=\"0 0 283.4646 283.4646\" width=\"283.4646pt\" xmlns=\"http://www.w3.org/2000/svg\" xmlns:xlink=\"http://www.w3.org/1999/xlink\">\n<title>Untitled</title>\n<path d=\"M137.1581,75.364 L178.4609,75.6085 C196.5929,75.5972,192.0291,75.6213,201.9349,82.8237 C210.9171,89.9891,210.8728,89.9918,210.869,102.1126 C210.816,104.997,210.9605,105.1223,210.2248,114.6161 L197.9586,214.9553 C194.4675,236.4597,194.8639,234.4066,183.2467,248.79 C170.729,263.4139,170.3722,262.2839,150.2973,263.0917 L107.8223,263.1641 C91.5684,263.165,92.0717,263.1338,81.5363,255.269 C71.5831,247.3101,71.0981,247.2582,71.0039,233.4948 C69.9633,230.1483,70.8639,230.2218,71.3777,223.1355 L84.5209,120.3729 C85.8189,104.0593,86.9035,103.7174,95.9916,89.9737 C106.4189,76.9273,106.3555,76.8212,122.6868,76.0906 M155.0364,114.3611 L134.0315,114.3679 C126.6218,114.3685,128.1695,114.3328,124.8049,118.5019 C121.8136,122.4628,121.6032,122.4194,120.6489,129.6333 L109.2695,202.5665 C107.9282,206.8671,108.5854,206.9955,110.2118,209.012 C111.8625,211.1204,111.8811,211.1039,115.9532,211.15 L141.3028,211.1672 C145.8117,211.1692,146.669,211.1342,149.0076,208.2149 C151.4678,205.3602,151.4324,205.349,151.8708,199.9869 L161.3774,122.3274 C161.4623,117.1222,162.4931,116.9992,160.0427,115.3642 C157.874,113.5327,157.6348,113.4958,152.9226,113.6296\" fill=\"rgb(128,128,128)\" stroke=\"rgb(40,40,40)\" stroke-miterlimit=\"10\"/>\n</svg>"
          },
          "metadata": {
            "tags": []
          }
        },
        {
          "output_type": "stream",
          "text": [
            "alphabet_1/25.svg\n"
          ],
          "name": "stdout"
        },
        {
          "output_type": "display_data",
          "data": {
            "text/plain": [
              "<IPython.core.display.SVG object>"
            ],
            "image/svg+xml": "<svg height=\"283.4646pt\" version=\"1.1\" viewBox=\"0 0 283.4646 283.4646\" width=\"283.4646pt\" xmlns=\"http://www.w3.org/2000/svg\" xmlns:xlink=\"http://www.w3.org/1999/xlink\">\n<title>Untitled</title>\n<path d=\"M103.231,73.9246 L156.7714,74.134 C182.1729,74.0982,177.6009,74.1474,191.7428,82.798 C206.357,92.6459,205.4651,92.0645,205.8923,112.6808 C205.2128,135.5261,206.0156,132.6198,205.3569,151.6461 C203.2689,175.1253,204.3321,173.4523,193.049,185.333 C181.3827,196.9261,181.0829,196.3454,155.0905,197.4648 L131.1822,197.6216 L123.0871,258.7005 L84.7929,258.7135 L108.7166,74.3944 M151.9996,111.1756 L142.7757,153.9685 L155.0431,153.8549 C166.8596,153.8563,164.5505,153.8251,171.051,149.7636 C176.9592,145.7734,176.9398,145.7053,178.2581,137.8894 C179.4072,129.6059,179.3883,128.1236,177.3125,123.0219 C175.3926,117.7218,175.1306,117.6579,169.88,115.3781 C164.8099,113.018,164.5157,112.9657,155.9172,113.0987 L149.2569,113.133\" fill=\"rgb(128,128,128)\" stroke=\"rgb(40,40,40)\" stroke-miterlimit=\"10\"/>\n</svg>"
          },
          "metadata": {
            "tags": []
          }
        },
        {
          "output_type": "stream",
          "text": [
            "alphabet_1/26.svg\n"
          ],
          "name": "stdout"
        },
        {
          "output_type": "display_data",
          "data": {
            "text/plain": [
              "<IPython.core.display.SVG object>"
            ],
            "image/svg+xml": "<svg height=\"283.4646pt\" version=\"1.1\" viewBox=\"0 0 283.4646 283.4646\" width=\"283.4646pt\" xmlns=\"http://www.w3.org/2000/svg\" xmlns:xlink=\"http://www.w3.org/1999/xlink\">\n<title>Untitled</title>\n<path d=\"M137.0319,74.8824 L179.9389,75.1302 C196.8987,75.1189,201.4923,75.1423,201.9087,106.7338 C201.9419,114.6588,201.8456,117.0575,201.1356,125.9388 L190.1929,210.7769 C185.9193,230.917,184.4364,249.7443,154.3469,249.3626 L147.3447,249.3711 C150.5893,255.8947,157.012,258.3262,160.3767,261.0848 C166.2826,264.9825,168.3666,267.2912,173.6041,268.0901 L174.1095,278.2836 C165.8862,279.2679,152.918,278.1053,142.8627,276.4461 C129.5827,273.5855,127.9227,270.6206,121.3169,266.4101 C113.9892,261.8496,110.8295,258.5387,109.2958,249.0774 L88.6043,239.7855 C79.1908,239.5005,69.7531,235.0467,76.6761,225.2862 L96.6099,117.154 C97.3739,106.0957,100.8277,99.498,124.0606,85.2139 M145.9373,100.6287 C137.9255,100.6229,134.1265,103.7873,133.3539,118.6874 L119.0509,216.3171 C117.2762,225.6945,119.2343,230.8264,130.1484,232.1866 C138.1401,232.2984,145.8559,216.4534,145.9349,212.078 L157.754,122.4014 C158.9498,113.6424,155.5508,108.2953,146.336,110.5683\" fill=\"rgb(128,128,128)\" stroke=\"rgb(40,40,40)\" stroke-miterlimit=\"10\"/>\n</svg>"
          },
          "metadata": {
            "tags": []
          }
        },
        {
          "output_type": "stream",
          "text": [
            "alphabet_1/27.svg\n"
          ],
          "name": "stdout"
        },
        {
          "output_type": "display_data",
          "data": {
            "text/plain": [
              "<IPython.core.display.SVG object>"
            ],
            "image/svg+xml": "<svg height=\"283.4646pt\" version=\"1.1\" viewBox=\"0 0 283.4646 283.4646\" width=\"283.4646pt\" xmlns=\"http://www.w3.org/2000/svg\" xmlns:xlink=\"http://www.w3.org/1999/xlink\">\n<title>Untitled</title>\n<path d=\"M102.139,74.072 L155.1301,74.2913 C179.6554,74.255,175.1622,74.3039,188.8834,82.5061 C202.9209,91.9403,202.0764,91.3347,202.4524,111.0429 C201.7525,130.5016,202.5506,127.8918,202.0195,146.0946 C200.1338,167.2733,201.2324,166.1018,192.7692,177.0023 C184.3759,187.1395,184.1159,187.1422,169.3483,190.3708 L195.0663,263.0582 L149.9475,263.069 L131.7678,192.0089 L122.9161,267.4959 L82.0314,267.5111 L104.6702,80.2479 M149.5615,118.3251 L140.3806,160.5243 C146.3115,160.5247,147.633,160.4919,151.9876,159.7906 C156.5964,159.0531,156.5924,159.0149,160.0669,156.5672 C163.4696,154.1487,163.4405,154.0996,165.6861,149.5432 C167.86,145.0667,167.8269,145.0396,168.0609,137.9104 C167.2066,130.4386,168.0756,130.2251,164.6426,124.062 C161.6064,118.1394,161.2664,118.0829,154.663,117.0125 L149.8586,116.5434\" fill=\"rgb(128,128,128)\" stroke=\"rgb(40,40,40)\" stroke-miterlimit=\"10\"/>\n</svg>"
          },
          "metadata": {
            "tags": []
          }
        },
        {
          "output_type": "stream",
          "text": [
            "alphabet_1/28.svg\n"
          ],
          "name": "stdout"
        },
        {
          "output_type": "display_data",
          "data": {
            "text/plain": [
              "<IPython.core.display.SVG object>"
            ],
            "image/svg+xml": "<svg height=\"283.4646pt\" version=\"1.1\" viewBox=\"0 0 283.4646 283.4646\" width=\"283.4646pt\" xmlns=\"http://www.w3.org/2000/svg\" xmlns:xlink=\"http://www.w3.org/1999/xlink\">\n<title>Untitled</title>\n<path d=\"M153.6863,72.9759 L199.3025,73.3068 L192.4713,110.0797 L150.5561,110.0238 C141.0227,110.0532,138.5672,113.4105,137.8825,123.5275 C136.5603,130.3427,143.1994,133.4394,144.264,144.5015 C150.6217,154.1919,167.4712,174.6897,166.119,174.6481 C171.6604,184.3795,176.8399,199.2352,184.5515,207.5793 C190.9685,218.0346,189.8699,241.4573,164.4226,245.0875 C148.7002,247.1428,121.1354,249.4651,102.7838,247.1632 L86.1822,229.3545 L103.9848,203.4212 C112.8543,209.5794,128.0228,210.926,129.4692,212.2659 C137.928,215.6771,147.0937,208.1871,147.8663,201.7911 C147.6583,195.263,136.2742,181.2442,122.4991,178.05 C105.3767,171.3819,92.5462,154.2726,93.3356,132.5857 C92.1356,107.1479,112.858,80.7409,138.3384,77.779\" fill=\"rgb(128,128,128)\" stroke=\"rgb(40,40,40)\" stroke-miterlimit=\"10\"/>\n</svg>"
          },
          "metadata": {
            "tags": []
          }
        },
        {
          "output_type": "stream",
          "text": [
            "alphabet_1/29.svg\n"
          ],
          "name": "stdout"
        },
        {
          "output_type": "display_data",
          "data": {
            "text/plain": [
              "<IPython.core.display.SVG object>"
            ],
            "image/svg+xml": "<svg height=\"283.4646pt\" version=\"1.1\" viewBox=\"0 0 283.4646 283.4646\" width=\"283.4646pt\" xmlns=\"http://www.w3.org/2000/svg\" xmlns:xlink=\"http://www.w3.org/1999/xlink\">\n<title>Untitled</title>\n<path d=\"M60.0851,73.971 L221.6068,74.3201 L218.4008,111.9917 L209.2619,111.9767 C207.8872,94.9166,207.17,98.9126,205.7174,91.6341 C204.5246,83.0473,204.3332,82.3339,200.3397,80.8534 C196.4814,79.2528,196.2265,79.2018,182.1007,79.4875 L148.7402,79.6323 L125.2934,224.6732 C123.2499,232.051,124.0326,233.3666,123.4654,235.5349 C123.0082,237.9022,121.9479,240.5578,122.2659,241.3466 C121.443,245.8765,122.9889,247.5513,125.6086,248.8601 C128.3414,250.143,131.9202,250.5226,140.2385,251.1307 L138.6578,257.0638 C127.043,256.6043,118.8927,256.2182,111.3515,256.0351 C103.6795,255.8793,96.5275,256.2262,84.1648,256.348 L85.1466,250.5252 C93.444,250.5171,95.8716,249.1183,98.6604,248.5483 C101.3254,247.3505,103.4938,245.7928,104.7616,242.4174 C104.9141,238.9232,107.1095,234.5314,108.1617,228.6999 C109.3511,223.228,110.5966,215.5387,111.2604,87.7597 L80.8749,87.7729 C70.4824,87.7774,66.3794,88.6314,63.3352,90.0701 C60.3776,91.5703,57.9286,94.7557,52.991,100.7736 C48.8733,105.4824,47.0234,109.1864,44.1075,114.7539 L36.317,112.6708 L47.7343,72.0203\" fill=\"rgb(128,128,128)\" stroke=\"rgb(40,40,40)\" stroke-miterlimit=\"10\"/>\n</svg>"
          },
          "metadata": {
            "tags": []
          }
        },
        {
          "output_type": "stream",
          "text": [
            "alphabet_1/30.svg\n"
          ],
          "name": "stdout"
        },
        {
          "output_type": "display_data",
          "data": {
            "text/plain": [
              "<IPython.core.display.SVG object>"
            ],
            "image/svg+xml": "<svg height=\"283.4646pt\" version=\"1.1\" viewBox=\"0 0 283.4646 283.4646\" width=\"283.4646pt\" xmlns=\"http://www.w3.org/2000/svg\" xmlns:xlink=\"http://www.w3.org/1999/xlink\">\n<title>Untitled</title>\n<path d=\"M92.5283,77.1032 L130.8648,77.287 L110.6253,195.2749 C108.1538,199.76,108.4668,212.128,108.8181,205.7632 C107.9193,207.5661,112.854,196.7825,113.6736,210.0111 C116.6368,219.2703,119.9546,205.595,131.2411,224.8568 C138.1139,224.895,141.0855,221.0416,148.6913,212.9172 L176.587,82.7413 L216.1397,82.7643 L172.634,245.5347 C164.7498,271.6655,147.7137,282.6112,124.8912,275.8676 C101.7545,271.4804,85.8345,248.2121,86.1593,213.8369 C85.215,205.4098,86.8761,135.7843,103.8262,91.3073\" fill=\"rgb(128,128,128)\" stroke=\"rgb(40,40,40)\" stroke-miterlimit=\"10\"/>\n</svg>"
          },
          "metadata": {
            "tags": []
          }
        },
        {
          "output_type": "stream",
          "text": [
            "alphabet_1/31.svg\n"
          ],
          "name": "stdout"
        },
        {
          "output_type": "display_data",
          "data": {
            "text/plain": [
              "<IPython.core.display.SVG object>"
            ],
            "image/svg+xml": "<svg height=\"283.4646pt\" version=\"1.1\" viewBox=\"0 0 283.4646 283.4646\" width=\"283.4646pt\" xmlns=\"http://www.w3.org/2000/svg\" xmlns:xlink=\"http://www.w3.org/1999/xlink\">\n<title>Untitled</title>\n<path d=\"M56.5998,76.8562 L122.2647,77.1796 L121.7556,84.3966 C110.2378,84.3919,107.1709,86.6354,105.7077,87.1726 C101.3535,89.4914,100.5567,90.6198,100.3646,94.2794 C99.4387,97.5865,100.8717,100.0571,101.4538,101.7259 L127.5603,206.3623 L164.8365,112.4138 C164.9684,107.6513,166.7003,104.7549,166.0102,103.004 C163.7154,99.787,160.0207,96.9721,147.5109,97.9642 L149.2379,89.9912 L212.6432,89.9387 L210.9108,97.5391 C199.0569,98.7656,193.8263,102.1653,190.9964,114.1897 L123.0944,270.1821 L116.1553,270.1693 L82.6789,120.5393 C78.2691,110.2152,75.5156,105.2398,60.3142,104.8613 L61.7127,97.6419\" fill=\"rgb(128,128,128)\" stroke=\"rgb(40,40,40)\" stroke-miterlimit=\"10\"/>\n</svg>"
          },
          "metadata": {
            "tags": []
          }
        },
        {
          "output_type": "stream",
          "text": [
            "alphabet_1/32.svg\n"
          ],
          "name": "stdout"
        },
        {
          "output_type": "display_data",
          "data": {
            "text/plain": [
              "<IPython.core.display.SVG object>"
            ],
            "image/svg+xml": "<svg height=\"283.4646pt\" version=\"1.1\" viewBox=\"0 0 283.4646 283.4646\" width=\"283.4646pt\" xmlns=\"http://www.w3.org/2000/svg\" xmlns:xlink=\"http://www.w3.org/1999/xlink\">\n<title>Untitled</title>\n<path d=\"M34.426,79.7477 L97.6203,80.0156 L96.8926,86.9402 C87.2059,86.9232,84.6601,89.3698,83.593,89.6731 C79.9304,91.6257,79.1993,92.5206,84.2708,169.079 L108.4012,89.0608 C105.8858,85.5437,98.5957,83.5642,92.3992,86.034 L93.386,78.9003 C105.4867,79.2278,131.902,79.4742,160.2333,79.0121 L158.7809,85.5929 C148.1218,85.5802,142.8725,88.0854,140.6349,87.7211 C139.5687,117.1431,146.8087,139.5852,147.129,185.7025 C160.9061,145.163,186.1562,119.5113,184.8989,87.729 C181.6589,85.5698,171.2954,84.7106,163.5753,84.8305 L164.6786,79.1771 C178.7535,80.07,204.5271,80.2248,208.2416,79.7698 C214.1426,79.75,217.1705,79.1258,223.2414,79.9661 L221.8796,86.3824 C213.158,87.8233,208.6752,89.6813,206.7876,88.8237 C190.2163,120.4765,159.7897,152.293,150.177,231.5884 L135.9039,232.631 C130.9641,194.0373,121.4521,166.5477,117.3114,130.3413 C104.726,165.5842,80.3466,189.5398,78.0107,237.4993 L65.9291,237.3435 C59.7758,185.9902,46.369,147.2324,38.7451,89.6561 C34.5681,88.4743,26.228,85.4818,18.9677,87.6047 L19.6199,82.0534\" fill=\"rgb(128,128,128)\" stroke=\"rgb(40,40,40)\" stroke-miterlimit=\"10\"/>\n</svg>"
          },
          "metadata": {
            "tags": []
          }
        },
        {
          "output_type": "stream",
          "text": [
            "alphabet_1/33.svg\n"
          ],
          "name": "stdout"
        },
        {
          "output_type": "display_data",
          "data": {
            "text/plain": [
              "<IPython.core.display.SVG object>"
            ],
            "image/svg+xml": "<svg height=\"283.4646pt\" version=\"1.1\" viewBox=\"0 0 283.4646 283.4646\" width=\"283.4646pt\" xmlns=\"http://www.w3.org/2000/svg\" xmlns:xlink=\"http://www.w3.org/1999/xlink\">\n<title>Untitled</title>\n<path d=\"M93.2851,75.6161 L133.971,75.8323 L134.8663,126.6133 L155.6388,79.9973 L202.9754,79.9957 L145.7274,169.1965 L184.5048,264.4235 L136.7389,264.4364 L120.1383,207.8998 L89.8568,265.8142 L47.0415,265.8403 L104.0462,173.7453 L74.23,89.7652\" fill=\"rgb(128,128,128)\" stroke=\"rgb(40,40,40)\" stroke-miterlimit=\"10\"/>\n</svg>"
          },
          "metadata": {
            "tags": []
          }
        },
        {
          "output_type": "stream",
          "text": [
            "alphabet_1/34.svg\n"
          ],
          "name": "stdout"
        },
        {
          "output_type": "display_data",
          "data": {
            "text/plain": [
              "<IPython.core.display.SVG object>"
            ],
            "image/svg+xml": "<svg height=\"283.4646pt\" version=\"1.1\" viewBox=\"0 0 283.4646 283.4646\" width=\"283.4646pt\" xmlns=\"http://www.w3.org/2000/svg\" xmlns:xlink=\"http://www.w3.org/1999/xlink\">\n<title>Untitled</title>\n<path d=\"M52.5023,74.8146 L121.2132,75.1172 L121.0287,82.0019 C107.2418,82.0123,103.7178,83.6779,101.3553,84.4435 C96.5146,86.5113,97.0228,87.4725,95.8472,91.4822 C94.607,94.9759,96.1379,98.0371,97.1389,100.3255 L131.4771,168.8466 L168.7169,104.583 C169.181,99.6449,170.8881,96.602,169.3186,94.5348 C166.2623,91.8195,161.4721,90.974,156.344,90.4432 C152.2258,90.2106,149.7657,90.1294,146.9426,89.7711 L148.8502,82.7685 L218.459,83.1667 L216.8939,89.6625 C206.1311,90.7979,200.9001,93.2632,197.2072,101.9099 L146.7048,185.2494 L134.8848,238.5773 C132.6472,244.7841,132.8358,248.7506,132.6277,256.886 C131.7483,262.2546,133.4299,268.6065,137.11,269.5043 C139.7504,270.9384,144.6156,271.2248,153.4721,271.4187 L152.7681,277.1695 L77.5042,276.2242 L78.9101,270.4009 C89.8011,270.4048,93.8133,269.5968,98.9764,268.4068 C105.4656,266.3583,106.8859,263.8382,108.958,259.6469 C109.5114,254.909,112.2536,249.2414,113.8706,242.0832 L124.5922,193.5122 L90.294,113.1305 C85.433,106.6966,85.0657,103.2821,79.7326,100.5241 C75.4209,98.136,71.1479,97.1948,61.232,96.6531 L62.8916,90.6978\" fill=\"rgb(128,128,128)\" stroke=\"rgb(40,40,40)\" stroke-miterlimit=\"10\"/>\n</svg>"
          },
          "metadata": {
            "tags": []
          }
        },
        {
          "output_type": "stream",
          "text": [
            "alphabet_1/35.svg\n"
          ],
          "name": "stdout"
        },
        {
          "output_type": "display_data",
          "data": {
            "text/plain": [
              "<IPython.core.display.SVG object>"
            ],
            "image/svg+xml": "<svg height=\"283.4646pt\" version=\"1.1\" viewBox=\"0 0 283.4646 283.4646\" width=\"283.4646pt\" xmlns=\"http://www.w3.org/2000/svg\" xmlns:xlink=\"http://www.w3.org/1999/xlink\">\n<title>Untitled</title>\n<path d=\"M110.0158,75.2104 L203.7785,75.4935 L142.4759,106.6107 L101.3051,223.0887 L153.3819,223.0991 L147.2566,255.1102 L47.8124,255.1213 L112.859,124.6769 L73.4905,124.6808 L81.7403,84.5797\" fill=\"rgb(128,128,128)\" stroke=\"rgb(40,40,40)\" stroke-miterlimit=\"10\"/>\n</svg>"
          },
          "metadata": {
            "tags": []
          }
        },
        {
          "output_type": "stream",
          "text": [
            "alphabet_1/36.svg\n"
          ],
          "name": "stdout"
        },
        {
          "output_type": "display_data",
          "data": {
            "text/plain": [
              "<IPython.core.display.SVG object>"
            ],
            "image/svg+xml": "<svg height=\"283.4646pt\" version=\"1.1\" viewBox=\"0 0 283.4646 283.4646\" width=\"283.4646pt\" xmlns=\"http://www.w3.org/2000/svg\" xmlns:xlink=\"http://www.w3.org/1999/xlink\">\n<title>Untitled</title>\n<path d=\"M142.3881,126.2733 C158.1422,126.293,159.6609,126.2849,179.5852,131.5729 L166.8512,220.8742 C164.4168,232.7068,164.8068,229.2668,168.1695,233.9294 C171.9187,237.5517,171.9135,237.5182,178.2493,237.3662 L169.9436,254.7039 C160.7617,257.8863,159.1029,256.9249,155.4525,254.9594 C151.4551,252.6063,151.2358,252.5592,149.575,245.8305 C147.9152,248.6803,147.7047,245.769,141.0333,246.3593 C134.3049,246.9843,134.0528,246.9727,128.0823,247.1269 C112.8133,247.1312,111.014,247.0987,99.1898,238.9469 C86.7581,230.0445,86.2323,229.9491,85.8178,214.0364 C84.4567,196.5485,85.618,198.1934,99.019,182.0941 C112.631,166.3265,112.487,166.3149,130.729,156.6662 C140.3427,153.258,148.0675,147.4982,159.8672,146.5852 C158.0154,140.7989,157.7002,143.0724,149.956,141.3105 C142.1125,139.7675,141.8207,139.7178,135.2058,140.0004 C128.4734,140.3108,128.2783,140.2661,120.9856,143.6521 C113.5612,146.9642,113.2831,146.9336,109.1996,152.8549 L101.5656,145.2157 C108.6136,133.9771,109.2478,132.7725,116.682,125.3347 C124.7515,118.0748,124.7111,117.9935,134.6755,117.4304 M156.5379,181.5299 C147.159,185.8953,145.3209,187.2346,132.4333,193.4764 C119.9517,199.9901,119.6203,199.9287,113.5932,208.2872 C109.5791,216.1304,108.1757,216.1764,111.1749,221.0584 C113.7465,225.7786,113.7519,225.7657,120.2051,225.7403 C128.3471,225.7428,126.6186,225.7068,130.9629,222.8668 C134.7333,220.1007,134.6882,220.0737,137.2981,215.5607 C139.8716,211.2273,139.8344,211.1811,141.5182,205.9412 C143.2048,200.6942,143.1583,200.652,144.3887,195.1044 L148.5752,174.859\" fill=\"rgb(128,128,128)\" stroke=\"rgb(40,40,40)\" stroke-miterlimit=\"10\"/>\n</svg>"
          },
          "metadata": {
            "tags": []
          }
        },
        {
          "output_type": "stream",
          "text": [
            "alphabet_1/37.svg\n"
          ],
          "name": "stdout"
        },
        {
          "output_type": "display_data",
          "data": {
            "text/plain": [
              "<IPython.core.display.SVG object>"
            ],
            "image/svg+xml": "<svg height=\"283.4646pt\" version=\"1.1\" viewBox=\"0 0 283.4646 283.4646\" width=\"283.4646pt\" xmlns=\"http://www.w3.org/2000/svg\" xmlns:xlink=\"http://www.w3.org/1999/xlink\">\n<title>Untitled</title>\n<path d=\"M105.8747,75.2875 L146.2893,75.5103 C158.3217,75.4925,160.9659,75.5031,173.287,124.7911 C180.5683,147.0139,181.2897,146.6273,182.3835,161.7899 C183.571,189.7809,182.7801,196.0245,182.4055,196.5053 C179.618,223.4394,178.1025,231.428,149.9397,231.6497 L111.786,231.6734 L90.7576,225.4275 L88.8748,69.5373 L92.6089,69.3473 L95.8526,70.6466 L95.5578,71.4798 L97.7255,68.9867 M119.0989,90.6833 L116.6317,148.2439 L130.2893,154.4223 L137.7891,160.9356 L138.224,160.1371 L138.2525,167.5056 L137.9937,180.6488 L137.4722,187.0353 L137.3685,189.837 L137.5857,189.7063 L137.7523,200.4307 L136.7734,205.9056 L137.2419,211.7452 L138.3698,215.2498 L138.302,216.0207 L137.7854,218.3444 L136.6857,220.9005 L135.3023,222.1075 L133.1472,222.4826 L131.678,223.5531 L132.1378,222.7758 L132.1326,224.4029 L132.5076,223.4447 L133.0155,224.8644 L132.2549,224.4305 L132.3324,225.4806 L132.0962,224.64 L132.1301,225.4458 L131.5089,225.0852 L131.1433,225.5242 L130.3607,225.2144 L129.6612,225.5794 L129.2131,225.1981 L128.549,225.288 L127.9474,224.6019 L127.0263,224.3049 L126.7803,223.1372 L125.8716,222.431\" fill=\"rgb(128,128,128)\" stroke=\"rgb(40,40,40)\" stroke-miterlimit=\"10\"/>\n</svg>"
          },
          "metadata": {
            "tags": []
          }
        },
        {
          "output_type": "stream",
          "text": [
            "alphabet_1/38.svg\n"
          ],
          "name": "stdout"
        },
        {
          "output_type": "display_data",
          "data": {
            "text/plain": [
              "<IPython.core.display.SVG object>"
            ],
            "image/svg+xml": "<svg height=\"283.4646pt\" version=\"1.1\" viewBox=\"0 0 283.4646 283.4646\" width=\"283.4646pt\" xmlns=\"http://www.w3.org/2000/svg\" xmlns:xlink=\"http://www.w3.org/1999/xlink\">\n<title>Untitled</title>\n<path d=\"M148.3633,124.4995 C157.7015,124.5178,167.0903,124.51,185.3771,128.9246 L178.9144,160.7575 C168.5875,157.4336,155.6595,153.343,145.7517,156.3596 C136.5186,159.2668,131.2241,180.6988,131.2351,184.6299 C130.8714,201.5138,133.4638,212.2837,145.4502,210.9312 C154.2768,209.6646,165.0957,203.6439,167.0653,198.4472 L184.8003,217.562 C176.2406,233.9383,157.1954,250.0169,135.0627,247.5505 C110.9851,244.3265,95.9623,220.1608,99.2353,194.6128 C101.8507,163.4271,123.4192,133.1113,152.8974,129.9576\" fill=\"rgb(128,128,128)\" stroke=\"rgb(40,40,40)\" stroke-miterlimit=\"10\"/>\n</svg>"
          },
          "metadata": {
            "tags": []
          }
        },
        {
          "output_type": "stream",
          "text": [
            "alphabet_1/39.svg\n"
          ],
          "name": "stdout"
        },
        {
          "output_type": "display_data",
          "data": {
            "text/plain": [
              "<IPython.core.display.SVG object>"
            ],
            "image/svg+xml": "<svg height=\"283.4646pt\" version=\"1.1\" viewBox=\"0 0 283.4646 283.4646\" width=\"283.4646pt\" xmlns=\"http://www.w3.org/2000/svg\" xmlns:xlink=\"http://www.w3.org/1999/xlink\">\n<title>Untitled</title>\n<path d=\"M168.0223,74.8878 L206.5078,75.0453 L173.2411,244.6623 L155.0786,244.6542 L159.3473,251.6553 L132.6573,260.0786 C118.1205,255.7765,101.8582,244.0401,97.1901,241.7029 C85.8332,235.4279,83.13,228.8413,85.0552,208.1927 C89.0006,178.6306,110.0854,144.3353,139.7187,137.291 C148.8912,135.4453,155.4519,135.4833,160.9954,137.4574 L168.8634,85.7259 M152.4596,165.8659 C142.1887,165.8718,135.0146,180.9429,133.9482,206.7382 C131.8552,223.4124,135.2798,233.8269,145.7307,235.0283 C151.5964,235.233,154.1096,212.0936,159.678,180.7631 C160.6476,170.2382,159.2693,162.2539,149.9998,160.7795\" fill=\"rgb(128,128,128)\" stroke=\"rgb(40,40,40)\" stroke-miterlimit=\"10\"/>\n</svg>"
          },
          "metadata": {
            "tags": []
          }
        },
        {
          "output_type": "stream",
          "text": [
            "alphabet_1/40.svg\n"
          ],
          "name": "stdout"
        },
        {
          "output_type": "display_data",
          "data": {
            "text/plain": [
              "<IPython.core.display.SVG object>"
            ],
            "image/svg+xml": "<svg height=\"283.4646pt\" version=\"1.1\" viewBox=\"0 0 283.4646 283.4646\" width=\"283.4646pt\" xmlns=\"http://www.w3.org/2000/svg\" xmlns:xlink=\"http://www.w3.org/1999/xlink\">\n<title>Untitled</title>\n<path d=\"M150.1063,125.3947 C165.961,125.4138,167.0702,125.4053,182.9435,131.3116 L173.47,166.1556 C160.8461,165.0654,159.2054,162.7895,136.4171,168.1411 C130.3493,180.3475,129.1993,177.3959,126.7219,193.7653 C132.7101,197.93,135.0331,196.0226,147.2916,197.8747 C160.1073,199.2395,160.9121,199.2021,169.9337,198.9052 L161.8019,229.0835 C151.0826,235.9034,148.4377,233.4469,122.7227,235.904 C102.0931,236.9849,103.2276,236.9876,93.9085,233.4033 C87.812,212.4688,87.8572,219.0234,86.9966,201.6302 C86.2949,185.1083,86.0526,180.6826,91.6596,166.7212 C99.2675,147.5419,98.634,147.18,110.2777,133.9808 C123.9661,118.2665,125.5242,118.1969,147.4692,117.2536 M152.9312,174.6568 C151.0687,174.6575,150.5217,174.6226,148.2482,177.0238 C146.0993,179.2851,145.9313,179.2526,145.2988,180.9493 C147.6228,180.9538,148.3692,180.4353,153.8156,180.6683 C159.0687,180.9118,157.8703,180.8971,160.7495,180.8709 C161.8179,180.8741,161.6086,180.8431,161.866,177.1699 C160.9614,174.1135,161.9373,173.8455,157.9561,173.3159 C154.4731,172.8252,154.0956,172.8162,151.7131,172.8548\" fill=\"rgb(128,128,128)\" stroke=\"rgb(40,40,40)\" stroke-miterlimit=\"10\"/>\n</svg>"
          },
          "metadata": {
            "tags": []
          }
        },
        {
          "output_type": "stream",
          "text": [
            "alphabet_1/41.svg\n"
          ],
          "name": "stdout"
        },
        {
          "output_type": "display_data",
          "data": {
            "text/plain": [
              "<IPython.core.display.SVG object>"
            ],
            "image/svg+xml": "<svg height=\"283.4646pt\" version=\"1.1\" viewBox=\"0 0 283.4646 283.4646\" width=\"283.4646pt\" xmlns=\"http://www.w3.org/2000/svg\" xmlns:xlink=\"http://www.w3.org/1999/xlink\">\n<title>Untitled</title>\n<path d=\"M187.8779,65.5629 C199.6653,65.583,200.4361,65.5743,217.4036,85.311 L202.4769,103.6828 C194.3408,84.7739,193.3406,87.8442,190.9765,83.4473 C183.5252,74.9392,183.6001,74.5355,172.5636,73.8118 C160.1016,73.6297,162.022,74.4414,154.7861,89.6978 C148.7976,101.6182,150.8004,101.7501,147.4811,119.6762 L182.7894,119.6403 L179.4979,136.9874 L136.9873,136.9924 C131.8532,168.0444,131.0173,182.7332,123.8363,217.0947 C116.0254,248.01,116.557,250.553,116.0594,262.7463 L104.4172,271.3469 C100.1984,264.5646,98.7094,268.3618,86.1296,270.1805 C91.287,238.3579,91.4717,251.6453,98.8696,191.6886 C106.3913,154.0473,105.1229,159.622,107.2537,127.0176 L82.6579,127.0419 L85.4984,113.9592 L111.259,112.765 C117.2484,78.5218,119.3031,73.5597,124.5599,69.3391 C139.3934,58.3373,136.7597,58.2534,166.9853,58.0401\" fill=\"rgb(128,128,128)\" stroke=\"rgb(40,40,40)\" stroke-miterlimit=\"10\"/>\n</svg>"
          },
          "metadata": {
            "tags": []
          }
        },
        {
          "output_type": "stream",
          "text": [
            "alphabet_1/42.svg\n"
          ],
          "name": "stdout"
        },
        {
          "output_type": "display_data",
          "data": {
            "text/plain": [
              "<IPython.core.display.SVG object>"
            ],
            "image/svg+xml": "<svg height=\"283.4646pt\" version=\"1.1\" viewBox=\"0 0 283.4646 283.4646\" width=\"283.4646pt\" xmlns=\"http://www.w3.org/2000/svg\" xmlns:xlink=\"http://www.w3.org/1999/xlink\">\n<title>Untitled</title>\n<path d=\"M137.9669,124.3782 C147.6697,124.3979,154.2085,124.3903,165.344,129.3393 L181.1353,125.2824 L199.646,125.1232 L198.5329,250.8136 C196.5864,278.9151,173.7704,309.6812,142.2654,302.9797 C123.9253,300.64,107.2617,290.2704,102.6561,282.2319 L114.4476,265.3041 C119.8306,275.2915,128.8188,278.7898,143.641,278.6085 C158.1135,278.6087,166.1901,267.5551,166.9084,250.3773 L166.1066,232.9545 C157.6922,242.5062,146.7842,246.886,132.8978,247.8061 C111.3405,248.549,97.553,225.5499,101.9585,195.7978 C105.3692,163.5807,120.5952,135.9301,144.2126,135.7411 M155.2923,167.1502 C143.7475,167.1712,138.6025,179.9833,141.2865,194.1013 C142.3636,207.5342,150.3944,214.7249,154.3198,213.3369 C160.7721,211.2335,164.3079,201.4458,166.4157,189.0847 C168.3709,175.3013,166.2358,165.5871,156.0301,166.0469\" fill=\"rgb(128,128,128)\" stroke=\"rgb(40,40,40)\" stroke-miterlimit=\"10\"/>\n</svg>"
          },
          "metadata": {
            "tags": []
          }
        },
        {
          "output_type": "stream",
          "text": [
            "alphabet_1/43.svg\n"
          ],
          "name": "stdout"
        },
        {
          "output_type": "display_data",
          "data": {
            "text/plain": [
              "<IPython.core.display.SVG object>"
            ],
            "image/svg+xml": "<svg height=\"283.4646pt\" version=\"1.1\" viewBox=\"0 0 283.4646 283.4646\" width=\"283.4646pt\" xmlns=\"http://www.w3.org/2000/svg\" xmlns:xlink=\"http://www.w3.org/1999/xlink\">\n<title>Untitled</title>\n<path d=\"M103.8591,75.3941 L139.485,75.5864 L128.7655,136.8571 C137.0416,125.8465,139.9657,125.6809,150.5166,118.9527 C159.4325,113.4947,163.2843,111.8832,173.8755,112.9081 C184.3194,115.1813,187.9104,120.5363,189.7523,136.8899 C189.9602,146.1482,190.4136,155.7841,187.2924,161.0578 L168.4973,251.7877 L137.8528,251.7978 L153.9323,167.748 C154.2587,162.2214,155.8908,158.6762,153.4099,156.5655 C150.5858,154.6323,148.7941,154.2953,144.0291,155.0803 C137.037,156.9178,133.7335,161.191,131.6248,173.2764 L116.076,258.4284 L75.7103,258.4478 L106.9471,76.6827\" fill=\"rgb(128,128,128)\" stroke=\"rgb(40,40,40)\" stroke-miterlimit=\"10\"/>\n</svg>"
          },
          "metadata": {
            "tags": []
          }
        },
        {
          "output_type": "stream",
          "text": [
            "alphabet_1/44.svg\n"
          ],
          "name": "stdout"
        },
        {
          "output_type": "display_data",
          "data": {
            "text/plain": [
              "<IPython.core.display.SVG object>"
            ],
            "image/svg+xml": "<svg height=\"283.4646pt\" version=\"1.1\" viewBox=\"0 0 283.4646 283.4646\" width=\"283.4646pt\" xmlns=\"http://www.w3.org/2000/svg\" xmlns:xlink=\"http://www.w3.org/1999/xlink\">\n<title>Untitled</title>\n<path d=\"M150.0404,74.3683 C156.2356,74.391,155.9883,74.3818,161.2814,78.5766 C166.4318,82.6927,166.2588,82.7009,166.2624,89.1048 C166.2931,95.7501,166.3615,96.1157,160.7843,100.2112 C155.7001,104.5255,155.4549,104.5013,148.6512,104.5608 C141.3658,104.5608,142.2194,104.5212,137.222,100.1301 C132.5662,95.7736,132.2808,95.714,132.3084,89.3462 C131.3938,82.7611,132.4126,82.6489,137.4262,78.4238 C142.5792,74.1505,142.5744,74.1076,149.5688,74.1208 M149.2062,128.2537 C156.4873,128.251,154.9327,128.2268,156.323,131.5033 C157.6259,134.6449,157.6596,134.5979,157.1492,139.8793 L144.5762,223.8797 C143.3385,228.7064,144.0062,229.2165,143.5739,230.8809 C143.2273,232.6362,143.1408,232.6058,142.7593,233.7671 C142.4844,234.8948,142.407,234.8718,142.2681,237.3503 C142.0995,239.7559,141.9984,239.7202,142.012,242.2509 C141.244,247.6905,142.0179,246.3436,143.8572,247.4147 C145.8605,248.3968,145.8839,248.3717,149.9517,248.5242 L160.0595,248.5412 C163.0651,248.5425,164.0245,248.5022,164.8309,251.2359 C165.5038,253.7848,165.4494,253.7747,163.7713,255.8697 C162.2188,257.9219,162.1022,257.8741,158.7742,258.3882 C155.5455,258.902,155.3681,258.8832,150.0708,258.8939 L114.4007,258.8891 C108.0139,258.8901,109.5715,258.8545,105.6999,258.387 C102.4517,257.9172,102.2222,257.852,101.0599,256.6303 C99.8179,255.281,99.669,255.2627,99.5645,252.7258 C99.4402,250.1051,99.3327,250.0879,100.721,247.9911 C102.0048,245.8546,101.982,245.8043,104.9496,245.3817 C107.9815,244.9602,107.9626,244.9132,111.263,244.9098 L116.7301,244.9222 C121.043,244.9189,119.8797,244.8837,121.3032,243.271 C122.731,241.6761,122.7114,241.6334,123.4574,237.9422 C124.3409,234.4161,124.3527,234.3792,124.8686,229.1945 C125.4924,223.9834,125.4526,223.9641,126.0824,217.3477 L132.5056,166.0431 C132.2971,163.4639,133.3108,163.3569,132.9674,159.1625 C132.6767,155.0091,132.495,154.9931,130.7766,152.5825 C129.1737,150.1667,128.976,150.1218,125.8232,149.7681 C122.6962,149.3285,122.4819,149.2629,118.0146,149.2805 C113.8509,149.2823,114.8976,149.2491,113.2566,147.9227 C111.7951,146.6072,111.5817,146.5562,111.7054,144.2933 C110.8078,141.6715,111.6875,141.591,113.6364,140.0918 C115.6106,138.59,115.6114,138.5489,119.0395,138.5128 C126.3152,138.5075,123.8131,138.4724,135.69,138.2127 C147.02,137.8181,147.0029,137.7924,155.4345,137.5944\" fill=\"rgb(128,128,128)\" stroke=\"rgb(40,40,40)\" stroke-miterlimit=\"10\"/>\n</svg>"
          },
          "metadata": {
            "tags": []
          }
        },
        {
          "output_type": "stream",
          "text": [
            "alphabet_1/45.svg\n"
          ],
          "name": "stdout"
        },
        {
          "output_type": "display_data",
          "data": {
            "text/plain": [
              "<IPython.core.display.SVG object>"
            ],
            "image/svg+xml": "<svg height=\"283.4646pt\" version=\"1.1\" viewBox=\"0 0 283.4646 283.4646\" width=\"283.4646pt\" xmlns=\"http://www.w3.org/2000/svg\" xmlns:xlink=\"http://www.w3.org/1999/xlink\">\n<title>Untitled</title>\n<path d=\"M153.3793,74.3034 C159.574,74.3246,159.752,74.3152,164.1068,78.055 C168.484,81.8059,168.3394,81.7872,168.4046,87.6607 C168.4534,93.444,168.4943,93.4502,163.9042,97.8855 C159.63,102.1721,159.3891,102.137,153.1508,102.1714 C147.1795,102.1682,146.989,102.1369,142.6978,98.0113 C138.602,93.9033,138.3138,93.8536,138.4156,87.9086 C137.4776,81.8775,138.4898,81.9278,142.6741,77.5098 C147.0885,73.2309,147.0826,73.1942,153.3005,73.2525 M153.6597,127.3365 C161.0773,127.3358,159.7355,127.3017,161.6587,131.3238 C163.3987,135.262,163.4124,135.2332,162.7493,141.0571 L148.2571,245.5287 C145.2137,266.1091,145.4936,262.921,138.5947,280.4324 C131.8642,295.9995,131.6244,295.9863,121.0098,307.1311 C110.6146,317.9309,110.2696,317.9073,96.9812,322.611 C83.6549,327.3981,83.2257,327.3745,68.9001,327.2601 C59.4403,327.2581,61.8203,327.2244,56.1739,325.3237 C51.2824,323.4988,50.9897,323.4618,48.6499,320.1782 C46.3367,316.8743,46.1197,316.8184,46.0112,312.8422 C45.8635,308.817,45.7202,308.7925,47.8142,305.5773 C50.539,302.2194,50.1679,301.7383,54.1483,300.3546 C57.9837,298.7219,57.9809,298.6963,62.7347,298.9149 C68.4264,299.0959,67.6604,299.0603,71.1514,301.5836 C74.2267,304.03,74.2258,303.9934,75.6169,307.6277 C77.6484,312.0816,77.1789,312.5808,78.9337,313.3315 C80.601,314.1968,80.6149,314.1696,83.4245,314.2259 C90.8936,314.2252,89.2257,314.1869,97.0817,311.1155 C104.5276,307.9251,104.5303,307.9136,110.3389,301.5659 C116.2119,295.1376,116.1735,295.1011,119.8075,285.2148 C123.4555,275.467,123.3944,275.4349,125.3066,261.6842 L139.0327,165.9334 C139.1531,160.0204,140.1856,159.9164,139.2175,157.6758 C138.3193,155.5248,138.1415,155.5036,134.7633,155.2958 C131.6691,155.2813,131.5582,155.2441,126.8809,156.3399 C122.2554,157.4375,122.0114,157.3995,117.3709,158.399 L117.1557,153.0855 C124.942,150.0185,125.7501,149.7095,134.7024,145.0671 C144.2432,140.3968,144.2032,140.3839,152.638,136.7345 C155.1835,135.5043,154.7808,135.4331,161.6355,134.635\" fill=\"rgb(128,128,128)\" stroke=\"rgb(40,40,40)\" stroke-miterlimit=\"10\"/>\n</svg>"
          },
          "metadata": {
            "tags": []
          }
        },
        {
          "output_type": "stream",
          "text": [
            "alphabet_1/46.svg\n"
          ],
          "name": "stdout"
        },
        {
          "output_type": "display_data",
          "data": {
            "text/plain": [
              "<IPython.core.display.SVG object>"
            ],
            "image/svg+xml": "<svg height=\"283.4646pt\" version=\"1.1\" viewBox=\"0 0 283.4646 283.4646\" width=\"283.4646pt\" xmlns=\"http://www.w3.org/2000/svg\" xmlns:xlink=\"http://www.w3.org/1999/xlink\">\n<title>Untitled</title>\n<path d=\"M104.9863,74.6962 L139.4367,74.8654 L121.1103,164.339 L152.6854,113.5819 L195.9706,113.5662 L149.7402,176.6583 L183.7373,256.7514 L139.5455,256.7618 L116.0711,195.7873 L105.0602,256.3571 L66.7145,256.3718 L100.4655,78.0139\" fill=\"rgb(128,128,128)\" stroke=\"rgb(40,40,40)\" stroke-miterlimit=\"10\"/>\n</svg>"
          },
          "metadata": {
            "tags": []
          }
        },
        {
          "output_type": "stream",
          "text": [
            "alphabet_1/47.svg\n"
          ],
          "name": "stdout"
        },
        {
          "output_type": "display_data",
          "data": {
            "text/plain": [
              "<IPython.core.display.SVG object>"
            ],
            "image/svg+xml": "<svg height=\"283.4646pt\" version=\"1.1\" viewBox=\"0 0 283.4646 283.4646\" width=\"283.4646pt\" xmlns=\"http://www.w3.org/2000/svg\" xmlns:xlink=\"http://www.w3.org/1999/xlink\">\n<title>Untitled</title>\n<path d=\"M163.5713,70.9335 L144.6736,218.8874 C144.4193,224.4283,144.3915,226.0058,144.8855,225.4736 C147.6341,228.8879,149.8042,229.8775,159.9787,231.6449 L178.5872,233.8567 L176.7583,246.1925 L109.7173,246.2031 L111.8849,235.8676 L125.2941,233.7012 C134.0819,233.1891,137.3736,229.0928,139.5448,219.9063 L161.2455,91.213 C161.3479,89.0528,162.5926,81.8148,161.7434,81.7068 C159.4113,81.6922,157.053,80.873,153.3784,82.3061 L143.8983,84.3594 L142.4624,75.2547 L184.8095,62.8992\" fill=\"rgb(128,128,128)\" stroke=\"rgb(40,40,40)\" stroke-miterlimit=\"10\"/>\n</svg>"
          },
          "metadata": {
            "tags": []
          }
        },
        {
          "output_type": "stream",
          "text": [
            "alphabet_1/48.svg\n"
          ],
          "name": "stdout"
        },
        {
          "output_type": "display_data",
          "data": {
            "text/plain": [
              "<IPython.core.display.SVG object>"
            ],
            "image/svg+xml": "<svg height=\"283.4646pt\" version=\"1.1\" viewBox=\"0 0 283.4646 283.4646\" width=\"283.4646pt\" xmlns=\"http://www.w3.org/2000/svg\" xmlns:xlink=\"http://www.w3.org/1999/xlink\">\n<title>Untitled</title>\n<path d=\"M109.9501,127.1867 L120.3279,133.7236 L133.5961,122.3112 L162.2017,122.2499 L183.7084,136.2399 L199.1523,132.9926 L213.6061,144.871 L220.7264,160.9799 L220.1259,175.2333 L217.4601,182.2052 L216.6682,181.0109 L216.5994,176.7864 L217.2097,171.8582 L215.7693,169.237 L215.3831,165.1432 L215.3667,164.194 L214.268,161.2698 L212.2212,158.9138 L211.3318,154.2326 L211.3837,151.4227 L212.2041,150.5079 L213.8398,150.7155 L240.0113,151.3793 L252.7051,162.736 L258.7369,170.6673 L262.6485,174.3362 L265.3273,175.4669 L264.9275,173.4709 L263.3043,168.2759 L263.1473,162.8648 L274.7284,159.7895 L280.7378,173.2693 L285.4176,182.718 L288.0355,188.777 L287.716,190.6096 L286.4408,187.2396 L284.7695,180.5477 L282.3955,175.5489 L287.8238,172.8245 L292.218,180.3593 L292.0978,179.8577 L291.322,184.3671 L291.5765,184.3514 L290.5966,180.1637 L289.7236,178.2933 L290.7831,184.3112 L290.8478,182.5423 L290.7004,181.428 L290.2566,180.3992 L289.4561,179.3871 L283.0736,178.4583\" fill=\"rgb(128,128,128)\" stroke=\"rgb(40,40,40)\" stroke-miterlimit=\"10\"/>\n</svg>"
          },
          "metadata": {
            "tags": []
          }
        },
        {
          "output_type": "stream",
          "text": [
            "alphabet_1/49.svg\n"
          ],
          "name": "stdout"
        },
        {
          "output_type": "display_data",
          "data": {
            "text/plain": [
              "<IPython.core.display.SVG object>"
            ],
            "image/svg+xml": "<svg height=\"283.4646pt\" version=\"1.1\" viewBox=\"0 0 283.4646 283.4646\" width=\"283.4646pt\" xmlns=\"http://www.w3.org/2000/svg\" xmlns:xlink=\"http://www.w3.org/1999/xlink\">\n<title>Untitled</title>\n<path d=\"M165.7722,125.0773 C175.5452,125.0978,185.4766,125.0884,183.9065,130.514 L164.5062,237.0512 C162.503,241.224,160.8604,243.2574,155.4813,249.6321 C149.0885,254.5842,143.446,258.3156,134.9448,256.938 C128.6201,255.1683,127.8296,247.0954,129.7045,240.4824 L146.6431,159.8646 C146.59,155.3378,143.6643,153.1443,139.9071,153.9274 C132.6873,156.1761,128.4003,161.9027,126.9412,173.1653 L114.7776,243.6636 C112.8424,252.394,107.6577,256.259,94.6826,255.391 C84.0324,254.5742,77.6694,250.8766,77.4076,246.7533 L93.1827,131.7141 C95.0982,126.2482,101.5222,124.0045,111.4614,124.0104 C122.0666,124.0118,125.884,126.1645,132.2265,134.1956 C139.03,128.5771,145.2189,123.4299,160.2175,119.4636\" fill=\"rgb(128,128,128)\" stroke=\"rgb(40,40,40)\" stroke-miterlimit=\"10\"/>\n</svg>"
          },
          "metadata": {
            "tags": []
          }
        },
        {
          "output_type": "stream",
          "text": [
            "alphabet_1/50.svg\n"
          ],
          "name": "stdout"
        },
        {
          "output_type": "display_data",
          "data": {
            "text/plain": [
              "<IPython.core.display.SVG object>"
            ],
            "image/svg+xml": "<svg height=\"283.4646pt\" version=\"1.1\" viewBox=\"0 0 283.4646 283.4646\" width=\"283.4646pt\" xmlns=\"http://www.w3.org/2000/svg\" xmlns:xlink=\"http://www.w3.org/1999/xlink\">\n<title>Untitled</title>\n<path d=\"M147.7534,123.5989 C158.2258,123.6187,167.7095,123.6099,187.9422,131.4595 L176.5067,222.9352 C167.1784,238.7323,145.0986,247.8914,124.0401,248.3583 C100.0756,248.3815,80.9249,230.8059,79.3616,203.4615 C79.1071,161.4222,99.9919,135.4537,127.7231,126.8113 C135.4064,124.4394,138.0622,123.4655,142.1908,128.1724 M132.1445,163.8715 C126.134,173.1876,121.7274,183.3748,119.5228,203.3935 C118.3572,217.8624,123.8115,223.6147,137.8746,222.7296 C146.3707,220.3117,152.2163,202.6871,153.4012,182.9001 C153.6944,168.8051,144.3369,158.4126,135.3978,157.4406\" fill=\"rgb(128,128,128)\" stroke=\"rgb(40,40,40)\" stroke-miterlimit=\"10\"/>\n</svg>"
          },
          "metadata": {
            "tags": []
          }
        },
        {
          "output_type": "stream",
          "text": [
            "alphabet_1/51.svg\n"
          ],
          "name": "stdout"
        },
        {
          "output_type": "display_data",
          "data": {
            "text/plain": [
              "<IPython.core.display.SVG object>"
            ],
            "image/svg+xml": "<svg height=\"283.4646pt\" version=\"1.1\" viewBox=\"0 0 283.4646 283.4646\" width=\"283.4646pt\" xmlns=\"http://www.w3.org/2000/svg\" xmlns:xlink=\"http://www.w3.org/1999/xlink\">\n<title>Untitled</title>\n<path d=\"M163.6092,124.9195 C174.8615,124.9393,187.0099,124.9308,184.4104,131.2662 L162.1881,225.2155 C158.2072,237.4316,143.7871,249.6821,127.7469,244.3968 C118.2788,241.9253,112.1293,237.6437,108.3354,235.429 L99.9891,288.0448 L64.5674,288.0661 L88.1163,123.7928 L125.4601,123.0534 L138.0892,134.9447 C144.8452,128.8895,152.5971,124.9691,155.194,122.2214 M144.1643,135.9704 C135.7787,137.9034,128.2689,149.1244,127.8748,153.3645 L120.6862,208.5551 C121.003,215.1024,126.383,217.7446,135.0908,215.555 C142.6903,212.2501,147.2347,201.9557,148.9844,189.8095 L152.2023,146.2498 C150.6969,141.0178,147.1416,137.8272,140.3224,139.4963\" fill=\"rgb(128,128,128)\" stroke=\"rgb(40,40,40)\" stroke-miterlimit=\"10\"/>\n</svg>"
          },
          "metadata": {
            "tags": []
          }
        },
        {
          "output_type": "stream",
          "text": [
            "alphabet_1/52.svg\n"
          ],
          "name": "stdout"
        },
        {
          "output_type": "display_data",
          "data": {
            "text/plain": [
              "<IPython.core.display.SVG object>"
            ],
            "image/svg+xml": "<svg height=\"283.4646pt\" version=\"1.1\" viewBox=\"0 0 283.4646 283.4646\" width=\"283.4646pt\" xmlns=\"http://www.w3.org/2000/svg\" xmlns:xlink=\"http://www.w3.org/1999/xlink\">\n<title>Untitled</title>\n<path d=\"M137.8739,124.7684 C150.7391,124.789,153.0867,124.7812,163.8142,130.1947 L166.9321,126.9111 L200.1665,126.8854 L170.766,306.4884 L132.785,306.4936 L143.9624,241.5236 C135.3145,252.4979,133.7793,255.2234,112.2389,254.2961 C94.6489,252.6029,96.5396,253.0978,89.0539,243.3246 C82.398,233.5944,82.0578,233.4944,82.2521,216.0584 C81.2821,196.6194,82.2773,196.5678,89.5965,185.4296 C98.9942,162.5861,97.9115,171.1577,109.0431,165.4273 C118.5216,160.2855,120.2593,160.1084,133.0106,160.4195 M130.4481,186.4739 C123.7424,186.4702,122.9817,186.4362,121.802,198.3125 C120.2076,206.7781,121.0557,207.8274,122.496,217.1218 C123.872,227.5308,124.8065,227.9495,131.3095,229.2014 C137.5999,229.6649,138.0379,229.1626,142.9706,217.8259 C147.5251,208.2061,147.1821,207.8812,147.612,196.7364 C147.3896,183.9678,148.0034,185.2317,133.792,183.4995\" fill=\"rgb(128,128,128)\" stroke=\"rgb(40,40,40)\" stroke-miterlimit=\"10\"/>\n</svg>"
          },
          "metadata": {
            "tags": []
          }
        },
        {
          "output_type": "stream",
          "text": [
            "alphabet_1/53.svg\n"
          ],
          "name": "stdout"
        },
        {
          "output_type": "display_data",
          "data": {
            "text/plain": [
              "<IPython.core.display.SVG object>"
            ],
            "image/svg+xml": "<svg height=\"283.4646pt\" version=\"1.1\" viewBox=\"0 0 283.4646 283.4646\" width=\"283.4646pt\" xmlns=\"http://www.w3.org/2000/svg\" xmlns:xlink=\"http://www.w3.org/1999/xlink\">\n<title>Untitled</title>\n<path d=\"M184.9911,124.1729 L182.5694,153.3889 C172.1675,152.0275,169.5828,151.0255,166.1868,152.9261 C154.3617,156.3986,142.3935,163.9958,136.6047,181.4867 L125.7159,247.9872 L89.8951,247.9933 L110.6251,122.9381 L149.5154,122.9483 L145.0166,147.0149 C153.8338,134.0816,162.4303,128.2055,181.6161,123.8051\" fill=\"rgb(128,128,128)\" stroke=\"rgb(40,40,40)\" stroke-miterlimit=\"10\"/>\n</svg>"
          },
          "metadata": {
            "tags": []
          }
        },
        {
          "output_type": "stream",
          "text": [
            "alphabet_1/54.svg\n"
          ],
          "name": "stdout"
        },
        {
          "output_type": "display_data",
          "data": {
            "text/plain": [
              "<IPython.core.display.SVG object>"
            ],
            "image/svg+xml": "<svg height=\"283.4646pt\" version=\"1.1\" viewBox=\"0 0 283.4646 283.4646\" width=\"283.4646pt\" xmlns=\"http://www.w3.org/2000/svg\" xmlns:xlink=\"http://www.w3.org/1999/xlink\">\n<title>Untitled</title>\n<path d=\"M149.1667,122.1643 C158.178,122.1829,165.4653,122.1738,184.1684,126.4526 L178.2763,155.5394 C168.0293,152.0031,155.9912,147.9781,146.0785,150.902 C138.4788,152.8127,134.935,159.5649,134.5408,165.2313 C133.2304,170.4705,140.9639,172.9733,152.9974,180.6056 C168.5462,190.7593,175.8457,200.6383,173.5462,218.6893 C169.7152,241.8695,146.2196,257.0715,113.7988,257.9795 C96.9526,258.1923,81.6864,254.7554,76.1575,244.8937 L85.4302,219.6828 C93.8731,225.724,104.8564,230.7766,115.9396,229.4011 C125.553,227.8216,130.9941,221.7846,134.1684,211.6281 C135.5449,202.8834,131.4571,196.5795,115.5559,192.7251 C98.7619,186.5401,88.9591,177.5763,92.8451,160.2187 C96.3477,139.0191,116.1688,125.278,138.8795,124.477\" fill=\"rgb(128,128,128)\" stroke=\"rgb(40,40,40)\" stroke-miterlimit=\"10\"/>\n</svg>"
          },
          "metadata": {
            "tags": []
          }
        },
        {
          "output_type": "stream",
          "text": [
            "alphabet_1/55.svg\n"
          ],
          "name": "stdout"
        },
        {
          "output_type": "display_data",
          "data": {
            "text/plain": [
              "<IPython.core.display.SVG object>"
            ],
            "image/svg+xml": "<svg height=\"283.4646pt\" version=\"1.1\" viewBox=\"0 0 283.4646 283.4646\" width=\"283.4646pt\" xmlns=\"http://www.w3.org/2000/svg\" xmlns:xlink=\"http://www.w3.org/1999/xlink\">\n<title>Untitled</title>\n<path d=\"M152.8572,97.8199 L149.2068,131.9331 L183.9811,131.7447 L181.7018,146.712 L149.0812,146.699 L136.4521,229.8381 C134.319,236.9158,135.2668,238.6719,134.8159,239.6499 C133.1199,248.4151,133.562,250.5665,143.5864,251.0837 C152.0877,251.4943,163.7853,248.3546,164.0488,242.1145 L169.9022,243.1356 C165.148,255.4435,150.9057,268.1532,135.6617,267.2405 C120.6991,265.5532,111.4998,250.2023,113.8718,235.2098 L126.6231,149.1176 L105.7462,149.1435 L107.7907,139.2642 L121.0846,131.8656 L127.7505,99.5751 L152.1888,95.7796\" fill=\"rgb(128,128,128)\" stroke=\"rgb(40,40,40)\" stroke-miterlimit=\"10\"/>\n</svg>"
          },
          "metadata": {
            "tags": []
          }
        },
        {
          "output_type": "stream",
          "text": [
            "alphabet_1/56.svg\n"
          ],
          "name": "stdout"
        },
        {
          "output_type": "display_data",
          "data": {
            "text/plain": [
              "<IPython.core.display.SVG object>"
            ],
            "image/svg+xml": "<svg height=\"283.4646pt\" version=\"1.1\" viewBox=\"0 0 283.4646 283.4646\" width=\"283.4646pt\" xmlns=\"http://www.w3.org/2000/svg\" xmlns:xlink=\"http://www.w3.org/1999/xlink\">\n<title>Untitled</title>\n<path d=\"M94.4415,126.6792 L126.9887,126.877 L112.3342,211.9555 C111.4973,216.1017,111.2529,221.3638,112.4329,218 C115.9315,214.9639,119.4507,189.229,129.559,149.3841 L160.7812,149.3939 L141.7806,250.673 C139.1854,258.675,134.9279,261.6051,130.5764,264.6427 C122.2434,268.354,115.6726,268.9132,108.2463,262.8001 C100.6379,257.7693,94.3396,250.8404,103.5895,250.5971 C102.528,255.307,90.7025,255.8114,81.9464,257.6985 C65.4758,260.4701,55.9505,244.0529,54.2506,238.6256 C51.085,231.0164,54.4636,173.5503,56.7945,132.2159 C59.9128,128.2706,65.4581,126.5763,74.0069,126.3366\" fill=\"rgb(128,128,128)\" stroke=\"rgb(40,40,40)\" stroke-miterlimit=\"10\"/>\n</svg>"
          },
          "metadata": {
            "tags": []
          }
        },
        {
          "output_type": "stream",
          "text": [
            "alphabet_1/57.svg\n"
          ],
          "name": "stdout"
        },
        {
          "output_type": "display_data",
          "data": {
            "text/plain": [
              "<IPython.core.display.SVG object>"
            ],
            "image/svg+xml": "<svg height=\"283.4646pt\" version=\"1.1\" viewBox=\"0 0 283.4646 283.4646\" width=\"283.4646pt\" xmlns=\"http://www.w3.org/2000/svg\" xmlns:xlink=\"http://www.w3.org/1999/xlink\">\n<title>Untitled</title>\n<path d=\"M72.8453,126.2135 L126.3174,126.4911 L124.5852,140.9742 C115.3552,140.986,113.0319,140.9496,111.7274,142.5881 C110.0062,144.4083,111.1147,145.5443,110.3503,149.1721 L117.6936,206.9901 L143.8931,148.2625 C143.5496,144.9599,142.8046,143.6202,141.8825,142.5525 C139.3181,141.1839,135.9376,140.9161,131.9602,140.4213 L135.0022,127.0041 L189.7595,127.0275 L187.1934,138.9687 C178.2675,138.973,173.7992,143.2513,171.2875,143.4874 C163.6887,144.9688,165.0123,146.9661,158.3257,150.3458 C147.8532,154.9586,142.2523,197.9901,110.4394,253.8096 L91.1625,253.8277 C87.0672,213.808,78.7949,186.4528,72.8824,150.5813 C70.5381,145.6672,68.2281,143.6357,64.3212,142.4563 C60.9939,141.6214,58.5688,141.446,52.4391,141.2278 L55.2574,128.4537\" fill=\"rgb(128,128,128)\" stroke=\"rgb(40,40,40)\" stroke-miterlimit=\"10\"/>\n</svg>"
          },
          "metadata": {
            "tags": []
          }
        },
        {
          "output_type": "stream",
          "text": [
            "alphabet_1/58.svg\n"
          ],
          "name": "stdout"
        },
        {
          "output_type": "display_data",
          "data": {
            "text/plain": [
              "<IPython.core.display.SVG object>"
            ],
            "image/svg+xml": "<svg height=\"283.4646pt\" version=\"1.1\" viewBox=\"0 0 283.4646 283.4646\" width=\"283.4646pt\" xmlns=\"http://www.w3.org/2000/svg\" xmlns:xlink=\"http://www.w3.org/1999/xlink\">\n<title>Untitled</title>\n<path d=\"M46.6424,126.1552 L98.7858,126.4054 L97.4055,142.2689 C89.3356,142.2531,87.5099,144.2719,86.4765,144.2801 C83.8274,144.2887,82.861,159.4399,89.6306,189.4067 C96.4751,172.6868,109.8409,161.5977,106.0588,134.9951 L96.0878,135.0094 L97.9368,123.129 C108.5013,123.1403,128.8174,123.7698,152.0285,123.5345 L149.8971,134.2565 L138.9099,135.5269 C141.1741,159.208,149.7235,172.2436,150.6728,189.885 C160.85,160.1409,175.7574,140.1112,175.2352,130.2458 C171.8582,129.0023,163.4909,128.3099,156.4711,128.6741 L158.3629,118.5426 C170.2471,118.5568,179.2851,119.7574,195.8449,119.2579 C205.2777,119.139,210.7763,118.4625,216.7,118.9765 L214.9528,127.3062 L206.0546,132.0629 C201.0184,147.5143,183.058,164.7757,174.7654,153.2381 C162.9487,182.3667,148.5929,202.2392,140.3592,252.1889 L124.8392,252.205 C119.531,221.7122,110.1363,199.5985,106.1904,170.1349 C95.4115,200.0614,76.5006,218.8217,75.3015,249.7799 L57.6189,249.7952 C52.5517,205.7699,41.7317,172.6871,35.6759,133.5696 C31.7179,132.5642,24.9914,131.7302,19.3157,132.0392 L20.9469,123.1054\" fill=\"rgb(128,128,128)\" stroke=\"rgb(40,40,40)\" stroke-miterlimit=\"10\"/>\n</svg>"
          },
          "metadata": {
            "tags": []
          }
        },
        {
          "output_type": "stream",
          "text": [
            "alphabet_1/59.svg\n"
          ],
          "name": "stdout"
        },
        {
          "output_type": "display_data",
          "data": {
            "text/plain": [
              "<IPython.core.display.SVG object>"
            ],
            "image/svg+xml": "<svg height=\"283.4646pt\" version=\"1.1\" viewBox=\"0 0 283.4646 283.4646\" width=\"283.4646pt\" xmlns=\"http://www.w3.org/2000/svg\" xmlns:xlink=\"http://www.w3.org/1999/xlink\">\n<title>Untitled</title>\n<path d=\"M95.9283,125.0208 L133.5649,125.2217 L136.2753,163.3288 L153.2778,131.0842 L192.493,131.0865 L146.4353,193.248 L179.1046,265.3251 L137.5994,265.3356 L122.7444,223.0788 L97.8043,264.0743 L64.1666,264.0909 L114.2732,196.5098 L87.0468,133.6788\" fill=\"rgb(128,128,128)\" stroke=\"rgb(40,40,40)\" stroke-miterlimit=\"10\"/>\n</svg>"
          },
          "metadata": {
            "tags": []
          }
        },
        {
          "output_type": "stream",
          "text": [
            "alphabet_1/60.svg\n"
          ],
          "name": "stdout"
        },
        {
          "output_type": "display_data",
          "data": {
            "text/plain": [
              "<IPython.core.display.SVG object>"
            ],
            "image/svg+xml": "<svg height=\"283.4646pt\" version=\"1.1\" viewBox=\"0 0 283.4646 283.4646\" width=\"283.4646pt\" xmlns=\"http://www.w3.org/2000/svg\" xmlns:xlink=\"http://www.w3.org/1999/xlink\">\n<title>Untitled</title>\n<path d=\"M74.4981,126.4987 L126.227,126.7788 L124.5744,141.5665 C115.5628,141.5772,113.2773,141.5413,111.8865,143.0809 C110.1688,144.8675,111.2652,145.9229,110.5805,149.3659 L118.3639,200.1449 L143.1437,147.5985 C142.7225,144.4035,142.0072,143.1495,140.9449,142.1787 C138.4287,140.9301,137.2597,140.7106,131.1078,140.212 L133.9388,126.8206 L190.1144,126.8391 L187.626,138.6788 C178.0301,138.6768,173.5163,142.7861,170.8868,153.3126 L134.4648,232.6814 C128.7865,254.67,125.5302,265.8726,106.0262,261.4143 C96.3684,260.0366,89.7471,254.7027,92.0387,248.3829 C92.9057,242.9793,99.2831,240.4866,103.2456,239.5418 C108.1081,238.2307,111.718,237.0827,114.4487,236.616 C119.3752,235.5569,121.697,230.8986,123.1822,225.1226 L128.7687,157.3557 C128.1372,149.3765,125.3218,138.8366,104.2082,141.3009 L102.4579,129.5649\" fill=\"rgb(128,128,128)\" stroke=\"rgb(40,40,40)\" stroke-miterlimit=\"10\"/>\n</svg>"
          },
          "metadata": {
            "tags": []
          }
        },
        {
          "output_type": "stream",
          "text": [
            "alphabet_1/61.svg\n"
          ],
          "name": "stdout"
        },
        {
          "output_type": "display_data",
          "data": {
            "text/plain": [
              "<IPython.core.display.SVG object>"
            ],
            "image/svg+xml": "<svg height=\"283.4646pt\" version=\"1.1\" viewBox=\"0 0 283.4646 283.4646\" width=\"283.4646pt\" xmlns=\"http://www.w3.org/2000/svg\" xmlns:xlink=\"http://www.w3.org/1999/xlink\">\n<title>Untitled</title>\n<path d=\"M110.8259,124.7635 L189.3776,125.0004 L141.7333,152.7943 L113.9381,217.0043 L153.2729,217.0026 L148.2705,237.6484 L83.6954,237.6571 L115.0786,160.4963 L95.2786,154.1462 L104.7364,124.4426\" fill=\"rgb(128,128,128)\" stroke=\"rgb(40,40,40)\" stroke-miterlimit=\"10\"/>\n</svg>"
          },
          "metadata": {
            "tags": []
          }
        }
      ]
    },
    {
      "cell_type": "code",
      "metadata": {
        "colab": {
          "base_uri": "https://localhost:8080/"
        },
        "id": "j81Wd44rN7TT",
        "outputId": "c8894809-ccec-4d98-f533-0f04ee70891f"
      },
      "source": [
        "from google.colab import files\n",
        "\n",
        "!zip -r /content/alphabet_1.zip /content/alphabet_1\n",
        "#files.download(\"/content/alphabet.zip\")"
      ],
      "execution_count": null,
      "outputs": [
        {
          "output_type": "stream",
          "text": [
            "updating: content/alphabet_1/ (stored 0%)\n",
            "updating: content/alphabet_1/10.svg (deflated 38%)\n",
            "updating: content/alphabet_1/26.svg (deflated 43%)\n",
            "updating: content/alphabet_1/20.svg (deflated 36%)\n",
            "updating: content/alphabet_1/5.svg (deflated 40%)\n",
            "updating: content/alphabet_1/24.svg (deflated 45%)\n",
            "updating: content/alphabet_1/47.svg (deflated 39%)\n",
            "updating: content/alphabet_1/3.svg (deflated 47%)\n",
            "updating: content/alphabet_1/52.svg (deflated 43%)\n",
            "updating: content/alphabet_1/18.svg (deflated 43%)\n",
            "updating: content/alphabet_1/36.svg (deflated 46%)\n",
            "updating: content/alphabet_1/57.svg (deflated 43%)\n",
            "updating: content/alphabet_1/14.svg (deflated 37%)\n",
            "updating: content/alphabet_1/41.svg (deflated 42%)\n",
            "updating: content/alphabet_1/7.svg (deflated 37%)\n",
            "updating: content/alphabet_1/17.svg (deflated 37%)\n",
            "updating: content/alphabet_1/49.svg (deflated 42%)\n",
            "updating: content/alphabet_1/33.svg (deflated 37%)\n",
            "updating: content/alphabet_1/61.svg (deflated 37%)\n",
            "updating: content/alphabet_1/4.svg (deflated 39%)\n",
            "updating: content/alphabet_1/59.svg (deflated 38%)\n",
            "updating: content/alphabet_1/53.svg (deflated 38%)\n",
            "updating: content/alphabet_1/16.svg (deflated 40%)\n",
            "updating: content/alphabet_1/12.svg (deflated 38%)\n",
            "updating: content/alphabet_1/56.svg (deflated 41%)\n",
            "updating: content/alphabet_1/34.svg (deflated 43%)\n",
            "updating: content/alphabet_1/30.svg (deflated 40%)\n",
            "updating: content/alphabet_1/35.svg (deflated 36%)\n",
            "updating: content/alphabet_1/22.svg (deflated 38%)\n",
            "updating: content/alphabet_1/60.svg (deflated 43%)\n",
            "updating: content/alphabet_1/15.svg (deflated 36%)\n",
            "updating: content/alphabet_1/0.svg (deflated 36%)\n",
            "updating: content/alphabet_1/40.svg (deflated 46%)\n",
            "updating: content/alphabet_1/55.svg (deflated 40%)\n",
            "updating: content/alphabet_1/39.svg (deflated 41%)\n",
            "updating: content/alphabet_1/51.svg (deflated 41%)\n",
            "updating: content/alphabet_1/13.svg (deflated 43%)\n",
            "updating: content/alphabet_1/45.svg (deflated 48%)\n",
            "updating: content/alphabet_1/11.svg (deflated 45%)\n",
            "updating: content/alphabet_1/25.svg (deflated 42%)\n",
            "updating: content/alphabet_1/2.svg (deflated 43%)\n",
            "updating: content/alphabet_1/42.svg (deflated 42%)\n",
            "updating: content/alphabet_1/48.svg (deflated 46%)\n",
            "updating: content/alphabet_1/44.svg (deflated 50%)\n",
            "updating: content/alphabet_1/21.svg (deflated 35%)\n",
            "updating: content/alphabet_1/27.svg (deflated 44%)\n",
            "updating: content/alphabet_1/32.svg (deflated 43%)\n",
            "updating: content/alphabet_1/37.svg (deflated 47%)\n",
            "updating: content/alphabet_1/8.svg (deflated 40%)\n",
            "updating: content/alphabet_1/50.svg (deflated 40%)\n",
            "updating: content/alphabet_1/29.svg (deflated 43%)\n",
            "updating: content/alphabet_1/43.svg (deflated 41%)\n",
            "updating: content/alphabet_1/46.svg (deflated 37%)\n",
            "updating: content/alphabet_1/19.svg (deflated 40%)\n",
            "updating: content/alphabet_1/1.svg (deflated 40%)\n",
            "updating: content/alphabet_1/28.svg (deflated 41%)\n",
            "updating: content/alphabet_1/6.svg (deflated 45%)\n",
            "updating: content/alphabet_1/38.svg (deflated 40%)\n",
            "updating: content/alphabet_1/31.svg (deflated 40%)\n",
            "updating: content/alphabet_1/23.svg (deflated 37%)\n",
            "updating: content/alphabet_1/54.svg (deflated 42%)\n",
            "updating: content/alphabet_1/58.svg (deflated 44%)\n",
            "updating: content/alphabet_1/9.svg (deflated 42%)\n"
          ],
          "name": "stdout"
        }
      ]
    },
    {
      "cell_type": "code",
      "metadata": {
        "colab": {
          "base_uri": "https://localhost:8080/"
        },
        "id": "FXy-KOsKQp3r",
        "outputId": "143e87db-cf81-468d-c0d0-4f7bf4c6eaf4"
      },
      "source": [
        "from google.colab import drive\n",
        "drive.mount('/content/drive')"
      ],
      "execution_count": null,
      "outputs": [
        {
          "output_type": "stream",
          "text": [
            "Mounted at /content/drive\n"
          ],
          "name": "stdout"
        }
      ]
    },
    {
      "cell_type": "markdown",
      "metadata": {
        "id": "9LrnM4thtJrA"
      },
      "source": [
        "## Typesetting with SVG-VAE glyphs\n",
        "\n",
        "Now we can draw single glyphs to the screen, which is fantastic! If we want to actually typeset some text, it's a bit more tricky. The model doesn't tell us each character's advance, so we'll have to guess! The characters are also generated in the middle of their canvas, so we need to correct for the fact that some narrow characters (like, say, `i`) will need to have their path data shifted over in order to get rid of empty space on the left hand side of the character.\n",
        "\n",
        "For simplicity's sake in this section, I'm going to focus on setting *single lines* of text.\n",
        "\n",
        "First, an example string:"
      ]
    },
    {
      "cell_type": "code",
      "metadata": {
        "id": "5MBlP4EiwAPa"
      },
      "source": [
        "s = \"456 Quartzy Foxes\""
      ],
      "execution_count": null,
      "outputs": []
    },
    {
      "cell_type": "markdown",
      "metadata": {
        "id": "XvGPCUVzwGEE"
      },
      "source": [
        "And then we'll generate an alphabet:"
      ]
    },
    {
      "cell_type": "code",
      "metadata": {
        "id": "K0X4IUicwJYu"
      },
      "source": [
        "alpha = generate_alphabet(np.random.randn(32))"
      ],
      "execution_count": null,
      "outputs": []
    },
    {
      "cell_type": "markdown",
      "metadata": {
        "id": "EzUcdyz9wc1P"
      },
      "source": [
        "The function below calculates the minimum and maximum x-coordinates of every command in the path. This gives us both the amount we need to shift the glyph in order to eliminate empty space to the left of the glyph, and how far we need to advance the cursor after drawing the glyph:"
      ]
    },
    {
      "cell_type": "code",
      "metadata": {
        "id": "2AFbyuc4woiv"
      },
      "source": [
        "def x_extent(path):\n",
        "    all_x = [getattr(cmd, 'x', 0) for cmd in path.commands]\n",
        "    return min(all_x), max(all_x)"
      ],
      "execution_count": null,
      "outputs": []
    },
    {
      "cell_type": "markdown",
      "metadata": {
        "id": "vRmnoXidw6Ip"
      },
      "source": [
        "If this works, we should be able to draw a rectangle around a character. Let's try it out:"
      ]
    },
    {
      "cell_type": "code",
      "metadata": {
        "id": "JrVQx3Hdw0LY",
        "colab": {
          "base_uri": "https://localhost:8080/",
          "height": 143
        },
        "outputId": "0c9b10b9-a777-4612-f5aa-fc45bc67fd98"
      },
      "source": [
        "ch = 'j'\n",
        "min_x, max_x = x_extent(alpha[c2i(ch)])\n",
        "page = document(32, 32, 'mm').addpage()\n",
        "rect_pen = shape().stroke(rgb(0, 255, 0)).nofill()\n",
        "letter_pen = shape().nostroke().fill(rgb(40, 40, 40))\n",
        "page.place(rect_pen.rectangle(min_x, 0, max_x - min_x, 32))\n",
        "page.place(letter_pen.path(alpha[c2i(ch)]))\n",
        "show(page)"
      ],
      "execution_count": null,
      "outputs": [
        {
          "output_type": "display_data",
          "data": {
            "text/plain": [
              "<IPython.core.display.SVG object>"
            ],
            "image/svg+xml": "<svg height=\"90.7087pt\" version=\"1.1\" width=\"90.7087pt\" xmlns=\"http://www.w3.org/2000/svg\" xmlns:xlink=\"http://www.w3.org/1999/xlink\">\n<title>Untitled</title>\n<rect fill=\"none\" height=\"90.7087\" stroke=\"rgb(0,255,0)\" stroke-miterlimit=\"10\" width=\"26.5859\" x=\"19.7056\" y=\"0\"/>\n<path d=\"M46.2915,15.3789 C48.0804,15.3826,48.3104,15.3805,46.229,20.6407 C45.0083,23.4431,44.6862,24.0682,42.1232,24.4739 C39.5502,24.4088,39.8516,24.143,39.3624,21.241 C39.1583,18.4118,39.2012,18.2446,43.6734,17.4527 C44.6665,17.315,44.787,17.316,45.1041,17.3278 M42.6017,31.3391 C43.9849,31.336,43.811,31.3281,43.9721,32.2121 C43.9013,33.0379,44.1175,32.9905,39.267,65.7257 C37.633,75.4504,37.5864,74.6906,34.1925,80.0433 C29.9081,86.3507,29.9811,86.4356,23.4673,86.3366 C20.3795,86.3344,20.1321,86.3262,19.7056,83.834 C19.298,82.1694,19.6358,82.169,20.5423,81.1922 C21.5517,80.2767,21.556,80.2651,22.7253,80.3008 C24.3092,80.3276,23.9678,80.539,25.5202,81.6972 C26.7078,82.6916,26.8416,82.8602,27.8061,82.8428 C29.8255,82.8436,29.4452,82.8353,31.0749,78.993 C31.8135,76.1301,32.1191,75.9816,33.181,72.0224 L39.4966,41.6972 C40.0833,40.0234,39.8872,39.1741,39.5232,39.5339 C38.7736,39.7453,38.5038,39.7685,35.7449,40.1082 C34.3509,40.2453,34.2868,40.3025,34.5287,39.3502 C35.423,38.3303,34.9358,37.3755,38.2477,35.9634 C41.6467,34.4021,41.9184,34.3414,44.6379,34.0636\" fill=\"rgb(40,40,40)\"/>\n</svg>"
          },
          "metadata": {
            "tags": []
          }
        }
      ]
    },
    {
      "cell_type": "markdown",
      "metadata": {
        "id": "UeLXVSWUwM1e"
      },
      "source": [
        "Working from the example code in the [manipulating font data notebook](https://github.com/aparrish/material-of-language/blob/master/manipulating-font-data.ipynb), we now have everything we need to typeset a single line of text. I've commented the source code below:"
      ]
    },
    {
      "cell_type": "code",
      "metadata": {
        "id": "DXrSwdHNy2Wh",
        "colab": {
          "base_uri": "https://localhost:8080/",
          "height": 211
        },
        "outputId": "66721c61-ad90-4a45-ff69-359bbb363fcd"
      },
      "source": [
        "page = document(300, 50, 'mm').addpage()\n",
        "pen = shape().nostroke().fill(rgb(40, 40, 40))\n",
        "cx = 0 # current \"cursor\" position\n",
        "kern = 1 # to modify spacing between characters\n",
        "for ch in s:\n",
        "    # if it's a space, just advance\n",
        "    if ch == ' ':\n",
        "        advance = 5 # maybe?\n",
        "    # otherwise...\n",
        "    else:\n",
        "        glyph_path = alpha[c2i(ch)] # get path for this character\n",
        "        min_x, max_x = x_extent(glyph_path) # find min/max x values\n",
        "        advance = max_x - min_x # amount to move forward\n",
        "        # shift glyph to the left to eliminate empty space, then\n",
        "        # add the current cursor value\n",
        "        glyph_path = glyph_path.translate(-min_x + cx, 0)\n",
        "        page.place(pen.path(glyph_path))\n",
        "    cx += advance + kern\n",
        "show(page)"
      ],
      "execution_count": null,
      "outputs": [
        {
          "output_type": "display_data",
          "data": {
            "text/plain": [
              "<IPython.core.display.SVG object>"
            ],
            "image/svg+xml": "<svg height=\"141.7323pt\" version=\"1.1\" width=\"850.3937pt\" xmlns=\"http://www.w3.org/2000/svg\" xmlns:xlink=\"http://www.w3.org/1999/xlink\">\n<title>Untitled</title>\n<path d=\"M25.781,15.4687 L31.0048,15.5042 L23.7767,46.1509 L29.7079,46.1412 L28.6906,50.5936 L23.0073,50.5966 L20.3124,60.5685 C19.6919,61.6859,19.6787,63.2615,19.6178,64.1919 C19.3912,65.1027,20.4231,66.1704,22.5096,66.4682 L22.3577,67.6156 L7.8119,67.6182 L8.1866,66.5102 C10.9452,66.0127,12.1053,65.2375,13.2105,62.9825 C13.5888,61.4524,14.3302,59.8829,15.0368,57.864 L17.0813,51.6598 L0,51.6638 L0.5669,49.1881 L15.6624,16.2403 L20.7029,15.0305 M17.168,21.0364 L1.7934,45.8357 L15.8584,45.8384 L20.9108,22.3022 L19.3854,22.2599\" fill=\"rgb(40,40,40)\"/>\n<path d=\"M47.7167,15.8081 L72.4845,15.8794 L70.9351,20.808 L52.711,20.8045 L49.2354,35.044 C51.9435,34.4628,52.7448,34.2179,56.7781,34.788 C62.7832,35.5347,66.9635,41.3131,66.3695,46.8607 C65.0686,56.1605,56.0873,63.7536,44.4847,63.8923 C39.4881,63.9077,35.2465,62.8437,33.8395,59.7555 L37.0337,55.6937 C38.8067,58.4208,41.5442,59.5505,47.0293,59.4372 C54.1326,59.4356,59.1373,54.3681,59.3757,47.3995 C59.6156,41.4218,55.4996,37.5161,49.3424,36.5871 C45.7373,36.3646,42.3465,36.9093,41.1483,38.2951 L42.8581,14.0054\" fill=\"rgb(40,40,40)\"/>\n<path d=\"M91.733,15.3896 L105.1231,15.4258 L103.8382,22.1817 L89.0182,22.1767 C85.8138,22.1755,85.1078,22.1653,84.6872,26.2024 L82.1106,39.6368 C84.5921,36.556,85.108,36.7028,89.6634,36.3213 L96.791,36.2626 C102.2257,36.261,101.2109,36.2532,103.6387,41.7075 C104.2823,44.4221,104.4252,44.4616,104.1573,47.4138 L101.8318,57.941 C100.4128,64.3331,100.4283,63.7707,89.8972,67.0916 C87.1957,67.8798,87.1876,67.7225,84.3051,67.5972 C75.3563,67.1354,75.0647,67.0359,75.3191,63.1165 C75.1827,62.2522,75.4481,62.2356,75.9879,59.9159 L81.945,30.7366 C83.929,23.6308,83.4626,22.2205,93.1846,20.3462 M95.6741,44.843 L87.8942,44.8484 C84.9299,44.8482,85.7007,44.8402,84.3528,48.3466 L81.7767,59.6521 C81.037,63.8128,81.3977,63.1804,85.6217,63.3503 C88.7953,63.5498,89.2897,63.5615,90.9258,63.3866 C95.3038,62.8853,95.8119,62.8539,96.7588,58.9847 L99.1829,49.7815 C100.2999,45.4458,99.9035,45.7521,95.8082,46.1982\" fill=\"rgb(40,40,40)\"/>\n<path d=\"M145.2991,15.3109 L166.078,15.3604 L168.303,17.2208 L158.1549,57.3594 C157.1264,62.2555,156.7809,61.1863,153.5681,62.9833 C154.1286,64.0901,154.4387,64.321,156.9435,64.4553 L159.3541,64.5553 L158.887,67.9738 L147.8023,67.9805 L142.3128,64.7182 C136.2128,65.6054,135.0718,65.4192,131.5979,65.256 C125.9859,64.8875,126.77,64.8024,125.1192,62.6775 C123.9941,61.5363,123.9258,61.5247,124.9656,57.9871 L133.5127,21.5558 C134.8755,17.1356,134.5362,16.4353,141.9055,15.3669 M154.9148,20.0079 L142.6324,20.0135 C139.7373,20.0136,140.4781,20.004,139.1244,21.2768 C138.0143,22.4121,137.9609,22.3988,137.4707,24.7889 L130.3967,55.2196 C129.7571,58.1946,130.0031,57.6458,131.0893,59.4225 C132.1932,60.9373,132.1998,60.9368,134.5051,60.9543 L140.5286,60.9666 C142.6838,60.9668,143.1556,60.959,144.5976,59.3352 C146.1361,57.7549,146.1242,57.7624,146.4831,55.1322 L151.6801,24.8079 C152.0748,22.9415,152.125,22.8233,151.579,22.2099 C151.0707,21.5698,150.9706,21.5297,149.5353,21.4939\" fill=\"rgb(40,40,40)\"/>\n<path d=\"M173.788,26.5097 L180.336,26.5446 L173.5033,54.5581 C172.8273,56.1895,172.9207,56.6967,173.0319,56.8053 C173.0248,57.554,174.6967,57.9578,174.6891,58.6428 C174.9631,59.4137,175.5035,59.8514,175.4533,59.6835 L178.6035,61.1639 C179.9951,61.4777,179.5755,61.4832,183.0821,61.1557 C185.6111,60.8281,185.5895,60.2732,188.2967,56.6349 L195.523,25.2206 L202.5457,25.224 L192.9554,66.2423 C191.6249,67.8745,190.8873,68.5626,186.0994,69.2089 C182.4476,69.5199,180.7386,69.582,180.3313,69.3892 C177.1935,68.9083,173.5965,68.586,176.6193,65.9851 C176.7092,65.1882,175.3591,64.808,174.725,64.8063 C172.6337,64.8067,171.157,59.0988,171.5772,62.9818 C171.6659,63.7063,171.8103,63.9005,171.4941,63.2195 C170.7126,62.3483,170.6794,61.2922,171.1377,60.9337 L179.2526,26.8752\" fill=\"rgb(40,40,40)\"/>\n<path d=\"M223.0078,26.6886 L238.4071,26.7092 L231.5095,61.771 L223.7697,61.7592 L224.3645,57.5221 C222.489,60.1257,221.9367,59.5983,218.4965,60.7979 C215.3654,61.7766,215.2796,61.7795,212.2268,61.7681 C208.4153,61.7689,209.1389,61.7602,207.2214,60.4936 C205.4935,59.208,205.4046,59.1797,205.3803,56.009 C205.1373,55.0786,205.372,55.1225,205.5376,52.6368 C205.7743,50.1686,206.0086,50.1551,206.2178,48.1408 C207.1979,40.8946,206.9228,42.0274,209.4902,39.5127 C212.1001,37.2974,212.0876,37.2774,216.3102,37.2532 C219.8574,37.2538,218.9052,37.2437,222.55,37.7185 C225.7838,38.1917,225.7866,38.1901,227.8841,38.6273 L229.7045,29.5335 L218.3482,29.5363 L216.0326,29.2136 L217.2996,23.9335 M225.5573,42.3332 C222.073,42.3338,222.9789,42.325,220.4262,43.2123 C218.0737,44.1047,217.9761,44.0946,216.5631,46.1823 C215.3875,47.8416,215.4557,48.0018,214.9658,50.8285 C214.5639,53.5009,214.5252,52.0864,214.6128,54.7147 C215.0284,56.367,214.7383,56.656,216.9888,56.7037 C219.6226,56.7737,219.3656,56.7619,221.9753,55.5452 C224.5234,54.3322,224.5261,54.3143,226.1624,51.9274 C227.8551,49.5696,227.6909,49.5414,228.2935,46.9107 C228.8052,45.9409,228.8218,45.9356,228.7566,43.7205 C228.1466,42.1614,227.9816,42.4833,224.8455,42.6173\" fill=\"rgb(40,40,40)\"/>\n<path d=\"M272.7533,26.0038 C274.1172,26.0092,274.2678,26.007,275.0439,30.5689 L268.5651,32.7705 C267.66,28.7067,267.6144,29.3758,263.1361,29.39 C258.6787,29.391,257.655,29.3839,254.9401,34.3133 C253.221,37.9392,253.2768,38.0038,249.9841,57.8182 C249.3791,62.2968,249.198,60.9467,248.3321,62.7856 C246.9552,64.5085,247.0148,64.6057,244.2479,64.6434 C242.0834,64.6429,241.7757,64.6335,241.2417,64.6486 C241.1456,64.6485,241.1884,64.6443,243.4807,41.5183 C245.1057,35.1165,244.7337,34.6396,245.1652,27.1186 L252.0075,27.1192 C251.8427,29.5345,251.8089,30.2402,251.5853,31.1767 C253.3631,27.9292,253.8916,28.2504,256.1611,27.5047 C259.6855,26.701,259.0325,26.6861,262.4226,26.9823 C265.1403,26.9645,265.495,27.1618,267.2338,27.1756 C268.9977,27.1838,268.547,27.177,270.2801,26.5677\" fill=\"rgb(40,40,40)\"/>\n<path d=\"M282.2864,19.6464 L305.6455,19.6913 L303.9742,25.7677 L294.0475,25.7573 L286.2748,64.4936 L279.2875,66.6467 L287.3728,28.3193 L277.8785,28.2492 L279.0835,22.8662\" fill=\"rgb(40,40,40)\"/>\n<path d=\"M322.259,25.9943 L346.2535,26.0632 L345.0498,30.9698 L320.8826,58.6438 L337.5058,58.6423 L336.0675,64.936 L308.4801,64.9399 L309.6713,60.7048 L336.4019,30.7013 L319.8505,30.6687 L320.7846,25.3394\" fill=\"rgb(40,40,40)\"/>\n<path d=\"M349.0881,26.334 L362.7736,26.4036 L361.9797,28.2384 C359.1492,28.2377,359.8688,28.8317,357.9371,28.9877 C357.7366,29.413,357.7978,37.0874,360.8708,49.9214 C363.724,46.6086,369.5217,43.8706,374.1475,29.5606 C372.9928,29.3189,371.4088,29.1586,369.8329,28.9629 L370.3028,27.1599 C373.0444,27.3651,374.7948,27.3893,379.2457,27.2976 C382.6173,27.2725,383.58,27.1004,386.8222,26.9074 L386.4393,28.4486 C384.3582,30.7197,383.3478,29.7196,383.0285,29.3167 C379.5134,36.0276,372.6192,42.1508,368.6406,62.5154 C365.55,71.7644,360.0962,77.0939,353.6779,74.901 C350.8432,74.3064,349.9693,72.0582,349.8941,69.7722 C349.934,68.4869,352.6673,67.0371,353.4608,66.713 C354.511,66.9176,355.3191,69.4367,355.9639,69.3683 C357.6685,69.112,360.8684,66.4735,363.123,66.7631 C364.9662,60.7685,366.79,55.4418,368.5291,45.423 C367.0952,37.2461,362.1027,32.2885,359.4021,24.5106 C358.0973,24.3312,356.2189,24.1903,355.2178,24.1345 L355.7075,22.4038 L356.9349,21.48\" fill=\"rgb(40,40,40)\"/>\n<path d=\"M416.1412,14.9569 L449.7567,15.0383 L448.0162,22.1312 C444.7256,21.0367,443.3703,20.5941,428.4867,22.1272 L424.4539,37.1676 L437.1038,37.1624 L436.685,40.2961 C433.0377,40.3098,427.0825,40.149,421.539,40.1109 L417.0556,61.6883 C416.8621,63.772,417.2283,64.7232,419.8255,65.9276 L406.6648,66.559 C409.103,65.0969,410.1892,63.595,410.6777,60.6925 L417.0289,21.9215 C417.5061,19.0477,416.677,17.4768,413.4272,16.9202\" fill=\"rgb(40,40,40)\"/>\n<path d=\"M470.03,25.8642 L486.3624,25.8954 L486.459,27.5014 L479.4619,55.504 C478.042,59.044,477.3747,59.7174,475.8229,61.0247 C473.8637,62.4568,473.4096,62.7824,469.8892,62.7965 L457.6848,62.7994 C454.6314,62.7998,453.4989,62.1937,452.5913,60.3215 C451.8666,58.8175,452.0524,56.8655,453.2532,54.7411 L460.641,28.0495 C461.3021,26.2934,462.4448,25.1433,462.8069,25.5157 M471.1496,26.6409 L464.9935,26.6428 L458.5205,61.4111 C458.4289,63.1673,458.9624,63.9404,461.8141,64.5064 L467.5089,64.6565 L472.6869,61.3575 L480.0466,30.4512 C480.1604,28.6485,479.2361,27.5097,475.4187,27.3123\" fill=\"rgb(40,40,40)\"/>\n<path d=\"M498.0011,26.0778 L511.7074,26.1394 L510.7833,28.8162 C508.0898,28.8115,508.709,29.4441,506.9091,29.4946 L509.5605,39.9253 L515.983,30.3632 C515.168,30.0326,514.3253,29.8255,512.3432,29.6751 L512.8004,27.871 L527.0422,27.936 L526.6519,29.3748 C524.3088,29.8269,523.1606,30.4763,522.4368,32.7561 L513.1827,46.6714 L520.0723,63.4836 C521.0838,65.6154,522.2943,66.3923,523.9037,67.0365 L523.4738,68.2296 L509.2392,68.0645 L509.5091,67.0664 C511.4668,66.5846,512.4985,66.0389,513.4002,64.6896 L510.1916,52.1537 L500.497,63.4023 C499.8567,64.856,500.3997,65.5721,503.1399,66.0105 L502.6915,67.1463 L489.2937,67.1523 L489.5546,66.2425 C492.1269,65.4468,496.0701,63.6282,495.9025,62.4998 L510.6032,44.8864 L504.4528,29.0338 C503.5376,27.77,502.5841,27.1694,500.1651,26.9776 L500.3916,26.018 L501.4526,25.2702\" fill=\"rgb(40,40,40)\"/>\n<path d=\"M542.9826,26.4414 L567.2141,26.4927 L565.8868,33.0081 L548.7058,33.0055 L545.9025,44.5608 L561.4821,44.5631 L560.167,50.7835 L542.7781,50.6473 L539.7301,62.9035 L558.5331,62.3732 L557.073,68.5422 L529.8769,68.4628 L538.807,27.3479\" fill=\"rgb(40,40,40)\"/>\n<path d=\"M584.7368,25.6877 L602.7266,25.7185 L601.4292,31.1691 L585.8928,31.1704 L583.0821,39.8861 L595.2807,43.2182 L597.8999,50.2705 L592.8935,62.6076 L579.6404,66.6181 L570.0487,65.5307 L572.4243,58.5274 L579.6229,59.0819 L586.357,58.1637 L590.3565,53.9081 L591.2402,47.1969 L582.7705,40.1625 L579.943,31.0355 L584.7411,24.4445\" fill=\"rgb(40,40,40)\"/>\n</svg>"
          },
          "metadata": {
            "tags": []
          }
        }
      ]
    },
    {
      "cell_type": "markdown",
      "metadata": {
        "id": "tZvrgPN91gac"
      },
      "source": [
        "For some of the code below, it'll be helpful to typeset text into a larger `Path` object, instead of placing it on the page directly. (This will make it easier to move the typeset text around on the page.) The following function has largely the same logic as the code above, but returns a composite `Path` with all of the characters in the given string at their correct positions:"
      ]
    },
    {
      "cell_type": "code",
      "metadata": {
        "id": "4e-TGfba12oE"
      },
      "source": [
        "from itertools import chain\n",
        "def combine_path(alpha, s, kern=0):\n",
        "    text_paths = []\n",
        "    cx = 0\n",
        "    for ch in s:\n",
        "        if ch == ' ':\n",
        "            advance = 5\n",
        "        else:\n",
        "            glyph_path = alpha[c2i(ch)]\n",
        "            min_x, max_x = x_extent(glyph_path)\n",
        "            advance = max_x - min_x\n",
        "            glyph_path = glyph_path.translate(-min_x + cx, 0)\n",
        "            text_paths.append(glyph_path)\n",
        "        cx += advance + kern\n",
        "    combined = Path(list(chain(*text_paths)))\n",
        "    return combined"
      ],
      "execution_count": null,
      "outputs": []
    },
    {
      "cell_type": "markdown",
      "metadata": {
        "id": "rplWzh3X2Ydf"
      },
      "source": [
        "A quick demo to make sure it works. (Rotated so that you can see that rotation affects the entire string, not individual characters.)"
      ]
    },
    {
      "cell_type": "code",
      "metadata": {
        "id": "jl3vASZ92aG6",
        "colab": {
          "base_uri": "https://localhost:8080/",
          "height": 211
        },
        "outputId": "ed40d477-caaf-44a5-a71d-26e08a866597"
      },
      "source": [
        "string_path = combine_path(alpha, s)\n",
        "page = document(300, 50, 'mm').addpage()\n",
        "pen = shape().nostroke().fill(rgb(40, 40, 40))\n",
        "page.place(pen.path(string_path.rotate(-np.pi / 12)))\n",
        "show(page)"
      ],
      "execution_count": null,
      "outputs": [
        {
          "output_type": "display_data",
          "data": {
            "text/plain": [
              "<IPython.core.display.SVG object>"
            ],
            "image/svg+xml": "<svg height=\"141.7323pt\" version=\"1.1\" width=\"850.3937pt\" xmlns=\"http://www.w3.org/2000/svg\" xmlns:xlink=\"http://www.w3.org/1999/xlink\">\n<title>Untitled</title>\n<path d=\"M20.8989,21.6142 L25.9356,23.0005 L11.0218,50.7322 L16.7534,52.258 L14.6184,56.2953 L9.128,54.8273 L3.944,63.7619 C3.0554,64.6806,2.6349,66.1992,2.3353,67.082 C1.8807,67.9032,2.6011,69.2015,4.5394,70.0293 L4.0956,71.0983 L-9.9551,67.336 L-9.3065,66.3627 C-6.5131,66.5962,-5.1919,66.1476,-3.5407,64.2555 C-2.7793,62.8755,-1.6569,61.5514,-0.4519,59.7842 L3.1287,54.3205 L-13.3716,49.9034 L-12.1832,47.6588 L10.9254,19.7406 L16.1073,19.8766 M11.1384,24.7631 L-10.1309,44.7381 L3.4542,48.381 L14.4261,26.9544 L12.9636,26.5187 M39.2613,26.8857 L63.1667,33.3651 L60.3944,37.7246 L42.7923,33.0046 L35.7497,45.8593 C38.5159,45.9988,39.3533,45.9697,43.1016,47.5643 C48.7088,49.8397,51.2511,56.5031,49.2415,61.708 C45.578,70.3542,34.9375,75.3641,23.6943,72.4951 C18.864,71.2167,15.0423,69.0912,14.4825,65.744 L18.6192,62.6474 C19.6259,65.7404,21.9778,67.5401,27.3052,68.8504 C34.167,70.6873,40.3127,67.0877,42.3466,60.4183 C44.1255,54.7064,41.1605,49.8684,35.4536,47.3775 C32.029,46.2295,28.6127,45.878,27.0967,46.9065 L35.0348,23.8871 M79.148,37.1402 L92.0725,40.6407 L89.0829,46.8339 L74.7691,42.9934 C71.6742,42.1628,70.9949,41.9702,69.5437,45.7609 L63.5779,58.0707 C66.7721,55.7371,67.2325,56.0125,71.7314,56.823 L78.6313,58.611 C83.8813,60.016,82.9031,59.7459,83.8365,65.6427 C83.7556,68.4313,83.8834,68.5066,82.8605,71.2888 L77.8896,80.8554 C74.8645,86.6625,75.0252,86.1232,63.9933,86.6053 C61.1799,86.6674,61.2128,86.5135,58.4609,85.6463 C49.9366,82.8841,49.6807,82.7125,50.9408,78.9926 C51.0327,78.1224,51.2934,78.1751,52.4152,76.0741 L65.7215,49.4309 C69.477,43.0807,69.3915,41.5978,79.2673,42.3035 M75.3318,66.61 L67.8155,64.6016 C64.9523,63.8342,65.6989,64.0259,63.4894,67.064 L58.075,77.3175 C56.2837,81.1451,56.7957,80.6275,60.8318,81.8849 C63.8457,82.899,64.3202,83.0382,65.9458,83.2927 C70.3044,83.9417,70.8033,84.0428,72.7194,80.5506 L77.4429,72.2884 C79.6439,68.3895,79.1818,68.5827,75.1105,67.9537 M125.4332,49.4608 L145.4912,54.8865 L147.1589,57.2594 L126.968,93.4038 C124.7073,97.8669,124.6503,96.7446,121.0819,97.6489 C121.3368,98.8631,121.5766,99.1664,123.9613,99.9444 L126.2639,100.6649 L124.928,103.846 L114.2191,100.9835 L109.7611,96.4116 C103.6393,95.6898,102.5854,95.2146,99.2721,94.1579 C93.9467,92.3494,94.7261,92.4701,93.6815,89.9904 C92.8901,88.5969,92.8272,88.568,94.7471,85.4201 L112.4321,52.4422 C114.8925,48.5254,114.746,47.7611,122.1407,48.6365 M133.5056,56.4865 L121.6402,53.3129 C118.8438,52.5637,119.5618,52.7461,117.9248,53.6252 C116.5587,54.4345,116.5105,54.4078,115.4185,56.5896 L100.7094,84.1526 C99.3216,86.8606,99.7013,86.3942,100.2906,88.3915 C100.9649,90.1404,100.9714,90.1416,103.1936,90.7552 L109.0087,92.326 C111.0904,92.884,111.5481,92.9986,113.3613,91.8034 C115.2563,90.6751,115.2429,90.6793,116.2703,88.2316 L129.1387,60.2857 C130.0031,58.585,130.0821,58.4838,129.7135,57.75 C129.3882,57.0002,129.3019,56.9355,127.9247,56.5294 M147.3148,66.9177 L153.6307,68.6462 L139.7804,93.9367 C138.7051,95.3376,138.6641,95.8517,138.7434,95.9853 C138.5427,96.7067,140.0531,97.5295,139.8686,98.1892 C139.9337,99.0047,140.3424,99.5674,140.3373,99.3922 L142.9971,101.6375 C144.26,102.3007,143.8533,102.1975,147.3252,102.7887 C149.8528,103.1268,149.9755,102.5853,153.5322,99.7716 L168.6429,71.298 L175.4254,73.1188 L155.5455,110.2573 C153.838,111.4896,152.9474,111.9634,148.1554,111.3484 C144.5475,110.7036,142.8806,110.3213,142.5371,110.0297 C139.6307,108.7531,136.2397,107.5108,139.8327,105.7808 C140.1258,105.0344,138.92,104.3177,138.308,104.1519 C136.2878,103.611,136.3388,97.7154,135.7397,101.5749 C135.6378,102.2976,135.7271,102.5226,135.5979,101.783 C135.0685,100.7392,135.3098,99.7105,135.8452,99.4829 L152.4986,68.6851 M192.0732,79.0959 L206.9424,83.1014 L191.2051,115.1833 L183.7321,113.1687 L185.4033,109.2299 C182.9179,111.2594,182.5209,110.6071,178.8874,110.8753 C175.6097,111.0103,175.5261,110.9909,172.5803,110.1898 C168.8984,109.2041,169.5996,109.383,168.0753,107.6632 C166.739,105.9742,166.6605,105.9239,167.4576,102.8549 C167.4637,101.8933,167.679,101.9965,168.4823,99.6383 C169.3497,97.3155,169.5796,97.3631,170.303,95.4716 C173.1252,88.726,172.5663,89.7489,175.697,87.9844 C178.7914,86.5201,178.7844,86.4976,182.8694,87.5671 C186.2956,88.4857,185.3785,88.2296,188.7761,89.6315 C191.7773,90.9256,191.7805,90.9247,193.6934,91.8899 L197.8053,83.5771 L186.8352,80.6406 L184.6821,79.7296 L187.2725,74.9573 M190.4866,94.8673 C187.1209,93.966,187.9982,94.1921,185.3028,94.3884 C182.7996,94.6415,182.7079,94.6066,180.8027,96.2573 C179.2377,97.5559,179.2621,97.7282,178.0573,100.3319 C176.9774,102.8092,177.3062,101.4328,176.7104,103.9942 C176.6843,105.6978,176.3293,105.9019,178.4907,106.5304 C181.0167,107.2798,180.7715,107.2019,183.6071,106.702 C186.3824,106.1899,186.3897,106.1732,188.5879,104.2912 C190.8332,102.4519,190.6819,102.3821,191.9449,99.997 C192.6901,99.1927,192.7075,99.1919,193.2179,97.0354 C193.0322,95.3715,192.7895,95.6397,189.7256,94.9574 M237.5628,90.5759 C238.8788,90.9341,239.0249,90.9709,238.5938,95.5782 L231.7659,96.028 C231.9434,91.8685,231.7262,92.5029,227.3969,91.3576 C223.091,90.2049,222.1041,89.933,218.2059,93.9919 C215.6069,97.0493,215.6441,97.1261,207.3352,115.4131 C205.5917,119.5825,205.7662,118.2315,204.4539,119.7837 C202.6779,121.0915,202.7104,121.2008,200.028,120.5211 C197.9374,119.9604,197.6426,119.8718,197.1229,119.7481 C197.0301,119.7231,197.0726,119.7301,205.2721,97.9854 C208.4987,92.2224,208.2628,91.6654,210.6262,84.5123 L217.2352,86.2838 C216.4509,88.5742,216.2356,89.2471,215.7772,90.0938 C218.335,87.4171,218.7623,87.8642,221.1475,87.7312 C224.7598,87.8671,224.1329,87.6837,227.3309,88.8472 C229.9605,89.5335,230.2521,89.8158,231.928,90.2792 C233.6297,90.7437,233.1962,90.6204,235.0279,90.4805 M245.6784,86.1688 L268.2299,92.258 L265.0429,97.6947 L255.4571,95.1155 L237.9236,130.5201 L230.6172,130.7914 L248.3468,95.8626 L239.1941,93.3376 L241.7513,88.4499 M279.908,101.9124 L303.067,108.1892 L300.6344,112.617 L270.1281,133.0932 L286.1853,137.3941 L283.1671,143.1011 L256.5187,135.9647 L258.7655,132.1822 L292.3507,110.1194 L276.3717,105.8041 L278.6533,100.8982 M302.9969,108.4508 L316.1981,112.0601 L314.9563,113.6269 C312.2225,112.8936,312.7638,113.6536,310.8576,113.3043 C310.5538,113.6632,308.6266,121.0919,308.2732,134.284 C311.8866,131.8225,318.1954,130.6784,326.3673,118.0532 C325.3145,117.5209,323.826,116.9562,322.3544,116.3592 L323.275,114.7393 C325.87,115.647,327.5545,116.1235,331.8775,117.1868 C335.1407,118.0352,336.1151,118.1182,339.2969,118.7709 L338.5281,120.1605 C335.9301,121.8155,335.2129,120.588,335.0089,120.1162 C329.8766,125.6886,321.6325,129.8189,312.5188,148.4598 C307.1396,156.5938,300.4922,160.3301,294.8602,156.5508 C292.276,155.2427,292.0138,152.845,292.5328,150.6174 C292.904,149.3863,295.9194,148.6933,296.7697,148.5856 C297.7313,149.055,297.8598,151.6975,298.5003,151.7983 C300.2131,151.9919,303.9869,150.2715,306.0897,151.1347 C309.4216,145.8214,312.562,141.1483,316.8348,131.921 C317.5662,123.6516,314.0269,117.5707,313.4314,109.3589 C312.2175,108.8479,310.4395,108.2257,309.487,107.9127 L310.408,106.3677 L311.8326,105.793 M365.2337,113.3486 L397.6827,122.1275 L394.1657,128.5283 C391.2705,126.6194,390.076,125.8411,375.3027,123.4699 L367.5146,136.9539 L379.7349,140.223 L378.5192,143.1415 C374.9927,142.2108,369.282,140.5141,363.9373,139.0425 L354.022,158.7243 C353.2958,160.6869,353.4033,161.7005,355.6002,163.536 L342.7246,160.7397 C345.4582,159.9585,346.896,158.7889,348.1191,156.1118 L364.2886,120.3057 C365.4933,117.6532,365.0991,115.9214,362.1041,114.5426 M411.7253,137.098 L427.493,141.3553 L427.1707,142.9316 L413.1644,168.1691 C410.8767,171.2209,410.0578,171.6987,408.2205,172.5598 C405.9574,173.436,405.4345,173.633,402.0305,172.7355 L390.2412,169.5795 C387.2917,168.7897,386.3546,167.9111,385.9626,165.8677 C385.6518,164.2275,386.3365,162.3901,388.0462,160.6488 L402.0905,136.7788 C403.1837,135.2537,404.585,134.4385,404.8385,134.8919 M412.6057,138.1381 L406.6588,136.5465 L391.4077,168.4548 C390.8647,170.1275,391.1799,171.0123,393.7879,172.2971 L399.2499,173.9161 L405.1052,172.0696 L420.2133,144.1212 C420.7898,142.4094,420.1917,141.0702,416.5555,139.8915 M435.9499,143.8102 L449.1732,147.4171 L447.5878,149.7635 C444.9873,149.0618,445.4216,149.8331,443.67,149.4161 L443.5314,160.1776 L452.2099,152.6036 C451.5083,152.0734,450.7479,151.6552,448.8722,150.9968 L449.7808,149.3725 L463.5205,153.1214 L462.7711,154.4102 C460.3909,154.2404,459.1137,154.5706,457.8245,156.5854 L445.2842,167.6313 L447.5877,185.6538 C448.0129,187.9748,448.9812,189.0386,450.369,190.0773 L449.645,191.1185 L435.9381,187.2748 L436.4571,186.3806 C438.4728,186.4218,439.6106,186.1619,440.8308,185.0919 L440.976,172.1526 L428.7005,180.5089 C427.7058,181.7473,428.0448,182.5795,430.5783,183.7122 L429.8512,184.6932 L416.9083,181.2314 L417.3958,180.4201 C420.0864,180.3174,424.366,179.5813,424.4961,178.4479 L443.2546,165.2395 L441.4167,148.3352 C440.8598,146.8776,440.0942,146.0507,437.8072,145.2393 L438.2744,144.3711 L439.4928,143.9233 M476.5665,155.0697 L499.9591,161.3909 L496.9907,167.3408 L480.3958,162.8915 L474.6973,173.3275 L489.7454,177.362 L486.8652,183.03 L470.104,178.398 L463.9878,189.4477 L482.2873,193.802 L479.2804,199.3829 L453.0314,192.2673 L472.2986,154.8646 M514.355,164.4149 L531.7238,169.1007 L529.0599,174.0297 L514.0526,170.0099 L509.0819,177.7012 L520.0024,184.077 L520.7071,191.5669 L512.6782,202.1879 L498.8387,202.6315 L489.8553,199.0987 L493.9625,192.9489 L500.7723,195.3476 L507.5146,196.2036 L512.4792,193.1282 L515.0698,186.8744 L508.7093,177.8875 L508.3405,168.3397 L514.6809,163.2151\" fill=\"rgb(40,40,40)\"/>\n</svg>"
          },
          "metadata": {
            "tags": []
          }
        }
      ]
    },
    {
      "cell_type": "markdown",
      "metadata": {
        "id": "lfuHyvcK5QaU"
      },
      "source": [
        "## Interpolating between alphabets\n",
        "\n",
        "Generative models have an interesting property, which is that outputs generated from similar latent variables produce similar outputs. With the SVG-VAE, this property makes it possible to generate two different alphabets and then *interpolate* between them by generating alphabets from points along the line that connects the original two values.\n",
        "\n",
        "It might be easier to reason about how interpolation works if we start with single values, instead of vectors. For example, the following bit of code uses numpy's `linspace()` function to generate a list of values that starts at `0` and goes to `100`, with seven stops along the way:"
      ]
    },
    {
      "cell_type": "code",
      "metadata": {
        "id": "rvXhLoitAb51",
        "colab": {
          "base_uri": "https://localhost:8080/",
          "height": 52
        },
        "outputId": "dddaf4c1-37de-44ef-b1c7-7eb9ca67cb52"
      },
      "source": [
        "np.linspace(0, 100, 7)"
      ],
      "execution_count": null,
      "outputs": [
        {
          "output_type": "execute_result",
          "data": {
            "text/plain": [
              "array([  0.        ,  16.66666667,  33.33333333,  50.        ,\n",
              "        66.66666667,  83.33333333, 100.        ])"
            ]
          },
          "metadata": {
            "tags": []
          },
          "execution_count": 47
        }
      ]
    },
    {
      "cell_type": "markdown",
      "metadata": {
        "id": "JtVbiwPOA1Z0"
      },
      "source": [
        "The function will also generate values along the line that connects two 2D points:"
      ]
    },
    {
      "cell_type": "code",
      "metadata": {
        "id": "mMn8kQpIA4HT",
        "colab": {
          "base_uri": "https://localhost:8080/",
          "height": 243
        },
        "outputId": "87abef98-967c-4ca0-9a14-8cbd08c3128a"
      },
      "source": [
        "np.linspace([0, 10], [30, 80], 13)"
      ],
      "execution_count": null,
      "outputs": [
        {
          "output_type": "execute_result",
          "data": {
            "text/plain": [
              "array([[ 0.        , 10.        ],\n",
              "       [ 2.5       , 15.83333333],\n",
              "       [ 5.        , 21.66666667],\n",
              "       [ 7.5       , 27.5       ],\n",
              "       [10.        , 33.33333333],\n",
              "       [12.5       , 39.16666667],\n",
              "       [15.        , 45.        ],\n",
              "       [17.5       , 50.83333333],\n",
              "       [20.        , 56.66666667],\n",
              "       [22.5       , 62.5       ],\n",
              "       [25.        , 68.33333333],\n",
              "       [27.5       , 74.16666667],\n",
              "       [30.        , 80.        ]])"
            ]
          },
          "metadata": {
            "tags": []
          },
          "execution_count": 48
        }
      ]
    },
    {
      "cell_type": "markdown",
      "metadata": {
        "id": "oMeabydcBLTf"
      },
      "source": [
        "You can use the same function to generate points along the line that connects vectors with a larger number of dimensions. In the cell below, I generate two random vectors, and then use `linspace()` to calculate values between them:"
      ]
    },
    {
      "cell_type": "code",
      "metadata": {
        "id": "9XjrrLdd5v26"
      },
      "source": [
        "start = np.random.randn(32)\n",
        "stop = np.random.randn(32)\n",
        "latents = np.linspace(start, stop, 8)"
      ],
      "execution_count": null,
      "outputs": []
    },
    {
      "cell_type": "markdown",
      "metadata": {
        "id": "KIoF5i6IBfyU"
      },
      "source": [
        "The code in the cell below generates alphabets from each of these values. It takes a while to run! You'll notice that—while the first and last samples are very different—each line is similar in the style to the one that follows it. Seen together, it seems as though the first sample is \"smoothly transitioning\" to the final sample."
      ]
    },
    {
      "cell_type": "code",
      "metadata": {
        "id": "NLWxm1uU6WYT",
        "colab": {
          "base_uri": "https://localhost:8080/",
          "height": 644
        },
        "outputId": "a8a161c5-b00e-4f05-cb83-5b321ace83b3"
      },
      "source": [
        "page = document(240, 160, 'mm').addpage()\n",
        "pen = shape().nostroke().fill(rgb(40, 40, 40))\n",
        "cy = 0\n",
        "for i, vec in enumerate(latents):\n",
        "    print(i, end=\" \") # print progress, since this takes a while\n",
        "    alpha = generate_alphabet(vec)\n",
        "    string_path = combine_path(alpha, \"abcdefghijklmnopqrstuvwxyz\", kern=2)\n",
        "    page.place(pen.path(string_path.scale(0.8).translate(0, cy)))\n",
        "    cy += 19 # just eyeballed this value, adjust to taste\n",
        "show(page)"
      ],
      "execution_count": null,
      "outputs": [
        {
          "output_type": "stream",
          "text": [
            "0 1 2 3 4 5 6 7 "
          ],
          "name": "stdout"
        },
        {
          "output_type": "display_data",
          "data": {
            "text/plain": [
              "<IPython.core.display.SVG object>"
            ],
            "image/svg+xml": "<svg height=\"453.5433pt\" version=\"1.1\" width=\"680.315pt\" xmlns=\"http://www.w3.org/2000/svg\" xmlns:xlink=\"http://www.w3.org/1999/xlink\">\n<title>Untitled</title>\n<path d=\"M13.3721,29.2767 C16.4817,29.281,19.0262,29.2792,22.8176,30.8482 C23.8356,31.2837,27.1422,32.9436,26.3177,37.0495 L26.2656,48.4884 C26.5455,50.0456,26.8014,50.5014,24.7252,50.977 C23.0422,51.2546,22.0254,50.9946,21.9058,50.9446 C20.6725,50.6659,20.4331,49.8045,20.8256,48.4706 C19.5285,49.8719,16.1247,50.0051,12.5208,50.1898 C6.116,50.4859,0.7462,47.5018,0,41.5316 C-0.735,35.9946,4.5447,32.0073,12.1357,31.0469 M16.2039,33.8015 C10.8045,34.0811,7.2678,36.4729,7.1116,39.3113 C6.5833,43.2616,9.0788,46.2771,16.4123,46.672 C21.2168,47.0413,25.3493,44.6029,25.4884,40.8331 C25.5693,36.9512,21.5061,34.0178,16.6182,33.8112 M34.1054,24.2705 L43.8409,24.3236 C50.4069,24.3164,49.1895,24.3245,53.6437,25.7925 C58.9234,27.7034,59.1632,27.3285,59.4621,31.8044 C59.535,35.1107,59.6795,34.7849,57.0016,37.3978 C59.1831,38.1842,59.3907,38.1866,60.8573,41.9009 C61.9978,44.7559,62.0807,44.7392,61.8761,46.6694 C61.2708,50.4944,61.3186,50.0194,57.7104,52.6205 C54.3656,54.9033,54.1716,54.9467,48.6016,55.0675 L30.8632,55.091 L30.8531,23.4988 M43.7703,26.8771 L35.3403,26.8804 L35.3264,36.2594 L43.0611,36.262 C47.5608,36.2619,46.5563,36.2551,50.0963,35.3738 C53.9281,34.2425,54.1031,34.2082,54.6664,31.965 C55.0925,29.7351,55.0112,29.2003,52.5155,28.2094 C49.9455,27.1963,50.1036,27.1887,44.9531,27.2441 M45.2127,39.6175 L35.7933,39.6229 L34.7074,50.5772 L43.3925,50.5812 C48.9134,50.5815,47.7399,50.5738,52.0858,49.6497 C56.6768,48.406,56.835,48.3768,57.3142,45.7565 C57.4243,43.1114,57.6417,43.3263,54.5805,41.3061 C51.6664,39.3334,51.3792,39.3349,45.6233,39.2662 M83.0439,28.9169 C87.3859,28.921,87.8885,28.9192,91.5788,29.9487 C95.8105,30.2902,96.0877,30.2623,96.3653,32.9181 C96.4101,33.8021,96.3919,33.9111,91.478,34.1985 C88.533,33.0614,88.4769,33.6756,86.9368,34.0805 C86.1821,31.4554,86.0942,32.2283,84.4694,32.0031 C83.1099,31.8054,83.0624,31.8698,80.4389,31.8733 C76.0333,31.874,76.8579,31.8669,72.762,32.9996 C68.1316,34.5714,68.2151,34.3117,67.7435,37.2434 C67.8357,37.8489,67.621,37.868,71.4131,41.262 C75.4584,44.3975,75.6043,44.4007,80.99,45.395 C85.3699,46.083,85.4459,46.0937,89.0645,46.0152 C92.5857,45.9685,92.8081,45.9503,94.6387,45.3509 C95.5932,46.1619,95.637,45.6775,95.9501,46.8151 C96.2428,47.7858,96.2251,47.7926,91.0121,48.3242 C87.4522,48.7777,86.9309,48.7721,83.1294,48.7916 C77.2608,48.7913,77.1287,48.7846,73.0272,47.2181 C67.0932,45.2707,67.4025,45.2493,66.5209,40.6865 C66.5106,39.7018,66.3836,39.7802,66.4115,35.3801 C66.2332,31.3445,66.4428,31.576,71.2486,29.5542 C75.6724,27.8863,75.7885,27.8987,82.527,27.8444 M101.3508,26.2085 L119.5868,26.264 C125.2129,26.2608,124.0348,26.2666,127.4514,28.2528 C131.1534,30.6638,130.7772,30.4225,131.0161,35.3796 C131.0495,40.5772,131.1495,40.06,130.9738,44.0809 C130.7549,49.2956,130.7427,48.8848,127.946,51.5055 C125.1367,53.9528,125.1164,53.9769,119.3137,53.9368 L100.9072,53.9389 L100.9008,24.5057 M115.9728,28.0826 L105.08,28.086 L105.0634,48.1712 L113.9251,48.1742 C118.9347,48.1722,117.9963,48.1609,121.5425,46.9776 C125.0046,45.8108,125.1626,45.7954,126.1492,42.7689 C126.6943,40.3017,126.9703,40.3447,126.8477,37.2139 C126.5094,33.6765,126.742,33.6301,124.6742,31.5296 C122.585,29.128,122.5007,29.0838,117.1979,29.0482 M148.6104,28.9367 C153.7959,28.9406,154.0768,28.9391,158.0944,30.6305 C163.4135,32.8765,163.5552,32.5254,163.3079,37.031 L138.3008,37.1062 C138.492,41.4256,138.9014,42.5255,138.9285,42.8929 C140.0512,47.071,139.6374,46.4915,143.9176,47.9172 C147.0037,48.7466,147.1368,48.7569,151.5959,48.8389 C156.6163,48.903,156.2653,48.8945,159.5761,48.8633 C163.224,48.8637,162.7777,48.8551,165.3002,48.3028 L165.9009,50.4739 C162.8268,51.431,161.8632,51.5914,160.1732,51.7844 C158.1786,52.3111,157.0848,52.312,152.4416,52.2935 C146.014,52.2932,145.848,52.2864,141.6455,50.402 C135.8882,47.8093,136.1591,47.8554,135.643,42.7541 C135.2692,41.4658,135.5291,41.5516,135.5515,37.8437 C135.3648,33.2304,135.5772,33.3921,139.9674,31.1153 C143.8345,29.1671,143.991,29.1433,150.8193,29.1173 M150.6686,31.8049 C146.2902,31.8056,147.1538,31.7972,143.191,33.2221 C140.4388,34.4136,140.4285,34.4238,139.8069,36.0343 L161.5242,36.039 C160.96,32.5213,160.6356,33.1801,159.0822,32.0583 C156.6005,30.6986,156.8071,30.6523,151.3298,30.5304 M180.1096,24.4428 C182.3341,24.4471,184.0715,24.4451,191.5503,25.3259 L191.461,29.9331 C189.0701,29.2732,185.5801,28.8901,182.9439,29.3691 C180.9091,29.9142,179.8312,33.467,179.7753,34.2424 C180.7425,34.6947,185.1315,36.4419,185.9276,36.5552 C187.2992,37.6214,187.5173,38.0943,189.034,38.3601 C189.3038,39.6937,188.2049,40.3953,186.9699,40.2978 C184.8422,40.13,182.53,39.8773,182.9074,40.1413 C183.0571,42.9216,183.1248,45.7465,182.9735,51.1428 C181.8603,53.9448,178.2314,57.0102,174.3134,56.049 C171.9278,55.1515,170.9165,48.8751,171.3944,49.8399 C171.9811,48.1856,172.3773,45.9308,173.6662,47.6916 C174.4631,48.1121,174.4789,45.6863,174.601,47.0987 C175.0425,47.852,174.7198,46.4745,174.2994,47.5865 C173.9413,48.3487,174.7592,48.8086,174.0742,49.0702 C173.8047,49.5072,174.918,49.3638,173.4677,48.9019 C172.8819,48.3871,173.512,46.2269,172.6126,47.1605 C172.1323,48.1864,172.0767,48.5886,172.1512,49.1507 C172.6696,50.4651,174.7693,50.6528,175.3195,50.1843 C176.255,49.4239,176.4884,47.3691,176.8351,45.6522 C177.1251,44.01,176.0058,40.1766,176.7236,40.4385 C176.6193,39.9328,175.3458,39.3859,174.3813,40.1099 C173.346,40.6378,172.7198,40.0948,172.8657,39.5009 C173.4114,38.6696,174.6147,37.6388,175.4342,37.0012 C175.8564,36.3429,175.5019,35.3957,176.4488,34.7213 C176.3867,33.9833,175.7429,31.5431,174.7428,32.5234 C173.6267,33.127,172.7187,32.7185,172.9848,33.325 C172.9677,33.8051,172.3291,33.6636,171.9172,33.7046 C170.6108,33.808,170.1427,33.0716,170.4364,31.65 C171.0326,30.122,173.8192,27.1905,177.4712,27.6059 M211.9926,29.0809 C215.1714,29.0852,217.7001,29.0835,217.8196,30.517 L219.8803,28.6992 L225.8388,28.6834 L223.5224,51.1447 C222.5629,57.2091,216.503,62.8396,208.5826,61.8259 C203.427,61.4248,198.7525,58.3152,197.2653,56.3636 L199.6884,53.5766 C201.5802,56.4895,205.6021,57.5638,210.4612,57.3212 C216.0237,56.8668,219.9902,52.757,220.0125,48.5817 L219.9853,44.2405 C217.4966,47.3573,213.1483,48.6789,207.7996,49.1168 C200.9385,49.4834,195.8654,44.4409,196.0858,38.0362 C196.6561,31.572,203.0661,27.1301,211.295,26.7154 M213.0062,29.5997 C206.2406,29.6211,202.2488,34.0481,203.2729,37.4403 C204.3616,41.7433,209.3116,44.0812,214.3419,43.9419 C219.8509,43.682,223.9598,40.0178,224.5216,35.9341 C225.1691,31.589,219.8471,28.9076,214.1393,29.0155 M232.0448,25.0398 L236.383,25.752 L235.948,35.314 L253.2795,35.3159 L253.2684,24.8485 L258.692,24.6875 L259.4693,52.6721 L254.7155,52.7267 L254.6813,39.9798 L235.8349,39.9393 L234.9078,52.0369 L230.3742,52.0363 L231.3494,28.775 M273.1791,27.4198 C274.8853,27.4244,275.0795,27.4226,280.4647,28.3813 C281.9597,28.6152,282.0779,28.5932,284.2842,29.886 C284.0799,32.8817,283.7862,31.5627,281.7061,34.7332 C279.6189,37.3658,279.7402,37.3051,278.6011,39.4902 C277.893,41.8156,278.0296,42.1727,277.1536,44.8506 C276.3501,47.7567,276.3076,47.8108,275.8037,49.7493 C275.0129,50.403,274.9492,50.2845,274.0789,50.6133 C273.2114,50.9187,273.1671,50.9102,272.2257,50.932 C270.9425,50.9321,271.3353,50.9254,270.4385,50.6059 C269.6768,50.2954,269.6261,50.2903,269.0585,49.7582 C268.4545,46.934,268.3556,47.7306,268.2771,45.7524 C268.1843,43.9293,268.1318,43.9219,268.1763,42.066 C267.999,40.2123,268.1841,40.1174,268.4138,36.923 C268.6815,33.7155,268.6733,33.7056,268.7203,31.7825 C268.4254,30.5124,268.2323,30.8968,267.0756,30.2421 C265.922,29.686,265.8591,29.6728,264.94,29.2593 C264.8308,28.2859,264.8759,28.4909,264.2368,27.7945 C264.8182,27.1481,264.9923,27.0237,264.0047,26.7513 C264.6161,26.2707,264.7811,26.215,266.5716,26.1867 C268.4682,26.1669,268.2791,26.156,269.6708,26.132 M298.3994,27.3918 L306.8249,28.3108 L307.085,50.3733 L297.0876,56.6426 L288.8196,53.3645 L292.4652,48.1544 L297.3446,50.9214 L300.0579,34.6125 L293.5716,32.6443 L295.372,27.7237 M314.2019,24.7849 L318.6874,24.8569 L318.518,35.4128 L335.1124,26.301 L343.0155,26.2982 L330.1388,36.2182 C333.5215,39.9189,334.577,42.2152,340.4253,50.1121 L339.7936,54.1983 C336.6844,49.5887,332.0928,46.3761,328.659,41.4615 L316.3873,45.2513 L316.3679,55.7562 L311.6205,55.8298 C311.8706,48.2878,311.9374,42.7989,311.7048,32.9046 M353.0374,25.6009 C354.6212,25.6055,354.8267,25.6036,359.7357,26.6877 C363.9021,27.0329,362.7755,27.5999,364.9051,28.7198 C364.8798,32.2276,364.5769,30.783,363.166,34.5128 C361.7856,37.9948,361.7199,38.0418,361.2112,40.5167 C360.9173,44.2135,360.7324,43.574,360.8095,46.2897 C360.9106,49.0591,360.9589,48.934,361.7403,51.2212 C361.2632,52.1592,361.2378,52.0628,358.7038,52.3202 C356.2836,52.5356,356.2196,52.5327,354.7112,52.5184 C352.7897,52.5181,353.2811,52.5113,352.0224,52.1501 C350.8851,51.8026,350.831,51.7945,349.7026,50.8325 C348.7891,47.3716,348.6935,48.4629,348.1923,45.9478 C347.6996,43.6219,347.6265,43.61,347.5509,41.1546 C347.4033,36.6504,347.5357,37.6636,347.6553,35.8363 C347.7936,34.0819,347.9031,34.0699,348.4707,31.7557 C348.592,31.1909,348.4835,30.0015,349.1743,29.639 C349.836,29.1402,349.8351,29.1276,350.913,29.0697 M384.6898,29.6531 C387.3978,29.6573,389.2601,29.6557,391.579,31.2717 C394.3231,29.4667,396.1777,28.3289,398.1042,28.7102 C402.3327,29.3126,406.2562,32.466,405.6051,37.0051 L405.5584,49.3589 L401.2041,49.36 L401.8498,38.4597 C402.3264,34.9376,399.6699,32.5196,396.0704,32.0083 C392.5645,31.6912,390.2183,34.941,390.0104,36.4566 C389.6608,37.7106,389.7375,44.5045,389.8495,49.3999 L385.3487,49.5597 C385.4707,44.053,385.6454,40.3076,385.6027,36.6674 C385.2042,33.2674,384.233,31.3532,380.5517,31.1538 C376.7035,30.9032,374.3022,34.4448,374.1672,36.2926 C373.7191,41.4638,373.7962,45.245,374.0793,48.9055 L369.4405,49.0801 C369.628,42.4385,369.7946,37.3564,369.8921,30.4314 L374.4762,29.8507 L374.4,34.1189 C376.0791,31.7284,379.4449,30.3585,382.3488,29.7576 M425.1566,29.3596 C430.0509,29.3638,430.2209,29.3621,433.1462,31.2681 C436.5834,33.5331,436.2332,33.3813,436.4155,37.9868 L436.3874,50.1637 L431.6359,50.1641 L431.6308,38.8743 C431.3839,35.8152,431.6015,35.7241,429.6689,33.4934 C427.7427,31.4172,427.647,31.4001,424.1546,31.3488 C420.166,31.3477,420.564,31.34,417.9789,33.7797 C415.4833,36.1892,415.4002,36.1193,415.0096,40.186 L414.9829,50.8112 L410.1513,50.8117 L410.1405,29.9126 L414.5597,29.9133 L414.5448,34.3438 C416.4751,31.1342,417.1001,31.2742,419.3195,30.1329 C421.7898,29.0712,421.7828,29.0614,425.6547,29.0672 M457.5873,28.7713 C464.878,28.7754,463.9658,28.7738,468.4006,31.2138 C473.6383,34.2218,473.6574,34.1998,473.3672,39.5893 C473.1458,44.6169,472.9905,44.899,467.7972,48.1587 C463.1342,51.0651,463.0121,51.0511,456.7926,51.126 C450.3658,51.1343,450.3402,51.1285,446.0138,48.4694 C441.2981,45.4242,441.1814,45.4101,440.9509,40.2501 C440.6102,34.9326,440.9053,35.1139,445.0081,31.6662 C449.4482,28.4337,449.4232,28.4137,456.1516,28.3934 M456.0529,31.1562 C451.5279,31.1572,451.6476,31.1482,448.5574,33.5621 C445.5552,36.0547,445.4701,36.0698,445.4252,40.0532 C445.2227,43.9343,445.3932,44.0442,448.829,46.7005 C452.0832,49.2582,452.0741,49.2891,456.7712,49.3292 C461.3953,49.3292,461.6476,49.3211,464.896,46.7146 C468.1836,44.1684,468.1594,44.1672,468.174,40.171 C467.9681,36.2202,468.179,36.3054,464.5733,33.7511 C461.3388,31.2407,461.2185,31.2257,456.3836,31.2395 M495.7098,28.9985 C500.9824,29.0024,501.0206,29.0007,504.2154,31.3739 C507.7596,34.1188,507.6984,33.9974,507.8845,39.0368 C507.9131,43.6221,507.9614,43.9447,504.0164,47.1746 C500.1893,50.4083,500.0791,50.3478,494.2964,50.4346 C489.6986,50.4488,490.2087,50.4437,487.0936,49.4812 C484.1323,48.4839,484.0373,48.4644,481.9992,46.2882 L481.9856,59.7898 L477.9154,59.79 L477.9026,28.6132 L482.7595,28.6133 L482.6949,32.6149 C485.0649,29.9878,485.6638,30.0762,487.5906,28.7928 C489.9508,27.5947,490.4604,27.5762,494.4388,27.5808 M492.8303,30.8781 C488.5242,30.879,489.2701,30.8703,486.4061,32.466 C483.6805,34.0287,483.6027,34.0224,482.5321,37.0647 C482.0913,37.9744,482.1421,37.9979,482.9712,41.4749 C483.8925,44.6485,483.9974,45.0097,487.3718,46.3835 C490.3244,47.5758,490.4142,47.6183,494.3291,47.5281 C498.4124,47.4593,498.6682,47.4386,500.5887,45.414 C502.6697,43.4011,502.7812,43.3871,502.6197,39.8363 C502.2439,36.072,502.4738,36.1296,499.7039,33.8614 C497.0385,31.6792,496.9408,31.6588,492.6844,31.6749 M525.3093,29.1983 C528.6468,29.2027,531.5465,29.2009,535.491,31.0075 C536.2803,31.3513,538.7946,32.61,535.7714,29.5887 C535.358,29.0552,535.2808,28.6658,535.1118,28.8846 C535.4583,29.3033,535.745,29.4764,538.2602,29.5759 C539.46,29.7907,539.9486,29.8488,539.7124,30.1202 C538.9401,30.7858,538.4563,40.644,538.6974,35.9834 C538.651,38.8003,538.6191,43.1542,538.556,59.878 C538.7297,60.7398,539.4499,64.1985,540.068,63.0625 C540.8609,62.8269,541.2048,62.8604,541.3699,63.7206 C541.2503,64.3209,540.7683,64.5828,539.996,64.4806 C537.2184,64.171,533.4589,64.1244,532.1071,64.2343 C531.0516,64.2605,530.8975,64.0264,531.0812,63.6521 C531.6097,63.1586,532.2144,63.0084,533.1519,62.9361 C534.0236,62.7884,534.0032,61.9979,534.1361,60.4695 C534.0615,55.2541,534.2979,51.6803,534.1717,48.6625 C532.556,50.2382,528.5339,51.0125,524.6671,51.7904 C518.7495,53.0076,512.8752,48.4666,512.4199,41.2021 C511.7399,34.6169,517.7076,29.6537,525.1165,28.6307 M527.8025,30.9474 C521.1586,31.0981,517.71,35.8882,518.5999,40.7283 C519.0475,46.0562,523.8855,49.3844,529.3805,49.483 C534.0909,49.4829,538.2964,46.4729,538.3503,41.8345 C538.1389,35.1185,535.3731,32.1584,530.5269,32.3444 M547.3995,29.0837 L567.6697,29.1356 C571.1762,29.1334,570.3053,29.1371,572.319,30.2787 C574.2473,31.4653,574.2383,31.4561,574.3832,34.3043 C574.2917,36.7944,574.4505,36.424,571.1565,38.4714 C568.2978,40.2496,568.228,40.2578,564.8013,40.7061 L572.3319,51.3057 L566.4362,51.3076 L559.127,41.3478 L550.9319,41.3501 L550.9195,51.7583 L545.9218,51.76 L545.9053,30.7455 M561.1786,34.3402 L550.4659,34.3427 L550.4517,41.0044 L562.2307,41.0068 C565.374,41.007,564.668,41.0003,566.7762,40.0764 C568.7171,39.1381,568.7113,39.125,568.8652,37.2117 C568.7583,35.5738,568.9688,35.5031,567.1424,34.4585 C565.4437,33.4395,565.3684,33.4298,562.6942,33.4509 M595.8467,28.6808 C598.5622,28.6849,600.9381,28.6833,601.1741,29.5785 C601.3091,30.1028,602.205,30.5363,600.4678,31.8403 C599.0317,32.2958,597.3541,30.8939,596.6591,31.4111 C594.3585,31.8977,592.5334,33.5164,592.0658,34.2766 C591.5226,35.3391,595.8664,35.918,600.6124,37.5728 C606.1624,39.1638,609.257,41.4078,609.3121,45.6152 C609.3316,50.1111,603.2761,52.671,595.4547,52.9387 C589.5031,53.263,583.4229,51.6286,581.1762,50.1923 C580.2277,49.6083,581.3779,48.3577,581.1038,47.4839 C581.4011,46.6722,584.2717,46.3476,588.157,46.5024 C591.7998,47.1005,595.1601,48.0805,595.6149,47.8834 C598.0612,47.324,599.3511,45.9642,598.8475,44.092 C597.8785,42.0141,592.1572,40.7316,586.538,40.0137 C581.2961,39.2339,578.5385,37.8678,578.9186,34.2107 C579.8972,30.7369,585.0548,28.9848,591.2501,29.3987 M619.1497,28.0466 L637.0213,28.0915 L636.8612,34.3077 L630.1649,34.2978 L630.1518,50.4824 L620.9568,51.9458 L621.7939,34.3446 L613.8475,34.4056 L614.7425,27.6641 M646.2745,29.8682 L648.0755,30.5983 L648.0528,43.7483 C648.4424,46.6954,648.1686,45.9851,649.2685,48.093 C650.279,49.9574,650.2849,49.9533,651.9999,50.8837 C653.7784,51.8022,653.785,51.799,656.1639,51.8853 C658.4982,51.9647,658.5164,51.9598,660.4204,51.9146 C662.3865,51.8721,662.3994,51.8636,663.8276,51.7002 C665.2761,51.5322,665.27,51.5126,666.3306,51.1915 C667.3973,50.8587,667.4945,50.8542,668.1814,50.3619 C668.9164,49.8697,668.908,49.8674,669.2612,49.2724 L669.6757,33.8235 L672.2145,33.3396 L672.717,50.1776 C672.6801,51.8107,672.7956,52.1417,672.4232,53.2817 C672.0933,54.3886,672.0502,54.383,671.3388,55.2425 C670.6481,56.0794,670.6069,56.0698,669.5598,56.7012 C668.5177,57.3196,668.4661,57.3122,667.1234,57.7143 C665.2179,58.3045,664.8971,58.1034,663.3738,58.2513 C661.8092,58.3898,661.7463,58.3822,660.1238,58.411 C658.5007,58.4273,658.4525,58.4187,655.7858,58.1929 C653.0783,57.9673,653.0007,57.9528,650.462,57.4384 C647.9739,56.9118,647.8923,56.8951,645.9754,55.7699 C644.062,54.658,643.9741,54.6569,642.9106,52.8612 C641.9902,52.0146,642.4822,52.052,641.9391,49.5481 C641.5057,46.9667,641.4392,46.9564,641.5568,44.0979 L642.0253,35.1245 L644.8108,34.6474 M682.3317,29.4595 L688.8716,29.5172 L696.5396,43.9366 L704.3274,29.4994 L711.2265,29.4999 L697.4051,52.6818 L690.2769,52.6827 L677.2524,30.457 M720.7764,29.2665 L726.2574,29.3145 L731.8546,43.8446 L737.902,29.374 L742.9224,29.3735 L749.1314,45.63 L756.2353,30.8009 L761.7148,30.8002 L749.7249,53.7114 L744.8278,53.7144 L737.8687,38.5173 L730.5248,53.911 L725.9359,53.9158 L715.7619,32.711 L720.6472,32.304 M770.0129,29.0734 L778.0232,29.1212 L784.4456,37.2756 L792.3569,29.1748 L800.3027,29.1755 L788.4548,39.4272 L801.5376,51.6679 L793.3701,51.6713 L783.6358,42.9825 L774.4327,51.3539 L766.2502,51.3555 L780.7998,40.1063 L768.3479,28.9503 M806.7168,29.5816 L813.1501,29.6357 L819.6867,44.4994 L826.7341,29.3949 L834.6885,29.3947 L819.7481,59.2757 C817.0705,63.9292,813.6503,66.1002,809.4241,64.7437 C807.4329,63.9395,806.6924,63.2767,806.073,60.6857 L809.8759,58.5892 C810.8846,60.7099,812.2389,61.6132,815.8476,61.7077 C819.5326,61.7358,823.0408,57.1856,823.109,51.8823 L810.511,30.217 M839.2239,29.024 L865.8136,29.079 L866.4623,30.2461 L847.6262,48.4327 L866.2777,48.4308 L867.8332,49.966 L841.3332,52.0233 L839.758,51.0284 L862.5113,32.9163 L842.7776,32.8272 L840.2056,29.8083 L842.916,29.1034\" fill=\"rgb(40,40,40)\"/>\n<path d=\"M13.8294,82.4251 C16.8739,82.4293,19.4374,82.4276,23.1146,84.1776 C24.1216,85.8661,27.2181,86.79,26.2378,90.9186 L26.192,102.2034 C26.4847,103.696,26.7269,104.168,24.4942,104.5998 C22.8388,104.8462,21.8809,104.4257,21.9361,103.0493 L21.9327,101.028 C20.0929,102.9474,16.5072,103.3122,12.6605,103.6279 C6.3462,104.0259,0.9449,100.3384,0,94.1299 C-0.9784,88.1715,4.9658,84.0426,12.5871,83.0613 M15.8505,85.7934 C8.9764,86.0055,5.3357,89.5488,6.1771,93.2322 C7.167,97.663,11.4162,100.1985,17.2485,100.3 C22.0748,100.467,26.0023,97.6914,26.243,93.6876 C26.4489,89.3583,22.1145,85.9224,16.8755,86.1459 M37.2503,76.9825 L43.6875,77.0358 C47.8765,77.0352,52.4181,77.0342,51.9353,83.4419 C55.0887,84.8597,57.6532,86.1398,57.5992,90.1795 C57.6339,94.8144,56.0399,98.0731,52.0757,99.1834 C51.6904,99.9438,51.0036,101.8286,49.0285,102.7745 C46.567,103.6927,44.3741,104.6614,39.8272,104.0006 L30.7811,103.9804 L30.7784,77.0219 M40.7135,78.5488 L34.6288,78.5522 L34.6176,92.4584 C36.4616,92.6431,40.4629,92.1437,40.1302,92.8188 C40.6727,93.477,42.808,93.7455,44.9335,94.394 C48.5842,95.0668,51.9654,92.5034,51.409,91.9066 C51.285,89.8775,49.1269,86.7932,45.3337,85.319 C42.8297,84.3837,40.4504,83.9053,39.0945,83.8163 M38.7796,93.2633 L36.4905,103.3771 C37.1435,105.7086,41.6402,106.6946,47.0767,106.5851 C51.6757,106.2776,55.5322,103.6961,55.5169,100.5192 C55.281,97.0034,50.1033,94.6345,43.9392,94.2845 C41.5227,94.0909,39.9673,93.9552,38.3577,93.8384 M72.2261,82.0832 C76.4286,82.0872,76.9003,82.0854,80.4082,83.1812 C81.4683,83.5295,84.5417,83.4981,84.4897,86.1861 C84.4741,87.4079,84.4679,87.6485,82.7312,87.9509 C80.9722,88.1402,78.238,87.9079,79.845,87.259 C79.6407,85.7357,77.7803,84.9965,75.0554,85.2482 C70.0233,85.7463,65.8623,86.776,64.2194,89.3126 C62.551,91.4178,62.4072,93.2552,63.7846,96.5666 C65.8064,100.2041,69.383,101.3239,74.6438,101.438 C78.9089,101.4555,83.023,100.379,83.1596,99.0761 C83.8973,98.2551,84.2,97.6457,85.5449,98.0779 C86.9393,98.6615,87.1911,99.625,87.0024,100.9574 C86.0348,103.4977,81.6536,104.571,77.2838,104.7649 C69.8626,105.2408,63.1152,102.1318,62.1346,95.7418 C60.7958,89.907,66.5483,85.4689,74.132,84.1138 M93.5568,78.9706 L105.6589,79.0249 C112.7382,79.0265,111.3764,79.0271,115.8789,81.4608 C120.7287,84.456,121.0075,84.598,120.5998,90.2834 C119.9005,96.4684,119.9066,96.0648,114.9268,100.4722 C109.9387,104.8113,109.846,104.8639,102.3244,104.9816 L91.542,104.9975 L91.5379,75.3081 M102.1521,78.3437 L95.6833,78.3464 L95.6666,100.7327 L101.1223,100.734 C106.7099,100.7336,107.1558,100.727,111.6458,97.692 C116.2985,94.4599,116.4124,94.4352,116.1318,88.9449 C115.6852,84.0463,115.9314,84.1509,111.1837,81.0708 C107.3158,78.3777,107.1988,78.3628,101.4019,78.4204 M137.9172,82.0983 C142.9402,82.102,143.1627,82.1006,146.9341,83.9383 C151.9068,86.2858,152.0346,85.9562,151.8204,90.4699 L126.7469,90.5313 C126.9264,94.9896,127.3112,96.1692,127.3744,96.5897 C128.4941,100.8734,128.0815,100.2869,132.2479,101.8324 C135.3329,102.8202,135.4483,102.8345,139.7476,102.8933 C144.6136,102.9372,144.1721,102.9294,147.459,101.9163 C150.8455,100.8852,151.1924,100.8751,152.6229,98.6467 L153.9418,100.2458 C151.4522,103.2523,150.8892,102.7898,148.262,104.4356 C144.4815,106.4797,144.5363,106.5397,139.7855,106.5868 C133.8966,106.5879,133.7981,106.5828,130.0238,104.1521 C125.1231,101.1311,125.4501,101.3843,125.1352,95.9836 C124.8232,90.8035,125.0864,90.9252,129.3828,87.0397 C133.8012,83.3539,133.8841,83.3341,140.1296,83.342 M139.9617,85.4913 C136.2228,85.492,136.3052,85.4835,133.5099,87.5081 C130.7739,89.4616,130.7027,89.4768,130.3609,92.524 L151.1521,92.5252 C150.716,89.6898,151.1254,88.8336,148.6387,87.5069 C146.2017,85.9106,146.0852,85.9033,141.2269,86.0223 M172.4511,76.8902 C174.4655,76.8944,175.8782,76.8925,182.1665,77.8022 L182.1292,82.545 C179.9898,81.8539,177.005,81.5409,174.658,81.9057 C172.6256,82.3665,171.5882,85.9361,171.5298,86.718 C172.4444,87.1605,176.677,88.8637,177.4782,89.1008 C178.4889,90.4754,178.2929,91.1998,179.9116,91.6837 C179.914,93.0298,178.6166,93.749,177.3671,93.7661 C175.3515,93.7672,173.495,94.123,174.0189,93.3483 C174.1348,94.0903,173.9488,95.1346,173.6018,93.9993 C173.0242,95.4316,172.3026,96.5615,171.6384,95.7833 C171.2541,98.306,170.7755,99.8111,171.0855,103.8997 C170.3501,105.1826,167.3053,105.7577,164.5197,106.2784 C163.8535,102.4532,163.1944,98.1386,163.1993,90.1917 C162.6165,86.5253,161.5155,83.9407,161.1658,84.827 C160.6632,83.9247,160.9889,83.245,159.9409,83.6401 C159.6231,81.8974,160.6646,80.9537,158.9388,81.2512 C159.138,79.4124,161.6455,78.4288,158.4772,78.5708 C158.9468,77.2141,162.0622,76.6015,158.7621,76.289 C159.4381,75.0433,163.0787,74.6591,159.7374,74.9831 C159.8007,74.2919,162.3495,74.1555,159.8351,73.6569 C160.5865,73.1844,164.1678,72.658,161.0227,72.7282 C161.1038,72.3798,163.3696,72.5922,161.2829,72.1721 C161.6387,71.8587,164.4876,71.3261,162.0085,71.3124 C161.3168,71.3117,162.5125,71.593,161.2342,71.4251 C160.6753,71.1611,160.7227,70.67,160.7015,70.3674 C161.1666,70.035,162.3197,69.8082,168.0743,69.8917 M202.9024,82.2291 C206.0071,82.2335,208.5075,82.2318,208.5737,83.7738 L208.6273,82.1135 L214.7739,82.1052 L214.7625,106.4541 C214.5335,112.3958,208.5481,118.1872,200.8294,117.0197 C195.5095,116.527,190.3627,113.1233,189.0164,111.1516 L192.0142,108.4917 C193.6849,111.6689,196.1392,112.8983,202.2816,112.7454 C208.0136,112.3398,211.7886,108.2821,211.7258,103.7164 L211.6889,97.8615 C209.191,101.2959,204.6898,102.6915,199.1027,103.1607 C191.9738,103.5807,186.5645,98.2576,186.702,91.2472 C186.5114,84.5882,192.8258,80.0136,201.1023,79.5218 M202.859,82.3211 C195.8665,82.2214,192.0157,87.1287,193.189,90.7477 C194.5521,95.4338,199.5193,98.0379,204.8029,97.998 C210.5972,97.9135,214.918,94.3152,215.4004,89.7871 C215.7424,85.0101,210.2189,81.792,204.1702,81.9289 M222.0288,77.6421 C222.7108,77.6466,223.2188,77.6448,223.6929,78.3258 C224.208,78.9299,224.2587,79.613,224.2346,80.5213 L224.1887,87.4387 L238.6422,87.4375 L243.1684,81.1911 C243.2905,80.3356,243.774,79.7427,244.2083,79.3388 C244.6809,78.9079,245.1672,78.6996,245.9347,78.6986 C246.5845,78.6989,247.2936,79.0981,247.4009,79.507 C247.5276,79.9449,247.5572,80.5265,247.512,81.2025 L247.4926,104.9843 C247.3334,105.7373,247.1906,106.1933,246.8817,107.297 C246.5817,108.1769,246.1399,108.8337,245.5666,109.213 C245.0348,109.5531,244.6238,109.5565,243.9494,109.5881 C243.0902,109.5895,242.8619,109.3445,242.3612,108.8594 C241.9313,108.3854,241.7845,107.72,241.6931,106.9941 C241.6237,106.2712,241.6974,105.5906,241.5661,104.6299 L241.5735,93.7356 L225.3979,93.7397 L225.3877,105.1175 C225.2592,105.8641,225.3407,106.3263,224.8119,106.7045 C224.3729,107.0976,223.8749,107.1634,223.1762,107.2756 C222.52,107.3459,222.0235,107.1765,221.4213,106.9271 C220.8852,106.655,220.6007,106.2134,220.3769,105.5989 C219.9504,104.9131,220.0255,104.2686,219.9358,84.5669 C219.7142,83.7574,219.9876,83.2754,220.0765,82.7767 C220.1423,82.2703,220.3625,81.8568,220.7813,81.5352 C221.1652,81.1988,221.6088,81.0305,222.2714,81.0751 M262.797,80.323 C264.4232,80.3275,264.6,80.3257,269.3354,81.3169 C270.6562,81.5673,270.7256,81.5418,272.9298,82.9337 C272.5038,86.0136,272.2412,84.6951,270.1082,87.8158 C268.0487,90.8042,268.1365,90.2,267.0292,92.6505 C266.5183,95.1096,266.6734,95.1008,265.8118,97.7395 C265.0156,100.5306,264.979,100.3972,264.3823,102.4398 C263.7912,102.9828,263.7904,102.8304,262.832,103.1902 C261.8798,103.5356,261.8366,103.5275,260.8061,103.5408 C259.4743,103.5407,259.8532,103.5341,258.9714,103.1749 C258.2318,102.8338,258.183,102.8281,257.7177,102.239 C257.3494,99.0547,257.293,100.0295,257.4776,97.7741 C257.6929,95.7005,257.6859,95.6896,258.0077,93.6561 C258.342,91.6603,258.3341,91.6481,258.593,89.7973 C258.8602,87.9526,258.8441,87.9485,258.8574,86.3905 C258.4596,85.3822,258.2915,85.5338,256.715,85.1427 C255.1769,84.7752,255.11,84.7647,253.737,84.3981 C252.4261,84.0182,252.3741,84.0038,252.1796,83.4015 C251.9691,82.7808,251.9303,82.7759,252.0474,81.9836 C252.6517,80.9202,252.7524,81.0694,254.3833,80.7627 C256.1425,80.4376,256.1425,80.4291,258.198,80.4567 M286.7189,80.4034 L294.4279,81.3224 L294.6144,103.69 L285.0172,110.1509 L277.4652,106.7051 L281.1796,101.4987 L285.7174,104.0581 L287.8553,86.5708 L282.6151,84.8721 L284.6831,81.0803 M300.9571,77.4319 L304.7737,78.1248 L304.6055,88.8377 L319.6454,79.878 L326.6674,80.2185 L314.4633,89.7353 L329.8623,104.1196 L324.9263,106.9302 L308.8645,93.4123 L303.0883,105.0971 L299.6783,107.1786 L299.1498,85.5769 L301.8289,82.596 M335.0916,78.056 L344.8151,78.1047 L344.6531,104.0989 L334.3977,104.0916 L336.1753,77.2256 M364.0225,82.7816 C368.0253,82.7858,368.4418,82.7842,370.7255,84.4796 C373.5478,82.7178,373.9527,82.1297,376.2724,82.7637 C380.0448,83.2876,379.3321,83.142,381.8758,84.8483 C384.1929,86.4169,384.1876,86.4169,385.3892,89.32 C386.5058,91.9668,386.3252,91.9915,386.38,95.2399 C386.4133,98.2634,386.4621,98.347,386.3725,100.3819 C386.3031,102.4047,386.2815,102.4194,386.2846,103.8021 L383.0048,105.1078 C383.0139,103.4756,383.0346,103.2637,383.0608,101.1855 C383.0537,99.0661,383.075,99.0527,383.0563,97.4413 C383.0439,95.8268,383.0073,95.8243,382.7912,94.285 C382.5975,92.7575,382.5555,92.7436,382.0027,91.5185 C380.8951,90.3028,380.7643,88.8743,379.574,88.0164 C378.4216,87.007,378.3468,86.996,376.5298,86.9409 C374.493,86.9179,374.2134,86.9063,373.0004,87.7397 C371.7591,88.5703,371.7026,88.5618,371.1774,90.2298 C370.6687,91.8908,370.629,91.8902,370.7676,94.8652 C370.9128,97.9971,370.9137,97.8126,370.9524,101.0667 C371.0117,104.3247,371.0216,104.3951,370.9985,106.4062 L367.1748,106.3942 C367.3053,104.1381,367.2561,103.7562,367.3765,101.0886 C367.5089,98.5098,367.5016,98.5098,367.463,96.0377 C367.4294,93.6503,367.3777,93.6364,366.9107,91.6289 C366.472,89.6787,366.4023,89.6695,365.3835,88.4178 C364.4025,87.1771,364.3319,87.1726,362.7813,86.6997 C361.2667,86.2352,361.2023,86.2279,359.4131,86.3067 C357.6259,86.4178,357.5779,86.4103,356.1671,87.3499 C354.7933,88.2726,354.7416,88.2612,354.1017,89.9457 C353.8757,91.948,354.0056,92.3916,353.9419,94.9232 C353.8683,97.5148,353.837,97.5104,353.8522,100.305 C353.8694,102.9724,353.8622,102.9833,353.8877,105.5773 C353.9421,107.8901,353.9393,107.9062,354,109.3288 L349.8097,109.3258 C349.8507,106.8474,349.8593,106.2748,349.95,102.9696 C350.0416,99.6411,350.0328,99.6397,349.9902,96.3347 C349.9583,93.1069,349.9027,93.1026,349.7509,90.2289 C349.6119,87.3787,349.542,87.3704,349.3505,85.1592 L353.3371,84.884 C353.5823,86.5085,353.639,86.1664,353.5322,87.9198 C353.4432,89.491,353.4065,89.4927,353.2459,90.4657 C354.3222,88.638,354.5678,88.0686,355.6635,87.238 C356.911,86.346,356.907,86.3351,358.5152,86.0188 C360.1479,85.6777,360.1489,85.6641,361.8982,85.7309 M405.1937,82.4499 C410.1317,82.4539,410.272,82.4522,413.1273,84.4983 C416.1999,86.8646,416.1466,86.7394,416.268,91.4065 L416.2402,104.0871 L411.8977,104.0876 L411.8907,92.4278 C411.6535,89.2499,411.8665,89.1637,409.9397,86.8874 C408.0228,84.7684,407.9274,84.7557,404.4334,84.7012 C400.4578,84.7003,400.8225,84.6924,398.2973,87.1967 C395.8134,89.6092,395.7379,89.6059,395.3755,93.8351 L395.3537,104.764 L390.9265,104.7646 L390.9154,82.9668 L394.8593,82.9675 L394.8354,87.4358 C396.7712,84.2695,397.3221,84.4386,399.339,83.1403 C401.7073,81.8783,401.6969,81.8613,405.7193,81.8835 M436.2174,81.9018 C443.1587,81.9059,442.4355,81.9044,446.676,84.5394 C451.5476,87.7063,451.0318,87.6655,451.3372,93.1262 C451.366,98.1409,451.4335,98.4037,446.6703,101.6667 C442.2348,104.7519,442.1168,104.7275,435.8799,104.8207 C429.5869,104.8291,429.5725,104.8224,425.4386,101.9658 C421.0195,98.8235,420.8908,98.8208,420.8035,93.6233 C420.5378,88.2706,420.8025,88.4458,424.8656,85.1547 C429.1086,82.0668,429.0762,82.0526,435.3524,82.0436 M435.2632,84.6322 C430.7973,84.6331,430.9248,84.6241,427.9275,87.1212 C425.0183,89.6716,424.9337,89.689,424.9115,93.7404 C424.7471,97.7896,424.9175,97.8686,428.2906,100.5439 C431.4696,103.1404,431.4622,103.173,435.9886,103.198 C440.4785,103.1983,440.6814,103.1902,443.792,100.5856 C446.9606,98.0328,446.9348,98.034,446.9366,94.0015 C446.7211,90.0113,446.9352,90.1049,443.4356,87.4012 C440.2735,84.7507,440.1484,84.7384,435.4601,84.7597 M473.1696,82.0879 C478.423,82.0919,478.415,82.0902,481.5395,84.6386 C484.9265,87.4862,484.8724,87.3799,484.9976,92.4868 C485.019,97.2659,485.0439,97.5728,481.1577,100.9677 C477.376,104.333,477.2701,104.2744,471.486,104.3561 C466.9616,104.3643,467.4441,104.3582,464.4905,103.2806 C461.6958,102.1879,461.6081,102.1733,459.7841,99.7753 L459.7694,113.8041 L455.8835,113.8044 L455.8726,81.7277 L460.2941,81.728 L460.2405,85.8363 C462.4854,83.0814,463.1034,83.1701,464.9415,81.9306 C467.2181,80.7506,467.722,80.7323,471.5934,80.7362 M470.0951,83.9588 C466.4737,83.9596,466.4777,83.9511,463.6622,85.6776 C460.8808,87.3621,460.8015,87.3569,459.7541,90.5661 C459.4206,91.4726,459.4152,91.5032,461.7748,95.1745 C464.2042,98.7162,464.4977,98.7897,469.3953,99.9384 C472.9294,100.626,472.8781,100.6337,474.3668,99.6059 C476.1974,98.5508,476.4398,98.5311,477.0135,95.4622 C477.689,92.0386,477.6013,92.3768,475.9697,89.3903 C474.2373,86.0226,474.1606,86.0472,469.847,85.813 M505.4506,82.3247 C508.7146,82.329,511.6152,82.3273,515.41,84.3223 C516.2063,84.7383,516.7476,86.3372,515.7065,82.8893 C515.4617,82.0129,515.4665,81.3318,515.4706,81.8092 C516.0545,82.3626,516.4139,90.0085,518.2121,86.4823 C519.0013,86.1552,519.0958,92.7831,519.1357,86.2406 C519.048,87.0951,518.956,91.2081,518.7424,86.5373 C518.204,85.6596,517.0612,90.086,517.8472,85.4932 C518.1021,85.3374,517.1389,88.6064,516.6395,84.4919 C516.1442,83.5504,516.1865,82.412,516.2628,83.4233 C516.659,84.6189,516.5295,93.7408,515.9497,90.6588 C515.0329,90.1331,514.4215,95.2089,515.0391,92.2727 C515.3827,91.5598,514.7563,93.485,515.2849,91.5328 C515.5344,90.5992,514.6818,91.9247,515.3598,90.2619 C515.6596,89.2487,515.2604,88.9303,515.9801,89.1615 C516.7557,89.5268,516.7986,90.4535,516.3957,90.4506 C515.7472,90.4488,515.5474,90.4747,515.5595,91.6677 C515.3519,92.8426,515.5806,100.4609,515.5393,97.531 C515.2416,98.5931,514.9993,101.2353,515.4964,99.4737 C515.6701,98.8738,516.0081,100.3509,515.9658,99.2663 C515.6392,98.6263,514.9663,100.3516,515.724,98.6709 C515.8851,97.7496,516.2608,97.4296,516.5689,97.5472 C516.8188,97.8479,517.1776,98.4833,516.9953,98.6015 C516.5852,99.1098,516.1829,99.321,516.0478,99.4464 C515.6151,99.9936,515.2851,100.2677,515.4852,102.744 C515.4898,105.1748,515.7008,112.477,515.5281,110.8654 C514.9298,112.8481,514.6096,114.4678,515.2042,113.0764 C515.4032,112.4277,515.7761,112.5186,515.891,111.8275 C515.8362,111.0983,516.1,112.02,516.1399,111.3128 C515.9989,110.661,516.2378,110.7129,516.1923,110.2958 C515.8745,109.7561,516.1698,109.645,515.8721,109.8042 C515.3385,110.1267,514.6576,110.2634,514.6702,111.8438 C514.5104,113.0296,513.9804,117.9258,514.6282,116.1848 C514.8549,115.6664,515.2112,115.3402,515.1644,115.1191 C514.8149,114.7796,515.1148,114.7793,514.6211,115.5007 C513.983,116.494,513.7919,117.0181,512.7034,118.4265 C511.5363,119.7037,511.1036,120.6832,509.9256,120.1285 C508.1576,119.5417,508.6485,117.62,508.5311,114.9169 C508.219,112.8059,508.6014,111.4211,508.7668,110.9475 C508.3749,110.6135,505.3818,111.5156,501.9817,111.989 C495.6732,112.6836,489.9108,109.2262,489.533,101.0056 C488.7659,93.0765,493.9819,87.5686,501.8664,86.6748 M504.8172,89.0418 C498.3493,88.9566,495.4235,93.9078,496.1041,100.1076 C496.4566,106.926,500.8087,110.7016,505.2746,110.7339 C509.5291,110.777,513.1155,106.5538,513.3302,100.7391 C513.3237,95.25,510.8024,89.7209,506.3851,89.6341 M524.9625,82.2777 L543.4129,82.3289 C547.0867,82.327,546.2079,82.3306,548.2655,83.5101 C550.2188,84.7369,550.2101,84.7264,550.3458,87.6763 C550.2482,90.286,550.4075,89.9327,547.1261,92.0465 C544.2321,93.9483,544.1549,93.9634,540.6916,94.4234 L548.5384,105.1237 L543.2512,105.1266 L535.7648,94.897 L528.4648,94.8995 L528.4528,105.574 L523.6711,105.5751 L523.6896,84.3926 M537.1308,87.8114 L527.6634,87.8139 L526.8984,94.8851 L534.2746,94.8862 C537.9936,94.8862,537.2009,94.8791,540.0399,94.1724 C543.098,93.4101,543.2472,93.3921,543.3789,91.4365 C543.2779,89.7202,543.4951,89.6388,541.4719,88.5231 C539.6178,87.4773,539.5415,87.4642,536.685,87.489 M570.1173,81.8223 C572.7692,81.8263,575.0137,81.8247,575.2798,82.7508 C575.4061,83.2861,575.9962,83.7719,574.4865,85.0182 C573.1944,85.4407,571.6575,83.9637,571.2229,84.5428 C569.1021,85.0265,567.3122,86.667,566.6306,87.3942 C565.8231,88.5192,569.5973,89.1869,573.913,90.9941 C579.2442,92.6733,582.4046,94.805,582.6346,98.816 C583.0824,103.2514,577.377,105.7798,569.9814,106.2294 C564.5032,106.6784,558.5972,104.7485,556.4692,103.2667 C555.5453,102.6431,556.687,101.4002,556.4017,100.6626 C556.6437,99.8904,559.3134,99.5675,563.0105,99.7757 C566.3363,100.3978,569.4088,101.5185,569.834,101.3425 C572.3209,100.8406,573.8778,99.4821,573.6428,97.5699 C573.0227,95.4178,567.4124,93.9148,562.1498,93.5133 C557.2355,92.9359,554.3745,90.7285,554.8812,87.5985 C555.8764,84.2657,560.7016,82.3927,566.2926,82.6955 M602.8116,80.9102 L602.7863,87.3745 L607.4191,87.3471 L606.2991,92.6662 L602.0997,92.666 L601.8091,102.7632 C602.1458,104.72,602.3503,104.3583,604.6055,105.3339 L607.9328,106.2776 L602.8054,109.002 C599.9406,109.0012,596.6825,107.9257,595.1352,107.4994 C592.7087,106.6151,591.4787,105.7494,591.1045,102.8451 L590.9666,92.801 L587.17,92.8018 L588.4984,89.1477 L590.7091,83.2449 L602.2316,82.9384 M614.2561,83.0471 L615.8474,83.7925 L615.8235,97.2879 C616.1766,100.4097,615.9409,99.6924,617.0881,101.9552 C618.1529,103.9627,618.1576,103.9621,619.9847,104.9465 C621.864,105.9176,621.8701,105.9136,624.3425,105.9614 C626.6989,106.0035,626.7242,105.9977,628.3641,105.9402 C630.0352,105.8625,630.0378,105.8547,631.3883,105.6474 C632.7441,105.4345,632.7435,105.4266,633.8413,105.0019 C634.9465,104.5718,634.9445,104.566,635.7133,103.8668 C636.4934,103.15,636.4845,103.1471,636.8156,102.2133 C637.1334,101.2691,637.1938,101.2624,637.1878,98.1752 L637.0449,86.8349 L639.7297,86.3003 L639.7472,100.9565 C639.5522,103.8129,639.7139,103.2814,638.8905,105.9788 C638.1514,108.3363,638.103,108.3205,636.5898,110.2724 C635.0874,112.1357,635.0193,112.125,632.6508,113.2443 C630.2827,114.347,630.1995,114.3364,627.0421,114.3382 C624.3872,114.3387,624.3877,114.3316,622.1121,113.7194 C619.8735,113.1138,619.7817,113.1018,617.9344,111.8593 C616.1184,110.6174,616.0285,110.609,614.818,108.6785 C613.6399,106.7698,613.5604,106.7601,613.24,104.2262 L612.4682,89.8849 L615.3353,89.3131 M647.0773,82.6387 L652.7024,82.7007 L658.963,96.879 L665.8603,82.4043 L672.9754,82.4027 L661.558,104.8305 L655.0175,104.83 L644.2826,84.32 M682.318,82.4448 L687.2992,82.4961 L692.8582,97.672 L698.5592,82.4926 L703.2952,82.4935 L709.674,99.4135 L716.3206,83.7012 L721.4615,83.7007 L710.0878,108.0361 L705.6517,108.0388 L698.4229,91.7602 L691.402,107.8607 L687.3583,107.8648 L677.5108,85.5817 L681.8342,85.1868 M729.902,82.2661 L736.8206,82.3111 L743.8793,90.513 L752.075,81.9773 L758.8899,81.9773 L746.5795,92.8302 L759.7286,105.5174 L752.7385,105.5201 L742.6271,96.2611 L733.1429,105.1361 L725.9969,105.1376 L740.2925,93.5443 L728.0385,82.1325 M764.8859,82.7703 L770.2532,82.8339 L776.0991,97.7809 L783.0114,82.5606 L790.494,82.5596 L777.5955,111.7402 C775.6613,117.1326,772.4662,119.9571,767.8393,118.5606 C765.7218,117.9128,764.8237,116.2202,764.264,114.2504 L768.0834,112.1567 C769.0934,114.175,770.3835,115.1192,773.519,115.2267 C776.8495,115.2627,779.9089,110.8356,780.0755,105.8715 L767.8009,83.4626 M798.6028,82.2675 L824.6999,82.324 L825.3431,83.462 L805.7612,102.3459 L824.1698,102.3445 L826.0081,103.2616 L823.8436,106.0088 L795.3941,105.8903 L795.0294,104.5151 L818.7572,85.7032 L801.0443,85.691 L797.5879,86.0619 L797.1662,82.3926 L798.9023,81.744\" fill=\"rgb(40,40,40)\"/>\n<path d=\"M11.887,135.4924 C14.8507,135.4966,17.4057,135.4948,20.9352,137.3686 C21.9195,139.1902,24.7459,140.2749,23.7177,144.315 L23.6772,155.7731 C24.0124,157.3586,24.3358,157.8503,23.0329,158.1962 C21.6219,158.4623,20.7606,158.1269,20.8335,158.0039 C20.5566,157.5452,19.2932,155.1088,20.5935,154.2147 C18.9475,155.634,15.4557,155.9962,12.3139,156.0947 C6.3534,156.5193,1.034,153.4994,0,147.5745 C-0.9153,142.1061,3.9345,137.9504,10.834,136.7808 M13.9807,139.1195 C8.0261,139.6862,4.6873,142.9681,5.0351,147.0914 C5.7086,151.4541,9.4789,154.0572,15.4492,154.3297 C20.2343,154.6058,24.1684,151.8003,24.3664,147.7226 C24.6693,143.4493,20.51,139.9232,15.5041,139.6103 M32.577,129.3174 L34.113,130.0102 L34.0786,139.131 C36.3453,136.6633,37.0463,136.7426,40.1613,136.5575 C46.5023,136.4659,52.4091,140.3002,50.5396,136.4961 C51.3016,136.9691,53.4409,139.2602,53.8283,139.7673 C55.9017,143.8194,56.5408,147.6836,56.8034,149.3174 C57.0985,154.0032,52.7345,157.8612,46.7472,158.0126 C42.5177,158.3511,37.217,156.2166,34.8498,155.4144 L33.8186,157.3383 L33.3764,158.7587 L29.4815,158.7583 L28.9019,130.9534 L29.4334,128.7379 L30.7684,128.6346 L30.6656,129.5296 L30.198,130.6702 L30.1279,129.164 L32.0085,128.1375 M44.8857,139.1658 C38.7668,139.571,36.0608,141.9056,34.5954,146.4673 C33.872,150.8111,34.6376,152.7783,35.122,152.4503 C37.2336,153.9912,41.8744,154.4497,46.9262,154.496 C51.3176,154.7745,54.679,151.8292,54.1206,147.3525 C53.4543,143.6186,49.8568,140.6616,45.1843,140.2045 M77.4328,135.2002 C81.554,135.2042,81.9999,135.2025,85.3051,136.3687 C86.2906,136.7126,86.1124,136.6853,88.7984,140.1668 L84.8213,141.8113 C83.2085,138.6551,82.9997,139.2897,81.8167,138.5219 C79.8179,137.1882,80.0218,137.1368,76.0594,136.9537 C72.4205,136.9185,72.4332,136.9132,70.0322,138.2132 C67.5158,139.9181,67.0779,139.518,66.0938,142.5677 C65.3058,144.0177,65.6792,143.9996,65.4264,146.6058 C65.2392,147.6169,65.2201,147.6386,65.3845,150.3533 C65.5288,154.236,65.7273,153.6814,68.4944,155.9704 C71.4048,158.1313,71.498,158.1949,76.2583,158.1155 C80.5485,158.1004,80.0577,158.0888,83.1727,156.8283 C85.9149,155.6691,86.0846,155.6805,87.9123,153.569 L89.6996,155.2934 C87.3378,157.9262,86.7125,158.2096,84.2987,159.1893 C81.5975,160.5273,81.0996,160.5819,76.5095,160.2462 C71.7219,159.6656,71.6036,159.6828,68.0844,157.9864 C64.4927,156.1848,64.1494,156.1576,62.5539,152.9095 C61.2311,150.874,61.3841,150.925,61.3388,147.7395 C61.0906,144.0347,61.3176,144.0712,64.6328,141.4081 C68.2203,138.4308,68.5276,138.3205,70.4586,138.0516 C73.3378,137.5184,73.1429,137.5182,76.8891,137.5286 M95.7074,131.4359 L106.3796,131.4874 C114.054,131.4818,112.6466,131.4867,117.5955,133.7585 C123.1056,136.7084,123.5455,136.9035,123.2318,142.9769 C122.6782,149.8944,122.9319,149.3941,117.2622,154.1513 C111.7635,158.693,111.6785,158.7359,103.4592,158.7586 L94.2423,158.7588 L94.235,127.0157 M103.8353,129.9823 L98.5266,129.9855 L98.5104,153.2222 L102.9216,153.2241 C108.7705,153.2238,109.2358,153.2172,113.851,149.9007 C118.5834,146.4836,118.6972,146.4775,118.3309,140.6804 C117.7857,135.7378,118.0499,135.8508,113.0202,132.507 C108.9448,129.6481,108.8202,129.6282,102.837,129.682 M139.7583,135.2047 C144.6214,135.2085,144.8226,135.207,148.4135,137.2148 C152.9793,139.6908,153.1139,139.3964,152.9712,143.9746 L127.9709,144.0059 C128.1782,148.805,128.5552,150.0146,128.6365,150.2636 C129.9701,154.5106,129.5158,153.9316,133.7227,155.3831 C136.8,156.2796,136.888,156.2873,140.8957,156.3587 C145.4711,156.4178,145.1181,156.4093,148.0618,155.381 C151.1649,154.3253,151.4637,154.3127,152.9088,151.9358 L154.3276,153.4288 C151.9889,156.6287,151.5029,156.158,148.7644,157.9191 C145.7123,159.9457,145.6393,160.0028,140.7098,159.6171 C135.7235,159.026,135.7387,159.0588,132.2473,156.4786 C128.6081,153.3519,128.3015,153.6513,127.7672,148.8121 C127.3028,144.3146,127.5951,144.4385,130.157,140.1718 C133.5063,135.8408,133.5963,135.768,135.2292,135.3938 C137.8927,134.6104,137.5607,134.581,141.0609,134.6742 M140.7649,136.9229 C136.8868,136.9233,137.6457,136.9243,134.8789,138.1972 C132.2511,139.4907,132.1349,139.4802,131.1824,142.1567 L151.4491,142.1603 C150.8638,138.2395,150.5644,138.9045,148.822,137.5874 C146.2813,136.0489,146.5052,136.0229,141.6603,136.2616 M160.8298,129.0379 C162.7135,129.0421,163.8541,129.0401,169.0548,129.9966 L169.1912,134.9675 C167.2373,134.3376,164.4427,134.1567,162.3461,134.1647 C160.2586,134.602,159.0417,137.7194,159.0183,138.5177 C159.569,139.2289,162.6535,141.8472,163.1547,141.5864 C164.4053,141.7489,166.0311,141.2908,166.5258,141.6087 C166.8108,143.3901,165.8609,145.0506,165.1666,145.2731 C163.7536,145.5427,161.8103,145.4718,161.9598,145.289 C161.9778,146.9473,161.7513,148.8153,162.0123,148.0836 C162.3322,149.5856,162.2848,150.7937,161.8833,150.0575 C161.3838,151.9487,160.7019,153.4697,160.9971,152.8132 C161.3118,153.9704,160.9997,154.6349,161.8208,154.3345 C162.2437,155.3597,161.6908,156.1799,162.2918,155.9308 C162.5731,156.9732,161.3844,157.8792,162.5105,157.7129 C162.7558,158.4478,161.3652,159.1206,162.5438,159.2089 C162.4204,159.4793,160.1629,160.0499,162.0297,160.6866 C161.5216,160.983,158.8516,161.4158,161.1737,161.8116 C160.8851,162.0304,158.6582,162.1666,160.5073,162.3098 C160.3547,162.3299,158.4296,162.3624,159.8498,162.0445 C159.8399,161.7246,158.4437,160.1862,159.7499,160.8704 C159.9319,161.0463,158.5667,160.7907,159.4323,160.4503 C159.6587,159.9347,158.8488,159.2049,159.5371,158.7507 C159.5945,158.1908,158.901,157.5149,159.639,157.0556 C159.7077,156.5327,159.1071,155.7604,159.8081,155.3432 C159.8364,154.7964,159.2629,153.9966,159.9614,153.5272 C159.9652,153.0222,159.409,152.2368,160.1355,151.8482 C160.1107,151.3417,159.5906,150.5188,160.3439,150.1686 C160.3025,149.6597,159.7631,148.857,160.5663,148.4816 C160.502,147.9944,159.8814,147.2129,160.7731,146.793 C160.6853,146.2933,160.0386,145.5205,159.7919,145.1112 C159.1396,144.5162,158.6792,143.6351,158.863,143.3245 C158.77,142.8812,158.456,142.1397,159.0567,141.828 C159.0751,141.3931,158.7148,140.6956,159.4927,140.2969 C159.4407,139.8223,159.0151,139.0191,159.9493,138.65 C159.8537,138.1649,159.3484,137.379,160.5092,136.9765 C160.5467,136.4748,160.1524,135.7428,160.294,135.3163 C160.3109,134.6429,160.4621,133.5402,161.4446,133.3459 C162.1697,132.9559,162.5744,132.4212,163.1948,132.5294 C164.0112,132.5921,163.8847,131.8652,164.2786,131.6829 C164.7984,131.1096,165.1305,130.6631,165.407,130.4602 C165.8214,130.0122,165.7577,129.7858,165.9435,129.8093 M179.8136,135.3248 C182.8297,135.3292,185.2991,135.3274,185.3092,136.9861 C185.2082,137.8956,184.5511,138.5721,183.7132,138.641 C181.9575,138.6708,182.1445,137.9319,180.86,137.8407 C177.2406,137.5962,172.7387,137.6155,175.1465,140.2017 C176.3646,143.8839,178.3514,147.5713,180.2595,153.5358 C182.3277,157.6804,184.2909,158.8755,186.2035,159.8514 C188.2764,160.8226,189.3708,157.828,190.0236,158.2773 C190.9399,157.1772,190.6053,156.1864,190.6987,158.3943 C191.0334,159.2148,189.9502,159.0806,190.0417,161.1475 C189.9934,163.255,190.5533,163.9451,190.3,164.9325 C189.5945,166.0829,187.31,166.9508,187.3996,166.3909 C187.3705,165.6715,187.849,164.9112,189.1277,162.4665 C189.9305,160.1031,190.5138,158.6634,190.3353,155.3595 C189.8563,152.719,186.7513,150.2819,188.4547,149.8921 C188.8474,149.4055,187.4809,148.5198,189.3923,148.8728 C191.0436,149.182,191.5012,150.1736,191.5331,150.4381 C192.2411,151.3882,191.9471,155.0102,191.3576,154.1785 C189.8244,153.5118,186.9327,152.7044,189.076,152.124 C190.1471,151.7107,190.0682,150.4682,190.6915,151.0864 C191.1187,151.7808,191.4946,152.3768,190.8682,154.2347 C189.9794,156.3152,186.8559,160.0271,187.2364,159.4148 C187.8157,159.0041,188.0861,158.3255,188.018,156.3602 C187.6555,154.5699,184.5787,154.049,186.3454,153.5569 C187.0556,153.2151,186.4434,152.2398,187.9119,153.0446 C189.1488,153.8441,189.4362,154.6831,189.2142,155.4828 C188.629,156.7321,185.5872,157.4546,186.2458,158.3741 C186.5361,159.2563,187.2862,159.5754,188.3365,159.3106 C189.7676,158.8965,189.9542,158.2115,190.1109,156.2121 C190.0705,154.3462,187.4098,153.3129,188.6554,151.6646 C188.6856,150.4274,186.9344,149.778,184.3545,149.6986 C180.2521,149.4958,177.1221,150.6715,177.5427,150.9699 C178.0202,151.616,178.5839,152.0437,179.1656,152.1825 C180.4927,152.5067,181.4319,152.5417,181.1386,152.5771 C180.4306,152.7765,179.9638,152.7016,179.6621,152.5294 C178.6293,152.1281,178.3757,151.7897,178.6858,151.3787 C179.0295,150.8633,179.7195,150.5708,179.988,150.4968 C180.5841,150.2242,180.1894,150.0815,180.3114,150.0497 C180.7579,149.7696,180.4535,149.6016,180.2661,148.8779 C179.7617,147.9698,178.0086,147.5121,178.3872,146.4601 C178.4396,145.4913,178.7725,144.9849,178.7798,144.8841 C178.5024,144.3975,176.5632,144.1011,177.4399,143.3374 C177.5651,142.5539,177.4111,142.1113,176.6005,142.1424 C174.6824,142.1642,172.5799,143.0015,173.7266,145.6263 C174.4279,147.7764,176.84,151.1492,177.3786,151.1539 C177.9393,151.1532,180.411,151.8626,178.7856,151.2711 C177.6614,150.7973,176.2704,151.5832,176.3117,151.2979 C176.0703,150.8664,176.7006,150.633,176.8228,150.532 C177.0634,150.2783,177.7716,150.5561,178.5303,150.4492 C180.2809,150.2639,180.1797,150.2113,180.916,150.9255 C181.424,151.6446,181.8094,153.1636,181.542,154.8225 M196.3815,129.8497 C197.037,129.8543,197.4393,129.8524,197.8121,130.465 C198.2011,130.9996,198.2365,131.2231,198.2193,131.9145 L198.1756,140.0383 C199.7202,139.2501,200.5641,138.3686,210.8549,137.1661 C215.1413,136.5165,217.1041,136.083,220.0359,136.5254 C221.6264,136.9136,222.1281,137.2853,222.8202,140.4643 C223.0814,142.7719,223.3452,144.394,222.9861,146.3185 C222.6784,148.2058,222.8398,153.5156,222.1678,153.0326 C221.3528,154.8446,220.8532,155.5701,220.6862,154.5463 C220.2163,153.7496,220.3382,151.5363,220.6591,151.4401 C221.3605,149.2697,221.6799,147.5109,221.8781,144.1999 C221.8179,142.0073,222.0392,140.676,221.003,138.28 C219.4858,136.4108,215.8542,135.6582,216.3681,135.4305 C215.0455,134.9686,211.3721,135.8951,207.5742,136.1719 C203.2137,136.5962,200.1625,137.6775,199.9888,139.5564 C199.7167,140.5321,199.6029,146.5036,199.9744,153.2351 C199.9214,154.1735,199.7293,154.7263,198.9987,155.8239 C198.2406,156.5382,197.873,156.8554,197.0641,156.7471 C196.1644,156.544,195.9216,155.5461,196.0685,154.0508 C196.211,152.415,196.1817,142.0744,196.0808,133.4233 C195.9844,132.1377,196.1589,130.5271,196.3675,129.804 C196.609,128.9129,197.1556,128.5733,197.9495,128.5765 M232.5812,132.9014 C234.1332,132.9058,234.2929,132.9041,238.549,133.8843 C239.6969,134.1452,239.7692,134.1237,238.3353,139.9205 C237.2176,144.0576,237.2828,144.4603,236.5416,149.0223 C235.8709,154.1503,235.8297,154.1741,235.7639,157.0064 C235.4386,158.6643,235.3254,158.893,235.0886,159.6955 C234.8436,160.7223,234.8179,160.5395,233.539,161.1186 C232.2794,161.4777,232.2299,161.6044,230.9148,161.4159 C229.5891,161.2201,229.5343,161.2116,228.595,160.2096 C227.6845,159.2227,227.6286,159.2095,227.5215,157.69 C227.4096,156.177,227.3628,156.1688,227.6606,153.6981 C227.9671,151.2032,227.962,151.1959,228.3721,148.9792 C228.7687,146.739,228.7602,146.7374,228.9873,144.6509 C229.2249,142.5843,229.2192,142.5769,229.2135,140.9857 C229.1883,139.3969,229.1421,139.3871,228.8821,138.2657 C228.6297,137.1457,228.5828,137.1342,228.3008,136.5422 C228.0213,135.9433,227.9796,135.9334,227.8515,135.5572 C227.7187,135.162,227.6893,135.1546,227.9192,134.8437 C228.1363,134.5005,228.1394,134.4917,228.6505,134.305 C229.1534,134.1002,229.1519,134.0948,229.8644,134.0274 C230.5793,133.9466,230.5705,133.9436,231.3273,133.9647 M252.9109,132.9254 L260.0548,133.819 L260.1285,139.6805 L259.0448,143.0745 L258.6498,147.2286 L258.7512,151.7173 L258.8075,155.9623 L258.3727,160.0746 L257.0307,163.5554 L255.8407,166.3504 L250.6671,168.4779 L245.0659,167.5648 L243.0845,164.7142 L243.21,161.5217 L245.2501,158.6702 L247.3244,158.7121 L247.7001,160.3618 L247.5247,162.0874 L247.6907,163.7736 L248.3421,164.7026 L248.9996,164.8846 L249.4935,163.0251 L249.5082,159.8645 L249.424,157.3112 L249.413,155.1355 L249.2917,151.9669 L249.2468,149.3578 L249.075,146.1322 L249.0122,142.8214 L248.7331,140.3914 L248.9436,137.7768 M268.3494,129.6926 C269.0347,129.6972,269.5363,129.6954,270.0592,130.3282 C270.6382,130.8857,270.7036,131.1289,270.7008,131.8898 L270.6723,142.7264 L284.0732,133.8393 C285.4019,133.2341,285.3387,132.7839,286.0306,132.6258 C286.5586,132.367,287.1963,132.3112,287.9722,132.2403 C288.5543,132.1958,289.2651,132.2242,289.8955,132.379 C290.5505,132.5615,290.9906,132.8529,291.1792,133.3449 C291.1674,133.7745,291.307,134.2564,290.906,134.6883 C290.5618,135.1448,290.0135,135.5634,289.4555,135.9128 L278.2647,144.238 L292.9945,157.4045 C293.316,157.8422,293.729,158.1669,293.8461,158.5782 C293.9428,158.9921,293.8747,159.4599,293.6544,159.7884 C293.4153,160.1438,292.9911,160.3799,292.5494,160.5401 C292.1057,160.7017,291.7166,160.7147,291.2342,160.6828 C290.4746,160.6657,290.282,160.4521,289.523,160.1897 C288.8715,159.9333,288.3082,159.5895,287.7484,159.1883 L271.8887,147.0367 L269.9307,158.4117 C269.6524,158.9635,269.661,159.3343,269.046,159.6791 C268.5454,160.0358,268.0104,160.0874,267.3748,160.1823 C266.7593,160.2388,266.3232,160.05,265.7658,159.7887 C265.2716,159.522,265.0491,159.0675,264.8704,158.4591 L264.664,134.189 C264.4478,133.5638,264.8371,133.1314,265.2643,132.7329 C265.6924,132.3465,266.2314,132.1495,266.7049,132.162 M299.5839,128.8419 L308.265,128.8884 L308.1015,157.1186 L298.3816,157.1114 L300.2069,127.4364 M327.0147,135.8354 C330.9436,135.8396,331.3178,135.838,333.5235,137.5883 C336.2205,135.9069,336.5244,135.3472,338.8415,135.932 C342.5259,136.4508,341.8377,136.295,344.3905,137.9785 C346.7023,139.5038,346.7003,139.5015,347.9549,141.8118 C349.1857,144.1326,349.1723,144.0834,349.2008,147.1239 L349.1883,159.6377 L345.4963,159.6372 L345.4863,147.301 C345.2706,144.6502,345.477,144.5696,344.1646,142.393 C343.0188,140.3691,342.9374,140.3594,340.8489,139.3514 C338.7956,138.3646,338.7182,138.3533,336.3501,138.4267 C334.0357,138.5052,333.9892,138.4939,332.4889,139.7749 C331.0123,141.0402,330.9724,141.0329,331.5119,143.2894 C331.692,143.9991,331.6601,144.0273,332.9809,157.6823 L329.4549,157.6842 L328.9293,144.3015 C328.6661,141.3116,328.8011,141.2531,327.2567,139.1622 C325.8463,137.2413,325.7626,137.2304,323.3442,136.8999 C320.9751,136.6143,320.9205,136.6063,319.2566,137.6781 C317.5905,138.7172,317.5313,138.7127,316.7866,140.8975 C316.0473,143.086,316.0063,143.0676,316.2323,145.9161 L316.8958,158.1351 L313.4973,158.1332 L312.8005,137.27 L316.4737,136.7333 L316.418,140.942 C317.925,138.2083,318.2815,138.3103,319.6887,137.7446 C321.2987,137.1821,321.298,137.1755,323.3185,137.2571 M367.5917,135.4752 C372.5677,135.4793,372.6323,135.4775,375.4836,137.6564 C378.4814,140.1016,378.4274,139.9754,378.5086,144.6942 L378.4801,158.0585 L374.4356,158.0588 L374.427,145.7353 C374.1945,142.4651,374.4053,142.3568,372.4163,140.0319 C370.4458,137.8381,370.3519,137.8189,366.7992,137.7696 C362.7743,137.7697,363.1552,137.7621,360.6319,140.4067 C358.2212,143.0278,358.1484,142.9511,357.8844,147.4232 L357.8667,158.6365 L353.7471,158.6368 L353.7362,136.4352 L357.2909,136.4359 L357.2757,141.0928 C359.1599,137.7514,359.6995,137.9295,361.568,136.5503 C363.781,135.2414,363.7786,135.2233,367.9602,135.2367 M397.9749,134.9571 C403.8316,134.9613,404.0011,134.9597,408.0544,137.7428 C412.7809,141.0997,412.391,141.053,412.5965,146.5573 C412.6161,151.8197,412.6524,152.0616,407.8955,155.4657 C403.559,158.64,403.4452,158.6215,397.4099,158.695 C391.3425,158.6946,391.4155,158.6884,387.4183,155.5965 C383.2172,152.2838,383.067,152.2802,383.044,146.9893 C382.8018,141.5685,383.0504,141.7303,387.079,138.3462 C391.1903,135.149,391.1582,135.1363,397.0584,135.1437 M396.9763,137.6359 C392.5632,137.6367,392.7233,137.6279,389.8262,140.3294 C387.0248,143.0141,386.9327,143.0554,386.9334,147.2319 C386.7631,151.4004,386.9167,151.4123,390.0831,154.1548 C393.1419,156.8613,393.1407,156.8644,397.5127,156.8944 C401.8935,156.8949,402.0789,156.8865,405.0935,154.1764 C408.1612,151.5255,408.1418,151.5272,408.1486,147.4093 C407.9497,143.3791,408.1534,143.4688,404.8889,140.5421 C401.8266,137.6607,401.6957,137.6516,397.1331,137.6784 M433.7761,135.1124 C439.0022,135.1163,438.9666,135.1147,442.0082,137.8385 C445.2539,140.8067,445.2007,140.7166,445.2936,145.9184 C445.3111,150.8484,445.3315,151.1287,441.5815,154.66 C437.8862,158.2233,437.7784,158.1583,432.0367,158.2496 C427.5477,158.2636,427.9765,158.2573,425.1235,157.0575 C422.4333,155.8426,422.3408,155.8257,420.9992,153.1996 L420.9847,167.744 L417.1498,167.7442 L417.1319,134.7148 L421.2887,134.7151 L421.2093,138.9319 C423.3832,136.0718,423.9927,136.1615,425.8452,134.8687 C428.1465,133.6704,428.5558,133.6511,432.2719,133.6613 M430.8852,136.8618 C427.2034,136.8626,427.2085,136.854,424.4309,138.7555 C421.6811,140.6472,421.5982,140.6442,420.7974,144.1636 C420.487,145.0984,420.5161,145.1358,420.7361,149.1777 C420.9788,153.1523,421.1532,153.3793,423.8113,154.9788 C426.3271,156.4966,426.5067,156.5362,430.645,156.4447 C434.8362,156.3989,435.1107,156.3813,437.2611,154.1209 C439.5958,151.8461,439.5833,151.8347,439.6647,147.8821 C439.4979,143.6765,439.725,143.6877,437.2992,141.1567 C434.8706,138.5911,434.7702,138.572,430.503,138.5371 M463.4983,135.3994 C466.6879,135.4038,469.5417,135.402,473.2408,137.5657 C474.0383,138.0544,474.5681,139.8695,473.5662,136.1105 C473.2612,135.1584,473.2658,134.438,473.2973,134.9256 L475.6992,162.4481 C475.7149,164.4927,476.209,168.5717,475.3395,166.8432 C473.9573,166.1047,472.2854,163.295,470.9926,164.196 C469.6131,164.6963,468.7088,164.4343,468.9515,165.1834 C469.4532,165.7954,470.2534,166.0881,469.905,165.4922 C469.4098,164.6692,469.4399,160.3162,469.8208,156.165 C468.4663,157.4747,464.9008,158.1537,461.3725,158.967 C455.5633,160.2677,450.0534,155.6041,449.829,148.3889 C449.2372,141.6172,454.9155,136.3236,462.5377,135.4747 M464.6836,138.0598 C458.1541,138.3161,455.142,143.0024,456.3368,147.1532 C457.1037,152.2678,461.9875,155.2941,467.2273,155.3082 C471.6604,155.5586,475.5244,152.365,475.8027,147.8742 C476.0798,143.2849,472.0418,138.5442,466.5863,138.6129 M481.3004,135.4025 L498.2006,135.4533 C502.0092,135.4514,501.1308,135.455,503.2439,136.6838 C505.2726,137.95,505.2677,137.9413,505.4071,141.0307 C505.3113,143.7866,505.4688,143.3836,502.1174,145.5953 C499.1407,147.6001,499.0671,147.6124,495.5763,148.0776 L503.6703,158.9894 L498.8727,158.9925 L491.0988,148.363 L484.6926,148.3652 L484.6802,159.4518 L480.3455,159.4529 L480.3381,136.4606 M493.3413,139.8338 L484.9637,139.8364 L484.1238,147.47 L490.4211,147.471 C494.4632,147.4707,493.6647,147.4636,496.5904,146.658 C499.7339,145.7946,499.8644,145.7782,499.9097,143.5629 C499.7307,141.6715,499.9136,141.6212,497.8713,140.5535 C496.0644,139.5775,495.9819,139.5697,493.15,139.5933 M524.1052,134.9006 C526.6667,134.9047,528.8456,134.9031,529.0662,135.8655 C529.1851,136.4175,529.655,136.9038,528.257,138.0876 C527.0006,138.2464,525.6439,136.9424,525.2689,137.5573 C523.2318,138.0522,521.4882,139.7795,520.888,140.6337 C520.1738,141.842,524.1782,142.5581,528.3903,144.6183 C533.6048,146.4795,536.6324,148.8563,536.6834,153.1711 C536.6399,157.7645,530.8979,160.4671,523.7019,160.7941 C518.3134,161.1074,512.9623,159.1197,511.0761,157.5946 C510.1839,156.9193,511.4656,155.6317,511.2314,154.9279 C511.4272,154.2055,513.7745,153.8826,517.0685,154.1173 C520.0931,154.8064,523.0375,156.1869,523.4803,156.0602 C526.0844,155.5593,528.0187,154.0538,527.8723,151.999 C527.4015,149.7093,521.9824,148.0839,516.8064,147.5684 C511.9961,146.9193,509.2065,144.5385,509.9425,141.3635 C510.9376,137.9642,515.4601,136.0463,520.8411,136.2994 M556.8304,133.3909 L556.8022,140.2927 L561.8131,140.2634 L561.5386,145.5563 L556.6154,145.5479 L556.1478,156.1254 C556.3896,158.0227,556.5668,157.6182,559.0696,158.5701 C560.3691,159.0442,561.4875,159.2318,562.4496,159.4011 L558.2285,162.6281 C555.7955,162.7033,555.0708,162.6987,551.1051,161.7959 C547.1287,160.7699,546.6192,160.2906,545.1378,159.2279 C544.7447,155.7691,544.7583,153.5624,545.6202,148.3508 L542.6682,146.8864 L541.2189,144.7717 L543.0411,137.7725 L548.9281,136.4309 L553.3089,135.2358 L557.2096,134.758 M568.5057,136.1535 L569.8995,136.8849 L569.8762,150.8039 C570.2234,154.1248,569.997,153.4034,571.2014,155.8284 C572.3065,157.9452,572.3109,157.9414,574.2317,158.9707 C576.1976,159.9854,576.2009,159.9825,578.7178,160.0063 C582.0527,160.0065,581.4886,159.999,584.2119,159.2248 C586.8229,158.4049,586.8063,158.3994,588.5824,156.8177 C590.3927,155.2088,590.3784,155.1986,590.8291,152.9673 L591.094,139.8066 L593.3565,139.1744 L593.3071,155.4089 C593.0767,158.1265,593.2824,158.6959,592.3498,160.2732 C591.5081,161.8367,591.4605,161.8284,589.9117,162.9899 C588.365,164.1419,588.2964,164.1345,586.1117,164.8095 C583.9252,165.4692,583.85,165.4625,581.2345,165.4819 C578.3764,165.4825,578.391,165.4754,576.0013,164.8214 C573.6312,164.1565,573.5469,164.1441,571.6675,162.8099 C569.8122,161.4785,569.7199,161.47,568.563,159.4553 C567.4391,157.4461,567.3624,157.4384,567.272,154.8558 L566.985,141.1451 L569.5781,140.6484 M606.7349,135.7347 L616.2416,151.941 L623.4363,135.359 L628.9727,135.3503 L616.7086,159.7238 L610.2904,159.7221 L597.892,136.3232 L603.3027,135.6244 M638.5294,135.5672 L643.0585,135.6219 L648.4324,151.4243 L653.8631,135.4228 L658.3923,135.4243 L664.6632,153.0959 L671.1244,136.6402 L676.0695,136.6394 L665.2239,161.8163 L660.9807,161.8189 L653.7963,144.811 L646.9523,161.6009 L643.1227,161.6045 L633.5081,138.5955 L637.5149,138.1735 M684.3015,135.3712 L690.2134,135.4145 L696.9884,143.6452 L704.6293,135.4902 L711.0664,135.4899 L699.6389,146.3136 L712.0948,159.0906 L705.8429,159.0931 L696.2023,149.6312 L686.9089,158.6474 L680.605,158.6503 L693.2443,147.0476 L682.349,136.0136 M717.7673,135.8968 L722.459,136.741 L726.6618,150.7289 L732.3977,152.7283 L737.3011,139.2551 L742.5054,136.6131 L737.614,142.8674 L732.5035,162.4378 C731.0195,168.3687,727.588,171.5876,722.619,170.4263 C719.9829,169.8314,718.3093,167.4043,717.6971,166.0662 L721.2643,164.0987 C722.248,166.0239,724.1165,167.1735,724.3982,167.4188 C726.1161,168.0229,729.1459,165.0785,729.0044,163.8791 L725.0856,152.2699 L717.3317,137.6889 L716.6302,136.2059 M748.9063,135.4127 L773.8955,135.4703 L774.6175,136.557 L754.342,155.9196 L764.0705,155.9175 C767.8669,155.9134,771.64,155.5031,770.7028,154.6193 C770.267,153.9526,768.9839,153.5565,769.1686,151.9682 C769.1035,150.99,769.5814,150.5889,771.1373,150.8827 C772.5333,151.4424,773.1845,152.3539,773.5594,154.0839 C773.8008,155.6512,773.3835,157.7285,772.8522,158.4327 C770.7235,159.0139,771.0549,159.2546,747.79,159.0551 L747.0408,157.544 L769.4034,136.6218 L756.8731,136.6411 C754.059,136.6524,751.822,138.6649,751.3831,139.6502 C750.6305,140.48,750.3132,141.0833,750.0882,140.7324 C749.4724,140.1349,749.663,138.4727,750.2341,137.3622 C750.6354,136.2037,751.2225,135.496,751.8845,134.1023\" fill=\"rgb(40,40,40)\"/>\n<path d=\"M11.8037,188.5064 C14.717,188.5106,17.2365,188.509,20.6738,190.5323 C21.6061,192.396,24.1954,193.5548,23.112,197.5157 L23.0777,209.5082 C23.4353,211.1776,23.8411,211.7204,23.2335,212.0506 C22.2826,212.3844,21.5148,212.4962,21.4135,212.3105 C20.5803,211.8829,20.4795,211.3646,20.8522,209.6645 C19.4293,211.2208,15.7819,211.3063,11.6525,211.4279 C5.2423,211.4674,0.4426,208.3678,0,202.2531 C-0.6161,196.2576,4.0237,191.8757,12.5591,191.1776 M13.7211,193.5289 C7.3352,193.9377,4.3862,198.0935,5.4373,201.8727 C6.5471,206.4264,10.1444,209.1239,15.6018,209.6679 C20.0195,210.1062,23.7981,207.0914,24.0154,202.8142 C24.3569,198.2346,20.6454,194.1085,15.4052,194.082 M29.2485,181.2526 L30.3947,181.8745 L30.3668,192.1464 C32.5076,189.5816,33.1155,189.6167,35.8619,189.5021 L47.1304,189.493 C49.0546,190.4405,51.7402,193.3462,52.9089,194.4004 C54.3567,197.4255,54.855,202.9577,54.8509,203.3312 C54.3798,208.351,50.1733,211.4416,44.2882,211.5443 C40.5452,211.5518,35.6755,209.7006,33.8119,209.2166 L32.4297,211.1671 L32.4126,212.488 L29.0563,212.4878 L28.7683,184.3735 L28.5508,181.9532 L30.6375,180.9955 M43.2077,193.9077 C38.4802,193.9062,34.5915,196.8514,33.639,201.6856 C33.2506,206.2426,34.0562,208.3735,33.5847,207.8091 C34.547,209.85,38.268,210.6142,42.7991,211.1611 C47.3101,211.0108,51.1267,207.8438,50.4695,202.8862 C49.7715,198.9131,46.4007,195.3816,42.1279,195.1859 M73.1936,188.2522 C77.1886,188.2563,77.6031,188.2544,80.791,189.5069 C81.7364,189.8886,81.5679,189.8557,81.224,193.4437 C79.9557,192.2995,79.8275,192.2346,76.2582,192.6355 C73.5991,191.1419,73.1819,191.8648,71.2758,192.7509 C68.0368,194.4072,68.7262,193.826,66.7233,197.7635 C65.0346,201.0162,64.9994,201.043,65.1228,204.4198 C65.1414,207.7544,65.3207,207.8319,67.7389,209.9639 C70.3234,212.123,70.4736,212.0743,74.81,212.1343 C78.6098,212.1743,78.243,212.1661,81.2443,210.1925 C82.9149,208.7748,83.6686,208.86,83.6131,209.6057 C83.0618,212.6431,81.1296,211.8078,79.6852,213.0035 C76.8709,214.4114,76.9826,214.4871,73.1589,214.4363 C68.022,214.3982,67.9365,214.3906,64.2484,212.0724 C60.3913,209.5701,60.1307,209.5462,59.3863,204.9075 C58.6597,200.5857,58.9886,200.7407,61.4439,195.8584 C64.3671,191.1629,64.5201,191.1649,66.3283,190.2248 C69.2812,188.8656,69.0541,188.8385,73.2091,189.0303 M88.8463,183.4464 L98.3435,183.4987 C105.8743,183.4986,104.4164,183.4974,109.4984,185.6455 C114.7643,188.3098,115.3192,187.9163,115.3874,194.3816 C115.2947,201.6253,115.4499,200.9234,110.4292,206.0187 C105.3054,211.1083,105.2044,211.1772,96.7444,211.3747 L88.1572,211.3957 L88.1486,180.0206 M97.2371,182.8428 L91.9729,182.8462 L91.9568,207.4417 L96.311,207.4434 C102.0999,207.4432,102.6064,207.4366,107.2307,204.1903 C112.025,200.7656,112.1644,200.7522,111.7562,194.6911 C111.1957,189.5544,111.474,189.6658,106.5891,186.0396 C102.4861,182.9021,102.3735,182.8847,96.3078,182.9266 M130.9575,188.2498 C135.7365,188.2536,135.8927,188.2522,139.2993,190.4276 C143.4868,193.042,143.022,192.7642,143.4936,197.4565 L124.7818,197.4288 C124.4338,200.3397,124.4767,199.2761,124.5502,201.9659 C124.6305,204.458,124.6448,204.4579,125.2466,206.9655 C125.8747,209.3675,126.1308,209.3677,127.3712,211.4163 C128.6988,213.3261,128.7023,213.3245,130.7936,214.2972 C132.8494,215.2474,132.8621,215.2436,135.2395,215.2289 C138.5297,215.2295,137.9625,215.2215,140.9559,213.3858 C143.9328,211.5891,143.9197,211.5895,145.6929,208.7767 L147.2056,209.957 C145.3451,212.9291,145.1565,213.1716,142.3359,214.6127 C139.5367,216.0282,139.4613,216.0218,135.8182,216.04 C131.9013,216.0405,131.8652,216.0336,128.9555,214.7034 C126.0925,213.4195,125.9879,213.4105,123.9796,211.2123 C122.0095,209.0819,121.9033,209.0721,120.9222,206.3137 C119.9583,203.6498,119.8778,203.65,119.9229,200.7697 C119.7302,197.9404,119.9257,197.9629,121.0386,195.559 C122.2182,193.1662,122.2035,193.1588,124.2637,191.4491 C126.299,189.7464,126.2884,189.742,128.9827,188.8257 C131.6358,187.9083,131.6292,187.8982,134.622,187.9077 M134.5138,189.8808 C131.7228,189.8813,132.2794,189.8724,130.3243,190.8697 C128.5004,191.8131,128.4225,191.8063,127.1841,193.3385 C125.9507,194.8006,125.8955,194.7941,125.4209,196.619 L143.2462,196.6191 C142.7619,194.8277,142.6174,194.3466,141.6771,193.091 C140.7398,191.8075,140.6669,191.799,139.2704,190.9009 C137.8905,190.0297,137.8151,190.0189,136.0905,189.7635 C134.4258,189.4894,134.3488,189.5149,132.8187,189.5139 M166.2886,180.8648 C167.9217,180.8689,168.9735,180.867,173.1168,181.7729 L173.2554,186.9041 C171.4963,186.3607,168.8843,186.1592,167.0528,186.159 C165.1367,186.5749,164.1144,189.5826,164.0854,190.3871 C164.5892,191.0237,167.5333,193.4219,168.1159,193.4698 C169.388,193.4996,170.7964,194.1101,171.5148,194.3861 L169.2565,198.0577 C168.1441,197.9223,166.5247,197.6061,166.9028,197.756 C167.1344,200.1233,167.3697,203.3254,167.4955,210.4288 C167.1243,214.5478,164.0747,216.7423,160.4686,216.4247 C157.701,215.996,155.6896,210.4781,156.372,210.878 C156.844,208.4945,157.2567,205.6569,157.0442,198.7456 C156.319,196.3558,154.8865,194.4205,153.9889,195.45 C153.4312,195.3745,153.2963,193.2316,152.9784,193.2464 C152.9351,191.9484,154.5261,190.8211,152.5056,191.1858 C152.275,189.3623,153.3969,188.0733,151.8738,187.8815 C152.0655,185.5317,154.6861,184.1212,151.9228,184.2749 C151.9646,182.6053,154.4168,181.9177,151.741,181.2021 C152.8452,180.3624,157.4195,179.5629,163.3366,179.888 M189.4903,188.3498 C192.4268,188.3541,194.8875,188.3525,194.8171,190.1191 C194.7152,191.0529,194.0034,191.755,193.1502,191.8336 C191.4839,191.8738,191.619,190.3749,190.3583,191.018 C186.0782,192.0117,181.4031,197.2265,180.2721,198.8343 C178.4857,200.9055,178.877,203.1619,179.6202,206.8875 C180.1829,210.6559,183.3886,213.0118,188.7139,213.1713 C192.6936,213.3712,196.3802,212.1092,196.4766,209.3369 L196.4668,198.4073 C196.4441,196.5091,195.4105,194.5146,194.831,194.6375 C193.5513,194.6765,192.9465,194.7107,192.9409,194.6379 C192.6708,194.3351,193.008,193.5426,193.1653,192.9104 C193.2047,192.1318,193.8476,191.7596,194.9516,191.8273 C196.7618,191.9519,199.8127,192.1324,199.5119,192.1213 C200.2395,192.1231,200.5411,192.2912,201.9177,193.6782 C202.9156,194.7676,203.4745,195.6808,203.2199,196.6702 C202.7738,197.6634,202.3968,198.304,202.3202,201.683 C202.0623,204.6631,202.3013,209.5837,202.3867,209.7357 C202.8424,212.6127,202.6257,214.3395,203.5745,213.8311 C204.0529,213.517,204.4887,213.2923,204.6798,213.3613 C204.9894,213.3935,205.3018,213.9562,205.3877,214.226 C205.5829,214.8849,205.0731,215.3309,204.4025,216.745 C202.9993,218.1755,200.5235,219.7873,197.9244,219.9623 C194.7778,220.1715,191.9331,217.3944,192.9056,215.5489 C192.6965,214.5104,190.6367,214.3073,193.958,213.6667 C193.8277,213.3842,191.4756,212.6443,189.2685,212.6154 C182.9511,212.1325,178.3253,208.2377,177.7909,202.0699 C177.2047,195.6456,181.8778,190.2238,189.6111,189.6612 M209.9232,181.608 L210.9244,182.1747 L210.9085,193.9021 C212.9907,191.1889,213.6422,191.3865,216.71,190.8699 C221.1832,190.5198,225.9154,190.5048,224.4167,190.6602 C225.5263,192.109,228.3244,195.2915,229.5465,195.9655 C231.582,197.5221,232.7147,202.6666,232.8476,203.3525 C233.197,207.3059,233.229,210.1052,232.9755,213.5162 C232.5944,213.9322,231.3001,214.0601,231.8336,213.9917 C232.0695,212.4711,231.5112,210.4156,231.9391,212.2156 C231.9584,212.83,230.8446,212.0056,231.5399,213.395 C231.6209,213.8557,230.9352,214.3071,231.4633,214.4256 C231.7682,214.6025,231.3619,213.1301,231.5811,214.0818 C231.5312,214.3851,231.297,214.8944,231.0505,215.0474 C230.1892,215.1966,228.8016,214.9139,229.6845,214.3102 C229.7427,210.9175,229.606,207.4937,229.7396,210.5172 C229.8324,208.6526,229.7405,206.746,229.6364,208.577 C229.5253,207.3983,229.4669,205.8279,229.5465,207.6962 C229.6643,207.5455,229.6324,204.5996,229.4957,206.3655 C229.4103,206.209,229.334,203.2807,229.3449,204.9582 C229.3114,202.9817,228.8602,201.5308,229.2102,202.7956 C229.2617,202.3604,228.2802,199.3486,228.9725,200.7262 C229.0898,199.0715,227.9097,197.7854,228.7416,199.2474 C228.8606,199.123,227.5145,196.9736,228.4037,198.2258 C228.5674,198.1829,227.2425,196.1487,228.0957,197.4231 C228.2151,197.4181,226.7035,195.4178,227.7533,196.7531 C227.8751,196.7638,226.3351,194.8955,227.5028,196.2102 C227.6468,196.1797,226.1529,194.2635,227.3219,195.6144 C227.4779,195.6071,225.9038,193.7489,227.1581,195.0243 C227.3577,194.9662,225.8704,193.2203,227.0792,194.3755 C227.308,194.3235,225.8503,192.6433,226.994,193.7446 C227.256,193.6897,225.8183,192.006,226.9348,193.1272 C227.1929,193.0316,225.7546,191.3628,226.8825,192.4729 C227.17,191.4922,225.7532,190.726,226.7808,191.8167 C227.0429,191.7465,225.6035,190.2439,226.5988,191.1938 C226.9096,190.273,225.574,189.6158,226.4775,190.643 C226.7528,190.5952,225.2651,190.238,226.2198,190.1183 C226.3801,188.9743,225.0283,188.5884,226.2764,189.6088 C226.4292,188.7577,224.9073,188.154,225.9308,188.9814 C226.1352,188.0671,224.7899,187.4217,225.619,188.3029 C225.818,188.1646,224.2846,186.7346,225.0694,187.5776 C225.2924,186.6075,223.723,186.1934,224.6236,187.0019 C224.8493,186.9047,223.3324,185.775,224.155,186.5205 C224.4647,185.6892,223.0102,185.4553,223.8823,186.1773 C224.1602,186.1064,222.8167,185.3539,223.5791,185.9242 C223.9886,185.8546,222.7736,185.3197,223.5935,185.8351 C224.0409,185.1722,222.9929,185.3614,223.7506,185.7299 C224.1664,185.0612,222.9835,185.1944,223.8252,185.4761 C224.2512,184.747,223.1235,184.9066,224.0073,184.9753 C224.3863,184.1508,223.1273,184.1804,224.2153,184.2314 C224.6075,183.962,222.9705,183.1714,224.4599,182.9489 M242.3116,182.8973 C243.8345,182.9015,243.9281,182.8997,247.4555,183.8825 C248.6463,184.1934,248.6699,184.1637,250.8554,185.731 C249.9667,188.7222,249.6765,187.5708,247.5987,190.5038 C245.4736,192.9979,245.4783,191.7023,243.9882,194.8342 C243.343,195.7473,243.4532,195.4297,242.3508,197.7608 C241.2918,200.0682,241.2504,198.6409,240.9027,201.1509 C241.2016,201.8662,241.4402,201.8171,242.6272,203.2131 C243.9042,204.4831,243.9044,204.4819,244.7688,205.1441 C245.8008,205.9946,245.9242,205.9555,246.9983,206.6592 C248.119,207.3261,248.1419,207.3227,249.0738,208.0484 C249.1971,209.3685,249.0961,209.0621,247.5465,210.1114 C246.1141,211.0672,246.0561,211.0615,244.809,211.3553 C243.1663,210.4527,242.9408,211.057,242.26,210.1133 C241.5478,209.18,241.4937,209.1347,240.4521,207.9408 C239.1684,206.3807,238.9946,206.1973,238.4715,204.8866 C237.9444,203.5611,237.8861,203.5427,237.6977,201.624 C237.5255,198.2541,237.458,199.0871,237.511,197.362 C237.5607,195.778,237.587,195.7602,237.7559,193.7481 C237.9854,191.7751,237.9892,191.7586,238.2702,189.9771 C238.5608,188.1769,238.554,188.1703,238.8399,186.693 C239.2816,185.2095,239.2626,185.1838,240.1773,184.2992 C241.1186,183.4354,241.1043,183.4055,242.2857,183.459 M266.5817,182.7661 C268.2314,182.7706,268.4055,182.7688,272.6246,183.6058 C273.7651,183.833,273.8519,183.8074,275.8248,189.2132 C275.2739,193.8191,275.089,192.5316,271.7432,195.9246 C270.0004,199.1536,268.6111,197.5079,266.6396,200.1127 C266.0357,200.5222,266.2211,200.5851,264.0545,202.2276 C263.7212,201.3619,263.8706,201.916,262.1388,201.6195 C261.8405,198.5461,262.0123,196.9934,260.683,200.8928 C260.7651,198.7793,260.8382,200.0256,259.8768,199.0689 C260.5795,194.9554,260.8096,196.4339,262.1721,193.9783 C263.3404,191.4344,263.274,191.0447,264.5437,189.8856 C264.6679,188.3618,264.5257,188.4042,263.8857,187.9621 C263.1834,187.4556,263.1402,187.4233,262.1742,187.2874 C261.3936,186.1646,261.2977,186.5427,260.7005,185.465 C261.3145,184.0148,261.5184,184.0327,263.1837,183.7093 C263.7857,183.5595,264.5186,183.5642,265.4057,183.5028 M272.1568,200.1041 C272.8961,200.1049,273.0875,200.0978,272.8737,202.5621 C272.5041,204.5561,272.7211,204.8834,271.891,207.6789 C271.135,210.307,271.0966,210.7313,269.8144,212.6156 C268.2324,214.6477,268.2373,214.8451,265.8225,215.9285 C263.4713,216.6807,263.5347,216.9494,261.1316,216.9264 C258.7294,216.9224,258.9055,216.915,257.6276,216.2396 C256.3812,215.4107,256.3236,215.4014,255.7519,213.9973 C255.2262,212.6065,255.1716,212.5875,255.3908,211.4591 C255.6174,210.3445,255.6559,210.3257,256.5382,209.5919 C257.4623,208.8655,257.4636,208.8581,258.544,208.935 C259.7091,209.0309,259.6339,209.0227,260.3764,209.6276 C261.0807,210.2096,261.0817,210.2039,261.3251,210.9208 C261.5641,211.6112,261.5663,211.606,261.7147,212.1414 C261.8715,212.6408,261.8754,212.6349,262.1192,212.8621 C262.3675,213.077,262.369,213.0693,262.7463,212.9771 C263.1221,212.8812,263.1258,212.8698,263.8059,212.2835 C264.4785,211.692,264.4783,211.6839,265.0554,210.5897 C265.63,209.4839,265.6269,209.4728,266.1003,206.4014 C266.6158,203.1111,266.6695,203.0994,267.2988,201.7549 C267.9772,200.4814,267.977,200.465,269.5308,200.4106 C270.0754,200.3678,271.1432,200.3647,272.0348,200.3572 M289.444,181.5344 C290.1088,181.539,290.4507,181.5371,290.8184,182.1197 C291.2066,182.6284,291.2149,182.7977,291.2069,183.4824 L291.1744,196.5474 L304.9091,187.0632 C306.2286,186.4864,306.0292,186.0468,306.6785,185.8649 C307.1397,185.6647,307.7203,185.5095,308.4348,185.391 C308.9098,185.2877,309.6224,185.2403,310.2925,185.1875 C310.9632,185.1344,311.5379,185.1577,312.2171,185.1008 C312.63,185.0759,313.247,185.1141,313.6733,185.2691 C314.1099,185.442,314.3279,185.6738,314.3593,186.1237 C314.2072,186.6558,314.2586,186.9515,313.5498,187.1776 C312.9537,187.4108,312.281,187.6258,310.9104,187.8818 L299.8448,195.6031 L313.8553,209.5897 C314.1685,210.0371,314.5771,210.3363,314.7941,210.644 C314.9824,210.9687,315.0985,211.2977,315.2306,211.6422 C315.1892,211.9763,315.3776,212.343,315.3003,212.664 C315.2346,213,315.0386,213.3214,314.6686,213.5301 C314.3292,213.7287,313.9658,213.7677,313.2822,213.8812 C312.678,213.9838,312.1375,213.9711,311.5716,213.9476 C310.856,213.9468,310.7153,213.8039,310.0054,213.5836 C309.43,213.3796,308.9061,213.0639,308.3934,212.5859 L293.3157,197.7702 L291.3746,210.0414 C291.122,210.5489,291.2549,210.9003,291.1584,211.1594 C291.0774,211.4382,290.9043,211.6798,290.733,211.9568 C290.5492,212.218,290.3079,212.4367,289.9436,212.709 C289.5877,212.9795,289.1501,213.032,288.5859,213.2025 C288.0638,213.3212,287.7142,213.2053,287.1622,213.1996 C286.6366,213.2,286.3369,213.0803,285.956,212.7674 C285.6248,212.4999,285.4533,212.0602,285.3392,211.5451 C285.2449,211.0564,285.2782,210.5033,285.1848,209.7876 C285.1141,209.1074,285.1765,208.5278,285.0367,207.9705 C284.9287,207.4317,284.8439,206.8527,284.7658,206.4987 C284.7026,206.1392,284.7256,205.6332,284.5702,205.3793 C284.4454,205.1077,284.3372,204.6939,284.2422,204.482 C284.1604,204.2559,284.1707,203.8829,284.008,203.6412 C283.8675,203.3841,283.7646,203.0018,283.6587,202.7476 C283.5623,202.4777,283.5592,202.0938,283.41,201.7927 C283.2849,201.4882,283.2017,201.0928,283.0925,200.7703 C282.9987,200.4456,282.9852,200.0267,282.846,199.685 C282.7257,199.3357,282.6454,198.9091,282.5366,198.5434 C282.4416,198.1771,282.421,197.7303,282.2852,197.36 C282.1663,196.9854,282.0843,196.5355,281.9774,196.1336 C281.8832,195.7278,281.8627,195.2446,281.7302,194.8352 C281.6164,194.4175,281.5443,193.9354,281.4388,193.4638 C281.3494,192.9774,281.3295,192.4364,281.2015,191.9467 C281.0908,191.4586,281.0308,190.9356,280.9169,190.3804 C280.8194,189.8163,280.7852,189.2248,280.6521,188.6832 C280.5367,188.1336,280.466,187.5968,280.3602,186.9862 M321.3084,180.8065 L329.1023,180.8506 L328.9365,211.0216 L319.8357,211.0142 L321.6926,179.405 M347.286,188.8104 C351.1097,188.8148,351.4775,188.8132,353.5918,190.593 C356.1354,188.9856,356.4067,188.4239,358.6879,188.9768 C362.2986,189.4851,361.6192,189.324,364.1645,190.9651 C366.4318,192.4752,366.4322,192.4748,367.6968,194.78 C368.9295,197.0305,368.9171,197.035,368.9664,200.0978 L368.9551,213.9113 L365.4373,213.9107 L365.4274,200.6673 C365.1929,197.9227,365.4022,197.8512,364.0756,195.6505 C362.9307,193.6243,362.8457,193.6139,360.7924,192.5711 C358.7716,191.5504,358.689,191.5395,356.3402,191.6092 C354.0583,191.6825,354.0386,191.6717,352.579,192.9657 C351.1654,194.2396,351.1217,194.2297,351.6759,196.519 C352.0091,197.2594,351.8456,197.2884,353.0602,211.803 L349.8612,211.8047 L349.3476,197.6735 C349.0777,194.5633,349.2065,194.5019,347.6858,192.3683 C346.3031,190.4072,346.2184,190.3985,343.8576,190.0092 C341.5473,189.6592,341.4848,189.6515,339.867,190.6366 C338.2733,191.5958,338.2143,191.5919,337.4529,193.7086 C336.6999,195.7876,336.6527,195.7908,336.8131,198.5784 L337.5005,211.8985 L334.3371,211.9852 L333.6377,190.3232 L337.0337,189.8351 L336.9746,194.0747 C338.4246,191.2824,338.7445,191.4404,340.0709,190.9195 C341.596,190.345,341.5955,190.3378,343.544,190.41 M387.1071,188.4387 C392.0808,188.4429,392.1242,188.4411,394.9004,190.7392 C397.8002,193.2623,397.7484,193.157,397.79,197.9573 L397.7604,211.8985 L393.8818,211.8982 L393.8718,198.9064 C393.6523,195.5368,393.8577,195.4324,391.8548,193.1043 C389.8597,190.9342,389.7595,190.9183,386.1644,190.8832 C382.1135,190.8837,382.5895,190.8765,380.1009,193.6092 C377.7015,196.3017,377.6231,196.2286,377.441,200.8373 L377.4232,212.5063 L373.5126,212.5064 L373.5018,189.5399 L376.7922,189.5407 L376.7949,194.1444 C378.6257,190.8127,379.1387,190.9927,380.9495,189.5417 C383.1385,188.2331,383.1314,188.2171,387.1852,188.2284 M416.8885,187.9689 C422.6087,187.9731,422.7526,187.9715,426.6153,190.9048 C430.7977,194.3569,430.7428,194.321,430.8725,199.9059 C430.8858,205.3748,430.9005,205.5698,426.3061,209.0875 C422.1186,212.409,421.9961,212.3993,416.1008,212.4511 C410.1964,212.4504,410.3269,212.4438,406.4417,209.1104 C402.4751,205.6636,402.3176,205.6656,402.3255,200.2984 C402.1008,194.8345,402.3392,194.9955,406.3109,191.4702 C410.3006,188.1229,410.2647,188.1132,415.9871,188.1416 M415.9119,190.5474 C411.545,190.5482,411.7098,190.5393,408.9049,193.4053 C406.1886,196.2086,406.1069,196.2469,406.1242,200.5997 C405.9537,204.906,406.1075,204.9104,409.1239,207.762 C412.0893,210.5828,412.0862,210.5888,416.3938,210.5968 C420.7103,210.5976,420.8707,210.5893,423.6261,207.7082 C426.4475,204.9427,426.4288,204.9425,426.4467,200.7203 C426.2562,196.5578,426.4515,196.6297,423.4203,193.5614 C420.5202,190.5222,420.3861,190.5164,415.9191,190.5331 M451.9369,188.102 C457.1046,188.106,457.0749,188.1043,460.0732,190.9758 C463.2477,194.0918,463.1916,194.0091,463.2626,199.3732 C463.2777,204.4993,463.2929,204.7818,459.6181,208.4678 C455.978,212.1893,455.8665,212.118,450.1247,212.2247 C446.234,212.2419,446.0773,212.2355,443.2881,210.92 C440.5564,209.5913,440.4619,209.5765,439.1732,206.8234 L439.1583,221.723 L435.4167,221.7229 L435.4079,188.0464 L439.264,188.0466 L439.1909,192.3518 C441.3134,189.41,441.9398,189.498,443.7771,188.1881 C446.0561,186.9442,446.4336,186.9251,450.045,186.9388 M448.7385,190.0547 C445.0105,190.0554,445.0531,190.0468,442.316,192.071 C439.6114,194.1163,439.53,194.1118,438.8883,197.8853 C438.6488,198.8361,438.6684,198.8697,441.0558,203.2904 C443.5579,207.3401,443.8406,207.4345,448.6898,208.1989 C452.5077,208.5118,452.3204,208.3155,453.9931,206.5407 C455.7635,204.6568,456.0566,204.635,455.9661,200.6133 C455.8409,196.3201,455.9013,196.3714,453.6927,193.6822 C451.4898,191.0126,451.3879,190.999,447.6315,190.9745 M477.2292,188.4098 C480.3315,188.4143,483.1581,188.4125,486.6646,190.7163 C487.4668,191.2429,487.9452,193.0208,487.0084,189.1049 C486.7496,188.1552,486.7619,187.4333,486.821,187.9072 C487.6074,188.4806,487.9521,188.8675,489.1345,215.6195 C489.4917,216.66,489.4997,221.4188,488.9187,219.5863 C487.576,217.0075,486.1705,214.0471,487.4351,207.4686 C486.752,207.3353,483.2895,207.8908,479.4059,208.6531 C473.6231,210.1277,468.4031,206.4079,467.798,198.6093 C467.0314,191.7538,472.4752,186.7663,479.768,185.9512 M480.8757,188.3206 C474.5907,189.0064,471.8266,193.8359,472.8429,198.3831 C473.4767,203.8751,478.1024,207.3304,483.6368,207.3017 C487.6936,207.3013,491.4441,204.4972,491.414,200.04 C490.8321,195.0063,486.868,189.7091,481.9654,189.4626 M496.7999,188.4818 L512.4564,188.5313 C516.3455,188.5292,515.4614,188.5329,517.6411,189.8053 C519.6227,191.0968,519.6165,191.0917,519.7352,194.1989 C519.6298,197.0233,519.7898,196.6315,516.4295,198.9216 C513.4268,200.9858,513.3504,200.9919,509.8376,201.4626 L518.0858,212.7168 L513.6343,212.72 L505.4683,201.5118 L500.0447,201.5144 L500.0321,213.2365 L495.9619,213.2376 L495.9494,189.0843 M508.0672,192.3033 L500.5926,192.306 L499.7087,200.504 L505.1655,200.5044 C509.3914,200.5041,508.5924,200.4971,511.5118,199.6567 C514.698,198.7588,514.8339,198.7428,514.861,196.3969 C514.6818,194.3874,514.8647,194.3536,512.8019,193.2343 C510.963,192.1981,510.8753,192.187,507.9005,192.2083 M536.9032,187.9252 C539.4075,187.9293,541.5237,187.9277,541.711,188.9246 C541.8145,189.4886,541.7878,190.0267,540.8028,191.1363 C539.7454,191.0363,538.5929,189.5865,538.5167,189.063 C537.146,188.2834,535.3729,187.9788,534.4532,188.2749 C531.886,188.959,530.3558,190.4628,530.9435,192.3658 C532.3995,194.045,535.3233,194.7736,543.5191,196.8907 C548.4073,198.4327,550.6393,200.8609,550.5111,204.79 C549.9687,209.5304,544.0654,212.3057,536.673,212.3169 C531.4636,212.3397,526.6285,210.5943,524.7129,209.3956 C523.8811,208.8668,524.2067,207.6797,524.5828,206.9088 C525.4983,206.2246,528.3317,206.2546,528.0065,207.0415 C528.5124,208.879,532.02,210.3247,536.7386,209.8711 C541.2249,209.4566,544.6651,207.5148,544.8178,204.701 C544.8742,201.932,539.7695,200.0821,534.2983,199.2594 C528.3374,198.1868,524.219,196.1046,524.2706,192.5697 C524.0262,188.7387,528.0414,186.3496,533.8076,186.161 M566.9302,185.4209 L566.8995,192.7914 L572.1672,192.7602 L571.9214,197.9631 L566.7982,197.945 L566.5702,209.0403 C566.9159,211.1154,567.0911,210.7495,569.0546,211.4544 C569.7095,211.6179,569.6735,211.9207,572.2317,211.7781 L572.0365,215.6834 C569.821,216.5282,569.2308,216.6707,568.0681,217.1502 C564.9811,217.8365,565.9667,217.8676,563.4274,218.0505 C560.2333,218.0052,559.7776,217.9119,559.2824,215.5957 C558.7204,213.6914,559.0346,213.7541,558.8953,210.1557 L558.8055,199.8458 L555.0466,199.8846 L555.3607,195.9616 L558.3667,195.7415 L558.9625,189.4143 L566.9214,188.0917 M578.0102,189.1591 L579.2231,189.8741 L579.2005,204.3218 C579.5239,207.8482,579.3205,207.0874,580.5235,209.6137 C581.6582,211.8916,581.6604,211.8877,583.6744,212.9935 C585.7049,214.0554,585.7119,214.0507,588.2408,214.0426 C591.5401,214.0428,590.9336,214.0354,593.647,213.1937 C596.2239,212.3147,596.2025,212.3099,597.9548,210.6317 C599.7384,208.916,599.7214,208.9053,600.0823,206.6655 L600.2393,192.6545 L602.2825,192.0555 L602.329,208.615 C602.1783,211.4041,602.331,212.0498,601.4438,213.5192 C600.6292,215.0563,600.5819,215.0474,599.0339,216.2243 C597.4788,217.3999,597.4155,217.3929,595.2017,218.0856 C592.99,218.7685,592.9166,218.7612,590.2666,218.7747 C587.3773,218.7753,587.3858,218.768,585.03,218.0747 C582.7049,217.3627,582.6142,217.3495,580.8188,215.9483 C579.0518,214.5538,578.9618,214.5486,577.9035,212.4771 C576.8756,210.4075,576.7996,210.4021,576.7839,207.794 L576.7671,193.6964 L578.9498,193.273 M614.9713,188.7512 L624.2285,206.124 L631.372,188.242 L636.6698,188.2321 L624.7925,213.5309 L618.9606,213.5286 L606.8644,189.0329 L611.8759,188.2874 M646.6552,188.6063 L650.6734,188.6612 L656.1575,205.1397 L661.3394,188.2212 L665.6864,188.2225 L671.8351,206.6451 L678.4542,189.7409 L683.0147,189.7403 L672.6432,215.2415 L668.4279,215.2445 L661.1504,197.8707 L654.2486,215.2797 L650.6014,215.2829 L641.2052,191.8596 L645.0038,191.4264 M691.0941,188.4305 L696.2638,188.4742 L703.2236,196.8919 L710.8788,188.5962 L716.7207,188.5963 L705.5075,199.6313 L717.6416,212.796 L712.1188,212.7981 L702.5514,202.9876 L693.2573,212.4242 L687.5501,212.4274 L699.7265,200.5734 L689.2118,189.4101 M726.9364,188.9102 L735.156,206.5707 L741.275,189.1358 L746.8184,189.1373 L736.3528,219.4619 C733.9747,225.391,730.9475,227.9029,726.0923,226.4906 C724.0621,225.7136,723.3446,224.3047,722.177,222.4299 L724.8257,220.0446 C726.2043,222.2635,727.8058,223.2032,729.08,223.0442 C731.7771,222.6851,734.8415,218.3614,735.1467,214.582 L724.446,191.0896 L728.7374,190.1396 M754.9555,188.4824 L779.1459,188.5403 L779.8641,189.6199 L759.7152,209.8531 L768.9534,209.8503 C772.8447,209.8455,776.6921,209.3935,775.8153,208.4759 C775.3544,207.8171,774.3404,207.393,774.2018,205.7689 C774.3139,204.7651,774.9063,204.326,776.4408,204.5718 C778.0223,205.1151,778.7378,206.1023,779.1356,207.9606 C779.3734,209.6229,778.9447,211.8242,778.3656,212.6749 C776.0858,213.2502,776.5624,213.4555,751.785,213.2621 L751.3539,211.8035 L773.5245,189.7849 L761.7931,189.8077 C758.9564,189.819,756.712,191.9215,756.2386,192.8989 C755.4881,193.706,755.1506,194.3629,754.9159,194.1513 C754.2456,193.7296,754.2833,192.3675,754.7469,191.2349 C755.2227,190.0238,755.9169,187.5291,756.4271,186.8139\" fill=\"rgb(40,40,40)\"/>\n<path d=\"M13.6592,241.5114 C16.5196,241.5157,19.0485,241.5139,22.3596,243.6333 C23.2157,245.5178,25.5172,246.7292,22.9251,250.5508 L22.8398,262.3156 C23.4461,264.1324,24.2548,264.7364,25.624,265.0177 C26.3931,265.2362,26.6734,265.4909,26.3152,265.7729 C25.2959,266.1269,23.0701,266.6682,24.3299,266.5124 C24.2409,266.1774,22.6265,265.4193,20.736,265.3825 C19.0508,265.3831,17.2992,265.5354,17.0236,266.1416 C16.0544,266.6776,14.1956,265.5351,15.7838,265.3502 C15.6199,264.9148,13.7579,264.5424,11.6074,264.3554 C6.8972,263.9872,2.9163,262.8017,2.1421,262.2637 C-1.0313,260.734,-1.6787,256.3455,0,253.636 C1.9267,250.5124,7.1112,248.1434,12.5768,248.403 C16.0377,248.7785,18.912,249.1455,19.5468,250.2183 C20.3753,250.3321,18.722,247.9633,16.0492,249.2155 C13.3179,250.1216,10.1425,250.2495,7.8742,251.234 C4.9961,252.2448,3.6795,253.2756,3.7365,253.7841 C4.1567,254.6666,6.7374,255.5369,10.4454,255.2434 C14.8811,254.9066,18.5211,254.0087,18.7791,252.4363 C19.5069,250.4069,18.7783,247.1795,18.2998,245.5704 C17.3126,243.3556,14.1662,241.7028,10.7346,241.6016 C5.9826,241.3007,2.9707,242.4828,2.6441,245.3678 C2.2431,246.6652,2.7323,247.8634,3.6556,247.8574 C4.6486,247.8577,5.2402,247.1972,5.3836,246.8638 C5.5959,246.3255,5.0312,246.2063,4.9195,246.9869 C4.3894,247.9144,3.5195,249.0224,3.5826,249.1416 C3.4179,249.8977,2.4588,249.8452,2.0535,249.1802 C0.6659,248.1863,0.654,246.108,1.6455,244.2001 C3.1147,241.6158,6.5119,239.9997,10.8472,241.0713 M37.2623,233.0133 L38.1553,233.5717 L38.1339,245.191 C40.1485,242.5928,40.776,242.5967,43.3386,242.7845 C49.8667,243.3847,55.5786,248.7053,53.6784,256.8406 C51.6583,263.9555,46.0791,267.5265,38.7146,268.233 C34.6806,268.5535,30.7523,265.3416,32.9459,264.682 L33.2881,243.1793 C32.7959,239.0307,31.8474,237.2773,30.8506,233.3492 L31.5471,232.7265 L30.994,232.1483 L34.1287,231.3618 M44.8931,245.3863 C39.2598,245.754,35.5774,249.5081,35.0642,255.1305 C34.4523,261.8744,37.5569,264.5308,43.3658,264.4477 C49.8177,264.4472,53.9469,259.7628,53.1356,253.8627 C52.0352,248.3567,47.7169,245.1813,42.8927,245.0772 M72.4723,241.2874 C76.4267,241.2915,76.8173,241.2898,79.8482,242.6218 C80.8015,243.0476,80.6299,243.0164,80.2566,246.676 C79.0764,245.6505,78.9824,245.689,75.7832,246.0182 C73.8489,243.6274,73.4811,244.5507,71.6991,244.6724 C67.652,244.7812,68.6468,244.7701,65.9603,246.3681 C63.4567,248.4212,63.0577,247.9477,61.8679,250.9735 C60.793,253.5527,60.7567,253.572,60.951,256.1946 C61.0745,259.6655,61.2428,259.3562,63.297,261.6368 C65.8497,264.2238,65.8025,264.3165,70.1351,264.4657 C73.7723,264.5673,73.5119,264.6565,76.538,263.5876 C79.3147,262.5805,79.551,262.5769,81.435,260.8832 C81.6174,262.4739,81.6472,261.9202,82.2858,263.7622 C77.9461,265.8174,80.6107,266.037,74.4733,266.4414 C69.1163,266.8093,70.0365,266.8064,66.7265,265.5076 C63.4504,264.1758,62.8915,264.16,60.6301,261.1944 C58.3934,258.2679,58.3046,258.2492,58.2139,254.4814 C57.9099,250.3313,58.157,250.4305,60.5452,246.6888 C63.0891,243.1222,63.0799,243.1064,67.0261,241.7553 C69.3572,240.8224,69.839,240.8618,72.9619,240.9873 M88.6341,234.9535 L97.2146,235.0036 C104.5075,235.0035,103.0564,235.0015,108.0487,236.9903 C113.1104,239.3875,113.7599,239.0766,114.261,245.0787 C114.4251,246.5173,114.6351,246.5506,114.3604,251.092 C113.7323,257.5843,114.0617,256.9907,110.4399,261.2711 C106.6329,265.8277,106.5539,265.7989,99.131,266.0915 C96.1547,266.175,96.6628,266.1689,93.9391,266.161 L86.8286,266.1586 L86.8213,233.0457 M95.5327,235.7942 L90.6609,235.7987 L90.6449,263.3321 L94.4563,263.3349 C100.6832,263.1529,99.3585,263.1702,103.6975,260.1643 C107.9005,256.9405,108.1062,256.9341,108.7581,251.4782 C108.9124,249.7112,109.1163,249.7535,108.8219,246.1116 C108.0837,241.2331,108.4398,241.5951,105.116,239.113 C101.847,236.5641,101.7299,236.5944,95.8901,236.7412 M129.0651,241.2757 C133.7792,241.2796,133.9366,241.278,137.1713,243.646 C141.0279,246.4054,140.7188,246.1437,141.0492,250.9763 L122.4015,250.9493 C122.1601,254.297,122.252,255.7663,122.3469,255.8883 C123.0608,259.9799,122.7608,259.2899,125.1828,261.7359 C127.8217,264.2961,127.8187,264.2222,131.905,264.2896 C135.9122,264.3161,135.5183,264.3072,138.383,262.7391 C141.171,261.2484,141.1565,261.2329,142.396,258.2585 L144.2639,258.6916 C142.5886,262.8656,142.386,262.2392,139.0847,264.9343 C135.7468,267.4458,135.6639,267.3887,131.3595,267.4508 C125.9308,267.451,125.9682,267.4452,122.5383,264.2076 C119.0231,260.7896,118.864,260.7763,118.8958,255.3621 C118.6808,249.8079,118.9076,249.9223,122.6259,246.2312 C126.4154,242.6159,126.3724,242.6078,132.0169,242.6714 M131.8943,244.5201 C128.2676,244.5204,128.4055,244.5125,125.8965,246.9 C123.4763,249.2073,123.4008,249.2014,123.2308,252.7855 L141.2587,252.7852 C140.8304,249.6728,141.2206,250.1941,138.9244,247.517 C136.6399,244.9181,136.5264,244.9043,132.1031,244.8927 M164.8835,232.6604 L170.5928,233.5442 L170.3825,238.5753 L165.1625,238.4427 L163.1809,241.2339 L167.3712,243.2881 L167.3607,247.514 L163.0958,247.7869 L163.0353,264.7376 L155.6104,266.832 L153.1994,248.2147 L150.3111,246.2203 L148.7994,242.5255 L151.8539,237.8668 L157.739,234.1504 L160.6647,232.0357 M186.3575,241.3463 C189.2097,241.3506,191.5957,241.3489,191.5439,243.1818 C191.5516,244.0816,190.6731,244.8246,189.6963,246.6273 C188.6322,245.6191,187.8286,246.9644,187.9146,242.4894 C185.9015,241.5299,183.5249,242.149,182.1257,242.641 C178.0397,243.6364,175.3849,249.9984,175.1282,252.0749 C174.5415,256.8215,176.6987,261.8823,184.2161,262.4004 C188.0762,262.9339,192.4363,259.9198,192.5819,259.376 C193.1786,255.5644,192.9472,252.2419,193.7781,248.3687 C194.3422,246.9091,195.3281,246.7473,196.6314,246.3742 C197.681,248.0187,198.1985,251.7489,198.3069,249.7656 C198.4758,251.1218,197.4079,253.732,196.0874,252.0471 C195.3294,253.0995,195.3726,254.9166,194.9669,253.1822 C194.7428,253.4207,195.6737,254.5888,196.7309,253.4573 C197.793,252.8056,198.1433,253.7077,197.8209,252.674 C197.3959,251.9111,197.4333,251.6514,197.62,252.8243 C198.6855,254.5692,199.9221,258.2858,199.8453,257.0246 C199.717,258.3015,199.6345,260.023,199.1915,259.3979 C198.4969,260.6357,197.7977,261.8278,198.3178,260.4504 C198.707,259.7664,198.2239,261.1773,198.7721,260.1381 C199.0616,259.3999,198.3896,260.4904,199.0758,259.6367 C199.4168,258.9948,199.6526,258.7946,199.7356,259.2033 C199.7249,259.8565,198.6332,263.2878,198.9031,261.9316 C198.941,261.2506,199.277,260.8032,199.4409,260.5369 C199.7282,260.095,199.1589,260.0123,199.7908,260.6619 C200.0435,261.3982,200.4113,261.8531,200.1596,263.6904 C199.6995,265.237,197.7476,265.9862,197.801,267.3009 C197.6088,268.2991,197.6222,268.6753,197.3567,269.312 C196.7204,269.9373,194.867,270.2568,195.2828,269.393 C195.4192,268.5942,195.7951,267.8856,196.0816,265.6778 C196.1171,264.1913,193.618,263.5819,196.0431,263.4151 C196.0972,263.2617,194.1279,263.2637,196.1741,263.1488 C196.7387,262.9733,195.0892,262.2782,196.9007,262.3438 C197.1826,262.5585,194.7903,262.4906,197.2265,262.8029 C197.9793,263.12,196.2785,263.1408,198.2255,262.5766 C198.9549,262.0204,197.2903,261.7175,199.4776,261.1676 C199.7555,260.7025,197.5662,260.5595,200.4559,260.562 C201.2,260.5656,199.6091,259.6359,201.0872,260.2032 C201.832,260.5904,199.7819,260.7226,202.0453,260.7723 C203.4271,260.8803,202.5918,259.5741,203.7436,259.5251 C204.2335,259.2681,201.7254,259.2006,204.3097,259.2886 C205.445,259.4763,203.7015,258.4739,206.0296,258.6603 C206.9129,258.8794,204.3555,257.9594,207.2355,258.3699 C208.2561,258.6779,205.7331,257.4258,208.9057,257.7924 C209.8144,258.0939,206.672,256.7801,210.4049,258.0222 C211.3547,258.6684,208.0583,258.8493,212.155,258.6344 C213.1287,258.2559,210.2852,257.8833,213.6579,256.4799 C213.7024,255.423,208.5442,254.9526,201.904,255.076 C194.0173,255.1216,189.1105,254.5284,190.5936,254.8179 C190.8547,255.1975,190.2211,252.7362,189.8706,253.5253 C188.4754,254.0284,188.5432,252.6322,188.7792,253.6276 M218.1933,233.2143 L218.9933,233.7263 L218.9813,246.5203 C221.0069,243.7519,221.6264,243.7805,224.4631,243.7851 L234.1032,243.7753 C235.2505,244.0139,237.6063,245.9295,238.5912,245.2939 C240.1456,246.2856,241.0094,247.8584,241.4321,246.1233 L241.7379,246.0079 L242.6023,245.6304 L243.4128,246.411 L244.0636,246.6362 L244.3808,246.7347 L244.6087,246.3766 L245.0088,246.4277 L245.2456,246.0675 L245.3828,246.3027 L245.5245,245.9141 L245.9742,246.0094 L246.1804,245.6498 L246.4136,245.6026 L246.71,245.2875 L247.008,245.3454 L247.1768,244.9119 L247.0911,245.4259 L247.1825,245.2083 L247.3578,244.7636 L247.5641,244.4049 L247.7151,244.131 L248.1679,244.0256 L248.3206,243.77 L248.5138,243.3426 L248.4107,243.5806 L248.5248,243.0873 L248.6351,242.6885 L248.7537,242.2605 L248.6462,242.3992 L248.8078,241.8646 L248.7296,242.0197 L248.7597,241.4389 L248.7372,241.3762 L248.9322,240.8808 L248.8564,240.8281 L249.0518,240.3482 L248.911,240.2711 L249.2126,239.853 L249.2134,239.7156 L249.5836,239.3851 L249.6742,239.1652 L252.1318,238.8183 L254.1371,238.804 L255.7218,238.6514 M264.4099,234.6267 C265.8941,234.6307,265.9656,234.629,269.2041,235.5378 C270.3368,235.8384,270.3355,235.8105,272.3773,237.3134 C271.4793,240.1047,271.2226,239.1313,269.1514,241.8952 C267.0122,244.2065,267.0448,242.8224,265.5597,245.7533 C264.7557,245.5471,264.7514,245.4779,263.8206,247.0526 C262.9264,246.8653,262.8884,247.2572,262.5177,249.2073 C262.5749,248.7544,262.6877,249.0094,262.208,249.5906 C261.7587,248.5053,261.7279,250.2154,261.398,250.1989 C260.5516,250.1995,260.4174,250.193,260.2572,249.0703 C260.1029,247.9033,260.202,247.8517,260.2578,247.1985 C260.4558,243.9306,260.3908,244.867,260.5938,243.0133 C260.903,241.1638,260.8785,241.0145,261.1941,239.0841 C261.5849,237.1468,261.5837,236.8098,262.5971,236.2271 C263.081,235.9902,263.4372,236.0052,264.1664,235.8614 M266.9341,250.1874 C268.1341,250.1874,267.8271,250.3618,268.17,252.1699 C268.1987,253.5401,268.4276,257.3734,268.3042,256.8296 C268.1478,259.0036,268.0907,259.9305,267.9742,259.9549 C267.7293,261.158,267.6579,261.8594,267.5593,261.5502 C267.288,262.1635,266.9752,262.2267,267.268,262.3015 C267.643,262.5096,267.7442,262.4708,267.7803,262.4761 C267.8416,262.4471,267.6031,263.1185,267.5994,263.2117 C267.3143,263.6979,267.1048,263.9273,267.0848,265.061 C266.8491,265.7605,267.1133,266.1613,266.8118,267.3277 C266.4171,268.0082,265.77,268.4104,265.4879,268.9432 C264.7041,269.3384,264.2759,269.544,264.0845,269.57 C263.2708,269.5704,263.1726,269.3425,263.026,268.2981 C262.6805,267.3562,262.9691,266.8706,262.7872,264.7122 C262.4583,263.0343,262.7475,259.3402,262.5386,260.1792 C262.1761,259.4748,262.0012,258.305,262.009,259.2181 C261.7803,259.6369,262.0135,258.2601,261.7717,259.1831 C261.4236,259.6011,261.6826,260.0117,261.2385,259.806 C260.5475,259.5744,260.3923,259.2901,260.738,257.5465 C260.7764,256.249,261.1698,255.6735,261.5188,253.4385 C261.5975,252.0415,262.0298,251.5939,262.6598,251.4327 C263.7566,251.2177,264.718,251.1587,264.9171,251.173 C265.5974,251.177,266.3389,250.7371,267.3255,250.9504 M287.2578,234.4722 C288.8211,234.4764,288.9753,234.4745,292.8392,235.2237 C293.8191,235.441,293.8371,236.1314,295.6234,240.6402 C294.8713,244.1589,294.615,243.2748,291.0295,245.9899 C288.6482,246.0316,287.7813,246.2043,286.0607,248.5505 C285.6305,247.4322,285.6794,247.7066,284.695,247.8708 C284.2095,245.4297,284.1168,246.9495,283.3946,245.4562 C282.9289,243.9319,282.9577,243.8152,282.1526,242.898 C282.2619,240.1805,282.3155,240.9437,283.3814,239.14 C284.9197,237.0227,284.7146,236.9287,286.2191,236.2437 M289.7667,249.1228 C290.9945,249.1227,291.3716,249.1158,292.6943,251.9356 C293.6087,254.665,293.8111,254.6998,293.8936,256.5487 C294.0158,261.5706,294.0234,260.0985,293.6005,263.2034 C292.9301,266.479,293.0423,266.8091,291.5011,270.0131 C289.7841,273.232,289.859,273.382,287.0849,275.204 C284.3309,277.0129,284.3712,277.0102,281.3913,277.1754 C279.4821,276.6803,279.1803,277.0554,278.0899,275.1302 C276.9736,273.4527,276.9134,273.4335,276.9127,271.7149 C277.0701,269.8275,276.9344,269.948,278.6934,269.2039 C280.0975,268.571,280.2936,268.5675,281.5785,268.6223 C282.5052,268.7167,282.4822,268.7073,283.3671,268.751 C284.2268,268.7919,284.233,268.7853,284.7008,268.7883 C285.7016,268.789,285.4642,268.7824,285.8615,267.4512 C286.2275,266.1899,286.2263,266.1718,286.1941,264.9764 C286.0224,262.2811,286.1824,262.9723,285.6961,261.3274 C285.2587,259.8804,285.2044,259.8644,284.1857,258.7434 C283.4694,257.6152,283.3627,257.5027,282.8497,256.6068 C282.3849,255.7178,282.333,255.704,282.3434,254.6513 C282.1636,253.5322,282.3445,253.4922,283.0921,251.7245 C284.3549,250.0304,283.8372,250.0102,284.8611,249.313 C286.3484,248.3546,286.4707,248.2909,289.7688,248.3508 M300.1589,233.2362 L301.3377,233.7871 L301.3272,250.7823 L316.2304,241.2727 L320.729,240.5418 L321.6511,244.5346 L321.9235,247.7568 L322.491,248.2854 L323.0687,248.7225 L323.8175,250.5283 L324.6374,252.6137 L325.4643,254.6263 L326.2534,256.4469 L327.0094,258.0712 L327.6712,258.6664 L328.3652,258.9781 L328.8995,259.2759 L329.3722,259.4083 L329.7359,259.5153 L330.0745,259.5117 L330.3513,259.4747 L330.6194,259.3427 L330.8155,259.1925 L331.0813,258.9637 L331.2949,258.7315 L331.5832,258.4216 L331.8476,258.143 L332.1986,257.8134 L332.5128,257.4963 L332.8748,257.1137 L333.1178,256.8249 L333.4004,256.3892 L333.5088,256.1866 L333.4995,255.7039 L333.5413,255.3126 L333.8163,254.806 L333.8627,254.6359 L333.9412,254.1379 L333.9772,253.9404 L334.1517,253.4327 L334.2718,253.2781 L334.4939,252.7691 L334.7548,252.6199 L334.9224,252.1119 L335.3259,251.9076 L335.6206,251.4094 L336.1927,251.1741 L336.6148,250.7117 L337.2778,250.4358 L337.753,250.0215 L338.3817,249.7767 M344.4213,232.6841 L351.662,232.7248 L351.4937,264.7297 L342.9171,264.7221 L344.7566,231.3781 M371.7726,241.7376 C375.499,241.742,375.8753,241.7404,377.9709,243.5254 C380.4133,242.0506,380.0635,241.4864,382.8276,241.9909 C386.7166,242.4918,386.1217,242.2784,388.5024,244.018 C390.6961,245.6337,390.6899,245.6357,391.6573,248.1392 C392.5957,250.5485,392.5802,250.5405,392.4967,253.7063 L392.456,267.6803 L389.1605,267.6812 L389.1476,254.2162 C388.8985,251.2938,389.1089,251.2329,387.7261,249.0344 C386.5272,247.0281,386.446,247.0156,384.3376,246.0327 C382.2659,245.0677,382.1837,245.0588,379.8455,245.1434 C377.65,245.2261,377.3422,245.2148,376.2162,246.4714 C375.0555,247.741,375.0107,247.7332,375.4482,250.1375 L377.0433,266.4721 L373.9414,266.4728 L371.8309,251.9018 C371.0188,249.1578,370.9255,249.1036,369.4078,247.4146 C368.0237,245.8772,367.9391,245.8674,365.9767,245.5196 C364.0297,245.1816,363.9692,245.1744,362.2364,246.0352 C360.5579,246.8754,360.5028,246.8707,359.7013,248.6525 C359.3196,250.4183,358.9733,250.4047,359.8312,266.7122 L356.9537,266.7451 L356.1974,243.5685 L359.3117,243.1966 L360.056,247.0017 C361.7256,244.2976,362.0057,244.4919,363.2434,243.3233 C364.7195,242.2334,364.7169,242.2173,367.3803,242.2196 M411.7556,241.3756 C416.6957,241.3798,416.7193,241.378,419.4374,243.8116 C422.2431,246.4017,422.1946,246.2899,422.2148,251.1488 L422.1889,266.0057 L418.406,266.0056 L418.3948,252.1495 C418.1938,248.7146,418.3916,248.6295,416.3965,246.2974 C414.4068,244.1139,414.3044,244.0987,410.7391,244.0749 C406.7133,244.0755,407.1723,244.0682,404.7167,245.5222 C402.4415,246.9127,402.359,246.9067,401.3911,249.7247 C400.5031,252.225,400.4541,250.8419,400.5314,255.1781 L400.5225,267.1942 L397.0322,267.1943 L397.0422,242.8853 L400.0532,242.8861 L400.0553,247.6113 C401.7093,244.2016,402.1272,244.4797,403.7817,244.0164 C406.6185,243.2216,406.1812,243.2089,409.5756,243.5066 M442.644,240.9489 C445.5769,240.953,448.3727,240.9515,452.0781,244.0391 C455.4795,247.1189,456.6276,249.6794,456.3219,253.647 C455.7215,258.6155,454.6118,260.1738,450.8025,263.2509 C447.6619,265.7884,445.1431,266.4991,440.5214,266.4927 C435.2923,266.4925,435.0204,265.3566,431.1838,262.3158 C428.1469,259.5522,426.6734,256.3166,426.7503,252.7086 C426.5088,248.7561,427.7308,246.4049,430.9582,242.9005 C433.9146,240.0623,437.1469,238.7266,440.8727,238.7712 M440.8155,240.9552 C436.5914,240.9559,436.3945,242.0444,433.5162,246.5014 C431.5468,249.3445,430.8902,252.1877,430.7692,255.5216 C430.5628,258.738,431.2461,260.4504,433.4743,263.2774 C435.5362,265.5606,437.7387,266.8134,441.2172,266.7842 C445.789,266.7849,447.6018,265.3054,449.2628,262.0565 C450.3392,259.6083,451.2406,256.5194,451.1798,253.7081 C450.8526,250.652,449.3391,248.0832,448.2171,245.543 C446.5438,242.8668,443.9758,241.1395,440.8355,241.2169 M476.9585,241.0906 C482.083,241.0947,482.0582,241.093,484.979,244.1092 C488.0783,247.3707,488.0355,247.2927,488.0791,252.8202 C488.0897,258.1616,488.1036,258.4368,484.5185,262.28 C480.9397,266.1552,480.8314,266.0695,475.1004,266.1915 C471.2285,266.215,471.1112,266.2081,468.3852,264.7713 C465.7469,263.3477,465.654,263.3316,464.5275,260.4426 L464.5122,275.6622 L460.8657,275.6622 L460.8573,241.2095 L464.4686,241.2098 L464.3982,245.5478 C466.4369,242.5216,467.0189,242.635,468.8569,241.3092 C471.0904,240.0749,471.0881,240.0572,474.9429,240.0686 M473.7171,243.0828 C469.9575,243.0835,469.9949,243.075,467.3037,245.2122 C464.6939,247.3717,464.6053,247.3707,464.117,251.3225 C463.9344,252.2857,463.954,252.3187,464.1198,257.0527 C464.3076,261.4062,464.4897,261.658,467.0146,263.2228 C469.3748,264.7395,469.4979,264.7691,473.3755,264.6864 C477.4749,264.6537,477.7546,264.637,479.8268,262.1835 C482.0954,259.7081,482.0838,259.6944,482.1791,255.4212 C482.0362,250.7943,482.2658,250.8204,480.067,247.9751 C477.8159,245.0348,477.7183,245.0141,473.3251,244.9587 M505.0246,241.3971 C508.0367,241.4015,510.792,241.3998,514.1918,243.7861 C514.9658,244.3179,515.4097,245.8315,514.5411,241.8781 C514.4722,241.0507,514.6076,240.4146,514.6472,240.8707 L516.6679,270.4664 C516.6506,274.2159,517.2387,276.6515,517.1247,275.137 C516.5173,275.2969,515.2559,274.7773,513.3527,275.597 C512.1349,276.1236,511.5657,273.543,511.6249,274.7426 C511.9548,272.8315,512.6781,270.5409,511.8119,264.4741 C510.5825,265.1273,507.1748,265.1102,503.4307,265.7196 C497.4893,266.5797,492.5447,261.6967,492.6145,253.8953 C492.4232,247.1883,498.0123,242.1993,505.0293,241.4663 M506.602,243.7452 C500.5158,244.1281,497.9283,248.7079,498.9593,253.0864 C499.5761,258.659,504.028,262.273,509.2725,262.6073 C513.1697,263.0366,516.7028,260.0545,517.0332,258.4436 C517.3197,252.2206,515.8177,248.2951,516.6878,245.9008 C514.8688,243.2993,511.0958,242.6433,508.0994,243.0459 M539.929,241.5331 C542.9165,241.5369,542.9805,241.5351,546.4736,242.8932 L544.8393,248.5738 C542.6983,247.2365,542.5073,246.9733,541.8937,247.2664 C540.2184,247.6267,540.83,247.7217,539.3327,249.6627 C538.0233,250.2059,538.3594,250.3885,536.5096,252.0259 C536.2295,252.4841,536.6324,252.6248,538.876,253.4338 C541.4358,254.3892,541.3688,254.2814,542.9405,254.8621 C544.4846,255.5973,544.5699,255.764,545.4091,264.7564 L539.456,264.7602 C539.1436,260.3345,539.0199,258.5831,538.9181,254.4012 C538.3846,250.0971,538.8421,251.213,534.0045,250.2227 C531.3459,249.9228,530.902,249.8858,529.3279,250.1486 C527.9489,250.5258,527.7927,250.399,527.3026,253.2366 C526.8325,255.4864,526.9174,255.5639,526.9337,257.5023 C526.7877,260.4778,526.9373,260.0999,527.3281,263.0962 C527.5092,265.0629,527.7655,265.1002,524.5198,265.808 C523.3327,263.3653,523.0802,265.0109,521.6602,262.908 C522.4005,258.3018,522.4738,259.8093,522.8112,257.0178 C523.3632,254.1412,523.251,254.0426,523.3528,249.5716 C523.2602,245.4141,523.4921,245.3422,523.1852,243.5512 C523.0943,242.3405,523.0068,242.4335,523.1894,241.7498 C524.1005,241.2925,524.3452,241.309,526.9575,241.2575 C527.8757,242.4818,528.0739,243.3231,529.0702,243.9213 C530.3669,242.4588,530.4282,242.9907,533.0791,241.8236 C535.8323,240.694,536.0363,240.6777,538.5932,240.6892 M562.4217,240.9517 C564.8971,240.9558,566.9043,240.9542,567.1584,241.9811 C567.2675,242.5211,567.3003,243.0572,566.4101,244.1688 C565.4229,244.1052,564.4312,242.6816,564.2444,243.6524 C562.8859,244.3042,561.5325,245.1691,560.909,246.1124 C559.8165,247.2805,562.2539,249.0922,565.2872,250.4405 C569.8699,251.8205,574.3746,253.6653,573.2243,257.2804 C571.9804,261.5934,566.992,264.3047,560.3624,264.3804 C555.9122,264.3807,551.9445,262.5216,551.009,261.507 C550.3089,260.8092,550.878,259.565,551.2822,259.0071 C552.2095,258.5216,554.9203,258.7943,554.6149,259.5591 C554.9702,261.1028,557.7644,262.2827,561.5246,261.7494 C565.3799,261.2039,568.3399,258.9943,568.4556,256.5064 C568.4459,254.0775,563.7271,251.965,558.9247,251.2143 C554.0832,250.3167,551.3328,247.8955,552.0977,244.7671 C552.9759,241.3831,557.2068,239.5588,561.6322,239.8078 M589.4516,237.1822 L589.4193,244.9352 L594.5443,244.9087 L594.5212,250.1164 L589.3873,250.087 L589.2424,261.9198 C589.5206,264.2059,589.3721,263.8185,591.4133,264.5014 C592.0745,264.624,592.0273,264.9719,594.3207,264.7193 L594.9707,268.8852 C592.7121,270.1965,592.1684,270.3833,590.9224,270.8962 C587.8257,271.6877,588.6521,271.7296,586.0585,271.8635 C582.7478,271.7983,582.3253,271.7478,581.8372,269.1081 C581.322,267.127,581.6161,267.1712,581.4718,263.0671 L581.3249,252.5476 L577.7598,252.5995 L577.8857,248.2968 L580.9897,248.1008 L581.1655,241.6858 L589.2451,239.5213 M601.17,242.1116 L602.2209,242.8172 L602.1995,257.8524 C602.5004,261.5386,602.3152,260.7534,603.5361,263.3961 C604.6739,265.7352,604.6778,265.7368,606.7562,266.8654 C608.8281,267.9768,608.8335,267.9726,611.3542,267.9479 C614.7135,267.9479,614.2093,267.9405,616.8272,267.0055 C619.3532,266.0428,619.3364,266.0354,620.9629,264.2232 C622.6161,262.3672,622.5997,262.3571,622.8206,259.9557 L622.8512,245.2656 L624.7001,244.7457 L624.7316,261.9415 C624.582,264.8172,624.7356,265.4797,623.7982,267.0096 C622.9399,268.591,622.8909,268.5829,621.2903,269.7593 C619.6927,270.933,619.6242,270.9282,617.3749,271.595 C615.1342,272.2523,615.0605,272.2446,612.4114,272.2524 C609.5788,272.253,609.5836,272.2456,607.3123,271.545 C605.0551,270.8277,604.9674,270.8162,603.2694,269.4013 C601.591,267.9993,601.4996,267.9919,600.5293,265.9041 C599.58,263.8199,599.5035,263.8125,599.5197,261.1789 L599.5061,246.5578 L601.4938,246.1684 M636.3044,241.7352 L645.613,260.4565 L652.7978,241.1202 L657.7738,241.1089 L646.3145,267.6649 L640.8729,267.6623 L629.2671,242.4403 L634.0079,241.7194 M666.6548,241.6024 L670.4308,241.6538 L675.9312,259.3438 L681.1207,241.3136 L685.2746,241.3153 L691.2512,260.6759 L697.6758,242.8783 L702.0537,242.8778 L692.3924,269.3112 L688.362,269.314 L681.5116,251.0182 L674.8794,269.0813 L671.3574,269.0844 L662.3092,244.9324 L665.5456,244.3826 M709.9547,241.4593 L714.6244,241.5032 L721.6227,250.1753 L729.3515,241.5556 L734.7811,241.5556 L723.5738,253.02 L735.5687,266.6749 L730.5888,266.6772 L721.0507,256.454 L711.7868,266.3086 L706.5892,266.3122 L718.3987,253.7195 L707.9892,242.0323 M742.6221,241.8899 L750.8554,260.7366 L756.8232,242.1643 L762.5081,242.1585 L751.2868,273.9965 C748.854,280.3917,747.9282,279.1725,746.4896,281.4014 C744.2888,283.7108,743.878,284.2581,740.3249,284.8596 L740.1042,281.9122 C742.7495,281.465,744.1564,280.7364,745.6341,278.967 C746.7769,277.216,747.7886,275.2095,748.5323,272.6699 L740.1184,247.6115 L744.1506,245.6958 M769.7976,241.5027 L793.4811,241.5612 L794.0878,242.6436 L773.632,263.9427 L782.4315,263.9399 C786.4904,263.9344,790.4514,263.458,789.5906,262.5323 C789.2635,261.8553,788.5235,261.3899,788.1414,259.6729 L790.4391,258.5693 C790.625,260.9193,790.7969,262.5927,791.6539,265.1011 L769.7182,265.3431 L769.0636,264.0323 L775.277,263.7542 L783.7164,244.0755 L776.1341,244.0773 C773.0623,244.8387,770.767,246.3121,769.6529,247.3022 C768.7556,247.9871,768.9802,247.4274,768.2622,248.6367 L767.0435,248.8326 C767.8984,247.05,768.5728,243.2481,769.6081,240.627\" fill=\"rgb(40,40,40)\"/>\n<path d=\"M13.4277,294.5493 C16.2085,294.5536,18.7421,294.5517,21.9298,296.7872 C22.6917,298.6038,23.0409,299.8501,22.4403,303.6202 L22.3834,316.1006 C22.6167,317.9625,23.0832,318.5951,24.6774,319.0336 L25.4003,319.8585 C24.0145,319.904,23.104,319.8622,20.8879,319.8335 C19.1505,318.9933,18.3957,317.6482,17.9003,317.8132 C16.069,319.25,12.8695,320.0926,10.0115,320.2225 C4.8195,320.4109,0.6592,316.4857,0,310.7802 C-0.6455,305.2801,4.5236,300.7981,11.2607,299.923 C13.9493,299.5012,16.2646,299.0234,17.2453,299.6169 C18.1181,298.3687,16.0545,298.5288,13.1772,299.7949 C9.9224,301.1425,6.4566,302.0925,4.6414,303.1335 C2.7148,303.8461,2.1224,303.6511,2.3176,303.3331 C3.1653,302.685,5.8886,298.7365,8.8391,297.7233 C10.4627,297.0182,12.0379,296.6768,12.4394,296.7229 M10.7899,307.6919 C6.9498,308.478,4.173,310.9866,3.19,312.8307 C1.8603,315.841,3.7427,318.1912,9.1714,319.2358 C12.699,319.9106,15.6289,319.362,17.2616,319.2574 C20.0419,318.9959,21.3778,317.5968,22.3637,315.5199 C22.7525,312.9109,22.4811,308.8549,22.3769,308.358 C20.7857,307.4063,16.3413,307.115,11.3971,307.3126 M33.5535,284.9216 L34.3023,298.1747 C36.1877,296.1486,36.973,295.2851,39.2851,295.3961 C45.1183,295.8392,49.9082,297.7848,48.9524,295.7436 C50.2451,296.5438,53.032,298.8803,53.8604,300.0494 C55.7068,303.6196,55.9716,308.8579,55.5668,310.3641 C54.1506,314.5087,49.5741,317.626,43.9387,317.3303 C39.8403,317.0584,35.4189,315.5538,36.992,312.9626 L37.0645,312.7214 C37.3517,314.0405,38.2866,313.9672,39.5869,315.1805 C41.9454,316.3913,44.4349,316.06,45.743,315.3079 C48.2526,314.0172,48.9997,310.976,48.8354,307.8816 C48.3846,304.5086,45.6783,300.3997,41.6764,300.7544 C38.5165,301.2254,35.9054,303.5118,35.9576,303.9606 L35.9719,316.05 C35.7234,317.2481,34.3328,317.7511,32.6398,318.149 C31.2078,318.456,30.3794,317.0626,30.4198,317.1953 L30.4135,285.0716 C30.2947,284.2372,29.8204,283.5936,29.9357,282.8969 C30.3652,282.0494,31.4107,281.6885,32.6379,281.7905 M74.7941,294.3251 C78.7528,294.3292,79.0894,294.3275,82.0182,295.7946 C82.9784,296.3041,85.6621,296.2653,85.266,299.8602 C85.1993,300.8265,84.5613,300.9713,84.0312,301.1923 C83.4712,301.4418,83.3616,301.3477,82.2984,301.3456 C80.8952,301.3459,80.593,301.1984,80.3062,300.8101 C79.8174,300.3377,79.9166,299.9532,79.7196,299.4069 C79.0433,298.5067,78.5042,297.2819,75.2581,296.8275 C72.1164,296.5902,72.0186,296.5812,70.3933,296.5528 C66.7086,296.5524,64.255,297.3134,64.5414,300.5523 C64.4756,303.0002,64.8997,304.6075,65.7299,309.1063 C66.5972,313.7894,67.5642,315.7339,73.7477,316.6409 C76.5183,317.0778,78.4451,317.0284,79.5535,316.9119 C81.7707,316.6008,82.8827,316.2116,84.1028,313.9408 C84.2837,313.2707,84.638,313.0963,85.1781,313.2136 C85.5508,313.3218,85.924,314.0125,85.9759,314.0695 C86.2451,315.2557,85.9073,315.8387,85.5046,317.0954 C84.0901,319.3602,80.6797,320.1966,76.6826,320.5645 C71.1712,321.2156,71.9092,319.6953,64.2019,319.8301 C60.8332,319.8573,59.9822,318.8007,60.1022,315.7069 C60.1754,313.4923,60.8781,306.5358,60.8943,303.2199 C60.6691,298.9331,64.4043,295.2584,68.9562,295.2819 C70.6901,295.2804,71.9962,294.9921,73.5219,295.2507 M113.9807,285.1993 L116.44,285.243 L116.2748,315.1564 C115.8685,317.8411,115.6458,318.4667,111.8848,319.4829 C108.6559,320.1069,104.2822,320.3274,106.459,320.1238 L99.4693,318.7404 C95.0632,317.6936,91.2935,314.1906,90.5113,308.2986 C89.3476,302.6973,92.0561,296.3796,96.7794,294.5078 C100.5744,293.2677,104.6624,294.2878,104.4923,293.6353 C104.594,291.7767,106.0947,291.6645,108.5944,292.7812 C109.9769,291.9791,110.6498,291.4541,111.0227,292.8282 L111.482,284.706 M103.9469,296.07 C99.1523,296.5543,96.4521,299.99,95.6406,305.8524 C94.8445,312.471,97.2936,316.373,103.6288,316.6346 C108.1355,317.0563,111.9782,313.8432,111.9951,308.0235 C111.8038,302.1142,108.301,297.4176,103.6338,297.7477 M131.482,294.3244 C136.209,294.3283,136.3078,294.3267,139.4451,296.82 C143.0085,299.6882,142.7921,299.4436,143.0142,304.4072 L124.601,304.3826 C124.3959,308.1066,124.5131,309.7061,124.6187,309.7024 C125.4765,314.6443,125.0752,313.7245,128.8025,315.112 C131.6333,316.0085,131.6302,316.0931,135.0916,316.0341 C139.1885,316.0202,138.7981,316.0063,141.5534,314.8091 C144.0798,313.6251,144.342,313.6104,145.777,311.519 L146.9664,313.4246 C144.8562,316.4929,144.4916,316.0589,142.0029,317.912 C139.4055,320.1367,139.3317,319.6058,136.1068,320.2831 C134.9537,320.7132,133.2273,320.7142,134.4624,320.5293 C132.0398,319.599,133.1926,320.03,129.4121,317.9437 C126.1012,316.0336,126.018,316.0047,123.498,312.5602 C121.0491,309.21,120.9585,309.1904,120.9754,305.2477 C120.751,300.7235,120.9848,300.7943,123.7061,297.3471 C126.6536,293.9269,126.6394,293.8995,130.9011,293.3986 C132.426,293.2432,132.6544,293.225,134.4335,293.166 M132.8053,295.3249 C129.6611,295.3253,130.3144,295.3174,128.1526,296.4744 C126.1246,297.6253,126.0615,297.6209,125.1434,299.9852 C125.7433,301.0071,124.7178,300.7419,125.2316,301.0327 L141.95,301.13 C141.7188,298.4065,141.5709,299.3056,140.7436,297.9045 C138.9934,296.0853,138.7003,295.921,133.5518,294.7978 C132.3465,294.5501,132.4184,294.539,131.203,294.5367 M167.1316,284.425 L172.2293,285.289 L171.9172,290.4988 L166.7996,290.2636 C165.0875,290.2622,164.7483,290.2552,164.7161,292.9623 L164.6804,296.3885 L170.1767,296.389 L170.1603,301.9237 L164.8566,301.9082 L164.7248,319.82 L157.48,322.6542 L156.8329,315.2184 L156.8389,309.563 L156.8234,306.4878 L156.8573,303.743 L156.7878,301.3987 L156.6417,299.9684 L156.4101,298.8562 L156.2084,297.7421 L155.958,296.4906 L155.6841,295.2874 L155.3815,294.1389 L155.0604,292.9525 L154.7242,291.85 L154.3786,290.9258 L154.0259,290.1944 L153.6984,289.6374 L153.4201,289.2799 L153.2316,289.4203 L153.1151,289.6901 L153.0661,289.9413 L153.0575,290.3547 L152.9992,290.0885 L152.8768,290.0758 L152.8924,290.4763 L152.8837,290.8489 L152.6503,290.769 L152.6036,290.8101 L152.6377,290.901 L152.5401,291.1807 L152.3116,290.8568 L152.1346,290.6755 L152.1536,290.9388 L152.2513,291.0331 L152.2907,291.2014 L152.1746,291.4587 L151.9599,290.1906 L151.8116,290.0832 L151.7025,290.2745 L151.6169,290.4871 L151.5019,290.4089 M185.7957,294.3577 C188.5713,294.3619,190.9401,294.3604,190.8878,296.2653 C190.7858,297.1964,190.0317,297.9076,189.1993,298.0431 C187.6602,297.046,185.0172,296.2975,186.4427,294.624 M183.5959,296.0681 C180.3092,296.0609,179.326,301.7788,180.0884,303.9124 C181.1101,308.9519,184.7859,312.3135,189.1577,312.2643 C192.4335,312.2507,194.9123,309.1079,195.1954,304.0826 C195.5575,300.6262,193.4635,298.5745,191.3094,296.6386 C190.9491,295.8796,192.8317,295.6059,195.3504,295.6426 C199.163,295.658,202.319,302.0748,202.3367,312.4172 C202.3793,322.1218,195.8558,328.5786,188.5769,328.9948 C182.4359,329.4702,177.5151,324.3496,176.7647,317.5197 C176.6531,314.6507,179.955,313.7415,184.0345,313.977 C186.4532,315.5188,187.7526,318.8842,188.4948,319.5746 C190.5067,321.7472,191.6442,321.6249,192.2355,321.0945 C193.8729,319.6756,193.2181,315.4016,190.601,311.9524 C187.8545,310.2199,184.0472,310.197,181.6088,310.2813 C178.7644,308.8999,178.0625,305.6647,179.2449,300.4479 C180.136,297.1744,183.5042,295.0525,185.491,295.8758 M207.7887,285.0351 L208.483,285.5021 L208.4733,299.4211 C210.2846,296.6188,210.9386,296.6534,213.8007,296.3894 C218.4571,296.2705,223.1314,298.9548,221.5068,296.3112 C222.324,296.3043,224.859,297.9196,225.7417,295.7434 C227.0654,296.0977,228.597,297.9188,228.1625,296.5384 L229.769,297.7954 L230.7293,314.1235 C230.883,317.941,230.8644,319.9424,230.6907,318.9699 C229.8989,319.6578,228.4786,318.987,227.2817,319.89 C226.0314,320.4517,225.352,315.6881,225.5748,317.8422 C225.9659,315.116,226.6264,312.459,225.7573,304.3966 C225.03,300.274,222.4198,296.9953,218.9102,296.8684 C214.8623,297.1768,211.971,300.4493,211.4402,301.6151 C210.4415,302.9967,210.2363,309.3318,210.5862,315.2744 C210.6293,316.9668,209.5395,318.9182,208.441,318.477 C207.0051,317.7605,206.5449,316.4842,206.8721,314.9756 C206.9677,308.127,206.9118,302.1528,206.8903,290.2803 C206.8227,288.3087,206.9764,285.9015,207.7998,286.0117 M239.5617,286.6453 C241.0183,286.6492,241.0752,286.6474,244.2429,287.4819 C245.2794,287.751,245.2556,287.7281,247.0821,293.0321 C246.1173,296.5296,245.8794,295.7109,242.4797,298.0708 C240.1819,299.6759,239.4132,298.3616,237.8331,300.2748 C237.2385,298.2805,237.2389,298.8539,236.365,294.6106 C235.9561,291.2929,235.9105,291.1534,235.2647,290.0848 C236.0922,287.9814,236.3627,288.2895,238.1401,287.2949 M240.3509,298.7628 C241.7194,298.7613,242.1027,298.7541,243.3604,301.3072 C244.1872,303.6638,244.3951,303.7239,244.461,305.4975 C244.5698,310.0432,244.5732,308.7768,244.2914,311.5383 C244.0102,314.493,243.9864,314.8179,243.4352,316.892 C242.622,318.8397,242.6005,318.9508,241.1794,319.1986 C239.6567,319.2119,239.5195,319.1557,239.024,317.3244 C238.6019,315.5604,238.5537,315.5638,238.3377,313.7364 C238.1331,311.886,238.0906,311.8715,237.8656,307.7129 C237.6337,303.7457,237.5846,303.7098,237.6161,301.7075 C237.4311,300.1463,237.6181,300.0908,238.3229,298.7353 C239.1489,297.3812,239.2207,297.3545,240.6513,297.3907 M255.7745,286.5387 C257.2878,286.5428,257.4089,286.5409,261.1081,287.2294 C261.7066,287.42,261.6597,288.877,263.0912,292.5933 C262.1636,294.5456,261.9322,294.597,258.038,296.7996 C255.7719,295.7305,255.3373,296.2283,254.0135,295.9183 C252.461,293.5759,252.3284,294.2705,251.7983,292.475 C251.9949,289.4036,252.1342,289.8813,253.4449,288.5502 C254.5004,287.4535,254.6867,287.4111,256.1114,287.2959 M259.0416,299.1732 C260.5247,299.1731,261.0011,299.4169,262.2159,301.9466 C262.7867,303.9369,262.8397,310.2534,263.0745,309.1593 C263.3884,312.4714,263.4583,314.7202,263.2791,313.8192 C263.0331,317.1117,262.2339,319.0063,262.8559,317.923 C263.0698,319.6812,262.5537,320.8424,263.0183,319.795 C263.2181,321.1138,262.7138,322.2486,263.2714,321.5029 C263.4897,322.8779,262.8729,323.9323,263.5407,323.4474 C263.7263,324.7141,262.8856,325.7254,263.8125,325.5102 C263.9871,326.5823,262.9966,327.5672,263.9695,327.5628 C264.1883,328.44,263.1608,329.3364,264.0496,329.5011 C264.0314,329.9101,262.396,331.9569,263.6051,331.7127 C263.5676,332.6374,262.1665,333.1187,263.4553,333.5941 C263.0981,334.0774,261.0887,335.3823,258.9433,335.4209 C256.7221,335.5912,254.7244,333.1501,255.6254,332.0526 C255.6103,331.3301,255.0435,328.3054,255.5187,329.0828 C255.803,329.0878,255.3855,325.9985,255.3937,326.6042 C255.4209,324.9353,255.2192,322.7959,255.0455,323.2541 C254.892,322.1223,254.6409,320.2759,254.4294,320.8869 C254.2811,319.8137,254.0246,318.0123,253.843,318.3604 C253.7146,317.219,253.4977,315.5839,253.2338,315.8685 C253.2445,314.73,253.1918,313.1629,252.8664,313.1416 C252.9298,312.2975,253.039,311.0217,252.5921,311.2744 C252.7623,310.1843,252.9111,308.8016,252.428,308.6098 C252.7157,307.5737,253.1289,306.3035,252.4434,306.595 C252.5623,305.5955,252.9282,304.3729,252.0649,304.2423 C252.2523,303.0562,253.275,301.9272,251.9141,302.0136 C252.0244,301.0528,253.3653,300.1803,251.6176,300.0237 C252.1721,299.0462,254.3931,298.6309,256.8421,298.4732 M269.8183,285.1029 L270.8154,285.6644 L270.8037,304.8668 L278.1628,295.232 L284.5121,294.5706 L286.4642,298.7557 C285.3882,301.2747,282.8026,302.8906,278.7315,303.4792 C281.4255,306.5036,287.2518,309.5346,291.4308,316.0816 L292.6535,319.6829 C288.2227,316.3559,286.5823,313.191,280.8421,306.778 C278.0325,307.6513,273.8869,309.092,271.8142,308.4957 L271.7994,321.2272 L269.5915,321.3952 L269.2296,290.939 L268.5851,288.2785 L270.4767,287.4942 M298.7498,284.3589 L305.4384,284.3983 L305.2676,318.2607 L297.1953,318.2535 L297.1889,283.1992 M324.8458,294.697 C328.4892,294.7015,328.7967,294.6998,330.8708,296.4903 C333.2347,295.1449,332.9013,294.5931,335.4821,295.041 C339.2202,295.3131,338.6604,295.3069,341.0528,297.0204 C343.2302,298.6177,343.2244,298.617,344.212,301.1044 C345.1681,303.5146,345.1565,303.4904,345.0793,306.7208 L345.0478,321.7529 L341.8681,321.7537 L341.8545,307.2185 C341.6482,304.3504,341.8494,304.2558,340.5672,301.9969 C339.4449,299.8522,339.3595,299.8437,337.2848,298.7767 C335.2389,297.7342,335.1585,297.7229,332.8338,297.8047 C330.6778,297.8732,330.3552,297.8619,329.3622,299.1404 C328.307,300.4331,328.2599,300.4272,328.509,302.9302 L329.9665,320.3263 L326.9391,320.3272 L324.9334,304.3997 C324.1965,301.7744,324.108,301.7439,322.6649,300.1291 C321.3366,298.6062,321.2554,298.5975,319.3864,298.2119 C317.5284,297.8352,317.4699,297.8258,315.8094,298.5943 C314.1898,299.3438,314.1328,299.3403,313.3157,301.0245 C312.5904,302.6812,312.5522,302.6719,313.2335,320.6492 L310.5042,320.649 L309.9738,295.915 L312.8772,295.6497 L313.0548,299.2169 C314.4735,296.6635,314.7981,296.7686,316.1833,296.3991 C317.7101,296.0371,317.71,296.0258,320.1996,296.1521 M363.6836,294.3384 C368.5426,294.3427,368.5652,294.3408,371.2261,296.8396 C373.9752,299.4772,373.9232,299.3697,373.9217,304.2605 L373.8949,320.1422 L370.1991,320.1423 L370.1874,305.1982 C369.9907,301.7429,370.1859,301.6702,368.2009,299.3585 C366.2582,297.1968,366.1562,297.1808,362.6806,297.1569 C358.7211,297.1576,359.1638,297.1503,356.7607,298.6575 C354.5462,300.1029,354.4595,300.0967,353.6406,303.0092 C352.9528,304.0203,352.915,304.0301,352.9883,308.1872 L352.9826,321.1413 L349.6249,321.1415 L349.6147,295.6635 L352.5811,295.6642 L352.5612,300.2709 C354.1413,296.8947,354.5263,297.1542,356.1786,296.849 C358.9034,296.2473,358.5192,296.2341,361.6294,296.5115 M393.7594,293.9469 C396.6167,293.951,399.3553,293.9494,402.9423,297.1867 C406.2659,300.3445,407.3064,303.0704,407.0343,307.1252 C406.4741,312.2319,405.393,313.795,401.8149,317.0429 C398.791,319.7344,396.3189,320.5018,391.8081,320.5245 C386.6824,320.5246,386.4501,319.3482,382.7226,316.1826 C379.7963,313.3158,378.4289,309.8878,378.4572,306.1167 C378.2187,302.1244,379.5317,299.5823,382.8389,296.252 C385.7554,293.5345,388.9235,292.2855,392.3125,292.2765 M392.2562,294.3583 C388.6332,294.3587,387.8748,295.4624,385.1649,300.0755 C383.2938,302.9958,382.6735,305.9341,382.5491,309.3371 C382.3401,312.7465,383.0327,314.5406,385.2744,317.5079 C387.3001,319.8599,389.4524,321.1749,392.7883,320.5391 C396.4378,319.9153,398.7473,317.4231,400.0619,314.5632 C401.0689,311.9454,401.8348,308.6967,401.4308,305.9474 C400.8964,302.866,398.9385,300.4269,397.391,297.6966 C395.711,295.3636,393.3742,294.087,390.7926,294.201 M427.1307,294.0872 C432.2068,294.0913,432.1586,294.0896,435.0361,297.2522 C438.0788,300.6278,438.0366,300.5383,438.064,306.2433 C438.0705,311.7873,438.085,312.0755,434.5864,316.0632 C431.0756,320.1342,430.9723,320.0199,425.236,320.1704 C421.4842,320.2062,421.3596,320.1992,418.7263,318.702 C416.21,317.2253,416.122,317.2119,415.098,314.3006 L415.0828,329.7334 L411.5783,329.7335 L411.5697,294.3373 L414.894,294.3373 L414.8065,298.6183 C416.7626,295.5898,417.3274,295.6292,419.1126,294.3602 C421.3374,293.1303,421.3336,293.1168,424.9461,293.1269 M423.7486,296.0449 C420.0251,296.0455,420.0603,296.037,417.4666,298.2147 C414.9319,300.4278,414.8456,300.4312,414.4426,304.5303 C414.3367,305.4538,414.3292,305.4931,414.4433,310.5303 C414.5626,315.1058,414.7543,315.3646,417.0975,317.0043 C419.3531,318.6651,419.4796,318.6963,423.3663,318.6171 C427.4321,318.5897,427.7048,318.5737,429.7202,315.9927 C431.8899,313.3974,431.8816,313.3845,431.9562,308.9201 C431.7779,304.0582,432.0048,304.0743,429.9327,301.1049 C427.7833,298.0042,427.6838,297.9785,423.3257,297.9133 M452.4936,294.4069 C455.4162,294.4113,458.1392,294.4096,461.4054,296.9162 C462.0966,297.4144,462.5347,298.5106,461.7241,294.7039 C461.9509,294.1032,462.1983,293.6416,463.9385,294.0134 C464.614,294.5442,464.6495,304.0205,464.722,324.0681 C464.9081,327.8375,464.7172,330.1131,464.513,328.6587 C463.6915,326.2712,463.032,323.0168,462.4556,315.5272 C460.6499,317.9647,457.0704,319.1379,453.3525,320.0297 C447.4356,321.0885,442.3969,314.3718,442.5995,305.8682 C442.3656,298.4409,447.7826,292.9141,454.5395,292.0276 M455.8608,294.5956 C449.7105,295.0804,447.1884,300.6713,448.3489,305.4255 C449.1445,311.4528,453.4197,315.2666,458.0782,315.6443 C462.6925,316.1466,466.2634,311.9604,466.8329,305.9015 C467.1376,300.3864,463.1786,294.8997,457.8993,294.2353 M472.6172,294.6176 L486.1273,294.6679 C490.1878,294.6662,491.213,294.6687,491.4573,296.0356 C491.4442,300.8459,488.6019,302.556,485.1627,303.1565 L490.6351,314.9155 C490.9048,316.4633,490.8037,317.0417,489.0416,317.3532 C487.6364,317.4664,487.3194,316.5632,486.9305,316.4118 L483.2591,305.4475 L475.3521,305.4555 L475.3386,315.7728 C475.351,317.117,474.5731,317.6409,472.9578,317.4356 C471.5703,317.194,471.0201,315.871,471.3746,314.3618 L471.3683,293.7308 C471.2152,292.3591,471.9083,291.5279,473.7302,291.2066 M484.1724,294.5726 L475.9012,294.5767 L475.0403,304.2234 L481.8315,304.2206 C485.6302,304.2193,489.3338,301.9108,488.9468,299.0285 C488.6187,296.62,486.6844,295.4192,483.1339,295.5563 M506.4049,294.0129 C508.8621,294.0169,510.8244,294.0153,511.074,295.0632 C511.1819,295.6123,511.2977,296.1379,510.4635,297.2035 C509.5242,297.2386,508.6859,295.6807,508.4363,296.8216 C507.1648,297.4707,506.0342,298.3311,505.7718,299.2147 C505.2123,300.388,508.178,302.1972,511.3504,303.6068 C515.9137,305.1494,518.6602,307.3369,518.6826,311.4207 C518.7287,316.2763,513.6475,319.6117,507.0529,319.9459 C502.3178,320.2929,497.6531,318.0649,496.1861,316.5313 C495.3618,315.7333,495.8443,314.4419,496.4478,313.9389 C497.4761,313.4771,500.1396,313.739,503.2886,314.6041 C506.6183,315.3895,509.4249,315.532,509.7517,314.2777 C510.8463,312.3632,508.0575,310.2415,504.5868,308.2928 C499.7145,306.2359,495.9245,304.072,495.9927,300.8002 C495.631,296.719,499.632,294.1262,504.8481,294.0446 M533.9418,289.2306 L533.9099,299.1514 L538.8972,299.1271 L538.8836,304.0113 L534.0062,303.956 L533.8618,315.7182 C534.1561,318.0386,533.9974,317.6166,536.1302,318.3823 C536.7759,318.5561,536.7451,318.8707,539.1532,318.6769 L539.8108,322.6551 C537.6017,323.9843,537.0946,324.1447,535.9419,324.7158 C532.956,325.5266,533.7921,325.5866,531.325,325.748 C528.1414,325.7118,527.7333,325.6395,527.3003,323.0293 C526.7687,320.9985,527.0645,321.0569,526.9042,317.0864 L526.7074,305.759 L523.2181,305.8143 L523.3247,302.0158 L526.4439,301.7764 L526.6401,294.2423 L534.2191,291.8958 M544.7291,295.0518 L545.8818,295.665 L545.8533,311.2129 C546.1645,314.8685,545.9825,314.1478,547.2048,316.6442 C548.3715,318.8728,548.3798,318.8707,550.5098,319.9272 C552.5992,320.9473,552.6017,320.9441,555.0083,320.9031 C557.2943,320.8798,557.3181,320.8684,558.8332,319.7497 C560.4417,318.6657,560.4329,318.6561,561.46,316.6991 C562.4855,314.7639,562.4737,314.7595,562.7837,312.1487 L563.7495,297.4386 L565.5856,297.105 L565.4571,316.3502 C565.2709,318.8933,565.4256,319.4558,564.8458,320.9802 C564.3026,322.5327,564.2567,322.5253,563.168,323.7336 C562.073,324.9372,562.0179,324.9308,560.3368,325.7333 C558.6713,326.5106,558.6005,326.5047,556.4752,326.6347 C554.1506,326.7565,553.7538,326.7499,552.1109,326.1636 C550.3522,325.5939,550.2756,325.5835,548.8958,324.4469 C547.5025,323.3185,547.4217,323.3086,546.4467,321.6419 C545.4792,319.9822,545.4038,319.975,544.9148,317.9164 C544.3671,315.2459,544.2503,314.8119,544.3462,300.8046 L545.361,300.3461 M576.7293,294.6898 L586.0513,315.0144 L593.329,294.0155 L597.9628,294.0051 L586.7218,321.7348 L581.6646,321.7346 L570.1211,295.3217 L574.526,294.6046 M606.4347,294.5864 L609.8197,294.6376 L615.1103,313.4955 L620.0784,294.3096 L624.0296,294.3117 L629.904,314.6403 L636.0369,295.8803 L640.2594,295.8801 L631.4417,323.4819 L627.6049,323.4843 L620.8773,304.1049 L614.4678,323.0255 L611.145,323.0282 L602.4982,297.9875 L605.1918,297.423 M647.1554,294.4993 L651.4298,294.5434 L659.4149,303.7882 L667.4536,294.4929 L672.0668,294.4936 L660.9497,306.3963 L672.7457,320.4 L668.506,320.4018 L658.8594,309.9771 L649.3248,320.4327 L644.7949,320.4363 L656.1949,307.4843 L645.9964,295.5084 M679.6023,294.8593 L687.8089,315.0304 L693.6934,294.9622 L699.0558,294.9546 L688.3404,327.4614 C686.0051,334.0338,685.0792,332.8899,683.6609,335.0365 C681.4505,337.3754,680.9803,337.9124,677.3851,338.1763 L677.2811,335.1741 C679.6992,334.9321,680.9971,334.3715,682.4407,332.817 C683.6174,331.1819,684.6237,329.2743,685.3737,326.7931 L678.1494,300.7245 L681.8714,298.8065 M705.1214,294.5355 L728.3592,294.5963 L728.8884,295.6906 L710.0057,318.2439 L717.9154,318.4606 C721.9869,318.4573,723.0805,318.2322,724.7851,317.0462 C726.2134,315.8675,727.0774,314.9322,727.7155,312.7978 L728.9576,312.8936 C728.1167,315.162,727.3746,318.6679,726.9747,321.7203 C723.7997,321.4292,722.2136,321.3063,721.7454,321.3716 L703.9233,321.3961 L703.5913,320.3277 L723.9463,297.0152 L714.511,297.015 C710.9436,297.015,707.8075,298.4684,707.3458,300.3922 C706.8744,301.2984,706.7668,302.0717,706.3226,304.0365 L704.8673,303.9526 C705.2814,301.7315,705.6184,297.8773,706.0266,295.262\" fill=\"rgb(40,40,40)\"/>\n<path d=\"M12.9865,347.6123 C15.6961,347.6165,18.155,347.6147,21.2235,349.9223 C21.9155,351.7312,22.2278,352.9622,21.6749,356.7327 L21.6215,369.8804 C21.8365,371.7538,22.2996,372.4209,23.8915,372.852 L24.624,373.6358 C23.2616,373.6786,22.3638,373.6557,20.2541,373.6034 C18.6277,372.7559,17.8882,371.388,17.3984,371.6467 C15.6966,373.0156,12.65,373.7302,9.843,373.8734 C4.7474,374.0739,0.7168,370.3245,0,364.5775 C-0.6481,359.2418,4.4232,354.8003,10.9349,353.8604 C13.9186,353.4463,16.6203,352.953,17.1771,353.5505 C18.0929,352.0446,16.217,351.8332,13.4107,353.0001 C10.3178,354.258,7.1817,355.1826,8.011,356.3251 C8.167,356.9993,7.6185,357.3693,7.2362,357.2782 C5.4901,356.9405,3.8911,356.5675,5.582,354.5237 C6.9367,352.2216,9.0516,350.0544,10.9987,349.4664 C11.5713,348.9882,12.5035,348.9926,12.0992,349.2311 M8.4513,362.6465 C4.8659,364.119,3.2276,367.0872,4.4872,368.9239 C6.3922,371.7467,9.9225,372.7385,14.3655,372.0119 C17.6025,371.5155,19.207,369.6941,20.0133,367.34 C20.6557,365.7089,19.9501,361.9738,19.6627,362.0445 C17.5482,361.5552,12.4708,361.8494,7.228,362.1202 M31.5262,336.9393 L31.4853,350.8828 C33.2142,348.7042,34.0516,347.6999,36.4967,347.9887 C42.0314,348.5172,46.4637,350.5836,45.6322,350.8733 C47.9176,353.0536,50.6721,357.3758,51.342,360.2689 C52.1435,365.5553,51.2617,369.8581,44.448,370.9455 C40.2499,371.9487,34.9326,370.7088,31.8332,367.345 L31.8273,369.5749 L29.6391,371.3903 L29.1594,334.6844 L32.0808,334.0939 M40.9809,348.5865 C36.1855,348.721,33.3265,351.8458,32.3406,358.1722 C31.6927,363.7999,33.8098,367.7455,41.1024,367.7828 C46.3214,367.7832,49.8627,364.2448,50.0544,358.4873 C50.0443,352.7723,46.1163,348.8144,41.1022,348.4179 M66.5271,347.3633 C70.4677,347.3675,70.7683,347.3657,73.6778,348.9892 C74.6341,349.5407,76.6403,349.5045,76.8592,353.3652 L73.3419,353.3568 C72.6094,351.2249,72.3878,350.756,71.2557,349.8866 C69.415,348.4306,69.5621,348.366,65.9154,348.1971 C61.9304,348.1754,62.4081,348.3193,60.2206,351.7187 C58.1961,354.8568,58.3407,354.957,58.1152,359.957 C57.8931,364.0183,58.0645,364.3275,60.7868,367.2382 C63.5461,370.2934,63.5436,370.3419,68.1396,370.3146 C72.0052,370.3151,71.4252,370.3074,74.2409,368.9102 C76.8664,367.6139,76.7274,367.6037,78.1919,365.1811 L79.7888,366.5923 C78.0412,369.9161,77.7759,369.467,75.2844,371.5648 C72.5833,374.0103,72.5121,374.0515,67.9798,373.9582 C62.6175,373.9354,62.6102,373.9278,59.3144,370.509 C55.9806,366.9488,55.8596,366.922,55.8774,361.1838 C55.6582,355.2163,55.8868,355.3209,59.3217,351.5208 C62.9045,347.7503,62.8696,347.7371,68.1108,347.8077 M105.7512,337.5207 L107.811,337.571 L107.6429,370.47 L104.7414,373.0959 L103.5515,370.7311 C99.8522,372.6855,101.4045,373.0428,94.7475,373.2253 C88.3518,373.2848,89.3647,373.1125,86.5834,368.4656 C84.2817,364.3985,84.2159,364.5109,84.3242,358.6794 C84.2427,352.5538,84.52,352.6218,87.4158,348.369 C90.8506,343.8018,90.833,343.7584,96.6215,343.823 C101.223,343.8497,100.6964,343.968,103.7056,347.5074 L104.7818,336.4947 M96.809,347.2752 C90.8456,347.2745,92.4621,347.2655,89.6141,350.5302 C87.1992,353.7574,87.1366,353.7925,87.2149,359.0547 C87.1326,364.3181,87.2927,364.2735,90.1281,367.3792 C93.0999,370.5532,93.0905,370.5155,97.9192,370.5008 C101.8286,370.5013,102.2121,370.4945,105.096,368.1501 L106.192,352.7497 C103.0537,348.3076,102.4112,348.8046,98.1286,347.8299 M122.7719,347.3651 C127.4546,347.3692,127.5594,347.3674,130.6095,350.0179 C133.8927,352.9826,133.8306,352.7495,133.9869,357.8272 L116.0962,357.8039 C115.9215,361.826,116.0388,363.4746,116.1322,363.4473 C117.0007,367.5904,116.602,366.456,118.3094,368.0895 C120.2611,369.9905,120.5249,369.6551,123.5147,369.7685 C126.8977,369.8437,126.6651,369.8341,129.4149,368.4993 C132.1256,367.1855,132.1135,367.1709,133.5494,364.5157 L135.5979,365.7328 C133.7188,369.5253,133.6163,369.0644,130.4733,371.3277 C127.4176,373.4209,127.3324,373.4125,123.5327,373.4594 C118.6228,373.4587,118.6509,373.4527,115.5998,370.5027 C112.4677,367.3386,112.3319,367.3159,112.3464,362.14 C112.1253,356.378,112.3693,356.5208,115.6084,352.5149 C119.0946,348.4913,119.0536,348.4795,124.4887,348.5583 M124.3878,350.7416 C120.8821,350.7419,121.0167,350.734,118.6393,353.1806 C116.353,355.5366,116.2815,355.5529,116.0898,359.289 L132.7078,359.2888 C132.337,356.1354,132.6846,355.2502,130.6024,353.8988 C128.5819,352.3545,128.4817,352.3394,125.0669,352.332 M154.4184,337.1075 L156.154,341.6495 C154.4961,341.7766,153.9277,341.8893,151.1175,341.8542 C149.7887,341.8554,149.5788,344.7969,149.7176,350.2139 C151.2478,350.4194,154.9222,350.506,154.8987,350.1476 L156.5087,353.7027 C155.4945,355.1936,153.3387,355.961,151.1125,356.4091 C151.2786,361.8889,151.5908,365.7095,151.0886,374.5984 L143.9258,374.7859 C144.1483,365.9726,144.689,359.8135,144.6144,352.427 C143.1405,352.4455,141.4121,352.4123,140.1333,352.5566 L140.1797,348.9624 C141.1933,347.5396,143.1663,346.4608,143.7309,346.8617 C144.1284,340.9267,144.8868,338.6229,143.8827,336.8652 C146.312,335.743,151.922,335.3682,152.5234,336.3543 M170.5756,347.3849 C173.2937,347.3892,175.5892,347.3875,175.5684,349.3787 C175.4669,350.3425,174.7518,351.0783,174.0175,351.1585 C172.6652,351.1978,172.7024,349.07,171.7117,350.1749 C168.2698,352.0619,164.2272,356.6803,163.282,358.6822 C161.5397,361.2507,161.7499,363.9634,162.4057,368.2502 C162.8702,372.491,165.7467,375.2983,170.5549,375.6224 C174.1994,375.8934,177.6526,374.3908,177.6676,371.0794 L177.6588,359.0052 C177.5309,357.0617,176.6265,354.9292,175.947,355.149 C174.8197,355.3133,174.318,355.1985,174.3804,355.0277 C174.1671,354.6477,174.7153,354.342,175.0464,354.1607 C176.1786,353.8815,179.2203,353.7954,176.9247,353.8057 C175.8314,353.8058,175.6873,353.8367,175.6593,354.3594 C175.3807,354.8462,175.7071,355.2099,176.0596,356.4232 C176.3075,357.5318,176.7887,358.1659,177.3319,360.0567 C177.734,361.9042,178.2237,362.9664,178.668,364.9072 C179.0002,366.8832,179.4708,368.2269,179.6925,369.5883 C179.8217,371.1651,180.1542,372.1734,180.0793,373.6162 C179.7278,376.0285,178.9939,377.2015,178.1419,377.947 C176.546,378.9013,176.0512,379.2306,173.5413,379.1004 C169.4028,378.8754,169.1157,377.5887,165.7055,374.4689 C162.8239,371.4881,161.4093,368.1239,161.0441,363.8095 C160.5084,359.528,161.5758,357.1616,163.7334,353.119 C165.7869,349.5977,168.3725,347.694,172.1369,347.951 M187.0589,336.9675 L187.0247,351.3447 C188.765,349.2576,189.5618,348.1645,192.0601,348.4054 C197.0488,348.862,201.1249,353.0164,200.3477,348.7855 C201.3422,348.6716,204.1924,350.3509,204.7516,349.7367 C206.0834,351.1618,207.3835,353.0164,207.3022,351.5019 L208.4085,369.0975 C208.6063,371.3752,207.9995,371.9563,207.5787,372.2039 C206.24,372.5917,205.3121,371.8201,205.1975,370.1377 L203.3743,352.6588 C202.2823,350.1054,198.475,349.7151,195.1987,349.8365 C191.3603,350.2223,189.1718,354.1249,188.9387,355.8867 L188.1272,370.8123 C187.5214,372.1873,186.0154,372.4479,185.1147,371.9272 C184.3945,371.2284,184.1842,370.2414,184.6148,340.5078 C185.0055,339.2773,185.8444,338.2992,187.6588,338.1305 M217.158,338.1998 C218.5688,338.2034,218.5583,338.2015,220.2585,339.1106 C222.1027,340.0944,222.0246,340.0026,222.3036,341.3533 C222.3743,341.8257,222.3431,341.7996,219.4375,343.3579 C216.825,344.8046,216.8058,344.756,215.6309,345.1671 C214.2259,345.125,214.0826,344.9524,213.5358,344.2278 C213.0004,343.4623,212.9496,343.4486,212.9439,342.3104 C212.9996,340.981,212.9562,340.9315,213.6524,339.6679 C214.3553,338.4524,214.3512,338.4335,215.4271,338.2746 C215.8469,338.2032,215.8042,338.1941,216.4944,338.165 M216.2299,349.1105 C217.7668,349.1106,217.3773,349.1013,219.0313,349.6723 C220.578,350.2303,220.5865,350.2254,221.3435,351.2357 C221.6292,352.6196,221.5714,352.8917,221.647,355.3627 C221.7353,357.9425,221.7453,357.8011,221.6925,360.1701 C221.6453,362.4647,221.6294,362.4646,221.5589,364.7473 C221.4978,366.9593,221.4735,366.9532,221.4501,368.6978 C221.4407,370.3836,221.4377,370.5642,221.4699,371.4197 C221.4974,372.2616,221.5082,372.2612,221.5603,372.8193 C221.4122,373.3721,221.3501,373.3692,221.265,373.7215 C221.16,374.0502,221.1357,374.0439,220.8476,374.2203 C220.5683,374.3849,220.5397,374.3785,220.0256,374.4495 C219.5225,374.5196,219.4767,374.5124,218.8758,374.5313 C217.7468,374.5314,217.5999,374.5245,217.0365,374.3373 C216.4693,374.1399,216.424,374.1326,216.0399,373.7945 C215.6556,373.4635,215.6113,373.4533,215.337,372.9674 C215.0707,372.4842,215.0252,372.4777,214.8926,371.8726 C214.5345,370.2693,214.4616,370.0022,214.4934,368.1805 C214.4932,366.3151,214.5082,366.3035,214.5202,364.4627 C214.5302,362.6019,214.4848,362.5961,214.4859,360.8378 C214.4845,359.0797,214.4333,359.0674,214.4306,357.616 C214.4206,356.1609,214.3889,356.1484,214.3893,355.0882 C214.3852,354.0192,214.3524,354.0099,214.3869,353.2341 C214.4137,352.4729,214.4165,352.4585,214.727,351.8298 C215.0447,351.2054,215.0423,351.196,215.6214,350.9293 C216.1986,350.6482,216.1988,350.6357,216.9448,350.6307 M241.5863,338.2219 C243.098,338.2256,243.0671,338.2238,244.8101,339.0607 C246.6481,339.8681,246.6007,339.8686,246.9653,341.2534 C247.0676,341.7777,247.0369,341.7443,246.7496,343.3813 C246.4472,344.7835,246.4179,344.9419,245.9247,345.6605 C244.8836,346.6609,245.1851,346.7541,243.6493,347.2834 C242.1749,347.7862,242.1201,347.7807,240.7602,347.7414 C238.8776,347.716,238.7779,347.7065,238.1617,347.0166 C237.5528,346.1673,237.5079,346.1539,237.2062,344.7249 C236.9298,343.3714,236.8945,343.3664,236.9997,342.3432 C237.1296,341.3322,237.1336,341.3154,237.5859,340.5678 C238.3951,339.8027,238.2362,339.0991,239.3303,339.1652 C239.7406,339.1587,239.6892,339.1462,240.1287,339.1404 M239.5835,339.1772 C238.7629,339.1756,238.6851,339.1682,238.4902,339.6058 C238.3051,340.0223,238.2767,340.0169,238.4225,340.7132 C238.5905,341.3436,238.6419,341.3395,239.2252,341.7528 C239.7912,342.1415,239.7839,342.1336,240.5318,342.1134 C241.1224,342.1137,241.28,342.1067,241.7356,341.7526 C242.1984,341.3965,242.198,341.3861,242.2436,340.8718 C242.0945,340.2092,242.2753,340.1867,241.6843,339.817 C241.1649,339.4376,241.1185,339.4285,240.3006,339.4477 M240.9821,349.2863 C242.3401,349.2856,241.9507,349.279,242.214,349.7254 C242.4804,350.1472,242.4811,350.1403,242.4589,351.1822 C242.4375,352.3101,242.4286,352.1522,242.4344,373.7609 C242.2849,378.0325,242.4444,377.3469,241.7313,380.9019 C241.0817,384.1415,241.0431,384.1386,239.6767,386.3536 C238.3587,388.5029,238.3058,388.5002,236.3043,389.5467 C234.3598,390.5825,234.2942,390.5741,231.8351,390.5722 C229.9044,390.5723,230.3751,390.5653,229.2048,390.1485 C228.1597,389.756,228.1033,389.7491,227.5259,389.0626 C226.9664,388.3937,226.918,388.3832,226.839,387.5371 C226.7613,386.6989,226.7239,386.6951,226.8801,385.8357 C227.1908,384.5794,227.0856,384.4031,227.5681,383.8849 C228.0197,383.3285,228.0179,383.3233,228.7396,383.3146 C229.2919,383.3152,229.4447,383.3072,229.8416,383.7578 C230.2524,384.1954,230.2508,384.1877,230.417,384.8063 C230.5988,385.4006,230.6002,385.3941,230.7438,386.1074 C230.8991,386.7927,230.8951,386.7832,231.1562,387.2676 C231.4335,387.7437,231.4329,387.7362,231.8986,388.0272 C232.3608,388.3163,232.352,388.3094,232.9625,388.2965 C234.0371,388.2963,233.7835,388.2891,234.2268,387.7702 C234.608,387.2346,234.6031,387.2277,234.701,386.2363 C234.8352,385.2411,234.8333,385.2376,234.8568,383.6639 C234.8915,382.1046,234.8599,382.1005,234.8667,380.171 C234.88,378.2345,234.8514,378.225,234.8478,376.6272 C234.8463,375.0095,234.8058,375.005,234.7964,373.5102 C234.791,371.9981,234.7595,371.994,234.7467,370.6962 C234.7394,369.362,234.7042,369.3548,234.6956,368.1717 C234.6896,366.9719,234.6597,366.9706,234.6527,365.8852 M254.6462,337.0409 L255.3836,356.6222 L262.3296,347.2555 L268.6215,347.2542 L265.3521,355.6066 L276.7305,368.9507 L273.1951,371.9601 L263.2196,358.6305 L255.344,362.0451 L255.331,373.2405 L251.5091,373.2413 L251.5007,336.6167 L254.3396,335.9294 M282.0312,337.1228 L288.4814,337.1633 L288.3088,372.6063 L281.2714,372.5993 L281.2659,337.57 M304.1986,347.6809 C307.7639,347.6852,308.0776,347.6837,310.0848,349.4403 C312.4009,351.0783,312.0705,347.6669,312.6377,348.0693 C314.5907,346.4008,314.9593,347.0346,316.3848,347.3126 C319.4774,347.9672,318.5185,347.7464,321.1538,352.2807 C322.937,355.8721,323.1802,355.9821,323.6502,360.9178 C323.8527,364.3844,323.9929,364.4653,323.8875,367.0341 C323.8005,369.7996,323.7838,369.9127,323.7587,371.8317 C323.7303,373.7598,323.7074,373.815,323.6641,374.4208 C323.4696,375.0029,323.6259,375.0088,322.9845,375.1888 C322.4196,375.384,322.3753,375.3771,321.8793,375.2047 C321.3866,375.0277,321.3392,375.0083,321.1198,374.5208 C320.8889,374.0223,320.8515,374.0178,320.9844,373.4575 C320.9819,372.5521,321.1901,372.4997,321.3298,369.6366 C321.4991,366.7418,321.4872,366.7353,321.4677,364.8596 C321.441,362.9357,321.4008,362.9218,320.6697,360.4898 C320.0177,358.0318,319.9487,358.0164,318.1405,356.3606 C316.3768,354.6721,316.2934,354.6644,314.0156,354.5476 C312.1439,354.4973,312.2767,354.4912,311.2088,355.286 C310.162,356.0803,310.1156,356.0695,310.1384,357.1493 C310.213,357.4552,310.1962,357.4654,310.3151,362.6133 C310.3027,366.4318,310.4855,366.5901,310.4297,371.04 C310.4399,372.0188,310.4101,372.0489,310.3707,376.1944 C310.381,376.8041,310.3905,376.8096,309.9689,377.1304 C309.5651,377.5185,309.5317,377.5092,308.9507,377.5006 C308.3857,377.4997,308.3467,377.4916,307.9306,377.0958 C307.537,376.6979,307.4877,376.6911,307.5056,376.106 C307.5109,373.0541,307.5174,372.4064,307.4197,368.5788 C307.334,364.6363,307.2816,364.6099,307.1427,362.1396 C307.007,359.7272,306.9578,359.7122,306.5529,357.2413 C306.1772,354.817,306.121,354.8009,305.3773,353.634 C304.201,352.1941,304.0559,352.1393,302.9978,352.3373 C301.0794,352.6282,301.6746,352.5136,299.9036,354.0616 C298.3098,355.5157,298.248,355.5134,297.3351,357.7038 C297.2688,358.313,297.2256,358.3253,296.8283,363.0643 C296.5276,364.1794,296.7342,364.2311,296.4711,369.0586 C296.2466,373.4362,296.228,373.4767,296.2505,375.2854 C296.2702,375.8964,296.2813,375.9008,295.7997,376.3109 C295.3659,376.7434,295.3248,376.734,294.7134,376.7497 C294.1213,376.7491,294.0783,376.7417,293.6476,376.303 C293.2332,375.8723,293.1834,375.8662,293.2046,375.253 C293.0115,372.7104,293.2128,373.206,293.2523,368.3111 C293.3195,363.4084,293.2762,363.3726,293.2714,360.9372 C293.2643,358.497,293.2235,358.4917,293.1164,354.9327 C293.0329,351.4818,292.9721,351.4608,293.0168,349.3759 C293.0343,348.7751,293.0494,348.7675,293.4789,348.3982 C293.9079,348.0114,293.907,348.0056,294.4908,348.0238 C295.0858,348.0383,295.0894,348.0288,295.4824,348.4687 C295.8643,348.8812,295.8609,348.8721,295.8371,349.4682 C295.5846,351.1068,295.7734,351.1528,295.6976,352.8916 C297.2489,350.4406,297.6573,350.6009,299.1216,349.0217 M341.9374,347.3208 C346.6838,347.3251,346.71,347.3232,349.3142,349.833 C351.9996,352.4591,351.9494,352.3551,351.932,357.2036 L351.9034,374.2776 L348.3549,374.2775 L348.3425,358.1815 C348.1473,354.7551,348.3413,354.6744,346.4115,352.3677 C344.5266,350.2054,344.4286,350.1893,341.0417,350.1592 C337.183,350.1598,337.5653,350.1525,335.2404,351.6805 C333.0876,353.1634,333.003,353.1576,332.2634,356.1154 C331.6378,357.1069,331.6042,357.1177,331.6651,361.2207 L331.656,375.1263 L328.4332,375.1267 L328.423,348.4879 L331.2492,348.4881 L331.2217,353.078 C332.7072,349.7235,333.0922,350.0057,334.6648,349.6454 C337.2779,349.0813,337.5101,349.0655,339.9005,349.3484 M371.1545,346.9347 C373.9352,346.9388,376.6166,346.9374,380.1004,350.2429 C383.2992,353.471,384.2707,356.285,384.0275,360.4161 C383.5115,364.7807,382.4906,367.2587,379.1287,370.6542 C376.2334,373.611,373.8227,374.4288,369.3602,374.4608 C364.3549,374.4605,364.0902,373.1924,360.5091,369.841 C357.7363,366.8587,356.4914,363.2413,356.4674,359.3082 C356.2166,355.3025,357.4325,352.8061,360.5333,349.4007 C363.3146,346.5742,366.3562,345.2985,369.7389,345.3354 M369.6852,347.3511 C366.1309,347.3513,365.3793,348.4949,362.7792,353.1849 C360.9555,356.2121,360.3464,359.3276,360.2195,362.8725 C360.0173,366.4476,360.7039,368.312,362.8949,371.342 C365.031,373.9657,367.0462,375.249,370.2923,374.5493 C373.7804,373.8731,375.9697,371.294,377.2295,368.3846 C378.2067,365.6544,378.9703,362.3341,378.8597,359.292 C378.4525,355.9978,376.9306,353.3616,375.6123,350.6362 C373.6554,348.0924,371.6311,346.6675,368.7717,346.8589 M403.4297,347.0756 C408.4037,347.0796,408.3819,347.0779,411.2215,350.3194 C414.2066,353.7911,414.1666,353.684,414.1824,359.5528 C414.184,365.2961,414.1991,365.5929,410.8117,369.7594 C407.3857,374.0444,407.2745,373.8901,401.5257,374.0911 C397.5959,374.1364,397.8069,374.1291,395.331,372.6281 C392.9806,371.1677,392.8952,371.1528,391.9332,368.282 L391.918,383.8349 L388.5714,383.8349 L388.5629,347.3748 L391.6576,347.3748 L391.5807,351.6302 C393.4573,348.5626,393.9815,348.6596,395.8085,347.3671 C397.9726,346.1668,397.9707,346.1521,401.4339,346.1648 M400.2508,348.9723 C396.5461,348.9728,396.5912,348.9643,394.0667,351.1785 C391.6026,353.4398,391.5178,353.4458,391.1722,357.6955 L391.1512,364.0742 C391.4062,367.7025,391.2997,368.1477,393.8333,370.7206 C396.355,373.2873,396.3406,373.2968,400.1281,373.3008 C404.0278,373.3012,404.2007,373.2941,406.5526,370.3951 C409.0521,367.5279,409.03,367.5116,409.0685,362.8934 C408.8722,358.0258,409.0701,358.0296,406.7929,354.8474 C404.4914,351.5853,404.372,351.5691,400.2825,351.5743 M432.727,347.4499 C435.5788,347.4544,438.2289,347.4527,441.3713,349.9977 C441.9939,350.5053,442.4142,351.1365,441.6395,347.5327 L444.0158,347.5215 C443.7574,349.6489,443.482,351.0994,443.5681,381.4479 L440.2343,382.7047 C440.3371,376.8012,440.2792,372.971,440.0256,366.8231 C437.9445,369.9775,434.3801,371.5614,430.1405,371.9184 C424.2789,372.3747,419.2484,365.733,418.7179,357.3707 C418.1379,349.9401,423.0114,344.2128,430.5224,343.0376 M431.975,345.6071 C426.0752,345.8456,423.6621,351.4747,424.7301,356.6423 C425.2936,362.9275,429.3483,366.8837,434.1079,367.6111 C438.7884,368.2534,442.4075,363.5559,443.0061,357.0527 C443.293,351.2921,439.7799,345.6871,434.4914,345.0792 M449.6492,347.7046 L462.267,347.756 C466.3084,347.7541,467.3286,347.7565,467.6324,353.6467 C467.6075,358.5132,464.8249,360.2826,461.4418,360.8921 L466.6258,372.9929 C466.9444,374.6134,466.9463,375.199,465.9224,375.6294 C464.8407,375.8923,464.4962,375.5051,464.034,375.4448 C462.9317,375.1611,463.0645,374.628,462.7838,373.8567 L459.069,363.0936 L451.6904,363.1014 L451.6776,373.7347 C451.5599,374.9866,451.0814,375.4746,450.1704,375.3545 C449.0683,375.212,448.4739,374.4974,448.5938,374.1501 L448.5513,350.7914 C448.4569,350.0125,448.9163,349.6028,449.4958,349.4228 M459.4924,352.2531 L451.9935,352.257 L451.9835,363.0591 L457.8051,363.0585 C461.1401,362.6516,464.6314,360.4358,464.4502,357.5275 C464.1779,354.9194,461.3648,353.5684,458.6574,353.6621 M478.0821,347.075 C480.5162,347.0789,482.416,347.0774,482.7256,348.1385 C482.8303,348.6906,482.9687,349.24,482.1474,350.3306 C481.274,350.3655,480.5204,348.8402,480.2709,350.0353 C479.1958,350.5397,478.1538,351.2516,477.9304,352.1655 C477.5166,353.3588,480.241,356.7898,483.2664,356.462 C486.6231,356.296,489.9373,357.807,489.2577,357.9388 C489.4063,358.722,488.9241,363.1319,486.695,363.272 C485.8616,364.8376,485.2656,366.0924,483.273,365.6755 C482.142,366.5195,481.3704,367.2361,479.9398,366.9009 C478.7456,367.6236,477.6197,367.6774,476.6234,367.0975 C475.1888,367.297,474.1275,366.5981,473.5069,366.1299 C472.4533,366.0065,471.9442,365.4887,472.1679,365.4044 C472.3949,365.088,473.1132,364.7234,474.4318,364.9498 C476.158,365.2642,477.3508,365.8695,478.5331,366.0738 C480.5745,366.4467,482.1752,366.2913,483.1842,365.0439 C484.3594,363.8702,484.527,362.1199,484.1211,360.9663 C483.2316,359.8654,480.4721,359.1992,477.601,359.0406 C474.6677,358.7412,472.4375,356.9491,473.0423,356.5605 C473.142,355.45,473.2238,352.5434,473.7664,350.1749 C474.3948,347.8523,475.8533,346.2263,477.6637,346.2664 M482.7292,359.7069 C484.8764,359.8645,487.3043,361.2761,486.8778,362.3049 C486.3082,363.4313,484.0919,364.4047,483.7515,364.4479 C482.5701,364.4568,481.5674,363.9958,482.0884,363.2261 C482.4927,362.3862,483.1041,361.3612,483.4049,361.6848 C483.7436,361.8381,483.6757,361.7729,480.9659,362.9292 C478.9923,363.5725,478.1739,363.6207,478.3055,363.6746 C478.5489,363.8618,479.3587,363.4124,478.8656,362.621 C478.2677,361.7959,478.8801,361.2615,479.2635,361.04 C480.4416,360.5953,481.8724,360.4074,484.6146,360.4381 M504.6537,341.5909 L504.6232,351.6932 L509.5656,351.6688 L509.5525,356.442 L504.4855,356.3848 L504.3744,369.1534 C504.6417,371.5423,504.5035,371.0924,506.5622,371.8583 C507.1941,371.9982,507.1634,372.3267,509.4192,372.0999 L510.1328,376.0786 C508.0369,377.3802,507.5004,377.5356,506.3972,378.0221 C503.4738,378.7201,504.3025,378.7683,501.9157,378.8551 C498.7482,378.7956,498.3117,378.7581,497.8511,376.1694 C497.34,374.2106,497.6288,374.2371,497.4428,369.9713 L497.2,357.9382 L493.7931,357.9909 L493.8251,354.1465 L496.9601,353.9389 L497.0924,346.1869 L504.5575,343.7531 M516.5079,347.9934 L517.594,363.9509 C517.5868,367.5554,517.6435,366.982,518.7774,369.4313 C519.9832,371.733,519.9908,371.7152,522.2506,372.6407 C523.2184,373.5586,524.3903,373.5588,526.4761,373.4487 C528.7424,373.3264,528.7498,373.3126,530.4749,372.781 C532.2259,372.2103,532.222,372.2047,533.4798,370.9949 C534.7189,369.8,534.7098,369.7949,535.2472,368.0559 C535.798,366.2999,535.8047,366.2912,535.8018,364.2112 L535.8117,347.0299 L538.6723,347.032 L538.6557,368.4385 C538.5234,371.1958,538.6842,370.7133,537.841,373.2741 C537.0938,375.5302,537.0465,375.5189,535.4865,377.247 C533.9566,378.915,533.8855,378.907,531.5687,379.8908 C529.2862,380.8613,529.2074,380.8535,526.3381,380.8505 C523.6419,380.8511,523.7062,380.8434,521.5491,380.0108 C519.4438,379.1861,519.3468,379.1778,517.8466,377.6188 C516.3652,376.0674,516.2723,376.0582,515.4888,373.8423 C514.7187,371.633,514.6435,371.6225,514.6826,368.9352 L514.6682,351.3199 L517.381,350.9206 M549.3322,347.6519 L558.3668,369.5473 L565.5343,346.7344 L569.9431,346.7237 L559.1676,375.8978 L554.4205,375.8983 L543.2077,348.4123 L547.3506,347.7151 M577.8288,347.571 L580.8964,347.6212 L586.0263,367.7389 L590.8709,347.3589 L594.656,347.3614 L600.4828,368.7042 L606.4935,348.7066 L610.5525,348.7066 L602.3739,377.7141 L598.7977,377.7159 L592.1437,357.3634 L585.8403,377.2642 L582.7427,377.2666 L574.4785,351.2886 L576.7865,350.6986 M617.1578,347.4675 L621.0543,347.5124 L628.8899,357.1295 L636.8967,347.4168 L641.3311,347.4173 L630.4943,359.7676 L642.0167,374.336 L638.1129,374.5128 L628.6191,363.5655 L619.1845,374.527 L615.0879,374.5306 L626.2064,361.1812 L616.2406,348.7995 M646.5521,347.8237 L649.7922,347.9026 L655.3723,367.5331 L656.6881,348.0772 L661.9873,348.0783 L666.4316,373.3532 C666.1736,380.5081,665.3315,384.4552,657.7822,383.178 C654.6624,382.8919,651.5086,381.3262,650.161,380.0889 L651.5336,376.9747 C652.8239,378.685,654.2884,379.5067,655.673,379.487 C658.6709,379.486,660.9615,375.9777,660.9733,371.6079 C660.2205,370.335,655.4808,359.0513,652.6392,348.5426 M677.7126,347.5618 L700.4644,347.6249 L700.9668,348.7208 L682.1901,372.433 L689.9052,372.6522 C694.0407,372.6489,697.8002,372.429,696.899,371.2012 C696.6487,370.397,696.3108,370.0622,695.8978,368.4579 L697.9441,367.3755 C698.2666,369.6292,698.4905,371.2422,698.1834,374.1274 C695.6493,374.2381,686.5403,374.2813,693.8605,374.1873 L693.8418,374.6861 C689.9949,374.5578,680.6192,374.5426,671.2029,374.5733 L671.0419,373.4708 C674.99,366.987,684.2925,360.7492,691.9539,349.3669 L681.5956,349.3658 C678.4238,349.3698,676.1059,351.1414,675.6169,352.488 L674.7267,354.5553 L673.5117,354.4298 L672.952,354.2081 L672.3078,354.1817 L671.7551,354.119 L671.3511,353.9747 L671.1079,353.7579 L670.967,352.4235 L671.8108,349.6213 L672.4798,347.745 L672.5444,346.9065 L672.7424,343.6536 L673.6322,342.6169\" fill=\"rgb(40,40,40)\"/>\n<path d=\"M13.1952,400.6222 C15.8433,400.6265,18.1773,400.6246,21.1517,402.913 C21.783,404.7056,22.1112,405.9502,21.5523,409.6342 L21.5052,423.5618 C21.7121,425.4581,22.1846,426.1226,23.8053,426.6042 L24.5708,427.2799 C23.2362,427.3436,22.3942,427.3161,20.3053,427.1299 C18.636,426.8904,17.9342,424.6226,17.556,424.5669 C15.8895,425.4624,12.7217,426.5732,10.1326,426.9824 C5.6491,427.5797,1.1418,423.715,0,417.8393 C-0.8851,412.9026,3.8565,408.483,9.7569,407.0523 C12.9411,406.406,16.1204,405.7748,16.4562,406.3933 C17.2287,404.9926,15.6799,404.6142,13.4439,405.5066 C10.7657,406.3057,7.7269,407.3084,8.6073,408.4599 C8.8911,409.1154,8.393,409.4274,7.8219,409.3693 C5.9145,409.3684,4.2642,407.4094,4.0581,407.0421 C2.9562,404.9897,4.9679,402.164,8.1032,401.4695 C9.325,401.2001,11.1231,400.9588,12.4066,401.0568 M15.7296,411.3717 C11.7387,411.6422,8.1555,413.484,6.3174,414.9805 C3.9956,416.7715,4.2359,418.4622,4.761,422.0572 C5.1865,425.5043,8.2041,427.2359,12.5382,427.3119 C16.3646,427.394,19.8785,424.7849,20.1556,423.2482 C20.1734,421.7655,20.4466,414.9195,20.1766,412.8686 C19.2988,411.4485,17.0999,410.7981,15.12,411.4293 M31.6172,389.4187 L31.5729,404.2669 C33.2732,402.035,34.0617,400.9887,36.5203,401.2281 C42.003,401.7524,46.1552,403.7536,45.3669,404.2357 C47.6568,406.5826,50.2643,411.01,50.8541,413.5205 C51.5178,418.8315,50.6263,423.2887,43.5646,424.2802 C39.5214,425.1552,34.3968,423.9338,31.4059,420.6907 L31.4067,422.926 L29.602,424.659 L29.1063,387.1628 L31.7628,386.6015 M40.6229,401.465 C35.9677,401.6196,33.2407,404.8232,32.2737,411.4782 C31.6463,418.3508,33.4796,421.1888,40.6429,421.1354 C45.7061,420.9812,49.2589,417.0835,49.5929,410.8946 C49.9884,405.3232,46.1264,401.2237,41.1858,400.5563 M67.0793,400.3548 C71.0429,400.3591,71.2955,400.3573,74.0905,402.1035 C77.2761,404.0693,77.031,403.866,77.4567,407.1894 L74.2113,407.1555 C73.6517,404.8141,73.5016,405.1834,72.2489,403.3498 C70.9481,401.6607,70.8705,401.6417,68.5412,401.4146 C65.6276,401.349,65.9154,401.4805,63.9185,403.9656 C61.8307,406.4322,61.7625,406.4404,61.2177,410.8842 C61.0821,412.2166,61.0349,412.2263,61.106,416.2204 C61.1968,419.7421,61.2619,419.4255,61.756,422.2358 C62.2966,424.7912,62.3001,424.7925,63.6251,426.5249 C65.0236,428.2253,65.0254,428.2159,67.4321,428.3122 C70.1913,428.3569,69.9077,428.3981,72.3267,425.89 C74.7696,423.4664,74.7554,423.4697,75.9287,419.8228 L78.6788,419.825 C77.809,423.9719,77.7864,424.4528,74.8301,426.8581 C71.8775,429.3303,71.8023,429.3325,67.4325,429.34 C63.3658,429.3404,63.3571,429.3328,60.7906,427.373 C58.3002,425.5563,58.1796,425.5416,56.8511,422.5676 C55.5721,419.6316,55.4848,419.6231,55.3895,416.0135 C55.3475,412.6154,55.3029,412.5912,56.5075,409.8208 C57.7248,406.9854,57.7132,406.9807,59.9039,405.0397 C62.2093,403.1451,62.1921,403.1236,65.4295,403.0035 M103.5126,390.1174 L105.3505,390.1746 L105.1802,424.482 L102.6922,426.6239 L101.8424,424.0625 C100.2196,426.0594,99.7939,426.4536,93.5303,426.6221 C87.322,426.6727,88.3098,426.5889,85.6383,422.0319 C83.2498,417.9965,83.1577,417.9685,83.2142,411.6189 C82.9995,405.4858,83.2068,405.427,85.8579,400.9098 C89.0078,395.5771,88.9895,395.9611,94.7214,395.9652 C99.2546,395.9659,98.4984,395.9583,101.713,399.6677 L102.962,388.6005 M95.3187,399.5115 C90.9298,399.5113,90.9928,399.5023,88.4132,403.0864 C86.1335,406.4029,86.0671,406.4241,86.1241,411.6899 C86.0272,416.9586,86.199,416.954,88.5236,420.2161 C91.137,423.7849,91.1278,423.8236,95.5792,423.7335 C99.4344,423.7147,99.7978,423.7004,102.0628,420.7843 C104.3344,417.947,104.3202,417.9374,104.2643,413.5651 C103.9894,408.9332,104.2812,408.9375,102.7973,404.7519 C101.1138,399.8864,100.8801,399.8885,96.2215,399.8217 M119.9968,400.369 C124.6215,400.373,124.7069,400.3714,127.6863,403.0861 C130.84,406.0808,130.7772,405.8497,130.9032,410.9788 L113.5774,410.9584 C113.3551,415.0062,113.4232,416.7536,113.507,416.6772 C114.3027,421.1499,113.9337,419.9595,115.6125,421.8016 C117.573,424.048,117.8663,423.6512,121.7807,424.0353 C125.0285,424.1655,124.8133,424.2058,127.2041,422.9462 C129.6192,421.7018,129.612,421.6872,130.7847,419.0571 L132.5941,420.0643 C130.8387,423.9286,130.7186,423.4456,127.7637,425.7297 C124.8388,427.8274,124.758,427.8274,121.0656,427.8758 C116.0748,427.8752,116.1084,427.8689,113.0785,424.6509 C109.9907,421.2215,109.854,421.197,109.8859,415.6633 C109.6708,409.6248,109.903,409.7081,113.1973,405.6373 C116.6305,401.5897,116.5937,401.5774,122.0233,401.6742 M121.9364,403.7036 C118.4175,403.7038,118.5567,403.6959,116.2241,406.2833 C114.026,408.7759,113.9603,408.7801,113.8227,412.6872 L129.6203,412.6873 C129.3126,407.6001,129.6179,408.662,127.7648,407.1838 C125.9467,405.7563,125.8545,405.577,121.7985,405.7213 M151.4629,389.9416 L151.4337,394.6531 L147.2841,394.6116 L146.716,403.7502 L151.0526,403.7154 L150.9423,408.6958 L147.48,408.72 L147.4641,426.8094 L140.7881,428.9829 L140.4121,406.8694 L137.1295,406.9996 L137.1462,402.6979 L139.4742,402.3411 C139.7973,396.5565,140.0747,393.6889,139.8122,391.4363 L148.1183,390.8099 M165.093,400.3772 C167.7568,400.3815,170.0059,400.3797,169.9833,402.4009 L168.4861,404.1567 C167.3572,402.5523,165.1632,401.339,163.1043,400.6239 C159.1305,400.2203,155.7204,406.715,155.9984,407.8878 C156.3467,413.4811,159.775,418.2873,165.317,422.6536 C168.3867,424.6747,170.8416,424.7211,174.3545,423.6155 L174.3825,407.8846 C173.5422,406.2962,171.7959,405.6653,170.6347,405.25 C169.6823,405.0425,169.5859,404.7932,169.8486,404.3842 C169.9679,403.957,171.5655,403.8196,171.4857,404.0658 L176.0255,404.3442 C177.2747,405.5576,177.8005,404.7269,179.2102,404.824 C180.2107,405.05,180.4807,405.2339,180.21,405.7473 C179.5505,406.3587,179.094,406.7544,179.3017,407.0937 L179.57,425.696 C179.5095,427.3257,177.0458,427.8301,173.6574,428.4086 C167.8645,428.836,161.4174,428.1326,159.7144,424.817 C156.5181,421.5855,157.2882,413.1561,158.2227,409.0285 C159.3424,404.325,162.9411,401.4644,167.9518,401.2751 M186.3622,389.4655 L186.3189,404.7531 C188.0183,402.599,188.8242,401.5284,191.2578,401.7179 C196.205,402.1573,200.3197,406.4169,199.5079,402.0838 C200.4312,402.1379,203.0459,403.8757,203.666,403.1963 C204.9784,404.5536,205.6472,406.3811,206.06,404.6937 C206.4756,406.1646,206.534,408.8179,207.0721,422.9271 C206.8329,424.2794,205.3222,424.8171,204.0933,425.371 C202.9695,421.5818,202.2324,417.052,202.2023,406.6135 C201.3842,402.0723,198.5,400.643,195.6055,400.8213 C191.7943,401.2849,189.3047,406.0366,188.5167,407.5175 C188.1461,412.7006,188.1111,416.575,188.2906,423.4433 C187.1678,423.5527,185.7369,423.6361,184.7906,423.5512 C184.9321,414.8099,184.7624,407.8327,184.7454,389.9279 C185.4398,389.2507,186.4811,388.6232,188.0899,389.1419 M217.1607,391.1164 C218.5676,391.1199,218.571,391.118,220.2162,392.0177 C221.9741,393.0082,221.9295,392.9222,222.1635,394.2925 C222.2289,395.3171,222.2006,395.4156,219.3075,396.3274 C216.7899,397.1444,216.7039,397.139,215.4497,397.101 C213.706,397.0624,213.9641,397.052,213.2589,396.0751 C212.6243,395.1436,212.5754,395.1283,212.6701,393.9971 C212.7822,392.9377,212.8384,392.6919,213.8905,392.0627 C214.9897,391.4191,214.9902,391.4096,216.5474,391.4354 M216.7618,401.2267 C218.4757,401.2261,218.1324,401.2171,218.507,402.0027 C218.8803,402.7626,218.8799,402.7559,218.7745,404.2193 C218.6693,405.6648,218.6492,405.6403,218.5775,407.4403 C218.5143,409.2172,218.4853,409.2077,218.4865,410.908 C218.3443,412.5201,218.4914,412.5263,218.6224,415.9417 C218.766,419.2448,218.759,419.2529,218.8179,421.4687 C218.8926,423.6356,218.9008,423.6482,218.9681,425.0358 C219.052,426.3642,219.0552,426.3632,219.0764,427.1611 C218.9361,427.9236,219.0923,427.9284,218.5859,428.3944 C218.1224,428.8357,218.0808,428.8247,217.2052,428.8418 C215.954,428.8426,216.3217,428.8355,215.2834,428.5788 C214.3704,428.3273,214.3157,428.3223,213.5935,427.941 C212.8879,427.5586,212.8367,427.5504,212.3961,427.0107 C211.9764,426.4638,211.9254,426.4596,211.8781,425.7176 C211.6915,424.7178,211.8457,424.6552,211.7557,421.2053 C211.6867,417.4879,211.6285,417.4636,211.6075,413.902 C211.5988,410.4007,211.5454,410.3881,211.6236,407.446 C211.7205,404.5048,211.7115,404.5046,212.0063,402.506 C212.2904,401.917,212.1711,401.8972,212.7561,401.3037 C213.2965,400.7251,213.2904,400.7184,214.0816,400.5108 C214.8747,400.2841,214.8716,400.2905,215.8151,400.2849 M238.8149,391.098 C240.3355,391.1017,240.2897,391.1,241.9922,391.9416 C243.7511,392.7582,243.7131,392.7591,244.0377,394.2012 C244.1284,394.7406,244.0995,394.7081,243.7492,396.3858 C243.3884,397.8145,243.36,397.9769,242.8101,398.6733 C241.7306,399.6518,242.0161,399.7366,240.4199,399.8694 C238.6688,399.993,238.8552,399.9859,237.7819,399.5842 C236.726,399.1652,236.6738,399.1544,235.7001,398.0669 C234.7494,396.9608,234.6941,396.9433,234.5209,395.5762 C234.3741,394.1938,234.47,394.1763,234.9667,393.3697 C235.4569,392.5336,235.4556,392.5182,236.3961,392.2123 C237.3407,391.883,237.3411,391.8709,238.4252,391.9127 M239.3054,403.2252 C240.7541,403.2234,240.4733,403.2145,240.8636,403.9121 C241.2295,404.554,241.2278,404.549,241.2498,405.7986 L241.2451,424.8381 C241.0969,427.894,241.2516,427.3088,240.7127,430.4123 C240.2041,433.2213,240.1626,433.2184,238.9864,435.4778 C237.8092,437.6871,237.7542,437.6829,235.9052,439.0399 C234.0889,440.34,234.0199,440.3323,231.6131,440.3226 C230.1183,440.3229,230.2027,440.3161,229.1077,439.8255 C228.0528,439.3701,227.9908,439.3644,227.4013,438.5795 C226.82,437.8091,226.7702,437.7982,226.6989,436.8409 C226.6346,435.8966,226.5974,435.8947,227.0341,435.0829 C227.5835,434.2617,227.4817,434.2496,228.314,433.9026 C229.1089,433.5422,229.1065,433.5376,230.0604,433.583 C231.1142,433.6362,231.0204,433.6291,231.6613,434.0906 C232.2514,434.5325,232.2469,434.5228,232.4592,434.9875 C232.6862,435.4454,232.6835,435.437,232.7891,435.7668 C232.9129,436.0971,232.9097,436.0895,233.004,436.1827 C233.3923,436.2857,233.4123,436.2812,233.4441,435.3742 C233.4885,434.4693,233.4982,434.4592,233.4714,432.888 C233.4508,431.2869,233.407,431.2834,233.4244,429.5882 C233.4416,427.8928,233.4004,427.8887,233.4012,426.2791 L233.3878,412.4694 C233.2181,411.4394,233.4003,411.3984,233.1284,410.9279 C232.8881,410.453,232.8435,410.4457,232.3154,410.33 C231.7964,410.2127,231.7506,410.2025,231.1835,410.1742 C230.629,410.1351,230.5862,410.1264,230.2288,410.0598 C229.8669,409.9883,229.8324,409.9798,229.3327,409.4387 C228.8475,408.8874,228.8019,408.8751,228.8485,408.0882 C228.8916,407.2845,228.924,407.2703,229.6261,406.6684 C230.3265,406.0546,230.3254,406.0486,231.4053,405.9409 C233.0222,405.6822,233.2988,405.5903,235.0501,405.6394 C236.8802,405.6874,236.8846,405.6839,238.173,405.6983 M248.8675,389.4884 L248.82,411.1292 L256.1064,401.4566 C258.1593,400.0883,258.6102,399.4423,261.8214,400.3215 C265.2443,401.2532,265.4542,401.1131,267.5133,402.9848 C269.6202,404.8431,269.6085,404.8449,269.9672,407.9704 C270.0735,410.5529,270.0543,410.6154,266.637,412.4194 C263.5301,414.1408,263.4664,414.147,260.4897,414.461 L266.438,424.6582 C267.5917,426.3403,267.8266,426.6073,269.1465,426.7934 C270.4662,426.9816,270.4621,426.9755,271.7877,426.621 L273.8293,427.6925 C272.6551,428.5086,272.4329,428.5935,271.0483,429.0892 C269.6673,429.5659,269.6096,429.5599,268.1273,429.5572 C265.8831,429.5578,266.3617,429.5505,264.9707,428.8122 C263.7592,428.0872,263.687,428.0819,262.8137,426.7539 L256.2593,416.3284 L251.8377,415.7697 L251.8213,427.3937 L248.691,427.3935 L248.5731,390.9484 L250.407,390.322 M260.5358,404.125 C257.7182,404.1255,258.2814,404.1177,255.9376,405.0217 C253.7363,405.9242,253.6627,405.9155,251.9836,407.6513 L251.9462,416.655 C254.0983,416.5784,254.5079,416.7542,258.1874,415.9199 C261.5195,415.1322,261.512,415.1252,264.0679,413.2954 C266.6224,411.5751,266.6063,411.5781,267.1357,409.1835 C267.7435,406.7133,267.6673,406.6916,265.7029,405.4439 C263.6888,404.1432,263.6024,404.1325,260.2243,404.1798 M278.97,389.9973 L285.1913,390.0388 L285.0155,426.8025 L278.3727,426.7948 L278.3647,390.0621 M299.7919,400.6154 C303.286,400.6197,303.5974,400.6181,305.546,402.3535 C307.8186,403.9813,307.4927,400.5694,308.0355,407.0771 C309.0124,402.3558,309.466,402.2851,310.7494,400.6788 C312.4119,398.7667,312.5223,398.7711,315.9484,399.0263 C319.5536,399.3278,319.2306,399.4887,320.6714,401.0721 C322.0421,402.7664,322.066,402.685,322.0225,406.1507 L322.0056,427.8415 L318.8484,427.8409 L318.8356,407.6988 C318.6339,404.8857,318.829,404.8076,317.6266,403.0284 C316.5781,401.4033,316.503,401.3871,314.3318,401.3177 C311.8013,401.3048,312.0737,401.2921,310.4719,402.8297 C308.9654,404.3126,308.9032,404.3166,308.5211,407.1445 C308.1934,409.5302,308.163,408.0291,308.2284,411.9898 L308.2125,427.8129 L305.3546,427.8119 L305.3411,408.6892 C305.1338,405.5293,305.3292,405.4355,304.3504,403.2031 C303.544,401.115,303.4687,401.1031,301.7483,400.5287 C300.0749,400.0132,300.0238,400.004,298.1915,400.6656 C296.395,401.3088,296.3332,401.3061,294.9205,403.1285 C293.5468,404.8953,293.4913,404.8967,292.9888,407.6357 C292.5001,410.3109,292.4628,410.2458,292.5413,413.779 L292.5445,428.262 L289.7398,428.261 L289.7267,399.2765 L292.3593,399.126 L292.3226,403.3962 C293.4696,400.5344,293.7336,400.7563,295.0169,400.5021 C296.9167,400.2242,297.0441,400.2147,298.8984,400.274 M339.4421,400.2551 C344.0655,400.2593,344.0846,400.2576,346.6248,402.7595 C349.22,405.3439,349.17,405.2478,349.1453,410.045 L349.115,428.4597 L345.7192,428.4596 L345.7067,411.2816 C345.5141,407.8883,345.7064,407.8094,343.8507,405.5088 C342.0578,403.3541,341.9618,403.3344,338.7043,403.2964 C334.9379,403.2968,335.3096,403.2891,333.0661,404.801 C330.9767,406.2804,330.8946,406.2792,330.1964,409.2185 C329.6329,410.1618,329.6021,410.1767,329.6638,414.2684 L329.6499,429.3678 L326.5681,429.368 L326.5579,401.4716 L329.2518,401.4718 L329.2241,406.009 C330.623,402.681,330.984,402.9731,332.509,402.7145 C335.0423,402.1792,335.2647,402.1566,338.9782,402.4506 M367.8259,399.8565 C370.5318,399.8607,373.1633,399.8592,376.5466,403.2296 C379.6199,406.5054,380.5322,409.3812,380.3114,413.5737 C379.8264,418.0325,378.8798,420.5606,375.7405,424.1095 C372.9534,426.9138,370.5949,428.1681,366.1677,428.1692 C361.2448,428.1691,360.9812,426.8373,357.5435,423.2479 C354.892,420.1386,353.7552,416.3964,353.6807,412.4116 C353.4179,408.3321,354.5796,405.8305,357.4996,402.2439 C360.1821,399.2615,363.1199,397.9095,366.5389,398.001 M366.4883,399.9554 C362.5403,399.9556,362.2092,402.9873,359.6587,406.0179 C357.7251,408.6513,356.8631,411.8151,356.9015,415.3278 C356.7398,419.0569,357.6104,420.9678,359.6736,424.1787 C361.7035,426.8427,363.8022,428.3995,366.8285,427.7012 C369.9098,427.1254,372.0507,424.8367,373.3222,422.3437 C374.6351,419.773,375.3242,416.4722,375.2734,412.994 C374.9659,409.6391,373.6982,406.6785,372.492,404.2249 C371.0476,401.6515,369.1429,400.1889,365.8464,400.3378 M398.8755,399.991 C403.7686,399.995,403.7336,399.9934,406.5299,403.2571 C409.4555,406.7821,409.4101,406.6504,409.4218,412.6428 C409.4185,418.5164,409.4426,418.8516,406.152,423.2381 C402.815,427.8249,402.712,427.883,396.9453,427.8907 C393.0357,427.8911,393.7361,427.8843,391.3782,426.4459 C389.2008,425.0233,389.1059,425.0142,388.09,422.1113 L388.0742,437.5608 L384.8551,437.5606 L384.8468,400.196 L387.8224,400.1963 L387.7818,404.3349 C389.5701,401.2367,390.0541,401.329,391.7819,400.1705 C393.806,399.07,393.8097,399.0547,397.0876,399.0594 M395.9635,401.8135 C392.2135,401.8144,392.2595,401.8058,389.8238,404.2488 C387.4514,406.9427,387.3649,406.7883,387.2869,411.4798 C387.0957,415.7639,387.2967,416.1847,389.2114,419.46 C391.4261,423.2343,391.4133,422.9203,395.5261,423.1771 C398.987,423.1649,399.2823,423.1115,400.9832,420.1674 C402.7983,417.295,402.7956,417.2791,402.8007,412.7152 C402.5994,407.9276,402.8044,407.9616,400.8455,404.9832 C398.887,401.9176,398.7799,401.9009,395.0463,401.8752 M427.3558,400.4601 C430.1428,400.4646,432.6988,400.4628,435.713,403.0394 C436.2848,403.3697,436.7191,403.8587,435.9646,400.473 L438.2956,400.4693 C438.0363,402.6917,437.7897,412.1261,437.9122,435.3406 L435.0748,436.9091 C435.127,430.9351,435.2032,426.939,434.779,420.5098 C432.7685,423.7608,429.3266,425.3983,425.1391,425.8036 C419.4713,426.3076,414.5598,419.4813,413.9573,410.7268 C413.3643,403.174,417.8741,397.2727,425.1956,396.0727 M426.7376,398.5153 C420.9488,398.7988,418.7179,404.8005,419.7555,410.3228 C420.2669,417.0219,424.1371,421.2866,428.8716,422.1803 C433.3613,422.9333,436.937,417.8616,437.5183,411.092 C437.7823,405.003,434.5402,398.8923,429.3774,398.2816 M444.7425,400.667 L456.612,400.7171 C460.7684,400.714,461.8183,400.7168,462.1531,406.7878 C462.146,411.7197,459.2992,413.6281,456.028,414.207 L461.3891,426.9823 C461.7648,428.6145,461.8528,429.1905,461.1174,429.6804 C460.3928,430.0541,459.5531,430.1528,459.2976,430.0031 C458.4325,429.6665,458.1472,429.1385,458.4259,428.5601 L456.0465,416.5942 L448.711,416.607 L448.7045,426.6971 C448.7974,427.9453,448.4467,428.3827,447.7458,428.3822 L445.6373,428.3821 C444.7804,428.4006,444.5841,427.7557,444.4361,427.213 L442.831,402.1992 C442.5377,401.4285,443.2827,400.9627,444.0292,400.9411 M454.3971,403.753 L446.2435,403.754 L445.4318,415.0549 L450.9744,415.0542 C453.7479,413.6804,458.0124,411.3723,457.8371,408.0328 C457.5718,405.7432,456.032,404.4836,453.1577,404.5958 M469.5359,400.0212 C471.9532,400.0251,473.8347,400.0236,474.1225,401.0821 C474.2455,401.6337,474.5386,402.1883,473.7685,403.3908 C472.9808,403.5507,472.2449,402.1426,472.0717,403.2857 C471.3298,403.2816,470.7302,403.4341,470.4445,404.4771 C469.8603,405.4761,470.8407,407.8732,472.6732,408.0058 C475.2911,408.4012,478.5464,410.0395,477.984,409.9067 C478.3946,410.2902,479.4221,411.6348,477.8414,411.9042 C477.189,412.3511,477.0323,414.6856,475.6161,414.0862 C475.1738,413.7569,475.9378,414.9511,473.9849,414.4048 C473.3747,414.019,473.5359,415.1316,472.1169,414.8407 C471.3003,414.5435,471.3532,415.4252,470.0507,414.7708 C468.9822,414.257,468.642,414.4469,468.0782,414.0832 C467.1122,413.5786,466.6189,413.9713,466.6885,413.5432 C466.683,413.0563,466.7086,412.0858,467.0858,412.3148 C467.7305,412.5969,468.2697,413.0365,467.931,413.4028 C467.4439,413.8823,467.1569,414.084,466.9293,414.7854 C466.574,415.4662,466.9193,415.953,467.3872,417.2966 C468.2346,418.5707,468.4656,419.2375,469.8476,420.4811 C471.5774,421.6515,473.2459,422.13,473.8839,422.2693 C475.4929,422.5812,476.578,422.3075,476.3159,420.9597 C476.1145,419.8654,475.4597,419.3064,475.3628,417.728 C475.0584,416.3694,475.5118,415.7955,476.384,415.3199 C477.2982,414.9379,478.0829,414.687,478.3568,415.2321 C478.556,415.8198,479.1265,416.988,478.5056,418.2591 C477.9061,419.2592,477.4266,419.8076,476.9863,421.3352 C476.5536,422.4823,476.4453,423.16,476.4108,424.8044 C476.1708,425.9193,476.4915,426.4704,476.3913,427.4523 C476.0925,428.2936,475.7425,428.6948,475.1065,429.2118 C474.0334,429.7284,473.2003,429.8469,472.7683,429.6591 C471.7189,429.2984,471.3896,428.9447,471.5289,427.2183 C471.4522,426.0268,471.8324,425.4723,472.0852,424.0649 C471.9757,422.944,470.4652,422.4358,472.0483,422.1401 C472.5003,421.8842,471.896,421.4411,473.0573,421.023 C473.8679,420.5094,474.1706,420.1903,474.5284,418.8685 C474.5951,417.7622,474.8664,417.2207,473.976,416.0964 C472.8498,415.157,470.5771,414.8835,471.1648,414.6046 C471.0472,414.3351,470.0491,414.2231,471.1952,413.7967 C471.7701,413.3592,471.4197,413.1161,472.3583,412.1204 C472.7441,411.2496,471.8922,410.8496,473.3299,410.5911 C474.0128,410.3168,473.7412,410.1817,474.6468,409.6417 C475.0879,409.0544,474.2047,408.7456,475.4947,408.4973 C475.7033,408.2033,474.8171,408.049,475.9413,407.2951 C476.1162,406.6401,474.9431,406.3273,476.3307,405.5024 C476.1565,404.8886,474.7344,404.6441,472.9909,404.1033 C470.9064,403.5864,469.2027,403.4212,469.4526,403.7377 C469.6904,404.1456,469.9634,404.6699,469.6745,405.9102 C469.2071,407.122,468.7642,408.6225,468.4753,409.9127 C467.9079,411.3387,468.0458,412.9882,468.2487,414.2523 C468.3489,415.5685,468.9206,416.3033,469.6761,417.8417 C470.4072,419.0865,470.7728,419.8882,470.6477,421.1749 M494.687,394.231 L494.6572,404.5508 L499.2904,404.5271 L499.277,408.9144 L494.7514,408.8751 L494.7063,422.969 C494.9666,425.485,495.4543,426.4127,497.0255,426.2379 C497.9698,426.0429,498.7041,425.092,499.1594,424.7473 L500.1362,427.8826 C498.4695,429.6302,495.4562,431.546,492.5618,431.2596 C489.1036,430.8291,486.3701,426.5861,486.0807,421.6811 C485.7079,419.4103,485.975,410.7442,486.0444,407.3576 L483.183,407.3622 L483.041,404.8756 L483.6047,402.7082 L483.4134,399.2273 L483.2329,395.8616 L483.1291,393.0087 L483.2875,390.8769 L483.926,389.5207 L484.6538,388.7838 L485.1651,388.1442 L485.5298,387.57 L492.0566,387.2451 L495.3308,386.9441 M507.5277,400.9344 L508.6559,401.0536 L508.6517,418.5564 C508.5588,422.5483,508.7744,421.7872,509.9713,424.3912 C511.2074,426.6877,511.2168,426.6886,513.6857,427.6459 C514.649,428.5163,514.597,428.5144,517.9992,428.3774 C521.4084,428.2913,521.4251,428.2738,522.9573,427.0269 C524.5357,425.7705,524.5323,425.7526,525.1284,423.064 C525.7591,420.4917,525.7519,420.4913,525.6984,417.1069 L525.5318,401.3689 L527.7641,401.2521 L527.7224,423.4606 C527.5696,426.5855,527.723,425.9719,527.0638,428.8793 C526.4542,431.3791,526.4138,431.3755,524.9769,433.2145 C523.5536,434.9746,523.4909,434.9679,521.2227,435.8415 C519.0094,436.7275,518.9309,436.7207,516.1098,436.6954 C513.1613,436.6934,513.1223,436.6859,510.9379,435.7524 C508.8261,434.8376,508.728,434.8254,507.3539,433.087 C506.0071,431.3668,505.922,431.3565,505.2943,428.9236 C504.7,426.5066,504.6294,426.4991,504.6801,423.4766 L504.6716,405.6866 L506.2402,405.3933 M535.0646,400.5073 L538.1648,423.4894 L547.7309,398.901 L552.1408,398.8917 L546.1418,425.6479 L541.7282,429.1457 L532.2996,400.4084 L535.5943,399.434 M561.2968,400.3924 L564.1137,400.4379 L568.9618,421.7609 L569.7617,400.2099 L573.4874,400.2124 L579.3557,423.0266 L585.1098,401.7319 L589.3291,401.7326 L584.5262,431.9235 L580.8942,431.9253 L574.0713,410.1111 L567.8544,431.5839 L564.7915,431.605 L556.6762,404.3129 L558.8604,403.7203 M595.7808,400.323 L599.4508,400.3675 L607.1222,410.4796 L615.0675,400.2929 L619.3084,400.2939 L608.6768,413.2298 L619.9156,428.4495 L616.2427,428.4508 L607.0446,416.9538 L597.6461,428.573 L593.8645,428.5767 L604.7325,414.6738 L595.1031,401.9013 M624.4511,400.7158 L627.5401,400.7881 L633.2985,421.8646 L634.4974,400.9883 L639.4771,400.9891 L643.9311,428.22 C643.748,435.2912,643.0737,439.3102,636.2322,437.9656 C633.3268,437.6031,630.3289,436.6296,628.8244,435.389 L629.9047,432.523 C631.1372,433.5127,632.4991,434.8056,633.8032,434.7972 C636.7056,434.7956,638.8674,431.1016,638.8858,426.7784 L630.3472,402.3115 M655.3971,400.4117 L677.5317,400.4745 L678.0036,401.5772 L659.2193,426.7008 L666.8147,426.9145 C671.0268,426.9104,674.7984,426.6637,673.9516,425.4355 C673.7677,424.6365,673.4519,424.2277,673.0391,422.5322 L675.0616,421.5596 C675.3353,423.8717,675.5416,425.4637,675.2504,428.3501 C672.6153,428.3627,663.6517,428.36,670.8303,428.3119 L670.7662,428.9474 C666.9061,428.7872,657.8186,428.7423,648.6056,428.8153 L648.4665,427.6392 C652.3465,420.8461,661.6602,414.3371,669.0983,402.0087 L659.0607,402.011 C655.8988,402.0145,653.5362,403.7404,653.1118,405.1359 L652.2441,407.3837 L651.2132,407.2129 L650.556,407.0212 L649.8911,406.9749 L649.3457,406.8729 L648.9425,406.7013 L648.6954,406.4624 L648.5582,405.0151 L649.3299,402.2392 L649.8869,400.3471 L649.9824,399.3006 L650.1532,396.5235 L651.0163,395.3738\" fill=\"rgb(40,40,40)\"/>\n</svg>"
          },
          "metadata": {
            "tags": []
          }
        }
      ]
    }
  ]
}